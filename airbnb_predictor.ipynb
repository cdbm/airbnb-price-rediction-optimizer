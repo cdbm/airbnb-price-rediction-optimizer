{
  "nbformat": 4,
  "nbformat_minor": 0,
  "metadata": {
    "colab": {
      "name": "airbnb-predictor",
      "provenance": [],
      "collapsed_sections": [],
      "include_colab_link": true
    },
    "kernelspec": {
      "name": "python3",
      "display_name": "Python 3"
    },
    "language_info": {
      "name": "python"
    }
  },
  "cells": [
    {
      "cell_type": "markdown",
      "metadata": {
        "id": "view-in-github",
        "colab_type": "text"
      },
      "source": [
        "<a href=\"https://colab.research.google.com/github/cdbm/airbnb-price-rediction-optimizer/blob/main/airbnb_predictor.ipynb\" target=\"_parent\"><img src=\"https://colab.research.google.com/assets/colab-badge.svg\" alt=\"Open In Colab\"/></a>"
      ]
    },
    {
      "cell_type": "code",
      "metadata": {
        "id": "Iple0wNCUL5B"
      },
      "source": [
        "import numpy as np \n",
        "import pandas as pd"
      ],
      "execution_count": 1,
      "outputs": []
    },
    {
      "cell_type": "markdown",
      "metadata": {
        "id": "wRMpaeduZYo7"
      },
      "source": [
        "# Database pre processing"
      ]
    },
    {
      "cell_type": "code",
      "metadata": {
        "id": "CSyF0uxzVHdk",
        "outputId": "7423cbf3-4ea9-45f7-b2e3-b73daed7b550",
        "colab": {
          "base_uri": "https://localhost:8080/",
          "height": 0
        }
      },
      "source": [
        "df = pd.read_csv(\"https://raw.githubusercontent.com/cdbm/airbnb-price-rediction-optimizer/main/AB_NYC_2019.csv\")\n",
        "df.head()"
      ],
      "execution_count": 2,
      "outputs": [
        {
          "output_type": "execute_result",
          "data": {
            "text/html": [
              "<div>\n",
              "<style scoped>\n",
              "    .dataframe tbody tr th:only-of-type {\n",
              "        vertical-align: middle;\n",
              "    }\n",
              "\n",
              "    .dataframe tbody tr th {\n",
              "        vertical-align: top;\n",
              "    }\n",
              "\n",
              "    .dataframe thead th {\n",
              "        text-align: right;\n",
              "    }\n",
              "</style>\n",
              "<table border=\"1\" class=\"dataframe\">\n",
              "  <thead>\n",
              "    <tr style=\"text-align: right;\">\n",
              "      <th></th>\n",
              "      <th>id</th>\n",
              "      <th>name</th>\n",
              "      <th>host_id</th>\n",
              "      <th>host_name</th>\n",
              "      <th>neighbourhood_group</th>\n",
              "      <th>neighbourhood</th>\n",
              "      <th>latitude</th>\n",
              "      <th>longitude</th>\n",
              "      <th>room_type</th>\n",
              "      <th>price</th>\n",
              "      <th>minimum_nights</th>\n",
              "      <th>number_of_reviews</th>\n",
              "      <th>last_review</th>\n",
              "      <th>reviews_per_month</th>\n",
              "      <th>calculated_host_listings_count</th>\n",
              "      <th>availability_365</th>\n",
              "    </tr>\n",
              "  </thead>\n",
              "  <tbody>\n",
              "    <tr>\n",
              "      <th>0</th>\n",
              "      <td>2539</td>\n",
              "      <td>Clean &amp; quiet apt home by the park</td>\n",
              "      <td>2787</td>\n",
              "      <td>John</td>\n",
              "      <td>Brooklyn</td>\n",
              "      <td>Kensington</td>\n",
              "      <td>40.64749</td>\n",
              "      <td>-73.97237</td>\n",
              "      <td>Private room</td>\n",
              "      <td>149</td>\n",
              "      <td>1</td>\n",
              "      <td>9</td>\n",
              "      <td>2018-10-19</td>\n",
              "      <td>0.21</td>\n",
              "      <td>6</td>\n",
              "      <td>365</td>\n",
              "    </tr>\n",
              "    <tr>\n",
              "      <th>1</th>\n",
              "      <td>2595</td>\n",
              "      <td>Skylit Midtown Castle</td>\n",
              "      <td>2845</td>\n",
              "      <td>Jennifer</td>\n",
              "      <td>Manhattan</td>\n",
              "      <td>Midtown</td>\n",
              "      <td>40.75362</td>\n",
              "      <td>-73.98377</td>\n",
              "      <td>Entire home/apt</td>\n",
              "      <td>225</td>\n",
              "      <td>1</td>\n",
              "      <td>45</td>\n",
              "      <td>2019-05-21</td>\n",
              "      <td>0.38</td>\n",
              "      <td>2</td>\n",
              "      <td>355</td>\n",
              "    </tr>\n",
              "    <tr>\n",
              "      <th>2</th>\n",
              "      <td>3647</td>\n",
              "      <td>THE VILLAGE OF HARLEM....NEW YORK !</td>\n",
              "      <td>4632</td>\n",
              "      <td>Elisabeth</td>\n",
              "      <td>Manhattan</td>\n",
              "      <td>Harlem</td>\n",
              "      <td>40.80902</td>\n",
              "      <td>-73.94190</td>\n",
              "      <td>Private room</td>\n",
              "      <td>150</td>\n",
              "      <td>3</td>\n",
              "      <td>0</td>\n",
              "      <td>NaN</td>\n",
              "      <td>NaN</td>\n",
              "      <td>1</td>\n",
              "      <td>365</td>\n",
              "    </tr>\n",
              "    <tr>\n",
              "      <th>3</th>\n",
              "      <td>3831</td>\n",
              "      <td>Cozy Entire Floor of Brownstone</td>\n",
              "      <td>4869</td>\n",
              "      <td>LisaRoxanne</td>\n",
              "      <td>Brooklyn</td>\n",
              "      <td>Clinton Hill</td>\n",
              "      <td>40.68514</td>\n",
              "      <td>-73.95976</td>\n",
              "      <td>Entire home/apt</td>\n",
              "      <td>89</td>\n",
              "      <td>1</td>\n",
              "      <td>270</td>\n",
              "      <td>2019-07-05</td>\n",
              "      <td>4.64</td>\n",
              "      <td>1</td>\n",
              "      <td>194</td>\n",
              "    </tr>\n",
              "    <tr>\n",
              "      <th>4</th>\n",
              "      <td>5022</td>\n",
              "      <td>Entire Apt: Spacious Studio/Loft by central park</td>\n",
              "      <td>7192</td>\n",
              "      <td>Laura</td>\n",
              "      <td>Manhattan</td>\n",
              "      <td>East Harlem</td>\n",
              "      <td>40.79851</td>\n",
              "      <td>-73.94399</td>\n",
              "      <td>Entire home/apt</td>\n",
              "      <td>80</td>\n",
              "      <td>10</td>\n",
              "      <td>9</td>\n",
              "      <td>2018-11-19</td>\n",
              "      <td>0.10</td>\n",
              "      <td>1</td>\n",
              "      <td>0</td>\n",
              "    </tr>\n",
              "  </tbody>\n",
              "</table>\n",
              "</div>"
            ],
            "text/plain": [
              "     id  ... availability_365\n",
              "0  2539  ...              365\n",
              "1  2595  ...              355\n",
              "2  3647  ...              365\n",
              "3  3831  ...              194\n",
              "4  5022  ...                0\n",
              "\n",
              "[5 rows x 16 columns]"
            ]
          },
          "metadata": {
            "tags": []
          },
          "execution_count": 2
        }
      ]
    },
    {
      "cell_type": "code",
      "metadata": {
        "id": "gTT91va_nFyi",
        "outputId": "f1d561e8-9c50-4ec0-fd53-d8e8bf4f1d72",
        "colab": {
          "base_uri": "https://localhost:8080/",
          "height": 0
        }
      },
      "source": [
        "df.describe()"
      ],
      "execution_count": 3,
      "outputs": [
        {
          "output_type": "execute_result",
          "data": {
            "text/html": [
              "<div>\n",
              "<style scoped>\n",
              "    .dataframe tbody tr th:only-of-type {\n",
              "        vertical-align: middle;\n",
              "    }\n",
              "\n",
              "    .dataframe tbody tr th {\n",
              "        vertical-align: top;\n",
              "    }\n",
              "\n",
              "    .dataframe thead th {\n",
              "        text-align: right;\n",
              "    }\n",
              "</style>\n",
              "<table border=\"1\" class=\"dataframe\">\n",
              "  <thead>\n",
              "    <tr style=\"text-align: right;\">\n",
              "      <th></th>\n",
              "      <th>id</th>\n",
              "      <th>host_id</th>\n",
              "      <th>latitude</th>\n",
              "      <th>longitude</th>\n",
              "      <th>price</th>\n",
              "      <th>minimum_nights</th>\n",
              "      <th>number_of_reviews</th>\n",
              "      <th>reviews_per_month</th>\n",
              "      <th>calculated_host_listings_count</th>\n",
              "      <th>availability_365</th>\n",
              "    </tr>\n",
              "  </thead>\n",
              "  <tbody>\n",
              "    <tr>\n",
              "      <th>count</th>\n",
              "      <td>4.889500e+04</td>\n",
              "      <td>4.889500e+04</td>\n",
              "      <td>48895.000000</td>\n",
              "      <td>48895.000000</td>\n",
              "      <td>48895.000000</td>\n",
              "      <td>48895.000000</td>\n",
              "      <td>48895.000000</td>\n",
              "      <td>38843.000000</td>\n",
              "      <td>48895.000000</td>\n",
              "      <td>48895.000000</td>\n",
              "    </tr>\n",
              "    <tr>\n",
              "      <th>mean</th>\n",
              "      <td>1.901714e+07</td>\n",
              "      <td>6.762001e+07</td>\n",
              "      <td>40.728949</td>\n",
              "      <td>-73.952170</td>\n",
              "      <td>152.720687</td>\n",
              "      <td>7.029962</td>\n",
              "      <td>23.274466</td>\n",
              "      <td>1.373221</td>\n",
              "      <td>7.143982</td>\n",
              "      <td>112.781327</td>\n",
              "    </tr>\n",
              "    <tr>\n",
              "      <th>std</th>\n",
              "      <td>1.098311e+07</td>\n",
              "      <td>7.861097e+07</td>\n",
              "      <td>0.054530</td>\n",
              "      <td>0.046157</td>\n",
              "      <td>240.154170</td>\n",
              "      <td>20.510550</td>\n",
              "      <td>44.550582</td>\n",
              "      <td>1.680442</td>\n",
              "      <td>32.952519</td>\n",
              "      <td>131.622289</td>\n",
              "    </tr>\n",
              "    <tr>\n",
              "      <th>min</th>\n",
              "      <td>2.539000e+03</td>\n",
              "      <td>2.438000e+03</td>\n",
              "      <td>40.499790</td>\n",
              "      <td>-74.244420</td>\n",
              "      <td>0.000000</td>\n",
              "      <td>1.000000</td>\n",
              "      <td>0.000000</td>\n",
              "      <td>0.010000</td>\n",
              "      <td>1.000000</td>\n",
              "      <td>0.000000</td>\n",
              "    </tr>\n",
              "    <tr>\n",
              "      <th>25%</th>\n",
              "      <td>9.471945e+06</td>\n",
              "      <td>7.822033e+06</td>\n",
              "      <td>40.690100</td>\n",
              "      <td>-73.983070</td>\n",
              "      <td>69.000000</td>\n",
              "      <td>1.000000</td>\n",
              "      <td>1.000000</td>\n",
              "      <td>0.190000</td>\n",
              "      <td>1.000000</td>\n",
              "      <td>0.000000</td>\n",
              "    </tr>\n",
              "    <tr>\n",
              "      <th>50%</th>\n",
              "      <td>1.967728e+07</td>\n",
              "      <td>3.079382e+07</td>\n",
              "      <td>40.723070</td>\n",
              "      <td>-73.955680</td>\n",
              "      <td>106.000000</td>\n",
              "      <td>3.000000</td>\n",
              "      <td>5.000000</td>\n",
              "      <td>0.720000</td>\n",
              "      <td>1.000000</td>\n",
              "      <td>45.000000</td>\n",
              "    </tr>\n",
              "    <tr>\n",
              "      <th>75%</th>\n",
              "      <td>2.915218e+07</td>\n",
              "      <td>1.074344e+08</td>\n",
              "      <td>40.763115</td>\n",
              "      <td>-73.936275</td>\n",
              "      <td>175.000000</td>\n",
              "      <td>5.000000</td>\n",
              "      <td>24.000000</td>\n",
              "      <td>2.020000</td>\n",
              "      <td>2.000000</td>\n",
              "      <td>227.000000</td>\n",
              "    </tr>\n",
              "    <tr>\n",
              "      <th>max</th>\n",
              "      <td>3.648724e+07</td>\n",
              "      <td>2.743213e+08</td>\n",
              "      <td>40.913060</td>\n",
              "      <td>-73.712990</td>\n",
              "      <td>10000.000000</td>\n",
              "      <td>1250.000000</td>\n",
              "      <td>629.000000</td>\n",
              "      <td>58.500000</td>\n",
              "      <td>327.000000</td>\n",
              "      <td>365.000000</td>\n",
              "    </tr>\n",
              "  </tbody>\n",
              "</table>\n",
              "</div>"
            ],
            "text/plain": [
              "                 id  ...  availability_365\n",
              "count  4.889500e+04  ...      48895.000000\n",
              "mean   1.901714e+07  ...        112.781327\n",
              "std    1.098311e+07  ...        131.622289\n",
              "min    2.539000e+03  ...          0.000000\n",
              "25%    9.471945e+06  ...          0.000000\n",
              "50%    1.967728e+07  ...         45.000000\n",
              "75%    2.915218e+07  ...        227.000000\n",
              "max    3.648724e+07  ...        365.000000\n",
              "\n",
              "[8 rows x 10 columns]"
            ]
          },
          "metadata": {
            "tags": []
          },
          "execution_count": 3
        }
      ]
    },
    {
      "cell_type": "code",
      "metadata": {
        "id": "x8CXOHi9VkUR",
        "outputId": "6ef1cb1a-e66f-426e-c4ed-dee07997f2a3",
        "colab": {
          "base_uri": "https://localhost:8080/"
        }
      },
      "source": [
        "df.dtypes"
      ],
      "execution_count": 4,
      "outputs": [
        {
          "output_type": "execute_result",
          "data": {
            "text/plain": [
              "id                                  int64\n",
              "name                               object\n",
              "host_id                             int64\n",
              "host_name                          object\n",
              "neighbourhood_group                object\n",
              "neighbourhood                      object\n",
              "latitude                          float64\n",
              "longitude                         float64\n",
              "room_type                          object\n",
              "price                               int64\n",
              "minimum_nights                      int64\n",
              "number_of_reviews                   int64\n",
              "last_review                        object\n",
              "reviews_per_month                 float64\n",
              "calculated_host_listings_count      int64\n",
              "availability_365                    int64\n",
              "dtype: object"
            ]
          },
          "metadata": {
            "tags": []
          },
          "execution_count": 4
        }
      ]
    },
    {
      "cell_type": "code",
      "metadata": {
        "id": "2s79q31lV4Mb"
      },
      "source": [
        "df = df.drop('name', axis=1)\n",
        "df = df.drop('host_name', axis=1)\n",
        "df = df.drop('last_review', axis=1)"
      ],
      "execution_count": 5,
      "outputs": []
    },
    {
      "cell_type": "code",
      "metadata": {
        "id": "uX7EaATgYqvy"
      },
      "source": [
        "df = df[df.price <= 500]"
      ],
      "execution_count": 6,
      "outputs": []
    },
    {
      "cell_type": "code",
      "metadata": {
        "id": "IDE-vNYFoJ4h"
      },
      "source": [
        "# df.loc[df['price'] <= 50, 'ranges'] = '0_TO_50'\n",
        "df.loc[df['price'] <= 100, 'ranges'] = '0_TO_100'\n",
        "df.loc[(df['price'] > 100) & (df['price'] <= 200), 'ranges'] = '101_TO_200'\n",
        "# df.loc[(df['price'] > 150) & (df['price'] <= 200), 'ranges'] = '151_TO_200'\n",
        "df.loc[(df['price'] > 200) & (df['price'] <= 300), 'ranges'] = '201_TO_300'\n",
        "#df.loc[(df['price'] > 250) & (df['price'] <= 300), 'ranges'] = '251_TO_300'\n",
        "df.loc[(df['price'] > 300) & (df['price'] <= 400), 'ranges'] = '301_TO_400'\n",
        "#df.loc[(df['price'] > 350) & (df['price'] <= 400), 'ranges'] = '351_TO_400'\n",
        "df.loc[(df['price'] > 400) & (df['price'] <= 500), 'ranges'] = '401_TO_500'\n",
        "#df.loc[(df['price'] > 450) & (df['price'] <= 500), 'ranges'] = '551_TO_500'"
      ],
      "execution_count": 7,
      "outputs": []
    },
    {
      "cell_type": "code",
      "metadata": {
        "id": "OW9pTVEcXsKL"
      },
      "source": [
        "df['neighbourhood_group'] = df['neighbourhood_group'].astype('category')\n",
        "df['neighbourhood'] = df['neighbourhood'].astype('category')\n",
        "df['room_type'] = df['room_type'].astype('category')"
      ],
      "execution_count": 8,
      "outputs": []
    },
    {
      "cell_type": "code",
      "metadata": {
        "id": "_awC1XFkYYzF"
      },
      "source": [
        "cat_columns = df.select_dtypes(['category']).columns\n",
        "df[cat_columns] = df[cat_columns].apply(lambda x: x.cat.codes)"
      ],
      "execution_count": 9,
      "outputs": []
    },
    {
      "cell_type": "code",
      "metadata": {
        "id": "MSMgzwM3EFF_"
      },
      "source": [
        "df['ranges'] = df['ranges'].astype('category')"
      ],
      "execution_count": 10,
      "outputs": []
    },
    {
      "cell_type": "code",
      "metadata": {
        "id": "7taQ5omXYmEf"
      },
      "source": [
        "df['reviews_per_month'].fillna(0, inplace=True) "
      ],
      "execution_count": 11,
      "outputs": []
    },
    {
      "cell_type": "code",
      "metadata": {
        "id": "o_2p-RvtpxDa"
      },
      "source": [
        "df = df.drop('price', axis=1)\n"
      ],
      "execution_count": 12,
      "outputs": []
    },
    {
      "cell_type": "code",
      "metadata": {
        "id": "5itJQHMZD3Mh",
        "outputId": "72204b7d-ace0-4f8c-99b2-eebdda7d71c8",
        "colab": {
          "base_uri": "https://localhost:8080/",
          "height": 0
        }
      },
      "source": [
        "df.head()"
      ],
      "execution_count": 13,
      "outputs": [
        {
          "output_type": "execute_result",
          "data": {
            "text/html": [
              "<div>\n",
              "<style scoped>\n",
              "    .dataframe tbody tr th:only-of-type {\n",
              "        vertical-align: middle;\n",
              "    }\n",
              "\n",
              "    .dataframe tbody tr th {\n",
              "        vertical-align: top;\n",
              "    }\n",
              "\n",
              "    .dataframe thead th {\n",
              "        text-align: right;\n",
              "    }\n",
              "</style>\n",
              "<table border=\"1\" class=\"dataframe\">\n",
              "  <thead>\n",
              "    <tr style=\"text-align: right;\">\n",
              "      <th></th>\n",
              "      <th>id</th>\n",
              "      <th>host_id</th>\n",
              "      <th>neighbourhood_group</th>\n",
              "      <th>neighbourhood</th>\n",
              "      <th>latitude</th>\n",
              "      <th>longitude</th>\n",
              "      <th>room_type</th>\n",
              "      <th>minimum_nights</th>\n",
              "      <th>number_of_reviews</th>\n",
              "      <th>reviews_per_month</th>\n",
              "      <th>calculated_host_listings_count</th>\n",
              "      <th>availability_365</th>\n",
              "      <th>ranges</th>\n",
              "    </tr>\n",
              "  </thead>\n",
              "  <tbody>\n",
              "    <tr>\n",
              "      <th>0</th>\n",
              "      <td>2539</td>\n",
              "      <td>2787</td>\n",
              "      <td>1</td>\n",
              "      <td>107</td>\n",
              "      <td>40.64749</td>\n",
              "      <td>-73.97237</td>\n",
              "      <td>1</td>\n",
              "      <td>1</td>\n",
              "      <td>9</td>\n",
              "      <td>0.21</td>\n",
              "      <td>6</td>\n",
              "      <td>365</td>\n",
              "      <td>101_TO_200</td>\n",
              "    </tr>\n",
              "    <tr>\n",
              "      <th>1</th>\n",
              "      <td>2595</td>\n",
              "      <td>2845</td>\n",
              "      <td>2</td>\n",
              "      <td>126</td>\n",
              "      <td>40.75362</td>\n",
              "      <td>-73.98377</td>\n",
              "      <td>0</td>\n",
              "      <td>1</td>\n",
              "      <td>45</td>\n",
              "      <td>0.38</td>\n",
              "      <td>2</td>\n",
              "      <td>355</td>\n",
              "      <td>201_TO_300</td>\n",
              "    </tr>\n",
              "    <tr>\n",
              "      <th>2</th>\n",
              "      <td>3647</td>\n",
              "      <td>4632</td>\n",
              "      <td>2</td>\n",
              "      <td>93</td>\n",
              "      <td>40.80902</td>\n",
              "      <td>-73.94190</td>\n",
              "      <td>1</td>\n",
              "      <td>3</td>\n",
              "      <td>0</td>\n",
              "      <td>0.00</td>\n",
              "      <td>1</td>\n",
              "      <td>365</td>\n",
              "      <td>101_TO_200</td>\n",
              "    </tr>\n",
              "    <tr>\n",
              "      <th>3</th>\n",
              "      <td>3831</td>\n",
              "      <td>4869</td>\n",
              "      <td>1</td>\n",
              "      <td>41</td>\n",
              "      <td>40.68514</td>\n",
              "      <td>-73.95976</td>\n",
              "      <td>0</td>\n",
              "      <td>1</td>\n",
              "      <td>270</td>\n",
              "      <td>4.64</td>\n",
              "      <td>1</td>\n",
              "      <td>194</td>\n",
              "      <td>0_TO_100</td>\n",
              "    </tr>\n",
              "    <tr>\n",
              "      <th>4</th>\n",
              "      <td>5022</td>\n",
              "      <td>7192</td>\n",
              "      <td>2</td>\n",
              "      <td>61</td>\n",
              "      <td>40.79851</td>\n",
              "      <td>-73.94399</td>\n",
              "      <td>0</td>\n",
              "      <td>10</td>\n",
              "      <td>9</td>\n",
              "      <td>0.10</td>\n",
              "      <td>1</td>\n",
              "      <td>0</td>\n",
              "      <td>0_TO_100</td>\n",
              "    </tr>\n",
              "  </tbody>\n",
              "</table>\n",
              "</div>"
            ],
            "text/plain": [
              "     id  host_id  ...  availability_365      ranges\n",
              "0  2539     2787  ...               365  101_TO_200\n",
              "1  2595     2845  ...               355  201_TO_300\n",
              "2  3647     4632  ...               365  101_TO_200\n",
              "3  3831     4869  ...               194    0_TO_100\n",
              "4  5022     7192  ...                 0    0_TO_100\n",
              "\n",
              "[5 rows x 13 columns]"
            ]
          },
          "metadata": {
            "tags": []
          },
          "execution_count": 13
        }
      ]
    },
    {
      "cell_type": "code",
      "metadata": {
        "id": "hpypeEHgrock",
        "outputId": "25865a1d-0e2d-4c80-dd43-4a90d06129d7",
        "colab": {
          "base_uri": "https://localhost:8080/",
          "height": 0
        }
      },
      "source": [
        "df = df.sample(frac=1).reset_index(drop=True)\n",
        "df = df[:10000]\n",
        "df.describe()"
      ],
      "execution_count": 14,
      "outputs": [
        {
          "output_type": "execute_result",
          "data": {
            "text/html": [
              "<div>\n",
              "<style scoped>\n",
              "    .dataframe tbody tr th:only-of-type {\n",
              "        vertical-align: middle;\n",
              "    }\n",
              "\n",
              "    .dataframe tbody tr th {\n",
              "        vertical-align: top;\n",
              "    }\n",
              "\n",
              "    .dataframe thead th {\n",
              "        text-align: right;\n",
              "    }\n",
              "</style>\n",
              "<table border=\"1\" class=\"dataframe\">\n",
              "  <thead>\n",
              "    <tr style=\"text-align: right;\">\n",
              "      <th></th>\n",
              "      <th>id</th>\n",
              "      <th>host_id</th>\n",
              "      <th>neighbourhood_group</th>\n",
              "      <th>neighbourhood</th>\n",
              "      <th>latitude</th>\n",
              "      <th>longitude</th>\n",
              "      <th>room_type</th>\n",
              "      <th>minimum_nights</th>\n",
              "      <th>number_of_reviews</th>\n",
              "      <th>reviews_per_month</th>\n",
              "      <th>calculated_host_listings_count</th>\n",
              "      <th>availability_365</th>\n",
              "    </tr>\n",
              "  </thead>\n",
              "  <tbody>\n",
              "    <tr>\n",
              "      <th>count</th>\n",
              "      <td>1.000000e+04</td>\n",
              "      <td>1.000000e+04</td>\n",
              "      <td>10000.000000</td>\n",
              "      <td>10000.00000</td>\n",
              "      <td>10000.000000</td>\n",
              "      <td>10000.000000</td>\n",
              "      <td>10000.000000</td>\n",
              "      <td>10000.000000</td>\n",
              "      <td>10000.000000</td>\n",
              "      <td>10000.000000</td>\n",
              "      <td>10000.000000</td>\n",
              "      <td>10000.000000</td>\n",
              "    </tr>\n",
              "    <tr>\n",
              "      <th>mean</th>\n",
              "      <td>1.900122e+07</td>\n",
              "      <td>6.755997e+07</td>\n",
              "      <td>1.666800</td>\n",
              "      <td>106.86950</td>\n",
              "      <td>40.728859</td>\n",
              "      <td>-73.951714</td>\n",
              "      <td>0.505900</td>\n",
              "      <td>7.036400</td>\n",
              "      <td>23.322300</td>\n",
              "      <td>1.094102</td>\n",
              "      <td>6.704600</td>\n",
              "      <td>112.458900</td>\n",
              "    </tr>\n",
              "    <tr>\n",
              "      <th>std</th>\n",
              "      <td>1.091262e+07</td>\n",
              "      <td>7.885536e+07</td>\n",
              "      <td>0.741912</td>\n",
              "      <td>68.77964</td>\n",
              "      <td>0.054803</td>\n",
              "      <td>0.046412</td>\n",
              "      <td>0.546987</td>\n",
              "      <td>18.900423</td>\n",
              "      <td>43.957303</td>\n",
              "      <td>1.558275</td>\n",
              "      <td>30.871324</td>\n",
              "      <td>131.709418</td>\n",
              "    </tr>\n",
              "    <tr>\n",
              "      <th>min</th>\n",
              "      <td>5.022000e+03</td>\n",
              "      <td>2.438000e+03</td>\n",
              "      <td>0.000000</td>\n",
              "      <td>0.00000</td>\n",
              "      <td>40.507080</td>\n",
              "      <td>-74.242850</td>\n",
              "      <td>0.000000</td>\n",
              "      <td>1.000000</td>\n",
              "      <td>0.000000</td>\n",
              "      <td>0.000000</td>\n",
              "      <td>1.000000</td>\n",
              "      <td>0.000000</td>\n",
              "    </tr>\n",
              "    <tr>\n",
              "      <th>25%</th>\n",
              "      <td>9.554414e+06</td>\n",
              "      <td>7.695235e+06</td>\n",
              "      <td>1.000000</td>\n",
              "      <td>51.00000</td>\n",
              "      <td>40.689777</td>\n",
              "      <td>-73.982340</td>\n",
              "      <td>0.000000</td>\n",
              "      <td>1.000000</td>\n",
              "      <td>1.000000</td>\n",
              "      <td>0.050000</td>\n",
              "      <td>1.000000</td>\n",
              "      <td>0.000000</td>\n",
              "    </tr>\n",
              "    <tr>\n",
              "      <th>50%</th>\n",
              "      <td>1.970134e+07</td>\n",
              "      <td>3.077882e+07</td>\n",
              "      <td>2.000000</td>\n",
              "      <td>93.00000</td>\n",
              "      <td>40.722860</td>\n",
              "      <td>-73.954895</td>\n",
              "      <td>0.000000</td>\n",
              "      <td>3.000000</td>\n",
              "      <td>5.000000</td>\n",
              "      <td>0.390000</td>\n",
              "      <td>1.000000</td>\n",
              "      <td>43.000000</td>\n",
              "    </tr>\n",
              "    <tr>\n",
              "      <th>75%</th>\n",
              "      <td>2.896087e+07</td>\n",
              "      <td>1.074344e+08</td>\n",
              "      <td>2.000000</td>\n",
              "      <td>180.00000</td>\n",
              "      <td>40.763732</td>\n",
              "      <td>-73.936187</td>\n",
              "      <td>1.000000</td>\n",
              "      <td>5.000000</td>\n",
              "      <td>24.000000</td>\n",
              "      <td>1.610000</td>\n",
              "      <td>2.000000</td>\n",
              "      <td>228.000000</td>\n",
              "    </tr>\n",
              "    <tr>\n",
              "      <th>max</th>\n",
              "      <td>3.648724e+07</td>\n",
              "      <td>2.742733e+08</td>\n",
              "      <td>4.000000</td>\n",
              "      <td>218.00000</td>\n",
              "      <td>40.911690</td>\n",
              "      <td>-73.716900</td>\n",
              "      <td>2.000000</td>\n",
              "      <td>500.000000</td>\n",
              "      <td>540.000000</td>\n",
              "      <td>20.940000</td>\n",
              "      <td>327.000000</td>\n",
              "      <td>365.000000</td>\n",
              "    </tr>\n",
              "  </tbody>\n",
              "</table>\n",
              "</div>"
            ],
            "text/plain": [
              "                 id  ...  availability_365\n",
              "count  1.000000e+04  ...      10000.000000\n",
              "mean   1.900122e+07  ...        112.458900\n",
              "std    1.091262e+07  ...        131.709418\n",
              "min    5.022000e+03  ...          0.000000\n",
              "25%    9.554414e+06  ...          0.000000\n",
              "50%    1.970134e+07  ...         43.000000\n",
              "75%    2.896087e+07  ...        228.000000\n",
              "max    3.648724e+07  ...        365.000000\n",
              "\n",
              "[8 rows x 12 columns]"
            ]
          },
          "metadata": {
            "tags": []
          },
          "execution_count": 14
        }
      ]
    },
    {
      "cell_type": "code",
      "metadata": {
        "id": "SjxbA1CxEfUi",
        "outputId": "60213deb-3735-473c-c19c-ebcb7c70a991",
        "colab": {
          "base_uri": "https://localhost:8080/",
          "height": 0
        }
      },
      "source": [
        "df"
      ],
      "execution_count": 15,
      "outputs": [
        {
          "output_type": "execute_result",
          "data": {
            "text/html": [
              "<div>\n",
              "<style scoped>\n",
              "    .dataframe tbody tr th:only-of-type {\n",
              "        vertical-align: middle;\n",
              "    }\n",
              "\n",
              "    .dataframe tbody tr th {\n",
              "        vertical-align: top;\n",
              "    }\n",
              "\n",
              "    .dataframe thead th {\n",
              "        text-align: right;\n",
              "    }\n",
              "</style>\n",
              "<table border=\"1\" class=\"dataframe\">\n",
              "  <thead>\n",
              "    <tr style=\"text-align: right;\">\n",
              "      <th></th>\n",
              "      <th>id</th>\n",
              "      <th>host_id</th>\n",
              "      <th>neighbourhood_group</th>\n",
              "      <th>neighbourhood</th>\n",
              "      <th>latitude</th>\n",
              "      <th>longitude</th>\n",
              "      <th>room_type</th>\n",
              "      <th>minimum_nights</th>\n",
              "      <th>number_of_reviews</th>\n",
              "      <th>reviews_per_month</th>\n",
              "      <th>calculated_host_listings_count</th>\n",
              "      <th>availability_365</th>\n",
              "      <th>ranges</th>\n",
              "    </tr>\n",
              "  </thead>\n",
              "  <tbody>\n",
              "    <tr>\n",
              "      <th>0</th>\n",
              "      <td>35212471</td>\n",
              "      <td>202805108</td>\n",
              "      <td>2</td>\n",
              "      <td>94</td>\n",
              "      <td>40.76028</td>\n",
              "      <td>-73.99665</td>\n",
              "      <td>0</td>\n",
              "      <td>3</td>\n",
              "      <td>3</td>\n",
              "      <td>3.00</td>\n",
              "      <td>1</td>\n",
              "      <td>102</td>\n",
              "      <td>301_TO_400</td>\n",
              "    </tr>\n",
              "    <tr>\n",
              "      <th>1</th>\n",
              "      <td>23810398</td>\n",
              "      <td>178696800</td>\n",
              "      <td>1</td>\n",
              "      <td>51</td>\n",
              "      <td>40.67825</td>\n",
              "      <td>-73.94748</td>\n",
              "      <td>1</td>\n",
              "      <td>1</td>\n",
              "      <td>45</td>\n",
              "      <td>2.83</td>\n",
              "      <td>1</td>\n",
              "      <td>28</td>\n",
              "      <td>0_TO_100</td>\n",
              "    </tr>\n",
              "    <tr>\n",
              "      <th>2</th>\n",
              "      <td>34686718</td>\n",
              "      <td>248555214</td>\n",
              "      <td>3</td>\n",
              "      <td>4</td>\n",
              "      <td>40.76417</td>\n",
              "      <td>-73.92898</td>\n",
              "      <td>1</td>\n",
              "      <td>2</td>\n",
              "      <td>4</td>\n",
              "      <td>4.00</td>\n",
              "      <td>2</td>\n",
              "      <td>8</td>\n",
              "      <td>0_TO_100</td>\n",
              "    </tr>\n",
              "    <tr>\n",
              "      <th>3</th>\n",
              "      <td>16353485</td>\n",
              "      <td>32545798</td>\n",
              "      <td>1</td>\n",
              "      <td>213</td>\n",
              "      <td>40.71443</td>\n",
              "      <td>-73.96154</td>\n",
              "      <td>1</td>\n",
              "      <td>1</td>\n",
              "      <td>4</td>\n",
              "      <td>0.13</td>\n",
              "      <td>5</td>\n",
              "      <td>0</td>\n",
              "      <td>0_TO_100</td>\n",
              "    </tr>\n",
              "    <tr>\n",
              "      <th>4</th>\n",
              "      <td>31760509</td>\n",
              "      <td>219505617</td>\n",
              "      <td>2</td>\n",
              "      <td>93</td>\n",
              "      <td>40.80351</td>\n",
              "      <td>-73.95822</td>\n",
              "      <td>1</td>\n",
              "      <td>1</td>\n",
              "      <td>18</td>\n",
              "      <td>3.62</td>\n",
              "      <td>1</td>\n",
              "      <td>92</td>\n",
              "      <td>0_TO_100</td>\n",
              "    </tr>\n",
              "    <tr>\n",
              "      <th>...</th>\n",
              "      <td>...</td>\n",
              "      <td>...</td>\n",
              "      <td>...</td>\n",
              "      <td>...</td>\n",
              "      <td>...</td>\n",
              "      <td>...</td>\n",
              "      <td>...</td>\n",
              "      <td>...</td>\n",
              "      <td>...</td>\n",
              "      <td>...</td>\n",
              "      <td>...</td>\n",
              "      <td>...</td>\n",
              "      <td>...</td>\n",
              "    </tr>\n",
              "    <tr>\n",
              "      <th>9995</th>\n",
              "      <td>22204187</td>\n",
              "      <td>18011536</td>\n",
              "      <td>2</td>\n",
              "      <td>35</td>\n",
              "      <td>40.71799</td>\n",
              "      <td>-73.99640</td>\n",
              "      <td>0</td>\n",
              "      <td>2</td>\n",
              "      <td>0</td>\n",
              "      <td>0.00</td>\n",
              "      <td>1</td>\n",
              "      <td>0</td>\n",
              "      <td>101_TO_200</td>\n",
              "    </tr>\n",
              "    <tr>\n",
              "      <th>9996</th>\n",
              "      <td>21921707</td>\n",
              "      <td>100424005</td>\n",
              "      <td>1</td>\n",
              "      <td>28</td>\n",
              "      <td>40.69386</td>\n",
              "      <td>-73.91897</td>\n",
              "      <td>1</td>\n",
              "      <td>5</td>\n",
              "      <td>9</td>\n",
              "      <td>0.46</td>\n",
              "      <td>1</td>\n",
              "      <td>0</td>\n",
              "      <td>0_TO_100</td>\n",
              "    </tr>\n",
              "    <tr>\n",
              "      <th>9997</th>\n",
              "      <td>177421</td>\n",
              "      <td>848748</td>\n",
              "      <td>1</td>\n",
              "      <td>90</td>\n",
              "      <td>40.72315</td>\n",
              "      <td>-73.95226</td>\n",
              "      <td>0</td>\n",
              "      <td>2</td>\n",
              "      <td>20</td>\n",
              "      <td>0.21</td>\n",
              "      <td>2</td>\n",
              "      <td>127</td>\n",
              "      <td>401_TO_500</td>\n",
              "    </tr>\n",
              "    <tr>\n",
              "      <th>9998</th>\n",
              "      <td>10827567</td>\n",
              "      <td>31411094</td>\n",
              "      <td>1</td>\n",
              "      <td>51</td>\n",
              "      <td>40.67250</td>\n",
              "      <td>-73.93981</td>\n",
              "      <td>0</td>\n",
              "      <td>3</td>\n",
              "      <td>128</td>\n",
              "      <td>3.10</td>\n",
              "      <td>1</td>\n",
              "      <td>342</td>\n",
              "      <td>0_TO_100</td>\n",
              "    </tr>\n",
              "    <tr>\n",
              "      <th>9999</th>\n",
              "      <td>12955262</td>\n",
              "      <td>3710740</td>\n",
              "      <td>2</td>\n",
              "      <td>93</td>\n",
              "      <td>40.81806</td>\n",
              "      <td>-73.95374</td>\n",
              "      <td>0</td>\n",
              "      <td>1</td>\n",
              "      <td>49</td>\n",
              "      <td>1.30</td>\n",
              "      <td>2</td>\n",
              "      <td>0</td>\n",
              "      <td>101_TO_200</td>\n",
              "    </tr>\n",
              "  </tbody>\n",
              "</table>\n",
              "<p>10000 rows × 13 columns</p>\n",
              "</div>"
            ],
            "text/plain": [
              "            id    host_id  ...  availability_365      ranges\n",
              "0     35212471  202805108  ...               102  301_TO_400\n",
              "1     23810398  178696800  ...                28    0_TO_100\n",
              "2     34686718  248555214  ...                 8    0_TO_100\n",
              "3     16353485   32545798  ...                 0    0_TO_100\n",
              "4     31760509  219505617  ...                92    0_TO_100\n",
              "...        ...        ...  ...               ...         ...\n",
              "9995  22204187   18011536  ...                 0  101_TO_200\n",
              "9996  21921707  100424005  ...                 0    0_TO_100\n",
              "9997    177421     848748  ...               127  401_TO_500\n",
              "9998  10827567   31411094  ...               342    0_TO_100\n",
              "9999  12955262    3710740  ...                 0  101_TO_200\n",
              "\n",
              "[10000 rows x 13 columns]"
            ]
          },
          "metadata": {
            "tags": []
          },
          "execution_count": 15
        }
      ]
    },
    {
      "cell_type": "code",
      "metadata": {
        "id": "j-kvY7khZXgP"
      },
      "source": [
        "from sklearn.neural_network import MLPRegressor\n",
        "from sklearn.neural_network import MLPClassifier\n",
        "from sklearn.model_selection import train_test_split\n",
        "from sklearn.metrics import r2_score\n",
        "from sklearn.preprocessing import StandardScaler\n",
        "from sklearn.metrics import mean_squared_error\n",
        "from sklearn.metrics import accuracy_score"
      ],
      "execution_count": 16,
      "outputs": []
    },
    {
      "cell_type": "code",
      "metadata": {
        "id": "uuDiRp4aZsNt"
      },
      "source": [
        "  features = df.drop('ranges',axis=1)\n",
        "  labels = df['ranges']"
      ],
      "execution_count": 17,
      "outputs": []
    },
    {
      "cell_type": "code",
      "metadata": {
        "id": "zz-KayXgbeqC"
      },
      "source": [
        "feature_train, feature_test, label_train, label_test = train_test_split(features, labels, test_size=0.2, random_state=1)"
      ],
      "execution_count": 18,
      "outputs": []
    },
    {
      "cell_type": "code",
      "metadata": {
        "id": "BM2V5GBv_djQ"
      },
      "source": [
        "sc_X = StandardScaler()\n",
        "feature_train=sc_X.fit_transform(feature_train)\n",
        "feature_test=sc_X.fit_transform(feature_test)"
      ],
      "execution_count": 19,
      "outputs": []
    },
    {
      "cell_type": "markdown",
      "metadata": {
        "id": "fidIV0JWrj7G"
      },
      "source": [
        "# Genetic Algorithm"
      ]
    },
    {
      "cell_type": "code",
      "metadata": {
        "id": "t5sMudLwth_5"
      },
      "source": [
        "import random"
      ],
      "execution_count": 156,
      "outputs": []
    },
    {
      "cell_type": "code",
      "metadata": {
        "id": "P5x1-IJgwwgx"
      },
      "source": [
        "POPULATION_SIZE = 30\n",
        "GENERATIONS = 100\n",
        "CHILDREN_RATE = 3"
      ],
      "execution_count": 157,
      "outputs": []
    },
    {
      "cell_type": "code",
      "metadata": {
        "id": "aDJYWZoDsk2P"
      },
      "source": [
        "activation = ['identity', 'logistic', 'tanh', 'relu']\n",
        "solver = ['lbfgs','sgd', 'adam']\n",
        "learning_rate = ['constant', 'invscaling', 'adaptive']"
      ],
      "execution_count": 158,
      "outputs": []
    },
    {
      "cell_type": "code",
      "metadata": {
        "id": "fd5T7wWitGvJ"
      },
      "source": [
        "def generate_individue():\n",
        "  individue = {\n",
        "      'activation':  activation[random.randint(0, 3)],\n",
        "      'solver': solver[random.randint(0,2)],\n",
        "      'learning_rate': learning_rate[random.randint(0,2)],\n",
        "      'hidden_layer_sizes' : (random.randint(100, 200), random.randint(50, 100) ,random.randint(10, 50)),\n",
        "      'max_iter' : random.randint(100, 250),\n",
        "      'fitness': 0  \n",
        "  }\n",
        "\n",
        "  individue['fitness'] = calculate_fitness(individue)\n",
        "  return individue"
      ],
      "execution_count": 159,
      "outputs": []
    },
    {
      "cell_type": "code",
      "metadata": {
        "id": "rrIhSBDmI-hh"
      },
      "source": [
        "def sortByFitness(e):\n",
        "  return e['fitness']"
      ],
      "execution_count": 160,
      "outputs": []
    },
    {
      "cell_type": "code",
      "metadata": {
        "id": "M0fEvf28riTX"
      },
      "source": [
        "def initiate_population(population_size):\n",
        "  population = [[]] * population_size\n",
        "  population = [generate_individue() for i in range(0, population_size)]\n",
        "  population.sort(key=sortByFitness, reverse=True)\n",
        "  return population"
      ],
      "execution_count": 161,
      "outputs": []
    },
    {
      "cell_type": "code",
      "metadata": {
        "id": "fuzA6Z4Bw5wn"
      },
      "source": [
        "def choose_parents(population):\n",
        "  father = random.randint(0, POPULATION_SIZE - 1)\n",
        "  mother = random.randint(0, POPULATION_SIZE - 1)\n",
        "  return [population[father], population[mother]]"
      ],
      "execution_count": 162,
      "outputs": []
    },
    {
      "cell_type": "code",
      "metadata": {
        "id": "Eyl4DUXfo6Qq"
      },
      "source": [
        "def choose_candidates(population):\n",
        "  candidatesIndex = []\n",
        "  for x in range(0, round(POPULATION_SIZE * 0.3) ):\n",
        "    index = random.randint(0, POPULATION_SIZE - 1)\n",
        "    while index in candidatesIndex:\n",
        "      index = random.randint(0, POPULATION_SIZE - 1)\n",
        "    candidatesIndex.append(index)\n",
        "    \n",
        "  candidates = []\n",
        "  for x in candidatesIndex:\n",
        "    candidates.append(population[x])\n",
        "  return candidates   \n",
        "\n",
        "def choose_parents_by_roullete(population):\n",
        "  candidates = choose_candidates(population)\n",
        "  probabilities = [];\n",
        "  sumOfFitness = 0;\n",
        "  previousProbabilities = 0;\n",
        "  parents = [];\n",
        "\n",
        "  for i in candidates:\n",
        "    sumOfFitness = sumOfFitness + i['fitness']\n",
        "\n",
        "  candidates.sort(key=sortByFitness)\n",
        "\n",
        " \n",
        "  for cand in candidates:\n",
        "    prob = previousProbabilities + (cand['fitness'] / sumOfFitness);\n",
        "    previousProbabilities = prob;\n",
        "    probabilities.append(prob);\n",
        "  \n",
        "  while len(parents)  < 2:\n",
        "    number = random.randint(1, 10) /10\n",
        "    found = False\n",
        "    for y in range(0, len(probabilities)):\n",
        "      if (number <= probabilities[y]) & (not found):\n",
        "        parents.append(candidates[y])\n",
        "        found = True\n",
        "  \n",
        "  return parents"
      ],
      "execution_count": 163,
      "outputs": []
    },
    {
      "cell_type": "code",
      "metadata": {
        "id": "5ryiU82qSc5p"
      },
      "source": [
        "def mutate_activation(individue):\n",
        "  new_attribute = activation[random.randint(0,3)] \n",
        "  while new_attribute == individue['activation']:\n",
        "    new_attribute = activation[random.randint(0,3)] \n",
        "  individue['activation'] = new_attribute\n",
        "  return individue\n",
        "\n",
        "def mutate_learning_rate(individue):\n",
        "  new_attribute = learning_rate[random.randint(0,2)] \n",
        "  while new_attribute == individue['learning_rate']:\n",
        "    new_attribute = learning_rate[random.randint(0,2)] \n",
        "  individue['learning_rate'] = new_attribute\n",
        "  return individue\n",
        "\n",
        "def mutate_solver(individue):\n",
        "  new_attribute = solver[random.randint(0,2)] \n",
        "  while new_attribute == individue['solver']:\n",
        "    new_attribute = solver[random.randint(0,2)] \n",
        "  individue['solver'] = new_attribute\n",
        "  return individue\n",
        "\n",
        "def mutate(individue):\n",
        "  mutations = [mutate_activation, mutate_learning_rate, mutate_solver]\n",
        "  prob = random.randint(0, 10)\n",
        "  if prob >= 6:\n",
        "    mutation1 = random.randint(0,2)\n",
        "    mutation2 = random.randint(0,2)\n",
        "\n",
        "    individue = mutations[mutation1](individue)\n",
        "    individue = mutations[mutation2](individue)\n",
        "\n",
        "  return individue"
      ],
      "execution_count": 164,
      "outputs": []
    },
    {
      "cell_type": "code",
      "metadata": {
        "id": "OQRgAu6X1zHi"
      },
      "source": [
        "def make_children(population):\n",
        "  parents = choose_parents_by_roullete(population)\n",
        "  \n",
        "  for x in range(0, 2):\n",
        "    child = {'activation': parents[random.randint(0,1)]['activation'],\n",
        "            'hidden_layer_sizes': (parents[random.randint(0,1)]['hidden_layer_sizes'][0], parents[random.randint(0,1)]['hidden_layer_sizes'][1], parents[random.randint(0,1)]['hidden_layer_sizes'][2]),\n",
        "            'learning_rate': parents[random.randint(0,1)]['learning_rate'],\n",
        "            'max_iter': parents[random.randint(0,1)]['max_iter'],\n",
        "            'solver': parents[random.randint(0,1)]['solver'],\n",
        "            'fitness': 0}\n",
        "  \n",
        "    child = mutate(child)\n",
        "    child['fitness'] = calculate_fitness(child)\n",
        "    population.append(child)\n",
        "  \n",
        "  population.sort(key=sortByFitness, reverse=True)\n",
        "  return population[:POPULATION_SIZE]"
      ],
      "execution_count": 165,
      "outputs": []
    },
    {
      "cell_type": "code",
      "metadata": {
        "id": "3qVBwGyT5i1a"
      },
      "source": [
        "def calculate_fitness(individue):\n",
        "  model_mlp = MLPClassifier(activation=individue['activation'],\n",
        "                            hidden_layer_sizes=individue['hidden_layer_sizes'],\n",
        "                            learning_rate=individue['learning_rate'],\n",
        "                            max_iter=individue['max_iter'],\n",
        "                            solver=individue['solver'])\n",
        "  model_mlp.fit(feature_train, label_train) \n",
        "\n",
        "  prediction = model_mlp.predict(feature_test) \n",
        "  return accuracy_score(label_test, prediction)\n",
        "  "
      ],
      "execution_count": 166,
      "outputs": []
    },
    {
      "cell_type": "code",
      "metadata": {
        "id": "pLldVElkEJYj",
        "outputId": "0fc7113e-e9b4-4f84-cc79-9e92f05b2cd3",
        "colab": {
          "base_uri": "https://localhost:8080/"
        }
      },
      "source": [
        "parents"
      ],
      "execution_count": 167,
      "outputs": [
        {
          "output_type": "execute_result",
          "data": {
            "text/plain": [
              "[{'activation': 'logistic',\n",
              "  'fitness': 0.702,\n",
              "  'hidden_layer_sizes': (139, 45),\n",
              "  'learning_rate': 'adaptive',\n",
              "  'max_iter': 229,\n",
              "  'solver': 'adam'}]"
            ]
          },
          "metadata": {
            "tags": []
          },
          "execution_count": 167
        }
      ]
    },
    {
      "cell_type": "markdown",
      "metadata": {
        "id": "qwAhLXiPyEnS"
      },
      "source": [
        "Main\n"
      ]
    },
    {
      "cell_type": "code",
      "metadata": {
        "colab": {
          "base_uri": "https://localhost:8080/",
          "height": 1000
        },
        "id": "IPBbhhb7yBLe",
        "outputId": "daeb2c67-f07d-40d1-935d-25bf1aced06a"
      },
      "source": [
        "population = initiate_population(POPULATION_SIZE)\n",
        "population.sort(key=sortByFitness, reverse=True)\n",
        "print(population)\n",
        "for x in range(0, GENERATIONS):\n",
        "  print(\"generation: \")\n",
        "  print(x)\n",
        "  population = make_children(population)\n",
        "  print(population)\n",
        "\n",
        "print(\"Better was: \") \n",
        "print(population[0])\n",
        "print(\"With a accuracy of: \")\n",
        "print(population[0]['fitness'])"
      ],
      "execution_count": 168,
      "outputs": [
        {
          "output_type": "stream",
          "text": [
            "/usr/local/lib/python3.7/dist-packages/sklearn/neural_network/_multilayer_perceptron.py:470: ConvergenceWarning: lbfgs failed to converge (status=1):\n",
            "STOP: TOTAL NO. of ITERATIONS REACHED LIMIT.\n",
            "\n",
            "Increase the number of iterations (max_iter) or scale the data as shown in:\n",
            "    https://scikit-learn.org/stable/modules/preprocessing.html\n",
            "  self.n_iter_ = _check_optimize_result(\"lbfgs\", opt_res, self.max_iter)\n",
            "/usr/local/lib/python3.7/dist-packages/sklearn/neural_network/_multilayer_perceptron.py:571: ConvergenceWarning: Stochastic Optimizer: Maximum iterations (217) reached and the optimization hasn't converged yet.\n",
            "  % self.max_iter, ConvergenceWarning)\n",
            "/usr/local/lib/python3.7/dist-packages/sklearn/neural_network/_multilayer_perceptron.py:470: ConvergenceWarning: lbfgs failed to converge (status=1):\n",
            "STOP: TOTAL NO. of ITERATIONS REACHED LIMIT.\n",
            "\n",
            "Increase the number of iterations (max_iter) or scale the data as shown in:\n",
            "    https://scikit-learn.org/stable/modules/preprocessing.html\n",
            "  self.n_iter_ = _check_optimize_result(\"lbfgs\", opt_res, self.max_iter)\n",
            "/usr/local/lib/python3.7/dist-packages/sklearn/neural_network/_multilayer_perceptron.py:571: ConvergenceWarning: Stochastic Optimizer: Maximum iterations (175) reached and the optimization hasn't converged yet.\n",
            "  % self.max_iter, ConvergenceWarning)\n",
            "/usr/local/lib/python3.7/dist-packages/sklearn/neural_network/_multilayer_perceptron.py:571: ConvergenceWarning: Stochastic Optimizer: Maximum iterations (103) reached and the optimization hasn't converged yet.\n",
            "  % self.max_iter, ConvergenceWarning)\n",
            "/usr/local/lib/python3.7/dist-packages/sklearn/neural_network/_multilayer_perceptron.py:571: ConvergenceWarning: Stochastic Optimizer: Maximum iterations (110) reached and the optimization hasn't converged yet.\n",
            "  % self.max_iter, ConvergenceWarning)\n",
            "/usr/local/lib/python3.7/dist-packages/sklearn/neural_network/_multilayer_perceptron.py:571: ConvergenceWarning: Stochastic Optimizer: Maximum iterations (151) reached and the optimization hasn't converged yet.\n",
            "  % self.max_iter, ConvergenceWarning)\n",
            "/usr/local/lib/python3.7/dist-packages/sklearn/neural_network/_multilayer_perceptron.py:470: ConvergenceWarning: lbfgs failed to converge (status=1):\n",
            "STOP: TOTAL NO. of ITERATIONS REACHED LIMIT.\n",
            "\n",
            "Increase the number of iterations (max_iter) or scale the data as shown in:\n",
            "    https://scikit-learn.org/stable/modules/preprocessing.html\n",
            "  self.n_iter_ = _check_optimize_result(\"lbfgs\", opt_res, self.max_iter)\n",
            "/usr/local/lib/python3.7/dist-packages/sklearn/neural_network/_multilayer_perceptron.py:470: ConvergenceWarning: lbfgs failed to converge (status=1):\n",
            "STOP: TOTAL NO. of ITERATIONS REACHED LIMIT.\n",
            "\n",
            "Increase the number of iterations (max_iter) or scale the data as shown in:\n",
            "    https://scikit-learn.org/stable/modules/preprocessing.html\n",
            "  self.n_iter_ = _check_optimize_result(\"lbfgs\", opt_res, self.max_iter)\n",
            "/usr/local/lib/python3.7/dist-packages/sklearn/neural_network/_multilayer_perceptron.py:470: ConvergenceWarning: lbfgs failed to converge (status=1):\n",
            "STOP: TOTAL NO. of ITERATIONS REACHED LIMIT.\n",
            "\n",
            "Increase the number of iterations (max_iter) or scale the data as shown in:\n",
            "    https://scikit-learn.org/stable/modules/preprocessing.html\n",
            "  self.n_iter_ = _check_optimize_result(\"lbfgs\", opt_res, self.max_iter)\n",
            "/usr/local/lib/python3.7/dist-packages/sklearn/neural_network/_multilayer_perceptron.py:571: ConvergenceWarning: Stochastic Optimizer: Maximum iterations (127) reached and the optimization hasn't converged yet.\n",
            "  % self.max_iter, ConvergenceWarning)\n",
            "/usr/local/lib/python3.7/dist-packages/sklearn/neural_network/_multilayer_perceptron.py:470: ConvergenceWarning: lbfgs failed to converge (status=1):\n",
            "STOP: TOTAL NO. of ITERATIONS REACHED LIMIT.\n",
            "\n",
            "Increase the number of iterations (max_iter) or scale the data as shown in:\n",
            "    https://scikit-learn.org/stable/modules/preprocessing.html\n",
            "  self.n_iter_ = _check_optimize_result(\"lbfgs\", opt_res, self.max_iter)\n",
            "/usr/local/lib/python3.7/dist-packages/sklearn/neural_network/_multilayer_perceptron.py:571: ConvergenceWarning: Stochastic Optimizer: Maximum iterations (120) reached and the optimization hasn't converged yet.\n",
            "  % self.max_iter, ConvergenceWarning)\n",
            "/usr/local/lib/python3.7/dist-packages/sklearn/neural_network/_multilayer_perceptron.py:470: ConvergenceWarning: lbfgs failed to converge (status=1):\n",
            "STOP: TOTAL NO. of ITERATIONS REACHED LIMIT.\n",
            "\n",
            "Increase the number of iterations (max_iter) or scale the data as shown in:\n",
            "    https://scikit-learn.org/stable/modules/preprocessing.html\n",
            "  self.n_iter_ = _check_optimize_result(\"lbfgs\", opt_res, self.max_iter)\n",
            "/usr/local/lib/python3.7/dist-packages/sklearn/neural_network/_multilayer_perceptron.py:571: ConvergenceWarning: Stochastic Optimizer: Maximum iterations (156) reached and the optimization hasn't converged yet.\n",
            "  % self.max_iter, ConvergenceWarning)\n",
            "/usr/local/lib/python3.7/dist-packages/sklearn/neural_network/_multilayer_perceptron.py:571: ConvergenceWarning: Stochastic Optimizer: Maximum iterations (167) reached and the optimization hasn't converged yet.\n",
            "  % self.max_iter, ConvergenceWarning)\n",
            "/usr/local/lib/python3.7/dist-packages/sklearn/neural_network/_multilayer_perceptron.py:571: ConvergenceWarning: Stochastic Optimizer: Maximum iterations (229) reached and the optimization hasn't converged yet.\n",
            "  % self.max_iter, ConvergenceWarning)\n",
            "/usr/local/lib/python3.7/dist-packages/sklearn/neural_network/_multilayer_perceptron.py:571: ConvergenceWarning: Stochastic Optimizer: Maximum iterations (176) reached and the optimization hasn't converged yet.\n",
            "  % self.max_iter, ConvergenceWarning)\n",
            "/usr/local/lib/python3.7/dist-packages/sklearn/neural_network/_multilayer_perceptron.py:470: ConvergenceWarning: lbfgs failed to converge (status=1):\n",
            "STOP: TOTAL NO. of ITERATIONS REACHED LIMIT.\n",
            "\n",
            "Increase the number of iterations (max_iter) or scale the data as shown in:\n",
            "    https://scikit-learn.org/stable/modules/preprocessing.html\n",
            "  self.n_iter_ = _check_optimize_result(\"lbfgs\", opt_res, self.max_iter)\n",
            "/usr/local/lib/python3.7/dist-packages/sklearn/neural_network/_multilayer_perceptron.py:571: ConvergenceWarning: Stochastic Optimizer: Maximum iterations (138) reached and the optimization hasn't converged yet.\n",
            "  % self.max_iter, ConvergenceWarning)\n",
            "/usr/local/lib/python3.7/dist-packages/sklearn/neural_network/_multilayer_perceptron.py:571: ConvergenceWarning: Stochastic Optimizer: Maximum iterations (245) reached and the optimization hasn't converged yet.\n",
            "  % self.max_iter, ConvergenceWarning)\n",
            "/usr/local/lib/python3.7/dist-packages/sklearn/neural_network/_multilayer_perceptron.py:571: ConvergenceWarning: Stochastic Optimizer: Maximum iterations (132) reached and the optimization hasn't converged yet.\n",
            "  % self.max_iter, ConvergenceWarning)\n"
          ],
          "name": "stderr"
        },
        {
          "output_type": "stream",
          "text": [
            "[{'activation': 'tanh', 'solver': 'sgd', 'learning_rate': 'adaptive', 'hidden_layer_sizes': (187, 80, 24), 'max_iter': 103, 'fitness': 0.704}, {'activation': 'relu', 'solver': 'sgd', 'learning_rate': 'constant', 'hidden_layer_sizes': (147, 80, 32), 'max_iter': 176, 'fitness': 0.703}, {'activation': 'tanh', 'solver': 'sgd', 'learning_rate': 'constant', 'hidden_layer_sizes': (149, 59, 30), 'max_iter': 175, 'fitness': 0.7015}, {'activation': 'logistic', 'solver': 'lbfgs', 'learning_rate': 'constant', 'hidden_layer_sizes': (192, 82, 27), 'max_iter': 116, 'fitness': 0.7}, {'activation': 'logistic', 'solver': 'lbfgs', 'learning_rate': 'constant', 'hidden_layer_sizes': (134, 59, 44), 'max_iter': 155, 'fitness': 0.6995}, {'activation': 'logistic', 'solver': 'adam', 'learning_rate': 'adaptive', 'hidden_layer_sizes': (168, 50, 20), 'max_iter': 156, 'fitness': 0.699}, {'activation': 'logistic', 'solver': 'lbfgs', 'learning_rate': 'constant', 'hidden_layer_sizes': (115, 91, 46), 'max_iter': 114, 'fitness': 0.697}, {'activation': 'identity', 'solver': 'adam', 'learning_rate': 'constant', 'hidden_layer_sizes': (110, 84, 44), 'max_iter': 162, 'fitness': 0.697}, {'activation': 'identity', 'solver': 'lbfgs', 'learning_rate': 'constant', 'hidden_layer_sizes': (103, 83, 39), 'max_iter': 190, 'fitness': 0.6955}, {'activation': 'identity', 'solver': 'sgd', 'learning_rate': 'constant', 'hidden_layer_sizes': (142, 73, 49), 'max_iter': 208, 'fitness': 0.6955}, {'activation': 'identity', 'solver': 'lbfgs', 'learning_rate': 'adaptive', 'hidden_layer_sizes': (168, 80, 31), 'max_iter': 212, 'fitness': 0.6955}, {'activation': 'logistic', 'solver': 'lbfgs', 'learning_rate': 'invscaling', 'hidden_layer_sizes': (101, 85, 21), 'max_iter': 245, 'fitness': 0.6935}, {'activation': 'identity', 'solver': 'sgd', 'learning_rate': 'invscaling', 'hidden_layer_sizes': (188, 61, 13), 'max_iter': 163, 'fitness': 0.6915}, {'activation': 'tanh', 'solver': 'sgd', 'learning_rate': 'invscaling', 'hidden_layer_sizes': (157, 100, 23), 'max_iter': 151, 'fitness': 0.691}, {'activation': 'tanh', 'solver': 'sgd', 'learning_rate': 'invscaling', 'hidden_layer_sizes': (141, 96, 48), 'max_iter': 167, 'fitness': 0.6875}, {'activation': 'relu', 'solver': 'lbfgs', 'learning_rate': 'adaptive', 'hidden_layer_sizes': (196, 72, 36), 'max_iter': 113, 'fitness': 0.685}, {'activation': 'tanh', 'solver': 'adam', 'learning_rate': 'invscaling', 'hidden_layer_sizes': (187, 93, 33), 'max_iter': 110, 'fitness': 0.677}, {'activation': 'relu', 'solver': 'lbfgs', 'learning_rate': 'constant', 'hidden_layer_sizes': (189, 84, 19), 'max_iter': 123, 'fitness': 0.663}, {'activation': 'relu', 'solver': 'adam', 'learning_rate': 'invscaling', 'hidden_layer_sizes': (189, 62, 47), 'max_iter': 138, 'fitness': 0.6535}, {'activation': 'tanh', 'solver': 'adam', 'learning_rate': 'constant', 'hidden_layer_sizes': (196, 52, 48), 'max_iter': 217, 'fitness': 0.6525}, {'activation': 'relu', 'solver': 'adam', 'learning_rate': 'constant', 'hidden_layer_sizes': (188, 71, 37), 'max_iter': 127, 'fitness': 0.65}, {'activation': 'relu', 'solver': 'lbfgs', 'learning_rate': 'adaptive', 'hidden_layer_sizes': (119, 51, 50), 'max_iter': 227, 'fitness': 0.6445}, {'activation': 'relu', 'solver': 'adam', 'learning_rate': 'constant', 'hidden_layer_sizes': (190, 85, 37), 'max_iter': 245, 'fitness': 0.644}, {'activation': 'tanh', 'solver': 'adam', 'learning_rate': 'invscaling', 'hidden_layer_sizes': (147, 95, 36), 'max_iter': 229, 'fitness': 0.641}, {'activation': 'tanh', 'solver': 'lbfgs', 'learning_rate': 'adaptive', 'hidden_layer_sizes': (157, 52, 34), 'max_iter': 246, 'fitness': 0.6065}, {'activation': 'relu', 'solver': 'sgd', 'learning_rate': 'invscaling', 'hidden_layer_sizes': (154, 87, 25), 'max_iter': 120, 'fitness': 0.531}, {'activation': 'logistic', 'solver': 'sgd', 'learning_rate': 'invscaling', 'hidden_layer_sizes': (128, 61, 11), 'max_iter': 249, 'fitness': 0.513}, {'activation': 'logistic', 'solver': 'sgd', 'learning_rate': 'constant', 'hidden_layer_sizes': (173, 96, 36), 'max_iter': 191, 'fitness': 0.513}, {'activation': 'logistic', 'solver': 'sgd', 'learning_rate': 'constant', 'hidden_layer_sizes': (103, 69, 34), 'max_iter': 219, 'fitness': 0.513}, {'activation': 'logistic', 'solver': 'sgd', 'learning_rate': 'invscaling', 'hidden_layer_sizes': (155, 54, 12), 'max_iter': 132, 'fitness': 0.513}]\n",
            "generation: \n",
            "0\n"
          ],
          "name": "stdout"
        },
        {
          "output_type": "stream",
          "text": [
            "/usr/local/lib/python3.7/dist-packages/sklearn/neural_network/_multilayer_perceptron.py:571: ConvergenceWarning: Stochastic Optimizer: Maximum iterations (103) reached and the optimization hasn't converged yet.\n",
            "  % self.max_iter, ConvergenceWarning)\n",
            "/usr/local/lib/python3.7/dist-packages/sklearn/neural_network/_multilayer_perceptron.py:571: ConvergenceWarning: Stochastic Optimizer: Maximum iterations (167) reached and the optimization hasn't converged yet.\n",
            "  % self.max_iter, ConvergenceWarning)\n"
          ],
          "name": "stderr"
        },
        {
          "output_type": "stream",
          "text": [
            "[{'activation': 'tanh', 'solver': 'sgd', 'learning_rate': 'adaptive', 'hidden_layer_sizes': (187, 80, 24), 'max_iter': 103, 'fitness': 0.704}, {'activation': 'relu', 'solver': 'sgd', 'learning_rate': 'constant', 'hidden_layer_sizes': (147, 80, 32), 'max_iter': 176, 'fitness': 0.703}, {'activation': 'tanh', 'hidden_layer_sizes': (187, 80, 48), 'learning_rate': 'adaptive', 'max_iter': 167, 'solver': 'sgd', 'fitness': 0.702}, {'activation': 'tanh', 'solver': 'sgd', 'learning_rate': 'constant', 'hidden_layer_sizes': (149, 59, 30), 'max_iter': 175, 'fitness': 0.7015}, {'activation': 'tanh', 'hidden_layer_sizes': (187, 80, 48), 'learning_rate': 'adaptive', 'max_iter': 103, 'solver': 'sgd', 'fitness': 0.7005}, {'activation': 'logistic', 'solver': 'lbfgs', 'learning_rate': 'constant', 'hidden_layer_sizes': (192, 82, 27), 'max_iter': 116, 'fitness': 0.7}, {'activation': 'logistic', 'solver': 'lbfgs', 'learning_rate': 'constant', 'hidden_layer_sizes': (134, 59, 44), 'max_iter': 155, 'fitness': 0.6995}, {'activation': 'logistic', 'solver': 'adam', 'learning_rate': 'adaptive', 'hidden_layer_sizes': (168, 50, 20), 'max_iter': 156, 'fitness': 0.699}, {'activation': 'logistic', 'solver': 'lbfgs', 'learning_rate': 'constant', 'hidden_layer_sizes': (115, 91, 46), 'max_iter': 114, 'fitness': 0.697}, {'activation': 'identity', 'solver': 'adam', 'learning_rate': 'constant', 'hidden_layer_sizes': (110, 84, 44), 'max_iter': 162, 'fitness': 0.697}, {'activation': 'identity', 'solver': 'lbfgs', 'learning_rate': 'constant', 'hidden_layer_sizes': (103, 83, 39), 'max_iter': 190, 'fitness': 0.6955}, {'activation': 'identity', 'solver': 'sgd', 'learning_rate': 'constant', 'hidden_layer_sizes': (142, 73, 49), 'max_iter': 208, 'fitness': 0.6955}, {'activation': 'identity', 'solver': 'lbfgs', 'learning_rate': 'adaptive', 'hidden_layer_sizes': (168, 80, 31), 'max_iter': 212, 'fitness': 0.6955}, {'activation': 'logistic', 'solver': 'lbfgs', 'learning_rate': 'invscaling', 'hidden_layer_sizes': (101, 85, 21), 'max_iter': 245, 'fitness': 0.6935}, {'activation': 'identity', 'solver': 'sgd', 'learning_rate': 'invscaling', 'hidden_layer_sizes': (188, 61, 13), 'max_iter': 163, 'fitness': 0.6915}, {'activation': 'tanh', 'solver': 'sgd', 'learning_rate': 'invscaling', 'hidden_layer_sizes': (157, 100, 23), 'max_iter': 151, 'fitness': 0.691}, {'activation': 'tanh', 'solver': 'sgd', 'learning_rate': 'invscaling', 'hidden_layer_sizes': (141, 96, 48), 'max_iter': 167, 'fitness': 0.6875}, {'activation': 'relu', 'solver': 'lbfgs', 'learning_rate': 'adaptive', 'hidden_layer_sizes': (196, 72, 36), 'max_iter': 113, 'fitness': 0.685}, {'activation': 'tanh', 'solver': 'adam', 'learning_rate': 'invscaling', 'hidden_layer_sizes': (187, 93, 33), 'max_iter': 110, 'fitness': 0.677}, {'activation': 'relu', 'solver': 'lbfgs', 'learning_rate': 'constant', 'hidden_layer_sizes': (189, 84, 19), 'max_iter': 123, 'fitness': 0.663}, {'activation': 'relu', 'solver': 'adam', 'learning_rate': 'invscaling', 'hidden_layer_sizes': (189, 62, 47), 'max_iter': 138, 'fitness': 0.6535}, {'activation': 'tanh', 'solver': 'adam', 'learning_rate': 'constant', 'hidden_layer_sizes': (196, 52, 48), 'max_iter': 217, 'fitness': 0.6525}, {'activation': 'relu', 'solver': 'adam', 'learning_rate': 'constant', 'hidden_layer_sizes': (188, 71, 37), 'max_iter': 127, 'fitness': 0.65}, {'activation': 'relu', 'solver': 'lbfgs', 'learning_rate': 'adaptive', 'hidden_layer_sizes': (119, 51, 50), 'max_iter': 227, 'fitness': 0.6445}, {'activation': 'relu', 'solver': 'adam', 'learning_rate': 'constant', 'hidden_layer_sizes': (190, 85, 37), 'max_iter': 245, 'fitness': 0.644}, {'activation': 'tanh', 'solver': 'adam', 'learning_rate': 'invscaling', 'hidden_layer_sizes': (147, 95, 36), 'max_iter': 229, 'fitness': 0.641}, {'activation': 'tanh', 'solver': 'lbfgs', 'learning_rate': 'adaptive', 'hidden_layer_sizes': (157, 52, 34), 'max_iter': 246, 'fitness': 0.6065}, {'activation': 'relu', 'solver': 'sgd', 'learning_rate': 'invscaling', 'hidden_layer_sizes': (154, 87, 25), 'max_iter': 120, 'fitness': 0.531}, {'activation': 'logistic', 'solver': 'sgd', 'learning_rate': 'invscaling', 'hidden_layer_sizes': (128, 61, 11), 'max_iter': 249, 'fitness': 0.513}, {'activation': 'logistic', 'solver': 'sgd', 'learning_rate': 'constant', 'hidden_layer_sizes': (173, 96, 36), 'max_iter': 191, 'fitness': 0.513}]\n",
            "generation: \n",
            "1\n",
            "[{'activation': 'tanh', 'solver': 'sgd', 'learning_rate': 'adaptive', 'hidden_layer_sizes': (187, 80, 24), 'max_iter': 103, 'fitness': 0.704}, {'activation': 'relu', 'solver': 'sgd', 'learning_rate': 'constant', 'hidden_layer_sizes': (147, 80, 32), 'max_iter': 176, 'fitness': 0.703}, {'activation': 'tanh', 'hidden_layer_sizes': (187, 80, 48), 'learning_rate': 'adaptive', 'max_iter': 167, 'solver': 'sgd', 'fitness': 0.702}, {'activation': 'tanh', 'solver': 'sgd', 'learning_rate': 'constant', 'hidden_layer_sizes': (149, 59, 30), 'max_iter': 175, 'fitness': 0.7015}, {'activation': 'tanh', 'hidden_layer_sizes': (187, 80, 48), 'learning_rate': 'adaptive', 'max_iter': 103, 'solver': 'sgd', 'fitness': 0.7005}, {'activation': 'logistic', 'solver': 'lbfgs', 'learning_rate': 'constant', 'hidden_layer_sizes': (192, 82, 27), 'max_iter': 116, 'fitness': 0.7}, {'activation': 'logistic', 'solver': 'lbfgs', 'learning_rate': 'constant', 'hidden_layer_sizes': (134, 59, 44), 'max_iter': 155, 'fitness': 0.6995}, {'activation': 'logistic', 'solver': 'adam', 'learning_rate': 'adaptive', 'hidden_layer_sizes': (168, 50, 20), 'max_iter': 156, 'fitness': 0.699}, {'activation': 'logistic', 'solver': 'lbfgs', 'learning_rate': 'constant', 'hidden_layer_sizes': (115, 91, 46), 'max_iter': 114, 'fitness': 0.697}, {'activation': 'identity', 'solver': 'adam', 'learning_rate': 'constant', 'hidden_layer_sizes': (110, 84, 44), 'max_iter': 162, 'fitness': 0.697}, {'activation': 'identity', 'hidden_layer_sizes': (110, 84, 44), 'learning_rate': 'constant', 'max_iter': 162, 'solver': 'adam', 'fitness': 0.696}, {'activation': 'identity', 'solver': 'lbfgs', 'learning_rate': 'constant', 'hidden_layer_sizes': (103, 83, 39), 'max_iter': 190, 'fitness': 0.6955}, {'activation': 'identity', 'solver': 'sgd', 'learning_rate': 'constant', 'hidden_layer_sizes': (142, 73, 49), 'max_iter': 208, 'fitness': 0.6955}, {'activation': 'identity', 'solver': 'lbfgs', 'learning_rate': 'adaptive', 'hidden_layer_sizes': (168, 80, 31), 'max_iter': 212, 'fitness': 0.6955}, {'activation': 'logistic', 'solver': 'lbfgs', 'learning_rate': 'invscaling', 'hidden_layer_sizes': (101, 85, 21), 'max_iter': 245, 'fitness': 0.6935}, {'activation': 'identity', 'hidden_layer_sizes': (110, 84, 44), 'learning_rate': 'constant', 'max_iter': 162, 'solver': 'adam', 'fitness': 0.693}, {'activation': 'identity', 'solver': 'sgd', 'learning_rate': 'invscaling', 'hidden_layer_sizes': (188, 61, 13), 'max_iter': 163, 'fitness': 0.6915}, {'activation': 'tanh', 'solver': 'sgd', 'learning_rate': 'invscaling', 'hidden_layer_sizes': (157, 100, 23), 'max_iter': 151, 'fitness': 0.691}, {'activation': 'tanh', 'solver': 'sgd', 'learning_rate': 'invscaling', 'hidden_layer_sizes': (141, 96, 48), 'max_iter': 167, 'fitness': 0.6875}, {'activation': 'relu', 'solver': 'lbfgs', 'learning_rate': 'adaptive', 'hidden_layer_sizes': (196, 72, 36), 'max_iter': 113, 'fitness': 0.685}, {'activation': 'tanh', 'solver': 'adam', 'learning_rate': 'invscaling', 'hidden_layer_sizes': (187, 93, 33), 'max_iter': 110, 'fitness': 0.677}, {'activation': 'relu', 'solver': 'lbfgs', 'learning_rate': 'constant', 'hidden_layer_sizes': (189, 84, 19), 'max_iter': 123, 'fitness': 0.663}, {'activation': 'relu', 'solver': 'adam', 'learning_rate': 'invscaling', 'hidden_layer_sizes': (189, 62, 47), 'max_iter': 138, 'fitness': 0.6535}, {'activation': 'tanh', 'solver': 'adam', 'learning_rate': 'constant', 'hidden_layer_sizes': (196, 52, 48), 'max_iter': 217, 'fitness': 0.6525}, {'activation': 'relu', 'solver': 'adam', 'learning_rate': 'constant', 'hidden_layer_sizes': (188, 71, 37), 'max_iter': 127, 'fitness': 0.65}, {'activation': 'relu', 'solver': 'lbfgs', 'learning_rate': 'adaptive', 'hidden_layer_sizes': (119, 51, 50), 'max_iter': 227, 'fitness': 0.6445}, {'activation': 'relu', 'solver': 'adam', 'learning_rate': 'constant', 'hidden_layer_sizes': (190, 85, 37), 'max_iter': 245, 'fitness': 0.644}, {'activation': 'tanh', 'solver': 'adam', 'learning_rate': 'invscaling', 'hidden_layer_sizes': (147, 95, 36), 'max_iter': 229, 'fitness': 0.641}, {'activation': 'tanh', 'solver': 'lbfgs', 'learning_rate': 'adaptive', 'hidden_layer_sizes': (157, 52, 34), 'max_iter': 246, 'fitness': 0.6065}, {'activation': 'relu', 'solver': 'sgd', 'learning_rate': 'invscaling', 'hidden_layer_sizes': (154, 87, 25), 'max_iter': 120, 'fitness': 0.531}]\n",
            "generation: \n",
            "2\n",
            "[{'activation': 'tanh', 'solver': 'sgd', 'learning_rate': 'adaptive', 'hidden_layer_sizes': (187, 80, 24), 'max_iter': 103, 'fitness': 0.704}, {'activation': 'relu', 'solver': 'sgd', 'learning_rate': 'constant', 'hidden_layer_sizes': (147, 80, 32), 'max_iter': 176, 'fitness': 0.703}, {'activation': 'tanh', 'hidden_layer_sizes': (187, 80, 48), 'learning_rate': 'adaptive', 'max_iter': 167, 'solver': 'sgd', 'fitness': 0.702}, {'activation': 'tanh', 'solver': 'sgd', 'learning_rate': 'constant', 'hidden_layer_sizes': (149, 59, 30), 'max_iter': 175, 'fitness': 0.7015}, {'activation': 'tanh', 'hidden_layer_sizes': (187, 80, 48), 'learning_rate': 'adaptive', 'max_iter': 103, 'solver': 'sgd', 'fitness': 0.7005}, {'activation': 'logistic', 'solver': 'lbfgs', 'learning_rate': 'constant', 'hidden_layer_sizes': (192, 82, 27), 'max_iter': 116, 'fitness': 0.7}, {'activation': 'logistic', 'solver': 'lbfgs', 'learning_rate': 'constant', 'hidden_layer_sizes': (134, 59, 44), 'max_iter': 155, 'fitness': 0.6995}, {'activation': 'logistic', 'solver': 'adam', 'learning_rate': 'adaptive', 'hidden_layer_sizes': (168, 50, 20), 'max_iter': 156, 'fitness': 0.699}, {'activation': 'logistic', 'solver': 'lbfgs', 'learning_rate': 'constant', 'hidden_layer_sizes': (115, 91, 46), 'max_iter': 114, 'fitness': 0.697}, {'activation': 'identity', 'solver': 'adam', 'learning_rate': 'constant', 'hidden_layer_sizes': (110, 84, 44), 'max_iter': 162, 'fitness': 0.697}, {'activation': 'identity', 'hidden_layer_sizes': (110, 84, 44), 'learning_rate': 'constant', 'max_iter': 162, 'solver': 'adam', 'fitness': 0.696}, {'activation': 'identity', 'solver': 'lbfgs', 'learning_rate': 'constant', 'hidden_layer_sizes': (103, 83, 39), 'max_iter': 190, 'fitness': 0.6955}, {'activation': 'identity', 'solver': 'sgd', 'learning_rate': 'constant', 'hidden_layer_sizes': (142, 73, 49), 'max_iter': 208, 'fitness': 0.6955}, {'activation': 'identity', 'solver': 'lbfgs', 'learning_rate': 'adaptive', 'hidden_layer_sizes': (168, 80, 31), 'max_iter': 212, 'fitness': 0.6955}, {'activation': 'identity', 'hidden_layer_sizes': (110, 85, 37), 'learning_rate': 'adaptive', 'max_iter': 162, 'solver': 'sgd', 'fitness': 0.6955}, {'activation': 'logistic', 'solver': 'lbfgs', 'learning_rate': 'invscaling', 'hidden_layer_sizes': (101, 85, 21), 'max_iter': 245, 'fitness': 0.6935}, {'activation': 'identity', 'hidden_layer_sizes': (110, 84, 44), 'learning_rate': 'constant', 'max_iter': 162, 'solver': 'adam', 'fitness': 0.693}, {'activation': 'identity', 'hidden_layer_sizes': (190, 85, 37), 'learning_rate': 'constant', 'max_iter': 245, 'solver': 'adam', 'fitness': 0.693}, {'activation': 'identity', 'solver': 'sgd', 'learning_rate': 'invscaling', 'hidden_layer_sizes': (188, 61, 13), 'max_iter': 163, 'fitness': 0.6915}, {'activation': 'tanh', 'solver': 'sgd', 'learning_rate': 'invscaling', 'hidden_layer_sizes': (157, 100, 23), 'max_iter': 151, 'fitness': 0.691}, {'activation': 'tanh', 'solver': 'sgd', 'learning_rate': 'invscaling', 'hidden_layer_sizes': (141, 96, 48), 'max_iter': 167, 'fitness': 0.6875}, {'activation': 'relu', 'solver': 'lbfgs', 'learning_rate': 'adaptive', 'hidden_layer_sizes': (196, 72, 36), 'max_iter': 113, 'fitness': 0.685}, {'activation': 'tanh', 'solver': 'adam', 'learning_rate': 'invscaling', 'hidden_layer_sizes': (187, 93, 33), 'max_iter': 110, 'fitness': 0.677}, {'activation': 'relu', 'solver': 'lbfgs', 'learning_rate': 'constant', 'hidden_layer_sizes': (189, 84, 19), 'max_iter': 123, 'fitness': 0.663}, {'activation': 'relu', 'solver': 'adam', 'learning_rate': 'invscaling', 'hidden_layer_sizes': (189, 62, 47), 'max_iter': 138, 'fitness': 0.6535}, {'activation': 'tanh', 'solver': 'adam', 'learning_rate': 'constant', 'hidden_layer_sizes': (196, 52, 48), 'max_iter': 217, 'fitness': 0.6525}, {'activation': 'relu', 'solver': 'adam', 'learning_rate': 'constant', 'hidden_layer_sizes': (188, 71, 37), 'max_iter': 127, 'fitness': 0.65}, {'activation': 'relu', 'solver': 'lbfgs', 'learning_rate': 'adaptive', 'hidden_layer_sizes': (119, 51, 50), 'max_iter': 227, 'fitness': 0.6445}, {'activation': 'relu', 'solver': 'adam', 'learning_rate': 'constant', 'hidden_layer_sizes': (190, 85, 37), 'max_iter': 245, 'fitness': 0.644}, {'activation': 'tanh', 'solver': 'adam', 'learning_rate': 'invscaling', 'hidden_layer_sizes': (147, 95, 36), 'max_iter': 229, 'fitness': 0.641}]\n",
            "generation: \n",
            "3\n"
          ],
          "name": "stdout"
        },
        {
          "output_type": "stream",
          "text": [
            "/usr/local/lib/python3.7/dist-packages/sklearn/neural_network/_multilayer_perceptron.py:470: ConvergenceWarning: lbfgs failed to converge (status=1):\n",
            "STOP: TOTAL NO. of ITERATIONS REACHED LIMIT.\n",
            "\n",
            "Increase the number of iterations (max_iter) or scale the data as shown in:\n",
            "    https://scikit-learn.org/stable/modules/preprocessing.html\n",
            "  self.n_iter_ = _check_optimize_result(\"lbfgs\", opt_res, self.max_iter)\n",
            "/usr/local/lib/python3.7/dist-packages/sklearn/neural_network/_multilayer_perceptron.py:470: ConvergenceWarning: lbfgs failed to converge (status=1):\n",
            "STOP: TOTAL NO. of ITERATIONS REACHED LIMIT.\n",
            "\n",
            "Increase the number of iterations (max_iter) or scale the data as shown in:\n",
            "    https://scikit-learn.org/stable/modules/preprocessing.html\n",
            "  self.n_iter_ = _check_optimize_result(\"lbfgs\", opt_res, self.max_iter)\n"
          ],
          "name": "stderr"
        },
        {
          "output_type": "stream",
          "text": [
            "[{'activation': 'tanh', 'solver': 'sgd', 'learning_rate': 'adaptive', 'hidden_layer_sizes': (187, 80, 24), 'max_iter': 103, 'fitness': 0.704}, {'activation': 'relu', 'solver': 'sgd', 'learning_rate': 'constant', 'hidden_layer_sizes': (147, 80, 32), 'max_iter': 176, 'fitness': 0.703}, {'activation': 'tanh', 'hidden_layer_sizes': (187, 80, 48), 'learning_rate': 'adaptive', 'max_iter': 167, 'solver': 'sgd', 'fitness': 0.702}, {'activation': 'tanh', 'solver': 'sgd', 'learning_rate': 'constant', 'hidden_layer_sizes': (149, 59, 30), 'max_iter': 175, 'fitness': 0.7015}, {'activation': 'tanh', 'hidden_layer_sizes': (187, 80, 48), 'learning_rate': 'adaptive', 'max_iter': 103, 'solver': 'sgd', 'fitness': 0.7005}, {'activation': 'logistic', 'solver': 'lbfgs', 'learning_rate': 'constant', 'hidden_layer_sizes': (192, 82, 27), 'max_iter': 116, 'fitness': 0.7}, {'activation': 'logistic', 'solver': 'lbfgs', 'learning_rate': 'constant', 'hidden_layer_sizes': (134, 59, 44), 'max_iter': 155, 'fitness': 0.6995}, {'activation': 'logistic', 'solver': 'adam', 'learning_rate': 'adaptive', 'hidden_layer_sizes': (168, 50, 20), 'max_iter': 156, 'fitness': 0.699}, {'activation': 'logistic', 'solver': 'lbfgs', 'learning_rate': 'constant', 'hidden_layer_sizes': (115, 91, 46), 'max_iter': 114, 'fitness': 0.697}, {'activation': 'identity', 'solver': 'adam', 'learning_rate': 'constant', 'hidden_layer_sizes': (110, 84, 44), 'max_iter': 162, 'fitness': 0.697}, {'activation': 'identity', 'hidden_layer_sizes': (110, 84, 44), 'learning_rate': 'constant', 'max_iter': 162, 'solver': 'adam', 'fitness': 0.696}, {'activation': 'identity', 'solver': 'lbfgs', 'learning_rate': 'constant', 'hidden_layer_sizes': (103, 83, 39), 'max_iter': 190, 'fitness': 0.6955}, {'activation': 'identity', 'solver': 'sgd', 'learning_rate': 'constant', 'hidden_layer_sizes': (142, 73, 49), 'max_iter': 208, 'fitness': 0.6955}, {'activation': 'identity', 'solver': 'lbfgs', 'learning_rate': 'adaptive', 'hidden_layer_sizes': (168, 80, 31), 'max_iter': 212, 'fitness': 0.6955}, {'activation': 'identity', 'hidden_layer_sizes': (110, 85, 37), 'learning_rate': 'adaptive', 'max_iter': 162, 'solver': 'sgd', 'fitness': 0.6955}, {'activation': 'logistic', 'solver': 'lbfgs', 'learning_rate': 'invscaling', 'hidden_layer_sizes': (101, 85, 21), 'max_iter': 245, 'fitness': 0.6935}, {'activation': 'identity', 'hidden_layer_sizes': (110, 84, 44), 'learning_rate': 'constant', 'max_iter': 162, 'solver': 'adam', 'fitness': 0.693}, {'activation': 'identity', 'hidden_layer_sizes': (190, 85, 37), 'learning_rate': 'constant', 'max_iter': 245, 'solver': 'adam', 'fitness': 0.693}, {'activation': 'identity', 'solver': 'sgd', 'learning_rate': 'invscaling', 'hidden_layer_sizes': (188, 61, 13), 'max_iter': 163, 'fitness': 0.6915}, {'activation': 'tanh', 'solver': 'sgd', 'learning_rate': 'invscaling', 'hidden_layer_sizes': (157, 100, 23), 'max_iter': 151, 'fitness': 0.691}, {'activation': 'tanh', 'solver': 'sgd', 'learning_rate': 'invscaling', 'hidden_layer_sizes': (141, 96, 48), 'max_iter': 167, 'fitness': 0.6875}, {'activation': 'relu', 'solver': 'lbfgs', 'learning_rate': 'adaptive', 'hidden_layer_sizes': (196, 72, 36), 'max_iter': 113, 'fitness': 0.685}, {'activation': 'relu', 'hidden_layer_sizes': (192, 72, 36), 'learning_rate': 'constant', 'max_iter': 113, 'solver': 'lbfgs', 'fitness': 0.6795}, {'activation': 'tanh', 'solver': 'adam', 'learning_rate': 'invscaling', 'hidden_layer_sizes': (187, 93, 33), 'max_iter': 110, 'fitness': 0.677}, {'activation': 'relu', 'solver': 'lbfgs', 'learning_rate': 'constant', 'hidden_layer_sizes': (189, 84, 19), 'max_iter': 123, 'fitness': 0.663}, {'activation': 'tanh', 'hidden_layer_sizes': (192, 72, 36), 'learning_rate': 'constant', 'max_iter': 113, 'solver': 'lbfgs', 'fitness': 0.6545}, {'activation': 'relu', 'solver': 'adam', 'learning_rate': 'invscaling', 'hidden_layer_sizes': (189, 62, 47), 'max_iter': 138, 'fitness': 0.6535}, {'activation': 'tanh', 'solver': 'adam', 'learning_rate': 'constant', 'hidden_layer_sizes': (196, 52, 48), 'max_iter': 217, 'fitness': 0.6525}, {'activation': 'relu', 'solver': 'adam', 'learning_rate': 'constant', 'hidden_layer_sizes': (188, 71, 37), 'max_iter': 127, 'fitness': 0.65}, {'activation': 'relu', 'solver': 'lbfgs', 'learning_rate': 'adaptive', 'hidden_layer_sizes': (119, 51, 50), 'max_iter': 227, 'fitness': 0.6445}]\n",
            "generation: \n",
            "4\n"
          ],
          "name": "stdout"
        },
        {
          "output_type": "stream",
          "text": [
            "/usr/local/lib/python3.7/dist-packages/sklearn/neural_network/_multilayer_perceptron.py:571: ConvergenceWarning: Stochastic Optimizer: Maximum iterations (151) reached and the optimization hasn't converged yet.\n",
            "  % self.max_iter, ConvergenceWarning)\n",
            "/usr/local/lib/python3.7/dist-packages/sklearn/neural_network/_multilayer_perceptron.py:470: ConvergenceWarning: lbfgs failed to converge (status=1):\n",
            "STOP: TOTAL NO. of ITERATIONS REACHED LIMIT.\n",
            "\n",
            "Increase the number of iterations (max_iter) or scale the data as shown in:\n",
            "    https://scikit-learn.org/stable/modules/preprocessing.html\n",
            "  self.n_iter_ = _check_optimize_result(\"lbfgs\", opt_res, self.max_iter)\n"
          ],
          "name": "stderr"
        },
        {
          "output_type": "stream",
          "text": [
            "[{'activation': 'tanh', 'solver': 'sgd', 'learning_rate': 'adaptive', 'hidden_layer_sizes': (187, 80, 24), 'max_iter': 103, 'fitness': 0.704}, {'activation': 'relu', 'solver': 'sgd', 'learning_rate': 'constant', 'hidden_layer_sizes': (147, 80, 32), 'max_iter': 176, 'fitness': 0.703}, {'activation': 'tanh', 'hidden_layer_sizes': (187, 80, 48), 'learning_rate': 'adaptive', 'max_iter': 167, 'solver': 'sgd', 'fitness': 0.702}, {'activation': 'tanh', 'solver': 'sgd', 'learning_rate': 'constant', 'hidden_layer_sizes': (149, 59, 30), 'max_iter': 175, 'fitness': 0.7015}, {'activation': 'tanh', 'hidden_layer_sizes': (187, 80, 48), 'learning_rate': 'adaptive', 'max_iter': 103, 'solver': 'sgd', 'fitness': 0.7005}, {'activation': 'logistic', 'solver': 'lbfgs', 'learning_rate': 'constant', 'hidden_layer_sizes': (192, 82, 27), 'max_iter': 116, 'fitness': 0.7}, {'activation': 'logistic', 'solver': 'lbfgs', 'learning_rate': 'constant', 'hidden_layer_sizes': (134, 59, 44), 'max_iter': 155, 'fitness': 0.6995}, {'activation': 'logistic', 'solver': 'adam', 'learning_rate': 'adaptive', 'hidden_layer_sizes': (168, 50, 20), 'max_iter': 156, 'fitness': 0.699}, {'activation': 'logistic', 'solver': 'lbfgs', 'learning_rate': 'constant', 'hidden_layer_sizes': (115, 91, 46), 'max_iter': 114, 'fitness': 0.697}, {'activation': 'identity', 'solver': 'adam', 'learning_rate': 'constant', 'hidden_layer_sizes': (110, 84, 44), 'max_iter': 162, 'fitness': 0.697}, {'activation': 'identity', 'hidden_layer_sizes': (110, 84, 44), 'learning_rate': 'constant', 'max_iter': 162, 'solver': 'adam', 'fitness': 0.696}, {'activation': 'identity', 'solver': 'lbfgs', 'learning_rate': 'constant', 'hidden_layer_sizes': (103, 83, 39), 'max_iter': 190, 'fitness': 0.6955}, {'activation': 'identity', 'solver': 'sgd', 'learning_rate': 'constant', 'hidden_layer_sizes': (142, 73, 49), 'max_iter': 208, 'fitness': 0.6955}, {'activation': 'identity', 'solver': 'lbfgs', 'learning_rate': 'adaptive', 'hidden_layer_sizes': (168, 80, 31), 'max_iter': 212, 'fitness': 0.6955}, {'activation': 'identity', 'hidden_layer_sizes': (110, 85, 37), 'learning_rate': 'adaptive', 'max_iter': 162, 'solver': 'sgd', 'fitness': 0.6955}, {'activation': 'logistic', 'solver': 'lbfgs', 'learning_rate': 'invscaling', 'hidden_layer_sizes': (101, 85, 21), 'max_iter': 245, 'fitness': 0.6935}, {'activation': 'identity', 'hidden_layer_sizes': (110, 84, 44), 'learning_rate': 'constant', 'max_iter': 162, 'solver': 'adam', 'fitness': 0.693}, {'activation': 'identity', 'hidden_layer_sizes': (190, 85, 37), 'learning_rate': 'constant', 'max_iter': 245, 'solver': 'adam', 'fitness': 0.693}, {'activation': 'identity', 'solver': 'sgd', 'learning_rate': 'invscaling', 'hidden_layer_sizes': (188, 61, 13), 'max_iter': 163, 'fitness': 0.6915}, {'activation': 'tanh', 'solver': 'sgd', 'learning_rate': 'invscaling', 'hidden_layer_sizes': (157, 100, 23), 'max_iter': 151, 'fitness': 0.691}, {'activation': 'tanh', 'solver': 'sgd', 'learning_rate': 'invscaling', 'hidden_layer_sizes': (141, 96, 48), 'max_iter': 167, 'fitness': 0.6875}, {'activation': 'relu', 'solver': 'lbfgs', 'learning_rate': 'adaptive', 'hidden_layer_sizes': (196, 72, 36), 'max_iter': 113, 'fitness': 0.685}, {'activation': 'relu', 'hidden_layer_sizes': (192, 72, 36), 'learning_rate': 'constant', 'max_iter': 113, 'solver': 'lbfgs', 'fitness': 0.6795}, {'activation': 'tanh', 'solver': 'adam', 'learning_rate': 'invscaling', 'hidden_layer_sizes': (187, 93, 33), 'max_iter': 110, 'fitness': 0.677}, {'activation': 'tanh', 'hidden_layer_sizes': (157, 100, 23), 'learning_rate': 'invscaling', 'max_iter': 151, 'solver': 'sgd', 'fitness': 0.6745}, {'activation': 'relu', 'solver': 'lbfgs', 'learning_rate': 'constant', 'hidden_layer_sizes': (189, 84, 19), 'max_iter': 123, 'fitness': 0.663}, {'activation': 'tanh', 'hidden_layer_sizes': (192, 72, 36), 'learning_rate': 'constant', 'max_iter': 113, 'solver': 'lbfgs', 'fitness': 0.6545}, {'activation': 'relu', 'solver': 'adam', 'learning_rate': 'invscaling', 'hidden_layer_sizes': (189, 62, 47), 'max_iter': 138, 'fitness': 0.6535}, {'activation': 'tanh', 'solver': 'adam', 'learning_rate': 'constant', 'hidden_layer_sizes': (196, 52, 48), 'max_iter': 217, 'fitness': 0.6525}, {'activation': 'relu', 'solver': 'adam', 'learning_rate': 'constant', 'hidden_layer_sizes': (188, 71, 37), 'max_iter': 127, 'fitness': 0.65}]\n",
            "generation: \n",
            "5\n",
            "[{'activation': 'tanh', 'solver': 'sgd', 'learning_rate': 'adaptive', 'hidden_layer_sizes': (187, 80, 24), 'max_iter': 103, 'fitness': 0.704}, {'activation': 'relu', 'solver': 'sgd', 'learning_rate': 'constant', 'hidden_layer_sizes': (147, 80, 32), 'max_iter': 176, 'fitness': 0.703}, {'activation': 'tanh', 'hidden_layer_sizes': (187, 80, 48), 'learning_rate': 'adaptive', 'max_iter': 167, 'solver': 'sgd', 'fitness': 0.702}, {'activation': 'tanh', 'solver': 'sgd', 'learning_rate': 'constant', 'hidden_layer_sizes': (149, 59, 30), 'max_iter': 175, 'fitness': 0.7015}, {'activation': 'tanh', 'hidden_layer_sizes': (187, 80, 48), 'learning_rate': 'adaptive', 'max_iter': 103, 'solver': 'sgd', 'fitness': 0.7005}, {'activation': 'logistic', 'solver': 'lbfgs', 'learning_rate': 'constant', 'hidden_layer_sizes': (192, 82, 27), 'max_iter': 116, 'fitness': 0.7}, {'activation': 'logistic', 'solver': 'lbfgs', 'learning_rate': 'constant', 'hidden_layer_sizes': (134, 59, 44), 'max_iter': 155, 'fitness': 0.6995}, {'activation': 'logistic', 'solver': 'adam', 'learning_rate': 'adaptive', 'hidden_layer_sizes': (168, 50, 20), 'max_iter': 156, 'fitness': 0.699}, {'activation': 'logistic', 'solver': 'lbfgs', 'learning_rate': 'constant', 'hidden_layer_sizes': (115, 91, 46), 'max_iter': 114, 'fitness': 0.697}, {'activation': 'identity', 'solver': 'adam', 'learning_rate': 'constant', 'hidden_layer_sizes': (110, 84, 44), 'max_iter': 162, 'fitness': 0.697}, {'activation': 'identity', 'hidden_layer_sizes': (110, 84, 44), 'learning_rate': 'constant', 'max_iter': 162, 'solver': 'adam', 'fitness': 0.696}, {'activation': 'identity', 'solver': 'lbfgs', 'learning_rate': 'constant', 'hidden_layer_sizes': (103, 83, 39), 'max_iter': 190, 'fitness': 0.6955}, {'activation': 'identity', 'solver': 'sgd', 'learning_rate': 'constant', 'hidden_layer_sizes': (142, 73, 49), 'max_iter': 208, 'fitness': 0.6955}, {'activation': 'identity', 'solver': 'lbfgs', 'learning_rate': 'adaptive', 'hidden_layer_sizes': (168, 80, 31), 'max_iter': 212, 'fitness': 0.6955}, {'activation': 'identity', 'hidden_layer_sizes': (110, 85, 37), 'learning_rate': 'adaptive', 'max_iter': 162, 'solver': 'sgd', 'fitness': 0.6955}, {'activation': 'identity', 'hidden_layer_sizes': (168, 50, 13), 'learning_rate': 'adaptive', 'max_iter': 163, 'solver': 'adam', 'fitness': 0.6955}, {'activation': 'logistic', 'solver': 'lbfgs', 'learning_rate': 'invscaling', 'hidden_layer_sizes': (101, 85, 21), 'max_iter': 245, 'fitness': 0.6935}, {'activation': 'identity', 'hidden_layer_sizes': (110, 84, 44), 'learning_rate': 'constant', 'max_iter': 162, 'solver': 'adam', 'fitness': 0.693}, {'activation': 'identity', 'hidden_layer_sizes': (190, 85, 37), 'learning_rate': 'constant', 'max_iter': 245, 'solver': 'adam', 'fitness': 0.693}, {'activation': 'identity', 'hidden_layer_sizes': (168, 61, 13), 'learning_rate': 'adaptive', 'max_iter': 163, 'solver': 'adam', 'fitness': 0.692}, {'activation': 'identity', 'solver': 'sgd', 'learning_rate': 'invscaling', 'hidden_layer_sizes': (188, 61, 13), 'max_iter': 163, 'fitness': 0.6915}, {'activation': 'tanh', 'solver': 'sgd', 'learning_rate': 'invscaling', 'hidden_layer_sizes': (157, 100, 23), 'max_iter': 151, 'fitness': 0.691}, {'activation': 'tanh', 'solver': 'sgd', 'learning_rate': 'invscaling', 'hidden_layer_sizes': (141, 96, 48), 'max_iter': 167, 'fitness': 0.6875}, {'activation': 'relu', 'solver': 'lbfgs', 'learning_rate': 'adaptive', 'hidden_layer_sizes': (196, 72, 36), 'max_iter': 113, 'fitness': 0.685}, {'activation': 'relu', 'hidden_layer_sizes': (192, 72, 36), 'learning_rate': 'constant', 'max_iter': 113, 'solver': 'lbfgs', 'fitness': 0.6795}, {'activation': 'tanh', 'solver': 'adam', 'learning_rate': 'invscaling', 'hidden_layer_sizes': (187, 93, 33), 'max_iter': 110, 'fitness': 0.677}, {'activation': 'tanh', 'hidden_layer_sizes': (157, 100, 23), 'learning_rate': 'invscaling', 'max_iter': 151, 'solver': 'sgd', 'fitness': 0.6745}, {'activation': 'relu', 'solver': 'lbfgs', 'learning_rate': 'constant', 'hidden_layer_sizes': (189, 84, 19), 'max_iter': 123, 'fitness': 0.663}, {'activation': 'tanh', 'hidden_layer_sizes': (192, 72, 36), 'learning_rate': 'constant', 'max_iter': 113, 'solver': 'lbfgs', 'fitness': 0.6545}, {'activation': 'relu', 'solver': 'adam', 'learning_rate': 'invscaling', 'hidden_layer_sizes': (189, 62, 47), 'max_iter': 138, 'fitness': 0.6535}]\n",
            "generation: \n",
            "6\n"
          ],
          "name": "stdout"
        },
        {
          "output_type": "stream",
          "text": [
            "/usr/local/lib/python3.7/dist-packages/sklearn/neural_network/_multilayer_perceptron.py:470: ConvergenceWarning: lbfgs failed to converge (status=1):\n",
            "STOP: TOTAL NO. of ITERATIONS REACHED LIMIT.\n",
            "\n",
            "Increase the number of iterations (max_iter) or scale the data as shown in:\n",
            "    https://scikit-learn.org/stable/modules/preprocessing.html\n",
            "  self.n_iter_ = _check_optimize_result(\"lbfgs\", opt_res, self.max_iter)\n"
          ],
          "name": "stderr"
        },
        {
          "output_type": "stream",
          "text": [
            "[{'activation': 'tanh', 'solver': 'sgd', 'learning_rate': 'adaptive', 'hidden_layer_sizes': (187, 80, 24), 'max_iter': 103, 'fitness': 0.704}, {'activation': 'relu', 'solver': 'sgd', 'learning_rate': 'constant', 'hidden_layer_sizes': (147, 80, 32), 'max_iter': 176, 'fitness': 0.703}, {'activation': 'tanh', 'hidden_layer_sizes': (187, 80, 48), 'learning_rate': 'adaptive', 'max_iter': 167, 'solver': 'sgd', 'fitness': 0.702}, {'activation': 'tanh', 'solver': 'sgd', 'learning_rate': 'constant', 'hidden_layer_sizes': (149, 59, 30), 'max_iter': 175, 'fitness': 0.7015}, {'activation': 'tanh', 'hidden_layer_sizes': (187, 80, 48), 'learning_rate': 'adaptive', 'max_iter': 103, 'solver': 'sgd', 'fitness': 0.7005}, {'activation': 'logistic', 'solver': 'lbfgs', 'learning_rate': 'constant', 'hidden_layer_sizes': (192, 82, 27), 'max_iter': 116, 'fitness': 0.7}, {'activation': 'logistic', 'solver': 'lbfgs', 'learning_rate': 'constant', 'hidden_layer_sizes': (134, 59, 44), 'max_iter': 155, 'fitness': 0.6995}, {'activation': 'logistic', 'solver': 'adam', 'learning_rate': 'adaptive', 'hidden_layer_sizes': (168, 50, 20), 'max_iter': 156, 'fitness': 0.699}, {'activation': 'logistic', 'solver': 'lbfgs', 'learning_rate': 'constant', 'hidden_layer_sizes': (115, 91, 46), 'max_iter': 114, 'fitness': 0.697}, {'activation': 'identity', 'solver': 'adam', 'learning_rate': 'constant', 'hidden_layer_sizes': (110, 84, 44), 'max_iter': 162, 'fitness': 0.697}, {'activation': 'identity', 'hidden_layer_sizes': (110, 84, 44), 'learning_rate': 'constant', 'max_iter': 162, 'solver': 'adam', 'fitness': 0.696}, {'activation': 'identity', 'solver': 'lbfgs', 'learning_rate': 'constant', 'hidden_layer_sizes': (103, 83, 39), 'max_iter': 190, 'fitness': 0.6955}, {'activation': 'identity', 'solver': 'sgd', 'learning_rate': 'constant', 'hidden_layer_sizes': (142, 73, 49), 'max_iter': 208, 'fitness': 0.6955}, {'activation': 'identity', 'solver': 'lbfgs', 'learning_rate': 'adaptive', 'hidden_layer_sizes': (168, 80, 31), 'max_iter': 212, 'fitness': 0.6955}, {'activation': 'identity', 'hidden_layer_sizes': (110, 85, 37), 'learning_rate': 'adaptive', 'max_iter': 162, 'solver': 'sgd', 'fitness': 0.6955}, {'activation': 'identity', 'hidden_layer_sizes': (168, 50, 13), 'learning_rate': 'adaptive', 'max_iter': 163, 'solver': 'adam', 'fitness': 0.6955}, {'activation': 'identity', 'hidden_layer_sizes': (110, 84, 44), 'learning_rate': 'adaptive', 'max_iter': 123, 'solver': 'adam', 'fitness': 0.6945}, {'activation': 'logistic', 'solver': 'lbfgs', 'learning_rate': 'invscaling', 'hidden_layer_sizes': (101, 85, 21), 'max_iter': 245, 'fitness': 0.6935}, {'activation': 'identity', 'hidden_layer_sizes': (110, 84, 44), 'learning_rate': 'constant', 'max_iter': 162, 'solver': 'adam', 'fitness': 0.693}, {'activation': 'identity', 'hidden_layer_sizes': (190, 85, 37), 'learning_rate': 'constant', 'max_iter': 245, 'solver': 'adam', 'fitness': 0.693}, {'activation': 'identity', 'hidden_layer_sizes': (168, 61, 13), 'learning_rate': 'adaptive', 'max_iter': 163, 'solver': 'adam', 'fitness': 0.692}, {'activation': 'identity', 'solver': 'sgd', 'learning_rate': 'invscaling', 'hidden_layer_sizes': (188, 61, 13), 'max_iter': 163, 'fitness': 0.6915}, {'activation': 'tanh', 'solver': 'sgd', 'learning_rate': 'invscaling', 'hidden_layer_sizes': (157, 100, 23), 'max_iter': 151, 'fitness': 0.691}, {'activation': 'tanh', 'solver': 'sgd', 'learning_rate': 'invscaling', 'hidden_layer_sizes': (141, 96, 48), 'max_iter': 167, 'fitness': 0.6875}, {'activation': 'relu', 'solver': 'lbfgs', 'learning_rate': 'adaptive', 'hidden_layer_sizes': (196, 72, 36), 'max_iter': 113, 'fitness': 0.685}, {'activation': 'relu', 'hidden_layer_sizes': (192, 72, 36), 'learning_rate': 'constant', 'max_iter': 113, 'solver': 'lbfgs', 'fitness': 0.6795}, {'activation': 'tanh', 'solver': 'adam', 'learning_rate': 'invscaling', 'hidden_layer_sizes': (187, 93, 33), 'max_iter': 110, 'fitness': 0.677}, {'activation': 'tanh', 'hidden_layer_sizes': (157, 100, 23), 'learning_rate': 'invscaling', 'max_iter': 151, 'solver': 'sgd', 'fitness': 0.6745}, {'activation': 'relu', 'solver': 'lbfgs', 'learning_rate': 'constant', 'hidden_layer_sizes': (189, 84, 19), 'max_iter': 123, 'fitness': 0.663}, {'activation': 'relu', 'hidden_layer_sizes': (110, 84, 19), 'learning_rate': 'adaptive', 'max_iter': 123, 'solver': 'lbfgs', 'fitness': 0.6555}]\n",
            "generation: \n",
            "7\n"
          ],
          "name": "stdout"
        },
        {
          "output_type": "stream",
          "text": [
            "/usr/local/lib/python3.7/dist-packages/sklearn/neural_network/_multilayer_perceptron.py:571: ConvergenceWarning: Stochastic Optimizer: Maximum iterations (123) reached and the optimization hasn't converged yet.\n",
            "  % self.max_iter, ConvergenceWarning)\n",
            "/usr/local/lib/python3.7/dist-packages/sklearn/neural_network/_multilayer_perceptron.py:470: ConvergenceWarning: lbfgs failed to converge (status=1):\n",
            "STOP: TOTAL NO. of ITERATIONS REACHED LIMIT.\n",
            "\n",
            "Increase the number of iterations (max_iter) or scale the data as shown in:\n",
            "    https://scikit-learn.org/stable/modules/preprocessing.html\n",
            "  self.n_iter_ = _check_optimize_result(\"lbfgs\", opt_res, self.max_iter)\n"
          ],
          "name": "stderr"
        },
        {
          "output_type": "stream",
          "text": [
            "[{'activation': 'tanh', 'solver': 'sgd', 'learning_rate': 'adaptive', 'hidden_layer_sizes': (187, 80, 24), 'max_iter': 103, 'fitness': 0.704}, {'activation': 'relu', 'solver': 'sgd', 'learning_rate': 'constant', 'hidden_layer_sizes': (147, 80, 32), 'max_iter': 176, 'fitness': 0.703}, {'activation': 'tanh', 'hidden_layer_sizes': (187, 80, 48), 'learning_rate': 'adaptive', 'max_iter': 167, 'solver': 'sgd', 'fitness': 0.702}, {'activation': 'tanh', 'solver': 'sgd', 'learning_rate': 'constant', 'hidden_layer_sizes': (149, 59, 30), 'max_iter': 175, 'fitness': 0.7015}, {'activation': 'tanh', 'hidden_layer_sizes': (187, 80, 48), 'learning_rate': 'adaptive', 'max_iter': 103, 'solver': 'sgd', 'fitness': 0.7005}, {'activation': 'logistic', 'solver': 'lbfgs', 'learning_rate': 'constant', 'hidden_layer_sizes': (192, 82, 27), 'max_iter': 116, 'fitness': 0.7}, {'activation': 'logistic', 'solver': 'lbfgs', 'learning_rate': 'constant', 'hidden_layer_sizes': (134, 59, 44), 'max_iter': 155, 'fitness': 0.6995}, {'activation': 'logistic', 'solver': 'adam', 'learning_rate': 'adaptive', 'hidden_layer_sizes': (168, 50, 20), 'max_iter': 156, 'fitness': 0.699}, {'activation': 'relu', 'hidden_layer_sizes': (187, 84, 19), 'learning_rate': 'adaptive', 'max_iter': 123, 'solver': 'sgd', 'fitness': 0.698}, {'activation': 'logistic', 'solver': 'lbfgs', 'learning_rate': 'constant', 'hidden_layer_sizes': (115, 91, 46), 'max_iter': 114, 'fitness': 0.697}, {'activation': 'identity', 'solver': 'adam', 'learning_rate': 'constant', 'hidden_layer_sizes': (110, 84, 44), 'max_iter': 162, 'fitness': 0.697}, {'activation': 'identity', 'hidden_layer_sizes': (110, 84, 44), 'learning_rate': 'constant', 'max_iter': 162, 'solver': 'adam', 'fitness': 0.696}, {'activation': 'identity', 'solver': 'lbfgs', 'learning_rate': 'constant', 'hidden_layer_sizes': (103, 83, 39), 'max_iter': 190, 'fitness': 0.6955}, {'activation': 'identity', 'solver': 'sgd', 'learning_rate': 'constant', 'hidden_layer_sizes': (142, 73, 49), 'max_iter': 208, 'fitness': 0.6955}, {'activation': 'identity', 'solver': 'lbfgs', 'learning_rate': 'adaptive', 'hidden_layer_sizes': (168, 80, 31), 'max_iter': 212, 'fitness': 0.6955}, {'activation': 'identity', 'hidden_layer_sizes': (110, 85, 37), 'learning_rate': 'adaptive', 'max_iter': 162, 'solver': 'sgd', 'fitness': 0.6955}, {'activation': 'identity', 'hidden_layer_sizes': (168, 50, 13), 'learning_rate': 'adaptive', 'max_iter': 163, 'solver': 'adam', 'fitness': 0.6955}, {'activation': 'identity', 'hidden_layer_sizes': (110, 84, 44), 'learning_rate': 'adaptive', 'max_iter': 123, 'solver': 'adam', 'fitness': 0.6945}, {'activation': 'logistic', 'solver': 'lbfgs', 'learning_rate': 'invscaling', 'hidden_layer_sizes': (101, 85, 21), 'max_iter': 245, 'fitness': 0.6935}, {'activation': 'identity', 'hidden_layer_sizes': (110, 84, 44), 'learning_rate': 'constant', 'max_iter': 162, 'solver': 'adam', 'fitness': 0.693}, {'activation': 'identity', 'hidden_layer_sizes': (190, 85, 37), 'learning_rate': 'constant', 'max_iter': 245, 'solver': 'adam', 'fitness': 0.693}, {'activation': 'identity', 'hidden_layer_sizes': (168, 61, 13), 'learning_rate': 'adaptive', 'max_iter': 163, 'solver': 'adam', 'fitness': 0.692}, {'activation': 'identity', 'solver': 'sgd', 'learning_rate': 'invscaling', 'hidden_layer_sizes': (188, 61, 13), 'max_iter': 163, 'fitness': 0.6915}, {'activation': 'tanh', 'solver': 'sgd', 'learning_rate': 'invscaling', 'hidden_layer_sizes': (157, 100, 23), 'max_iter': 151, 'fitness': 0.691}, {'activation': 'tanh', 'solver': 'sgd', 'learning_rate': 'invscaling', 'hidden_layer_sizes': (141, 96, 48), 'max_iter': 167, 'fitness': 0.6875}, {'activation': 'relu', 'solver': 'lbfgs', 'learning_rate': 'adaptive', 'hidden_layer_sizes': (196, 72, 36), 'max_iter': 113, 'fitness': 0.685}, {'activation': 'relu', 'hidden_layer_sizes': (192, 72, 36), 'learning_rate': 'constant', 'max_iter': 113, 'solver': 'lbfgs', 'fitness': 0.6795}, {'activation': 'tanh', 'solver': 'adam', 'learning_rate': 'invscaling', 'hidden_layer_sizes': (187, 93, 33), 'max_iter': 110, 'fitness': 0.677}, {'activation': 'tanh', 'hidden_layer_sizes': (157, 100, 23), 'learning_rate': 'invscaling', 'max_iter': 151, 'solver': 'sgd', 'fitness': 0.6745}, {'activation': 'relu', 'hidden_layer_sizes': (187, 80, 19), 'learning_rate': 'adaptive', 'max_iter': 123, 'solver': 'lbfgs', 'fitness': 0.6635}]\n",
            "generation: \n",
            "8\n"
          ],
          "name": "stdout"
        },
        {
          "output_type": "stream",
          "text": [
            "/usr/local/lib/python3.7/dist-packages/sklearn/neural_network/_multilayer_perceptron.py:571: ConvergenceWarning: Stochastic Optimizer: Maximum iterations (167) reached and the optimization hasn't converged yet.\n",
            "  % self.max_iter, ConvergenceWarning)\n",
            "/usr/local/lib/python3.7/dist-packages/sklearn/neural_network/_multilayer_perceptron.py:470: ConvergenceWarning: lbfgs failed to converge (status=1):\n",
            "STOP: TOTAL NO. of ITERATIONS REACHED LIMIT.\n",
            "\n",
            "Increase the number of iterations (max_iter) or scale the data as shown in:\n",
            "    https://scikit-learn.org/stable/modules/preprocessing.html\n",
            "  self.n_iter_ = _check_optimize_result(\"lbfgs\", opt_res, self.max_iter)\n"
          ],
          "name": "stderr"
        },
        {
          "output_type": "stream",
          "text": [
            "[{'activation': 'tanh', 'solver': 'sgd', 'learning_rate': 'adaptive', 'hidden_layer_sizes': (187, 80, 24), 'max_iter': 103, 'fitness': 0.704}, {'activation': 'relu', 'solver': 'sgd', 'learning_rate': 'constant', 'hidden_layer_sizes': (147, 80, 32), 'max_iter': 176, 'fitness': 0.703}, {'activation': 'tanh', 'hidden_layer_sizes': (187, 80, 48), 'learning_rate': 'adaptive', 'max_iter': 167, 'solver': 'sgd', 'fitness': 0.702}, {'activation': 'tanh', 'solver': 'sgd', 'learning_rate': 'constant', 'hidden_layer_sizes': (149, 59, 30), 'max_iter': 175, 'fitness': 0.7015}, {'activation': 'tanh', 'hidden_layer_sizes': (187, 80, 48), 'learning_rate': 'adaptive', 'max_iter': 103, 'solver': 'sgd', 'fitness': 0.7005}, {'activation': 'logistic', 'solver': 'lbfgs', 'learning_rate': 'constant', 'hidden_layer_sizes': (192, 82, 27), 'max_iter': 116, 'fitness': 0.7}, {'activation': 'logistic', 'solver': 'lbfgs', 'learning_rate': 'constant', 'hidden_layer_sizes': (134, 59, 44), 'max_iter': 155, 'fitness': 0.6995}, {'activation': 'logistic', 'solver': 'adam', 'learning_rate': 'adaptive', 'hidden_layer_sizes': (168, 50, 20), 'max_iter': 156, 'fitness': 0.699}, {'activation': 'relu', 'hidden_layer_sizes': (187, 84, 19), 'learning_rate': 'adaptive', 'max_iter': 123, 'solver': 'sgd', 'fitness': 0.698}, {'activation': 'logistic', 'solver': 'lbfgs', 'learning_rate': 'constant', 'hidden_layer_sizes': (115, 91, 46), 'max_iter': 114, 'fitness': 0.697}, {'activation': 'identity', 'solver': 'adam', 'learning_rate': 'constant', 'hidden_layer_sizes': (110, 84, 44), 'max_iter': 162, 'fitness': 0.697}, {'activation': 'identity', 'hidden_layer_sizes': (110, 84, 44), 'learning_rate': 'constant', 'max_iter': 162, 'solver': 'adam', 'fitness': 0.696}, {'activation': 'identity', 'solver': 'lbfgs', 'learning_rate': 'constant', 'hidden_layer_sizes': (103, 83, 39), 'max_iter': 190, 'fitness': 0.6955}, {'activation': 'identity', 'solver': 'sgd', 'learning_rate': 'constant', 'hidden_layer_sizes': (142, 73, 49), 'max_iter': 208, 'fitness': 0.6955}, {'activation': 'identity', 'solver': 'lbfgs', 'learning_rate': 'adaptive', 'hidden_layer_sizes': (168, 80, 31), 'max_iter': 212, 'fitness': 0.6955}, {'activation': 'identity', 'hidden_layer_sizes': (110, 85, 37), 'learning_rate': 'adaptive', 'max_iter': 162, 'solver': 'sgd', 'fitness': 0.6955}, {'activation': 'identity', 'hidden_layer_sizes': (168, 50, 13), 'learning_rate': 'adaptive', 'max_iter': 163, 'solver': 'adam', 'fitness': 0.6955}, {'activation': 'identity', 'hidden_layer_sizes': (110, 84, 44), 'learning_rate': 'adaptive', 'max_iter': 123, 'solver': 'adam', 'fitness': 0.6945}, {'activation': 'logistic', 'solver': 'lbfgs', 'learning_rate': 'invscaling', 'hidden_layer_sizes': (101, 85, 21), 'max_iter': 245, 'fitness': 0.6935}, {'activation': 'identity', 'hidden_layer_sizes': (110, 84, 44), 'learning_rate': 'constant', 'max_iter': 162, 'solver': 'adam', 'fitness': 0.693}, {'activation': 'identity', 'hidden_layer_sizes': (190, 85, 37), 'learning_rate': 'constant', 'max_iter': 245, 'solver': 'adam', 'fitness': 0.693}, {'activation': 'identity', 'hidden_layer_sizes': (168, 61, 13), 'learning_rate': 'adaptive', 'max_iter': 163, 'solver': 'adam', 'fitness': 0.692}, {'activation': 'identity', 'solver': 'sgd', 'learning_rate': 'invscaling', 'hidden_layer_sizes': (188, 61, 13), 'max_iter': 163, 'fitness': 0.6915}, {'activation': 'logistic', 'hidden_layer_sizes': (141, 100, 23), 'learning_rate': 'invscaling', 'max_iter': 151, 'solver': 'lbfgs', 'fitness': 0.6915}, {'activation': 'tanh', 'solver': 'sgd', 'learning_rate': 'invscaling', 'hidden_layer_sizes': (157, 100, 23), 'max_iter': 151, 'fitness': 0.691}, {'activation': 'tanh', 'solver': 'sgd', 'learning_rate': 'invscaling', 'hidden_layer_sizes': (141, 96, 48), 'max_iter': 167, 'fitness': 0.6875}, {'activation': 'relu', 'solver': 'lbfgs', 'learning_rate': 'adaptive', 'hidden_layer_sizes': (196, 72, 36), 'max_iter': 113, 'fitness': 0.685}, {'activation': 'relu', 'hidden_layer_sizes': (192, 72, 36), 'learning_rate': 'constant', 'max_iter': 113, 'solver': 'lbfgs', 'fitness': 0.6795}, {'activation': 'tanh', 'solver': 'adam', 'learning_rate': 'invscaling', 'hidden_layer_sizes': (187, 93, 33), 'max_iter': 110, 'fitness': 0.677}, {'activation': 'tanh', 'hidden_layer_sizes': (157, 100, 23), 'learning_rate': 'invscaling', 'max_iter': 151, 'solver': 'sgd', 'fitness': 0.6745}]\n",
            "generation: \n",
            "9\n"
          ],
          "name": "stdout"
        },
        {
          "output_type": "stream",
          "text": [
            "/usr/local/lib/python3.7/dist-packages/sklearn/neural_network/_multilayer_perceptron.py:571: ConvergenceWarning: Stochastic Optimizer: Maximum iterations (103) reached and the optimization hasn't converged yet.\n",
            "  % self.max_iter, ConvergenceWarning)\n",
            "/usr/local/lib/python3.7/dist-packages/sklearn/neural_network/_multilayer_perceptron.py:571: ConvergenceWarning: Stochastic Optimizer: Maximum iterations (151) reached and the optimization hasn't converged yet.\n",
            "  % self.max_iter, ConvergenceWarning)\n"
          ],
          "name": "stderr"
        },
        {
          "output_type": "stream",
          "text": [
            "[{'activation': 'tanh', 'solver': 'sgd', 'learning_rate': 'adaptive', 'hidden_layer_sizes': (187, 80, 24), 'max_iter': 103, 'fitness': 0.704}, {'activation': 'relu', 'solver': 'sgd', 'learning_rate': 'constant', 'hidden_layer_sizes': (147, 80, 32), 'max_iter': 176, 'fitness': 0.703}, {'activation': 'tanh', 'hidden_layer_sizes': (187, 80, 48), 'learning_rate': 'adaptive', 'max_iter': 167, 'solver': 'sgd', 'fitness': 0.702}, {'activation': 'tanh', 'hidden_layer_sizes': (187, 100, 24), 'learning_rate': 'adaptive', 'max_iter': 103, 'solver': 'sgd', 'fitness': 0.702}, {'activation': 'tanh', 'solver': 'sgd', 'learning_rate': 'constant', 'hidden_layer_sizes': (149, 59, 30), 'max_iter': 175, 'fitness': 0.7015}, {'activation': 'tanh', 'hidden_layer_sizes': (187, 80, 48), 'learning_rate': 'adaptive', 'max_iter': 103, 'solver': 'sgd', 'fitness': 0.7005}, {'activation': 'logistic', 'solver': 'lbfgs', 'learning_rate': 'constant', 'hidden_layer_sizes': (192, 82, 27), 'max_iter': 116, 'fitness': 0.7}, {'activation': 'logistic', 'solver': 'lbfgs', 'learning_rate': 'constant', 'hidden_layer_sizes': (134, 59, 44), 'max_iter': 155, 'fitness': 0.6995}, {'activation': 'logistic', 'solver': 'adam', 'learning_rate': 'adaptive', 'hidden_layer_sizes': (168, 50, 20), 'max_iter': 156, 'fitness': 0.699}, {'activation': 'relu', 'hidden_layer_sizes': (187, 84, 19), 'learning_rate': 'adaptive', 'max_iter': 123, 'solver': 'sgd', 'fitness': 0.698}, {'activation': 'logistic', 'solver': 'lbfgs', 'learning_rate': 'constant', 'hidden_layer_sizes': (115, 91, 46), 'max_iter': 114, 'fitness': 0.697}, {'activation': 'identity', 'solver': 'adam', 'learning_rate': 'constant', 'hidden_layer_sizes': (110, 84, 44), 'max_iter': 162, 'fitness': 0.697}, {'activation': 'identity', 'hidden_layer_sizes': (110, 84, 44), 'learning_rate': 'constant', 'max_iter': 162, 'solver': 'adam', 'fitness': 0.696}, {'activation': 'identity', 'solver': 'lbfgs', 'learning_rate': 'constant', 'hidden_layer_sizes': (103, 83, 39), 'max_iter': 190, 'fitness': 0.6955}, {'activation': 'identity', 'solver': 'sgd', 'learning_rate': 'constant', 'hidden_layer_sizes': (142, 73, 49), 'max_iter': 208, 'fitness': 0.6955}, {'activation': 'identity', 'solver': 'lbfgs', 'learning_rate': 'adaptive', 'hidden_layer_sizes': (168, 80, 31), 'max_iter': 212, 'fitness': 0.6955}, {'activation': 'identity', 'hidden_layer_sizes': (110, 85, 37), 'learning_rate': 'adaptive', 'max_iter': 162, 'solver': 'sgd', 'fitness': 0.6955}, {'activation': 'identity', 'hidden_layer_sizes': (168, 50, 13), 'learning_rate': 'adaptive', 'max_iter': 163, 'solver': 'adam', 'fitness': 0.6955}, {'activation': 'identity', 'hidden_layer_sizes': (110, 84, 44), 'learning_rate': 'adaptive', 'max_iter': 123, 'solver': 'adam', 'fitness': 0.6945}, {'activation': 'logistic', 'solver': 'lbfgs', 'learning_rate': 'invscaling', 'hidden_layer_sizes': (101, 85, 21), 'max_iter': 245, 'fitness': 0.6935}, {'activation': 'identity', 'hidden_layer_sizes': (110, 84, 44), 'learning_rate': 'constant', 'max_iter': 162, 'solver': 'adam', 'fitness': 0.693}, {'activation': 'identity', 'hidden_layer_sizes': (190, 85, 37), 'learning_rate': 'constant', 'max_iter': 245, 'solver': 'adam', 'fitness': 0.693}, {'activation': 'identity', 'hidden_layer_sizes': (168, 61, 13), 'learning_rate': 'adaptive', 'max_iter': 163, 'solver': 'adam', 'fitness': 0.692}, {'activation': 'identity', 'solver': 'sgd', 'learning_rate': 'invscaling', 'hidden_layer_sizes': (188, 61, 13), 'max_iter': 163, 'fitness': 0.6915}, {'activation': 'logistic', 'hidden_layer_sizes': (141, 100, 23), 'learning_rate': 'invscaling', 'max_iter': 151, 'solver': 'lbfgs', 'fitness': 0.6915}, {'activation': 'tanh', 'solver': 'sgd', 'learning_rate': 'invscaling', 'hidden_layer_sizes': (157, 100, 23), 'max_iter': 151, 'fitness': 0.691}, {'activation': 'tanh', 'solver': 'sgd', 'learning_rate': 'invscaling', 'hidden_layer_sizes': (141, 96, 48), 'max_iter': 167, 'fitness': 0.6875}, {'activation': 'relu', 'solver': 'lbfgs', 'learning_rate': 'adaptive', 'hidden_layer_sizes': (196, 72, 36), 'max_iter': 113, 'fitness': 0.685}, {'activation': 'relu', 'hidden_layer_sizes': (192, 72, 36), 'learning_rate': 'constant', 'max_iter': 113, 'solver': 'lbfgs', 'fitness': 0.6795}, {'activation': 'tanh', 'solver': 'adam', 'learning_rate': 'invscaling', 'hidden_layer_sizes': (187, 93, 33), 'max_iter': 110, 'fitness': 0.677}]\n",
            "generation: \n",
            "10\n",
            "[{'activation': 'tanh', 'solver': 'sgd', 'learning_rate': 'adaptive', 'hidden_layer_sizes': (187, 80, 24), 'max_iter': 103, 'fitness': 0.704}, {'activation': 'relu', 'solver': 'sgd', 'learning_rate': 'constant', 'hidden_layer_sizes': (147, 80, 32), 'max_iter': 176, 'fitness': 0.703}, {'activation': 'tanh', 'hidden_layer_sizes': (187, 80, 48), 'learning_rate': 'adaptive', 'max_iter': 167, 'solver': 'sgd', 'fitness': 0.702}, {'activation': 'tanh', 'hidden_layer_sizes': (187, 100, 24), 'learning_rate': 'adaptive', 'max_iter': 103, 'solver': 'sgd', 'fitness': 0.702}, {'activation': 'tanh', 'solver': 'sgd', 'learning_rate': 'constant', 'hidden_layer_sizes': (149, 59, 30), 'max_iter': 175, 'fitness': 0.7015}, {'activation': 'tanh', 'hidden_layer_sizes': (110, 84, 44), 'learning_rate': 'constant', 'max_iter': 123, 'solver': 'adam', 'fitness': 0.7015}, {'activation': 'tanh', 'hidden_layer_sizes': (187, 80, 48), 'learning_rate': 'adaptive', 'max_iter': 103, 'solver': 'sgd', 'fitness': 0.7005}, {'activation': 'logistic', 'solver': 'lbfgs', 'learning_rate': 'constant', 'hidden_layer_sizes': (192, 82, 27), 'max_iter': 116, 'fitness': 0.7}, {'activation': 'logistic', 'solver': 'lbfgs', 'learning_rate': 'constant', 'hidden_layer_sizes': (134, 59, 44), 'max_iter': 155, 'fitness': 0.6995}, {'activation': 'logistic', 'solver': 'adam', 'learning_rate': 'adaptive', 'hidden_layer_sizes': (168, 50, 20), 'max_iter': 156, 'fitness': 0.699}, {'activation': 'relu', 'hidden_layer_sizes': (187, 84, 19), 'learning_rate': 'adaptive', 'max_iter': 123, 'solver': 'sgd', 'fitness': 0.698}, {'activation': 'logistic', 'solver': 'lbfgs', 'learning_rate': 'constant', 'hidden_layer_sizes': (115, 91, 46), 'max_iter': 114, 'fitness': 0.697}, {'activation': 'identity', 'solver': 'adam', 'learning_rate': 'constant', 'hidden_layer_sizes': (110, 84, 44), 'max_iter': 162, 'fitness': 0.697}, {'activation': 'identity', 'hidden_layer_sizes': (110, 84, 44), 'learning_rate': 'constant', 'max_iter': 162, 'solver': 'adam', 'fitness': 0.696}, {'activation': 'identity', 'hidden_layer_sizes': (110, 84, 44), 'learning_rate': 'constant', 'max_iter': 123, 'solver': 'adam', 'fitness': 0.696}, {'activation': 'identity', 'solver': 'lbfgs', 'learning_rate': 'constant', 'hidden_layer_sizes': (103, 83, 39), 'max_iter': 190, 'fitness': 0.6955}, {'activation': 'identity', 'solver': 'sgd', 'learning_rate': 'constant', 'hidden_layer_sizes': (142, 73, 49), 'max_iter': 208, 'fitness': 0.6955}, {'activation': 'identity', 'solver': 'lbfgs', 'learning_rate': 'adaptive', 'hidden_layer_sizes': (168, 80, 31), 'max_iter': 212, 'fitness': 0.6955}, {'activation': 'identity', 'hidden_layer_sizes': (110, 85, 37), 'learning_rate': 'adaptive', 'max_iter': 162, 'solver': 'sgd', 'fitness': 0.6955}, {'activation': 'identity', 'hidden_layer_sizes': (168, 50, 13), 'learning_rate': 'adaptive', 'max_iter': 163, 'solver': 'adam', 'fitness': 0.6955}, {'activation': 'identity', 'hidden_layer_sizes': (110, 84, 44), 'learning_rate': 'adaptive', 'max_iter': 123, 'solver': 'adam', 'fitness': 0.6945}, {'activation': 'logistic', 'solver': 'lbfgs', 'learning_rate': 'invscaling', 'hidden_layer_sizes': (101, 85, 21), 'max_iter': 245, 'fitness': 0.6935}, {'activation': 'identity', 'hidden_layer_sizes': (110, 84, 44), 'learning_rate': 'constant', 'max_iter': 162, 'solver': 'adam', 'fitness': 0.693}, {'activation': 'identity', 'hidden_layer_sizes': (190, 85, 37), 'learning_rate': 'constant', 'max_iter': 245, 'solver': 'adam', 'fitness': 0.693}, {'activation': 'identity', 'hidden_layer_sizes': (168, 61, 13), 'learning_rate': 'adaptive', 'max_iter': 163, 'solver': 'adam', 'fitness': 0.692}, {'activation': 'identity', 'solver': 'sgd', 'learning_rate': 'invscaling', 'hidden_layer_sizes': (188, 61, 13), 'max_iter': 163, 'fitness': 0.6915}, {'activation': 'logistic', 'hidden_layer_sizes': (141, 100, 23), 'learning_rate': 'invscaling', 'max_iter': 151, 'solver': 'lbfgs', 'fitness': 0.6915}, {'activation': 'tanh', 'solver': 'sgd', 'learning_rate': 'invscaling', 'hidden_layer_sizes': (157, 100, 23), 'max_iter': 151, 'fitness': 0.691}, {'activation': 'tanh', 'solver': 'sgd', 'learning_rate': 'invscaling', 'hidden_layer_sizes': (141, 96, 48), 'max_iter': 167, 'fitness': 0.6875}, {'activation': 'relu', 'solver': 'lbfgs', 'learning_rate': 'adaptive', 'hidden_layer_sizes': (196, 72, 36), 'max_iter': 113, 'fitness': 0.685}]\n",
            "generation: \n",
            "11\n"
          ],
          "name": "stdout"
        },
        {
          "output_type": "stream",
          "text": [
            "/usr/local/lib/python3.7/dist-packages/sklearn/neural_network/_multilayer_perceptron.py:573: UserWarning: Training interrupted by user.\n",
            "  warnings.warn(\"Training interrupted by user.\")\n"
          ],
          "name": "stderr"
        },
        {
          "output_type": "error",
          "ename": "KeyboardInterrupt",
          "evalue": "ignored",
          "traceback": [
            "\u001b[0;31m---------------------------------------------------------------------------\u001b[0m",
            "\u001b[0;31mKeyboardInterrupt\u001b[0m                         Traceback (most recent call last)",
            "\u001b[0;32m<ipython-input-168-ca1b0c81070a>\u001b[0m in \u001b[0;36m<module>\u001b[0;34m()\u001b[0m\n\u001b[1;32m      5\u001b[0m   \u001b[0mprint\u001b[0m\u001b[0;34m(\u001b[0m\u001b[0;34m\"generation: \"\u001b[0m\u001b[0;34m)\u001b[0m\u001b[0;34m\u001b[0m\u001b[0;34m\u001b[0m\u001b[0m\n\u001b[1;32m      6\u001b[0m   \u001b[0mprint\u001b[0m\u001b[0;34m(\u001b[0m\u001b[0mx\u001b[0m\u001b[0;34m)\u001b[0m\u001b[0;34m\u001b[0m\u001b[0;34m\u001b[0m\u001b[0m\n\u001b[0;32m----> 7\u001b[0;31m   \u001b[0mpopulation\u001b[0m \u001b[0;34m=\u001b[0m \u001b[0mmake_children\u001b[0m\u001b[0;34m(\u001b[0m\u001b[0mpopulation\u001b[0m\u001b[0;34m)\u001b[0m\u001b[0;34m\u001b[0m\u001b[0;34m\u001b[0m\u001b[0m\n\u001b[0m\u001b[1;32m      8\u001b[0m   \u001b[0mprint\u001b[0m\u001b[0;34m(\u001b[0m\u001b[0mpopulation\u001b[0m\u001b[0;34m)\u001b[0m\u001b[0;34m\u001b[0m\u001b[0;34m\u001b[0m\u001b[0m\n\u001b[1;32m      9\u001b[0m \u001b[0;34m\u001b[0m\u001b[0m\n",
            "\u001b[0;32m<ipython-input-165-9a06e0a66cf8>\u001b[0m in \u001b[0;36mmake_children\u001b[0;34m(population)\u001b[0m\n\u001b[1;32m     11\u001b[0m \u001b[0;34m\u001b[0m\u001b[0m\n\u001b[1;32m     12\u001b[0m     \u001b[0mchild\u001b[0m \u001b[0;34m=\u001b[0m \u001b[0mmutate\u001b[0m\u001b[0;34m(\u001b[0m\u001b[0mchild\u001b[0m\u001b[0;34m)\u001b[0m\u001b[0;34m\u001b[0m\u001b[0;34m\u001b[0m\u001b[0m\n\u001b[0;32m---> 13\u001b[0;31m     \u001b[0mchild\u001b[0m\u001b[0;34m[\u001b[0m\u001b[0;34m'fitness'\u001b[0m\u001b[0;34m]\u001b[0m \u001b[0;34m=\u001b[0m \u001b[0mcalculate_fitness\u001b[0m\u001b[0;34m(\u001b[0m\u001b[0mchild\u001b[0m\u001b[0;34m)\u001b[0m\u001b[0;34m\u001b[0m\u001b[0;34m\u001b[0m\u001b[0m\n\u001b[0m\u001b[1;32m     14\u001b[0m     \u001b[0mpopulation\u001b[0m\u001b[0;34m.\u001b[0m\u001b[0mappend\u001b[0m\u001b[0;34m(\u001b[0m\u001b[0mchild\u001b[0m\u001b[0;34m)\u001b[0m\u001b[0;34m\u001b[0m\u001b[0;34m\u001b[0m\u001b[0m\n\u001b[1;32m     15\u001b[0m \u001b[0;34m\u001b[0m\u001b[0m\n",
            "\u001b[0;32m<ipython-input-166-de1373d1628a>\u001b[0m in \u001b[0;36mcalculate_fitness\u001b[0;34m(individue)\u001b[0m\n\u001b[1;32m      5\u001b[0m                             \u001b[0mmax_iter\u001b[0m\u001b[0;34m=\u001b[0m\u001b[0mindividue\u001b[0m\u001b[0;34m[\u001b[0m\u001b[0;34m'max_iter'\u001b[0m\u001b[0;34m]\u001b[0m\u001b[0;34m,\u001b[0m\u001b[0;34m\u001b[0m\u001b[0;34m\u001b[0m\u001b[0m\n\u001b[1;32m      6\u001b[0m                             solver=individue['solver'])\n\u001b[0;32m----> 7\u001b[0;31m   \u001b[0mmodel_mlp\u001b[0m\u001b[0;34m.\u001b[0m\u001b[0mfit\u001b[0m\u001b[0;34m(\u001b[0m\u001b[0mfeature_train\u001b[0m\u001b[0;34m,\u001b[0m \u001b[0mlabel_train\u001b[0m\u001b[0;34m)\u001b[0m\u001b[0;34m\u001b[0m\u001b[0;34m\u001b[0m\u001b[0m\n\u001b[0m\u001b[1;32m      8\u001b[0m \u001b[0;34m\u001b[0m\u001b[0m\n\u001b[1;32m      9\u001b[0m   \u001b[0mprediction\u001b[0m \u001b[0;34m=\u001b[0m \u001b[0mmodel_mlp\u001b[0m\u001b[0;34m.\u001b[0m\u001b[0mpredict\u001b[0m\u001b[0;34m(\u001b[0m\u001b[0mfeature_test\u001b[0m\u001b[0;34m)\u001b[0m\u001b[0;34m\u001b[0m\u001b[0;34m\u001b[0m\u001b[0m\n",
            "\u001b[0;32m/usr/local/lib/python3.7/dist-packages/sklearn/neural_network/_multilayer_perceptron.py\u001b[0m in \u001b[0;36mfit\u001b[0;34m(self, X, y)\u001b[0m\n\u001b[1;32m    993\u001b[0m         \"\"\"\n\u001b[1;32m    994\u001b[0m         return self._fit(X, y, incremental=(self.warm_start and\n\u001b[0;32m--> 995\u001b[0;31m                                             hasattr(self, \"classes_\")))\n\u001b[0m\u001b[1;32m    996\u001b[0m \u001b[0;34m\u001b[0m\u001b[0m\n\u001b[1;32m    997\u001b[0m     \u001b[0;34m@\u001b[0m\u001b[0mproperty\u001b[0m\u001b[0;34m\u001b[0m\u001b[0;34m\u001b[0m\u001b[0m\n",
            "\u001b[0;32m/usr/local/lib/python3.7/dist-packages/sklearn/neural_network/_multilayer_perceptron.py\u001b[0m in \u001b[0;36m_fit\u001b[0;34m(self, X, y, incremental)\u001b[0m\n\u001b[1;32m    373\u001b[0m         \u001b[0;32melif\u001b[0m \u001b[0mself\u001b[0m\u001b[0;34m.\u001b[0m\u001b[0msolver\u001b[0m \u001b[0;34m==\u001b[0m \u001b[0;34m'lbfgs'\u001b[0m\u001b[0;34m:\u001b[0m\u001b[0;34m\u001b[0m\u001b[0;34m\u001b[0m\u001b[0m\n\u001b[1;32m    374\u001b[0m             self._fit_lbfgs(X, y, activations, deltas, coef_grads,\n\u001b[0;32m--> 375\u001b[0;31m                             intercept_grads, layer_units)\n\u001b[0m\u001b[1;32m    376\u001b[0m         \u001b[0;32mreturn\u001b[0m \u001b[0mself\u001b[0m\u001b[0;34m\u001b[0m\u001b[0;34m\u001b[0m\u001b[0m\n\u001b[1;32m    377\u001b[0m \u001b[0;34m\u001b[0m\u001b[0m\n",
            "\u001b[0;32m/usr/local/lib/python3.7/dist-packages/sklearn/neural_network/_multilayer_perceptron.py\u001b[0m in \u001b[0;36m_fit_lbfgs\u001b[0;34m(self, X, y, activations, deltas, coef_grads, intercept_grads, layer_units)\u001b[0m\n\u001b[1;32m    467\u001b[0m                     \u001b[0;34m\"gtol\"\u001b[0m\u001b[0;34m:\u001b[0m \u001b[0mself\u001b[0m\u001b[0;34m.\u001b[0m\u001b[0mtol\u001b[0m\u001b[0;34m\u001b[0m\u001b[0;34m\u001b[0m\u001b[0m\n\u001b[1;32m    468\u001b[0m                 },\n\u001b[0;32m--> 469\u001b[0;31m                 args=(X, y, activations, deltas, coef_grads, intercept_grads))\n\u001b[0m\u001b[1;32m    470\u001b[0m         \u001b[0mself\u001b[0m\u001b[0;34m.\u001b[0m\u001b[0mn_iter_\u001b[0m \u001b[0;34m=\u001b[0m \u001b[0m_check_optimize_result\u001b[0m\u001b[0;34m(\u001b[0m\u001b[0;34m\"lbfgs\"\u001b[0m\u001b[0;34m,\u001b[0m \u001b[0mopt_res\u001b[0m\u001b[0;34m,\u001b[0m \u001b[0mself\u001b[0m\u001b[0;34m.\u001b[0m\u001b[0mmax_iter\u001b[0m\u001b[0;34m)\u001b[0m\u001b[0;34m\u001b[0m\u001b[0;34m\u001b[0m\u001b[0m\n\u001b[1;32m    471\u001b[0m         \u001b[0mself\u001b[0m\u001b[0;34m.\u001b[0m\u001b[0mloss_\u001b[0m \u001b[0;34m=\u001b[0m \u001b[0mopt_res\u001b[0m\u001b[0;34m.\u001b[0m\u001b[0mfun\u001b[0m\u001b[0;34m\u001b[0m\u001b[0;34m\u001b[0m\u001b[0m\n",
            "\u001b[0;32m/usr/local/lib/python3.7/dist-packages/scipy/optimize/_minimize.py\u001b[0m in \u001b[0;36mminimize\u001b[0;34m(fun, x0, args, method, jac, hess, hessp, bounds, constraints, tol, callback, options)\u001b[0m\n\u001b[1;32m    608\u001b[0m     \u001b[0;32melif\u001b[0m \u001b[0mmeth\u001b[0m \u001b[0;34m==\u001b[0m \u001b[0;34m'l-bfgs-b'\u001b[0m\u001b[0;34m:\u001b[0m\u001b[0;34m\u001b[0m\u001b[0;34m\u001b[0m\u001b[0m\n\u001b[1;32m    609\u001b[0m         return _minimize_lbfgsb(fun, x0, args, jac, bounds,\n\u001b[0;32m--> 610\u001b[0;31m                                 callback=callback, **options)\n\u001b[0m\u001b[1;32m    611\u001b[0m     \u001b[0;32melif\u001b[0m \u001b[0mmeth\u001b[0m \u001b[0;34m==\u001b[0m \u001b[0;34m'tnc'\u001b[0m\u001b[0;34m:\u001b[0m\u001b[0;34m\u001b[0m\u001b[0;34m\u001b[0m\u001b[0m\n\u001b[1;32m    612\u001b[0m         return _minimize_tnc(fun, x0, args, jac, bounds, callback=callback,\n",
            "\u001b[0;32m/usr/local/lib/python3.7/dist-packages/scipy/optimize/lbfgsb.py\u001b[0m in \u001b[0;36m_minimize_lbfgsb\u001b[0;34m(fun, x0, args, jac, bounds, disp, maxcor, ftol, gtol, eps, maxfun, maxiter, iprint, callback, maxls, **unknown_options)\u001b[0m\n\u001b[1;32m    343\u001b[0m             \u001b[0;31m# until the completion of the current minimization iteration.\u001b[0m\u001b[0;34m\u001b[0m\u001b[0;34m\u001b[0m\u001b[0;34m\u001b[0m\u001b[0m\n\u001b[1;32m    344\u001b[0m             \u001b[0;31m# Overwrite f and g:\u001b[0m\u001b[0;34m\u001b[0m\u001b[0;34m\u001b[0m\u001b[0;34m\u001b[0m\u001b[0m\n\u001b[0;32m--> 345\u001b[0;31m             \u001b[0mf\u001b[0m\u001b[0;34m,\u001b[0m \u001b[0mg\u001b[0m \u001b[0;34m=\u001b[0m \u001b[0mfunc_and_grad\u001b[0m\u001b[0;34m(\u001b[0m\u001b[0mx\u001b[0m\u001b[0;34m)\u001b[0m\u001b[0;34m\u001b[0m\u001b[0;34m\u001b[0m\u001b[0m\n\u001b[0m\u001b[1;32m    346\u001b[0m         \u001b[0;32melif\u001b[0m \u001b[0mtask_str\u001b[0m\u001b[0;34m.\u001b[0m\u001b[0mstartswith\u001b[0m\u001b[0;34m(\u001b[0m\u001b[0;34mb'NEW_X'\u001b[0m\u001b[0;34m)\u001b[0m\u001b[0;34m:\u001b[0m\u001b[0;34m\u001b[0m\u001b[0;34m\u001b[0m\u001b[0m\n\u001b[1;32m    347\u001b[0m             \u001b[0;31m# new iteration\u001b[0m\u001b[0;34m\u001b[0m\u001b[0;34m\u001b[0m\u001b[0;34m\u001b[0m\u001b[0m\n",
            "\u001b[0;32m/usr/local/lib/python3.7/dist-packages/scipy/optimize/lbfgsb.py\u001b[0m in \u001b[0;36mfunc_and_grad\u001b[0;34m(x)\u001b[0m\n\u001b[1;32m    293\u001b[0m     \u001b[0;32melse\u001b[0m\u001b[0;34m:\u001b[0m\u001b[0;34m\u001b[0m\u001b[0;34m\u001b[0m\u001b[0m\n\u001b[1;32m    294\u001b[0m         \u001b[0;32mdef\u001b[0m \u001b[0mfunc_and_grad\u001b[0m\u001b[0;34m(\u001b[0m\u001b[0mx\u001b[0m\u001b[0;34m)\u001b[0m\u001b[0;34m:\u001b[0m\u001b[0;34m\u001b[0m\u001b[0;34m\u001b[0m\u001b[0m\n\u001b[0;32m--> 295\u001b[0;31m             \u001b[0mf\u001b[0m \u001b[0;34m=\u001b[0m \u001b[0mfun\u001b[0m\u001b[0;34m(\u001b[0m\u001b[0mx\u001b[0m\u001b[0;34m,\u001b[0m \u001b[0;34m*\u001b[0m\u001b[0margs\u001b[0m\u001b[0;34m)\u001b[0m\u001b[0;34m\u001b[0m\u001b[0;34m\u001b[0m\u001b[0m\n\u001b[0m\u001b[1;32m    296\u001b[0m             \u001b[0mg\u001b[0m \u001b[0;34m=\u001b[0m \u001b[0mjac\u001b[0m\u001b[0;34m(\u001b[0m\u001b[0mx\u001b[0m\u001b[0;34m,\u001b[0m \u001b[0;34m*\u001b[0m\u001b[0margs\u001b[0m\u001b[0;34m)\u001b[0m\u001b[0;34m\u001b[0m\u001b[0;34m\u001b[0m\u001b[0m\n\u001b[1;32m    297\u001b[0m             \u001b[0;32mreturn\u001b[0m \u001b[0mf\u001b[0m\u001b[0;34m,\u001b[0m \u001b[0mg\u001b[0m\u001b[0;34m\u001b[0m\u001b[0;34m\u001b[0m\u001b[0m\n",
            "\u001b[0;32m/usr/local/lib/python3.7/dist-packages/scipy/optimize/optimize.py\u001b[0m in \u001b[0;36mfunction_wrapper\u001b[0;34m(*wrapper_args)\u001b[0m\n\u001b[1;32m    325\u001b[0m     \u001b[0;32mdef\u001b[0m \u001b[0mfunction_wrapper\u001b[0m\u001b[0;34m(\u001b[0m\u001b[0;34m*\u001b[0m\u001b[0mwrapper_args\u001b[0m\u001b[0;34m)\u001b[0m\u001b[0;34m:\u001b[0m\u001b[0;34m\u001b[0m\u001b[0;34m\u001b[0m\u001b[0m\n\u001b[1;32m    326\u001b[0m         \u001b[0mncalls\u001b[0m\u001b[0;34m[\u001b[0m\u001b[0;36m0\u001b[0m\u001b[0;34m]\u001b[0m \u001b[0;34m+=\u001b[0m \u001b[0;36m1\u001b[0m\u001b[0;34m\u001b[0m\u001b[0;34m\u001b[0m\u001b[0m\n\u001b[0;32m--> 327\u001b[0;31m         \u001b[0;32mreturn\u001b[0m \u001b[0mfunction\u001b[0m\u001b[0;34m(\u001b[0m\u001b[0;34m*\u001b[0m\u001b[0;34m(\u001b[0m\u001b[0mwrapper_args\u001b[0m \u001b[0;34m+\u001b[0m \u001b[0margs\u001b[0m\u001b[0;34m)\u001b[0m\u001b[0;34m)\u001b[0m\u001b[0;34m\u001b[0m\u001b[0;34m\u001b[0m\u001b[0m\n\u001b[0m\u001b[1;32m    328\u001b[0m \u001b[0;34m\u001b[0m\u001b[0m\n\u001b[1;32m    329\u001b[0m     \u001b[0;32mreturn\u001b[0m \u001b[0mncalls\u001b[0m\u001b[0;34m,\u001b[0m \u001b[0mfunction_wrapper\u001b[0m\u001b[0;34m\u001b[0m\u001b[0;34m\u001b[0m\u001b[0m\n",
            "\u001b[0;32m/usr/local/lib/python3.7/dist-packages/scipy/optimize/optimize.py\u001b[0m in \u001b[0;36m__call__\u001b[0;34m(self, x, *args)\u001b[0m\n\u001b[1;32m     63\u001b[0m     \u001b[0;32mdef\u001b[0m \u001b[0m__call__\u001b[0m\u001b[0;34m(\u001b[0m\u001b[0mself\u001b[0m\u001b[0;34m,\u001b[0m \u001b[0mx\u001b[0m\u001b[0;34m,\u001b[0m \u001b[0;34m*\u001b[0m\u001b[0margs\u001b[0m\u001b[0;34m)\u001b[0m\u001b[0;34m:\u001b[0m\u001b[0;34m\u001b[0m\u001b[0;34m\u001b[0m\u001b[0m\n\u001b[1;32m     64\u001b[0m         \u001b[0mself\u001b[0m\u001b[0;34m.\u001b[0m\u001b[0mx\u001b[0m \u001b[0;34m=\u001b[0m \u001b[0mnumpy\u001b[0m\u001b[0;34m.\u001b[0m\u001b[0masarray\u001b[0m\u001b[0;34m(\u001b[0m\u001b[0mx\u001b[0m\u001b[0;34m)\u001b[0m\u001b[0;34m.\u001b[0m\u001b[0mcopy\u001b[0m\u001b[0;34m(\u001b[0m\u001b[0;34m)\u001b[0m\u001b[0;34m\u001b[0m\u001b[0;34m\u001b[0m\u001b[0m\n\u001b[0;32m---> 65\u001b[0;31m         \u001b[0mfg\u001b[0m \u001b[0;34m=\u001b[0m \u001b[0mself\u001b[0m\u001b[0;34m.\u001b[0m\u001b[0mfun\u001b[0m\u001b[0;34m(\u001b[0m\u001b[0mx\u001b[0m\u001b[0;34m,\u001b[0m \u001b[0;34m*\u001b[0m\u001b[0margs\u001b[0m\u001b[0;34m)\u001b[0m\u001b[0;34m\u001b[0m\u001b[0;34m\u001b[0m\u001b[0m\n\u001b[0m\u001b[1;32m     66\u001b[0m         \u001b[0mself\u001b[0m\u001b[0;34m.\u001b[0m\u001b[0mjac\u001b[0m \u001b[0;34m=\u001b[0m \u001b[0mfg\u001b[0m\u001b[0;34m[\u001b[0m\u001b[0;36m1\u001b[0m\u001b[0;34m]\u001b[0m\u001b[0;34m\u001b[0m\u001b[0;34m\u001b[0m\u001b[0m\n\u001b[1;32m     67\u001b[0m         \u001b[0;32mreturn\u001b[0m \u001b[0mfg\u001b[0m\u001b[0;34m[\u001b[0m\u001b[0;36m0\u001b[0m\u001b[0;34m]\u001b[0m\u001b[0;34m\u001b[0m\u001b[0;34m\u001b[0m\u001b[0m\n",
            "\u001b[0;32m/usr/local/lib/python3.7/dist-packages/sklearn/neural_network/_multilayer_perceptron.py\u001b[0m in \u001b[0;36m_loss_grad_lbfgs\u001b[0;34m(self, packed_coef_inter, X, y, activations, deltas, coef_grads, intercept_grads)\u001b[0m\n\u001b[1;32m    175\u001b[0m         \u001b[0mself\u001b[0m\u001b[0;34m.\u001b[0m\u001b[0m_unpack\u001b[0m\u001b[0;34m(\u001b[0m\u001b[0mpacked_coef_inter\u001b[0m\u001b[0;34m)\u001b[0m\u001b[0;34m\u001b[0m\u001b[0;34m\u001b[0m\u001b[0m\n\u001b[1;32m    176\u001b[0m         loss, coef_grads, intercept_grads = self._backprop(\n\u001b[0;32m--> 177\u001b[0;31m             X, y, activations, deltas, coef_grads, intercept_grads)\n\u001b[0m\u001b[1;32m    178\u001b[0m         \u001b[0mgrad\u001b[0m \u001b[0;34m=\u001b[0m \u001b[0m_pack\u001b[0m\u001b[0;34m(\u001b[0m\u001b[0mcoef_grads\u001b[0m\u001b[0;34m,\u001b[0m \u001b[0mintercept_grads\u001b[0m\u001b[0;34m)\u001b[0m\u001b[0;34m\u001b[0m\u001b[0;34m\u001b[0m\u001b[0m\n\u001b[1;32m    179\u001b[0m         \u001b[0;32mreturn\u001b[0m \u001b[0mloss\u001b[0m\u001b[0;34m,\u001b[0m \u001b[0mgrad\u001b[0m\u001b[0;34m\u001b[0m\u001b[0;34m\u001b[0m\u001b[0m\n",
            "\u001b[0;32m/usr/local/lib/python3.7/dist-packages/sklearn/neural_network/_multilayer_perceptron.py\u001b[0m in \u001b[0;36m_backprop\u001b[0;34m(self, X, y, activations, deltas, coef_grads, intercept_grads)\u001b[0m\n\u001b[1;32m    248\u001b[0m             \u001b[0mdeltas\u001b[0m\u001b[0;34m[\u001b[0m\u001b[0mi\u001b[0m \u001b[0;34m-\u001b[0m \u001b[0;36m1\u001b[0m\u001b[0;34m]\u001b[0m \u001b[0;34m=\u001b[0m \u001b[0msafe_sparse_dot\u001b[0m\u001b[0;34m(\u001b[0m\u001b[0mdeltas\u001b[0m\u001b[0;34m[\u001b[0m\u001b[0mi\u001b[0m\u001b[0;34m]\u001b[0m\u001b[0;34m,\u001b[0m \u001b[0mself\u001b[0m\u001b[0;34m.\u001b[0m\u001b[0mcoefs_\u001b[0m\u001b[0;34m[\u001b[0m\u001b[0mi\u001b[0m\u001b[0;34m]\u001b[0m\u001b[0;34m.\u001b[0m\u001b[0mT\u001b[0m\u001b[0;34m)\u001b[0m\u001b[0;34m\u001b[0m\u001b[0;34m\u001b[0m\u001b[0m\n\u001b[1;32m    249\u001b[0m             \u001b[0minplace_derivative\u001b[0m \u001b[0;34m=\u001b[0m \u001b[0mDERIVATIVES\u001b[0m\u001b[0;34m[\u001b[0m\u001b[0mself\u001b[0m\u001b[0;34m.\u001b[0m\u001b[0mactivation\u001b[0m\u001b[0;34m]\u001b[0m\u001b[0;34m\u001b[0m\u001b[0;34m\u001b[0m\u001b[0m\n\u001b[0;32m--> 250\u001b[0;31m             \u001b[0minplace_derivative\u001b[0m\u001b[0;34m(\u001b[0m\u001b[0mactivations\u001b[0m\u001b[0;34m[\u001b[0m\u001b[0mi\u001b[0m\u001b[0;34m]\u001b[0m\u001b[0;34m,\u001b[0m \u001b[0mdeltas\u001b[0m\u001b[0;34m[\u001b[0m\u001b[0mi\u001b[0m \u001b[0;34m-\u001b[0m \u001b[0;36m1\u001b[0m\u001b[0;34m]\u001b[0m\u001b[0;34m)\u001b[0m\u001b[0;34m\u001b[0m\u001b[0;34m\u001b[0m\u001b[0m\n\u001b[0m\u001b[1;32m    251\u001b[0m \u001b[0;34m\u001b[0m\u001b[0m\n\u001b[1;32m    252\u001b[0m             coef_grads, intercept_grads = self._compute_loss_grad(\n",
            "\u001b[0;32m/usr/local/lib/python3.7/dist-packages/sklearn/neural_network/_base.py\u001b[0m in \u001b[0;36minplace_relu_derivative\u001b[0;34m(Z, delta)\u001b[0m\n\u001b[1;32m    168\u001b[0m          \u001b[0mThe\u001b[0m \u001b[0mbackpropagated\u001b[0m \u001b[0merror\u001b[0m \u001b[0msignal\u001b[0m \u001b[0mto\u001b[0m \u001b[0mbe\u001b[0m \u001b[0mmodified\u001b[0m \u001b[0minplace\u001b[0m\u001b[0;34m.\u001b[0m\u001b[0;34m\u001b[0m\u001b[0;34m\u001b[0m\u001b[0m\n\u001b[1;32m    169\u001b[0m     \"\"\"\n\u001b[0;32m--> 170\u001b[0;31m     \u001b[0mdelta\u001b[0m\u001b[0;34m[\u001b[0m\u001b[0mZ\u001b[0m \u001b[0;34m==\u001b[0m \u001b[0;36m0\u001b[0m\u001b[0;34m]\u001b[0m \u001b[0;34m=\u001b[0m \u001b[0;36m0\u001b[0m\u001b[0;34m\u001b[0m\u001b[0;34m\u001b[0m\u001b[0m\n\u001b[0m\u001b[1;32m    171\u001b[0m \u001b[0;34m\u001b[0m\u001b[0m\n\u001b[1;32m    172\u001b[0m \u001b[0;34m\u001b[0m\u001b[0m\n",
            "\u001b[0;31mKeyboardInterrupt\u001b[0m: "
          ]
        }
      ]
    }
  ]
}