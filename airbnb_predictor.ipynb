{
  "nbformat": 4,
  "nbformat_minor": 0,
  "metadata": {
    "colab": {
      "name": "airbnb-predictor",
      "provenance": [],
      "collapsed_sections": [],
      "authorship_tag": "ABX9TyMHWI0boA2QVdpW8OvX2GMv",
      "include_colab_link": true
    },
    "kernelspec": {
      "name": "python3",
      "display_name": "Python 3"
    },
    "language_info": {
      "name": "python"
    }
  },
  "cells": [
    {
      "cell_type": "markdown",
      "metadata": {
        "id": "view-in-github",
        "colab_type": "text"
      },
      "source": [
        "<a href=\"https://colab.research.google.com/github/cdbm/airbnb-price-rediction-optimizer/blob/main/airbnb_predictor.ipynb\" target=\"_parent\"><img src=\"https://colab.research.google.com/assets/colab-badge.svg\" alt=\"Open In Colab\"/></a>"
      ]
    },
    {
      "cell_type": "code",
      "metadata": {
        "id": "Iple0wNCUL5B"
      },
      "source": [
        "import numpy as np \n",
        "import pandas as pd"
      ],
      "execution_count": 13,
      "outputs": []
    },
    {
      "cell_type": "markdown",
      "metadata": {
        "id": "wRMpaeduZYo7"
      },
      "source": [
        "# Database pre processing"
      ]
    },
    {
      "cell_type": "code",
      "metadata": {
        "id": "CSyF0uxzVHdk"
      },
      "source": [
        "df = pd.read_csv(\"https://raw.githubusercontent.com/cdbm/airbnb-price-rediction-optimizer/main/AB_NYC_2019.csv\")\n",
        "df.head()"
      ],
      "execution_count": null,
      "outputs": []
    },
    {
      "cell_type": "code",
      "metadata": {
        "id": "gTT91va_nFyi"
      },
      "source": [
        "df.describe()"
      ],
      "execution_count": null,
      "outputs": []
    },
    {
      "cell_type": "code",
      "metadata": {
        "id": "x8CXOHi9VkUR"
      },
      "source": [
        "df.dtypes"
      ],
      "execution_count": null,
      "outputs": []
    },
    {
      "cell_type": "code",
      "metadata": {
        "id": "2s79q31lV4Mb"
      },
      "source": [
        "df = df.drop('name', axis=1)\n",
        "df = df.drop('host_name', axis=1)\n",
        "df = df.drop('last_review', axis=1)"
      ],
      "execution_count": 17,
      "outputs": []
    },
    {
      "cell_type": "code",
      "metadata": {
        "id": "uX7EaATgYqvy"
      },
      "source": [
        "df = df[df.price <= 500]"
      ],
      "execution_count": 18,
      "outputs": []
    },
    {
      "cell_type": "code",
      "metadata": {
        "id": "IDE-vNYFoJ4h"
      },
      "source": [
        "df.loc[df['price'] <= 50, 'ranges'] = '0_TO_50'\n",
        "df.loc[(df['price'] > 50) & (df['price'] <= 100), 'ranges'] = '51_TO_100'\n",
        "df.loc[(df['price'] > 100) & (df['price'] <= 150), 'ranges'] = '101_TO_150'\n",
        "df.loc[(df['price'] > 150) & (df['price'] <= 200), 'ranges'] = '151_TO_200'\n",
        "df.loc[(df['price'] > 200) & (df['price'] <= 250), 'ranges'] = '201_TO_250'\n",
        "df.loc[(df['price'] > 250) & (df['price'] <= 300), 'ranges'] = '251_TO_300'\n",
        "df.loc[(df['price'] > 300) & (df['price'] <= 350), 'ranges'] = '301_TO_350'\n",
        "df.loc[(df['price'] > 350) & (df['price'] <= 400), 'ranges'] = '351_TO_400'\n",
        "df.loc[(df['price'] > 400) & (df['price'] <= 450), 'ranges'] = '401_TO_450'\n",
        "df.loc[(df['price'] > 450) & (df['price'] <= 500), 'ranges'] = '551_TO_500'"
      ],
      "execution_count": 19,
      "outputs": []
    },
    {
      "cell_type": "code",
      "metadata": {
        "id": "OW9pTVEcXsKL"
      },
      "source": [
        "df['neighbourhood_group'] = df['neighbourhood_group'].astype('category')\n",
        "df['neighbourhood'] = df['neighbourhood'].astype('category')\n",
        "df['room_type'] = df['room_type'].astype('category')"
      ],
      "execution_count": 20,
      "outputs": []
    },
    {
      "cell_type": "code",
      "metadata": {
        "id": "_awC1XFkYYzF"
      },
      "source": [
        "cat_columns = df.select_dtypes(['category']).columns\n",
        "df[cat_columns] = df[cat_columns].apply(lambda x: x.cat.codes)"
      ],
      "execution_count": 21,
      "outputs": []
    },
    {
      "cell_type": "code",
      "metadata": {
        "id": "MSMgzwM3EFF_"
      },
      "source": [
        "df['ranges'] = df['ranges'].astype('category')"
      ],
      "execution_count": 22,
      "outputs": []
    },
    {
      "cell_type": "code",
      "metadata": {
        "id": "7taQ5omXYmEf"
      },
      "source": [
        "df['reviews_per_month'].fillna(0, inplace=True) "
      ],
      "execution_count": 23,
      "outputs": []
    },
    {
      "cell_type": "code",
      "metadata": {
        "id": "o_2p-RvtpxDa"
      },
      "source": [
        "df = df.drop('price', axis=1)\n"
      ],
      "execution_count": 24,
      "outputs": []
    },
    {
      "cell_type": "code",
      "metadata": {
        "id": "5itJQHMZD3Mh"
      },
      "source": [
        "df.head()"
      ],
      "execution_count": null,
      "outputs": []
    },
    {
      "cell_type": "code",
      "metadata": {
        "id": "hpypeEHgrock"
      },
      "source": [
        "df = df.sample(frac=1).reset_index(drop=True)\n",
        "df = df[:10000]\n",
        "df.describe()"
      ],
      "execution_count": null,
      "outputs": []
    },
    {
      "cell_type": "code",
      "metadata": {
        "id": "SjxbA1CxEfUi"
      },
      "source": [
        "df"
      ],
      "execution_count": null,
      "outputs": []
    },
    {
      "cell_type": "code",
      "metadata": {
        "id": "j-kvY7khZXgP"
      },
      "source": [
        "from sklearn.neural_network import MLPRegressor\n",
        "from sklearn.neural_network import MLPClassifier\n",
        "from sklearn.model_selection import train_test_split\n",
        "from sklearn.metrics import r2_score\n",
        "from sklearn.preprocessing import StandardScaler\n",
        "from sklearn.metrics import mean_squared_error\n",
        "from sklearn.metrics import accuracy_score"
      ],
      "execution_count": 28,
      "outputs": []
    },
    {
      "cell_type": "code",
      "metadata": {
        "id": "uuDiRp4aZsNt"
      },
      "source": [
        "  features = df.drop('ranges',axis=1)\n",
        "  labels = df['ranges']"
      ],
      "execution_count": 29,
      "outputs": []
    },
    {
      "cell_type": "code",
      "metadata": {
        "id": "zz-KayXgbeqC"
      },
      "source": [
        "feature_train, feature_test, label_train, label_test = train_test_split(features, labels, test_size=0.2, random_state=1)"
      ],
      "execution_count": 30,
      "outputs": []
    },
    {
      "cell_type": "code",
      "metadata": {
        "id": "BM2V5GBv_djQ"
      },
      "source": [
        "sc_X = StandardScaler()\n",
        "feature_train=sc_X.fit_transform(feature_train)\n",
        "feature_test=sc_X.fit_transform(feature_test)"
      ],
      "execution_count": 31,
      "outputs": []
    },
    {
      "cell_type": "markdown",
      "metadata": {
        "id": "fidIV0JWrj7G"
      },
      "source": [
        "# Genetic Algorithm"
      ]
    },
    {
      "cell_type": "code",
      "metadata": {
        "id": "t5sMudLwth_5"
      },
      "source": [
        "import random"
      ],
      "execution_count": 36,
      "outputs": []
    },
    {
      "cell_type": "code",
      "metadata": {
        "id": "P5x1-IJgwwgx"
      },
      "source": [
        "POPULATION_SIZE = 10\n",
        "GENERATIONS = 100\n",
        "CHILDREN_RATE = 3"
      ],
      "execution_count": 37,
      "outputs": []
    },
    {
      "cell_type": "code",
      "metadata": {
        "id": "aDJYWZoDsk2P"
      },
      "source": [
        "activation = ['identity', 'logistic', 'tanh', 'relu']\n",
        "solver = ['lbfgs','sgd', 'adam']\n",
        "learning_rate = ['constant', 'invscaling', 'adaptive']"
      ],
      "execution_count": 38,
      "outputs": []
    },
    {
      "cell_type": "code",
      "metadata": {
        "id": "fd5T7wWitGvJ"
      },
      "source": [
        "def generate_individue():\n",
        "  individue = {\n",
        "      'activation':  activation[random.randint(0, 3)],\n",
        "      'solver': solver[random.randint(0,2)],\n",
        "      'learning_rate': learning_rate[random.randint(0,2)],\n",
        "      'hidden_layer_sizes' : (100),\n",
        "      'max_iter' : random.randint(100, 300),\n",
        "      'fitness': 0  \n",
        "  }\n",
        "\n",
        "  individue['fitness'] = calculate_fitness(individue)\n",
        "  return individue"
      ],
      "execution_count": 39,
      "outputs": []
    },
    {
      "cell_type": "code",
      "metadata": {
        "id": "rrIhSBDmI-hh"
      },
      "source": [
        "def sortByFitness(e):\n",
        "  return e['fitness']"
      ],
      "execution_count": 48,
      "outputs": []
    },
    {
      "cell_type": "code",
      "metadata": {
        "id": "M0fEvf28riTX"
      },
      "source": [
        "def initiate_population(population_size):\n",
        "  population = [[]] * population_size\n",
        "  population = [generate_individue() for i in range(0, population_size)]\n",
        "  population.sort(key=sortByFitness, reverse=True)\n",
        "  return population"
      ],
      "execution_count": 50,
      "outputs": []
    },
    {
      "cell_type": "code",
      "metadata": {
        "id": "fuzA6Z4Bw5wn"
      },
      "source": [
        "def choose_parents(population):\n",
        "  father = random.randint(0, POPULATION_SIZE - 1)\n",
        "  mother = random.randint(0, POPULATION_SIZE - 1)\n",
        "  return [population[father], population[mother]]"
      ],
      "execution_count": 41,
      "outputs": []
    },
    {
      "cell_type": "code",
      "metadata": {
        "id": "OQRgAu6X1zHi"
      },
      "source": [
        "def make_children(population):\n",
        "  parents = choose_parents(population)\n",
        "  child = {'activation': parents[random.randint(0,1)]['activation'],\n",
        "          'hidden_layer_sizes': parents[random.randint(0,1)]['hidden_layer_sizes'],\n",
        "          'learning_rate': parents[random.randint(0,1)]['learning_rate'],\n",
        "          'max_iter': parents[random.randint(0,1)]['max_iter'],\n",
        "          'solver': parents[random.randint(0,1)]['solver'],\n",
        "          'fitness': 0}\n",
        " \n",
        "  ##TODO - MUTATION\n",
        "  child['fitness'] = calculate_fitness(child)\n",
        "  population.append(child)\n",
        "  population.sort(key=sortByFitness, reverse=True)\n",
        "  return population[:10]"
      ],
      "execution_count": 49,
      "outputs": []
    },
    {
      "cell_type": "code",
      "metadata": {
        "id": "3qVBwGyT5i1a"
      },
      "source": [
        "def calculate_fitness(individue):\n",
        "  model_mlp = MLPClassifier(activation=individue['activation'],\n",
        "                            hidden_layer_sizes=individue['hidden_layer_sizes'],\n",
        "                            learning_rate=individue['learning_rate'],\n",
        "                            max_iter=individue['max_iter'],\n",
        "                            solver=individue['solver'])\n",
        "  model_mlp.fit(feature_train, label_train) \n",
        "\n",
        "  prediction = model_mlp.predict(feature_test) \n",
        "  return accuracy_score(label_test, prediction)\n",
        "  "
      ],
      "execution_count": 43,
      "outputs": []
    },
    {
      "cell_type": "markdown",
      "metadata": {
        "id": "qwAhLXiPyEnS"
      },
      "source": [
        "Main\n"
      ]
    },
    {
      "cell_type": "code",
      "metadata": {
        "colab": {
          "base_uri": "https://localhost:8080/"
        },
        "id": "IPBbhhb7yBLe",
        "outputId": "4352ad3c-b6aa-43c9-b770-c940b9f85041"
      },
      "source": [
        "population = initiate_population(POPULATION_SIZE)\n",
        "print(population)\n",
        "for x in range(0, 10):\n",
        "  population = make_children(population)\n",
        "  print(population)"
      ],
      "execution_count": 52,
      "outputs": [
        {
          "output_type": "stream",
          "text": [
            "/usr/local/lib/python3.7/dist-packages/sklearn/neural_network/_multilayer_perceptron.py:571: ConvergenceWarning: Stochastic Optimizer: Maximum iterations (186) reached and the optimization hasn't converged yet.\n",
            "  % self.max_iter, ConvergenceWarning)\n",
            "/usr/local/lib/python3.7/dist-packages/sklearn/neural_network/_multilayer_perceptron.py:571: ConvergenceWarning: Stochastic Optimizer: Maximum iterations (261) reached and the optimization hasn't converged yet.\n",
            "  % self.max_iter, ConvergenceWarning)\n",
            "/usr/local/lib/python3.7/dist-packages/sklearn/neural_network/_multilayer_perceptron.py:571: ConvergenceWarning: Stochastic Optimizer: Maximum iterations (286) reached and the optimization hasn't converged yet.\n",
            "  % self.max_iter, ConvergenceWarning)\n",
            "/usr/local/lib/python3.7/dist-packages/sklearn/neural_network/_multilayer_perceptron.py:470: ConvergenceWarning: lbfgs failed to converge (status=1):\n",
            "STOP: TOTAL NO. of ITERATIONS REACHED LIMIT.\n",
            "\n",
            "Increase the number of iterations (max_iter) or scale the data as shown in:\n",
            "    https://scikit-learn.org/stable/modules/preprocessing.html\n",
            "  self.n_iter_ = _check_optimize_result(\"lbfgs\", opt_res, self.max_iter)\n",
            "/usr/local/lib/python3.7/dist-packages/sklearn/neural_network/_multilayer_perceptron.py:571: ConvergenceWarning: Stochastic Optimizer: Maximum iterations (142) reached and the optimization hasn't converged yet.\n",
            "  % self.max_iter, ConvergenceWarning)\n",
            "/usr/local/lib/python3.7/dist-packages/sklearn/neural_network/_multilayer_perceptron.py:470: ConvergenceWarning: lbfgs failed to converge (status=1):\n",
            "STOP: TOTAL NO. of ITERATIONS REACHED LIMIT.\n",
            "\n",
            "Increase the number of iterations (max_iter) or scale the data as shown in:\n",
            "    https://scikit-learn.org/stable/modules/preprocessing.html\n",
            "  self.n_iter_ = _check_optimize_result(\"lbfgs\", opt_res, self.max_iter)\n",
            "/usr/local/lib/python3.7/dist-packages/sklearn/neural_network/_multilayer_perceptron.py:571: ConvergenceWarning: Stochastic Optimizer: Maximum iterations (104) reached and the optimization hasn't converged yet.\n",
            "  % self.max_iter, ConvergenceWarning)\n",
            "/usr/local/lib/python3.7/dist-packages/sklearn/neural_network/_multilayer_perceptron.py:470: ConvergenceWarning: lbfgs failed to converge (status=1):\n",
            "STOP: TOTAL NO. of ITERATIONS REACHED LIMIT.\n",
            "\n",
            "Increase the number of iterations (max_iter) or scale the data as shown in:\n",
            "    https://scikit-learn.org/stable/modules/preprocessing.html\n",
            "  self.n_iter_ = _check_optimize_result(\"lbfgs\", opt_res, self.max_iter)\n"
          ],
          "name": "stderr"
        },
        {
          "output_type": "stream",
          "text": [
            "[{'activation': 'logistic', 'solver': 'adam', 'learning_rate': 'invscaling', 'hidden_layer_sizes': 100, 'max_iter': 261, 'fitness': 0.478}, {'activation': 'tanh', 'solver': 'adam', 'learning_rate': 'constant', 'hidden_layer_sizes': 100, 'max_iter': 142, 'fitness': 0.4695}, {'activation': 'tanh', 'solver': 'adam', 'learning_rate': 'adaptive', 'hidden_layer_sizes': 100, 'max_iter': 286, 'fitness': 0.4675}, {'activation': 'relu', 'solver': 'sgd', 'learning_rate': 'constant', 'hidden_layer_sizes': 100, 'max_iter': 104, 'fitness': 0.4645}, {'activation': 'logistic', 'solver': 'sgd', 'learning_rate': 'adaptive', 'hidden_layer_sizes': 100, 'max_iter': 186, 'fitness': 0.447}, {'activation': 'identity', 'solver': 'lbfgs', 'learning_rate': 'invscaling', 'hidden_layer_sizes': 100, 'max_iter': 202, 'fitness': 0.445}, {'activation': 'identity', 'solver': 'lbfgs', 'learning_rate': 'invscaling', 'hidden_layer_sizes': 100, 'max_iter': 257, 'fitness': 0.445}, {'activation': 'relu', 'solver': 'lbfgs', 'learning_rate': 'adaptive', 'hidden_layer_sizes': 100, 'max_iter': 215, 'fitness': 0.4445}, {'activation': 'relu', 'solver': 'lbfgs', 'learning_rate': 'constant', 'hidden_layer_sizes': 100, 'max_iter': 189, 'fitness': 0.4345}, {'activation': 'tanh', 'solver': 'lbfgs', 'learning_rate': 'invscaling', 'hidden_layer_sizes': 100, 'max_iter': 211, 'fitness': 0.4285}]\n",
            "[{'activation': 'logistic', 'solver': 'adam', 'learning_rate': 'invscaling', 'hidden_layer_sizes': 100, 'max_iter': 261, 'fitness': 0.478}, {'activation': 'tanh', 'solver': 'adam', 'learning_rate': 'constant', 'hidden_layer_sizes': 100, 'max_iter': 142, 'fitness': 0.4695}, {'activation': 'tanh', 'solver': 'adam', 'learning_rate': 'adaptive', 'hidden_layer_sizes': 100, 'max_iter': 286, 'fitness': 0.4675}, {'activation': 'relu', 'solver': 'sgd', 'learning_rate': 'constant', 'hidden_layer_sizes': 100, 'max_iter': 104, 'fitness': 0.4645}, {'activation': 'logistic', 'solver': 'sgd', 'learning_rate': 'adaptive', 'hidden_layer_sizes': 100, 'max_iter': 186, 'fitness': 0.447}, {'activation': 'identity', 'solver': 'lbfgs', 'learning_rate': 'invscaling', 'hidden_layer_sizes': 100, 'max_iter': 202, 'fitness': 0.445}, {'activation': 'identity', 'solver': 'lbfgs', 'learning_rate': 'invscaling', 'hidden_layer_sizes': 100, 'max_iter': 257, 'fitness': 0.445}, {'activation': 'identity', 'hidden_layer_sizes': 100, 'learning_rate': 'adaptive', 'max_iter': 186, 'solver': 'lbfgs', 'fitness': 0.445}, {'activation': 'relu', 'solver': 'lbfgs', 'learning_rate': 'adaptive', 'hidden_layer_sizes': 100, 'max_iter': 215, 'fitness': 0.4445}, {'activation': 'relu', 'solver': 'lbfgs', 'learning_rate': 'constant', 'hidden_layer_sizes': 100, 'max_iter': 189, 'fitness': 0.4345}]\n"
          ],
          "name": "stdout"
        },
        {
          "output_type": "stream",
          "text": [
            "/usr/local/lib/python3.7/dist-packages/sklearn/neural_network/_multilayer_perceptron.py:470: ConvergenceWarning: lbfgs failed to converge (status=1):\n",
            "STOP: TOTAL NO. of ITERATIONS REACHED LIMIT.\n",
            "\n",
            "Increase the number of iterations (max_iter) or scale the data as shown in:\n",
            "    https://scikit-learn.org/stable/modules/preprocessing.html\n",
            "  self.n_iter_ = _check_optimize_result(\"lbfgs\", opt_res, self.max_iter)\n"
          ],
          "name": "stderr"
        },
        {
          "output_type": "stream",
          "text": [
            "[{'activation': 'logistic', 'solver': 'adam', 'learning_rate': 'invscaling', 'hidden_layer_sizes': 100, 'max_iter': 261, 'fitness': 0.478}, {'activation': 'tanh', 'solver': 'adam', 'learning_rate': 'constant', 'hidden_layer_sizes': 100, 'max_iter': 142, 'fitness': 0.4695}, {'activation': 'tanh', 'solver': 'adam', 'learning_rate': 'adaptive', 'hidden_layer_sizes': 100, 'max_iter': 286, 'fitness': 0.4675}, {'activation': 'relu', 'solver': 'sgd', 'learning_rate': 'constant', 'hidden_layer_sizes': 100, 'max_iter': 104, 'fitness': 0.4645}, {'activation': 'logistic', 'solver': 'sgd', 'learning_rate': 'adaptive', 'hidden_layer_sizes': 100, 'max_iter': 186, 'fitness': 0.447}, {'activation': 'identity', 'solver': 'lbfgs', 'learning_rate': 'invscaling', 'hidden_layer_sizes': 100, 'max_iter': 202, 'fitness': 0.445}, {'activation': 'identity', 'solver': 'lbfgs', 'learning_rate': 'invscaling', 'hidden_layer_sizes': 100, 'max_iter': 257, 'fitness': 0.445}, {'activation': 'identity', 'hidden_layer_sizes': 100, 'learning_rate': 'adaptive', 'max_iter': 186, 'solver': 'lbfgs', 'fitness': 0.445}, {'activation': 'relu', 'solver': 'lbfgs', 'learning_rate': 'adaptive', 'hidden_layer_sizes': 100, 'max_iter': 215, 'fitness': 0.4445}, {'activation': 'relu', 'solver': 'lbfgs', 'learning_rate': 'constant', 'hidden_layer_sizes': 100, 'max_iter': 189, 'fitness': 0.4345}]\n",
            "[{'activation': 'logistic', 'solver': 'adam', 'learning_rate': 'invscaling', 'hidden_layer_sizes': 100, 'max_iter': 261, 'fitness': 0.478}, {'activation': 'tanh', 'solver': 'adam', 'learning_rate': 'constant', 'hidden_layer_sizes': 100, 'max_iter': 142, 'fitness': 0.4695}, {'activation': 'tanh', 'solver': 'adam', 'learning_rate': 'adaptive', 'hidden_layer_sizes': 100, 'max_iter': 286, 'fitness': 0.4675}, {'activation': 'relu', 'solver': 'sgd', 'learning_rate': 'constant', 'hidden_layer_sizes': 100, 'max_iter': 104, 'fitness': 0.4645}, {'activation': 'logistic', 'solver': 'sgd', 'learning_rate': 'adaptive', 'hidden_layer_sizes': 100, 'max_iter': 186, 'fitness': 0.447}, {'activation': 'identity', 'solver': 'lbfgs', 'learning_rate': 'invscaling', 'hidden_layer_sizes': 100, 'max_iter': 202, 'fitness': 0.445}, {'activation': 'identity', 'solver': 'lbfgs', 'learning_rate': 'invscaling', 'hidden_layer_sizes': 100, 'max_iter': 257, 'fitness': 0.445}, {'activation': 'identity', 'hidden_layer_sizes': 100, 'learning_rate': 'adaptive', 'max_iter': 186, 'solver': 'lbfgs', 'fitness': 0.445}, {'activation': 'identity', 'hidden_layer_sizes': 100, 'learning_rate': 'adaptive', 'max_iter': 186, 'solver': 'lbfgs', 'fitness': 0.445}, {'activation': 'relu', 'solver': 'lbfgs', 'learning_rate': 'adaptive', 'hidden_layer_sizes': 100, 'max_iter': 215, 'fitness': 0.4445}]\n"
          ],
          "name": "stdout"
        },
        {
          "output_type": "stream",
          "text": [
            "/usr/local/lib/python3.7/dist-packages/sklearn/neural_network/_multilayer_perceptron.py:571: ConvergenceWarning: Stochastic Optimizer: Maximum iterations (104) reached and the optimization hasn't converged yet.\n",
            "  % self.max_iter, ConvergenceWarning)\n"
          ],
          "name": "stderr"
        },
        {
          "output_type": "stream",
          "text": [
            "[{'activation': 'logistic', 'solver': 'adam', 'learning_rate': 'invscaling', 'hidden_layer_sizes': 100, 'max_iter': 261, 'fitness': 0.478}, {'activation': 'tanh', 'solver': 'adam', 'learning_rate': 'constant', 'hidden_layer_sizes': 100, 'max_iter': 142, 'fitness': 0.4695}, {'activation': 'tanh', 'solver': 'adam', 'learning_rate': 'adaptive', 'hidden_layer_sizes': 100, 'max_iter': 286, 'fitness': 0.4675}, {'activation': 'relu', 'solver': 'sgd', 'learning_rate': 'constant', 'hidden_layer_sizes': 100, 'max_iter': 104, 'fitness': 0.4645}, {'activation': 'logistic', 'solver': 'sgd', 'learning_rate': 'adaptive', 'hidden_layer_sizes': 100, 'max_iter': 186, 'fitness': 0.447}, {'activation': 'identity', 'solver': 'lbfgs', 'learning_rate': 'invscaling', 'hidden_layer_sizes': 100, 'max_iter': 202, 'fitness': 0.445}, {'activation': 'identity', 'solver': 'lbfgs', 'learning_rate': 'invscaling', 'hidden_layer_sizes': 100, 'max_iter': 257, 'fitness': 0.445}, {'activation': 'identity', 'hidden_layer_sizes': 100, 'learning_rate': 'adaptive', 'max_iter': 186, 'solver': 'lbfgs', 'fitness': 0.445}, {'activation': 'identity', 'hidden_layer_sizes': 100, 'learning_rate': 'adaptive', 'max_iter': 186, 'solver': 'lbfgs', 'fitness': 0.445}, {'activation': 'relu', 'solver': 'lbfgs', 'learning_rate': 'adaptive', 'hidden_layer_sizes': 100, 'max_iter': 215, 'fitness': 0.4445}]\n",
            "[{'activation': 'logistic', 'solver': 'adam', 'learning_rate': 'invscaling', 'hidden_layer_sizes': 100, 'max_iter': 261, 'fitness': 0.478}, {'activation': 'tanh', 'solver': 'adam', 'learning_rate': 'constant', 'hidden_layer_sizes': 100, 'max_iter': 142, 'fitness': 0.4695}, {'activation': 'tanh', 'solver': 'adam', 'learning_rate': 'adaptive', 'hidden_layer_sizes': 100, 'max_iter': 286, 'fitness': 0.4675}, {'activation': 'relu', 'solver': 'sgd', 'learning_rate': 'constant', 'hidden_layer_sizes': 100, 'max_iter': 104, 'fitness': 0.4645}, {'activation': 'logistic', 'solver': 'sgd', 'learning_rate': 'adaptive', 'hidden_layer_sizes': 100, 'max_iter': 186, 'fitness': 0.447}, {'activation': 'identity', 'solver': 'lbfgs', 'learning_rate': 'invscaling', 'hidden_layer_sizes': 100, 'max_iter': 202, 'fitness': 0.445}, {'activation': 'identity', 'solver': 'lbfgs', 'learning_rate': 'invscaling', 'hidden_layer_sizes': 100, 'max_iter': 257, 'fitness': 0.445}, {'activation': 'identity', 'hidden_layer_sizes': 100, 'learning_rate': 'adaptive', 'max_iter': 186, 'solver': 'lbfgs', 'fitness': 0.445}, {'activation': 'identity', 'hidden_layer_sizes': 100, 'learning_rate': 'adaptive', 'max_iter': 186, 'solver': 'lbfgs', 'fitness': 0.445}, {'activation': 'identity', 'hidden_layer_sizes': 100, 'learning_rate': 'invscaling', 'max_iter': 202, 'solver': 'lbfgs', 'fitness': 0.445}]\n",
            "[{'activation': 'logistic', 'solver': 'adam', 'learning_rate': 'invscaling', 'hidden_layer_sizes': 100, 'max_iter': 261, 'fitness': 0.478}, {'activation': 'tanh', 'solver': 'adam', 'learning_rate': 'constant', 'hidden_layer_sizes': 100, 'max_iter': 142, 'fitness': 0.4695}, {'activation': 'tanh', 'solver': 'adam', 'learning_rate': 'adaptive', 'hidden_layer_sizes': 100, 'max_iter': 286, 'fitness': 0.4675}, {'activation': 'relu', 'solver': 'sgd', 'learning_rate': 'constant', 'hidden_layer_sizes': 100, 'max_iter': 104, 'fitness': 0.4645}, {'activation': 'logistic', 'solver': 'sgd', 'learning_rate': 'adaptive', 'hidden_layer_sizes': 100, 'max_iter': 186, 'fitness': 0.447}, {'activation': 'identity', 'solver': 'lbfgs', 'learning_rate': 'invscaling', 'hidden_layer_sizes': 100, 'max_iter': 202, 'fitness': 0.445}, {'activation': 'identity', 'solver': 'lbfgs', 'learning_rate': 'invscaling', 'hidden_layer_sizes': 100, 'max_iter': 257, 'fitness': 0.445}, {'activation': 'identity', 'hidden_layer_sizes': 100, 'learning_rate': 'adaptive', 'max_iter': 186, 'solver': 'lbfgs', 'fitness': 0.445}, {'activation': 'identity', 'hidden_layer_sizes': 100, 'learning_rate': 'adaptive', 'max_iter': 186, 'solver': 'lbfgs', 'fitness': 0.445}, {'activation': 'identity', 'hidden_layer_sizes': 100, 'learning_rate': 'invscaling', 'max_iter': 202, 'solver': 'lbfgs', 'fitness': 0.445}]\n"
          ],
          "name": "stdout"
        },
        {
          "output_type": "stream",
          "text": [
            "/usr/local/lib/python3.7/dist-packages/sklearn/neural_network/_multilayer_perceptron.py:470: ConvergenceWarning: lbfgs failed to converge (status=1):\n",
            "STOP: TOTAL NO. of ITERATIONS REACHED LIMIT.\n",
            "\n",
            "Increase the number of iterations (max_iter) or scale the data as shown in:\n",
            "    https://scikit-learn.org/stable/modules/preprocessing.html\n",
            "  self.n_iter_ = _check_optimize_result(\"lbfgs\", opt_res, self.max_iter)\n"
          ],
          "name": "stderr"
        },
        {
          "output_type": "stream",
          "text": [
            "[{'activation': 'logistic', 'solver': 'adam', 'learning_rate': 'invscaling', 'hidden_layer_sizes': 100, 'max_iter': 261, 'fitness': 0.478}, {'activation': 'tanh', 'solver': 'adam', 'learning_rate': 'constant', 'hidden_layer_sizes': 100, 'max_iter': 142, 'fitness': 0.4695}, {'activation': 'tanh', 'solver': 'adam', 'learning_rate': 'adaptive', 'hidden_layer_sizes': 100, 'max_iter': 286, 'fitness': 0.4675}, {'activation': 'relu', 'solver': 'sgd', 'learning_rate': 'constant', 'hidden_layer_sizes': 100, 'max_iter': 104, 'fitness': 0.4645}, {'activation': 'logistic', 'solver': 'sgd', 'learning_rate': 'adaptive', 'hidden_layer_sizes': 100, 'max_iter': 186, 'fitness': 0.447}, {'activation': 'identity', 'solver': 'lbfgs', 'learning_rate': 'invscaling', 'hidden_layer_sizes': 100, 'max_iter': 202, 'fitness': 0.445}, {'activation': 'identity', 'solver': 'lbfgs', 'learning_rate': 'invscaling', 'hidden_layer_sizes': 100, 'max_iter': 257, 'fitness': 0.445}, {'activation': 'identity', 'hidden_layer_sizes': 100, 'learning_rate': 'adaptive', 'max_iter': 186, 'solver': 'lbfgs', 'fitness': 0.445}, {'activation': 'identity', 'hidden_layer_sizes': 100, 'learning_rate': 'adaptive', 'max_iter': 186, 'solver': 'lbfgs', 'fitness': 0.445}, {'activation': 'identity', 'hidden_layer_sizes': 100, 'learning_rate': 'invscaling', 'max_iter': 202, 'solver': 'lbfgs', 'fitness': 0.445}]\n"
          ],
          "name": "stdout"
        },
        {
          "output_type": "stream",
          "text": [
            "/usr/local/lib/python3.7/dist-packages/sklearn/neural_network/_multilayer_perceptron.py:571: ConvergenceWarning: Stochastic Optimizer: Maximum iterations (286) reached and the optimization hasn't converged yet.\n",
            "  % self.max_iter, ConvergenceWarning)\n"
          ],
          "name": "stderr"
        },
        {
          "output_type": "stream",
          "text": [
            "[{'activation': 'logistic', 'solver': 'adam', 'learning_rate': 'invscaling', 'hidden_layer_sizes': 100, 'max_iter': 261, 'fitness': 0.478}, {'activation': 'tanh', 'solver': 'adam', 'learning_rate': 'constant', 'hidden_layer_sizes': 100, 'max_iter': 142, 'fitness': 0.4695}, {'activation': 'tanh', 'solver': 'adam', 'learning_rate': 'adaptive', 'hidden_layer_sizes': 100, 'max_iter': 286, 'fitness': 0.4675}, {'activation': 'relu', 'solver': 'sgd', 'learning_rate': 'constant', 'hidden_layer_sizes': 100, 'max_iter': 104, 'fitness': 0.4645}, {'activation': 'tanh', 'hidden_layer_sizes': 100, 'learning_rate': 'adaptive', 'max_iter': 286, 'solver': 'adam', 'fitness': 0.4615}, {'activation': 'logistic', 'solver': 'sgd', 'learning_rate': 'adaptive', 'hidden_layer_sizes': 100, 'max_iter': 186, 'fitness': 0.447}, {'activation': 'identity', 'solver': 'lbfgs', 'learning_rate': 'invscaling', 'hidden_layer_sizes': 100, 'max_iter': 202, 'fitness': 0.445}, {'activation': 'identity', 'solver': 'lbfgs', 'learning_rate': 'invscaling', 'hidden_layer_sizes': 100, 'max_iter': 257, 'fitness': 0.445}, {'activation': 'identity', 'hidden_layer_sizes': 100, 'learning_rate': 'adaptive', 'max_iter': 186, 'solver': 'lbfgs', 'fitness': 0.445}, {'activation': 'identity', 'hidden_layer_sizes': 100, 'learning_rate': 'adaptive', 'max_iter': 186, 'solver': 'lbfgs', 'fitness': 0.445}]\n"
          ],
          "name": "stdout"
        },
        {
          "output_type": "stream",
          "text": [
            "/usr/local/lib/python3.7/dist-packages/sklearn/neural_network/_multilayer_perceptron.py:571: ConvergenceWarning: Stochastic Optimizer: Maximum iterations (286) reached and the optimization hasn't converged yet.\n",
            "  % self.max_iter, ConvergenceWarning)\n"
          ],
          "name": "stderr"
        },
        {
          "output_type": "stream",
          "text": [
            "[{'activation': 'logistic', 'solver': 'adam', 'learning_rate': 'invscaling', 'hidden_layer_sizes': 100, 'max_iter': 261, 'fitness': 0.478}, {'activation': 'logistic', 'hidden_layer_sizes': 100, 'learning_rate': 'adaptive', 'max_iter': 286, 'solver': 'adam', 'fitness': 0.471}, {'activation': 'tanh', 'solver': 'adam', 'learning_rate': 'constant', 'hidden_layer_sizes': 100, 'max_iter': 142, 'fitness': 0.4695}, {'activation': 'tanh', 'solver': 'adam', 'learning_rate': 'adaptive', 'hidden_layer_sizes': 100, 'max_iter': 286, 'fitness': 0.4675}, {'activation': 'relu', 'solver': 'sgd', 'learning_rate': 'constant', 'hidden_layer_sizes': 100, 'max_iter': 104, 'fitness': 0.4645}, {'activation': 'tanh', 'hidden_layer_sizes': 100, 'learning_rate': 'adaptive', 'max_iter': 286, 'solver': 'adam', 'fitness': 0.4615}, {'activation': 'logistic', 'solver': 'sgd', 'learning_rate': 'adaptive', 'hidden_layer_sizes': 100, 'max_iter': 186, 'fitness': 0.447}, {'activation': 'identity', 'solver': 'lbfgs', 'learning_rate': 'invscaling', 'hidden_layer_sizes': 100, 'max_iter': 202, 'fitness': 0.445}, {'activation': 'identity', 'solver': 'lbfgs', 'learning_rate': 'invscaling', 'hidden_layer_sizes': 100, 'max_iter': 257, 'fitness': 0.445}, {'activation': 'identity', 'hidden_layer_sizes': 100, 'learning_rate': 'adaptive', 'max_iter': 186, 'solver': 'lbfgs', 'fitness': 0.445}]\n",
            "[{'activation': 'logistic', 'solver': 'adam', 'learning_rate': 'invscaling', 'hidden_layer_sizes': 100, 'max_iter': 261, 'fitness': 0.478}, {'activation': 'logistic', 'hidden_layer_sizes': 100, 'learning_rate': 'adaptive', 'max_iter': 286, 'solver': 'adam', 'fitness': 0.471}, {'activation': 'tanh', 'solver': 'adam', 'learning_rate': 'constant', 'hidden_layer_sizes': 100, 'max_iter': 142, 'fitness': 0.4695}, {'activation': 'tanh', 'solver': 'adam', 'learning_rate': 'adaptive', 'hidden_layer_sizes': 100, 'max_iter': 286, 'fitness': 0.4675}, {'activation': 'tanh', 'hidden_layer_sizes': 100, 'learning_rate': 'adaptive', 'max_iter': 286, 'solver': 'adam', 'fitness': 0.4665}, {'activation': 'relu', 'solver': 'sgd', 'learning_rate': 'constant', 'hidden_layer_sizes': 100, 'max_iter': 104, 'fitness': 0.4645}, {'activation': 'tanh', 'hidden_layer_sizes': 100, 'learning_rate': 'adaptive', 'max_iter': 286, 'solver': 'adam', 'fitness': 0.4615}, {'activation': 'logistic', 'solver': 'sgd', 'learning_rate': 'adaptive', 'hidden_layer_sizes': 100, 'max_iter': 186, 'fitness': 0.447}, {'activation': 'identity', 'solver': 'lbfgs', 'learning_rate': 'invscaling', 'hidden_layer_sizes': 100, 'max_iter': 202, 'fitness': 0.445}, {'activation': 'identity', 'solver': 'lbfgs', 'learning_rate': 'invscaling', 'hidden_layer_sizes': 100, 'max_iter': 257, 'fitness': 0.445}]\n"
          ],
          "name": "stdout"
        },
        {
          "output_type": "stream",
          "text": [
            "/usr/local/lib/python3.7/dist-packages/sklearn/neural_network/_multilayer_perceptron.py:571: ConvergenceWarning: Stochastic Optimizer: Maximum iterations (286) reached and the optimization hasn't converged yet.\n",
            "  % self.max_iter, ConvergenceWarning)\n"
          ],
          "name": "stderr"
        }
      ]
    }
  ]
}