{
  "nbformat": 4,
  "nbformat_minor": 0,
  "metadata": {
    "colab": {
      "name": "airbnb-predictor",
      "provenance": [],
      "collapsed_sections": [],
      "include_colab_link": true
    },
    "kernelspec": {
      "name": "python3",
      "display_name": "Python 3"
    },
    "language_info": {
      "name": "python"
    }
  },
  "cells": [
    {
      "cell_type": "markdown",
      "metadata": {
        "id": "view-in-github",
        "colab_type": "text"
      },
      "source": [
        "<a href=\"https://colab.research.google.com/github/cdbm/airbnb-price-rediction-optimizer/blob/main/airbnb_predictor.ipynb\" target=\"_parent\"><img src=\"https://colab.research.google.com/assets/colab-badge.svg\" alt=\"Open In Colab\"/></a>"
      ]
    },
    {
      "cell_type": "code",
      "metadata": {
        "id": "Iple0wNCUL5B"
      },
      "source": [
        "import numpy as np \n",
        "import pandas as pd"
      ],
      "execution_count": 3,
      "outputs": []
    },
    {
      "cell_type": "markdown",
      "metadata": {
        "id": "wRMpaeduZYo7"
      },
      "source": [
        "# Database pre processing"
      ]
    },
    {
      "cell_type": "code",
      "metadata": {
        "id": "CSyF0uxzVHdk",
        "colab": {
          "base_uri": "https://localhost:8080/",
          "height": 0
        },
        "outputId": "7fc13e7f-d57b-4ac3-8ea5-a73ca36114d8"
      },
      "source": [
        "df = pd.read_csv(\"https://raw.githubusercontent.com/cdbm/airbnb-price-rediction-optimizer/main/AB_NYC_2019.csv\")\n",
        "df.head()"
      ],
      "execution_count": 4,
      "outputs": [
        {
          "output_type": "execute_result",
          "data": {
            "text/html": [
              "<div>\n",
              "<style scoped>\n",
              "    .dataframe tbody tr th:only-of-type {\n",
              "        vertical-align: middle;\n",
              "    }\n",
              "\n",
              "    .dataframe tbody tr th {\n",
              "        vertical-align: top;\n",
              "    }\n",
              "\n",
              "    .dataframe thead th {\n",
              "        text-align: right;\n",
              "    }\n",
              "</style>\n",
              "<table border=\"1\" class=\"dataframe\">\n",
              "  <thead>\n",
              "    <tr style=\"text-align: right;\">\n",
              "      <th></th>\n",
              "      <th>id</th>\n",
              "      <th>name</th>\n",
              "      <th>host_id</th>\n",
              "      <th>host_name</th>\n",
              "      <th>neighbourhood_group</th>\n",
              "      <th>neighbourhood</th>\n",
              "      <th>latitude</th>\n",
              "      <th>longitude</th>\n",
              "      <th>room_type</th>\n",
              "      <th>price</th>\n",
              "      <th>minimum_nights</th>\n",
              "      <th>number_of_reviews</th>\n",
              "      <th>last_review</th>\n",
              "      <th>reviews_per_month</th>\n",
              "      <th>calculated_host_listings_count</th>\n",
              "      <th>availability_365</th>\n",
              "    </tr>\n",
              "  </thead>\n",
              "  <tbody>\n",
              "    <tr>\n",
              "      <th>0</th>\n",
              "      <td>2539</td>\n",
              "      <td>Clean &amp; quiet apt home by the park</td>\n",
              "      <td>2787</td>\n",
              "      <td>John</td>\n",
              "      <td>Brooklyn</td>\n",
              "      <td>Kensington</td>\n",
              "      <td>40.64749</td>\n",
              "      <td>-73.97237</td>\n",
              "      <td>Private room</td>\n",
              "      <td>149</td>\n",
              "      <td>1</td>\n",
              "      <td>9</td>\n",
              "      <td>2018-10-19</td>\n",
              "      <td>0.21</td>\n",
              "      <td>6</td>\n",
              "      <td>365</td>\n",
              "    </tr>\n",
              "    <tr>\n",
              "      <th>1</th>\n",
              "      <td>2595</td>\n",
              "      <td>Skylit Midtown Castle</td>\n",
              "      <td>2845</td>\n",
              "      <td>Jennifer</td>\n",
              "      <td>Manhattan</td>\n",
              "      <td>Midtown</td>\n",
              "      <td>40.75362</td>\n",
              "      <td>-73.98377</td>\n",
              "      <td>Entire home/apt</td>\n",
              "      <td>225</td>\n",
              "      <td>1</td>\n",
              "      <td>45</td>\n",
              "      <td>2019-05-21</td>\n",
              "      <td>0.38</td>\n",
              "      <td>2</td>\n",
              "      <td>355</td>\n",
              "    </tr>\n",
              "    <tr>\n",
              "      <th>2</th>\n",
              "      <td>3647</td>\n",
              "      <td>THE VILLAGE OF HARLEM....NEW YORK !</td>\n",
              "      <td>4632</td>\n",
              "      <td>Elisabeth</td>\n",
              "      <td>Manhattan</td>\n",
              "      <td>Harlem</td>\n",
              "      <td>40.80902</td>\n",
              "      <td>-73.94190</td>\n",
              "      <td>Private room</td>\n",
              "      <td>150</td>\n",
              "      <td>3</td>\n",
              "      <td>0</td>\n",
              "      <td>NaN</td>\n",
              "      <td>NaN</td>\n",
              "      <td>1</td>\n",
              "      <td>365</td>\n",
              "    </tr>\n",
              "    <tr>\n",
              "      <th>3</th>\n",
              "      <td>3831</td>\n",
              "      <td>Cozy Entire Floor of Brownstone</td>\n",
              "      <td>4869</td>\n",
              "      <td>LisaRoxanne</td>\n",
              "      <td>Brooklyn</td>\n",
              "      <td>Clinton Hill</td>\n",
              "      <td>40.68514</td>\n",
              "      <td>-73.95976</td>\n",
              "      <td>Entire home/apt</td>\n",
              "      <td>89</td>\n",
              "      <td>1</td>\n",
              "      <td>270</td>\n",
              "      <td>2019-07-05</td>\n",
              "      <td>4.64</td>\n",
              "      <td>1</td>\n",
              "      <td>194</td>\n",
              "    </tr>\n",
              "    <tr>\n",
              "      <th>4</th>\n",
              "      <td>5022</td>\n",
              "      <td>Entire Apt: Spacious Studio/Loft by central park</td>\n",
              "      <td>7192</td>\n",
              "      <td>Laura</td>\n",
              "      <td>Manhattan</td>\n",
              "      <td>East Harlem</td>\n",
              "      <td>40.79851</td>\n",
              "      <td>-73.94399</td>\n",
              "      <td>Entire home/apt</td>\n",
              "      <td>80</td>\n",
              "      <td>10</td>\n",
              "      <td>9</td>\n",
              "      <td>2018-11-19</td>\n",
              "      <td>0.10</td>\n",
              "      <td>1</td>\n",
              "      <td>0</td>\n",
              "    </tr>\n",
              "  </tbody>\n",
              "</table>\n",
              "</div>"
            ],
            "text/plain": [
              "     id  ... availability_365\n",
              "0  2539  ...              365\n",
              "1  2595  ...              355\n",
              "2  3647  ...              365\n",
              "3  3831  ...              194\n",
              "4  5022  ...                0\n",
              "\n",
              "[5 rows x 16 columns]"
            ]
          },
          "metadata": {
            "tags": []
          },
          "execution_count": 4
        }
      ]
    },
    {
      "cell_type": "code",
      "metadata": {
        "id": "gTT91va_nFyi",
        "colab": {
          "base_uri": "https://localhost:8080/",
          "height": 0
        },
        "outputId": "a4bdf2ff-351f-4b7c-f7ff-8c10b8076ad5"
      },
      "source": [
        "df.describe()"
      ],
      "execution_count": 5,
      "outputs": [
        {
          "output_type": "execute_result",
          "data": {
            "text/html": [
              "<div>\n",
              "<style scoped>\n",
              "    .dataframe tbody tr th:only-of-type {\n",
              "        vertical-align: middle;\n",
              "    }\n",
              "\n",
              "    .dataframe tbody tr th {\n",
              "        vertical-align: top;\n",
              "    }\n",
              "\n",
              "    .dataframe thead th {\n",
              "        text-align: right;\n",
              "    }\n",
              "</style>\n",
              "<table border=\"1\" class=\"dataframe\">\n",
              "  <thead>\n",
              "    <tr style=\"text-align: right;\">\n",
              "      <th></th>\n",
              "      <th>id</th>\n",
              "      <th>host_id</th>\n",
              "      <th>latitude</th>\n",
              "      <th>longitude</th>\n",
              "      <th>price</th>\n",
              "      <th>minimum_nights</th>\n",
              "      <th>number_of_reviews</th>\n",
              "      <th>reviews_per_month</th>\n",
              "      <th>calculated_host_listings_count</th>\n",
              "      <th>availability_365</th>\n",
              "    </tr>\n",
              "  </thead>\n",
              "  <tbody>\n",
              "    <tr>\n",
              "      <th>count</th>\n",
              "      <td>4.889500e+04</td>\n",
              "      <td>4.889500e+04</td>\n",
              "      <td>48895.000000</td>\n",
              "      <td>48895.000000</td>\n",
              "      <td>48895.000000</td>\n",
              "      <td>48895.000000</td>\n",
              "      <td>48895.000000</td>\n",
              "      <td>38843.000000</td>\n",
              "      <td>48895.000000</td>\n",
              "      <td>48895.000000</td>\n",
              "    </tr>\n",
              "    <tr>\n",
              "      <th>mean</th>\n",
              "      <td>1.901714e+07</td>\n",
              "      <td>6.762001e+07</td>\n",
              "      <td>40.728949</td>\n",
              "      <td>-73.952170</td>\n",
              "      <td>152.720687</td>\n",
              "      <td>7.029962</td>\n",
              "      <td>23.274466</td>\n",
              "      <td>1.373221</td>\n",
              "      <td>7.143982</td>\n",
              "      <td>112.781327</td>\n",
              "    </tr>\n",
              "    <tr>\n",
              "      <th>std</th>\n",
              "      <td>1.098311e+07</td>\n",
              "      <td>7.861097e+07</td>\n",
              "      <td>0.054530</td>\n",
              "      <td>0.046157</td>\n",
              "      <td>240.154170</td>\n",
              "      <td>20.510550</td>\n",
              "      <td>44.550582</td>\n",
              "      <td>1.680442</td>\n",
              "      <td>32.952519</td>\n",
              "      <td>131.622289</td>\n",
              "    </tr>\n",
              "    <tr>\n",
              "      <th>min</th>\n",
              "      <td>2.539000e+03</td>\n",
              "      <td>2.438000e+03</td>\n",
              "      <td>40.499790</td>\n",
              "      <td>-74.244420</td>\n",
              "      <td>0.000000</td>\n",
              "      <td>1.000000</td>\n",
              "      <td>0.000000</td>\n",
              "      <td>0.010000</td>\n",
              "      <td>1.000000</td>\n",
              "      <td>0.000000</td>\n",
              "    </tr>\n",
              "    <tr>\n",
              "      <th>25%</th>\n",
              "      <td>9.471945e+06</td>\n",
              "      <td>7.822033e+06</td>\n",
              "      <td>40.690100</td>\n",
              "      <td>-73.983070</td>\n",
              "      <td>69.000000</td>\n",
              "      <td>1.000000</td>\n",
              "      <td>1.000000</td>\n",
              "      <td>0.190000</td>\n",
              "      <td>1.000000</td>\n",
              "      <td>0.000000</td>\n",
              "    </tr>\n",
              "    <tr>\n",
              "      <th>50%</th>\n",
              "      <td>1.967728e+07</td>\n",
              "      <td>3.079382e+07</td>\n",
              "      <td>40.723070</td>\n",
              "      <td>-73.955680</td>\n",
              "      <td>106.000000</td>\n",
              "      <td>3.000000</td>\n",
              "      <td>5.000000</td>\n",
              "      <td>0.720000</td>\n",
              "      <td>1.000000</td>\n",
              "      <td>45.000000</td>\n",
              "    </tr>\n",
              "    <tr>\n",
              "      <th>75%</th>\n",
              "      <td>2.915218e+07</td>\n",
              "      <td>1.074344e+08</td>\n",
              "      <td>40.763115</td>\n",
              "      <td>-73.936275</td>\n",
              "      <td>175.000000</td>\n",
              "      <td>5.000000</td>\n",
              "      <td>24.000000</td>\n",
              "      <td>2.020000</td>\n",
              "      <td>2.000000</td>\n",
              "      <td>227.000000</td>\n",
              "    </tr>\n",
              "    <tr>\n",
              "      <th>max</th>\n",
              "      <td>3.648724e+07</td>\n",
              "      <td>2.743213e+08</td>\n",
              "      <td>40.913060</td>\n",
              "      <td>-73.712990</td>\n",
              "      <td>10000.000000</td>\n",
              "      <td>1250.000000</td>\n",
              "      <td>629.000000</td>\n",
              "      <td>58.500000</td>\n",
              "      <td>327.000000</td>\n",
              "      <td>365.000000</td>\n",
              "    </tr>\n",
              "  </tbody>\n",
              "</table>\n",
              "</div>"
            ],
            "text/plain": [
              "                 id  ...  availability_365\n",
              "count  4.889500e+04  ...      48895.000000\n",
              "mean   1.901714e+07  ...        112.781327\n",
              "std    1.098311e+07  ...        131.622289\n",
              "min    2.539000e+03  ...          0.000000\n",
              "25%    9.471945e+06  ...          0.000000\n",
              "50%    1.967728e+07  ...         45.000000\n",
              "75%    2.915218e+07  ...        227.000000\n",
              "max    3.648724e+07  ...        365.000000\n",
              "\n",
              "[8 rows x 10 columns]"
            ]
          },
          "metadata": {
            "tags": []
          },
          "execution_count": 5
        }
      ]
    },
    {
      "cell_type": "code",
      "metadata": {
        "id": "x8CXOHi9VkUR",
        "colab": {
          "base_uri": "https://localhost:8080/"
        },
        "outputId": "0ca1f36e-8c86-4654-80c5-30d87e3c39b0"
      },
      "source": [
        "df.dtypes"
      ],
      "execution_count": 6,
      "outputs": [
        {
          "output_type": "execute_result",
          "data": {
            "text/plain": [
              "id                                  int64\n",
              "name                               object\n",
              "host_id                             int64\n",
              "host_name                          object\n",
              "neighbourhood_group                object\n",
              "neighbourhood                      object\n",
              "latitude                          float64\n",
              "longitude                         float64\n",
              "room_type                          object\n",
              "price                               int64\n",
              "minimum_nights                      int64\n",
              "number_of_reviews                   int64\n",
              "last_review                        object\n",
              "reviews_per_month                 float64\n",
              "calculated_host_listings_count      int64\n",
              "availability_365                    int64\n",
              "dtype: object"
            ]
          },
          "metadata": {
            "tags": []
          },
          "execution_count": 6
        }
      ]
    },
    {
      "cell_type": "code",
      "metadata": {
        "id": "2s79q31lV4Mb"
      },
      "source": [
        "df = df.drop('name', axis=1)\n",
        "df = df.drop('host_name', axis=1)\n",
        "df = df.drop('last_review', axis=1)"
      ],
      "execution_count": 7,
      "outputs": []
    },
    {
      "cell_type": "code",
      "metadata": {
        "id": "uX7EaATgYqvy"
      },
      "source": [
        "df = df[df.price <= 500]"
      ],
      "execution_count": 8,
      "outputs": []
    },
    {
      "cell_type": "code",
      "metadata": {
        "id": "IDE-vNYFoJ4h"
      },
      "source": [
        "# df.loc[df['price'] <= 50, 'ranges'] = '0_TO_50'\n",
        "df.loc[df['price'] <= 100, 'ranges'] = '0_TO_100'\n",
        "df.loc[(df['price'] > 100) & (df['price'] <= 200), 'ranges'] = '101_TO_200'\n",
        "# df.loc[(df['price'] > 150) & (df['price'] <= 200), 'ranges'] = '151_TO_200'\n",
        "df.loc[(df['price'] > 200) & (df['price'] <= 300), 'ranges'] = '201_TO_300'\n",
        "#df.loc[(df['price'] > 250) & (df['price'] <= 300), 'ranges'] = '251_TO_300'\n",
        "df.loc[(df['price'] > 300) & (df['price'] <= 400), 'ranges'] = '301_TO_400'\n",
        "#df.loc[(df['price'] > 350) & (df['price'] <= 400), 'ranges'] = '351_TO_400'\n",
        "df.loc[(df['price'] > 400) & (df['price'] <= 500), 'ranges'] = '401_TO_500'\n",
        "#df.loc[(df['price'] > 450) & (df['price'] <= 500), 'ranges'] = '551_TO_500'"
      ],
      "execution_count": 9,
      "outputs": []
    },
    {
      "cell_type": "code",
      "metadata": {
        "id": "OW9pTVEcXsKL"
      },
      "source": [
        "df['neighbourhood_group'] = df['neighbourhood_group'].astype('category')\n",
        "df['neighbourhood'] = df['neighbourhood'].astype('category')\n",
        "df['room_type'] = df['room_type'].astype('category')"
      ],
      "execution_count": 10,
      "outputs": []
    },
    {
      "cell_type": "code",
      "metadata": {
        "id": "_awC1XFkYYzF"
      },
      "source": [
        "cat_columns = df.select_dtypes(['category']).columns\n",
        "df[cat_columns] = df[cat_columns].apply(lambda x: x.cat.codes)"
      ],
      "execution_count": 11,
      "outputs": []
    },
    {
      "cell_type": "code",
      "metadata": {
        "id": "MSMgzwM3EFF_"
      },
      "source": [
        "df['ranges'] = df['ranges'].astype('category')"
      ],
      "execution_count": 12,
      "outputs": []
    },
    {
      "cell_type": "code",
      "metadata": {
        "id": "7taQ5omXYmEf"
      },
      "source": [
        "df['reviews_per_month'].fillna(0, inplace=True) "
      ],
      "execution_count": 13,
      "outputs": []
    },
    {
      "cell_type": "code",
      "metadata": {
        "id": "o_2p-RvtpxDa"
      },
      "source": [
        "df = df.drop('price', axis=1)\n"
      ],
      "execution_count": 14,
      "outputs": []
    },
    {
      "cell_type": "code",
      "metadata": {
        "id": "5itJQHMZD3Mh",
        "colab": {
          "base_uri": "https://localhost:8080/",
          "height": 0
        },
        "outputId": "809da52e-5944-43aa-848b-42bbb92d6747"
      },
      "source": [
        "df.head()"
      ],
      "execution_count": 15,
      "outputs": [
        {
          "output_type": "execute_result",
          "data": {
            "text/html": [
              "<div>\n",
              "<style scoped>\n",
              "    .dataframe tbody tr th:only-of-type {\n",
              "        vertical-align: middle;\n",
              "    }\n",
              "\n",
              "    .dataframe tbody tr th {\n",
              "        vertical-align: top;\n",
              "    }\n",
              "\n",
              "    .dataframe thead th {\n",
              "        text-align: right;\n",
              "    }\n",
              "</style>\n",
              "<table border=\"1\" class=\"dataframe\">\n",
              "  <thead>\n",
              "    <tr style=\"text-align: right;\">\n",
              "      <th></th>\n",
              "      <th>id</th>\n",
              "      <th>host_id</th>\n",
              "      <th>neighbourhood_group</th>\n",
              "      <th>neighbourhood</th>\n",
              "      <th>latitude</th>\n",
              "      <th>longitude</th>\n",
              "      <th>room_type</th>\n",
              "      <th>minimum_nights</th>\n",
              "      <th>number_of_reviews</th>\n",
              "      <th>reviews_per_month</th>\n",
              "      <th>calculated_host_listings_count</th>\n",
              "      <th>availability_365</th>\n",
              "      <th>ranges</th>\n",
              "    </tr>\n",
              "  </thead>\n",
              "  <tbody>\n",
              "    <tr>\n",
              "      <th>0</th>\n",
              "      <td>2539</td>\n",
              "      <td>2787</td>\n",
              "      <td>1</td>\n",
              "      <td>107</td>\n",
              "      <td>40.64749</td>\n",
              "      <td>-73.97237</td>\n",
              "      <td>1</td>\n",
              "      <td>1</td>\n",
              "      <td>9</td>\n",
              "      <td>0.21</td>\n",
              "      <td>6</td>\n",
              "      <td>365</td>\n",
              "      <td>101_TO_200</td>\n",
              "    </tr>\n",
              "    <tr>\n",
              "      <th>1</th>\n",
              "      <td>2595</td>\n",
              "      <td>2845</td>\n",
              "      <td>2</td>\n",
              "      <td>126</td>\n",
              "      <td>40.75362</td>\n",
              "      <td>-73.98377</td>\n",
              "      <td>0</td>\n",
              "      <td>1</td>\n",
              "      <td>45</td>\n",
              "      <td>0.38</td>\n",
              "      <td>2</td>\n",
              "      <td>355</td>\n",
              "      <td>201_TO_300</td>\n",
              "    </tr>\n",
              "    <tr>\n",
              "      <th>2</th>\n",
              "      <td>3647</td>\n",
              "      <td>4632</td>\n",
              "      <td>2</td>\n",
              "      <td>93</td>\n",
              "      <td>40.80902</td>\n",
              "      <td>-73.94190</td>\n",
              "      <td>1</td>\n",
              "      <td>3</td>\n",
              "      <td>0</td>\n",
              "      <td>0.00</td>\n",
              "      <td>1</td>\n",
              "      <td>365</td>\n",
              "      <td>101_TO_200</td>\n",
              "    </tr>\n",
              "    <tr>\n",
              "      <th>3</th>\n",
              "      <td>3831</td>\n",
              "      <td>4869</td>\n",
              "      <td>1</td>\n",
              "      <td>41</td>\n",
              "      <td>40.68514</td>\n",
              "      <td>-73.95976</td>\n",
              "      <td>0</td>\n",
              "      <td>1</td>\n",
              "      <td>270</td>\n",
              "      <td>4.64</td>\n",
              "      <td>1</td>\n",
              "      <td>194</td>\n",
              "      <td>0_TO_100</td>\n",
              "    </tr>\n",
              "    <tr>\n",
              "      <th>4</th>\n",
              "      <td>5022</td>\n",
              "      <td>7192</td>\n",
              "      <td>2</td>\n",
              "      <td>61</td>\n",
              "      <td>40.79851</td>\n",
              "      <td>-73.94399</td>\n",
              "      <td>0</td>\n",
              "      <td>10</td>\n",
              "      <td>9</td>\n",
              "      <td>0.10</td>\n",
              "      <td>1</td>\n",
              "      <td>0</td>\n",
              "      <td>0_TO_100</td>\n",
              "    </tr>\n",
              "  </tbody>\n",
              "</table>\n",
              "</div>"
            ],
            "text/plain": [
              "     id  host_id  ...  availability_365      ranges\n",
              "0  2539     2787  ...               365  101_TO_200\n",
              "1  2595     2845  ...               355  201_TO_300\n",
              "2  3647     4632  ...               365  101_TO_200\n",
              "3  3831     4869  ...               194    0_TO_100\n",
              "4  5022     7192  ...                 0    0_TO_100\n",
              "\n",
              "[5 rows x 13 columns]"
            ]
          },
          "metadata": {
            "tags": []
          },
          "execution_count": 15
        }
      ]
    },
    {
      "cell_type": "code",
      "metadata": {
        "id": "hpypeEHgrock",
        "colab": {
          "base_uri": "https://localhost:8080/",
          "height": 0
        },
        "outputId": "a89d95d6-b2d5-4a65-9947-654acd9cb612"
      },
      "source": [
        "df = df.sample(frac=1).reset_index(drop=True)\n",
        "df = df[:10000]\n",
        "df.describe()"
      ],
      "execution_count": 16,
      "outputs": [
        {
          "output_type": "execute_result",
          "data": {
            "text/html": [
              "<div>\n",
              "<style scoped>\n",
              "    .dataframe tbody tr th:only-of-type {\n",
              "        vertical-align: middle;\n",
              "    }\n",
              "\n",
              "    .dataframe tbody tr th {\n",
              "        vertical-align: top;\n",
              "    }\n",
              "\n",
              "    .dataframe thead th {\n",
              "        text-align: right;\n",
              "    }\n",
              "</style>\n",
              "<table border=\"1\" class=\"dataframe\">\n",
              "  <thead>\n",
              "    <tr style=\"text-align: right;\">\n",
              "      <th></th>\n",
              "      <th>id</th>\n",
              "      <th>host_id</th>\n",
              "      <th>neighbourhood_group</th>\n",
              "      <th>neighbourhood</th>\n",
              "      <th>latitude</th>\n",
              "      <th>longitude</th>\n",
              "      <th>room_type</th>\n",
              "      <th>minimum_nights</th>\n",
              "      <th>number_of_reviews</th>\n",
              "      <th>reviews_per_month</th>\n",
              "      <th>calculated_host_listings_count</th>\n",
              "      <th>availability_365</th>\n",
              "    </tr>\n",
              "  </thead>\n",
              "  <tbody>\n",
              "    <tr>\n",
              "      <th>count</th>\n",
              "      <td>1.000000e+04</td>\n",
              "      <td>1.000000e+04</td>\n",
              "      <td>10000.000000</td>\n",
              "      <td>10000.000000</td>\n",
              "      <td>10000.000000</td>\n",
              "      <td>10000.000000</td>\n",
              "      <td>10000.000000</td>\n",
              "      <td>10000.00000</td>\n",
              "      <td>10000.000000</td>\n",
              "      <td>10000.000000</td>\n",
              "      <td>10000.000000</td>\n",
              "      <td>10000.00000</td>\n",
              "    </tr>\n",
              "    <tr>\n",
              "      <th>mean</th>\n",
              "      <td>1.919970e+07</td>\n",
              "      <td>6.784959e+07</td>\n",
              "      <td>1.674800</td>\n",
              "      <td>106.927400</td>\n",
              "      <td>40.729377</td>\n",
              "      <td>-73.951170</td>\n",
              "      <td>0.509000</td>\n",
              "      <td>7.01150</td>\n",
              "      <td>22.520100</td>\n",
              "      <td>1.096590</td>\n",
              "      <td>7.154800</td>\n",
              "      <td>110.08350</td>\n",
              "    </tr>\n",
              "    <tr>\n",
              "      <th>std</th>\n",
              "      <td>1.094391e+07</td>\n",
              "      <td>7.888906e+07</td>\n",
              "      <td>0.742631</td>\n",
              "      <td>68.213385</td>\n",
              "      <td>0.054883</td>\n",
              "      <td>0.046102</td>\n",
              "      <td>0.544563</td>\n",
              "      <td>18.18126</td>\n",
              "      <td>43.390262</td>\n",
              "      <td>1.600581</td>\n",
              "      <td>32.983803</td>\n",
              "      <td>130.37465</td>\n",
              "    </tr>\n",
              "    <tr>\n",
              "      <th>min</th>\n",
              "      <td>5.099000e+03</td>\n",
              "      <td>2.438000e+03</td>\n",
              "      <td>0.000000</td>\n",
              "      <td>0.000000</td>\n",
              "      <td>40.539870</td>\n",
              "      <td>-74.172580</td>\n",
              "      <td>0.000000</td>\n",
              "      <td>1.00000</td>\n",
              "      <td>0.000000</td>\n",
              "      <td>0.000000</td>\n",
              "      <td>1.000000</td>\n",
              "      <td>0.00000</td>\n",
              "    </tr>\n",
              "    <tr>\n",
              "      <th>25%</th>\n",
              "      <td>9.682449e+06</td>\n",
              "      <td>7.832395e+06</td>\n",
              "      <td>1.000000</td>\n",
              "      <td>51.000000</td>\n",
              "      <td>40.689765</td>\n",
              "      <td>-73.982450</td>\n",
              "      <td>0.000000</td>\n",
              "      <td>1.00000</td>\n",
              "      <td>1.000000</td>\n",
              "      <td>0.040000</td>\n",
              "      <td>1.000000</td>\n",
              "      <td>0.00000</td>\n",
              "    </tr>\n",
              "    <tr>\n",
              "      <th>50%</th>\n",
              "      <td>2.002976e+07</td>\n",
              "      <td>3.042066e+07</td>\n",
              "      <td>2.000000</td>\n",
              "      <td>93.000000</td>\n",
              "      <td>40.723215</td>\n",
              "      <td>-73.955470</td>\n",
              "      <td>0.000000</td>\n",
              "      <td>3.00000</td>\n",
              "      <td>5.000000</td>\n",
              "      <td>0.380000</td>\n",
              "      <td>1.000000</td>\n",
              "      <td>41.00000</td>\n",
              "    </tr>\n",
              "    <tr>\n",
              "      <th>75%</th>\n",
              "      <td>2.927896e+07</td>\n",
              "      <td>1.074549e+08</td>\n",
              "      <td>2.000000</td>\n",
              "      <td>178.000000</td>\n",
              "      <td>40.763823</td>\n",
              "      <td>-73.934938</td>\n",
              "      <td>1.000000</td>\n",
              "      <td>5.00000</td>\n",
              "      <td>23.000000</td>\n",
              "      <td>1.550000</td>\n",
              "      <td>2.000000</td>\n",
              "      <td>218.00000</td>\n",
              "    </tr>\n",
              "    <tr>\n",
              "      <th>max</th>\n",
              "      <td>3.648436e+07</td>\n",
              "      <td>2.743115e+08</td>\n",
              "      <td>4.000000</td>\n",
              "      <td>218.000000</td>\n",
              "      <td>40.904060</td>\n",
              "      <td>-73.716900</td>\n",
              "      <td>2.000000</td>\n",
              "      <td>500.00000</td>\n",
              "      <td>576.000000</td>\n",
              "      <td>20.940000</td>\n",
              "      <td>327.000000</td>\n",
              "      <td>365.00000</td>\n",
              "    </tr>\n",
              "  </tbody>\n",
              "</table>\n",
              "</div>"
            ],
            "text/plain": [
              "                 id  ...  availability_365\n",
              "count  1.000000e+04  ...       10000.00000\n",
              "mean   1.919970e+07  ...         110.08350\n",
              "std    1.094391e+07  ...         130.37465\n",
              "min    5.099000e+03  ...           0.00000\n",
              "25%    9.682449e+06  ...           0.00000\n",
              "50%    2.002976e+07  ...          41.00000\n",
              "75%    2.927896e+07  ...         218.00000\n",
              "max    3.648436e+07  ...         365.00000\n",
              "\n",
              "[8 rows x 12 columns]"
            ]
          },
          "metadata": {
            "tags": []
          },
          "execution_count": 16
        }
      ]
    },
    {
      "cell_type": "code",
      "metadata": {
        "id": "SjxbA1CxEfUi",
        "colab": {
          "base_uri": "https://localhost:8080/",
          "height": 0
        },
        "outputId": "bc36c692-6f3a-491a-92f7-e19b72744f96"
      },
      "source": [
        "df"
      ],
      "execution_count": 17,
      "outputs": [
        {
          "output_type": "execute_result",
          "data": {
            "text/html": [
              "<div>\n",
              "<style scoped>\n",
              "    .dataframe tbody tr th:only-of-type {\n",
              "        vertical-align: middle;\n",
              "    }\n",
              "\n",
              "    .dataframe tbody tr th {\n",
              "        vertical-align: top;\n",
              "    }\n",
              "\n",
              "    .dataframe thead th {\n",
              "        text-align: right;\n",
              "    }\n",
              "</style>\n",
              "<table border=\"1\" class=\"dataframe\">\n",
              "  <thead>\n",
              "    <tr style=\"text-align: right;\">\n",
              "      <th></th>\n",
              "      <th>id</th>\n",
              "      <th>host_id</th>\n",
              "      <th>neighbourhood_group</th>\n",
              "      <th>neighbourhood</th>\n",
              "      <th>latitude</th>\n",
              "      <th>longitude</th>\n",
              "      <th>room_type</th>\n",
              "      <th>minimum_nights</th>\n",
              "      <th>number_of_reviews</th>\n",
              "      <th>reviews_per_month</th>\n",
              "      <th>calculated_host_listings_count</th>\n",
              "      <th>availability_365</th>\n",
              "      <th>ranges</th>\n",
              "    </tr>\n",
              "  </thead>\n",
              "  <tbody>\n",
              "    <tr>\n",
              "      <th>0</th>\n",
              "      <td>21118650</td>\n",
              "      <td>145187951</td>\n",
              "      <td>1</td>\n",
              "      <td>13</td>\n",
              "      <td>40.68242</td>\n",
              "      <td>-73.95754</td>\n",
              "      <td>1</td>\n",
              "      <td>3</td>\n",
              "      <td>18</td>\n",
              "      <td>1.04</td>\n",
              "      <td>2</td>\n",
              "      <td>0</td>\n",
              "      <td>0_TO_100</td>\n",
              "    </tr>\n",
              "    <tr>\n",
              "      <th>1</th>\n",
              "      <td>32522010</td>\n",
              "      <td>51810229</td>\n",
              "      <td>3</td>\n",
              "      <td>165</td>\n",
              "      <td>40.69903</td>\n",
              "      <td>-73.90961</td>\n",
              "      <td>0</td>\n",
              "      <td>28</td>\n",
              "      <td>0</td>\n",
              "      <td>0.00</td>\n",
              "      <td>1</td>\n",
              "      <td>197</td>\n",
              "      <td>101_TO_200</td>\n",
              "    </tr>\n",
              "    <tr>\n",
              "      <th>2</th>\n",
              "      <td>6090</td>\n",
              "      <td>11975</td>\n",
              "      <td>2</td>\n",
              "      <td>208</td>\n",
              "      <td>40.73530</td>\n",
              "      <td>-74.00525</td>\n",
              "      <td>0</td>\n",
              "      <td>90</td>\n",
              "      <td>27</td>\n",
              "      <td>0.22</td>\n",
              "      <td>1</td>\n",
              "      <td>0</td>\n",
              "      <td>101_TO_200</td>\n",
              "    </tr>\n",
              "    <tr>\n",
              "      <th>3</th>\n",
              "      <td>29081056</td>\n",
              "      <td>48954003</td>\n",
              "      <td>0</td>\n",
              "      <td>148</td>\n",
              "      <td>40.88453</td>\n",
              "      <td>-73.86273</td>\n",
              "      <td>1</td>\n",
              "      <td>2</td>\n",
              "      <td>20</td>\n",
              "      <td>2.20</td>\n",
              "      <td>1</td>\n",
              "      <td>188</td>\n",
              "      <td>0_TO_100</td>\n",
              "    </tr>\n",
              "    <tr>\n",
              "      <th>4</th>\n",
              "      <td>32070946</td>\n",
              "      <td>48146336</td>\n",
              "      <td>2</td>\n",
              "      <td>94</td>\n",
              "      <td>40.76318</td>\n",
              "      <td>-73.99335</td>\n",
              "      <td>0</td>\n",
              "      <td>30</td>\n",
              "      <td>2</td>\n",
              "      <td>0.50</td>\n",
              "      <td>20</td>\n",
              "      <td>263</td>\n",
              "      <td>101_TO_200</td>\n",
              "    </tr>\n",
              "    <tr>\n",
              "      <th>...</th>\n",
              "      <td>...</td>\n",
              "      <td>...</td>\n",
              "      <td>...</td>\n",
              "      <td>...</td>\n",
              "      <td>...</td>\n",
              "      <td>...</td>\n",
              "      <td>...</td>\n",
              "      <td>...</td>\n",
              "      <td>...</td>\n",
              "      <td>...</td>\n",
              "      <td>...</td>\n",
              "      <td>...</td>\n",
              "      <td>...</td>\n",
              "    </tr>\n",
              "    <tr>\n",
              "      <th>9995</th>\n",
              "      <td>21411685</td>\n",
              "      <td>35662919</td>\n",
              "      <td>1</td>\n",
              "      <td>213</td>\n",
              "      <td>40.71023</td>\n",
              "      <td>-73.95827</td>\n",
              "      <td>1</td>\n",
              "      <td>2</td>\n",
              "      <td>1</td>\n",
              "      <td>0.05</td>\n",
              "      <td>1</td>\n",
              "      <td>0</td>\n",
              "      <td>0_TO_100</td>\n",
              "    </tr>\n",
              "    <tr>\n",
              "      <th>9996</th>\n",
              "      <td>3710436</td>\n",
              "      <td>318729</td>\n",
              "      <td>1</td>\n",
              "      <td>13</td>\n",
              "      <td>40.67862</td>\n",
              "      <td>-73.94687</td>\n",
              "      <td>0</td>\n",
              "      <td>3</td>\n",
              "      <td>118</td>\n",
              "      <td>2.12</td>\n",
              "      <td>1</td>\n",
              "      <td>23</td>\n",
              "      <td>101_TO_200</td>\n",
              "    </tr>\n",
              "    <tr>\n",
              "      <th>9997</th>\n",
              "      <td>32808879</td>\n",
              "      <td>219517861</td>\n",
              "      <td>2</td>\n",
              "      <td>136</td>\n",
              "      <td>40.74851</td>\n",
              "      <td>-73.97431</td>\n",
              "      <td>0</td>\n",
              "      <td>29</td>\n",
              "      <td>0</td>\n",
              "      <td>0.00</td>\n",
              "      <td>327</td>\n",
              "      <td>341</td>\n",
              "      <td>101_TO_200</td>\n",
              "    </tr>\n",
              "    <tr>\n",
              "      <th>9998</th>\n",
              "      <td>34258598</td>\n",
              "      <td>195863013</td>\n",
              "      <td>2</td>\n",
              "      <td>201</td>\n",
              "      <td>40.80249</td>\n",
              "      <td>-73.96729</td>\n",
              "      <td>1</td>\n",
              "      <td>3</td>\n",
              "      <td>3</td>\n",
              "      <td>2.05</td>\n",
              "      <td>1</td>\n",
              "      <td>2</td>\n",
              "      <td>0_TO_100</td>\n",
              "    </tr>\n",
              "    <tr>\n",
              "      <th>9999</th>\n",
              "      <td>6065778</td>\n",
              "      <td>12811150</td>\n",
              "      <td>1</td>\n",
              "      <td>215</td>\n",
              "      <td>40.65888</td>\n",
              "      <td>-73.98013</td>\n",
              "      <td>0</td>\n",
              "      <td>5</td>\n",
              "      <td>83</td>\n",
              "      <td>1.63</td>\n",
              "      <td>1</td>\n",
              "      <td>52</td>\n",
              "      <td>101_TO_200</td>\n",
              "    </tr>\n",
              "  </tbody>\n",
              "</table>\n",
              "<p>10000 rows × 13 columns</p>\n",
              "</div>"
            ],
            "text/plain": [
              "            id    host_id  ...  availability_365      ranges\n",
              "0     21118650  145187951  ...                 0    0_TO_100\n",
              "1     32522010   51810229  ...               197  101_TO_200\n",
              "2         6090      11975  ...                 0  101_TO_200\n",
              "3     29081056   48954003  ...               188    0_TO_100\n",
              "4     32070946   48146336  ...               263  101_TO_200\n",
              "...        ...        ...  ...               ...         ...\n",
              "9995  21411685   35662919  ...                 0    0_TO_100\n",
              "9996   3710436     318729  ...                23  101_TO_200\n",
              "9997  32808879  219517861  ...               341  101_TO_200\n",
              "9998  34258598  195863013  ...                 2    0_TO_100\n",
              "9999   6065778   12811150  ...                52  101_TO_200\n",
              "\n",
              "[10000 rows x 13 columns]"
            ]
          },
          "metadata": {
            "tags": []
          },
          "execution_count": 17
        }
      ]
    },
    {
      "cell_type": "code",
      "metadata": {
        "id": "j-kvY7khZXgP"
      },
      "source": [
        "from sklearn.neural_network import MLPRegressor\n",
        "from sklearn.neural_network import MLPClassifier\n",
        "from sklearn.model_selection import train_test_split\n",
        "from sklearn.metrics import r2_score\n",
        "from sklearn.preprocessing import StandardScaler\n",
        "from sklearn.metrics import mean_squared_error\n",
        "from sklearn.metrics import accuracy_score"
      ],
      "execution_count": 18,
      "outputs": []
    },
    {
      "cell_type": "code",
      "metadata": {
        "id": "uuDiRp4aZsNt"
      },
      "source": [
        "  features = df.drop('ranges',axis=1)\n",
        "  labels = df['ranges']"
      ],
      "execution_count": 19,
      "outputs": []
    },
    {
      "cell_type": "code",
      "metadata": {
        "id": "zz-KayXgbeqC"
      },
      "source": [
        "feature_train, feature_test, label_train, label_test = train_test_split(features, labels, test_size=0.2, random_state=1)"
      ],
      "execution_count": 20,
      "outputs": []
    },
    {
      "cell_type": "code",
      "metadata": {
        "id": "BM2V5GBv_djQ"
      },
      "source": [
        "sc_X = StandardScaler()\n",
        "feature_train=sc_X.fit_transform(feature_train)\n",
        "feature_test=sc_X.fit_transform(feature_test)"
      ],
      "execution_count": 21,
      "outputs": []
    },
    {
      "cell_type": "markdown",
      "metadata": {
        "id": "fidIV0JWrj7G"
      },
      "source": [
        "# Genetic Algorithm"
      ]
    },
    {
      "cell_type": "code",
      "metadata": {
        "id": "t5sMudLwth_5"
      },
      "source": [
        "import random"
      ],
      "execution_count": 22,
      "outputs": []
    },
    {
      "cell_type": "code",
      "metadata": {
        "id": "P5x1-IJgwwgx"
      },
      "source": [
        "POPULATION_SIZE = 30\n",
        "GENERATIONS = 100\n",
        "CHILDREN_RATE = 3"
      ],
      "execution_count": 23,
      "outputs": []
    },
    {
      "cell_type": "code",
      "metadata": {
        "id": "aDJYWZoDsk2P"
      },
      "source": [
        "activation = ['identity', 'logistic', 'tanh', 'relu']\n",
        "solver = ['lbfgs','sgd', 'adam']\n",
        "learning_rate = ['constant', 'invscaling', 'adaptive']"
      ],
      "execution_count": 24,
      "outputs": []
    },
    {
      "cell_type": "code",
      "metadata": {
        "id": "fd5T7wWitGvJ"
      },
      "source": [
        "def generate_individue():\n",
        "  individue = {\n",
        "      'activation':  activation[random.randint(0, 3)],\n",
        "      'solver': solver[random.randint(0,2)],\n",
        "      'learning_rate': learning_rate[random.randint(0,2)],\n",
        "      'hidden_layer_sizes' : (random.randint(100, 200), random.randint(50, 100) ,random.randint(10, 50)),\n",
        "      'max_iter' : random.randint(100, 250),\n",
        "      'fitness': 0  \n",
        "  }\n",
        "\n",
        "  individue['fitness'] = calculate_fitness(individue)\n",
        "  return individue"
      ],
      "execution_count": 25,
      "outputs": []
    },
    {
      "cell_type": "code",
      "metadata": {
        "id": "rrIhSBDmI-hh"
      },
      "source": [
        "def sortByFitness(e):\n",
        "  return e['fitness']"
      ],
      "execution_count": 26,
      "outputs": []
    },
    {
      "cell_type": "code",
      "metadata": {
        "id": "M0fEvf28riTX"
      },
      "source": [
        "def initiate_population(population_size):\n",
        "  population = [[]] * population_size\n",
        "  population = [generate_individue() for i in range(0, population_size)]\n",
        "  population.sort(key=sortByFitness, reverse=True)\n",
        "  return population"
      ],
      "execution_count": 27,
      "outputs": []
    },
    {
      "cell_type": "code",
      "metadata": {
        "id": "fuzA6Z4Bw5wn"
      },
      "source": [
        "def choose_parents(population):\n",
        "  father = random.randint(0, POPULATION_SIZE - 1)\n",
        "  mother = random.randint(0, POPULATION_SIZE - 1)\n",
        "  return [population[father], population[mother]]"
      ],
      "execution_count": 28,
      "outputs": []
    },
    {
      "cell_type": "code",
      "metadata": {
        "id": "Eyl4DUXfo6Qq"
      },
      "source": [
        "def choose_candidates(population):\n",
        "  candidatesIndex = []\n",
        "  for x in range(0, round(POPULATION_SIZE * 0.3) ):\n",
        "    index = random.randint(0, POPULATION_SIZE - 1)\n",
        "    while index in candidatesIndex:\n",
        "      index = random.randint(0, POPULATION_SIZE - 1)\n",
        "    candidatesIndex.append(index)\n",
        "\n",
        "  candidates = []\n",
        "  for x in candidatesIndex:\n",
        "    candidates.append(population[x])\n",
        "  return candidates   \n",
        "\n",
        "def choose_parents_by_roullete(population):\n",
        "  population.sort(key=sortByFitness, reverse=True)\n",
        "  candidates = population[:round(POPULATION_SIZE / 2)]\n",
        "  probabilities = [];\n",
        "  sumOfFitness = 0;\n",
        "  previousProbabilities = 0;\n",
        "  parents = [];\n",
        "\n",
        "  for i in candidates:\n",
        "    sumOfFitness = sumOfFitness + i['fitness']\n",
        "\n",
        "  candidates.sort(key=sortByFitness)\n",
        "\n",
        " \n",
        "  for cand in candidates:\n",
        "    prob = previousProbabilities + (cand['fitness'] / sumOfFitness);\n",
        "    previousProbabilities = prob;\n",
        "    probabilities.append(prob);\n",
        "  \n",
        "  while len(parents)  < 2:\n",
        "    number = random.randint(1, 10) /10\n",
        "    found = False\n",
        "    for y in range(0, len(probabilities)):\n",
        "      if (number <= probabilities[y]) & (not found):\n",
        "        parents.append(candidates[y])\n",
        "        found = True\n",
        "  \n",
        "  return parents"
      ],
      "execution_count": 29,
      "outputs": []
    },
    {
      "cell_type": "code",
      "metadata": {
        "id": "5ryiU82qSc5p"
      },
      "source": [
        "def mutate_activation(individue):\n",
        "  new_attribute = activation[random.randint(0,3)] \n",
        "  while new_attribute == individue['activation']:\n",
        "    new_attribute = activation[random.randint(0,3)] \n",
        "  individue['activation'] = new_attribute\n",
        "  return individue\n",
        "\n",
        "def mutate_learning_rate(individue):\n",
        "  new_attribute = learning_rate[random.randint(0,2)] \n",
        "  while new_attribute == individue['learning_rate']:\n",
        "    new_attribute = learning_rate[random.randint(0,2)] \n",
        "  individue['learning_rate'] = new_attribute\n",
        "  return individue\n",
        "\n",
        "def mutate_solver(individue):\n",
        "  new_attribute = solver[random.randint(0,2)] \n",
        "  while new_attribute == individue['solver']:\n",
        "    new_attribute = solver[random.randint(0,2)] \n",
        "  individue['solver'] = new_attribute\n",
        "  return individue\n",
        "\n",
        "def mutate(individue):\n",
        "  mutations = [mutate_activation, mutate_learning_rate, mutate_solver]\n",
        "  prob = random.randint(0, 10)\n",
        "  if prob >= 6:\n",
        "    mutation1 = random.randint(0,2)\n",
        "    mutation2 = random.randint(0,2)\n",
        "\n",
        "    individue = mutations[mutation1](individue)\n",
        "    individue = mutations[mutation2](individue)\n",
        "\n",
        "  return individue"
      ],
      "execution_count": 30,
      "outputs": []
    },
    {
      "cell_type": "code",
      "metadata": {
        "id": "OQRgAu6X1zHi"
      },
      "source": [
        "def make_children(population):\n",
        "  parents = choose_parents_by_roullete(population)\n",
        "  \n",
        "  for x in range(0, 2):\n",
        "    child = {'activation': parents[random.randint(0,1)]['activation'],\n",
        "            'hidden_layer_sizes': (parents[random.randint(0,1)]['hidden_layer_sizes'][0], parents[random.randint(0,1)]['hidden_layer_sizes'][1], parents[random.randint(0,1)]['hidden_layer_sizes'][2]),\n",
        "            'learning_rate': parents[random.randint(0,1)]['learning_rate'],\n",
        "            'max_iter': parents[random.randint(0,1)]['max_iter'],\n",
        "            'solver': parents[random.randint(0,1)]['solver'],\n",
        "            'fitness': 0}\n",
        "  \n",
        "    child = mutate(child)\n",
        "    child['fitness'] = calculate_fitness(child)\n",
        "    population.append(child)\n",
        "  \n",
        "  population.sort(key=sortByFitness, reverse=True)\n",
        "  return population[:POPULATION_SIZE]"
      ],
      "execution_count": 31,
      "outputs": []
    },
    {
      "cell_type": "code",
      "metadata": {
        "id": "3qVBwGyT5i1a"
      },
      "source": [
        "def calculate_fitness(individue):\n",
        "  model_mlp = MLPClassifier(activation=individue['activation'],\n",
        "                            hidden_layer_sizes=individue['hidden_layer_sizes'],\n",
        "                            learning_rate=individue['learning_rate'],\n",
        "                            max_iter=individue['max_iter'],\n",
        "                            solver=individue['solver'])\n",
        "  model_mlp.fit(feature_train, label_train) \n",
        "\n",
        "  prediction = model_mlp.predict(feature_test) \n",
        "  return accuracy_score(label_test, prediction)\n",
        "  "
      ],
      "execution_count": 32,
      "outputs": []
    },
    {
      "cell_type": "markdown",
      "metadata": {
        "id": "qwAhLXiPyEnS"
      },
      "source": [
        "Main\n"
      ]
    },
    {
      "cell_type": "code",
      "metadata": {
        "colab": {
          "base_uri": "https://localhost:8080/"
        },
        "id": "IPBbhhb7yBLe",
        "outputId": "98a0fccd-8c3c-4a54-f09f-56f34c63f1e7"
      },
      "source": [
        "population = initiate_population(POPULATION_SIZE)\n",
        "population.sort(key=sortByFitness, reverse=True)\n",
        "print(population)\n",
        "for x in range(0, GENERATIONS):\n",
        "  print(\"generation: \")\n",
        "  print(x)\n",
        "  population = make_children(population)\n",
        "  print(population)\n",
        "\n",
        "print(\"Better was: \") \n",
        "print(population[0])\n",
        "print(\"With a accuracy of: \")\n",
        "print(population[0]['fitness'])"
      ],
      "execution_count": 33,
      "outputs": [
        {
          "output_type": "stream",
          "text": [
            "/usr/local/lib/python3.7/dist-packages/sklearn/neural_network/_multilayer_perceptron.py:571: ConvergenceWarning: Stochastic Optimizer: Maximum iterations (214) reached and the optimization hasn't converged yet.\n",
            "  % self.max_iter, ConvergenceWarning)\n",
            "/usr/local/lib/python3.7/dist-packages/sklearn/neural_network/_multilayer_perceptron.py:470: ConvergenceWarning: lbfgs failed to converge (status=1):\n",
            "STOP: TOTAL NO. of ITERATIONS REACHED LIMIT.\n",
            "\n",
            "Increase the number of iterations (max_iter) or scale the data as shown in:\n",
            "    https://scikit-learn.org/stable/modules/preprocessing.html\n",
            "  self.n_iter_ = _check_optimize_result(\"lbfgs\", opt_res, self.max_iter)\n",
            "/usr/local/lib/python3.7/dist-packages/sklearn/neural_network/_multilayer_perceptron.py:571: ConvergenceWarning: Stochastic Optimizer: Maximum iterations (161) reached and the optimization hasn't converged yet.\n",
            "  % self.max_iter, ConvergenceWarning)\n",
            "/usr/local/lib/python3.7/dist-packages/sklearn/neural_network/_multilayer_perceptron.py:571: ConvergenceWarning: Stochastic Optimizer: Maximum iterations (184) reached and the optimization hasn't converged yet.\n",
            "  % self.max_iter, ConvergenceWarning)\n",
            "/usr/local/lib/python3.7/dist-packages/sklearn/neural_network/_multilayer_perceptron.py:470: ConvergenceWarning: lbfgs failed to converge (status=1):\n",
            "STOP: TOTAL NO. of ITERATIONS REACHED LIMIT.\n",
            "\n",
            "Increase the number of iterations (max_iter) or scale the data as shown in:\n",
            "    https://scikit-learn.org/stable/modules/preprocessing.html\n",
            "  self.n_iter_ = _check_optimize_result(\"lbfgs\", opt_res, self.max_iter)\n",
            "/usr/local/lib/python3.7/dist-packages/sklearn/neural_network/_multilayer_perceptron.py:470: ConvergenceWarning: lbfgs failed to converge (status=1):\n",
            "STOP: TOTAL NO. of ITERATIONS REACHED LIMIT.\n",
            "\n",
            "Increase the number of iterations (max_iter) or scale the data as shown in:\n",
            "    https://scikit-learn.org/stable/modules/preprocessing.html\n",
            "  self.n_iter_ = _check_optimize_result(\"lbfgs\", opt_res, self.max_iter)\n",
            "/usr/local/lib/python3.7/dist-packages/sklearn/neural_network/_multilayer_perceptron.py:571: ConvergenceWarning: Stochastic Optimizer: Maximum iterations (118) reached and the optimization hasn't converged yet.\n",
            "  % self.max_iter, ConvergenceWarning)\n",
            "/usr/local/lib/python3.7/dist-packages/sklearn/neural_network/_multilayer_perceptron.py:571: ConvergenceWarning: Stochastic Optimizer: Maximum iterations (150) reached and the optimization hasn't converged yet.\n",
            "  % self.max_iter, ConvergenceWarning)\n",
            "/usr/local/lib/python3.7/dist-packages/sklearn/neural_network/_multilayer_perceptron.py:470: ConvergenceWarning: lbfgs failed to converge (status=1):\n",
            "STOP: TOTAL NO. of ITERATIONS REACHED LIMIT.\n",
            "\n",
            "Increase the number of iterations (max_iter) or scale the data as shown in:\n",
            "    https://scikit-learn.org/stable/modules/preprocessing.html\n",
            "  self.n_iter_ = _check_optimize_result(\"lbfgs\", opt_res, self.max_iter)\n",
            "/usr/local/lib/python3.7/dist-packages/sklearn/neural_network/_multilayer_perceptron.py:470: ConvergenceWarning: lbfgs failed to converge (status=1):\n",
            "STOP: TOTAL NO. of ITERATIONS REACHED LIMIT.\n",
            "\n",
            "Increase the number of iterations (max_iter) or scale the data as shown in:\n",
            "    https://scikit-learn.org/stable/modules/preprocessing.html\n",
            "  self.n_iter_ = _check_optimize_result(\"lbfgs\", opt_res, self.max_iter)\n",
            "/usr/local/lib/python3.7/dist-packages/sklearn/neural_network/_multilayer_perceptron.py:470: ConvergenceWarning: lbfgs failed to converge (status=1):\n",
            "STOP: TOTAL NO. of ITERATIONS REACHED LIMIT.\n",
            "\n",
            "Increase the number of iterations (max_iter) or scale the data as shown in:\n",
            "    https://scikit-learn.org/stable/modules/preprocessing.html\n",
            "  self.n_iter_ = _check_optimize_result(\"lbfgs\", opt_res, self.max_iter)\n",
            "/usr/local/lib/python3.7/dist-packages/sklearn/neural_network/_multilayer_perceptron.py:571: ConvergenceWarning: Stochastic Optimizer: Maximum iterations (220) reached and the optimization hasn't converged yet.\n",
            "  % self.max_iter, ConvergenceWarning)\n",
            "/usr/local/lib/python3.7/dist-packages/sklearn/neural_network/_multilayer_perceptron.py:571: ConvergenceWarning: Stochastic Optimizer: Maximum iterations (157) reached and the optimization hasn't converged yet.\n",
            "  % self.max_iter, ConvergenceWarning)\n",
            "/usr/local/lib/python3.7/dist-packages/sklearn/neural_network/_multilayer_perceptron.py:571: ConvergenceWarning: Stochastic Optimizer: Maximum iterations (192) reached and the optimization hasn't converged yet.\n",
            "  % self.max_iter, ConvergenceWarning)\n",
            "/usr/local/lib/python3.7/dist-packages/sklearn/neural_network/_multilayer_perceptron.py:571: ConvergenceWarning: Stochastic Optimizer: Maximum iterations (149) reached and the optimization hasn't converged yet.\n",
            "  % self.max_iter, ConvergenceWarning)\n",
            "/usr/local/lib/python3.7/dist-packages/sklearn/neural_network/_multilayer_perceptron.py:470: ConvergenceWarning: lbfgs failed to converge (status=1):\n",
            "STOP: TOTAL NO. of ITERATIONS REACHED LIMIT.\n",
            "\n",
            "Increase the number of iterations (max_iter) or scale the data as shown in:\n",
            "    https://scikit-learn.org/stable/modules/preprocessing.html\n",
            "  self.n_iter_ = _check_optimize_result(\"lbfgs\", opt_res, self.max_iter)\n",
            "/usr/local/lib/python3.7/dist-packages/sklearn/neural_network/_multilayer_perceptron.py:470: ConvergenceWarning: lbfgs failed to converge (status=1):\n",
            "STOP: TOTAL NO. of ITERATIONS REACHED LIMIT.\n",
            "\n",
            "Increase the number of iterations (max_iter) or scale the data as shown in:\n",
            "    https://scikit-learn.org/stable/modules/preprocessing.html\n",
            "  self.n_iter_ = _check_optimize_result(\"lbfgs\", opt_res, self.max_iter)\n",
            "/usr/local/lib/python3.7/dist-packages/sklearn/neural_network/_multilayer_perceptron.py:571: ConvergenceWarning: Stochastic Optimizer: Maximum iterations (166) reached and the optimization hasn't converged yet.\n",
            "  % self.max_iter, ConvergenceWarning)\n",
            "/usr/local/lib/python3.7/dist-packages/sklearn/neural_network/_multilayer_perceptron.py:571: ConvergenceWarning: Stochastic Optimizer: Maximum iterations (184) reached and the optimization hasn't converged yet.\n",
            "  % self.max_iter, ConvergenceWarning)\n",
            "/usr/local/lib/python3.7/dist-packages/sklearn/neural_network/_multilayer_perceptron.py:571: ConvergenceWarning: Stochastic Optimizer: Maximum iterations (141) reached and the optimization hasn't converged yet.\n",
            "  % self.max_iter, ConvergenceWarning)\n",
            "/usr/local/lib/python3.7/dist-packages/sklearn/neural_network/_multilayer_perceptron.py:571: ConvergenceWarning: Stochastic Optimizer: Maximum iterations (141) reached and the optimization hasn't converged yet.\n",
            "  % self.max_iter, ConvergenceWarning)\n"
          ],
          "name": "stderr"
        },
        {
          "output_type": "stream",
          "text": [
            "[{'activation': 'logistic', 'solver': 'lbfgs', 'learning_rate': 'adaptive', 'hidden_layer_sizes': (118, 90, 31), 'max_iter': 237, 'fitness': 0.7085}, {'activation': 'logistic', 'solver': 'adam', 'learning_rate': 'constant', 'hidden_layer_sizes': (188, 99, 19), 'max_iter': 184, 'fitness': 0.7025}, {'activation': 'logistic', 'solver': 'adam', 'learning_rate': 'constant', 'hidden_layer_sizes': (158, 82, 14), 'max_iter': 192, 'fitness': 0.7015}, {'activation': 'logistic', 'solver': 'lbfgs', 'learning_rate': 'adaptive', 'hidden_layer_sizes': (199, 67, 41), 'max_iter': 187, 'fitness': 0.7015}, {'activation': 'logistic', 'solver': 'lbfgs', 'learning_rate': 'constant', 'hidden_layer_sizes': (124, 83, 42), 'max_iter': 250, 'fitness': 0.701}, {'activation': 'logistic', 'solver': 'lbfgs', 'learning_rate': 'adaptive', 'hidden_layer_sizes': (132, 71, 14), 'max_iter': 136, 'fitness': 0.701}, {'activation': 'tanh', 'solver': 'sgd', 'learning_rate': 'adaptive', 'hidden_layer_sizes': (112, 66, 34), 'max_iter': 141, 'fitness': 0.6975}, {'activation': 'tanh', 'solver': 'sgd', 'learning_rate': 'constant', 'hidden_layer_sizes': (188, 70, 38), 'max_iter': 118, 'fitness': 0.697}, {'activation': 'logistic', 'solver': 'adam', 'learning_rate': 'invscaling', 'hidden_layer_sizes': (196, 65, 14), 'max_iter': 184, 'fitness': 0.696}, {'activation': 'relu', 'solver': 'sgd', 'learning_rate': 'adaptive', 'hidden_layer_sizes': (158, 55, 30), 'max_iter': 149, 'fitness': 0.695}, {'activation': 'logistic', 'solver': 'adam', 'learning_rate': 'constant', 'hidden_layer_sizes': (120, 62, 32), 'max_iter': 214, 'fitness': 0.6925}, {'activation': 'identity', 'solver': 'adam', 'learning_rate': 'constant', 'hidden_layer_sizes': (152, 66, 25), 'max_iter': 181, 'fitness': 0.6925}, {'activation': 'identity', 'solver': 'sgd', 'learning_rate': 'constant', 'hidden_layer_sizes': (179, 94, 21), 'max_iter': 114, 'fitness': 0.69}, {'activation': 'identity', 'solver': 'sgd', 'learning_rate': 'adaptive', 'hidden_layer_sizes': (160, 86, 23), 'max_iter': 239, 'fitness': 0.6895}, {'activation': 'identity', 'solver': 'sgd', 'learning_rate': 'constant', 'hidden_layer_sizes': (130, 51, 19), 'max_iter': 240, 'fitness': 0.6895}, {'activation': 'identity', 'solver': 'sgd', 'learning_rate': 'adaptive', 'hidden_layer_sizes': (156, 89, 10), 'max_iter': 237, 'fitness': 0.6895}, {'activation': 'identity', 'solver': 'adam', 'learning_rate': 'adaptive', 'hidden_layer_sizes': (137, 53, 37), 'max_iter': 116, 'fitness': 0.6855}, {'activation': 'tanh', 'solver': 'adam', 'learning_rate': 'invscaling', 'hidden_layer_sizes': (161, 79, 22), 'max_iter': 150, 'fitness': 0.6795}, {'activation': 'identity', 'solver': 'sgd', 'learning_rate': 'invscaling', 'hidden_layer_sizes': (182, 88, 37), 'max_iter': 159, 'fitness': 0.6785}, {'activation': 'tanh', 'solver': 'sgd', 'learning_rate': 'invscaling', 'hidden_layer_sizes': (153, 99, 22), 'max_iter': 161, 'fitness': 0.6755}, {'activation': 'tanh', 'solver': 'adam', 'learning_rate': 'constant', 'hidden_layer_sizes': (171, 53, 10), 'max_iter': 166, 'fitness': 0.6725}, {'activation': 'relu', 'solver': 'adam', 'learning_rate': 'constant', 'hidden_layer_sizes': (155, 66, 34), 'max_iter': 141, 'fitness': 0.6655}, {'activation': 'relu', 'solver': 'lbfgs', 'learning_rate': 'adaptive', 'hidden_layer_sizes': (162, 60, 26), 'max_iter': 148, 'fitness': 0.6465}, {'activation': 'relu', 'solver': 'lbfgs', 'learning_rate': 'adaptive', 'hidden_layer_sizes': (116, 63, 25), 'max_iter': 199, 'fitness': 0.646}, {'activation': 'tanh', 'solver': 'lbfgs', 'learning_rate': 'invscaling', 'hidden_layer_sizes': (190, 51, 30), 'max_iter': 170, 'fitness': 0.6445}, {'activation': 'tanh', 'solver': 'adam', 'learning_rate': 'adaptive', 'hidden_layer_sizes': (189, 70, 22), 'max_iter': 220, 'fitness': 0.643}, {'activation': 'relu', 'solver': 'lbfgs', 'learning_rate': 'constant', 'hidden_layer_sizes': (160, 85, 18), 'max_iter': 227, 'fitness': 0.638}, {'activation': 'logistic', 'solver': 'sgd', 'learning_rate': 'invscaling', 'hidden_layer_sizes': (158, 50, 27), 'max_iter': 143, 'fitness': 0.514}, {'activation': 'logistic', 'solver': 'sgd', 'learning_rate': 'constant', 'hidden_layer_sizes': (193, 64, 10), 'max_iter': 136, 'fitness': 0.514}, {'activation': 'relu', 'solver': 'sgd', 'learning_rate': 'invscaling', 'hidden_layer_sizes': (175, 98, 36), 'max_iter': 157, 'fitness': 0.423}]\n",
            "generation: \n",
            "0\n"
          ],
          "name": "stdout"
        },
        {
          "output_type": "stream",
          "text": [
            "/usr/local/lib/python3.7/dist-packages/sklearn/neural_network/_multilayer_perceptron.py:571: ConvergenceWarning: Stochastic Optimizer: Maximum iterations (240) reached and the optimization hasn't converged yet.\n",
            "  % self.max_iter, ConvergenceWarning)\n",
            "/usr/local/lib/python3.7/dist-packages/sklearn/neural_network/_multilayer_perceptron.py:571: ConvergenceWarning: Stochastic Optimizer: Maximum iterations (240) reached and the optimization hasn't converged yet.\n",
            "  % self.max_iter, ConvergenceWarning)\n"
          ],
          "name": "stderr"
        },
        {
          "output_type": "stream",
          "text": [
            "[{'activation': 'logistic', 'solver': 'lbfgs', 'learning_rate': 'adaptive', 'hidden_layer_sizes': (118, 90, 31), 'max_iter': 237, 'fitness': 0.7085}, {'activation': 'logistic', 'solver': 'adam', 'learning_rate': 'constant', 'hidden_layer_sizes': (188, 99, 19), 'max_iter': 184, 'fitness': 0.7025}, {'activation': 'logistic', 'solver': 'adam', 'learning_rate': 'constant', 'hidden_layer_sizes': (158, 82, 14), 'max_iter': 192, 'fitness': 0.7015}, {'activation': 'logistic', 'solver': 'lbfgs', 'learning_rate': 'adaptive', 'hidden_layer_sizes': (199, 67, 41), 'max_iter': 187, 'fitness': 0.7015}, {'activation': 'logistic', 'solver': 'lbfgs', 'learning_rate': 'constant', 'hidden_layer_sizes': (124, 83, 42), 'max_iter': 250, 'fitness': 0.701}, {'activation': 'logistic', 'solver': 'lbfgs', 'learning_rate': 'adaptive', 'hidden_layer_sizes': (132, 71, 14), 'max_iter': 136, 'fitness': 0.701}, {'activation': 'logistic', 'hidden_layer_sizes': (120, 51, 19), 'learning_rate': 'constant', 'max_iter': 240, 'solver': 'adam', 'fitness': 0.7005}, {'activation': 'logistic', 'hidden_layer_sizes': (120, 51, 19), 'learning_rate': 'constant', 'max_iter': 240, 'solver': 'adam', 'fitness': 0.7}, {'activation': 'tanh', 'solver': 'sgd', 'learning_rate': 'adaptive', 'hidden_layer_sizes': (112, 66, 34), 'max_iter': 141, 'fitness': 0.6975}, {'activation': 'tanh', 'solver': 'sgd', 'learning_rate': 'constant', 'hidden_layer_sizes': (188, 70, 38), 'max_iter': 118, 'fitness': 0.697}, {'activation': 'logistic', 'solver': 'adam', 'learning_rate': 'invscaling', 'hidden_layer_sizes': (196, 65, 14), 'max_iter': 184, 'fitness': 0.696}, {'activation': 'relu', 'solver': 'sgd', 'learning_rate': 'adaptive', 'hidden_layer_sizes': (158, 55, 30), 'max_iter': 149, 'fitness': 0.695}, {'activation': 'logistic', 'solver': 'adam', 'learning_rate': 'constant', 'hidden_layer_sizes': (120, 62, 32), 'max_iter': 214, 'fitness': 0.6925}, {'activation': 'identity', 'solver': 'adam', 'learning_rate': 'constant', 'hidden_layer_sizes': (152, 66, 25), 'max_iter': 181, 'fitness': 0.6925}, {'activation': 'identity', 'solver': 'sgd', 'learning_rate': 'constant', 'hidden_layer_sizes': (179, 94, 21), 'max_iter': 114, 'fitness': 0.69}, {'activation': 'identity', 'solver': 'sgd', 'learning_rate': 'adaptive', 'hidden_layer_sizes': (160, 86, 23), 'max_iter': 239, 'fitness': 0.6895}, {'activation': 'identity', 'solver': 'sgd', 'learning_rate': 'constant', 'hidden_layer_sizes': (130, 51, 19), 'max_iter': 240, 'fitness': 0.6895}, {'activation': 'identity', 'solver': 'sgd', 'learning_rate': 'adaptive', 'hidden_layer_sizes': (156, 89, 10), 'max_iter': 237, 'fitness': 0.6895}, {'activation': 'identity', 'solver': 'adam', 'learning_rate': 'adaptive', 'hidden_layer_sizes': (137, 53, 37), 'max_iter': 116, 'fitness': 0.6855}, {'activation': 'tanh', 'solver': 'adam', 'learning_rate': 'invscaling', 'hidden_layer_sizes': (161, 79, 22), 'max_iter': 150, 'fitness': 0.6795}, {'activation': 'identity', 'solver': 'sgd', 'learning_rate': 'invscaling', 'hidden_layer_sizes': (182, 88, 37), 'max_iter': 159, 'fitness': 0.6785}, {'activation': 'tanh', 'solver': 'sgd', 'learning_rate': 'invscaling', 'hidden_layer_sizes': (153, 99, 22), 'max_iter': 161, 'fitness': 0.6755}, {'activation': 'tanh', 'solver': 'adam', 'learning_rate': 'constant', 'hidden_layer_sizes': (171, 53, 10), 'max_iter': 166, 'fitness': 0.6725}, {'activation': 'relu', 'solver': 'adam', 'learning_rate': 'constant', 'hidden_layer_sizes': (155, 66, 34), 'max_iter': 141, 'fitness': 0.6655}, {'activation': 'relu', 'solver': 'lbfgs', 'learning_rate': 'adaptive', 'hidden_layer_sizes': (162, 60, 26), 'max_iter': 148, 'fitness': 0.6465}, {'activation': 'relu', 'solver': 'lbfgs', 'learning_rate': 'adaptive', 'hidden_layer_sizes': (116, 63, 25), 'max_iter': 199, 'fitness': 0.646}, {'activation': 'tanh', 'solver': 'lbfgs', 'learning_rate': 'invscaling', 'hidden_layer_sizes': (190, 51, 30), 'max_iter': 170, 'fitness': 0.6445}, {'activation': 'tanh', 'solver': 'adam', 'learning_rate': 'adaptive', 'hidden_layer_sizes': (189, 70, 22), 'max_iter': 220, 'fitness': 0.643}, {'activation': 'relu', 'solver': 'lbfgs', 'learning_rate': 'constant', 'hidden_layer_sizes': (160, 85, 18), 'max_iter': 227, 'fitness': 0.638}, {'activation': 'logistic', 'solver': 'sgd', 'learning_rate': 'invscaling', 'hidden_layer_sizes': (158, 50, 27), 'max_iter': 143, 'fitness': 0.514}]\n",
            "generation: \n",
            "1\n"
          ],
          "name": "stdout"
        },
        {
          "output_type": "stream",
          "text": [
            "/usr/local/lib/python3.7/dist-packages/sklearn/neural_network/_multilayer_perceptron.py:470: ConvergenceWarning: lbfgs failed to converge (status=1):\n",
            "STOP: TOTAL NO. of ITERATIONS REACHED LIMIT.\n",
            "\n",
            "Increase the number of iterations (max_iter) or scale the data as shown in:\n",
            "    https://scikit-learn.org/stable/modules/preprocessing.html\n",
            "  self.n_iter_ = _check_optimize_result(\"lbfgs\", opt_res, self.max_iter)\n",
            "/usr/local/lib/python3.7/dist-packages/sklearn/neural_network/_multilayer_perceptron.py:470: ConvergenceWarning: lbfgs failed to converge (status=1):\n",
            "STOP: TOTAL NO. of ITERATIONS REACHED LIMIT.\n",
            "\n",
            "Increase the number of iterations (max_iter) or scale the data as shown in:\n",
            "    https://scikit-learn.org/stable/modules/preprocessing.html\n",
            "  self.n_iter_ = _check_optimize_result(\"lbfgs\", opt_res, self.max_iter)\n"
          ],
          "name": "stderr"
        },
        {
          "output_type": "stream",
          "text": [
            "[{'activation': 'logistic', 'solver': 'lbfgs', 'learning_rate': 'adaptive', 'hidden_layer_sizes': (118, 90, 31), 'max_iter': 237, 'fitness': 0.7085}, {'activation': 'logistic', 'solver': 'adam', 'learning_rate': 'constant', 'hidden_layer_sizes': (188, 99, 19), 'max_iter': 184, 'fitness': 0.7025}, {'activation': 'logistic', 'solver': 'adam', 'learning_rate': 'constant', 'hidden_layer_sizes': (158, 82, 14), 'max_iter': 192, 'fitness': 0.7015}, {'activation': 'logistic', 'solver': 'lbfgs', 'learning_rate': 'adaptive', 'hidden_layer_sizes': (199, 67, 41), 'max_iter': 187, 'fitness': 0.7015}, {'activation': 'logistic', 'solver': 'lbfgs', 'learning_rate': 'constant', 'hidden_layer_sizes': (124, 83, 42), 'max_iter': 250, 'fitness': 0.701}, {'activation': 'logistic', 'solver': 'lbfgs', 'learning_rate': 'adaptive', 'hidden_layer_sizes': (132, 71, 14), 'max_iter': 136, 'fitness': 0.701}, {'activation': 'logistic', 'hidden_layer_sizes': (124, 65, 14), 'learning_rate': 'constant', 'max_iter': 250, 'solver': 'lbfgs', 'fitness': 0.701}, {'activation': 'logistic', 'hidden_layer_sizes': (120, 51, 19), 'learning_rate': 'constant', 'max_iter': 240, 'solver': 'adam', 'fitness': 0.7005}, {'activation': 'logistic', 'hidden_layer_sizes': (120, 51, 19), 'learning_rate': 'constant', 'max_iter': 240, 'solver': 'adam', 'fitness': 0.7}, {'activation': 'tanh', 'solver': 'sgd', 'learning_rate': 'adaptive', 'hidden_layer_sizes': (112, 66, 34), 'max_iter': 141, 'fitness': 0.6975}, {'activation': 'tanh', 'solver': 'sgd', 'learning_rate': 'constant', 'hidden_layer_sizes': (188, 70, 38), 'max_iter': 118, 'fitness': 0.697}, {'activation': 'logistic', 'solver': 'adam', 'learning_rate': 'invscaling', 'hidden_layer_sizes': (196, 65, 14), 'max_iter': 184, 'fitness': 0.696}, {'activation': 'relu', 'solver': 'sgd', 'learning_rate': 'adaptive', 'hidden_layer_sizes': (158, 55, 30), 'max_iter': 149, 'fitness': 0.695}, {'activation': 'logistic', 'solver': 'adam', 'learning_rate': 'constant', 'hidden_layer_sizes': (120, 62, 32), 'max_iter': 214, 'fitness': 0.6925}, {'activation': 'identity', 'solver': 'adam', 'learning_rate': 'constant', 'hidden_layer_sizes': (152, 66, 25), 'max_iter': 181, 'fitness': 0.6925}, {'activation': 'identity', 'solver': 'sgd', 'learning_rate': 'constant', 'hidden_layer_sizes': (179, 94, 21), 'max_iter': 114, 'fitness': 0.69}, {'activation': 'identity', 'solver': 'sgd', 'learning_rate': 'adaptive', 'hidden_layer_sizes': (160, 86, 23), 'max_iter': 239, 'fitness': 0.6895}, {'activation': 'identity', 'solver': 'sgd', 'learning_rate': 'constant', 'hidden_layer_sizes': (130, 51, 19), 'max_iter': 240, 'fitness': 0.6895}, {'activation': 'identity', 'solver': 'sgd', 'learning_rate': 'adaptive', 'hidden_layer_sizes': (156, 89, 10), 'max_iter': 237, 'fitness': 0.6895}, {'activation': 'identity', 'solver': 'adam', 'learning_rate': 'adaptive', 'hidden_layer_sizes': (137, 53, 37), 'max_iter': 116, 'fitness': 0.6855}, {'activation': 'tanh', 'solver': 'adam', 'learning_rate': 'invscaling', 'hidden_layer_sizes': (161, 79, 22), 'max_iter': 150, 'fitness': 0.6795}, {'activation': 'identity', 'solver': 'sgd', 'learning_rate': 'invscaling', 'hidden_layer_sizes': (182, 88, 37), 'max_iter': 159, 'fitness': 0.6785}, {'activation': 'tanh', 'solver': 'sgd', 'learning_rate': 'invscaling', 'hidden_layer_sizes': (153, 99, 22), 'max_iter': 161, 'fitness': 0.6755}, {'activation': 'tanh', 'solver': 'adam', 'learning_rate': 'constant', 'hidden_layer_sizes': (171, 53, 10), 'max_iter': 166, 'fitness': 0.6725}, {'activation': 'relu', 'solver': 'adam', 'learning_rate': 'constant', 'hidden_layer_sizes': (155, 66, 34), 'max_iter': 141, 'fitness': 0.6655}, {'activation': 'relu', 'solver': 'lbfgs', 'learning_rate': 'adaptive', 'hidden_layer_sizes': (162, 60, 26), 'max_iter': 148, 'fitness': 0.6465}, {'activation': 'relu', 'solver': 'lbfgs', 'learning_rate': 'adaptive', 'hidden_layer_sizes': (116, 63, 25), 'max_iter': 199, 'fitness': 0.646}, {'activation': 'tanh', 'solver': 'lbfgs', 'learning_rate': 'invscaling', 'hidden_layer_sizes': (190, 51, 30), 'max_iter': 170, 'fitness': 0.6445}, {'activation': 'tanh', 'solver': 'adam', 'learning_rate': 'adaptive', 'hidden_layer_sizes': (189, 70, 22), 'max_iter': 220, 'fitness': 0.643}, {'activation': 'relu', 'solver': 'lbfgs', 'learning_rate': 'constant', 'hidden_layer_sizes': (160, 85, 18), 'max_iter': 227, 'fitness': 0.638}]\n",
            "generation: \n",
            "2\n"
          ],
          "name": "stdout"
        },
        {
          "output_type": "stream",
          "text": [
            "/usr/local/lib/python3.7/dist-packages/sklearn/neural_network/_multilayer_perceptron.py:470: ConvergenceWarning: lbfgs failed to converge (status=1):\n",
            "STOP: TOTAL NO. of ITERATIONS REACHED LIMIT.\n",
            "\n",
            "Increase the number of iterations (max_iter) or scale the data as shown in:\n",
            "    https://scikit-learn.org/stable/modules/preprocessing.html\n",
            "  self.n_iter_ = _check_optimize_result(\"lbfgs\", opt_res, self.max_iter)\n",
            "/usr/local/lib/python3.7/dist-packages/sklearn/neural_network/_multilayer_perceptron.py:470: ConvergenceWarning: lbfgs failed to converge (status=1):\n",
            "STOP: TOTAL NO. of ITERATIONS REACHED LIMIT.\n",
            "\n",
            "Increase the number of iterations (max_iter) or scale the data as shown in:\n",
            "    https://scikit-learn.org/stable/modules/preprocessing.html\n",
            "  self.n_iter_ = _check_optimize_result(\"lbfgs\", opt_res, self.max_iter)\n"
          ],
          "name": "stderr"
        },
        {
          "output_type": "stream",
          "text": [
            "[{'activation': 'logistic', 'solver': 'lbfgs', 'learning_rate': 'adaptive', 'hidden_layer_sizes': (118, 90, 31), 'max_iter': 237, 'fitness': 0.7085}, {'activation': 'logistic', 'solver': 'adam', 'learning_rate': 'constant', 'hidden_layer_sizes': (188, 99, 19), 'max_iter': 184, 'fitness': 0.7025}, {'activation': 'logistic', 'solver': 'adam', 'learning_rate': 'constant', 'hidden_layer_sizes': (158, 82, 14), 'max_iter': 192, 'fitness': 0.7015}, {'activation': 'logistic', 'solver': 'lbfgs', 'learning_rate': 'adaptive', 'hidden_layer_sizes': (199, 67, 41), 'max_iter': 187, 'fitness': 0.7015}, {'activation': 'logistic', 'solver': 'lbfgs', 'learning_rate': 'constant', 'hidden_layer_sizes': (124, 83, 42), 'max_iter': 250, 'fitness': 0.701}, {'activation': 'logistic', 'solver': 'lbfgs', 'learning_rate': 'adaptive', 'hidden_layer_sizes': (132, 71, 14), 'max_iter': 136, 'fitness': 0.701}, {'activation': 'logistic', 'hidden_layer_sizes': (124, 65, 14), 'learning_rate': 'constant', 'max_iter': 250, 'solver': 'lbfgs', 'fitness': 0.701}, {'activation': 'logistic', 'hidden_layer_sizes': (120, 51, 19), 'learning_rate': 'constant', 'max_iter': 240, 'solver': 'adam', 'fitness': 0.7005}, {'activation': 'logistic', 'hidden_layer_sizes': (120, 51, 19), 'learning_rate': 'constant', 'max_iter': 240, 'solver': 'adam', 'fitness': 0.7}, {'activation': 'logistic', 'hidden_layer_sizes': (199, 67, 41), 'learning_rate': 'adaptive', 'max_iter': 187, 'solver': 'lbfgs', 'fitness': 0.6995}, {'activation': 'tanh', 'solver': 'sgd', 'learning_rate': 'adaptive', 'hidden_layer_sizes': (112, 66, 34), 'max_iter': 141, 'fitness': 0.6975}, {'activation': 'tanh', 'solver': 'sgd', 'learning_rate': 'constant', 'hidden_layer_sizes': (188, 70, 38), 'max_iter': 118, 'fitness': 0.697}, {'activation': 'logistic', 'hidden_layer_sizes': (199, 67, 41), 'learning_rate': 'adaptive', 'max_iter': 187, 'solver': 'lbfgs', 'fitness': 0.697}, {'activation': 'logistic', 'solver': 'adam', 'learning_rate': 'invscaling', 'hidden_layer_sizes': (196, 65, 14), 'max_iter': 184, 'fitness': 0.696}, {'activation': 'relu', 'solver': 'sgd', 'learning_rate': 'adaptive', 'hidden_layer_sizes': (158, 55, 30), 'max_iter': 149, 'fitness': 0.695}, {'activation': 'logistic', 'solver': 'adam', 'learning_rate': 'constant', 'hidden_layer_sizes': (120, 62, 32), 'max_iter': 214, 'fitness': 0.6925}, {'activation': 'identity', 'solver': 'adam', 'learning_rate': 'constant', 'hidden_layer_sizes': (152, 66, 25), 'max_iter': 181, 'fitness': 0.6925}, {'activation': 'identity', 'solver': 'sgd', 'learning_rate': 'constant', 'hidden_layer_sizes': (179, 94, 21), 'max_iter': 114, 'fitness': 0.69}, {'activation': 'identity', 'solver': 'sgd', 'learning_rate': 'adaptive', 'hidden_layer_sizes': (160, 86, 23), 'max_iter': 239, 'fitness': 0.6895}, {'activation': 'identity', 'solver': 'sgd', 'learning_rate': 'constant', 'hidden_layer_sizes': (130, 51, 19), 'max_iter': 240, 'fitness': 0.6895}, {'activation': 'identity', 'solver': 'sgd', 'learning_rate': 'adaptive', 'hidden_layer_sizes': (156, 89, 10), 'max_iter': 237, 'fitness': 0.6895}, {'activation': 'identity', 'solver': 'adam', 'learning_rate': 'adaptive', 'hidden_layer_sizes': (137, 53, 37), 'max_iter': 116, 'fitness': 0.6855}, {'activation': 'tanh', 'solver': 'adam', 'learning_rate': 'invscaling', 'hidden_layer_sizes': (161, 79, 22), 'max_iter': 150, 'fitness': 0.6795}, {'activation': 'identity', 'solver': 'sgd', 'learning_rate': 'invscaling', 'hidden_layer_sizes': (182, 88, 37), 'max_iter': 159, 'fitness': 0.6785}, {'activation': 'tanh', 'solver': 'sgd', 'learning_rate': 'invscaling', 'hidden_layer_sizes': (153, 99, 22), 'max_iter': 161, 'fitness': 0.6755}, {'activation': 'tanh', 'solver': 'adam', 'learning_rate': 'constant', 'hidden_layer_sizes': (171, 53, 10), 'max_iter': 166, 'fitness': 0.6725}, {'activation': 'relu', 'solver': 'adam', 'learning_rate': 'constant', 'hidden_layer_sizes': (155, 66, 34), 'max_iter': 141, 'fitness': 0.6655}, {'activation': 'relu', 'solver': 'lbfgs', 'learning_rate': 'adaptive', 'hidden_layer_sizes': (162, 60, 26), 'max_iter': 148, 'fitness': 0.6465}, {'activation': 'relu', 'solver': 'lbfgs', 'learning_rate': 'adaptive', 'hidden_layer_sizes': (116, 63, 25), 'max_iter': 199, 'fitness': 0.646}, {'activation': 'tanh', 'solver': 'lbfgs', 'learning_rate': 'invscaling', 'hidden_layer_sizes': (190, 51, 30), 'max_iter': 170, 'fitness': 0.6445}]\n",
            "generation: \n",
            "3\n"
          ],
          "name": "stdout"
        },
        {
          "output_type": "stream",
          "text": [
            "/usr/local/lib/python3.7/dist-packages/sklearn/neural_network/_multilayer_perceptron.py:571: ConvergenceWarning: Stochastic Optimizer: Maximum iterations (184) reached and the optimization hasn't converged yet.\n",
            "  % self.max_iter, ConvergenceWarning)\n",
            "/usr/local/lib/python3.7/dist-packages/sklearn/neural_network/_multilayer_perceptron.py:470: ConvergenceWarning: lbfgs failed to converge (status=1):\n",
            "STOP: TOTAL NO. of ITERATIONS REACHED LIMIT.\n",
            "\n",
            "Increase the number of iterations (max_iter) or scale the data as shown in:\n",
            "    https://scikit-learn.org/stable/modules/preprocessing.html\n",
            "  self.n_iter_ = _check_optimize_result(\"lbfgs\", opt_res, self.max_iter)\n"
          ],
          "name": "stderr"
        },
        {
          "output_type": "stream",
          "text": [
            "[{'activation': 'logistic', 'solver': 'lbfgs', 'learning_rate': 'adaptive', 'hidden_layer_sizes': (118, 90, 31), 'max_iter': 237, 'fitness': 0.7085}, {'activation': 'logistic', 'solver': 'adam', 'learning_rate': 'constant', 'hidden_layer_sizes': (188, 99, 19), 'max_iter': 184, 'fitness': 0.7025}, {'activation': 'logistic', 'solver': 'adam', 'learning_rate': 'constant', 'hidden_layer_sizes': (158, 82, 14), 'max_iter': 192, 'fitness': 0.7015}, {'activation': 'logistic', 'solver': 'lbfgs', 'learning_rate': 'adaptive', 'hidden_layer_sizes': (199, 67, 41), 'max_iter': 187, 'fitness': 0.7015}, {'activation': 'logistic', 'solver': 'lbfgs', 'learning_rate': 'constant', 'hidden_layer_sizes': (124, 83, 42), 'max_iter': 250, 'fitness': 0.701}, {'activation': 'logistic', 'solver': 'lbfgs', 'learning_rate': 'adaptive', 'hidden_layer_sizes': (132, 71, 14), 'max_iter': 136, 'fitness': 0.701}, {'activation': 'logistic', 'hidden_layer_sizes': (124, 65, 14), 'learning_rate': 'constant', 'max_iter': 250, 'solver': 'lbfgs', 'fitness': 0.701}, {'activation': 'logistic', 'hidden_layer_sizes': (120, 51, 19), 'learning_rate': 'constant', 'max_iter': 240, 'solver': 'adam', 'fitness': 0.7005}, {'activation': 'logistic', 'hidden_layer_sizes': (120, 51, 19), 'learning_rate': 'constant', 'max_iter': 240, 'solver': 'adam', 'fitness': 0.7}, {'activation': 'logistic', 'hidden_layer_sizes': (199, 67, 41), 'learning_rate': 'adaptive', 'max_iter': 187, 'solver': 'lbfgs', 'fitness': 0.6995}, {'activation': 'logistic', 'hidden_layer_sizes': (132, 99, 14), 'learning_rate': 'constant', 'max_iter': 136, 'solver': 'lbfgs', 'fitness': 0.6995}, {'activation': 'tanh', 'solver': 'sgd', 'learning_rate': 'adaptive', 'hidden_layer_sizes': (112, 66, 34), 'max_iter': 141, 'fitness': 0.6975}, {'activation': 'tanh', 'solver': 'sgd', 'learning_rate': 'constant', 'hidden_layer_sizes': (188, 70, 38), 'max_iter': 118, 'fitness': 0.697}, {'activation': 'logistic', 'hidden_layer_sizes': (199, 67, 41), 'learning_rate': 'adaptive', 'max_iter': 187, 'solver': 'lbfgs', 'fitness': 0.697}, {'activation': 'logistic', 'solver': 'adam', 'learning_rate': 'invscaling', 'hidden_layer_sizes': (196, 65, 14), 'max_iter': 184, 'fitness': 0.696}, {'activation': 'logistic', 'hidden_layer_sizes': (132, 99, 14), 'learning_rate': 'adaptive', 'max_iter': 184, 'solver': 'adam', 'fitness': 0.696}, {'activation': 'relu', 'solver': 'sgd', 'learning_rate': 'adaptive', 'hidden_layer_sizes': (158, 55, 30), 'max_iter': 149, 'fitness': 0.695}, {'activation': 'logistic', 'solver': 'adam', 'learning_rate': 'constant', 'hidden_layer_sizes': (120, 62, 32), 'max_iter': 214, 'fitness': 0.6925}, {'activation': 'identity', 'solver': 'adam', 'learning_rate': 'constant', 'hidden_layer_sizes': (152, 66, 25), 'max_iter': 181, 'fitness': 0.6925}, {'activation': 'identity', 'solver': 'sgd', 'learning_rate': 'constant', 'hidden_layer_sizes': (179, 94, 21), 'max_iter': 114, 'fitness': 0.69}, {'activation': 'identity', 'solver': 'sgd', 'learning_rate': 'adaptive', 'hidden_layer_sizes': (160, 86, 23), 'max_iter': 239, 'fitness': 0.6895}, {'activation': 'identity', 'solver': 'sgd', 'learning_rate': 'constant', 'hidden_layer_sizes': (130, 51, 19), 'max_iter': 240, 'fitness': 0.6895}, {'activation': 'identity', 'solver': 'sgd', 'learning_rate': 'adaptive', 'hidden_layer_sizes': (156, 89, 10), 'max_iter': 237, 'fitness': 0.6895}, {'activation': 'identity', 'solver': 'adam', 'learning_rate': 'adaptive', 'hidden_layer_sizes': (137, 53, 37), 'max_iter': 116, 'fitness': 0.6855}, {'activation': 'tanh', 'solver': 'adam', 'learning_rate': 'invscaling', 'hidden_layer_sizes': (161, 79, 22), 'max_iter': 150, 'fitness': 0.6795}, {'activation': 'identity', 'solver': 'sgd', 'learning_rate': 'invscaling', 'hidden_layer_sizes': (182, 88, 37), 'max_iter': 159, 'fitness': 0.6785}, {'activation': 'tanh', 'solver': 'sgd', 'learning_rate': 'invscaling', 'hidden_layer_sizes': (153, 99, 22), 'max_iter': 161, 'fitness': 0.6755}, {'activation': 'tanh', 'solver': 'adam', 'learning_rate': 'constant', 'hidden_layer_sizes': (171, 53, 10), 'max_iter': 166, 'fitness': 0.6725}, {'activation': 'relu', 'solver': 'adam', 'learning_rate': 'constant', 'hidden_layer_sizes': (155, 66, 34), 'max_iter': 141, 'fitness': 0.6655}, {'activation': 'relu', 'solver': 'lbfgs', 'learning_rate': 'adaptive', 'hidden_layer_sizes': (162, 60, 26), 'max_iter': 148, 'fitness': 0.6465}]\n",
            "generation: \n",
            "4\n"
          ],
          "name": "stdout"
        },
        {
          "output_type": "stream",
          "text": [
            "/usr/local/lib/python3.7/dist-packages/sklearn/neural_network/_multilayer_perceptron.py:571: ConvergenceWarning: Stochastic Optimizer: Maximum iterations (240) reached and the optimization hasn't converged yet.\n",
            "  % self.max_iter, ConvergenceWarning)\n",
            "/usr/local/lib/python3.7/dist-packages/sklearn/neural_network/_multilayer_perceptron.py:571: ConvergenceWarning: Stochastic Optimizer: Maximum iterations (240) reached and the optimization hasn't converged yet.\n",
            "  % self.max_iter, ConvergenceWarning)\n"
          ],
          "name": "stderr"
        },
        {
          "output_type": "stream",
          "text": [
            "[{'activation': 'logistic', 'solver': 'lbfgs', 'learning_rate': 'adaptive', 'hidden_layer_sizes': (118, 90, 31), 'max_iter': 237, 'fitness': 0.7085}, {'activation': 'logistic', 'solver': 'adam', 'learning_rate': 'constant', 'hidden_layer_sizes': (188, 99, 19), 'max_iter': 184, 'fitness': 0.7025}, {'activation': 'logistic', 'solver': 'adam', 'learning_rate': 'constant', 'hidden_layer_sizes': (158, 82, 14), 'max_iter': 192, 'fitness': 0.7015}, {'activation': 'logistic', 'solver': 'lbfgs', 'learning_rate': 'adaptive', 'hidden_layer_sizes': (199, 67, 41), 'max_iter': 187, 'fitness': 0.7015}, {'activation': 'logistic', 'solver': 'lbfgs', 'learning_rate': 'constant', 'hidden_layer_sizes': (124, 83, 42), 'max_iter': 250, 'fitness': 0.701}, {'activation': 'logistic', 'solver': 'lbfgs', 'learning_rate': 'adaptive', 'hidden_layer_sizes': (132, 71, 14), 'max_iter': 136, 'fitness': 0.701}, {'activation': 'logistic', 'hidden_layer_sizes': (124, 65, 14), 'learning_rate': 'constant', 'max_iter': 250, 'solver': 'lbfgs', 'fitness': 0.701}, {'activation': 'logistic', 'hidden_layer_sizes': (120, 51, 19), 'learning_rate': 'constant', 'max_iter': 240, 'solver': 'adam', 'fitness': 0.7005}, {'activation': 'logistic', 'hidden_layer_sizes': (120, 51, 19), 'learning_rate': 'constant', 'max_iter': 240, 'solver': 'adam', 'fitness': 0.7}, {'activation': 'logistic', 'hidden_layer_sizes': (120, 51, 19), 'learning_rate': 'constant', 'max_iter': 240, 'solver': 'adam', 'fitness': 0.7}, {'activation': 'logistic', 'hidden_layer_sizes': (199, 67, 41), 'learning_rate': 'adaptive', 'max_iter': 187, 'solver': 'lbfgs', 'fitness': 0.6995}, {'activation': 'logistic', 'hidden_layer_sizes': (132, 99, 14), 'learning_rate': 'constant', 'max_iter': 136, 'solver': 'lbfgs', 'fitness': 0.6995}, {'activation': 'logistic', 'hidden_layer_sizes': (120, 51, 19), 'learning_rate': 'constant', 'max_iter': 240, 'solver': 'adam', 'fitness': 0.6995}, {'activation': 'tanh', 'solver': 'sgd', 'learning_rate': 'adaptive', 'hidden_layer_sizes': (112, 66, 34), 'max_iter': 141, 'fitness': 0.6975}, {'activation': 'tanh', 'solver': 'sgd', 'learning_rate': 'constant', 'hidden_layer_sizes': (188, 70, 38), 'max_iter': 118, 'fitness': 0.697}, {'activation': 'logistic', 'hidden_layer_sizes': (199, 67, 41), 'learning_rate': 'adaptive', 'max_iter': 187, 'solver': 'lbfgs', 'fitness': 0.697}, {'activation': 'logistic', 'solver': 'adam', 'learning_rate': 'invscaling', 'hidden_layer_sizes': (196, 65, 14), 'max_iter': 184, 'fitness': 0.696}, {'activation': 'logistic', 'hidden_layer_sizes': (132, 99, 14), 'learning_rate': 'adaptive', 'max_iter': 184, 'solver': 'adam', 'fitness': 0.696}, {'activation': 'relu', 'solver': 'sgd', 'learning_rate': 'adaptive', 'hidden_layer_sizes': (158, 55, 30), 'max_iter': 149, 'fitness': 0.695}, {'activation': 'logistic', 'solver': 'adam', 'learning_rate': 'constant', 'hidden_layer_sizes': (120, 62, 32), 'max_iter': 214, 'fitness': 0.6925}, {'activation': 'identity', 'solver': 'adam', 'learning_rate': 'constant', 'hidden_layer_sizes': (152, 66, 25), 'max_iter': 181, 'fitness': 0.6925}, {'activation': 'identity', 'solver': 'sgd', 'learning_rate': 'constant', 'hidden_layer_sizes': (179, 94, 21), 'max_iter': 114, 'fitness': 0.69}, {'activation': 'identity', 'solver': 'sgd', 'learning_rate': 'adaptive', 'hidden_layer_sizes': (160, 86, 23), 'max_iter': 239, 'fitness': 0.6895}, {'activation': 'identity', 'solver': 'sgd', 'learning_rate': 'constant', 'hidden_layer_sizes': (130, 51, 19), 'max_iter': 240, 'fitness': 0.6895}, {'activation': 'identity', 'solver': 'sgd', 'learning_rate': 'adaptive', 'hidden_layer_sizes': (156, 89, 10), 'max_iter': 237, 'fitness': 0.6895}, {'activation': 'identity', 'solver': 'adam', 'learning_rate': 'adaptive', 'hidden_layer_sizes': (137, 53, 37), 'max_iter': 116, 'fitness': 0.6855}, {'activation': 'tanh', 'solver': 'adam', 'learning_rate': 'invscaling', 'hidden_layer_sizes': (161, 79, 22), 'max_iter': 150, 'fitness': 0.6795}, {'activation': 'identity', 'solver': 'sgd', 'learning_rate': 'invscaling', 'hidden_layer_sizes': (182, 88, 37), 'max_iter': 159, 'fitness': 0.6785}, {'activation': 'tanh', 'solver': 'sgd', 'learning_rate': 'invscaling', 'hidden_layer_sizes': (153, 99, 22), 'max_iter': 161, 'fitness': 0.6755}, {'activation': 'tanh', 'solver': 'adam', 'learning_rate': 'constant', 'hidden_layer_sizes': (171, 53, 10), 'max_iter': 166, 'fitness': 0.6725}]\n",
            "generation: \n",
            "5\n"
          ],
          "name": "stdout"
        },
        {
          "output_type": "stream",
          "text": [
            "/usr/local/lib/python3.7/dist-packages/sklearn/neural_network/_multilayer_perceptron.py:571: ConvergenceWarning: Stochastic Optimizer: Maximum iterations (250) reached and the optimization hasn't converged yet.\n",
            "  % self.max_iter, ConvergenceWarning)\n"
          ],
          "name": "stderr"
        },
        {
          "output_type": "stream",
          "text": [
            "[{'activation': 'logistic', 'solver': 'lbfgs', 'learning_rate': 'adaptive', 'hidden_layer_sizes': (118, 90, 31), 'max_iter': 237, 'fitness': 0.7085}, {'activation': 'logistic', 'solver': 'adam', 'learning_rate': 'constant', 'hidden_layer_sizes': (188, 99, 19), 'max_iter': 184, 'fitness': 0.7025}, {'activation': 'logistic', 'solver': 'adam', 'learning_rate': 'constant', 'hidden_layer_sizes': (158, 82, 14), 'max_iter': 192, 'fitness': 0.7015}, {'activation': 'logistic', 'solver': 'lbfgs', 'learning_rate': 'adaptive', 'hidden_layer_sizes': (199, 67, 41), 'max_iter': 187, 'fitness': 0.7015}, {'activation': 'relu', 'hidden_layer_sizes': (124, 71, 14), 'learning_rate': 'adaptive', 'max_iter': 250, 'solver': 'sgd', 'fitness': 0.7015}, {'activation': 'logistic', 'solver': 'lbfgs', 'learning_rate': 'constant', 'hidden_layer_sizes': (124, 83, 42), 'max_iter': 250, 'fitness': 0.701}, {'activation': 'logistic', 'solver': 'lbfgs', 'learning_rate': 'adaptive', 'hidden_layer_sizes': (132, 71, 14), 'max_iter': 136, 'fitness': 0.701}, {'activation': 'logistic', 'hidden_layer_sizes': (124, 65, 14), 'learning_rate': 'constant', 'max_iter': 250, 'solver': 'lbfgs', 'fitness': 0.701}, {'activation': 'logistic', 'hidden_layer_sizes': (120, 51, 19), 'learning_rate': 'constant', 'max_iter': 240, 'solver': 'adam', 'fitness': 0.7005}, {'activation': 'logistic', 'hidden_layer_sizes': (120, 51, 19), 'learning_rate': 'constant', 'max_iter': 240, 'solver': 'adam', 'fitness': 0.7}, {'activation': 'logistic', 'hidden_layer_sizes': (120, 51, 19), 'learning_rate': 'constant', 'max_iter': 240, 'solver': 'adam', 'fitness': 0.7}, {'activation': 'logistic', 'hidden_layer_sizes': (199, 67, 41), 'learning_rate': 'adaptive', 'max_iter': 187, 'solver': 'lbfgs', 'fitness': 0.6995}, {'activation': 'logistic', 'hidden_layer_sizes': (132, 99, 14), 'learning_rate': 'constant', 'max_iter': 136, 'solver': 'lbfgs', 'fitness': 0.6995}, {'activation': 'logistic', 'hidden_layer_sizes': (120, 51, 19), 'learning_rate': 'constant', 'max_iter': 240, 'solver': 'adam', 'fitness': 0.6995}, {'activation': 'tanh', 'solver': 'sgd', 'learning_rate': 'adaptive', 'hidden_layer_sizes': (112, 66, 34), 'max_iter': 141, 'fitness': 0.6975}, {'activation': 'tanh', 'solver': 'sgd', 'learning_rate': 'constant', 'hidden_layer_sizes': (188, 70, 38), 'max_iter': 118, 'fitness': 0.697}, {'activation': 'logistic', 'hidden_layer_sizes': (199, 67, 41), 'learning_rate': 'adaptive', 'max_iter': 187, 'solver': 'lbfgs', 'fitness': 0.697}, {'activation': 'logistic', 'solver': 'adam', 'learning_rate': 'invscaling', 'hidden_layer_sizes': (196, 65, 14), 'max_iter': 184, 'fitness': 0.696}, {'activation': 'logistic', 'hidden_layer_sizes': (132, 99, 14), 'learning_rate': 'adaptive', 'max_iter': 184, 'solver': 'adam', 'fitness': 0.696}, {'activation': 'relu', 'solver': 'sgd', 'learning_rate': 'adaptive', 'hidden_layer_sizes': (158, 55, 30), 'max_iter': 149, 'fitness': 0.695}, {'activation': 'logistic', 'solver': 'adam', 'learning_rate': 'constant', 'hidden_layer_sizes': (120, 62, 32), 'max_iter': 214, 'fitness': 0.6925}, {'activation': 'identity', 'solver': 'adam', 'learning_rate': 'constant', 'hidden_layer_sizes': (152, 66, 25), 'max_iter': 181, 'fitness': 0.6925}, {'activation': 'identity', 'solver': 'sgd', 'learning_rate': 'constant', 'hidden_layer_sizes': (179, 94, 21), 'max_iter': 114, 'fitness': 0.69}, {'activation': 'identity', 'solver': 'sgd', 'learning_rate': 'adaptive', 'hidden_layer_sizes': (160, 86, 23), 'max_iter': 239, 'fitness': 0.6895}, {'activation': 'identity', 'solver': 'sgd', 'learning_rate': 'constant', 'hidden_layer_sizes': (130, 51, 19), 'max_iter': 240, 'fitness': 0.6895}, {'activation': 'identity', 'solver': 'sgd', 'learning_rate': 'adaptive', 'hidden_layer_sizes': (156, 89, 10), 'max_iter': 237, 'fitness': 0.6895}, {'activation': 'identity', 'solver': 'adam', 'learning_rate': 'adaptive', 'hidden_layer_sizes': (137, 53, 37), 'max_iter': 116, 'fitness': 0.6855}, {'activation': 'tanh', 'solver': 'adam', 'learning_rate': 'invscaling', 'hidden_layer_sizes': (161, 79, 22), 'max_iter': 150, 'fitness': 0.6795}, {'activation': 'identity', 'solver': 'sgd', 'learning_rate': 'invscaling', 'hidden_layer_sizes': (182, 88, 37), 'max_iter': 159, 'fitness': 0.6785}, {'activation': 'tanh', 'solver': 'sgd', 'learning_rate': 'invscaling', 'hidden_layer_sizes': (153, 99, 22), 'max_iter': 161, 'fitness': 0.6755}]\n",
            "generation: \n",
            "6\n"
          ],
          "name": "stdout"
        },
        {
          "output_type": "stream",
          "text": [
            "/usr/local/lib/python3.7/dist-packages/sklearn/neural_network/_multilayer_perceptron.py:571: ConvergenceWarning: Stochastic Optimizer: Maximum iterations (240) reached and the optimization hasn't converged yet.\n",
            "  % self.max_iter, ConvergenceWarning)\n"
          ],
          "name": "stderr"
        },
        {
          "output_type": "stream",
          "text": [
            "[{'activation': 'logistic', 'solver': 'lbfgs', 'learning_rate': 'adaptive', 'hidden_layer_sizes': (118, 90, 31), 'max_iter': 237, 'fitness': 0.7085}, {'activation': 'logistic', 'solver': 'adam', 'learning_rate': 'constant', 'hidden_layer_sizes': (188, 99, 19), 'max_iter': 184, 'fitness': 0.7025}, {'activation': 'logistic', 'solver': 'adam', 'learning_rate': 'constant', 'hidden_layer_sizes': (158, 82, 14), 'max_iter': 192, 'fitness': 0.7015}, {'activation': 'logistic', 'solver': 'lbfgs', 'learning_rate': 'adaptive', 'hidden_layer_sizes': (199, 67, 41), 'max_iter': 187, 'fitness': 0.7015}, {'activation': 'relu', 'hidden_layer_sizes': (124, 71, 14), 'learning_rate': 'adaptive', 'max_iter': 250, 'solver': 'sgd', 'fitness': 0.7015}, {'activation': 'logistic', 'solver': 'lbfgs', 'learning_rate': 'constant', 'hidden_layer_sizes': (124, 83, 42), 'max_iter': 250, 'fitness': 0.701}, {'activation': 'logistic', 'solver': 'lbfgs', 'learning_rate': 'adaptive', 'hidden_layer_sizes': (132, 71, 14), 'max_iter': 136, 'fitness': 0.701}, {'activation': 'logistic', 'hidden_layer_sizes': (124, 65, 14), 'learning_rate': 'constant', 'max_iter': 250, 'solver': 'lbfgs', 'fitness': 0.701}, {'activation': 'logistic', 'hidden_layer_sizes': (120, 51, 19), 'learning_rate': 'constant', 'max_iter': 240, 'solver': 'adam', 'fitness': 0.7005}, {'activation': 'logistic', 'hidden_layer_sizes': (120, 51, 19), 'learning_rate': 'constant', 'max_iter': 240, 'solver': 'adam', 'fitness': 0.7}, {'activation': 'logistic', 'hidden_layer_sizes': (120, 51, 19), 'learning_rate': 'constant', 'max_iter': 240, 'solver': 'adam', 'fitness': 0.7}, {'activation': 'logistic', 'hidden_layer_sizes': (199, 67, 41), 'learning_rate': 'adaptive', 'max_iter': 187, 'solver': 'lbfgs', 'fitness': 0.6995}, {'activation': 'logistic', 'hidden_layer_sizes': (132, 99, 14), 'learning_rate': 'constant', 'max_iter': 136, 'solver': 'lbfgs', 'fitness': 0.6995}, {'activation': 'logistic', 'hidden_layer_sizes': (120, 51, 19), 'learning_rate': 'constant', 'max_iter': 240, 'solver': 'adam', 'fitness': 0.6995}, {'activation': 'tanh', 'solver': 'sgd', 'learning_rate': 'adaptive', 'hidden_layer_sizes': (112, 66, 34), 'max_iter': 141, 'fitness': 0.6975}, {'activation': 'tanh', 'solver': 'sgd', 'learning_rate': 'constant', 'hidden_layer_sizes': (188, 70, 38), 'max_iter': 118, 'fitness': 0.697}, {'activation': 'logistic', 'hidden_layer_sizes': (199, 67, 41), 'learning_rate': 'adaptive', 'max_iter': 187, 'solver': 'lbfgs', 'fitness': 0.697}, {'activation': 'logistic', 'solver': 'adam', 'learning_rate': 'invscaling', 'hidden_layer_sizes': (196, 65, 14), 'max_iter': 184, 'fitness': 0.696}, {'activation': 'logistic', 'hidden_layer_sizes': (132, 99, 14), 'learning_rate': 'adaptive', 'max_iter': 184, 'solver': 'adam', 'fitness': 0.696}, {'activation': 'relu', 'solver': 'sgd', 'learning_rate': 'adaptive', 'hidden_layer_sizes': (158, 55, 30), 'max_iter': 149, 'fitness': 0.695}, {'activation': 'logistic', 'hidden_layer_sizes': (124, 51, 14), 'learning_rate': 'constant', 'max_iter': 240, 'solver': 'adam', 'fitness': 0.6935}, {'activation': 'logistic', 'solver': 'adam', 'learning_rate': 'constant', 'hidden_layer_sizes': (120, 62, 32), 'max_iter': 214, 'fitness': 0.6925}, {'activation': 'identity', 'solver': 'adam', 'learning_rate': 'constant', 'hidden_layer_sizes': (152, 66, 25), 'max_iter': 181, 'fitness': 0.6925}, {'activation': 'identity', 'solver': 'sgd', 'learning_rate': 'constant', 'hidden_layer_sizes': (179, 94, 21), 'max_iter': 114, 'fitness': 0.69}, {'activation': 'identity', 'solver': 'sgd', 'learning_rate': 'adaptive', 'hidden_layer_sizes': (160, 86, 23), 'max_iter': 239, 'fitness': 0.6895}, {'activation': 'identity', 'solver': 'sgd', 'learning_rate': 'constant', 'hidden_layer_sizes': (130, 51, 19), 'max_iter': 240, 'fitness': 0.6895}, {'activation': 'identity', 'solver': 'sgd', 'learning_rate': 'adaptive', 'hidden_layer_sizes': (156, 89, 10), 'max_iter': 237, 'fitness': 0.6895}, {'activation': 'identity', 'solver': 'adam', 'learning_rate': 'adaptive', 'hidden_layer_sizes': (137, 53, 37), 'max_iter': 116, 'fitness': 0.6855}, {'activation': 'identity', 'hidden_layer_sizes': (124, 51, 14), 'learning_rate': 'invscaling', 'max_iter': 250, 'solver': 'sgd', 'fitness': 0.683}, {'activation': 'tanh', 'solver': 'adam', 'learning_rate': 'invscaling', 'hidden_layer_sizes': (161, 79, 22), 'max_iter': 150, 'fitness': 0.6795}]\n",
            "generation: \n",
            "7\n"
          ],
          "name": "stdout"
        },
        {
          "output_type": "stream",
          "text": [
            "/usr/local/lib/python3.7/dist-packages/sklearn/neural_network/_multilayer_perceptron.py:470: ConvergenceWarning: lbfgs failed to converge (status=1):\n",
            "STOP: TOTAL NO. of ITERATIONS REACHED LIMIT.\n",
            "\n",
            "Increase the number of iterations (max_iter) or scale the data as shown in:\n",
            "    https://scikit-learn.org/stable/modules/preprocessing.html\n",
            "  self.n_iter_ = _check_optimize_result(\"lbfgs\", opt_res, self.max_iter)\n",
            "/usr/local/lib/python3.7/dist-packages/sklearn/neural_network/_multilayer_perceptron.py:571: ConvergenceWarning: Stochastic Optimizer: Maximum iterations (250) reached and the optimization hasn't converged yet.\n",
            "  % self.max_iter, ConvergenceWarning)\n"
          ],
          "name": "stderr"
        },
        {
          "output_type": "stream",
          "text": [
            "[{'activation': 'logistic', 'solver': 'lbfgs', 'learning_rate': 'adaptive', 'hidden_layer_sizes': (118, 90, 31), 'max_iter': 237, 'fitness': 0.7085}, {'activation': 'relu', 'hidden_layer_sizes': (124, 71, 14), 'learning_rate': 'adaptive', 'max_iter': 250, 'solver': 'sgd', 'fitness': 0.7055}, {'activation': 'logistic', 'solver': 'adam', 'learning_rate': 'constant', 'hidden_layer_sizes': (188, 99, 19), 'max_iter': 184, 'fitness': 0.7025}, {'activation': 'logistic', 'solver': 'adam', 'learning_rate': 'constant', 'hidden_layer_sizes': (158, 82, 14), 'max_iter': 192, 'fitness': 0.7015}, {'activation': 'logistic', 'solver': 'lbfgs', 'learning_rate': 'adaptive', 'hidden_layer_sizes': (199, 67, 41), 'max_iter': 187, 'fitness': 0.7015}, {'activation': 'relu', 'hidden_layer_sizes': (124, 71, 14), 'learning_rate': 'adaptive', 'max_iter': 250, 'solver': 'sgd', 'fitness': 0.7015}, {'activation': 'logistic', 'solver': 'lbfgs', 'learning_rate': 'constant', 'hidden_layer_sizes': (124, 83, 42), 'max_iter': 250, 'fitness': 0.701}, {'activation': 'logistic', 'solver': 'lbfgs', 'learning_rate': 'adaptive', 'hidden_layer_sizes': (132, 71, 14), 'max_iter': 136, 'fitness': 0.701}, {'activation': 'logistic', 'hidden_layer_sizes': (124, 65, 14), 'learning_rate': 'constant', 'max_iter': 250, 'solver': 'lbfgs', 'fitness': 0.701}, {'activation': 'logistic', 'hidden_layer_sizes': (120, 51, 19), 'learning_rate': 'constant', 'max_iter': 240, 'solver': 'adam', 'fitness': 0.7005}, {'activation': 'logistic', 'hidden_layer_sizes': (120, 51, 19), 'learning_rate': 'constant', 'max_iter': 240, 'solver': 'adam', 'fitness': 0.7}, {'activation': 'logistic', 'hidden_layer_sizes': (120, 51, 19), 'learning_rate': 'constant', 'max_iter': 240, 'solver': 'adam', 'fitness': 0.7}, {'activation': 'logistic', 'hidden_layer_sizes': (199, 67, 41), 'learning_rate': 'adaptive', 'max_iter': 187, 'solver': 'lbfgs', 'fitness': 0.6995}, {'activation': 'logistic', 'hidden_layer_sizes': (132, 99, 14), 'learning_rate': 'constant', 'max_iter': 136, 'solver': 'lbfgs', 'fitness': 0.6995}, {'activation': 'logistic', 'hidden_layer_sizes': (120, 51, 19), 'learning_rate': 'constant', 'max_iter': 240, 'solver': 'adam', 'fitness': 0.6995}, {'activation': 'tanh', 'solver': 'sgd', 'learning_rate': 'adaptive', 'hidden_layer_sizes': (112, 66, 34), 'max_iter': 141, 'fitness': 0.6975}, {'activation': 'tanh', 'solver': 'sgd', 'learning_rate': 'constant', 'hidden_layer_sizes': (188, 70, 38), 'max_iter': 118, 'fitness': 0.697}, {'activation': 'logistic', 'hidden_layer_sizes': (199, 67, 41), 'learning_rate': 'adaptive', 'max_iter': 187, 'solver': 'lbfgs', 'fitness': 0.697}, {'activation': 'logistic', 'solver': 'adam', 'learning_rate': 'invscaling', 'hidden_layer_sizes': (196, 65, 14), 'max_iter': 184, 'fitness': 0.696}, {'activation': 'logistic', 'hidden_layer_sizes': (132, 99, 14), 'learning_rate': 'adaptive', 'max_iter': 184, 'solver': 'adam', 'fitness': 0.696}, {'activation': 'relu', 'solver': 'sgd', 'learning_rate': 'adaptive', 'hidden_layer_sizes': (158, 55, 30), 'max_iter': 149, 'fitness': 0.695}, {'activation': 'logistic', 'hidden_layer_sizes': (124, 51, 14), 'learning_rate': 'constant', 'max_iter': 240, 'solver': 'adam', 'fitness': 0.6935}, {'activation': 'logistic', 'solver': 'adam', 'learning_rate': 'constant', 'hidden_layer_sizes': (120, 62, 32), 'max_iter': 214, 'fitness': 0.6925}, {'activation': 'identity', 'solver': 'adam', 'learning_rate': 'constant', 'hidden_layer_sizes': (152, 66, 25), 'max_iter': 181, 'fitness': 0.6925}, {'activation': 'identity', 'solver': 'sgd', 'learning_rate': 'constant', 'hidden_layer_sizes': (179, 94, 21), 'max_iter': 114, 'fitness': 0.69}, {'activation': 'identity', 'solver': 'sgd', 'learning_rate': 'adaptive', 'hidden_layer_sizes': (160, 86, 23), 'max_iter': 239, 'fitness': 0.6895}, {'activation': 'identity', 'solver': 'sgd', 'learning_rate': 'constant', 'hidden_layer_sizes': (130, 51, 19), 'max_iter': 240, 'fitness': 0.6895}, {'activation': 'identity', 'solver': 'sgd', 'learning_rate': 'adaptive', 'hidden_layer_sizes': (156, 89, 10), 'max_iter': 237, 'fitness': 0.6895}, {'activation': 'identity', 'solver': 'adam', 'learning_rate': 'adaptive', 'hidden_layer_sizes': (137, 53, 37), 'max_iter': 116, 'fitness': 0.6855}, {'activation': 'identity', 'hidden_layer_sizes': (124, 51, 14), 'learning_rate': 'invscaling', 'max_iter': 250, 'solver': 'sgd', 'fitness': 0.683}]\n",
            "generation: \n",
            "8\n"
          ],
          "name": "stdout"
        },
        {
          "output_type": "stream",
          "text": [
            "/usr/local/lib/python3.7/dist-packages/sklearn/neural_network/_multilayer_perceptron.py:571: ConvergenceWarning: Stochastic Optimizer: Maximum iterations (250) reached and the optimization hasn't converged yet.\n",
            "  % self.max_iter, ConvergenceWarning)\n",
            "/usr/local/lib/python3.7/dist-packages/sklearn/neural_network/_multilayer_perceptron.py:571: ConvergenceWarning: Stochastic Optimizer: Maximum iterations (250) reached and the optimization hasn't converged yet.\n",
            "  % self.max_iter, ConvergenceWarning)\n"
          ],
          "name": "stderr"
        },
        {
          "output_type": "stream",
          "text": [
            "[{'activation': 'logistic', 'solver': 'lbfgs', 'learning_rate': 'adaptive', 'hidden_layer_sizes': (118, 90, 31), 'max_iter': 237, 'fitness': 0.7085}, {'activation': 'relu', 'hidden_layer_sizes': (124, 71, 14), 'learning_rate': 'adaptive', 'max_iter': 250, 'solver': 'sgd', 'fitness': 0.7055}, {'activation': 'logistic', 'solver': 'adam', 'learning_rate': 'constant', 'hidden_layer_sizes': (188, 99, 19), 'max_iter': 184, 'fitness': 0.7025}, {'activation': 'logistic', 'solver': 'adam', 'learning_rate': 'constant', 'hidden_layer_sizes': (158, 82, 14), 'max_iter': 192, 'fitness': 0.7015}, {'activation': 'logistic', 'solver': 'lbfgs', 'learning_rate': 'adaptive', 'hidden_layer_sizes': (199, 67, 41), 'max_iter': 187, 'fitness': 0.7015}, {'activation': 'relu', 'hidden_layer_sizes': (124, 71, 14), 'learning_rate': 'adaptive', 'max_iter': 250, 'solver': 'sgd', 'fitness': 0.7015}, {'activation': 'logistic', 'solver': 'lbfgs', 'learning_rate': 'constant', 'hidden_layer_sizes': (124, 83, 42), 'max_iter': 250, 'fitness': 0.701}, {'activation': 'logistic', 'solver': 'lbfgs', 'learning_rate': 'adaptive', 'hidden_layer_sizes': (132, 71, 14), 'max_iter': 136, 'fitness': 0.701}, {'activation': 'logistic', 'hidden_layer_sizes': (124, 65, 14), 'learning_rate': 'constant', 'max_iter': 250, 'solver': 'lbfgs', 'fitness': 0.701}, {'activation': 'logistic', 'hidden_layer_sizes': (120, 51, 19), 'learning_rate': 'constant', 'max_iter': 240, 'solver': 'adam', 'fitness': 0.7005}, {'activation': 'logistic', 'hidden_layer_sizes': (120, 51, 19), 'learning_rate': 'constant', 'max_iter': 240, 'solver': 'adam', 'fitness': 0.7}, {'activation': 'logistic', 'hidden_layer_sizes': (120, 51, 19), 'learning_rate': 'constant', 'max_iter': 240, 'solver': 'adam', 'fitness': 0.7}, {'activation': 'logistic', 'hidden_layer_sizes': (199, 67, 41), 'learning_rate': 'adaptive', 'max_iter': 187, 'solver': 'lbfgs', 'fitness': 0.6995}, {'activation': 'logistic', 'hidden_layer_sizes': (132, 99, 14), 'learning_rate': 'constant', 'max_iter': 136, 'solver': 'lbfgs', 'fitness': 0.6995}, {'activation': 'logistic', 'hidden_layer_sizes': (120, 51, 19), 'learning_rate': 'constant', 'max_iter': 240, 'solver': 'adam', 'fitness': 0.6995}, {'activation': 'relu', 'hidden_layer_sizes': (124, 71, 19), 'learning_rate': 'constant', 'max_iter': 250, 'solver': 'sgd', 'fitness': 0.699}, {'activation': 'logistic', 'hidden_layer_sizes': (120, 71, 14), 'learning_rate': 'constant', 'max_iter': 250, 'solver': 'adam', 'fitness': 0.698}, {'activation': 'tanh', 'solver': 'sgd', 'learning_rate': 'adaptive', 'hidden_layer_sizes': (112, 66, 34), 'max_iter': 141, 'fitness': 0.6975}, {'activation': 'tanh', 'solver': 'sgd', 'learning_rate': 'constant', 'hidden_layer_sizes': (188, 70, 38), 'max_iter': 118, 'fitness': 0.697}, {'activation': 'logistic', 'hidden_layer_sizes': (199, 67, 41), 'learning_rate': 'adaptive', 'max_iter': 187, 'solver': 'lbfgs', 'fitness': 0.697}, {'activation': 'logistic', 'solver': 'adam', 'learning_rate': 'invscaling', 'hidden_layer_sizes': (196, 65, 14), 'max_iter': 184, 'fitness': 0.696}, {'activation': 'logistic', 'hidden_layer_sizes': (132, 99, 14), 'learning_rate': 'adaptive', 'max_iter': 184, 'solver': 'adam', 'fitness': 0.696}, {'activation': 'relu', 'solver': 'sgd', 'learning_rate': 'adaptive', 'hidden_layer_sizes': (158, 55, 30), 'max_iter': 149, 'fitness': 0.695}, {'activation': 'logistic', 'hidden_layer_sizes': (124, 51, 14), 'learning_rate': 'constant', 'max_iter': 240, 'solver': 'adam', 'fitness': 0.6935}, {'activation': 'logistic', 'solver': 'adam', 'learning_rate': 'constant', 'hidden_layer_sizes': (120, 62, 32), 'max_iter': 214, 'fitness': 0.6925}, {'activation': 'identity', 'solver': 'adam', 'learning_rate': 'constant', 'hidden_layer_sizes': (152, 66, 25), 'max_iter': 181, 'fitness': 0.6925}, {'activation': 'identity', 'solver': 'sgd', 'learning_rate': 'constant', 'hidden_layer_sizes': (179, 94, 21), 'max_iter': 114, 'fitness': 0.69}, {'activation': 'identity', 'solver': 'sgd', 'learning_rate': 'adaptive', 'hidden_layer_sizes': (160, 86, 23), 'max_iter': 239, 'fitness': 0.6895}, {'activation': 'identity', 'solver': 'sgd', 'learning_rate': 'constant', 'hidden_layer_sizes': (130, 51, 19), 'max_iter': 240, 'fitness': 0.6895}, {'activation': 'identity', 'solver': 'sgd', 'learning_rate': 'adaptive', 'hidden_layer_sizes': (156, 89, 10), 'max_iter': 237, 'fitness': 0.6895}]\n",
            "generation: \n",
            "9\n"
          ],
          "name": "stdout"
        },
        {
          "output_type": "stream",
          "text": [
            "/usr/local/lib/python3.7/dist-packages/sklearn/neural_network/_multilayer_perceptron.py:470: ConvergenceWarning: lbfgs failed to converge (status=1):\n",
            "STOP: TOTAL NO. of ITERATIONS REACHED LIMIT.\n",
            "\n",
            "Increase the number of iterations (max_iter) or scale the data as shown in:\n",
            "    https://scikit-learn.org/stable/modules/preprocessing.html\n",
            "  self.n_iter_ = _check_optimize_result(\"lbfgs\", opt_res, self.max_iter)\n",
            "/usr/local/lib/python3.7/dist-packages/sklearn/neural_network/_multilayer_perceptron.py:470: ConvergenceWarning: lbfgs failed to converge (status=1):\n",
            "STOP: TOTAL NO. of ITERATIONS REACHED LIMIT.\n",
            "\n",
            "Increase the number of iterations (max_iter) or scale the data as shown in:\n",
            "    https://scikit-learn.org/stable/modules/preprocessing.html\n",
            "  self.n_iter_ = _check_optimize_result(\"lbfgs\", opt_res, self.max_iter)\n"
          ],
          "name": "stderr"
        },
        {
          "output_type": "stream",
          "text": [
            "[{'activation': 'logistic', 'solver': 'lbfgs', 'learning_rate': 'adaptive', 'hidden_layer_sizes': (118, 90, 31), 'max_iter': 237, 'fitness': 0.7085}, {'activation': 'relu', 'hidden_layer_sizes': (124, 71, 14), 'learning_rate': 'adaptive', 'max_iter': 250, 'solver': 'sgd', 'fitness': 0.7055}, {'activation': 'logistic', 'hidden_layer_sizes': (120, 99, 14), 'learning_rate': 'constant', 'max_iter': 136, 'solver': 'lbfgs', 'fitness': 0.705}, {'activation': 'logistic', 'solver': 'adam', 'learning_rate': 'constant', 'hidden_layer_sizes': (188, 99, 19), 'max_iter': 184, 'fitness': 0.7025}, {'activation': 'logistic', 'solver': 'adam', 'learning_rate': 'constant', 'hidden_layer_sizes': (158, 82, 14), 'max_iter': 192, 'fitness': 0.7015}, {'activation': 'logistic', 'solver': 'lbfgs', 'learning_rate': 'adaptive', 'hidden_layer_sizes': (199, 67, 41), 'max_iter': 187, 'fitness': 0.7015}, {'activation': 'relu', 'hidden_layer_sizes': (124, 71, 14), 'learning_rate': 'adaptive', 'max_iter': 250, 'solver': 'sgd', 'fitness': 0.7015}, {'activation': 'logistic', 'solver': 'lbfgs', 'learning_rate': 'constant', 'hidden_layer_sizes': (124, 83, 42), 'max_iter': 250, 'fitness': 0.701}, {'activation': 'logistic', 'solver': 'lbfgs', 'learning_rate': 'adaptive', 'hidden_layer_sizes': (132, 71, 14), 'max_iter': 136, 'fitness': 0.701}, {'activation': 'logistic', 'hidden_layer_sizes': (124, 65, 14), 'learning_rate': 'constant', 'max_iter': 250, 'solver': 'lbfgs', 'fitness': 0.701}, {'activation': 'logistic', 'hidden_layer_sizes': (120, 51, 19), 'learning_rate': 'constant', 'max_iter': 240, 'solver': 'adam', 'fitness': 0.7005}, {'activation': 'logistic', 'hidden_layer_sizes': (120, 51, 19), 'learning_rate': 'constant', 'max_iter': 240, 'solver': 'adam', 'fitness': 0.7}, {'activation': 'logistic', 'hidden_layer_sizes': (120, 51, 19), 'learning_rate': 'constant', 'max_iter': 240, 'solver': 'adam', 'fitness': 0.7}, {'activation': 'logistic', 'hidden_layer_sizes': (199, 67, 41), 'learning_rate': 'adaptive', 'max_iter': 187, 'solver': 'lbfgs', 'fitness': 0.6995}, {'activation': 'logistic', 'hidden_layer_sizes': (132, 99, 14), 'learning_rate': 'constant', 'max_iter': 136, 'solver': 'lbfgs', 'fitness': 0.6995}, {'activation': 'logistic', 'hidden_layer_sizes': (120, 51, 19), 'learning_rate': 'constant', 'max_iter': 240, 'solver': 'adam', 'fitness': 0.6995}, {'activation': 'relu', 'hidden_layer_sizes': (124, 71, 19), 'learning_rate': 'constant', 'max_iter': 250, 'solver': 'sgd', 'fitness': 0.699}, {'activation': 'logistic', 'hidden_layer_sizes': (120, 71, 14), 'learning_rate': 'constant', 'max_iter': 250, 'solver': 'adam', 'fitness': 0.698}, {'activation': 'tanh', 'solver': 'sgd', 'learning_rate': 'adaptive', 'hidden_layer_sizes': (112, 66, 34), 'max_iter': 141, 'fitness': 0.6975}, {'activation': 'tanh', 'solver': 'sgd', 'learning_rate': 'constant', 'hidden_layer_sizes': (188, 70, 38), 'max_iter': 118, 'fitness': 0.697}, {'activation': 'logistic', 'hidden_layer_sizes': (199, 67, 41), 'learning_rate': 'adaptive', 'max_iter': 187, 'solver': 'lbfgs', 'fitness': 0.697}, {'activation': 'logistic', 'solver': 'adam', 'learning_rate': 'invscaling', 'hidden_layer_sizes': (196, 65, 14), 'max_iter': 184, 'fitness': 0.696}, {'activation': 'logistic', 'hidden_layer_sizes': (132, 99, 14), 'learning_rate': 'adaptive', 'max_iter': 184, 'solver': 'adam', 'fitness': 0.696}, {'activation': 'relu', 'solver': 'sgd', 'learning_rate': 'adaptive', 'hidden_layer_sizes': (158, 55, 30), 'max_iter': 149, 'fitness': 0.695}, {'activation': 'logistic', 'hidden_layer_sizes': (132, 99, 14), 'learning_rate': 'constant', 'max_iter': 136, 'solver': 'lbfgs', 'fitness': 0.694}, {'activation': 'logistic', 'hidden_layer_sizes': (124, 51, 14), 'learning_rate': 'constant', 'max_iter': 240, 'solver': 'adam', 'fitness': 0.6935}, {'activation': 'logistic', 'solver': 'adam', 'learning_rate': 'constant', 'hidden_layer_sizes': (120, 62, 32), 'max_iter': 214, 'fitness': 0.6925}, {'activation': 'identity', 'solver': 'adam', 'learning_rate': 'constant', 'hidden_layer_sizes': (152, 66, 25), 'max_iter': 181, 'fitness': 0.6925}, {'activation': 'identity', 'solver': 'sgd', 'learning_rate': 'constant', 'hidden_layer_sizes': (179, 94, 21), 'max_iter': 114, 'fitness': 0.69}, {'activation': 'identity', 'solver': 'sgd', 'learning_rate': 'adaptive', 'hidden_layer_sizes': (160, 86, 23), 'max_iter': 239, 'fitness': 0.6895}]\n",
            "generation: \n",
            "10\n"
          ],
          "name": "stdout"
        },
        {
          "output_type": "stream",
          "text": [
            "/usr/local/lib/python3.7/dist-packages/sklearn/neural_network/_multilayer_perceptron.py:571: ConvergenceWarning: Stochastic Optimizer: Maximum iterations (187) reached and the optimization hasn't converged yet.\n",
            "  % self.max_iter, ConvergenceWarning)\n",
            "/usr/local/lib/python3.7/dist-packages/sklearn/neural_network/_multilayer_perceptron.py:470: ConvergenceWarning: lbfgs failed to converge (status=1):\n",
            "STOP: TOTAL NO. of ITERATIONS REACHED LIMIT.\n",
            "\n",
            "Increase the number of iterations (max_iter) or scale the data as shown in:\n",
            "    https://scikit-learn.org/stable/modules/preprocessing.html\n",
            "  self.n_iter_ = _check_optimize_result(\"lbfgs\", opt_res, self.max_iter)\n"
          ],
          "name": "stderr"
        },
        {
          "output_type": "stream",
          "text": [
            "[{'activation': 'logistic', 'solver': 'lbfgs', 'learning_rate': 'adaptive', 'hidden_layer_sizes': (118, 90, 31), 'max_iter': 237, 'fitness': 0.7085}, {'activation': 'relu', 'hidden_layer_sizes': (124, 71, 14), 'learning_rate': 'adaptive', 'max_iter': 250, 'solver': 'sgd', 'fitness': 0.7055}, {'activation': 'logistic', 'hidden_layer_sizes': (120, 99, 14), 'learning_rate': 'constant', 'max_iter': 136, 'solver': 'lbfgs', 'fitness': 0.705}, {'activation': 'logistic', 'solver': 'adam', 'learning_rate': 'constant', 'hidden_layer_sizes': (188, 99, 19), 'max_iter': 184, 'fitness': 0.7025}, {'activation': 'logistic', 'solver': 'adam', 'learning_rate': 'constant', 'hidden_layer_sizes': (158, 82, 14), 'max_iter': 192, 'fitness': 0.7015}, {'activation': 'logistic', 'solver': 'lbfgs', 'learning_rate': 'adaptive', 'hidden_layer_sizes': (199, 67, 41), 'max_iter': 187, 'fitness': 0.7015}, {'activation': 'relu', 'hidden_layer_sizes': (124, 71, 14), 'learning_rate': 'adaptive', 'max_iter': 250, 'solver': 'sgd', 'fitness': 0.7015}, {'activation': 'logistic', 'solver': 'lbfgs', 'learning_rate': 'constant', 'hidden_layer_sizes': (124, 83, 42), 'max_iter': 250, 'fitness': 0.701}, {'activation': 'logistic', 'solver': 'lbfgs', 'learning_rate': 'adaptive', 'hidden_layer_sizes': (132, 71, 14), 'max_iter': 136, 'fitness': 0.701}, {'activation': 'logistic', 'hidden_layer_sizes': (124, 65, 14), 'learning_rate': 'constant', 'max_iter': 250, 'solver': 'lbfgs', 'fitness': 0.701}, {'activation': 'logistic', 'hidden_layer_sizes': (120, 51, 19), 'learning_rate': 'constant', 'max_iter': 240, 'solver': 'adam', 'fitness': 0.7005}, {'activation': 'logistic', 'hidden_layer_sizes': (120, 51, 19), 'learning_rate': 'constant', 'max_iter': 240, 'solver': 'adam', 'fitness': 0.7}, {'activation': 'logistic', 'hidden_layer_sizes': (120, 51, 19), 'learning_rate': 'constant', 'max_iter': 240, 'solver': 'adam', 'fitness': 0.7}, {'activation': 'logistic', 'hidden_layer_sizes': (199, 67, 41), 'learning_rate': 'adaptive', 'max_iter': 187, 'solver': 'lbfgs', 'fitness': 0.6995}, {'activation': 'logistic', 'hidden_layer_sizes': (132, 99, 14), 'learning_rate': 'constant', 'max_iter': 136, 'solver': 'lbfgs', 'fitness': 0.6995}, {'activation': 'logistic', 'hidden_layer_sizes': (120, 51, 19), 'learning_rate': 'constant', 'max_iter': 240, 'solver': 'adam', 'fitness': 0.6995}, {'activation': 'relu', 'hidden_layer_sizes': (124, 71, 19), 'learning_rate': 'constant', 'max_iter': 250, 'solver': 'sgd', 'fitness': 0.699}, {'activation': 'logistic', 'hidden_layer_sizes': (120, 71, 14), 'learning_rate': 'constant', 'max_iter': 250, 'solver': 'adam', 'fitness': 0.698}, {'activation': 'logistic', 'hidden_layer_sizes': (199, 67, 19), 'learning_rate': 'invscaling', 'max_iter': 187, 'solver': 'adam', 'fitness': 0.698}, {'activation': 'tanh', 'solver': 'sgd', 'learning_rate': 'adaptive', 'hidden_layer_sizes': (112, 66, 34), 'max_iter': 141, 'fitness': 0.6975}, {'activation': 'tanh', 'solver': 'sgd', 'learning_rate': 'constant', 'hidden_layer_sizes': (188, 70, 38), 'max_iter': 118, 'fitness': 0.697}, {'activation': 'logistic', 'hidden_layer_sizes': (199, 67, 41), 'learning_rate': 'adaptive', 'max_iter': 187, 'solver': 'lbfgs', 'fitness': 0.697}, {'activation': 'logistic', 'solver': 'adam', 'learning_rate': 'invscaling', 'hidden_layer_sizes': (196, 65, 14), 'max_iter': 184, 'fitness': 0.696}, {'activation': 'logistic', 'hidden_layer_sizes': (132, 99, 14), 'learning_rate': 'adaptive', 'max_iter': 184, 'solver': 'adam', 'fitness': 0.696}, {'activation': 'relu', 'solver': 'sgd', 'learning_rate': 'adaptive', 'hidden_layer_sizes': (158, 55, 30), 'max_iter': 149, 'fitness': 0.695}, {'activation': 'logistic', 'hidden_layer_sizes': (132, 99, 14), 'learning_rate': 'constant', 'max_iter': 136, 'solver': 'lbfgs', 'fitness': 0.694}, {'activation': 'logistic', 'hidden_layer_sizes': (124, 51, 14), 'learning_rate': 'constant', 'max_iter': 240, 'solver': 'adam', 'fitness': 0.6935}, {'activation': 'logistic', 'solver': 'adam', 'learning_rate': 'constant', 'hidden_layer_sizes': (120, 62, 32), 'max_iter': 214, 'fitness': 0.6925}, {'activation': 'identity', 'solver': 'adam', 'learning_rate': 'constant', 'hidden_layer_sizes': (152, 66, 25), 'max_iter': 181, 'fitness': 0.6925}, {'activation': 'identity', 'solver': 'sgd', 'learning_rate': 'constant', 'hidden_layer_sizes': (179, 94, 21), 'max_iter': 114, 'fitness': 0.69}]\n",
            "generation: \n",
            "11\n"
          ],
          "name": "stdout"
        },
        {
          "output_type": "stream",
          "text": [
            "/usr/local/lib/python3.7/dist-packages/sklearn/neural_network/_multilayer_perceptron.py:470: ConvergenceWarning: lbfgs failed to converge (status=1):\n",
            "STOP: TOTAL NO. of ITERATIONS REACHED LIMIT.\n",
            "\n",
            "Increase the number of iterations (max_iter) or scale the data as shown in:\n",
            "    https://scikit-learn.org/stable/modules/preprocessing.html\n",
            "  self.n_iter_ = _check_optimize_result(\"lbfgs\", opt_res, self.max_iter)\n",
            "/usr/local/lib/python3.7/dist-packages/sklearn/neural_network/_multilayer_perceptron.py:571: ConvergenceWarning: Stochastic Optimizer: Maximum iterations (250) reached and the optimization hasn't converged yet.\n",
            "  % self.max_iter, ConvergenceWarning)\n"
          ],
          "name": "stderr"
        },
        {
          "output_type": "stream",
          "text": [
            "[{'activation': 'logistic', 'solver': 'lbfgs', 'learning_rate': 'adaptive', 'hidden_layer_sizes': (118, 90, 31), 'max_iter': 237, 'fitness': 0.7085}, {'activation': 'relu', 'hidden_layer_sizes': (124, 71, 14), 'learning_rate': 'adaptive', 'max_iter': 250, 'solver': 'sgd', 'fitness': 0.7055}, {'activation': 'logistic', 'hidden_layer_sizes': (120, 99, 14), 'learning_rate': 'constant', 'max_iter': 136, 'solver': 'lbfgs', 'fitness': 0.705}, {'activation': 'logistic', 'solver': 'adam', 'learning_rate': 'constant', 'hidden_layer_sizes': (188, 99, 19), 'max_iter': 184, 'fitness': 0.7025}, {'activation': 'logistic', 'solver': 'adam', 'learning_rate': 'constant', 'hidden_layer_sizes': (158, 82, 14), 'max_iter': 192, 'fitness': 0.7015}, {'activation': 'logistic', 'solver': 'lbfgs', 'learning_rate': 'adaptive', 'hidden_layer_sizes': (199, 67, 41), 'max_iter': 187, 'fitness': 0.7015}, {'activation': 'relu', 'hidden_layer_sizes': (124, 71, 14), 'learning_rate': 'adaptive', 'max_iter': 250, 'solver': 'sgd', 'fitness': 0.7015}, {'activation': 'logistic', 'solver': 'lbfgs', 'learning_rate': 'constant', 'hidden_layer_sizes': (124, 83, 42), 'max_iter': 250, 'fitness': 0.701}, {'activation': 'logistic', 'solver': 'lbfgs', 'learning_rate': 'adaptive', 'hidden_layer_sizes': (132, 71, 14), 'max_iter': 136, 'fitness': 0.701}, {'activation': 'logistic', 'hidden_layer_sizes': (124, 65, 14), 'learning_rate': 'constant', 'max_iter': 250, 'solver': 'lbfgs', 'fitness': 0.701}, {'activation': 'logistic', 'hidden_layer_sizes': (120, 51, 19), 'learning_rate': 'constant', 'max_iter': 240, 'solver': 'adam', 'fitness': 0.7005}, {'activation': 'logistic', 'hidden_layer_sizes': (120, 51, 19), 'learning_rate': 'constant', 'max_iter': 240, 'solver': 'adam', 'fitness': 0.7}, {'activation': 'logistic', 'hidden_layer_sizes': (120, 51, 19), 'learning_rate': 'constant', 'max_iter': 240, 'solver': 'adam', 'fitness': 0.7}, {'activation': 'logistic', 'hidden_layer_sizes': (199, 67, 41), 'learning_rate': 'adaptive', 'max_iter': 187, 'solver': 'lbfgs', 'fitness': 0.6995}, {'activation': 'logistic', 'hidden_layer_sizes': (132, 99, 14), 'learning_rate': 'constant', 'max_iter': 136, 'solver': 'lbfgs', 'fitness': 0.6995}, {'activation': 'logistic', 'hidden_layer_sizes': (120, 51, 19), 'learning_rate': 'constant', 'max_iter': 240, 'solver': 'adam', 'fitness': 0.6995}, {'activation': 'relu', 'hidden_layer_sizes': (124, 71, 19), 'learning_rate': 'constant', 'max_iter': 250, 'solver': 'sgd', 'fitness': 0.699}, {'activation': 'logistic', 'hidden_layer_sizes': (120, 71, 14), 'learning_rate': 'constant', 'max_iter': 250, 'solver': 'adam', 'fitness': 0.698}, {'activation': 'logistic', 'hidden_layer_sizes': (199, 67, 19), 'learning_rate': 'invscaling', 'max_iter': 187, 'solver': 'adam', 'fitness': 0.698}, {'activation': 'tanh', 'solver': 'sgd', 'learning_rate': 'adaptive', 'hidden_layer_sizes': (112, 66, 34), 'max_iter': 141, 'fitness': 0.6975}, {'activation': 'tanh', 'solver': 'sgd', 'learning_rate': 'constant', 'hidden_layer_sizes': (188, 70, 38), 'max_iter': 118, 'fitness': 0.697}, {'activation': 'logistic', 'hidden_layer_sizes': (199, 67, 41), 'learning_rate': 'adaptive', 'max_iter': 187, 'solver': 'lbfgs', 'fitness': 0.697}, {'activation': 'logistic', 'solver': 'adam', 'learning_rate': 'invscaling', 'hidden_layer_sizes': (196, 65, 14), 'max_iter': 184, 'fitness': 0.696}, {'activation': 'logistic', 'hidden_layer_sizes': (132, 99, 14), 'learning_rate': 'adaptive', 'max_iter': 184, 'solver': 'adam', 'fitness': 0.696}, {'activation': 'relu', 'hidden_layer_sizes': (124, 71, 14), 'learning_rate': 'adaptive', 'max_iter': 250, 'solver': 'sgd', 'fitness': 0.696}, {'activation': 'relu', 'solver': 'sgd', 'learning_rate': 'adaptive', 'hidden_layer_sizes': (158, 55, 30), 'max_iter': 149, 'fitness': 0.695}, {'activation': 'logistic', 'hidden_layer_sizes': (132, 99, 14), 'learning_rate': 'constant', 'max_iter': 136, 'solver': 'lbfgs', 'fitness': 0.694}, {'activation': 'logistic', 'hidden_layer_sizes': (124, 51, 14), 'learning_rate': 'constant', 'max_iter': 240, 'solver': 'adam', 'fitness': 0.6935}, {'activation': 'logistic', 'solver': 'adam', 'learning_rate': 'constant', 'hidden_layer_sizes': (120, 62, 32), 'max_iter': 214, 'fitness': 0.6925}, {'activation': 'identity', 'solver': 'adam', 'learning_rate': 'constant', 'hidden_layer_sizes': (152, 66, 25), 'max_iter': 181, 'fitness': 0.6925}]\n",
            "generation: \n",
            "12\n"
          ],
          "name": "stdout"
        },
        {
          "output_type": "stream",
          "text": [
            "/usr/local/lib/python3.7/dist-packages/sklearn/neural_network/_multilayer_perceptron.py:470: ConvergenceWarning: lbfgs failed to converge (status=1):\n",
            "STOP: TOTAL NO. of ITERATIONS REACHED LIMIT.\n",
            "\n",
            "Increase the number of iterations (max_iter) or scale the data as shown in:\n",
            "    https://scikit-learn.org/stable/modules/preprocessing.html\n",
            "  self.n_iter_ = _check_optimize_result(\"lbfgs\", opt_res, self.max_iter)\n",
            "/usr/local/lib/python3.7/dist-packages/sklearn/neural_network/_multilayer_perceptron.py:470: ConvergenceWarning: lbfgs failed to converge (status=1):\n",
            "STOP: TOTAL NO. of ITERATIONS REACHED LIMIT.\n",
            "\n",
            "Increase the number of iterations (max_iter) or scale the data as shown in:\n",
            "    https://scikit-learn.org/stable/modules/preprocessing.html\n",
            "  self.n_iter_ = _check_optimize_result(\"lbfgs\", opt_res, self.max_iter)\n"
          ],
          "name": "stderr"
        },
        {
          "output_type": "stream",
          "text": [
            "[{'activation': 'logistic', 'solver': 'lbfgs', 'learning_rate': 'adaptive', 'hidden_layer_sizes': (118, 90, 31), 'max_iter': 237, 'fitness': 0.7085}, {'activation': 'relu', 'hidden_layer_sizes': (124, 71, 14), 'learning_rate': 'adaptive', 'max_iter': 250, 'solver': 'sgd', 'fitness': 0.7055}, {'activation': 'logistic', 'hidden_layer_sizes': (120, 99, 14), 'learning_rate': 'constant', 'max_iter': 136, 'solver': 'lbfgs', 'fitness': 0.705}, {'activation': 'logistic', 'solver': 'adam', 'learning_rate': 'constant', 'hidden_layer_sizes': (188, 99, 19), 'max_iter': 184, 'fitness': 0.7025}, {'activation': 'logistic', 'solver': 'adam', 'learning_rate': 'constant', 'hidden_layer_sizes': (158, 82, 14), 'max_iter': 192, 'fitness': 0.7015}, {'activation': 'logistic', 'solver': 'lbfgs', 'learning_rate': 'adaptive', 'hidden_layer_sizes': (199, 67, 41), 'max_iter': 187, 'fitness': 0.7015}, {'activation': 'relu', 'hidden_layer_sizes': (124, 71, 14), 'learning_rate': 'adaptive', 'max_iter': 250, 'solver': 'sgd', 'fitness': 0.7015}, {'activation': 'logistic', 'solver': 'lbfgs', 'learning_rate': 'constant', 'hidden_layer_sizes': (124, 83, 42), 'max_iter': 250, 'fitness': 0.701}, {'activation': 'logistic', 'solver': 'lbfgs', 'learning_rate': 'adaptive', 'hidden_layer_sizes': (132, 71, 14), 'max_iter': 136, 'fitness': 0.701}, {'activation': 'logistic', 'hidden_layer_sizes': (124, 65, 14), 'learning_rate': 'constant', 'max_iter': 250, 'solver': 'lbfgs', 'fitness': 0.701}, {'activation': 'logistic', 'hidden_layer_sizes': (120, 51, 19), 'learning_rate': 'constant', 'max_iter': 240, 'solver': 'adam', 'fitness': 0.7005}, {'activation': 'logistic', 'hidden_layer_sizes': (120, 51, 19), 'learning_rate': 'constant', 'max_iter': 240, 'solver': 'adam', 'fitness': 0.7}, {'activation': 'logistic', 'hidden_layer_sizes': (120, 51, 19), 'learning_rate': 'constant', 'max_iter': 240, 'solver': 'adam', 'fitness': 0.7}, {'activation': 'logistic', 'hidden_layer_sizes': (199, 67, 41), 'learning_rate': 'adaptive', 'max_iter': 187, 'solver': 'lbfgs', 'fitness': 0.6995}, {'activation': 'logistic', 'hidden_layer_sizes': (132, 99, 14), 'learning_rate': 'constant', 'max_iter': 136, 'solver': 'lbfgs', 'fitness': 0.6995}, {'activation': 'logistic', 'hidden_layer_sizes': (120, 51, 19), 'learning_rate': 'constant', 'max_iter': 240, 'solver': 'adam', 'fitness': 0.6995}, {'activation': 'relu', 'hidden_layer_sizes': (124, 71, 19), 'learning_rate': 'constant', 'max_iter': 250, 'solver': 'sgd', 'fitness': 0.699}, {'activation': 'logistic', 'hidden_layer_sizes': (120, 71, 14), 'learning_rate': 'constant', 'max_iter': 250, 'solver': 'adam', 'fitness': 0.698}, {'activation': 'logistic', 'hidden_layer_sizes': (199, 67, 19), 'learning_rate': 'invscaling', 'max_iter': 187, 'solver': 'adam', 'fitness': 0.698}, {'activation': 'tanh', 'solver': 'sgd', 'learning_rate': 'adaptive', 'hidden_layer_sizes': (112, 66, 34), 'max_iter': 141, 'fitness': 0.6975}, {'activation': 'tanh', 'solver': 'sgd', 'learning_rate': 'constant', 'hidden_layer_sizes': (188, 70, 38), 'max_iter': 118, 'fitness': 0.697}, {'activation': 'logistic', 'hidden_layer_sizes': (199, 67, 41), 'learning_rate': 'adaptive', 'max_iter': 187, 'solver': 'lbfgs', 'fitness': 0.697}, {'activation': 'logistic', 'solver': 'adam', 'learning_rate': 'invscaling', 'hidden_layer_sizes': (196, 65, 14), 'max_iter': 184, 'fitness': 0.696}, {'activation': 'logistic', 'hidden_layer_sizes': (132, 99, 14), 'learning_rate': 'adaptive', 'max_iter': 184, 'solver': 'adam', 'fitness': 0.696}, {'activation': 'relu', 'hidden_layer_sizes': (124, 71, 14), 'learning_rate': 'adaptive', 'max_iter': 250, 'solver': 'sgd', 'fitness': 0.696}, {'activation': 'relu', 'solver': 'sgd', 'learning_rate': 'adaptive', 'hidden_layer_sizes': (158, 55, 30), 'max_iter': 149, 'fitness': 0.695}, {'activation': 'logistic', 'hidden_layer_sizes': (132, 99, 14), 'learning_rate': 'constant', 'max_iter': 136, 'solver': 'lbfgs', 'fitness': 0.694}, {'activation': 'logistic', 'hidden_layer_sizes': (124, 51, 14), 'learning_rate': 'constant', 'max_iter': 240, 'solver': 'adam', 'fitness': 0.6935}, {'activation': 'logistic', 'solver': 'adam', 'learning_rate': 'constant', 'hidden_layer_sizes': (120, 62, 32), 'max_iter': 214, 'fitness': 0.6925}, {'activation': 'identity', 'solver': 'adam', 'learning_rate': 'constant', 'hidden_layer_sizes': (152, 66, 25), 'max_iter': 181, 'fitness': 0.6925}]\n",
            "generation: \n",
            "13\n"
          ],
          "name": "stdout"
        },
        {
          "output_type": "stream",
          "text": [
            "/usr/local/lib/python3.7/dist-packages/sklearn/neural_network/_multilayer_perceptron.py:470: ConvergenceWarning: lbfgs failed to converge (status=1):\n",
            "STOP: TOTAL NO. of ITERATIONS REACHED LIMIT.\n",
            "\n",
            "Increase the number of iterations (max_iter) or scale the data as shown in:\n",
            "    https://scikit-learn.org/stable/modules/preprocessing.html\n",
            "  self.n_iter_ = _check_optimize_result(\"lbfgs\", opt_res, self.max_iter)\n",
            "/usr/local/lib/python3.7/dist-packages/sklearn/neural_network/_multilayer_perceptron.py:470: ConvergenceWarning: lbfgs failed to converge (status=1):\n",
            "STOP: TOTAL NO. of ITERATIONS REACHED LIMIT.\n",
            "\n",
            "Increase the number of iterations (max_iter) or scale the data as shown in:\n",
            "    https://scikit-learn.org/stable/modules/preprocessing.html\n",
            "  self.n_iter_ = _check_optimize_result(\"lbfgs\", opt_res, self.max_iter)\n"
          ],
          "name": "stderr"
        },
        {
          "output_type": "stream",
          "text": [
            "[{'activation': 'logistic', 'solver': 'lbfgs', 'learning_rate': 'adaptive', 'hidden_layer_sizes': (118, 90, 31), 'max_iter': 237, 'fitness': 0.7085}, {'activation': 'relu', 'hidden_layer_sizes': (124, 71, 14), 'learning_rate': 'adaptive', 'max_iter': 250, 'solver': 'sgd', 'fitness': 0.7055}, {'activation': 'logistic', 'hidden_layer_sizes': (120, 99, 14), 'learning_rate': 'constant', 'max_iter': 136, 'solver': 'lbfgs', 'fitness': 0.705}, {'activation': 'logistic', 'hidden_layer_sizes': (120, 67, 41), 'learning_rate': 'adaptive', 'max_iter': 187, 'solver': 'lbfgs', 'fitness': 0.703}, {'activation': 'logistic', 'solver': 'adam', 'learning_rate': 'constant', 'hidden_layer_sizes': (188, 99, 19), 'max_iter': 184, 'fitness': 0.7025}, {'activation': 'logistic', 'solver': 'adam', 'learning_rate': 'constant', 'hidden_layer_sizes': (158, 82, 14), 'max_iter': 192, 'fitness': 0.7015}, {'activation': 'logistic', 'solver': 'lbfgs', 'learning_rate': 'adaptive', 'hidden_layer_sizes': (199, 67, 41), 'max_iter': 187, 'fitness': 0.7015}, {'activation': 'relu', 'hidden_layer_sizes': (124, 71, 14), 'learning_rate': 'adaptive', 'max_iter': 250, 'solver': 'sgd', 'fitness': 0.7015}, {'activation': 'logistic', 'solver': 'lbfgs', 'learning_rate': 'constant', 'hidden_layer_sizes': (124, 83, 42), 'max_iter': 250, 'fitness': 0.701}, {'activation': 'logistic', 'solver': 'lbfgs', 'learning_rate': 'adaptive', 'hidden_layer_sizes': (132, 71, 14), 'max_iter': 136, 'fitness': 0.701}, {'activation': 'logistic', 'hidden_layer_sizes': (124, 65, 14), 'learning_rate': 'constant', 'max_iter': 250, 'solver': 'lbfgs', 'fitness': 0.701}, {'activation': 'logistic', 'hidden_layer_sizes': (120, 51, 19), 'learning_rate': 'constant', 'max_iter': 240, 'solver': 'adam', 'fitness': 0.7005}, {'activation': 'logistic', 'hidden_layer_sizes': (120, 51, 19), 'learning_rate': 'constant', 'max_iter': 240, 'solver': 'adam', 'fitness': 0.7}, {'activation': 'logistic', 'hidden_layer_sizes': (120, 51, 19), 'learning_rate': 'constant', 'max_iter': 240, 'solver': 'adam', 'fitness': 0.7}, {'activation': 'logistic', 'hidden_layer_sizes': (199, 67, 41), 'learning_rate': 'adaptive', 'max_iter': 187, 'solver': 'lbfgs', 'fitness': 0.6995}, {'activation': 'logistic', 'hidden_layer_sizes': (132, 99, 14), 'learning_rate': 'constant', 'max_iter': 136, 'solver': 'lbfgs', 'fitness': 0.6995}, {'activation': 'logistic', 'hidden_layer_sizes': (120, 51, 19), 'learning_rate': 'constant', 'max_iter': 240, 'solver': 'adam', 'fitness': 0.6995}, {'activation': 'relu', 'hidden_layer_sizes': (124, 71, 19), 'learning_rate': 'constant', 'max_iter': 250, 'solver': 'sgd', 'fitness': 0.699}, {'activation': 'logistic', 'hidden_layer_sizes': (120, 71, 14), 'learning_rate': 'constant', 'max_iter': 250, 'solver': 'adam', 'fitness': 0.698}, {'activation': 'logistic', 'hidden_layer_sizes': (199, 67, 19), 'learning_rate': 'invscaling', 'max_iter': 187, 'solver': 'adam', 'fitness': 0.698}, {'activation': 'tanh', 'solver': 'sgd', 'learning_rate': 'adaptive', 'hidden_layer_sizes': (112, 66, 34), 'max_iter': 141, 'fitness': 0.6975}, {'activation': 'tanh', 'solver': 'sgd', 'learning_rate': 'constant', 'hidden_layer_sizes': (188, 70, 38), 'max_iter': 118, 'fitness': 0.697}, {'activation': 'logistic', 'hidden_layer_sizes': (199, 67, 41), 'learning_rate': 'adaptive', 'max_iter': 187, 'solver': 'lbfgs', 'fitness': 0.697}, {'activation': 'logistic', 'solver': 'adam', 'learning_rate': 'invscaling', 'hidden_layer_sizes': (196, 65, 14), 'max_iter': 184, 'fitness': 0.696}, {'activation': 'logistic', 'hidden_layer_sizes': (132, 99, 14), 'learning_rate': 'adaptive', 'max_iter': 184, 'solver': 'adam', 'fitness': 0.696}, {'activation': 'relu', 'hidden_layer_sizes': (124, 71, 14), 'learning_rate': 'adaptive', 'max_iter': 250, 'solver': 'sgd', 'fitness': 0.696}, {'activation': 'relu', 'solver': 'sgd', 'learning_rate': 'adaptive', 'hidden_layer_sizes': (158, 55, 30), 'max_iter': 149, 'fitness': 0.695}, {'activation': 'logistic', 'hidden_layer_sizes': (120, 67, 14), 'learning_rate': 'adaptive', 'max_iter': 136, 'solver': 'lbfgs', 'fitness': 0.695}, {'activation': 'logistic', 'hidden_layer_sizes': (132, 99, 14), 'learning_rate': 'constant', 'max_iter': 136, 'solver': 'lbfgs', 'fitness': 0.694}, {'activation': 'logistic', 'hidden_layer_sizes': (124, 51, 14), 'learning_rate': 'constant', 'max_iter': 240, 'solver': 'adam', 'fitness': 0.6935}]\n",
            "generation: \n",
            "14\n"
          ],
          "name": "stdout"
        },
        {
          "output_type": "stream",
          "text": [
            "/usr/local/lib/python3.7/dist-packages/sklearn/neural_network/_multilayer_perceptron.py:470: ConvergenceWarning: lbfgs failed to converge (status=1):\n",
            "STOP: TOTAL NO. of ITERATIONS REACHED LIMIT.\n",
            "\n",
            "Increase the number of iterations (max_iter) or scale the data as shown in:\n",
            "    https://scikit-learn.org/stable/modules/preprocessing.html\n",
            "  self.n_iter_ = _check_optimize_result(\"lbfgs\", opt_res, self.max_iter)\n"
          ],
          "name": "stderr"
        },
        {
          "output_type": "stream",
          "text": [
            "[{'activation': 'logistic', 'solver': 'lbfgs', 'learning_rate': 'adaptive', 'hidden_layer_sizes': (118, 90, 31), 'max_iter': 237, 'fitness': 0.7085}, {'activation': 'relu', 'hidden_layer_sizes': (124, 71, 14), 'learning_rate': 'adaptive', 'max_iter': 250, 'solver': 'sgd', 'fitness': 0.7055}, {'activation': 'logistic', 'hidden_layer_sizes': (120, 99, 14), 'learning_rate': 'constant', 'max_iter': 136, 'solver': 'lbfgs', 'fitness': 0.705}, {'activation': 'logistic', 'hidden_layer_sizes': (120, 67, 41), 'learning_rate': 'adaptive', 'max_iter': 187, 'solver': 'lbfgs', 'fitness': 0.703}, {'activation': 'logistic', 'solver': 'adam', 'learning_rate': 'constant', 'hidden_layer_sizes': (188, 99, 19), 'max_iter': 184, 'fitness': 0.7025}, {'activation': 'logistic', 'solver': 'adam', 'learning_rate': 'constant', 'hidden_layer_sizes': (158, 82, 14), 'max_iter': 192, 'fitness': 0.7015}, {'activation': 'logistic', 'solver': 'lbfgs', 'learning_rate': 'adaptive', 'hidden_layer_sizes': (199, 67, 41), 'max_iter': 187, 'fitness': 0.7015}, {'activation': 'relu', 'hidden_layer_sizes': (124, 71, 14), 'learning_rate': 'adaptive', 'max_iter': 250, 'solver': 'sgd', 'fitness': 0.7015}, {'activation': 'logistic', 'solver': 'lbfgs', 'learning_rate': 'constant', 'hidden_layer_sizes': (124, 83, 42), 'max_iter': 250, 'fitness': 0.701}, {'activation': 'logistic', 'solver': 'lbfgs', 'learning_rate': 'adaptive', 'hidden_layer_sizes': (132, 71, 14), 'max_iter': 136, 'fitness': 0.701}, {'activation': 'logistic', 'hidden_layer_sizes': (124, 65, 14), 'learning_rate': 'constant', 'max_iter': 250, 'solver': 'lbfgs', 'fitness': 0.701}, {'activation': 'logistic', 'hidden_layer_sizes': (120, 51, 19), 'learning_rate': 'constant', 'max_iter': 240, 'solver': 'adam', 'fitness': 0.7005}, {'activation': 'logistic', 'hidden_layer_sizes': (120, 51, 19), 'learning_rate': 'constant', 'max_iter': 240, 'solver': 'adam', 'fitness': 0.7}, {'activation': 'logistic', 'hidden_layer_sizes': (120, 51, 19), 'learning_rate': 'constant', 'max_iter': 240, 'solver': 'adam', 'fitness': 0.7}, {'activation': 'logistic', 'hidden_layer_sizes': (199, 67, 41), 'learning_rate': 'adaptive', 'max_iter': 187, 'solver': 'lbfgs', 'fitness': 0.6995}, {'activation': 'logistic', 'hidden_layer_sizes': (132, 99, 14), 'learning_rate': 'constant', 'max_iter': 136, 'solver': 'lbfgs', 'fitness': 0.6995}, {'activation': 'logistic', 'hidden_layer_sizes': (120, 51, 19), 'learning_rate': 'constant', 'max_iter': 240, 'solver': 'adam', 'fitness': 0.6995}, {'activation': 'relu', 'hidden_layer_sizes': (124, 71, 19), 'learning_rate': 'constant', 'max_iter': 250, 'solver': 'sgd', 'fitness': 0.699}, {'activation': 'logistic', 'hidden_layer_sizes': (120, 71, 14), 'learning_rate': 'constant', 'max_iter': 250, 'solver': 'adam', 'fitness': 0.698}, {'activation': 'logistic', 'hidden_layer_sizes': (199, 67, 19), 'learning_rate': 'invscaling', 'max_iter': 187, 'solver': 'adam', 'fitness': 0.698}, {'activation': 'tanh', 'solver': 'sgd', 'learning_rate': 'adaptive', 'hidden_layer_sizes': (112, 66, 34), 'max_iter': 141, 'fitness': 0.6975}, {'activation': 'tanh', 'solver': 'sgd', 'learning_rate': 'constant', 'hidden_layer_sizes': (188, 70, 38), 'max_iter': 118, 'fitness': 0.697}, {'activation': 'logistic', 'hidden_layer_sizes': (199, 67, 41), 'learning_rate': 'adaptive', 'max_iter': 187, 'solver': 'lbfgs', 'fitness': 0.697}, {'activation': 'logistic', 'solver': 'adam', 'learning_rate': 'invscaling', 'hidden_layer_sizes': (196, 65, 14), 'max_iter': 184, 'fitness': 0.696}, {'activation': 'logistic', 'hidden_layer_sizes': (132, 99, 14), 'learning_rate': 'adaptive', 'max_iter': 184, 'solver': 'adam', 'fitness': 0.696}, {'activation': 'relu', 'hidden_layer_sizes': (124, 71, 14), 'learning_rate': 'adaptive', 'max_iter': 250, 'solver': 'sgd', 'fitness': 0.696}, {'activation': 'relu', 'solver': 'sgd', 'learning_rate': 'adaptive', 'hidden_layer_sizes': (158, 55, 30), 'max_iter': 149, 'fitness': 0.695}, {'activation': 'logistic', 'hidden_layer_sizes': (120, 67, 14), 'learning_rate': 'adaptive', 'max_iter': 136, 'solver': 'lbfgs', 'fitness': 0.695}, {'activation': 'logistic', 'hidden_layer_sizes': (132, 99, 14), 'learning_rate': 'constant', 'max_iter': 136, 'solver': 'lbfgs', 'fitness': 0.694}, {'activation': 'logistic', 'hidden_layer_sizes': (124, 51, 14), 'learning_rate': 'constant', 'max_iter': 240, 'solver': 'adam', 'fitness': 0.6935}]\n",
            "generation: \n",
            "15\n"
          ],
          "name": "stdout"
        },
        {
          "output_type": "stream",
          "text": [
            "/usr/local/lib/python3.7/dist-packages/sklearn/neural_network/_multilayer_perceptron.py:470: ConvergenceWarning: lbfgs failed to converge (status=1):\n",
            "STOP: TOTAL NO. of ITERATIONS REACHED LIMIT.\n",
            "\n",
            "Increase the number of iterations (max_iter) or scale the data as shown in:\n",
            "    https://scikit-learn.org/stable/modules/preprocessing.html\n",
            "  self.n_iter_ = _check_optimize_result(\"lbfgs\", opt_res, self.max_iter)\n",
            "/usr/local/lib/python3.7/dist-packages/sklearn/neural_network/_multilayer_perceptron.py:571: ConvergenceWarning: Stochastic Optimizer: Maximum iterations (250) reached and the optimization hasn't converged yet.\n",
            "  % self.max_iter, ConvergenceWarning)\n"
          ],
          "name": "stderr"
        },
        {
          "output_type": "stream",
          "text": [
            "[{'activation': 'logistic', 'solver': 'lbfgs', 'learning_rate': 'adaptive', 'hidden_layer_sizes': (118, 90, 31), 'max_iter': 237, 'fitness': 0.7085}, {'activation': 'relu', 'hidden_layer_sizes': (124, 71, 14), 'learning_rate': 'adaptive', 'max_iter': 250, 'solver': 'sgd', 'fitness': 0.7055}, {'activation': 'logistic', 'hidden_layer_sizes': (120, 99, 14), 'learning_rate': 'constant', 'max_iter': 136, 'solver': 'lbfgs', 'fitness': 0.705}, {'activation': 'logistic', 'hidden_layer_sizes': (120, 67, 41), 'learning_rate': 'adaptive', 'max_iter': 187, 'solver': 'lbfgs', 'fitness': 0.703}, {'activation': 'logistic', 'solver': 'adam', 'learning_rate': 'constant', 'hidden_layer_sizes': (188, 99, 19), 'max_iter': 184, 'fitness': 0.7025}, {'activation': 'logistic', 'solver': 'adam', 'learning_rate': 'constant', 'hidden_layer_sizes': (158, 82, 14), 'max_iter': 192, 'fitness': 0.7015}, {'activation': 'logistic', 'solver': 'lbfgs', 'learning_rate': 'adaptive', 'hidden_layer_sizes': (199, 67, 41), 'max_iter': 187, 'fitness': 0.7015}, {'activation': 'relu', 'hidden_layer_sizes': (124, 71, 14), 'learning_rate': 'adaptive', 'max_iter': 250, 'solver': 'sgd', 'fitness': 0.7015}, {'activation': 'logistic', 'solver': 'lbfgs', 'learning_rate': 'constant', 'hidden_layer_sizes': (124, 83, 42), 'max_iter': 250, 'fitness': 0.701}, {'activation': 'logistic', 'solver': 'lbfgs', 'learning_rate': 'adaptive', 'hidden_layer_sizes': (132, 71, 14), 'max_iter': 136, 'fitness': 0.701}, {'activation': 'logistic', 'hidden_layer_sizes': (124, 65, 14), 'learning_rate': 'constant', 'max_iter': 250, 'solver': 'lbfgs', 'fitness': 0.701}, {'activation': 'logistic', 'hidden_layer_sizes': (120, 51, 19), 'learning_rate': 'constant', 'max_iter': 240, 'solver': 'adam', 'fitness': 0.7005}, {'activation': 'logistic', 'hidden_layer_sizes': (120, 51, 19), 'learning_rate': 'constant', 'max_iter': 240, 'solver': 'adam', 'fitness': 0.7}, {'activation': 'logistic', 'hidden_layer_sizes': (120, 51, 19), 'learning_rate': 'constant', 'max_iter': 240, 'solver': 'adam', 'fitness': 0.7}, {'activation': 'logistic', 'hidden_layer_sizes': (199, 67, 41), 'learning_rate': 'adaptive', 'max_iter': 187, 'solver': 'lbfgs', 'fitness': 0.6995}, {'activation': 'logistic', 'hidden_layer_sizes': (132, 99, 14), 'learning_rate': 'constant', 'max_iter': 136, 'solver': 'lbfgs', 'fitness': 0.6995}, {'activation': 'logistic', 'hidden_layer_sizes': (120, 51, 19), 'learning_rate': 'constant', 'max_iter': 240, 'solver': 'adam', 'fitness': 0.6995}, {'activation': 'relu', 'hidden_layer_sizes': (124, 71, 19), 'learning_rate': 'constant', 'max_iter': 250, 'solver': 'sgd', 'fitness': 0.699}, {'activation': 'logistic', 'hidden_layer_sizes': (120, 71, 14), 'learning_rate': 'constant', 'max_iter': 250, 'solver': 'adam', 'fitness': 0.698}, {'activation': 'logistic', 'hidden_layer_sizes': (199, 67, 19), 'learning_rate': 'invscaling', 'max_iter': 187, 'solver': 'adam', 'fitness': 0.698}, {'activation': 'tanh', 'solver': 'sgd', 'learning_rate': 'adaptive', 'hidden_layer_sizes': (112, 66, 34), 'max_iter': 141, 'fitness': 0.6975}, {'activation': 'tanh', 'solver': 'sgd', 'learning_rate': 'constant', 'hidden_layer_sizes': (188, 70, 38), 'max_iter': 118, 'fitness': 0.697}, {'activation': 'logistic', 'hidden_layer_sizes': (199, 67, 41), 'learning_rate': 'adaptive', 'max_iter': 187, 'solver': 'lbfgs', 'fitness': 0.697}, {'activation': 'logistic', 'solver': 'adam', 'learning_rate': 'invscaling', 'hidden_layer_sizes': (196, 65, 14), 'max_iter': 184, 'fitness': 0.696}, {'activation': 'logistic', 'hidden_layer_sizes': (132, 99, 14), 'learning_rate': 'adaptive', 'max_iter': 184, 'solver': 'adam', 'fitness': 0.696}, {'activation': 'relu', 'hidden_layer_sizes': (124, 71, 14), 'learning_rate': 'adaptive', 'max_iter': 250, 'solver': 'sgd', 'fitness': 0.696}, {'activation': 'relu', 'solver': 'sgd', 'learning_rate': 'adaptive', 'hidden_layer_sizes': (158, 55, 30), 'max_iter': 149, 'fitness': 0.695}, {'activation': 'logistic', 'hidden_layer_sizes': (120, 67, 14), 'learning_rate': 'adaptive', 'max_iter': 136, 'solver': 'lbfgs', 'fitness': 0.695}, {'activation': 'logistic', 'hidden_layer_sizes': (118, 90, 31), 'learning_rate': 'constant', 'max_iter': 250, 'solver': 'lbfgs', 'fitness': 0.6945}, {'activation': 'logistic', 'hidden_layer_sizes': (132, 99, 14), 'learning_rate': 'constant', 'max_iter': 136, 'solver': 'lbfgs', 'fitness': 0.694}]\n",
            "generation: \n",
            "16\n"
          ],
          "name": "stdout"
        },
        {
          "output_type": "stream",
          "text": [
            "/usr/local/lib/python3.7/dist-packages/sklearn/neural_network/_multilayer_perceptron.py:571: ConvergenceWarning: Stochastic Optimizer: Maximum iterations (192) reached and the optimization hasn't converged yet.\n",
            "  % self.max_iter, ConvergenceWarning)\n",
            "/usr/local/lib/python3.7/dist-packages/sklearn/neural_network/_multilayer_perceptron.py:571: ConvergenceWarning: Stochastic Optimizer: Maximum iterations (240) reached and the optimization hasn't converged yet.\n",
            "  % self.max_iter, ConvergenceWarning)\n"
          ],
          "name": "stderr"
        },
        {
          "output_type": "stream",
          "text": [
            "[{'activation': 'logistic', 'solver': 'lbfgs', 'learning_rate': 'adaptive', 'hidden_layer_sizes': (118, 90, 31), 'max_iter': 237, 'fitness': 0.7085}, {'activation': 'relu', 'hidden_layer_sizes': (124, 71, 14), 'learning_rate': 'adaptive', 'max_iter': 250, 'solver': 'sgd', 'fitness': 0.7055}, {'activation': 'logistic', 'hidden_layer_sizes': (120, 99, 14), 'learning_rate': 'constant', 'max_iter': 136, 'solver': 'lbfgs', 'fitness': 0.705}, {'activation': 'logistic', 'hidden_layer_sizes': (120, 67, 41), 'learning_rate': 'adaptive', 'max_iter': 187, 'solver': 'lbfgs', 'fitness': 0.703}, {'activation': 'logistic', 'hidden_layer_sizes': (158, 51, 14), 'learning_rate': 'constant', 'max_iter': 192, 'solver': 'adam', 'fitness': 0.703}, {'activation': 'logistic', 'solver': 'adam', 'learning_rate': 'constant', 'hidden_layer_sizes': (188, 99, 19), 'max_iter': 184, 'fitness': 0.7025}, {'activation': 'logistic', 'solver': 'adam', 'learning_rate': 'constant', 'hidden_layer_sizes': (158, 82, 14), 'max_iter': 192, 'fitness': 0.7015}, {'activation': 'logistic', 'solver': 'lbfgs', 'learning_rate': 'adaptive', 'hidden_layer_sizes': (199, 67, 41), 'max_iter': 187, 'fitness': 0.7015}, {'activation': 'relu', 'hidden_layer_sizes': (124, 71, 14), 'learning_rate': 'adaptive', 'max_iter': 250, 'solver': 'sgd', 'fitness': 0.7015}, {'activation': 'logistic', 'solver': 'lbfgs', 'learning_rate': 'constant', 'hidden_layer_sizes': (124, 83, 42), 'max_iter': 250, 'fitness': 0.701}, {'activation': 'logistic', 'solver': 'lbfgs', 'learning_rate': 'adaptive', 'hidden_layer_sizes': (132, 71, 14), 'max_iter': 136, 'fitness': 0.701}, {'activation': 'logistic', 'hidden_layer_sizes': (124, 65, 14), 'learning_rate': 'constant', 'max_iter': 250, 'solver': 'lbfgs', 'fitness': 0.701}, {'activation': 'logistic', 'hidden_layer_sizes': (120, 51, 19), 'learning_rate': 'constant', 'max_iter': 240, 'solver': 'adam', 'fitness': 0.7005}, {'activation': 'logistic', 'hidden_layer_sizes': (120, 51, 19), 'learning_rate': 'constant', 'max_iter': 240, 'solver': 'adam', 'fitness': 0.7}, {'activation': 'logistic', 'hidden_layer_sizes': (120, 51, 19), 'learning_rate': 'constant', 'max_iter': 240, 'solver': 'adam', 'fitness': 0.7}, {'activation': 'logistic', 'hidden_layer_sizes': (199, 67, 41), 'learning_rate': 'adaptive', 'max_iter': 187, 'solver': 'lbfgs', 'fitness': 0.6995}, {'activation': 'logistic', 'hidden_layer_sizes': (132, 99, 14), 'learning_rate': 'constant', 'max_iter': 136, 'solver': 'lbfgs', 'fitness': 0.6995}, {'activation': 'logistic', 'hidden_layer_sizes': (120, 51, 19), 'learning_rate': 'constant', 'max_iter': 240, 'solver': 'adam', 'fitness': 0.6995}, {'activation': 'logistic', 'hidden_layer_sizes': (120, 51, 14), 'learning_rate': 'constant', 'max_iter': 240, 'solver': 'adam', 'fitness': 0.6995}, {'activation': 'relu', 'hidden_layer_sizes': (124, 71, 19), 'learning_rate': 'constant', 'max_iter': 250, 'solver': 'sgd', 'fitness': 0.699}, {'activation': 'logistic', 'hidden_layer_sizes': (120, 71, 14), 'learning_rate': 'constant', 'max_iter': 250, 'solver': 'adam', 'fitness': 0.698}, {'activation': 'logistic', 'hidden_layer_sizes': (199, 67, 19), 'learning_rate': 'invscaling', 'max_iter': 187, 'solver': 'adam', 'fitness': 0.698}, {'activation': 'tanh', 'solver': 'sgd', 'learning_rate': 'adaptive', 'hidden_layer_sizes': (112, 66, 34), 'max_iter': 141, 'fitness': 0.6975}, {'activation': 'tanh', 'solver': 'sgd', 'learning_rate': 'constant', 'hidden_layer_sizes': (188, 70, 38), 'max_iter': 118, 'fitness': 0.697}, {'activation': 'logistic', 'hidden_layer_sizes': (199, 67, 41), 'learning_rate': 'adaptive', 'max_iter': 187, 'solver': 'lbfgs', 'fitness': 0.697}, {'activation': 'logistic', 'solver': 'adam', 'learning_rate': 'invscaling', 'hidden_layer_sizes': (196, 65, 14), 'max_iter': 184, 'fitness': 0.696}, {'activation': 'logistic', 'hidden_layer_sizes': (132, 99, 14), 'learning_rate': 'adaptive', 'max_iter': 184, 'solver': 'adam', 'fitness': 0.696}, {'activation': 'relu', 'hidden_layer_sizes': (124, 71, 14), 'learning_rate': 'adaptive', 'max_iter': 250, 'solver': 'sgd', 'fitness': 0.696}, {'activation': 'relu', 'solver': 'sgd', 'learning_rate': 'adaptive', 'hidden_layer_sizes': (158, 55, 30), 'max_iter': 149, 'fitness': 0.695}, {'activation': 'logistic', 'hidden_layer_sizes': (120, 67, 14), 'learning_rate': 'adaptive', 'max_iter': 136, 'solver': 'lbfgs', 'fitness': 0.695}]\n",
            "generation: \n",
            "17\n"
          ],
          "name": "stdout"
        },
        {
          "output_type": "stream",
          "text": [
            "/usr/local/lib/python3.7/dist-packages/sklearn/neural_network/_multilayer_perceptron.py:470: ConvergenceWarning: lbfgs failed to converge (status=1):\n",
            "STOP: TOTAL NO. of ITERATIONS REACHED LIMIT.\n",
            "\n",
            "Increase the number of iterations (max_iter) or scale the data as shown in:\n",
            "    https://scikit-learn.org/stable/modules/preprocessing.html\n",
            "  self.n_iter_ = _check_optimize_result(\"lbfgs\", opt_res, self.max_iter)\n",
            "/usr/local/lib/python3.7/dist-packages/sklearn/neural_network/_multilayer_perceptron.py:470: ConvergenceWarning: lbfgs failed to converge (status=1):\n",
            "STOP: TOTAL NO. of ITERATIONS REACHED LIMIT.\n",
            "\n",
            "Increase the number of iterations (max_iter) or scale the data as shown in:\n",
            "    https://scikit-learn.org/stable/modules/preprocessing.html\n",
            "  self.n_iter_ = _check_optimize_result(\"lbfgs\", opt_res, self.max_iter)\n"
          ],
          "name": "stderr"
        },
        {
          "output_type": "stream",
          "text": [
            "[{'activation': 'logistic', 'solver': 'lbfgs', 'learning_rate': 'adaptive', 'hidden_layer_sizes': (118, 90, 31), 'max_iter': 237, 'fitness': 0.7085}, {'activation': 'logistic', 'hidden_layer_sizes': (132, 83, 14), 'learning_rate': 'constant', 'max_iter': 136, 'solver': 'lbfgs', 'fitness': 0.7075}, {'activation': 'relu', 'hidden_layer_sizes': (124, 71, 14), 'learning_rate': 'adaptive', 'max_iter': 250, 'solver': 'sgd', 'fitness': 0.7055}, {'activation': 'logistic', 'hidden_layer_sizes': (120, 99, 14), 'learning_rate': 'constant', 'max_iter': 136, 'solver': 'lbfgs', 'fitness': 0.705}, {'activation': 'logistic', 'hidden_layer_sizes': (132, 83, 42), 'learning_rate': 'adaptive', 'max_iter': 250, 'solver': 'lbfgs', 'fitness': 0.7045}, {'activation': 'logistic', 'hidden_layer_sizes': (120, 67, 41), 'learning_rate': 'adaptive', 'max_iter': 187, 'solver': 'lbfgs', 'fitness': 0.703}, {'activation': 'logistic', 'hidden_layer_sizes': (158, 51, 14), 'learning_rate': 'constant', 'max_iter': 192, 'solver': 'adam', 'fitness': 0.703}, {'activation': 'logistic', 'solver': 'adam', 'learning_rate': 'constant', 'hidden_layer_sizes': (188, 99, 19), 'max_iter': 184, 'fitness': 0.7025}, {'activation': 'logistic', 'solver': 'adam', 'learning_rate': 'constant', 'hidden_layer_sizes': (158, 82, 14), 'max_iter': 192, 'fitness': 0.7015}, {'activation': 'logistic', 'solver': 'lbfgs', 'learning_rate': 'adaptive', 'hidden_layer_sizes': (199, 67, 41), 'max_iter': 187, 'fitness': 0.7015}, {'activation': 'relu', 'hidden_layer_sizes': (124, 71, 14), 'learning_rate': 'adaptive', 'max_iter': 250, 'solver': 'sgd', 'fitness': 0.7015}, {'activation': 'logistic', 'solver': 'lbfgs', 'learning_rate': 'constant', 'hidden_layer_sizes': (124, 83, 42), 'max_iter': 250, 'fitness': 0.701}, {'activation': 'logistic', 'solver': 'lbfgs', 'learning_rate': 'adaptive', 'hidden_layer_sizes': (132, 71, 14), 'max_iter': 136, 'fitness': 0.701}, {'activation': 'logistic', 'hidden_layer_sizes': (124, 65, 14), 'learning_rate': 'constant', 'max_iter': 250, 'solver': 'lbfgs', 'fitness': 0.701}, {'activation': 'logistic', 'hidden_layer_sizes': (120, 51, 19), 'learning_rate': 'constant', 'max_iter': 240, 'solver': 'adam', 'fitness': 0.7005}, {'activation': 'logistic', 'hidden_layer_sizes': (120, 51, 19), 'learning_rate': 'constant', 'max_iter': 240, 'solver': 'adam', 'fitness': 0.7}, {'activation': 'logistic', 'hidden_layer_sizes': (120, 51, 19), 'learning_rate': 'constant', 'max_iter': 240, 'solver': 'adam', 'fitness': 0.7}, {'activation': 'logistic', 'hidden_layer_sizes': (199, 67, 41), 'learning_rate': 'adaptive', 'max_iter': 187, 'solver': 'lbfgs', 'fitness': 0.6995}, {'activation': 'logistic', 'hidden_layer_sizes': (132, 99, 14), 'learning_rate': 'constant', 'max_iter': 136, 'solver': 'lbfgs', 'fitness': 0.6995}, {'activation': 'logistic', 'hidden_layer_sizes': (120, 51, 19), 'learning_rate': 'constant', 'max_iter': 240, 'solver': 'adam', 'fitness': 0.6995}, {'activation': 'logistic', 'hidden_layer_sizes': (120, 51, 14), 'learning_rate': 'constant', 'max_iter': 240, 'solver': 'adam', 'fitness': 0.6995}, {'activation': 'relu', 'hidden_layer_sizes': (124, 71, 19), 'learning_rate': 'constant', 'max_iter': 250, 'solver': 'sgd', 'fitness': 0.699}, {'activation': 'logistic', 'hidden_layer_sizes': (120, 71, 14), 'learning_rate': 'constant', 'max_iter': 250, 'solver': 'adam', 'fitness': 0.698}, {'activation': 'logistic', 'hidden_layer_sizes': (199, 67, 19), 'learning_rate': 'invscaling', 'max_iter': 187, 'solver': 'adam', 'fitness': 0.698}, {'activation': 'tanh', 'solver': 'sgd', 'learning_rate': 'adaptive', 'hidden_layer_sizes': (112, 66, 34), 'max_iter': 141, 'fitness': 0.6975}, {'activation': 'tanh', 'solver': 'sgd', 'learning_rate': 'constant', 'hidden_layer_sizes': (188, 70, 38), 'max_iter': 118, 'fitness': 0.697}, {'activation': 'logistic', 'hidden_layer_sizes': (199, 67, 41), 'learning_rate': 'adaptive', 'max_iter': 187, 'solver': 'lbfgs', 'fitness': 0.697}, {'activation': 'logistic', 'solver': 'adam', 'learning_rate': 'invscaling', 'hidden_layer_sizes': (196, 65, 14), 'max_iter': 184, 'fitness': 0.696}, {'activation': 'logistic', 'hidden_layer_sizes': (132, 99, 14), 'learning_rate': 'adaptive', 'max_iter': 184, 'solver': 'adam', 'fitness': 0.696}, {'activation': 'relu', 'hidden_layer_sizes': (124, 71, 14), 'learning_rate': 'adaptive', 'max_iter': 250, 'solver': 'sgd', 'fitness': 0.696}]\n",
            "generation: \n",
            "18\n"
          ],
          "name": "stdout"
        },
        {
          "output_type": "stream",
          "text": [
            "/usr/local/lib/python3.7/dist-packages/sklearn/neural_network/_multilayer_perceptron.py:571: ConvergenceWarning: Stochastic Optimizer: Maximum iterations (250) reached and the optimization hasn't converged yet.\n",
            "  % self.max_iter, ConvergenceWarning)\n"
          ],
          "name": "stderr"
        },
        {
          "output_type": "stream",
          "text": [
            "[{'activation': 'logistic', 'solver': 'lbfgs', 'learning_rate': 'adaptive', 'hidden_layer_sizes': (118, 90, 31), 'max_iter': 237, 'fitness': 0.7085}, {'activation': 'logistic', 'hidden_layer_sizes': (132, 83, 14), 'learning_rate': 'constant', 'max_iter': 136, 'solver': 'lbfgs', 'fitness': 0.7075}, {'activation': 'relu', 'hidden_layer_sizes': (124, 71, 14), 'learning_rate': 'adaptive', 'max_iter': 250, 'solver': 'sgd', 'fitness': 0.7055}, {'activation': 'logistic', 'hidden_layer_sizes': (120, 99, 14), 'learning_rate': 'constant', 'max_iter': 136, 'solver': 'lbfgs', 'fitness': 0.705}, {'activation': 'logistic', 'hidden_layer_sizes': (132, 83, 42), 'learning_rate': 'adaptive', 'max_iter': 250, 'solver': 'lbfgs', 'fitness': 0.7045}, {'activation': 'relu', 'hidden_layer_sizes': (124, 65, 14), 'learning_rate': 'constant', 'max_iter': 250, 'solver': 'sgd', 'fitness': 0.7035}, {'activation': 'logistic', 'hidden_layer_sizes': (120, 67, 41), 'learning_rate': 'adaptive', 'max_iter': 187, 'solver': 'lbfgs', 'fitness': 0.703}, {'activation': 'logistic', 'hidden_layer_sizes': (158, 51, 14), 'learning_rate': 'constant', 'max_iter': 192, 'solver': 'adam', 'fitness': 0.703}, {'activation': 'logistic', 'solver': 'adam', 'learning_rate': 'constant', 'hidden_layer_sizes': (188, 99, 19), 'max_iter': 184, 'fitness': 0.7025}, {'activation': 'logistic', 'solver': 'adam', 'learning_rate': 'constant', 'hidden_layer_sizes': (158, 82, 14), 'max_iter': 192, 'fitness': 0.7015}, {'activation': 'logistic', 'solver': 'lbfgs', 'learning_rate': 'adaptive', 'hidden_layer_sizes': (199, 67, 41), 'max_iter': 187, 'fitness': 0.7015}, {'activation': 'relu', 'hidden_layer_sizes': (124, 71, 14), 'learning_rate': 'adaptive', 'max_iter': 250, 'solver': 'sgd', 'fitness': 0.7015}, {'activation': 'logistic', 'solver': 'lbfgs', 'learning_rate': 'constant', 'hidden_layer_sizes': (124, 83, 42), 'max_iter': 250, 'fitness': 0.701}, {'activation': 'logistic', 'solver': 'lbfgs', 'learning_rate': 'adaptive', 'hidden_layer_sizes': (132, 71, 14), 'max_iter': 136, 'fitness': 0.701}, {'activation': 'logistic', 'hidden_layer_sizes': (124, 65, 14), 'learning_rate': 'constant', 'max_iter': 250, 'solver': 'lbfgs', 'fitness': 0.701}, {'activation': 'logistic', 'hidden_layer_sizes': (120, 51, 19), 'learning_rate': 'constant', 'max_iter': 240, 'solver': 'adam', 'fitness': 0.7005}, {'activation': 'logistic', 'hidden_layer_sizes': (120, 51, 19), 'learning_rate': 'constant', 'max_iter': 240, 'solver': 'adam', 'fitness': 0.7}, {'activation': 'logistic', 'hidden_layer_sizes': (120, 51, 19), 'learning_rate': 'constant', 'max_iter': 240, 'solver': 'adam', 'fitness': 0.7}, {'activation': 'logistic', 'hidden_layer_sizes': (199, 67, 41), 'learning_rate': 'adaptive', 'max_iter': 187, 'solver': 'lbfgs', 'fitness': 0.6995}, {'activation': 'logistic', 'hidden_layer_sizes': (132, 99, 14), 'learning_rate': 'constant', 'max_iter': 136, 'solver': 'lbfgs', 'fitness': 0.6995}, {'activation': 'logistic', 'hidden_layer_sizes': (120, 51, 19), 'learning_rate': 'constant', 'max_iter': 240, 'solver': 'adam', 'fitness': 0.6995}, {'activation': 'logistic', 'hidden_layer_sizes': (120, 51, 14), 'learning_rate': 'constant', 'max_iter': 240, 'solver': 'adam', 'fitness': 0.6995}, {'activation': 'relu', 'hidden_layer_sizes': (124, 71, 19), 'learning_rate': 'constant', 'max_iter': 250, 'solver': 'sgd', 'fitness': 0.699}, {'activation': 'logistic', 'hidden_layer_sizes': (120, 71, 14), 'learning_rate': 'constant', 'max_iter': 250, 'solver': 'adam', 'fitness': 0.698}, {'activation': 'logistic', 'hidden_layer_sizes': (199, 67, 19), 'learning_rate': 'invscaling', 'max_iter': 187, 'solver': 'adam', 'fitness': 0.698}, {'activation': 'tanh', 'solver': 'sgd', 'learning_rate': 'adaptive', 'hidden_layer_sizes': (112, 66, 34), 'max_iter': 141, 'fitness': 0.6975}, {'activation': 'tanh', 'solver': 'sgd', 'learning_rate': 'constant', 'hidden_layer_sizes': (188, 70, 38), 'max_iter': 118, 'fitness': 0.697}, {'activation': 'logistic', 'hidden_layer_sizes': (199, 67, 41), 'learning_rate': 'adaptive', 'max_iter': 187, 'solver': 'lbfgs', 'fitness': 0.697}, {'activation': 'logistic', 'solver': 'adam', 'learning_rate': 'invscaling', 'hidden_layer_sizes': (196, 65, 14), 'max_iter': 184, 'fitness': 0.696}, {'activation': 'logistic', 'hidden_layer_sizes': (132, 99, 14), 'learning_rate': 'adaptive', 'max_iter': 184, 'solver': 'adam', 'fitness': 0.696}]\n",
            "generation: \n",
            "19\n"
          ],
          "name": "stdout"
        },
        {
          "output_type": "stream",
          "text": [
            "/usr/local/lib/python3.7/dist-packages/sklearn/neural_network/_multilayer_perceptron.py:571: ConvergenceWarning: Stochastic Optimizer: Maximum iterations (250) reached and the optimization hasn't converged yet.\n",
            "  % self.max_iter, ConvergenceWarning)\n",
            "/usr/local/lib/python3.7/dist-packages/sklearn/neural_network/_multilayer_perceptron.py:571: ConvergenceWarning: Stochastic Optimizer: Maximum iterations (192) reached and the optimization hasn't converged yet.\n",
            "  % self.max_iter, ConvergenceWarning)\n"
          ],
          "name": "stderr"
        },
        {
          "output_type": "stream",
          "text": [
            "[{'activation': 'logistic', 'solver': 'lbfgs', 'learning_rate': 'adaptive', 'hidden_layer_sizes': (118, 90, 31), 'max_iter': 237, 'fitness': 0.7085}, {'activation': 'logistic', 'hidden_layer_sizes': (132, 83, 14), 'learning_rate': 'constant', 'max_iter': 136, 'solver': 'lbfgs', 'fitness': 0.7075}, {'activation': 'relu', 'hidden_layer_sizes': (124, 71, 14), 'learning_rate': 'adaptive', 'max_iter': 250, 'solver': 'sgd', 'fitness': 0.7055}, {'activation': 'logistic', 'hidden_layer_sizes': (120, 99, 14), 'learning_rate': 'constant', 'max_iter': 136, 'solver': 'lbfgs', 'fitness': 0.705}, {'activation': 'logistic', 'hidden_layer_sizes': (132, 83, 42), 'learning_rate': 'adaptive', 'max_iter': 250, 'solver': 'lbfgs', 'fitness': 0.7045}, {'activation': 'relu', 'hidden_layer_sizes': (124, 65, 14), 'learning_rate': 'constant', 'max_iter': 250, 'solver': 'sgd', 'fitness': 0.7035}, {'activation': 'logistic', 'hidden_layer_sizes': (120, 67, 41), 'learning_rate': 'adaptive', 'max_iter': 187, 'solver': 'lbfgs', 'fitness': 0.703}, {'activation': 'logistic', 'hidden_layer_sizes': (158, 51, 14), 'learning_rate': 'constant', 'max_iter': 192, 'solver': 'adam', 'fitness': 0.703}, {'activation': 'logistic', 'solver': 'adam', 'learning_rate': 'constant', 'hidden_layer_sizes': (188, 99, 19), 'max_iter': 184, 'fitness': 0.7025}, {'activation': 'logistic', 'solver': 'adam', 'learning_rate': 'constant', 'hidden_layer_sizes': (158, 82, 14), 'max_iter': 192, 'fitness': 0.7015}, {'activation': 'logistic', 'solver': 'lbfgs', 'learning_rate': 'adaptive', 'hidden_layer_sizes': (199, 67, 41), 'max_iter': 187, 'fitness': 0.7015}, {'activation': 'relu', 'hidden_layer_sizes': (124, 71, 14), 'learning_rate': 'adaptive', 'max_iter': 250, 'solver': 'sgd', 'fitness': 0.7015}, {'activation': 'logistic', 'solver': 'lbfgs', 'learning_rate': 'constant', 'hidden_layer_sizes': (124, 83, 42), 'max_iter': 250, 'fitness': 0.701}, {'activation': 'logistic', 'solver': 'lbfgs', 'learning_rate': 'adaptive', 'hidden_layer_sizes': (132, 71, 14), 'max_iter': 136, 'fitness': 0.701}, {'activation': 'logistic', 'hidden_layer_sizes': (124, 65, 14), 'learning_rate': 'constant', 'max_iter': 250, 'solver': 'lbfgs', 'fitness': 0.701}, {'activation': 'logistic', 'hidden_layer_sizes': (120, 51, 19), 'learning_rate': 'constant', 'max_iter': 240, 'solver': 'adam', 'fitness': 0.7005}, {'activation': 'logistic', 'hidden_layer_sizes': (120, 51, 19), 'learning_rate': 'constant', 'max_iter': 240, 'solver': 'adam', 'fitness': 0.7}, {'activation': 'logistic', 'hidden_layer_sizes': (120, 51, 19), 'learning_rate': 'constant', 'max_iter': 240, 'solver': 'adam', 'fitness': 0.7}, {'activation': 'logistic', 'hidden_layer_sizes': (199, 67, 41), 'learning_rate': 'adaptive', 'max_iter': 187, 'solver': 'lbfgs', 'fitness': 0.6995}, {'activation': 'logistic', 'hidden_layer_sizes': (132, 99, 14), 'learning_rate': 'constant', 'max_iter': 136, 'solver': 'lbfgs', 'fitness': 0.6995}, {'activation': 'logistic', 'hidden_layer_sizes': (120, 51, 19), 'learning_rate': 'constant', 'max_iter': 240, 'solver': 'adam', 'fitness': 0.6995}, {'activation': 'logistic', 'hidden_layer_sizes': (120, 51, 14), 'learning_rate': 'constant', 'max_iter': 240, 'solver': 'adam', 'fitness': 0.6995}, {'activation': 'relu', 'hidden_layer_sizes': (124, 71, 19), 'learning_rate': 'constant', 'max_iter': 250, 'solver': 'sgd', 'fitness': 0.699}, {'activation': 'logistic', 'hidden_layer_sizes': (120, 71, 14), 'learning_rate': 'constant', 'max_iter': 250, 'solver': 'adam', 'fitness': 0.698}, {'activation': 'logistic', 'hidden_layer_sizes': (199, 67, 19), 'learning_rate': 'invscaling', 'max_iter': 187, 'solver': 'adam', 'fitness': 0.698}, {'activation': 'tanh', 'solver': 'sgd', 'learning_rate': 'adaptive', 'hidden_layer_sizes': (112, 66, 34), 'max_iter': 141, 'fitness': 0.6975}, {'activation': 'tanh', 'solver': 'sgd', 'learning_rate': 'constant', 'hidden_layer_sizes': (188, 70, 38), 'max_iter': 118, 'fitness': 0.697}, {'activation': 'logistic', 'hidden_layer_sizes': (199, 67, 41), 'learning_rate': 'adaptive', 'max_iter': 187, 'solver': 'lbfgs', 'fitness': 0.697}, {'activation': 'logistic', 'hidden_layer_sizes': (158, 71, 14), 'learning_rate': 'constant', 'max_iter': 192, 'solver': 'adam', 'fitness': 0.697}, {'activation': 'logistic', 'solver': 'adam', 'learning_rate': 'invscaling', 'hidden_layer_sizes': (196, 65, 14), 'max_iter': 184, 'fitness': 0.696}]\n",
            "generation: \n",
            "20\n"
          ],
          "name": "stdout"
        },
        {
          "output_type": "stream",
          "text": [
            "/usr/local/lib/python3.7/dist-packages/sklearn/neural_network/_multilayer_perceptron.py:470: ConvergenceWarning: lbfgs failed to converge (status=1):\n",
            "STOP: TOTAL NO. of ITERATIONS REACHED LIMIT.\n",
            "\n",
            "Increase the number of iterations (max_iter) or scale the data as shown in:\n",
            "    https://scikit-learn.org/stable/modules/preprocessing.html\n",
            "  self.n_iter_ = _check_optimize_result(\"lbfgs\", opt_res, self.max_iter)\n",
            "/usr/local/lib/python3.7/dist-packages/sklearn/neural_network/_multilayer_perceptron.py:470: ConvergenceWarning: lbfgs failed to converge (status=1):\n",
            "STOP: TOTAL NO. of ITERATIONS REACHED LIMIT.\n",
            "\n",
            "Increase the number of iterations (max_iter) or scale the data as shown in:\n",
            "    https://scikit-learn.org/stable/modules/preprocessing.html\n",
            "  self.n_iter_ = _check_optimize_result(\"lbfgs\", opt_res, self.max_iter)\n"
          ],
          "name": "stderr"
        },
        {
          "output_type": "stream",
          "text": [
            "[{'activation': 'logistic', 'solver': 'lbfgs', 'learning_rate': 'adaptive', 'hidden_layer_sizes': (118, 90, 31), 'max_iter': 237, 'fitness': 0.7085}, {'activation': 'logistic', 'hidden_layer_sizes': (132, 83, 14), 'learning_rate': 'constant', 'max_iter': 136, 'solver': 'lbfgs', 'fitness': 0.7075}, {'activation': 'relu', 'hidden_layer_sizes': (124, 71, 14), 'learning_rate': 'adaptive', 'max_iter': 250, 'solver': 'sgd', 'fitness': 0.7055}, {'activation': 'logistic', 'hidden_layer_sizes': (120, 99, 14), 'learning_rate': 'constant', 'max_iter': 136, 'solver': 'lbfgs', 'fitness': 0.705}, {'activation': 'logistic', 'hidden_layer_sizes': (132, 83, 42), 'learning_rate': 'adaptive', 'max_iter': 250, 'solver': 'lbfgs', 'fitness': 0.7045}, {'activation': 'relu', 'hidden_layer_sizes': (124, 65, 14), 'learning_rate': 'constant', 'max_iter': 250, 'solver': 'sgd', 'fitness': 0.7035}, {'activation': 'logistic', 'hidden_layer_sizes': (120, 67, 41), 'learning_rate': 'adaptive', 'max_iter': 187, 'solver': 'lbfgs', 'fitness': 0.703}, {'activation': 'logistic', 'hidden_layer_sizes': (158, 51, 14), 'learning_rate': 'constant', 'max_iter': 192, 'solver': 'adam', 'fitness': 0.703}, {'activation': 'logistic', 'solver': 'adam', 'learning_rate': 'constant', 'hidden_layer_sizes': (188, 99, 19), 'max_iter': 184, 'fitness': 0.7025}, {'activation': 'logistic', 'solver': 'adam', 'learning_rate': 'constant', 'hidden_layer_sizes': (158, 82, 14), 'max_iter': 192, 'fitness': 0.7015}, {'activation': 'logistic', 'solver': 'lbfgs', 'learning_rate': 'adaptive', 'hidden_layer_sizes': (199, 67, 41), 'max_iter': 187, 'fitness': 0.7015}, {'activation': 'relu', 'hidden_layer_sizes': (124, 71, 14), 'learning_rate': 'adaptive', 'max_iter': 250, 'solver': 'sgd', 'fitness': 0.7015}, {'activation': 'logistic', 'solver': 'lbfgs', 'learning_rate': 'constant', 'hidden_layer_sizes': (124, 83, 42), 'max_iter': 250, 'fitness': 0.701}, {'activation': 'logistic', 'solver': 'lbfgs', 'learning_rate': 'adaptive', 'hidden_layer_sizes': (132, 71, 14), 'max_iter': 136, 'fitness': 0.701}, {'activation': 'logistic', 'hidden_layer_sizes': (124, 65, 14), 'learning_rate': 'constant', 'max_iter': 250, 'solver': 'lbfgs', 'fitness': 0.701}, {'activation': 'logistic', 'hidden_layer_sizes': (120, 51, 19), 'learning_rate': 'constant', 'max_iter': 240, 'solver': 'adam', 'fitness': 0.7005}, {'activation': 'logistic', 'hidden_layer_sizes': (120, 51, 19), 'learning_rate': 'constant', 'max_iter': 240, 'solver': 'adam', 'fitness': 0.7}, {'activation': 'logistic', 'hidden_layer_sizes': (120, 51, 19), 'learning_rate': 'constant', 'max_iter': 240, 'solver': 'adam', 'fitness': 0.7}, {'activation': 'logistic', 'hidden_layer_sizes': (199, 67, 41), 'learning_rate': 'adaptive', 'max_iter': 187, 'solver': 'lbfgs', 'fitness': 0.6995}, {'activation': 'logistic', 'hidden_layer_sizes': (132, 99, 14), 'learning_rate': 'constant', 'max_iter': 136, 'solver': 'lbfgs', 'fitness': 0.6995}, {'activation': 'logistic', 'hidden_layer_sizes': (120, 51, 19), 'learning_rate': 'constant', 'max_iter': 240, 'solver': 'adam', 'fitness': 0.6995}, {'activation': 'logistic', 'hidden_layer_sizes': (120, 51, 14), 'learning_rate': 'constant', 'max_iter': 240, 'solver': 'adam', 'fitness': 0.6995}, {'activation': 'relu', 'hidden_layer_sizes': (124, 71, 19), 'learning_rate': 'constant', 'max_iter': 250, 'solver': 'sgd', 'fitness': 0.699}, {'activation': 'logistic', 'hidden_layer_sizes': (132, 83, 14), 'learning_rate': 'constant', 'max_iter': 250, 'solver': 'lbfgs', 'fitness': 0.699}, {'activation': 'logistic', 'hidden_layer_sizes': (120, 71, 14), 'learning_rate': 'constant', 'max_iter': 250, 'solver': 'adam', 'fitness': 0.698}, {'activation': 'logistic', 'hidden_layer_sizes': (199, 67, 19), 'learning_rate': 'invscaling', 'max_iter': 187, 'solver': 'adam', 'fitness': 0.698}, {'activation': 'tanh', 'solver': 'sgd', 'learning_rate': 'adaptive', 'hidden_layer_sizes': (112, 66, 34), 'max_iter': 141, 'fitness': 0.6975}, {'activation': 'tanh', 'solver': 'sgd', 'learning_rate': 'constant', 'hidden_layer_sizes': (188, 70, 38), 'max_iter': 118, 'fitness': 0.697}, {'activation': 'logistic', 'hidden_layer_sizes': (199, 67, 41), 'learning_rate': 'adaptive', 'max_iter': 187, 'solver': 'lbfgs', 'fitness': 0.697}, {'activation': 'logistic', 'hidden_layer_sizes': (158, 71, 14), 'learning_rate': 'constant', 'max_iter': 192, 'solver': 'adam', 'fitness': 0.697}]\n",
            "generation: \n",
            "21\n"
          ],
          "name": "stdout"
        },
        {
          "output_type": "stream",
          "text": [
            "/usr/local/lib/python3.7/dist-packages/sklearn/neural_network/_multilayer_perceptron.py:470: ConvergenceWarning: lbfgs failed to converge (status=1):\n",
            "STOP: TOTAL NO. of ITERATIONS REACHED LIMIT.\n",
            "\n",
            "Increase the number of iterations (max_iter) or scale the data as shown in:\n",
            "    https://scikit-learn.org/stable/modules/preprocessing.html\n",
            "  self.n_iter_ = _check_optimize_result(\"lbfgs\", opt_res, self.max_iter)\n",
            "/usr/local/lib/python3.7/dist-packages/sklearn/neural_network/_multilayer_perceptron.py:571: ConvergenceWarning: Stochastic Optimizer: Maximum iterations (184) reached and the optimization hasn't converged yet.\n",
            "  % self.max_iter, ConvergenceWarning)\n"
          ],
          "name": "stderr"
        },
        {
          "output_type": "stream",
          "text": [
            "[{'activation': 'logistic', 'solver': 'lbfgs', 'learning_rate': 'adaptive', 'hidden_layer_sizes': (118, 90, 31), 'max_iter': 237, 'fitness': 0.7085}, {'activation': 'logistic', 'hidden_layer_sizes': (132, 83, 14), 'learning_rate': 'constant', 'max_iter': 136, 'solver': 'lbfgs', 'fitness': 0.7075}, {'activation': 'relu', 'hidden_layer_sizes': (124, 71, 14), 'learning_rate': 'adaptive', 'max_iter': 250, 'solver': 'sgd', 'fitness': 0.7055}, {'activation': 'logistic', 'hidden_layer_sizes': (120, 99, 14), 'learning_rate': 'constant', 'max_iter': 136, 'solver': 'lbfgs', 'fitness': 0.705}, {'activation': 'logistic', 'hidden_layer_sizes': (132, 83, 42), 'learning_rate': 'adaptive', 'max_iter': 250, 'solver': 'lbfgs', 'fitness': 0.7045}, {'activation': 'relu', 'hidden_layer_sizes': (124, 65, 14), 'learning_rate': 'constant', 'max_iter': 250, 'solver': 'sgd', 'fitness': 0.7035}, {'activation': 'logistic', 'hidden_layer_sizes': (120, 67, 41), 'learning_rate': 'adaptive', 'max_iter': 187, 'solver': 'lbfgs', 'fitness': 0.703}, {'activation': 'logistic', 'hidden_layer_sizes': (158, 51, 14), 'learning_rate': 'constant', 'max_iter': 192, 'solver': 'adam', 'fitness': 0.703}, {'activation': 'logistic', 'solver': 'adam', 'learning_rate': 'constant', 'hidden_layer_sizes': (188, 99, 19), 'max_iter': 184, 'fitness': 0.7025}, {'activation': 'logistic', 'solver': 'adam', 'learning_rate': 'constant', 'hidden_layer_sizes': (158, 82, 14), 'max_iter': 192, 'fitness': 0.7015}, {'activation': 'logistic', 'solver': 'lbfgs', 'learning_rate': 'adaptive', 'hidden_layer_sizes': (199, 67, 41), 'max_iter': 187, 'fitness': 0.7015}, {'activation': 'relu', 'hidden_layer_sizes': (124, 71, 14), 'learning_rate': 'adaptive', 'max_iter': 250, 'solver': 'sgd', 'fitness': 0.7015}, {'activation': 'logistic', 'solver': 'lbfgs', 'learning_rate': 'constant', 'hidden_layer_sizes': (124, 83, 42), 'max_iter': 250, 'fitness': 0.701}, {'activation': 'logistic', 'solver': 'lbfgs', 'learning_rate': 'adaptive', 'hidden_layer_sizes': (132, 71, 14), 'max_iter': 136, 'fitness': 0.701}, {'activation': 'logistic', 'hidden_layer_sizes': (124, 65, 14), 'learning_rate': 'constant', 'max_iter': 250, 'solver': 'lbfgs', 'fitness': 0.701}, {'activation': 'logistic', 'hidden_layer_sizes': (120, 51, 19), 'learning_rate': 'constant', 'max_iter': 240, 'solver': 'adam', 'fitness': 0.7005}, {'activation': 'logistic', 'hidden_layer_sizes': (120, 51, 19), 'learning_rate': 'constant', 'max_iter': 240, 'solver': 'adam', 'fitness': 0.7}, {'activation': 'logistic', 'hidden_layer_sizes': (120, 51, 19), 'learning_rate': 'constant', 'max_iter': 240, 'solver': 'adam', 'fitness': 0.7}, {'activation': 'logistic', 'hidden_layer_sizes': (199, 67, 41), 'learning_rate': 'adaptive', 'max_iter': 187, 'solver': 'lbfgs', 'fitness': 0.6995}, {'activation': 'logistic', 'hidden_layer_sizes': (132, 99, 14), 'learning_rate': 'constant', 'max_iter': 136, 'solver': 'lbfgs', 'fitness': 0.6995}, {'activation': 'logistic', 'hidden_layer_sizes': (120, 51, 19), 'learning_rate': 'constant', 'max_iter': 240, 'solver': 'adam', 'fitness': 0.6995}, {'activation': 'logistic', 'hidden_layer_sizes': (120, 51, 14), 'learning_rate': 'constant', 'max_iter': 240, 'solver': 'adam', 'fitness': 0.6995}, {'activation': 'relu', 'hidden_layer_sizes': (124, 71, 19), 'learning_rate': 'constant', 'max_iter': 250, 'solver': 'sgd', 'fitness': 0.699}, {'activation': 'logistic', 'hidden_layer_sizes': (132, 83, 14), 'learning_rate': 'constant', 'max_iter': 250, 'solver': 'lbfgs', 'fitness': 0.699}, {'activation': 'logistic', 'hidden_layer_sizes': (132, 99, 19), 'learning_rate': 'constant', 'max_iter': 184, 'solver': 'adam', 'fitness': 0.6985}, {'activation': 'logistic', 'hidden_layer_sizes': (120, 71, 14), 'learning_rate': 'constant', 'max_iter': 250, 'solver': 'adam', 'fitness': 0.698}, {'activation': 'logistic', 'hidden_layer_sizes': (199, 67, 19), 'learning_rate': 'invscaling', 'max_iter': 187, 'solver': 'adam', 'fitness': 0.698}, {'activation': 'tanh', 'solver': 'sgd', 'learning_rate': 'adaptive', 'hidden_layer_sizes': (112, 66, 34), 'max_iter': 141, 'fitness': 0.6975}, {'activation': 'tanh', 'solver': 'sgd', 'learning_rate': 'constant', 'hidden_layer_sizes': (188, 70, 38), 'max_iter': 118, 'fitness': 0.697}, {'activation': 'logistic', 'hidden_layer_sizes': (199, 67, 41), 'learning_rate': 'adaptive', 'max_iter': 187, 'solver': 'lbfgs', 'fitness': 0.697}]\n",
            "generation: \n",
            "22\n"
          ],
          "name": "stdout"
        },
        {
          "output_type": "stream",
          "text": [
            "/usr/local/lib/python3.7/dist-packages/sklearn/neural_network/_multilayer_perceptron.py:470: ConvergenceWarning: lbfgs failed to converge (status=1):\n",
            "STOP: TOTAL NO. of ITERATIONS REACHED LIMIT.\n",
            "\n",
            "Increase the number of iterations (max_iter) or scale the data as shown in:\n",
            "    https://scikit-learn.org/stable/modules/preprocessing.html\n",
            "  self.n_iter_ = _check_optimize_result(\"lbfgs\", opt_res, self.max_iter)\n"
          ],
          "name": "stderr"
        },
        {
          "output_type": "stream",
          "text": [
            "[{'activation': 'logistic', 'solver': 'lbfgs', 'learning_rate': 'adaptive', 'hidden_layer_sizes': (118, 90, 31), 'max_iter': 237, 'fitness': 0.7085}, {'activation': 'logistic', 'hidden_layer_sizes': (132, 83, 14), 'learning_rate': 'constant', 'max_iter': 136, 'solver': 'lbfgs', 'fitness': 0.7075}, {'activation': 'relu', 'hidden_layer_sizes': (124, 71, 14), 'learning_rate': 'adaptive', 'max_iter': 250, 'solver': 'sgd', 'fitness': 0.7055}, {'activation': 'logistic', 'hidden_layer_sizes': (120, 99, 14), 'learning_rate': 'constant', 'max_iter': 136, 'solver': 'lbfgs', 'fitness': 0.705}, {'activation': 'logistic', 'hidden_layer_sizes': (132, 83, 42), 'learning_rate': 'adaptive', 'max_iter': 250, 'solver': 'lbfgs', 'fitness': 0.7045}, {'activation': 'relu', 'hidden_layer_sizes': (124, 65, 14), 'learning_rate': 'constant', 'max_iter': 250, 'solver': 'sgd', 'fitness': 0.7035}, {'activation': 'logistic', 'hidden_layer_sizes': (120, 67, 41), 'learning_rate': 'adaptive', 'max_iter': 187, 'solver': 'lbfgs', 'fitness': 0.703}, {'activation': 'logistic', 'hidden_layer_sizes': (158, 51, 14), 'learning_rate': 'constant', 'max_iter': 192, 'solver': 'adam', 'fitness': 0.703}, {'activation': 'logistic', 'solver': 'adam', 'learning_rate': 'constant', 'hidden_layer_sizes': (188, 99, 19), 'max_iter': 184, 'fitness': 0.7025}, {'activation': 'logistic', 'solver': 'adam', 'learning_rate': 'constant', 'hidden_layer_sizes': (158, 82, 14), 'max_iter': 192, 'fitness': 0.7015}, {'activation': 'logistic', 'solver': 'lbfgs', 'learning_rate': 'adaptive', 'hidden_layer_sizes': (199, 67, 41), 'max_iter': 187, 'fitness': 0.7015}, {'activation': 'relu', 'hidden_layer_sizes': (124, 71, 14), 'learning_rate': 'adaptive', 'max_iter': 250, 'solver': 'sgd', 'fitness': 0.7015}, {'activation': 'logistic', 'solver': 'lbfgs', 'learning_rate': 'constant', 'hidden_layer_sizes': (124, 83, 42), 'max_iter': 250, 'fitness': 0.701}, {'activation': 'logistic', 'solver': 'lbfgs', 'learning_rate': 'adaptive', 'hidden_layer_sizes': (132, 71, 14), 'max_iter': 136, 'fitness': 0.701}, {'activation': 'logistic', 'hidden_layer_sizes': (124, 65, 14), 'learning_rate': 'constant', 'max_iter': 250, 'solver': 'lbfgs', 'fitness': 0.701}, {'activation': 'logistic', 'hidden_layer_sizes': (120, 51, 19), 'learning_rate': 'constant', 'max_iter': 240, 'solver': 'adam', 'fitness': 0.7005}, {'activation': 'logistic', 'hidden_layer_sizes': (120, 51, 19), 'learning_rate': 'constant', 'max_iter': 240, 'solver': 'adam', 'fitness': 0.7}, {'activation': 'logistic', 'hidden_layer_sizes': (120, 51, 19), 'learning_rate': 'constant', 'max_iter': 240, 'solver': 'adam', 'fitness': 0.7}, {'activation': 'logistic', 'hidden_layer_sizes': (199, 67, 41), 'learning_rate': 'adaptive', 'max_iter': 187, 'solver': 'lbfgs', 'fitness': 0.6995}, {'activation': 'logistic', 'hidden_layer_sizes': (132, 99, 14), 'learning_rate': 'constant', 'max_iter': 136, 'solver': 'lbfgs', 'fitness': 0.6995}, {'activation': 'logistic', 'hidden_layer_sizes': (120, 51, 19), 'learning_rate': 'constant', 'max_iter': 240, 'solver': 'adam', 'fitness': 0.6995}, {'activation': 'logistic', 'hidden_layer_sizes': (120, 51, 14), 'learning_rate': 'constant', 'max_iter': 240, 'solver': 'adam', 'fitness': 0.6995}, {'activation': 'relu', 'hidden_layer_sizes': (124, 71, 19), 'learning_rate': 'constant', 'max_iter': 250, 'solver': 'sgd', 'fitness': 0.699}, {'activation': 'logistic', 'hidden_layer_sizes': (132, 83, 14), 'learning_rate': 'constant', 'max_iter': 250, 'solver': 'lbfgs', 'fitness': 0.699}, {'activation': 'logistic', 'hidden_layer_sizes': (132, 99, 19), 'learning_rate': 'constant', 'max_iter': 184, 'solver': 'adam', 'fitness': 0.6985}, {'activation': 'logistic', 'hidden_layer_sizes': (120, 71, 14), 'learning_rate': 'constant', 'max_iter': 250, 'solver': 'adam', 'fitness': 0.698}, {'activation': 'logistic', 'hidden_layer_sizes': (199, 67, 19), 'learning_rate': 'invscaling', 'max_iter': 187, 'solver': 'adam', 'fitness': 0.698}, {'activation': 'tanh', 'solver': 'sgd', 'learning_rate': 'adaptive', 'hidden_layer_sizes': (112, 66, 34), 'max_iter': 141, 'fitness': 0.6975}, {'activation': 'tanh', 'solver': 'sgd', 'learning_rate': 'constant', 'hidden_layer_sizes': (188, 70, 38), 'max_iter': 118, 'fitness': 0.697}, {'activation': 'logistic', 'hidden_layer_sizes': (199, 67, 41), 'learning_rate': 'adaptive', 'max_iter': 187, 'solver': 'lbfgs', 'fitness': 0.697}]\n",
            "generation: \n",
            "23\n"
          ],
          "name": "stdout"
        },
        {
          "output_type": "stream",
          "text": [
            "/usr/local/lib/python3.7/dist-packages/sklearn/neural_network/_multilayer_perceptron.py:571: ConvergenceWarning: Stochastic Optimizer: Maximum iterations (250) reached and the optimization hasn't converged yet.\n",
            "  % self.max_iter, ConvergenceWarning)\n",
            "/usr/local/lib/python3.7/dist-packages/sklearn/neural_network/_multilayer_perceptron.py:571: ConvergenceWarning: Stochastic Optimizer: Maximum iterations (250) reached and the optimization hasn't converged yet.\n",
            "  % self.max_iter, ConvergenceWarning)\n"
          ],
          "name": "stderr"
        },
        {
          "output_type": "stream",
          "text": [
            "[{'activation': 'logistic', 'solver': 'lbfgs', 'learning_rate': 'adaptive', 'hidden_layer_sizes': (118, 90, 31), 'max_iter': 237, 'fitness': 0.7085}, {'activation': 'logistic', 'hidden_layer_sizes': (132, 83, 14), 'learning_rate': 'constant', 'max_iter': 136, 'solver': 'lbfgs', 'fitness': 0.7075}, {'activation': 'relu', 'hidden_layer_sizes': (124, 71, 14), 'learning_rate': 'adaptive', 'max_iter': 250, 'solver': 'sgd', 'fitness': 0.7055}, {'activation': 'logistic', 'hidden_layer_sizes': (120, 99, 14), 'learning_rate': 'constant', 'max_iter': 136, 'solver': 'lbfgs', 'fitness': 0.705}, {'activation': 'relu', 'hidden_layer_sizes': (124, 65, 14), 'learning_rate': 'constant', 'max_iter': 250, 'solver': 'sgd', 'fitness': 0.705}, {'activation': 'logistic', 'hidden_layer_sizes': (132, 83, 42), 'learning_rate': 'adaptive', 'max_iter': 250, 'solver': 'lbfgs', 'fitness': 0.7045}, {'activation': 'relu', 'hidden_layer_sizes': (124, 65, 14), 'learning_rate': 'constant', 'max_iter': 250, 'solver': 'sgd', 'fitness': 0.7035}, {'activation': 'logistic', 'hidden_layer_sizes': (124, 65, 14), 'learning_rate': 'constant', 'max_iter': 250, 'solver': 'adam', 'fitness': 0.7035}, {'activation': 'logistic', 'hidden_layer_sizes': (120, 67, 41), 'learning_rate': 'adaptive', 'max_iter': 187, 'solver': 'lbfgs', 'fitness': 0.703}, {'activation': 'logistic', 'hidden_layer_sizes': (158, 51, 14), 'learning_rate': 'constant', 'max_iter': 192, 'solver': 'adam', 'fitness': 0.703}, {'activation': 'logistic', 'solver': 'adam', 'learning_rate': 'constant', 'hidden_layer_sizes': (188, 99, 19), 'max_iter': 184, 'fitness': 0.7025}, {'activation': 'logistic', 'solver': 'adam', 'learning_rate': 'constant', 'hidden_layer_sizes': (158, 82, 14), 'max_iter': 192, 'fitness': 0.7015}, {'activation': 'logistic', 'solver': 'lbfgs', 'learning_rate': 'adaptive', 'hidden_layer_sizes': (199, 67, 41), 'max_iter': 187, 'fitness': 0.7015}, {'activation': 'relu', 'hidden_layer_sizes': (124, 71, 14), 'learning_rate': 'adaptive', 'max_iter': 250, 'solver': 'sgd', 'fitness': 0.7015}, {'activation': 'logistic', 'solver': 'lbfgs', 'learning_rate': 'constant', 'hidden_layer_sizes': (124, 83, 42), 'max_iter': 250, 'fitness': 0.701}, {'activation': 'logistic', 'solver': 'lbfgs', 'learning_rate': 'adaptive', 'hidden_layer_sizes': (132, 71, 14), 'max_iter': 136, 'fitness': 0.701}, {'activation': 'logistic', 'hidden_layer_sizes': (124, 65, 14), 'learning_rate': 'constant', 'max_iter': 250, 'solver': 'lbfgs', 'fitness': 0.701}, {'activation': 'logistic', 'hidden_layer_sizes': (120, 51, 19), 'learning_rate': 'constant', 'max_iter': 240, 'solver': 'adam', 'fitness': 0.7005}, {'activation': 'logistic', 'hidden_layer_sizes': (120, 51, 19), 'learning_rate': 'constant', 'max_iter': 240, 'solver': 'adam', 'fitness': 0.7}, {'activation': 'logistic', 'hidden_layer_sizes': (120, 51, 19), 'learning_rate': 'constant', 'max_iter': 240, 'solver': 'adam', 'fitness': 0.7}, {'activation': 'logistic', 'hidden_layer_sizes': (199, 67, 41), 'learning_rate': 'adaptive', 'max_iter': 187, 'solver': 'lbfgs', 'fitness': 0.6995}, {'activation': 'logistic', 'hidden_layer_sizes': (132, 99, 14), 'learning_rate': 'constant', 'max_iter': 136, 'solver': 'lbfgs', 'fitness': 0.6995}, {'activation': 'logistic', 'hidden_layer_sizes': (120, 51, 19), 'learning_rate': 'constant', 'max_iter': 240, 'solver': 'adam', 'fitness': 0.6995}, {'activation': 'logistic', 'hidden_layer_sizes': (120, 51, 14), 'learning_rate': 'constant', 'max_iter': 240, 'solver': 'adam', 'fitness': 0.6995}, {'activation': 'relu', 'hidden_layer_sizes': (124, 71, 19), 'learning_rate': 'constant', 'max_iter': 250, 'solver': 'sgd', 'fitness': 0.699}, {'activation': 'logistic', 'hidden_layer_sizes': (132, 83, 14), 'learning_rate': 'constant', 'max_iter': 250, 'solver': 'lbfgs', 'fitness': 0.699}, {'activation': 'logistic', 'hidden_layer_sizes': (132, 99, 19), 'learning_rate': 'constant', 'max_iter': 184, 'solver': 'adam', 'fitness': 0.6985}, {'activation': 'logistic', 'hidden_layer_sizes': (120, 71, 14), 'learning_rate': 'constant', 'max_iter': 250, 'solver': 'adam', 'fitness': 0.698}, {'activation': 'logistic', 'hidden_layer_sizes': (199, 67, 19), 'learning_rate': 'invscaling', 'max_iter': 187, 'solver': 'adam', 'fitness': 0.698}, {'activation': 'tanh', 'solver': 'sgd', 'learning_rate': 'adaptive', 'hidden_layer_sizes': (112, 66, 34), 'max_iter': 141, 'fitness': 0.6975}]\n",
            "generation: \n",
            "24\n"
          ],
          "name": "stdout"
        },
        {
          "output_type": "stream",
          "text": [
            "/usr/local/lib/python3.7/dist-packages/sklearn/neural_network/_multilayer_perceptron.py:571: ConvergenceWarning: Stochastic Optimizer: Maximum iterations (250) reached and the optimization hasn't converged yet.\n",
            "  % self.max_iter, ConvergenceWarning)\n",
            "/usr/local/lib/python3.7/dist-packages/sklearn/neural_network/_multilayer_perceptron.py:571: ConvergenceWarning: Stochastic Optimizer: Maximum iterations (250) reached and the optimization hasn't converged yet.\n",
            "  % self.max_iter, ConvergenceWarning)\n"
          ],
          "name": "stderr"
        },
        {
          "output_type": "stream",
          "text": [
            "[{'activation': 'logistic', 'solver': 'lbfgs', 'learning_rate': 'adaptive', 'hidden_layer_sizes': (118, 90, 31), 'max_iter': 237, 'fitness': 0.7085}, {'activation': 'logistic', 'hidden_layer_sizes': (132, 83, 14), 'learning_rate': 'constant', 'max_iter': 136, 'solver': 'lbfgs', 'fitness': 0.7075}, {'activation': 'relu', 'hidden_layer_sizes': (124, 71, 14), 'learning_rate': 'adaptive', 'max_iter': 250, 'solver': 'sgd', 'fitness': 0.7055}, {'activation': 'logistic', 'hidden_layer_sizes': (120, 99, 14), 'learning_rate': 'constant', 'max_iter': 136, 'solver': 'lbfgs', 'fitness': 0.705}, {'activation': 'relu', 'hidden_layer_sizes': (124, 65, 14), 'learning_rate': 'constant', 'max_iter': 250, 'solver': 'sgd', 'fitness': 0.705}, {'activation': 'logistic', 'hidden_layer_sizes': (132, 83, 42), 'learning_rate': 'adaptive', 'max_iter': 250, 'solver': 'lbfgs', 'fitness': 0.7045}, {'activation': 'relu', 'hidden_layer_sizes': (124, 65, 14), 'learning_rate': 'constant', 'max_iter': 250, 'solver': 'sgd', 'fitness': 0.7035}, {'activation': 'logistic', 'hidden_layer_sizes': (124, 65, 14), 'learning_rate': 'constant', 'max_iter': 250, 'solver': 'adam', 'fitness': 0.7035}, {'activation': 'logistic', 'hidden_layer_sizes': (120, 67, 41), 'learning_rate': 'adaptive', 'max_iter': 187, 'solver': 'lbfgs', 'fitness': 0.703}, {'activation': 'logistic', 'hidden_layer_sizes': (158, 51, 14), 'learning_rate': 'constant', 'max_iter': 192, 'solver': 'adam', 'fitness': 0.703}, {'activation': 'logistic', 'solver': 'adam', 'learning_rate': 'constant', 'hidden_layer_sizes': (188, 99, 19), 'max_iter': 184, 'fitness': 0.7025}, {'activation': 'logistic', 'solver': 'adam', 'learning_rate': 'constant', 'hidden_layer_sizes': (158, 82, 14), 'max_iter': 192, 'fitness': 0.7015}, {'activation': 'logistic', 'solver': 'lbfgs', 'learning_rate': 'adaptive', 'hidden_layer_sizes': (199, 67, 41), 'max_iter': 187, 'fitness': 0.7015}, {'activation': 'relu', 'hidden_layer_sizes': (124, 71, 14), 'learning_rate': 'adaptive', 'max_iter': 250, 'solver': 'sgd', 'fitness': 0.7015}, {'activation': 'logistic', 'solver': 'lbfgs', 'learning_rate': 'constant', 'hidden_layer_sizes': (124, 83, 42), 'max_iter': 250, 'fitness': 0.701}, {'activation': 'logistic', 'solver': 'lbfgs', 'learning_rate': 'adaptive', 'hidden_layer_sizes': (132, 71, 14), 'max_iter': 136, 'fitness': 0.701}, {'activation': 'logistic', 'hidden_layer_sizes': (124, 65, 14), 'learning_rate': 'constant', 'max_iter': 250, 'solver': 'lbfgs', 'fitness': 0.701}, {'activation': 'logistic', 'hidden_layer_sizes': (120, 51, 19), 'learning_rate': 'constant', 'max_iter': 240, 'solver': 'adam', 'fitness': 0.7005}, {'activation': 'logistic', 'hidden_layer_sizes': (120, 51, 19), 'learning_rate': 'constant', 'max_iter': 240, 'solver': 'adam', 'fitness': 0.7}, {'activation': 'logistic', 'hidden_layer_sizes': (120, 51, 19), 'learning_rate': 'constant', 'max_iter': 240, 'solver': 'adam', 'fitness': 0.7}, {'activation': 'logistic', 'hidden_layer_sizes': (199, 67, 41), 'learning_rate': 'adaptive', 'max_iter': 187, 'solver': 'lbfgs', 'fitness': 0.6995}, {'activation': 'logistic', 'hidden_layer_sizes': (132, 99, 14), 'learning_rate': 'constant', 'max_iter': 136, 'solver': 'lbfgs', 'fitness': 0.6995}, {'activation': 'logistic', 'hidden_layer_sizes': (120, 51, 19), 'learning_rate': 'constant', 'max_iter': 240, 'solver': 'adam', 'fitness': 0.6995}, {'activation': 'logistic', 'hidden_layer_sizes': (120, 51, 14), 'learning_rate': 'constant', 'max_iter': 240, 'solver': 'adam', 'fitness': 0.6995}, {'activation': 'relu', 'hidden_layer_sizes': (124, 71, 19), 'learning_rate': 'constant', 'max_iter': 250, 'solver': 'sgd', 'fitness': 0.699}, {'activation': 'logistic', 'hidden_layer_sizes': (132, 83, 14), 'learning_rate': 'constant', 'max_iter': 250, 'solver': 'lbfgs', 'fitness': 0.699}, {'activation': 'relu', 'hidden_layer_sizes': (158, 82, 14), 'learning_rate': 'constant', 'max_iter': 250, 'solver': 'sgd', 'fitness': 0.699}, {'activation': 'logistic', 'hidden_layer_sizes': (132, 99, 19), 'learning_rate': 'constant', 'max_iter': 184, 'solver': 'adam', 'fitness': 0.6985}, {'activation': 'logistic', 'hidden_layer_sizes': (120, 71, 14), 'learning_rate': 'constant', 'max_iter': 250, 'solver': 'adam', 'fitness': 0.698}, {'activation': 'logistic', 'hidden_layer_sizes': (199, 67, 19), 'learning_rate': 'invscaling', 'max_iter': 187, 'solver': 'adam', 'fitness': 0.698}]\n",
            "generation: \n",
            "25\n"
          ],
          "name": "stdout"
        },
        {
          "output_type": "stream",
          "text": [
            "/usr/local/lib/python3.7/dist-packages/sklearn/neural_network/_multilayer_perceptron.py:571: ConvergenceWarning: Stochastic Optimizer: Maximum iterations (192) reached and the optimization hasn't converged yet.\n",
            "  % self.max_iter, ConvergenceWarning)\n",
            "/usr/local/lib/python3.7/dist-packages/sklearn/neural_network/_multilayer_perceptron.py:571: ConvergenceWarning: Stochastic Optimizer: Maximum iterations (192) reached and the optimization hasn't converged yet.\n",
            "  % self.max_iter, ConvergenceWarning)\n"
          ],
          "name": "stderr"
        },
        {
          "output_type": "stream",
          "text": [
            "[{'activation': 'logistic', 'solver': 'lbfgs', 'learning_rate': 'adaptive', 'hidden_layer_sizes': (118, 90, 31), 'max_iter': 237, 'fitness': 0.7085}, {'activation': 'logistic', 'hidden_layer_sizes': (132, 83, 14), 'learning_rate': 'constant', 'max_iter': 136, 'solver': 'lbfgs', 'fitness': 0.7075}, {'activation': 'relu', 'hidden_layer_sizes': (124, 71, 14), 'learning_rate': 'adaptive', 'max_iter': 250, 'solver': 'sgd', 'fitness': 0.7055}, {'activation': 'logistic', 'hidden_layer_sizes': (120, 99, 14), 'learning_rate': 'constant', 'max_iter': 136, 'solver': 'lbfgs', 'fitness': 0.705}, {'activation': 'relu', 'hidden_layer_sizes': (124, 65, 14), 'learning_rate': 'constant', 'max_iter': 250, 'solver': 'sgd', 'fitness': 0.705}, {'activation': 'logistic', 'hidden_layer_sizes': (132, 83, 42), 'learning_rate': 'adaptive', 'max_iter': 250, 'solver': 'lbfgs', 'fitness': 0.7045}, {'activation': 'relu', 'hidden_layer_sizes': (124, 65, 14), 'learning_rate': 'constant', 'max_iter': 250, 'solver': 'sgd', 'fitness': 0.7035}, {'activation': 'logistic', 'hidden_layer_sizes': (124, 65, 14), 'learning_rate': 'constant', 'max_iter': 250, 'solver': 'adam', 'fitness': 0.7035}, {'activation': 'logistic', 'hidden_layer_sizes': (120, 67, 41), 'learning_rate': 'adaptive', 'max_iter': 187, 'solver': 'lbfgs', 'fitness': 0.703}, {'activation': 'logistic', 'hidden_layer_sizes': (158, 51, 14), 'learning_rate': 'constant', 'max_iter': 192, 'solver': 'adam', 'fitness': 0.703}, {'activation': 'logistic', 'solver': 'adam', 'learning_rate': 'constant', 'hidden_layer_sizes': (188, 99, 19), 'max_iter': 184, 'fitness': 0.7025}, {'activation': 'logistic', 'hidden_layer_sizes': (158, 51, 14), 'learning_rate': 'constant', 'max_iter': 192, 'solver': 'adam', 'fitness': 0.702}, {'activation': 'logistic', 'solver': 'adam', 'learning_rate': 'constant', 'hidden_layer_sizes': (158, 82, 14), 'max_iter': 192, 'fitness': 0.7015}, {'activation': 'logistic', 'solver': 'lbfgs', 'learning_rate': 'adaptive', 'hidden_layer_sizes': (199, 67, 41), 'max_iter': 187, 'fitness': 0.7015}, {'activation': 'relu', 'hidden_layer_sizes': (124, 71, 14), 'learning_rate': 'adaptive', 'max_iter': 250, 'solver': 'sgd', 'fitness': 0.7015}, {'activation': 'logistic', 'solver': 'lbfgs', 'learning_rate': 'constant', 'hidden_layer_sizes': (124, 83, 42), 'max_iter': 250, 'fitness': 0.701}, {'activation': 'logistic', 'solver': 'lbfgs', 'learning_rate': 'adaptive', 'hidden_layer_sizes': (132, 71, 14), 'max_iter': 136, 'fitness': 0.701}, {'activation': 'logistic', 'hidden_layer_sizes': (124, 65, 14), 'learning_rate': 'constant', 'max_iter': 250, 'solver': 'lbfgs', 'fitness': 0.701}, {'activation': 'logistic', 'hidden_layer_sizes': (120, 51, 19), 'learning_rate': 'constant', 'max_iter': 240, 'solver': 'adam', 'fitness': 0.7005}, {'activation': 'logistic', 'hidden_layer_sizes': (120, 51, 19), 'learning_rate': 'constant', 'max_iter': 240, 'solver': 'adam', 'fitness': 0.7}, {'activation': 'logistic', 'hidden_layer_sizes': (120, 51, 19), 'learning_rate': 'constant', 'max_iter': 240, 'solver': 'adam', 'fitness': 0.7}, {'activation': 'logistic', 'hidden_layer_sizes': (199, 67, 41), 'learning_rate': 'adaptive', 'max_iter': 187, 'solver': 'lbfgs', 'fitness': 0.6995}, {'activation': 'logistic', 'hidden_layer_sizes': (132, 99, 14), 'learning_rate': 'constant', 'max_iter': 136, 'solver': 'lbfgs', 'fitness': 0.6995}, {'activation': 'logistic', 'hidden_layer_sizes': (120, 51, 19), 'learning_rate': 'constant', 'max_iter': 240, 'solver': 'adam', 'fitness': 0.6995}, {'activation': 'logistic', 'hidden_layer_sizes': (120, 51, 14), 'learning_rate': 'constant', 'max_iter': 240, 'solver': 'adam', 'fitness': 0.6995}, {'activation': 'relu', 'hidden_layer_sizes': (124, 71, 19), 'learning_rate': 'constant', 'max_iter': 250, 'solver': 'sgd', 'fitness': 0.699}, {'activation': 'logistic', 'hidden_layer_sizes': (132, 83, 14), 'learning_rate': 'constant', 'max_iter': 250, 'solver': 'lbfgs', 'fitness': 0.699}, {'activation': 'relu', 'hidden_layer_sizes': (158, 82, 14), 'learning_rate': 'constant', 'max_iter': 250, 'solver': 'sgd', 'fitness': 0.699}, {'activation': 'logistic', 'hidden_layer_sizes': (132, 99, 19), 'learning_rate': 'constant', 'max_iter': 184, 'solver': 'adam', 'fitness': 0.6985}, {'activation': 'logistic', 'hidden_layer_sizes': (120, 71, 14), 'learning_rate': 'constant', 'max_iter': 250, 'solver': 'adam', 'fitness': 0.698}]\n",
            "generation: \n",
            "26\n",
            "[{'activation': 'logistic', 'solver': 'lbfgs', 'learning_rate': 'adaptive', 'hidden_layer_sizes': (118, 90, 31), 'max_iter': 237, 'fitness': 0.7085}, {'activation': 'logistic', 'hidden_layer_sizes': (132, 83, 14), 'learning_rate': 'constant', 'max_iter': 136, 'solver': 'lbfgs', 'fitness': 0.7075}, {'activation': 'relu', 'hidden_layer_sizes': (124, 71, 14), 'learning_rate': 'adaptive', 'max_iter': 250, 'solver': 'sgd', 'fitness': 0.7055}, {'activation': 'logistic', 'hidden_layer_sizes': (120, 99, 14), 'learning_rate': 'constant', 'max_iter': 136, 'solver': 'lbfgs', 'fitness': 0.705}, {'activation': 'relu', 'hidden_layer_sizes': (124, 65, 14), 'learning_rate': 'constant', 'max_iter': 250, 'solver': 'sgd', 'fitness': 0.705}, {'activation': 'logistic', 'hidden_layer_sizes': (132, 83, 42), 'learning_rate': 'adaptive', 'max_iter': 250, 'solver': 'lbfgs', 'fitness': 0.7045}, {'activation': 'relu', 'hidden_layer_sizes': (124, 65, 14), 'learning_rate': 'constant', 'max_iter': 250, 'solver': 'sgd', 'fitness': 0.7035}, {'activation': 'logistic', 'hidden_layer_sizes': (124, 65, 14), 'learning_rate': 'constant', 'max_iter': 250, 'solver': 'adam', 'fitness': 0.7035}, {'activation': 'logistic', 'hidden_layer_sizes': (120, 67, 41), 'learning_rate': 'adaptive', 'max_iter': 187, 'solver': 'lbfgs', 'fitness': 0.703}, {'activation': 'logistic', 'hidden_layer_sizes': (158, 51, 14), 'learning_rate': 'constant', 'max_iter': 192, 'solver': 'adam', 'fitness': 0.703}, {'activation': 'logistic', 'solver': 'adam', 'learning_rate': 'constant', 'hidden_layer_sizes': (188, 99, 19), 'max_iter': 184, 'fitness': 0.7025}, {'activation': 'logistic', 'hidden_layer_sizes': (158, 51, 14), 'learning_rate': 'constant', 'max_iter': 192, 'solver': 'adam', 'fitness': 0.702}, {'activation': 'logistic', 'solver': 'adam', 'learning_rate': 'constant', 'hidden_layer_sizes': (158, 82, 14), 'max_iter': 192, 'fitness': 0.7015}, {'activation': 'logistic', 'solver': 'lbfgs', 'learning_rate': 'adaptive', 'hidden_layer_sizes': (199, 67, 41), 'max_iter': 187, 'fitness': 0.7015}, {'activation': 'relu', 'hidden_layer_sizes': (124, 71, 14), 'learning_rate': 'adaptive', 'max_iter': 250, 'solver': 'sgd', 'fitness': 0.7015}, {'activation': 'logistic', 'solver': 'lbfgs', 'learning_rate': 'constant', 'hidden_layer_sizes': (124, 83, 42), 'max_iter': 250, 'fitness': 0.701}, {'activation': 'logistic', 'solver': 'lbfgs', 'learning_rate': 'adaptive', 'hidden_layer_sizes': (132, 71, 14), 'max_iter': 136, 'fitness': 0.701}, {'activation': 'logistic', 'hidden_layer_sizes': (124, 65, 14), 'learning_rate': 'constant', 'max_iter': 250, 'solver': 'lbfgs', 'fitness': 0.701}, {'activation': 'logistic', 'hidden_layer_sizes': (120, 51, 19), 'learning_rate': 'constant', 'max_iter': 240, 'solver': 'adam', 'fitness': 0.7005}, {'activation': 'logistic', 'hidden_layer_sizes': (120, 51, 19), 'learning_rate': 'constant', 'max_iter': 240, 'solver': 'adam', 'fitness': 0.7}, {'activation': 'logistic', 'hidden_layer_sizes': (120, 51, 19), 'learning_rate': 'constant', 'max_iter': 240, 'solver': 'adam', 'fitness': 0.7}, {'activation': 'logistic', 'hidden_layer_sizes': (199, 67, 41), 'learning_rate': 'adaptive', 'max_iter': 187, 'solver': 'lbfgs', 'fitness': 0.6995}, {'activation': 'logistic', 'hidden_layer_sizes': (132, 99, 14), 'learning_rate': 'constant', 'max_iter': 136, 'solver': 'lbfgs', 'fitness': 0.6995}, {'activation': 'logistic', 'hidden_layer_sizes': (120, 51, 19), 'learning_rate': 'constant', 'max_iter': 240, 'solver': 'adam', 'fitness': 0.6995}, {'activation': 'logistic', 'hidden_layer_sizes': (120, 51, 14), 'learning_rate': 'constant', 'max_iter': 240, 'solver': 'adam', 'fitness': 0.6995}, {'activation': 'relu', 'hidden_layer_sizes': (124, 71, 19), 'learning_rate': 'constant', 'max_iter': 250, 'solver': 'sgd', 'fitness': 0.699}, {'activation': 'logistic', 'hidden_layer_sizes': (132, 83, 14), 'learning_rate': 'constant', 'max_iter': 250, 'solver': 'lbfgs', 'fitness': 0.699}, {'activation': 'relu', 'hidden_layer_sizes': (158, 82, 14), 'learning_rate': 'constant', 'max_iter': 250, 'solver': 'sgd', 'fitness': 0.699}, {'activation': 'logistic', 'hidden_layer_sizes': (132, 99, 19), 'learning_rate': 'constant', 'max_iter': 184, 'solver': 'adam', 'fitness': 0.6985}, {'activation': 'logistic', 'hidden_layer_sizes': (120, 71, 14), 'learning_rate': 'constant', 'max_iter': 250, 'solver': 'adam', 'fitness': 0.698}]\n",
            "generation: \n",
            "27\n"
          ],
          "name": "stdout"
        },
        {
          "output_type": "stream",
          "text": [
            "/usr/local/lib/python3.7/dist-packages/sklearn/neural_network/_multilayer_perceptron.py:470: ConvergenceWarning: lbfgs failed to converge (status=1):\n",
            "STOP: TOTAL NO. of ITERATIONS REACHED LIMIT.\n",
            "\n",
            "Increase the number of iterations (max_iter) or scale the data as shown in:\n",
            "    https://scikit-learn.org/stable/modules/preprocessing.html\n",
            "  self.n_iter_ = _check_optimize_result(\"lbfgs\", opt_res, self.max_iter)\n"
          ],
          "name": "stderr"
        },
        {
          "output_type": "stream",
          "text": [
            "[{'activation': 'logistic', 'solver': 'lbfgs', 'learning_rate': 'adaptive', 'hidden_layer_sizes': (118, 90, 31), 'max_iter': 237, 'fitness': 0.7085}, {'activation': 'logistic', 'hidden_layer_sizes': (132, 83, 14), 'learning_rate': 'constant', 'max_iter': 136, 'solver': 'lbfgs', 'fitness': 0.7075}, {'activation': 'relu', 'hidden_layer_sizes': (124, 71, 14), 'learning_rate': 'adaptive', 'max_iter': 250, 'solver': 'sgd', 'fitness': 0.7055}, {'activation': 'logistic', 'hidden_layer_sizes': (120, 99, 14), 'learning_rate': 'constant', 'max_iter': 136, 'solver': 'lbfgs', 'fitness': 0.705}, {'activation': 'relu', 'hidden_layer_sizes': (124, 65, 14), 'learning_rate': 'constant', 'max_iter': 250, 'solver': 'sgd', 'fitness': 0.705}, {'activation': 'logistic', 'hidden_layer_sizes': (132, 83, 42), 'learning_rate': 'adaptive', 'max_iter': 250, 'solver': 'lbfgs', 'fitness': 0.7045}, {'activation': 'relu', 'hidden_layer_sizes': (124, 65, 14), 'learning_rate': 'constant', 'max_iter': 250, 'solver': 'sgd', 'fitness': 0.7035}, {'activation': 'logistic', 'hidden_layer_sizes': (124, 65, 14), 'learning_rate': 'constant', 'max_iter': 250, 'solver': 'adam', 'fitness': 0.7035}, {'activation': 'logistic', 'hidden_layer_sizes': (120, 67, 41), 'learning_rate': 'adaptive', 'max_iter': 187, 'solver': 'lbfgs', 'fitness': 0.703}, {'activation': 'logistic', 'hidden_layer_sizes': (158, 51, 14), 'learning_rate': 'constant', 'max_iter': 192, 'solver': 'adam', 'fitness': 0.703}, {'activation': 'logistic', 'solver': 'adam', 'learning_rate': 'constant', 'hidden_layer_sizes': (188, 99, 19), 'max_iter': 184, 'fitness': 0.7025}, {'activation': 'logistic', 'hidden_layer_sizes': (158, 51, 14), 'learning_rate': 'constant', 'max_iter': 192, 'solver': 'adam', 'fitness': 0.702}, {'activation': 'logistic', 'solver': 'adam', 'learning_rate': 'constant', 'hidden_layer_sizes': (158, 82, 14), 'max_iter': 192, 'fitness': 0.7015}, {'activation': 'logistic', 'solver': 'lbfgs', 'learning_rate': 'adaptive', 'hidden_layer_sizes': (199, 67, 41), 'max_iter': 187, 'fitness': 0.7015}, {'activation': 'relu', 'hidden_layer_sizes': (124, 71, 14), 'learning_rate': 'adaptive', 'max_iter': 250, 'solver': 'sgd', 'fitness': 0.7015}, {'activation': 'logistic', 'solver': 'lbfgs', 'learning_rate': 'constant', 'hidden_layer_sizes': (124, 83, 42), 'max_iter': 250, 'fitness': 0.701}, {'activation': 'logistic', 'solver': 'lbfgs', 'learning_rate': 'adaptive', 'hidden_layer_sizes': (132, 71, 14), 'max_iter': 136, 'fitness': 0.701}, {'activation': 'logistic', 'hidden_layer_sizes': (124, 65, 14), 'learning_rate': 'constant', 'max_iter': 250, 'solver': 'lbfgs', 'fitness': 0.701}, {'activation': 'logistic', 'hidden_layer_sizes': (120, 51, 19), 'learning_rate': 'constant', 'max_iter': 240, 'solver': 'adam', 'fitness': 0.7005}, {'activation': 'logistic', 'hidden_layer_sizes': (120, 51, 19), 'learning_rate': 'constant', 'max_iter': 240, 'solver': 'adam', 'fitness': 0.7}, {'activation': 'logistic', 'hidden_layer_sizes': (120, 51, 19), 'learning_rate': 'constant', 'max_iter': 240, 'solver': 'adam', 'fitness': 0.7}, {'activation': 'logistic', 'hidden_layer_sizes': (199, 67, 41), 'learning_rate': 'adaptive', 'max_iter': 187, 'solver': 'lbfgs', 'fitness': 0.6995}, {'activation': 'logistic', 'hidden_layer_sizes': (132, 99, 14), 'learning_rate': 'constant', 'max_iter': 136, 'solver': 'lbfgs', 'fitness': 0.6995}, {'activation': 'logistic', 'hidden_layer_sizes': (120, 51, 19), 'learning_rate': 'constant', 'max_iter': 240, 'solver': 'adam', 'fitness': 0.6995}, {'activation': 'logistic', 'hidden_layer_sizes': (120, 51, 14), 'learning_rate': 'constant', 'max_iter': 240, 'solver': 'adam', 'fitness': 0.6995}, {'activation': 'relu', 'hidden_layer_sizes': (124, 71, 19), 'learning_rate': 'constant', 'max_iter': 250, 'solver': 'sgd', 'fitness': 0.699}, {'activation': 'logistic', 'hidden_layer_sizes': (132, 83, 14), 'learning_rate': 'constant', 'max_iter': 250, 'solver': 'lbfgs', 'fitness': 0.699}, {'activation': 'relu', 'hidden_layer_sizes': (158, 82, 14), 'learning_rate': 'constant', 'max_iter': 250, 'solver': 'sgd', 'fitness': 0.699}, {'activation': 'logistic', 'hidden_layer_sizes': (132, 99, 19), 'learning_rate': 'constant', 'max_iter': 184, 'solver': 'adam', 'fitness': 0.6985}, {'activation': 'logistic', 'hidden_layer_sizes': (120, 71, 14), 'learning_rate': 'constant', 'max_iter': 250, 'solver': 'adam', 'fitness': 0.698}]\n",
            "generation: \n",
            "28\n"
          ],
          "name": "stdout"
        },
        {
          "output_type": "stream",
          "text": [
            "/usr/local/lib/python3.7/dist-packages/sklearn/neural_network/_multilayer_perceptron.py:470: ConvergenceWarning: lbfgs failed to converge (status=1):\n",
            "STOP: TOTAL NO. of ITERATIONS REACHED LIMIT.\n",
            "\n",
            "Increase the number of iterations (max_iter) or scale the data as shown in:\n",
            "    https://scikit-learn.org/stable/modules/preprocessing.html\n",
            "  self.n_iter_ = _check_optimize_result(\"lbfgs\", opt_res, self.max_iter)\n"
          ],
          "name": "stderr"
        },
        {
          "output_type": "stream",
          "text": [
            "[{'activation': 'logistic', 'solver': 'lbfgs', 'learning_rate': 'adaptive', 'hidden_layer_sizes': (118, 90, 31), 'max_iter': 237, 'fitness': 0.7085}, {'activation': 'logistic', 'hidden_layer_sizes': (132, 83, 14), 'learning_rate': 'constant', 'max_iter': 136, 'solver': 'lbfgs', 'fitness': 0.7075}, {'activation': 'relu', 'hidden_layer_sizes': (124, 71, 14), 'learning_rate': 'adaptive', 'max_iter': 250, 'solver': 'sgd', 'fitness': 0.7055}, {'activation': 'logistic', 'hidden_layer_sizes': (120, 99, 14), 'learning_rate': 'constant', 'max_iter': 136, 'solver': 'lbfgs', 'fitness': 0.705}, {'activation': 'relu', 'hidden_layer_sizes': (124, 65, 14), 'learning_rate': 'constant', 'max_iter': 250, 'solver': 'sgd', 'fitness': 0.705}, {'activation': 'logistic', 'hidden_layer_sizes': (132, 83, 42), 'learning_rate': 'adaptive', 'max_iter': 250, 'solver': 'lbfgs', 'fitness': 0.7045}, {'activation': 'relu', 'hidden_layer_sizes': (124, 65, 14), 'learning_rate': 'constant', 'max_iter': 250, 'solver': 'sgd', 'fitness': 0.7035}, {'activation': 'logistic', 'hidden_layer_sizes': (124, 65, 14), 'learning_rate': 'constant', 'max_iter': 250, 'solver': 'adam', 'fitness': 0.7035}, {'activation': 'logistic', 'hidden_layer_sizes': (120, 67, 41), 'learning_rate': 'adaptive', 'max_iter': 187, 'solver': 'lbfgs', 'fitness': 0.703}, {'activation': 'logistic', 'hidden_layer_sizes': (158, 51, 14), 'learning_rate': 'constant', 'max_iter': 192, 'solver': 'adam', 'fitness': 0.703}, {'activation': 'logistic', 'solver': 'adam', 'learning_rate': 'constant', 'hidden_layer_sizes': (188, 99, 19), 'max_iter': 184, 'fitness': 0.7025}, {'activation': 'logistic', 'hidden_layer_sizes': (158, 51, 14), 'learning_rate': 'constant', 'max_iter': 192, 'solver': 'adam', 'fitness': 0.702}, {'activation': 'logistic', 'solver': 'adam', 'learning_rate': 'constant', 'hidden_layer_sizes': (158, 82, 14), 'max_iter': 192, 'fitness': 0.7015}, {'activation': 'logistic', 'solver': 'lbfgs', 'learning_rate': 'adaptive', 'hidden_layer_sizes': (199, 67, 41), 'max_iter': 187, 'fitness': 0.7015}, {'activation': 'relu', 'hidden_layer_sizes': (124, 71, 14), 'learning_rate': 'adaptive', 'max_iter': 250, 'solver': 'sgd', 'fitness': 0.7015}, {'activation': 'logistic', 'solver': 'lbfgs', 'learning_rate': 'constant', 'hidden_layer_sizes': (124, 83, 42), 'max_iter': 250, 'fitness': 0.701}, {'activation': 'logistic', 'solver': 'lbfgs', 'learning_rate': 'adaptive', 'hidden_layer_sizes': (132, 71, 14), 'max_iter': 136, 'fitness': 0.701}, {'activation': 'logistic', 'hidden_layer_sizes': (124, 65, 14), 'learning_rate': 'constant', 'max_iter': 250, 'solver': 'lbfgs', 'fitness': 0.701}, {'activation': 'logistic', 'hidden_layer_sizes': (120, 51, 19), 'learning_rate': 'constant', 'max_iter': 240, 'solver': 'adam', 'fitness': 0.7005}, {'activation': 'logistic', 'hidden_layer_sizes': (120, 51, 19), 'learning_rate': 'constant', 'max_iter': 240, 'solver': 'adam', 'fitness': 0.7}, {'activation': 'logistic', 'hidden_layer_sizes': (120, 51, 19), 'learning_rate': 'constant', 'max_iter': 240, 'solver': 'adam', 'fitness': 0.7}, {'activation': 'logistic', 'hidden_layer_sizes': (199, 67, 41), 'learning_rate': 'adaptive', 'max_iter': 187, 'solver': 'lbfgs', 'fitness': 0.6995}, {'activation': 'logistic', 'hidden_layer_sizes': (132, 99, 14), 'learning_rate': 'constant', 'max_iter': 136, 'solver': 'lbfgs', 'fitness': 0.6995}, {'activation': 'logistic', 'hidden_layer_sizes': (120, 51, 19), 'learning_rate': 'constant', 'max_iter': 240, 'solver': 'adam', 'fitness': 0.6995}, {'activation': 'logistic', 'hidden_layer_sizes': (120, 51, 14), 'learning_rate': 'constant', 'max_iter': 240, 'solver': 'adam', 'fitness': 0.6995}, {'activation': 'relu', 'hidden_layer_sizes': (124, 71, 19), 'learning_rate': 'constant', 'max_iter': 250, 'solver': 'sgd', 'fitness': 0.699}, {'activation': 'logistic', 'hidden_layer_sizes': (132, 83, 14), 'learning_rate': 'constant', 'max_iter': 250, 'solver': 'lbfgs', 'fitness': 0.699}, {'activation': 'relu', 'hidden_layer_sizes': (158, 82, 14), 'learning_rate': 'constant', 'max_iter': 250, 'solver': 'sgd', 'fitness': 0.699}, {'activation': 'logistic', 'hidden_layer_sizes': (132, 99, 19), 'learning_rate': 'constant', 'max_iter': 184, 'solver': 'adam', 'fitness': 0.6985}, {'activation': 'logistic', 'hidden_layer_sizes': (120, 71, 14), 'learning_rate': 'constant', 'max_iter': 250, 'solver': 'adam', 'fitness': 0.698}]\n",
            "generation: \n",
            "29\n"
          ],
          "name": "stdout"
        },
        {
          "output_type": "stream",
          "text": [
            "/usr/local/lib/python3.7/dist-packages/sklearn/neural_network/_multilayer_perceptron.py:571: ConvergenceWarning: Stochastic Optimizer: Maximum iterations (192) reached and the optimization hasn't converged yet.\n",
            "  % self.max_iter, ConvergenceWarning)\n",
            "/usr/local/lib/python3.7/dist-packages/sklearn/neural_network/_multilayer_perceptron.py:470: ConvergenceWarning: lbfgs failed to converge (status=1):\n",
            "STOP: TOTAL NO. of ITERATIONS REACHED LIMIT.\n",
            "\n",
            "Increase the number of iterations (max_iter) or scale the data as shown in:\n",
            "    https://scikit-learn.org/stable/modules/preprocessing.html\n",
            "  self.n_iter_ = _check_optimize_result(\"lbfgs\", opt_res, self.max_iter)\n"
          ],
          "name": "stderr"
        },
        {
          "output_type": "stream",
          "text": [
            "[{'activation': 'logistic', 'solver': 'lbfgs', 'learning_rate': 'adaptive', 'hidden_layer_sizes': (118, 90, 31), 'max_iter': 237, 'fitness': 0.7085}, {'activation': 'logistic', 'hidden_layer_sizes': (132, 83, 14), 'learning_rate': 'constant', 'max_iter': 136, 'solver': 'lbfgs', 'fitness': 0.7075}, {'activation': 'relu', 'hidden_layer_sizes': (124, 71, 14), 'learning_rate': 'adaptive', 'max_iter': 250, 'solver': 'sgd', 'fitness': 0.7055}, {'activation': 'logistic', 'hidden_layer_sizes': (120, 99, 14), 'learning_rate': 'constant', 'max_iter': 136, 'solver': 'lbfgs', 'fitness': 0.705}, {'activation': 'relu', 'hidden_layer_sizes': (124, 65, 14), 'learning_rate': 'constant', 'max_iter': 250, 'solver': 'sgd', 'fitness': 0.705}, {'activation': 'logistic', 'hidden_layer_sizes': (132, 83, 42), 'learning_rate': 'adaptive', 'max_iter': 250, 'solver': 'lbfgs', 'fitness': 0.7045}, {'activation': 'relu', 'hidden_layer_sizes': (124, 65, 14), 'learning_rate': 'constant', 'max_iter': 250, 'solver': 'sgd', 'fitness': 0.7035}, {'activation': 'logistic', 'hidden_layer_sizes': (124, 65, 14), 'learning_rate': 'constant', 'max_iter': 250, 'solver': 'adam', 'fitness': 0.7035}, {'activation': 'logistic', 'hidden_layer_sizes': (120, 67, 41), 'learning_rate': 'adaptive', 'max_iter': 187, 'solver': 'lbfgs', 'fitness': 0.703}, {'activation': 'logistic', 'hidden_layer_sizes': (158, 51, 14), 'learning_rate': 'constant', 'max_iter': 192, 'solver': 'adam', 'fitness': 0.703}, {'activation': 'logistic', 'solver': 'adam', 'learning_rate': 'constant', 'hidden_layer_sizes': (188, 99, 19), 'max_iter': 184, 'fitness': 0.7025}, {'activation': 'logistic', 'hidden_layer_sizes': (158, 51, 14), 'learning_rate': 'constant', 'max_iter': 192, 'solver': 'adam', 'fitness': 0.702}, {'activation': 'logistic', 'solver': 'adam', 'learning_rate': 'constant', 'hidden_layer_sizes': (158, 82, 14), 'max_iter': 192, 'fitness': 0.7015}, {'activation': 'logistic', 'solver': 'lbfgs', 'learning_rate': 'adaptive', 'hidden_layer_sizes': (199, 67, 41), 'max_iter': 187, 'fitness': 0.7015}, {'activation': 'relu', 'hidden_layer_sizes': (124, 71, 14), 'learning_rate': 'adaptive', 'max_iter': 250, 'solver': 'sgd', 'fitness': 0.7015}, {'activation': 'logistic', 'hidden_layer_sizes': (158, 51, 14), 'learning_rate': 'constant', 'max_iter': 192, 'solver': 'adam', 'fitness': 0.7015}, {'activation': 'logistic', 'solver': 'lbfgs', 'learning_rate': 'constant', 'hidden_layer_sizes': (124, 83, 42), 'max_iter': 250, 'fitness': 0.701}, {'activation': 'logistic', 'solver': 'lbfgs', 'learning_rate': 'adaptive', 'hidden_layer_sizes': (132, 71, 14), 'max_iter': 136, 'fitness': 0.701}, {'activation': 'logistic', 'hidden_layer_sizes': (124, 65, 14), 'learning_rate': 'constant', 'max_iter': 250, 'solver': 'lbfgs', 'fitness': 0.701}, {'activation': 'logistic', 'hidden_layer_sizes': (120, 51, 19), 'learning_rate': 'constant', 'max_iter': 240, 'solver': 'adam', 'fitness': 0.7005}, {'activation': 'logistic', 'hidden_layer_sizes': (120, 51, 19), 'learning_rate': 'constant', 'max_iter': 240, 'solver': 'adam', 'fitness': 0.7}, {'activation': 'logistic', 'hidden_layer_sizes': (120, 51, 19), 'learning_rate': 'constant', 'max_iter': 240, 'solver': 'adam', 'fitness': 0.7}, {'activation': 'logistic', 'hidden_layer_sizes': (199, 67, 41), 'learning_rate': 'adaptive', 'max_iter': 187, 'solver': 'lbfgs', 'fitness': 0.6995}, {'activation': 'logistic', 'hidden_layer_sizes': (132, 99, 14), 'learning_rate': 'constant', 'max_iter': 136, 'solver': 'lbfgs', 'fitness': 0.6995}, {'activation': 'logistic', 'hidden_layer_sizes': (120, 51, 19), 'learning_rate': 'constant', 'max_iter': 240, 'solver': 'adam', 'fitness': 0.6995}, {'activation': 'logistic', 'hidden_layer_sizes': (120, 51, 14), 'learning_rate': 'constant', 'max_iter': 240, 'solver': 'adam', 'fitness': 0.6995}, {'activation': 'relu', 'hidden_layer_sizes': (124, 71, 19), 'learning_rate': 'constant', 'max_iter': 250, 'solver': 'sgd', 'fitness': 0.699}, {'activation': 'logistic', 'hidden_layer_sizes': (132, 83, 14), 'learning_rate': 'constant', 'max_iter': 250, 'solver': 'lbfgs', 'fitness': 0.699}, {'activation': 'relu', 'hidden_layer_sizes': (158, 82, 14), 'learning_rate': 'constant', 'max_iter': 250, 'solver': 'sgd', 'fitness': 0.699}, {'activation': 'logistic', 'hidden_layer_sizes': (132, 99, 19), 'learning_rate': 'constant', 'max_iter': 184, 'solver': 'adam', 'fitness': 0.6985}]\n",
            "generation: \n",
            "30\n"
          ],
          "name": "stdout"
        },
        {
          "output_type": "stream",
          "text": [
            "/usr/local/lib/python3.7/dist-packages/sklearn/neural_network/_multilayer_perceptron.py:470: ConvergenceWarning: lbfgs failed to converge (status=1):\n",
            "STOP: TOTAL NO. of ITERATIONS REACHED LIMIT.\n",
            "\n",
            "Increase the number of iterations (max_iter) or scale the data as shown in:\n",
            "    https://scikit-learn.org/stable/modules/preprocessing.html\n",
            "  self.n_iter_ = _check_optimize_result(\"lbfgs\", opt_res, self.max_iter)\n",
            "/usr/local/lib/python3.7/dist-packages/sklearn/neural_network/_multilayer_perceptron.py:470: ConvergenceWarning: lbfgs failed to converge (status=1):\n",
            "STOP: TOTAL NO. of ITERATIONS REACHED LIMIT.\n",
            "\n",
            "Increase the number of iterations (max_iter) or scale the data as shown in:\n",
            "    https://scikit-learn.org/stable/modules/preprocessing.html\n",
            "  self.n_iter_ = _check_optimize_result(\"lbfgs\", opt_res, self.max_iter)\n"
          ],
          "name": "stderr"
        },
        {
          "output_type": "stream",
          "text": [
            "[{'activation': 'logistic', 'solver': 'lbfgs', 'learning_rate': 'adaptive', 'hidden_layer_sizes': (118, 90, 31), 'max_iter': 237, 'fitness': 0.7085}, {'activation': 'logistic', 'hidden_layer_sizes': (132, 83, 14), 'learning_rate': 'constant', 'max_iter': 136, 'solver': 'lbfgs', 'fitness': 0.7075}, {'activation': 'relu', 'hidden_layer_sizes': (124, 71, 14), 'learning_rate': 'adaptive', 'max_iter': 250, 'solver': 'sgd', 'fitness': 0.7055}, {'activation': 'logistic', 'hidden_layer_sizes': (120, 99, 14), 'learning_rate': 'constant', 'max_iter': 136, 'solver': 'lbfgs', 'fitness': 0.705}, {'activation': 'relu', 'hidden_layer_sizes': (124, 65, 14), 'learning_rate': 'constant', 'max_iter': 250, 'solver': 'sgd', 'fitness': 0.705}, {'activation': 'logistic', 'hidden_layer_sizes': (132, 83, 42), 'learning_rate': 'adaptive', 'max_iter': 250, 'solver': 'lbfgs', 'fitness': 0.7045}, {'activation': 'relu', 'hidden_layer_sizes': (124, 65, 14), 'learning_rate': 'constant', 'max_iter': 250, 'solver': 'sgd', 'fitness': 0.7035}, {'activation': 'logistic', 'hidden_layer_sizes': (124, 65, 14), 'learning_rate': 'constant', 'max_iter': 250, 'solver': 'adam', 'fitness': 0.7035}, {'activation': 'logistic', 'hidden_layer_sizes': (120, 67, 41), 'learning_rate': 'adaptive', 'max_iter': 187, 'solver': 'lbfgs', 'fitness': 0.703}, {'activation': 'logistic', 'hidden_layer_sizes': (158, 51, 14), 'learning_rate': 'constant', 'max_iter': 192, 'solver': 'adam', 'fitness': 0.703}, {'activation': 'logistic', 'solver': 'adam', 'learning_rate': 'constant', 'hidden_layer_sizes': (188, 99, 19), 'max_iter': 184, 'fitness': 0.7025}, {'activation': 'logistic', 'hidden_layer_sizes': (158, 51, 14), 'learning_rate': 'constant', 'max_iter': 192, 'solver': 'adam', 'fitness': 0.702}, {'activation': 'logistic', 'solver': 'adam', 'learning_rate': 'constant', 'hidden_layer_sizes': (158, 82, 14), 'max_iter': 192, 'fitness': 0.7015}, {'activation': 'logistic', 'solver': 'lbfgs', 'learning_rate': 'adaptive', 'hidden_layer_sizes': (199, 67, 41), 'max_iter': 187, 'fitness': 0.7015}, {'activation': 'relu', 'hidden_layer_sizes': (124, 71, 14), 'learning_rate': 'adaptive', 'max_iter': 250, 'solver': 'sgd', 'fitness': 0.7015}, {'activation': 'logistic', 'hidden_layer_sizes': (158, 51, 14), 'learning_rate': 'constant', 'max_iter': 192, 'solver': 'adam', 'fitness': 0.7015}, {'activation': 'logistic', 'solver': 'lbfgs', 'learning_rate': 'constant', 'hidden_layer_sizes': (124, 83, 42), 'max_iter': 250, 'fitness': 0.701}, {'activation': 'logistic', 'solver': 'lbfgs', 'learning_rate': 'adaptive', 'hidden_layer_sizes': (132, 71, 14), 'max_iter': 136, 'fitness': 0.701}, {'activation': 'logistic', 'hidden_layer_sizes': (124, 65, 14), 'learning_rate': 'constant', 'max_iter': 250, 'solver': 'lbfgs', 'fitness': 0.701}, {'activation': 'logistic', 'hidden_layer_sizes': (120, 51, 19), 'learning_rate': 'constant', 'max_iter': 240, 'solver': 'adam', 'fitness': 0.7005}, {'activation': 'logistic', 'hidden_layer_sizes': (120, 51, 19), 'learning_rate': 'constant', 'max_iter': 240, 'solver': 'adam', 'fitness': 0.7}, {'activation': 'logistic', 'hidden_layer_sizes': (120, 51, 19), 'learning_rate': 'constant', 'max_iter': 240, 'solver': 'adam', 'fitness': 0.7}, {'activation': 'logistic', 'hidden_layer_sizes': (132, 83, 14), 'learning_rate': 'constant', 'max_iter': 136, 'solver': 'lbfgs', 'fitness': 0.7}, {'activation': 'logistic', 'hidden_layer_sizes': (199, 67, 41), 'learning_rate': 'adaptive', 'max_iter': 187, 'solver': 'lbfgs', 'fitness': 0.6995}, {'activation': 'logistic', 'hidden_layer_sizes': (132, 99, 14), 'learning_rate': 'constant', 'max_iter': 136, 'solver': 'lbfgs', 'fitness': 0.6995}, {'activation': 'logistic', 'hidden_layer_sizes': (120, 51, 19), 'learning_rate': 'constant', 'max_iter': 240, 'solver': 'adam', 'fitness': 0.6995}, {'activation': 'logistic', 'hidden_layer_sizes': (120, 51, 14), 'learning_rate': 'constant', 'max_iter': 240, 'solver': 'adam', 'fitness': 0.6995}, {'activation': 'relu', 'hidden_layer_sizes': (124, 71, 19), 'learning_rate': 'constant', 'max_iter': 250, 'solver': 'sgd', 'fitness': 0.699}, {'activation': 'logistic', 'hidden_layer_sizes': (132, 83, 14), 'learning_rate': 'constant', 'max_iter': 250, 'solver': 'lbfgs', 'fitness': 0.699}, {'activation': 'relu', 'hidden_layer_sizes': (158, 82, 14), 'learning_rate': 'constant', 'max_iter': 250, 'solver': 'sgd', 'fitness': 0.699}]\n",
            "generation: \n",
            "31\n"
          ],
          "name": "stdout"
        },
        {
          "output_type": "stream",
          "text": [
            "/usr/local/lib/python3.7/dist-packages/sklearn/neural_network/_multilayer_perceptron.py:470: ConvergenceWarning: lbfgs failed to converge (status=1):\n",
            "STOP: TOTAL NO. of ITERATIONS REACHED LIMIT.\n",
            "\n",
            "Increase the number of iterations (max_iter) or scale the data as shown in:\n",
            "    https://scikit-learn.org/stable/modules/preprocessing.html\n",
            "  self.n_iter_ = _check_optimize_result(\"lbfgs\", opt_res, self.max_iter)\n",
            "/usr/local/lib/python3.7/dist-packages/sklearn/neural_network/_multilayer_perceptron.py:571: ConvergenceWarning: Stochastic Optimizer: Maximum iterations (237) reached and the optimization hasn't converged yet.\n",
            "  % self.max_iter, ConvergenceWarning)\n"
          ],
          "name": "stderr"
        },
        {
          "output_type": "stream",
          "text": [
            "[{'activation': 'logistic', 'solver': 'lbfgs', 'learning_rate': 'adaptive', 'hidden_layer_sizes': (118, 90, 31), 'max_iter': 237, 'fitness': 0.7085}, {'activation': 'logistic', 'hidden_layer_sizes': (132, 83, 14), 'learning_rate': 'constant', 'max_iter': 136, 'solver': 'lbfgs', 'fitness': 0.7075}, {'activation': 'relu', 'hidden_layer_sizes': (124, 71, 14), 'learning_rate': 'adaptive', 'max_iter': 250, 'solver': 'sgd', 'fitness': 0.7055}, {'activation': 'logistic', 'hidden_layer_sizes': (120, 99, 14), 'learning_rate': 'constant', 'max_iter': 136, 'solver': 'lbfgs', 'fitness': 0.705}, {'activation': 'relu', 'hidden_layer_sizes': (124, 65, 14), 'learning_rate': 'constant', 'max_iter': 250, 'solver': 'sgd', 'fitness': 0.705}, {'activation': 'logistic', 'hidden_layer_sizes': (132, 83, 42), 'learning_rate': 'adaptive', 'max_iter': 250, 'solver': 'lbfgs', 'fitness': 0.7045}, {'activation': 'logistic', 'hidden_layer_sizes': (158, 51, 31), 'learning_rate': 'adaptive', 'max_iter': 237, 'solver': 'adam', 'fitness': 0.704}, {'activation': 'relu', 'hidden_layer_sizes': (124, 65, 14), 'learning_rate': 'constant', 'max_iter': 250, 'solver': 'sgd', 'fitness': 0.7035}, {'activation': 'logistic', 'hidden_layer_sizes': (124, 65, 14), 'learning_rate': 'constant', 'max_iter': 250, 'solver': 'adam', 'fitness': 0.7035}, {'activation': 'logistic', 'hidden_layer_sizes': (120, 67, 41), 'learning_rate': 'adaptive', 'max_iter': 187, 'solver': 'lbfgs', 'fitness': 0.703}, {'activation': 'logistic', 'hidden_layer_sizes': (158, 51, 14), 'learning_rate': 'constant', 'max_iter': 192, 'solver': 'adam', 'fitness': 0.703}, {'activation': 'logistic', 'solver': 'adam', 'learning_rate': 'constant', 'hidden_layer_sizes': (188, 99, 19), 'max_iter': 184, 'fitness': 0.7025}, {'activation': 'logistic', 'hidden_layer_sizes': (158, 51, 14), 'learning_rate': 'constant', 'max_iter': 192, 'solver': 'adam', 'fitness': 0.702}, {'activation': 'logistic', 'solver': 'adam', 'learning_rate': 'constant', 'hidden_layer_sizes': (158, 82, 14), 'max_iter': 192, 'fitness': 0.7015}, {'activation': 'logistic', 'solver': 'lbfgs', 'learning_rate': 'adaptive', 'hidden_layer_sizes': (199, 67, 41), 'max_iter': 187, 'fitness': 0.7015}, {'activation': 'relu', 'hidden_layer_sizes': (124, 71, 14), 'learning_rate': 'adaptive', 'max_iter': 250, 'solver': 'sgd', 'fitness': 0.7015}, {'activation': 'logistic', 'hidden_layer_sizes': (158, 51, 14), 'learning_rate': 'constant', 'max_iter': 192, 'solver': 'adam', 'fitness': 0.7015}, {'activation': 'logistic', 'solver': 'lbfgs', 'learning_rate': 'constant', 'hidden_layer_sizes': (124, 83, 42), 'max_iter': 250, 'fitness': 0.701}, {'activation': 'logistic', 'solver': 'lbfgs', 'learning_rate': 'adaptive', 'hidden_layer_sizes': (132, 71, 14), 'max_iter': 136, 'fitness': 0.701}, {'activation': 'logistic', 'hidden_layer_sizes': (124, 65, 14), 'learning_rate': 'constant', 'max_iter': 250, 'solver': 'lbfgs', 'fitness': 0.701}, {'activation': 'logistic', 'hidden_layer_sizes': (120, 51, 19), 'learning_rate': 'constant', 'max_iter': 240, 'solver': 'adam', 'fitness': 0.7005}, {'activation': 'logistic', 'hidden_layer_sizes': (120, 51, 19), 'learning_rate': 'constant', 'max_iter': 240, 'solver': 'adam', 'fitness': 0.7}, {'activation': 'logistic', 'hidden_layer_sizes': (120, 51, 19), 'learning_rate': 'constant', 'max_iter': 240, 'solver': 'adam', 'fitness': 0.7}, {'activation': 'logistic', 'hidden_layer_sizes': (132, 83, 14), 'learning_rate': 'constant', 'max_iter': 136, 'solver': 'lbfgs', 'fitness': 0.7}, {'activation': 'logistic', 'hidden_layer_sizes': (199, 67, 41), 'learning_rate': 'adaptive', 'max_iter': 187, 'solver': 'lbfgs', 'fitness': 0.6995}, {'activation': 'logistic', 'hidden_layer_sizes': (132, 99, 14), 'learning_rate': 'constant', 'max_iter': 136, 'solver': 'lbfgs', 'fitness': 0.6995}, {'activation': 'logistic', 'hidden_layer_sizes': (120, 51, 19), 'learning_rate': 'constant', 'max_iter': 240, 'solver': 'adam', 'fitness': 0.6995}, {'activation': 'logistic', 'hidden_layer_sizes': (120, 51, 14), 'learning_rate': 'constant', 'max_iter': 240, 'solver': 'adam', 'fitness': 0.6995}, {'activation': 'logistic', 'hidden_layer_sizes': (118, 90, 31), 'learning_rate': 'constant', 'max_iter': 192, 'solver': 'lbfgs', 'fitness': 0.6995}, {'activation': 'relu', 'hidden_layer_sizes': (124, 71, 19), 'learning_rate': 'constant', 'max_iter': 250, 'solver': 'sgd', 'fitness': 0.699}]\n",
            "generation: \n",
            "32\n"
          ],
          "name": "stdout"
        },
        {
          "output_type": "stream",
          "text": [
            "/usr/local/lib/python3.7/dist-packages/sklearn/neural_network/_multilayer_perceptron.py:470: ConvergenceWarning: lbfgs failed to converge (status=1):\n",
            "STOP: TOTAL NO. of ITERATIONS REACHED LIMIT.\n",
            "\n",
            "Increase the number of iterations (max_iter) or scale the data as shown in:\n",
            "    https://scikit-learn.org/stable/modules/preprocessing.html\n",
            "  self.n_iter_ = _check_optimize_result(\"lbfgs\", opt_res, self.max_iter)\n",
            "/usr/local/lib/python3.7/dist-packages/sklearn/neural_network/_multilayer_perceptron.py:470: ConvergenceWarning: lbfgs failed to converge (status=1):\n",
            "STOP: TOTAL NO. of ITERATIONS REACHED LIMIT.\n",
            "\n",
            "Increase the number of iterations (max_iter) or scale the data as shown in:\n",
            "    https://scikit-learn.org/stable/modules/preprocessing.html\n",
            "  self.n_iter_ = _check_optimize_result(\"lbfgs\", opt_res, self.max_iter)\n"
          ],
          "name": "stderr"
        },
        {
          "output_type": "stream",
          "text": [
            "[{'activation': 'logistic', 'solver': 'lbfgs', 'learning_rate': 'adaptive', 'hidden_layer_sizes': (118, 90, 31), 'max_iter': 237, 'fitness': 0.7085}, {'activation': 'logistic', 'hidden_layer_sizes': (132, 83, 14), 'learning_rate': 'constant', 'max_iter': 136, 'solver': 'lbfgs', 'fitness': 0.7075}, {'activation': 'relu', 'hidden_layer_sizes': (124, 71, 14), 'learning_rate': 'adaptive', 'max_iter': 250, 'solver': 'sgd', 'fitness': 0.7055}, {'activation': 'logistic', 'hidden_layer_sizes': (120, 99, 14), 'learning_rate': 'constant', 'max_iter': 136, 'solver': 'lbfgs', 'fitness': 0.705}, {'activation': 'relu', 'hidden_layer_sizes': (124, 65, 14), 'learning_rate': 'constant', 'max_iter': 250, 'solver': 'sgd', 'fitness': 0.705}, {'activation': 'logistic', 'hidden_layer_sizes': (132, 83, 42), 'learning_rate': 'adaptive', 'max_iter': 250, 'solver': 'lbfgs', 'fitness': 0.7045}, {'activation': 'logistic', 'hidden_layer_sizes': (158, 51, 31), 'learning_rate': 'adaptive', 'max_iter': 237, 'solver': 'adam', 'fitness': 0.704}, {'activation': 'relu', 'hidden_layer_sizes': (124, 65, 14), 'learning_rate': 'constant', 'max_iter': 250, 'solver': 'sgd', 'fitness': 0.7035}, {'activation': 'logistic', 'hidden_layer_sizes': (124, 65, 14), 'learning_rate': 'constant', 'max_iter': 250, 'solver': 'adam', 'fitness': 0.7035}, {'activation': 'logistic', 'hidden_layer_sizes': (120, 67, 41), 'learning_rate': 'adaptive', 'max_iter': 187, 'solver': 'lbfgs', 'fitness': 0.703}, {'activation': 'logistic', 'hidden_layer_sizes': (158, 51, 14), 'learning_rate': 'constant', 'max_iter': 192, 'solver': 'adam', 'fitness': 0.703}, {'activation': 'logistic', 'solver': 'adam', 'learning_rate': 'constant', 'hidden_layer_sizes': (188, 99, 19), 'max_iter': 184, 'fitness': 0.7025}, {'activation': 'logistic', 'hidden_layer_sizes': (158, 51, 14), 'learning_rate': 'constant', 'max_iter': 192, 'solver': 'adam', 'fitness': 0.702}, {'activation': 'logistic', 'hidden_layer_sizes': (120, 99, 14), 'learning_rate': 'constant', 'max_iter': 136, 'solver': 'lbfgs', 'fitness': 0.702}, {'activation': 'logistic', 'solver': 'adam', 'learning_rate': 'constant', 'hidden_layer_sizes': (158, 82, 14), 'max_iter': 192, 'fitness': 0.7015}, {'activation': 'logistic', 'solver': 'lbfgs', 'learning_rate': 'adaptive', 'hidden_layer_sizes': (199, 67, 41), 'max_iter': 187, 'fitness': 0.7015}, {'activation': 'relu', 'hidden_layer_sizes': (124, 71, 14), 'learning_rate': 'adaptive', 'max_iter': 250, 'solver': 'sgd', 'fitness': 0.7015}, {'activation': 'logistic', 'hidden_layer_sizes': (158, 51, 14), 'learning_rate': 'constant', 'max_iter': 192, 'solver': 'adam', 'fitness': 0.7015}, {'activation': 'logistic', 'solver': 'lbfgs', 'learning_rate': 'constant', 'hidden_layer_sizes': (124, 83, 42), 'max_iter': 250, 'fitness': 0.701}, {'activation': 'logistic', 'solver': 'lbfgs', 'learning_rate': 'adaptive', 'hidden_layer_sizes': (132, 71, 14), 'max_iter': 136, 'fitness': 0.701}, {'activation': 'logistic', 'hidden_layer_sizes': (124, 65, 14), 'learning_rate': 'constant', 'max_iter': 250, 'solver': 'lbfgs', 'fitness': 0.701}, {'activation': 'logistic', 'hidden_layer_sizes': (120, 51, 19), 'learning_rate': 'constant', 'max_iter': 240, 'solver': 'adam', 'fitness': 0.7005}, {'activation': 'logistic', 'hidden_layer_sizes': (120, 51, 19), 'learning_rate': 'constant', 'max_iter': 240, 'solver': 'adam', 'fitness': 0.7}, {'activation': 'logistic', 'hidden_layer_sizes': (120, 51, 19), 'learning_rate': 'constant', 'max_iter': 240, 'solver': 'adam', 'fitness': 0.7}, {'activation': 'logistic', 'hidden_layer_sizes': (132, 83, 14), 'learning_rate': 'constant', 'max_iter': 136, 'solver': 'lbfgs', 'fitness': 0.7}, {'activation': 'logistic', 'hidden_layer_sizes': (199, 67, 41), 'learning_rate': 'adaptive', 'max_iter': 187, 'solver': 'lbfgs', 'fitness': 0.6995}, {'activation': 'logistic', 'hidden_layer_sizes': (132, 99, 14), 'learning_rate': 'constant', 'max_iter': 136, 'solver': 'lbfgs', 'fitness': 0.6995}, {'activation': 'logistic', 'hidden_layer_sizes': (120, 51, 19), 'learning_rate': 'constant', 'max_iter': 240, 'solver': 'adam', 'fitness': 0.6995}, {'activation': 'logistic', 'hidden_layer_sizes': (120, 51, 14), 'learning_rate': 'constant', 'max_iter': 240, 'solver': 'adam', 'fitness': 0.6995}, {'activation': 'logistic', 'hidden_layer_sizes': (118, 90, 31), 'learning_rate': 'constant', 'max_iter': 192, 'solver': 'lbfgs', 'fitness': 0.6995}]\n",
            "generation: \n",
            "33\n"
          ],
          "name": "stdout"
        },
        {
          "output_type": "stream",
          "text": [
            "/usr/local/lib/python3.7/dist-packages/sklearn/neural_network/_multilayer_perceptron.py:470: ConvergenceWarning: lbfgs failed to converge (status=1):\n",
            "STOP: TOTAL NO. of ITERATIONS REACHED LIMIT.\n",
            "\n",
            "Increase the number of iterations (max_iter) or scale the data as shown in:\n",
            "    https://scikit-learn.org/stable/modules/preprocessing.html\n",
            "  self.n_iter_ = _check_optimize_result(\"lbfgs\", opt_res, self.max_iter)\n",
            "/usr/local/lib/python3.7/dist-packages/sklearn/neural_network/_multilayer_perceptron.py:470: ConvergenceWarning: lbfgs failed to converge (status=1):\n",
            "STOP: TOTAL NO. of ITERATIONS REACHED LIMIT.\n",
            "\n",
            "Increase the number of iterations (max_iter) or scale the data as shown in:\n",
            "    https://scikit-learn.org/stable/modules/preprocessing.html\n",
            "  self.n_iter_ = _check_optimize_result(\"lbfgs\", opt_res, self.max_iter)\n"
          ],
          "name": "stderr"
        },
        {
          "output_type": "stream",
          "text": [
            "[{'activation': 'logistic', 'solver': 'lbfgs', 'learning_rate': 'adaptive', 'hidden_layer_sizes': (118, 90, 31), 'max_iter': 237, 'fitness': 0.7085}, {'activation': 'logistic', 'hidden_layer_sizes': (132, 83, 14), 'learning_rate': 'constant', 'max_iter': 136, 'solver': 'lbfgs', 'fitness': 0.7075}, {'activation': 'relu', 'hidden_layer_sizes': (124, 71, 14), 'learning_rate': 'adaptive', 'max_iter': 250, 'solver': 'sgd', 'fitness': 0.7055}, {'activation': 'logistic', 'hidden_layer_sizes': (120, 99, 14), 'learning_rate': 'constant', 'max_iter': 136, 'solver': 'lbfgs', 'fitness': 0.705}, {'activation': 'relu', 'hidden_layer_sizes': (124, 65, 14), 'learning_rate': 'constant', 'max_iter': 250, 'solver': 'sgd', 'fitness': 0.705}, {'activation': 'logistic', 'hidden_layer_sizes': (132, 83, 42), 'learning_rate': 'adaptive', 'max_iter': 250, 'solver': 'lbfgs', 'fitness': 0.7045}, {'activation': 'logistic', 'hidden_layer_sizes': (158, 51, 31), 'learning_rate': 'adaptive', 'max_iter': 237, 'solver': 'adam', 'fitness': 0.704}, {'activation': 'relu', 'hidden_layer_sizes': (124, 65, 14), 'learning_rate': 'constant', 'max_iter': 250, 'solver': 'sgd', 'fitness': 0.7035}, {'activation': 'logistic', 'hidden_layer_sizes': (124, 65, 14), 'learning_rate': 'constant', 'max_iter': 250, 'solver': 'adam', 'fitness': 0.7035}, {'activation': 'logistic', 'hidden_layer_sizes': (120, 67, 41), 'learning_rate': 'adaptive', 'max_iter': 187, 'solver': 'lbfgs', 'fitness': 0.703}, {'activation': 'logistic', 'hidden_layer_sizes': (158, 51, 14), 'learning_rate': 'constant', 'max_iter': 192, 'solver': 'adam', 'fitness': 0.703}, {'activation': 'logistic', 'solver': 'adam', 'learning_rate': 'constant', 'hidden_layer_sizes': (188, 99, 19), 'max_iter': 184, 'fitness': 0.7025}, {'activation': 'logistic', 'hidden_layer_sizes': (158, 51, 14), 'learning_rate': 'constant', 'max_iter': 192, 'solver': 'adam', 'fitness': 0.702}, {'activation': 'logistic', 'hidden_layer_sizes': (120, 99, 14), 'learning_rate': 'constant', 'max_iter': 136, 'solver': 'lbfgs', 'fitness': 0.702}, {'activation': 'logistic', 'solver': 'adam', 'learning_rate': 'constant', 'hidden_layer_sizes': (158, 82, 14), 'max_iter': 192, 'fitness': 0.7015}, {'activation': 'logistic', 'solver': 'lbfgs', 'learning_rate': 'adaptive', 'hidden_layer_sizes': (199, 67, 41), 'max_iter': 187, 'fitness': 0.7015}, {'activation': 'relu', 'hidden_layer_sizes': (124, 71, 14), 'learning_rate': 'adaptive', 'max_iter': 250, 'solver': 'sgd', 'fitness': 0.7015}, {'activation': 'logistic', 'hidden_layer_sizes': (158, 51, 14), 'learning_rate': 'constant', 'max_iter': 192, 'solver': 'adam', 'fitness': 0.7015}, {'activation': 'logistic', 'solver': 'lbfgs', 'learning_rate': 'constant', 'hidden_layer_sizes': (124, 83, 42), 'max_iter': 250, 'fitness': 0.701}, {'activation': 'logistic', 'solver': 'lbfgs', 'learning_rate': 'adaptive', 'hidden_layer_sizes': (132, 71, 14), 'max_iter': 136, 'fitness': 0.701}, {'activation': 'logistic', 'hidden_layer_sizes': (124, 65, 14), 'learning_rate': 'constant', 'max_iter': 250, 'solver': 'lbfgs', 'fitness': 0.701}, {'activation': 'logistic', 'hidden_layer_sizes': (120, 51, 19), 'learning_rate': 'constant', 'max_iter': 240, 'solver': 'adam', 'fitness': 0.7005}, {'activation': 'logistic', 'hidden_layer_sizes': (120, 51, 19), 'learning_rate': 'constant', 'max_iter': 240, 'solver': 'adam', 'fitness': 0.7}, {'activation': 'logistic', 'hidden_layer_sizes': (120, 51, 19), 'learning_rate': 'constant', 'max_iter': 240, 'solver': 'adam', 'fitness': 0.7}, {'activation': 'logistic', 'hidden_layer_sizes': (132, 83, 14), 'learning_rate': 'constant', 'max_iter': 136, 'solver': 'lbfgs', 'fitness': 0.7}, {'activation': 'logistic', 'hidden_layer_sizes': (199, 67, 41), 'learning_rate': 'adaptive', 'max_iter': 187, 'solver': 'lbfgs', 'fitness': 0.6995}, {'activation': 'logistic', 'hidden_layer_sizes': (132, 99, 14), 'learning_rate': 'constant', 'max_iter': 136, 'solver': 'lbfgs', 'fitness': 0.6995}, {'activation': 'logistic', 'hidden_layer_sizes': (120, 51, 19), 'learning_rate': 'constant', 'max_iter': 240, 'solver': 'adam', 'fitness': 0.6995}, {'activation': 'logistic', 'hidden_layer_sizes': (120, 51, 14), 'learning_rate': 'constant', 'max_iter': 240, 'solver': 'adam', 'fitness': 0.6995}, {'activation': 'logistic', 'hidden_layer_sizes': (118, 90, 31), 'learning_rate': 'constant', 'max_iter': 192, 'solver': 'lbfgs', 'fitness': 0.6995}]\n",
            "generation: \n",
            "34\n"
          ],
          "name": "stdout"
        },
        {
          "output_type": "stream",
          "text": [
            "/usr/local/lib/python3.7/dist-packages/sklearn/neural_network/_multilayer_perceptron.py:571: ConvergenceWarning: Stochastic Optimizer: Maximum iterations (136) reached and the optimization hasn't converged yet.\n",
            "  % self.max_iter, ConvergenceWarning)\n",
            "/usr/local/lib/python3.7/dist-packages/sklearn/neural_network/_multilayer_perceptron.py:571: ConvergenceWarning: Stochastic Optimizer: Maximum iterations (250) reached and the optimization hasn't converged yet.\n",
            "  % self.max_iter, ConvergenceWarning)\n"
          ],
          "name": "stderr"
        },
        {
          "output_type": "stream",
          "text": [
            "[{'activation': 'logistic', 'solver': 'lbfgs', 'learning_rate': 'adaptive', 'hidden_layer_sizes': (118, 90, 31), 'max_iter': 237, 'fitness': 0.7085}, {'activation': 'logistic', 'hidden_layer_sizes': (132, 83, 14), 'learning_rate': 'constant', 'max_iter': 136, 'solver': 'lbfgs', 'fitness': 0.7075}, {'activation': 'relu', 'hidden_layer_sizes': (124, 71, 14), 'learning_rate': 'adaptive', 'max_iter': 250, 'solver': 'sgd', 'fitness': 0.7055}, {'activation': 'logistic', 'hidden_layer_sizes': (120, 99, 14), 'learning_rate': 'constant', 'max_iter': 136, 'solver': 'lbfgs', 'fitness': 0.705}, {'activation': 'relu', 'hidden_layer_sizes': (124, 65, 14), 'learning_rate': 'constant', 'max_iter': 250, 'solver': 'sgd', 'fitness': 0.705}, {'activation': 'logistic', 'hidden_layer_sizes': (132, 83, 42), 'learning_rate': 'adaptive', 'max_iter': 250, 'solver': 'lbfgs', 'fitness': 0.7045}, {'activation': 'logistic', 'hidden_layer_sizes': (158, 51, 31), 'learning_rate': 'adaptive', 'max_iter': 237, 'solver': 'adam', 'fitness': 0.704}, {'activation': 'relu', 'hidden_layer_sizes': (124, 65, 14), 'learning_rate': 'constant', 'max_iter': 250, 'solver': 'sgd', 'fitness': 0.7035}, {'activation': 'logistic', 'hidden_layer_sizes': (124, 65, 14), 'learning_rate': 'constant', 'max_iter': 250, 'solver': 'adam', 'fitness': 0.7035}, {'activation': 'logistic', 'hidden_layer_sizes': (120, 67, 41), 'learning_rate': 'adaptive', 'max_iter': 187, 'solver': 'lbfgs', 'fitness': 0.703}, {'activation': 'logistic', 'hidden_layer_sizes': (158, 51, 14), 'learning_rate': 'constant', 'max_iter': 192, 'solver': 'adam', 'fitness': 0.703}, {'activation': 'logistic', 'hidden_layer_sizes': (124, 83, 14), 'learning_rate': 'constant', 'max_iter': 136, 'solver': 'adam', 'fitness': 0.703}, {'activation': 'logistic', 'solver': 'adam', 'learning_rate': 'constant', 'hidden_layer_sizes': (188, 99, 19), 'max_iter': 184, 'fitness': 0.7025}, {'activation': 'logistic', 'hidden_layer_sizes': (158, 51, 14), 'learning_rate': 'constant', 'max_iter': 192, 'solver': 'adam', 'fitness': 0.702}, {'activation': 'logistic', 'hidden_layer_sizes': (120, 99, 14), 'learning_rate': 'constant', 'max_iter': 136, 'solver': 'lbfgs', 'fitness': 0.702}, {'activation': 'logistic', 'solver': 'adam', 'learning_rate': 'constant', 'hidden_layer_sizes': (158, 82, 14), 'max_iter': 192, 'fitness': 0.7015}, {'activation': 'logistic', 'solver': 'lbfgs', 'learning_rate': 'adaptive', 'hidden_layer_sizes': (199, 67, 41), 'max_iter': 187, 'fitness': 0.7015}, {'activation': 'relu', 'hidden_layer_sizes': (124, 71, 14), 'learning_rate': 'adaptive', 'max_iter': 250, 'solver': 'sgd', 'fitness': 0.7015}, {'activation': 'logistic', 'hidden_layer_sizes': (158, 51, 14), 'learning_rate': 'constant', 'max_iter': 192, 'solver': 'adam', 'fitness': 0.7015}, {'activation': 'logistic', 'solver': 'lbfgs', 'learning_rate': 'constant', 'hidden_layer_sizes': (124, 83, 42), 'max_iter': 250, 'fitness': 0.701}, {'activation': 'logistic', 'solver': 'lbfgs', 'learning_rate': 'adaptive', 'hidden_layer_sizes': (132, 71, 14), 'max_iter': 136, 'fitness': 0.701}, {'activation': 'logistic', 'hidden_layer_sizes': (124, 65, 14), 'learning_rate': 'constant', 'max_iter': 250, 'solver': 'lbfgs', 'fitness': 0.701}, {'activation': 'logistic', 'hidden_layer_sizes': (120, 51, 19), 'learning_rate': 'constant', 'max_iter': 240, 'solver': 'adam', 'fitness': 0.7005}, {'activation': 'logistic', 'hidden_layer_sizes': (120, 51, 19), 'learning_rate': 'constant', 'max_iter': 240, 'solver': 'adam', 'fitness': 0.7}, {'activation': 'logistic', 'hidden_layer_sizes': (120, 51, 19), 'learning_rate': 'constant', 'max_iter': 240, 'solver': 'adam', 'fitness': 0.7}, {'activation': 'logistic', 'hidden_layer_sizes': (132, 83, 14), 'learning_rate': 'constant', 'max_iter': 136, 'solver': 'lbfgs', 'fitness': 0.7}, {'activation': 'logistic', 'hidden_layer_sizes': (199, 67, 41), 'learning_rate': 'adaptive', 'max_iter': 187, 'solver': 'lbfgs', 'fitness': 0.6995}, {'activation': 'logistic', 'hidden_layer_sizes': (132, 99, 14), 'learning_rate': 'constant', 'max_iter': 136, 'solver': 'lbfgs', 'fitness': 0.6995}, {'activation': 'logistic', 'hidden_layer_sizes': (120, 51, 19), 'learning_rate': 'constant', 'max_iter': 240, 'solver': 'adam', 'fitness': 0.6995}, {'activation': 'logistic', 'hidden_layer_sizes': (120, 51, 14), 'learning_rate': 'constant', 'max_iter': 240, 'solver': 'adam', 'fitness': 0.6995}]\n",
            "generation: \n",
            "35\n"
          ],
          "name": "stdout"
        },
        {
          "output_type": "stream",
          "text": [
            "/usr/local/lib/python3.7/dist-packages/sklearn/neural_network/_multilayer_perceptron.py:470: ConvergenceWarning: lbfgs failed to converge (status=1):\n",
            "STOP: TOTAL NO. of ITERATIONS REACHED LIMIT.\n",
            "\n",
            "Increase the number of iterations (max_iter) or scale the data as shown in:\n",
            "    https://scikit-learn.org/stable/modules/preprocessing.html\n",
            "  self.n_iter_ = _check_optimize_result(\"lbfgs\", opt_res, self.max_iter)\n",
            "/usr/local/lib/python3.7/dist-packages/sklearn/neural_network/_multilayer_perceptron.py:470: ConvergenceWarning: lbfgs failed to converge (status=1):\n",
            "STOP: TOTAL NO. of ITERATIONS REACHED LIMIT.\n",
            "\n",
            "Increase the number of iterations (max_iter) or scale the data as shown in:\n",
            "    https://scikit-learn.org/stable/modules/preprocessing.html\n",
            "  self.n_iter_ = _check_optimize_result(\"lbfgs\", opt_res, self.max_iter)\n"
          ],
          "name": "stderr"
        },
        {
          "output_type": "stream",
          "text": [
            "[{'activation': 'logistic', 'solver': 'lbfgs', 'learning_rate': 'adaptive', 'hidden_layer_sizes': (118, 90, 31), 'max_iter': 237, 'fitness': 0.7085}, {'activation': 'logistic', 'hidden_layer_sizes': (132, 83, 14), 'learning_rate': 'constant', 'max_iter': 136, 'solver': 'lbfgs', 'fitness': 0.7075}, {'activation': 'relu', 'hidden_layer_sizes': (124, 71, 14), 'learning_rate': 'adaptive', 'max_iter': 250, 'solver': 'sgd', 'fitness': 0.7055}, {'activation': 'logistic', 'hidden_layer_sizes': (120, 99, 14), 'learning_rate': 'constant', 'max_iter': 136, 'solver': 'lbfgs', 'fitness': 0.705}, {'activation': 'relu', 'hidden_layer_sizes': (124, 65, 14), 'learning_rate': 'constant', 'max_iter': 250, 'solver': 'sgd', 'fitness': 0.705}, {'activation': 'logistic', 'hidden_layer_sizes': (120, 99, 41), 'learning_rate': 'constant', 'max_iter': 187, 'solver': 'lbfgs', 'fitness': 0.705}, {'activation': 'logistic', 'hidden_layer_sizes': (132, 83, 42), 'learning_rate': 'adaptive', 'max_iter': 250, 'solver': 'lbfgs', 'fitness': 0.7045}, {'activation': 'logistic', 'hidden_layer_sizes': (158, 51, 31), 'learning_rate': 'adaptive', 'max_iter': 237, 'solver': 'adam', 'fitness': 0.704}, {'activation': 'relu', 'hidden_layer_sizes': (124, 65, 14), 'learning_rate': 'constant', 'max_iter': 250, 'solver': 'sgd', 'fitness': 0.7035}, {'activation': 'logistic', 'hidden_layer_sizes': (124, 65, 14), 'learning_rate': 'constant', 'max_iter': 250, 'solver': 'adam', 'fitness': 0.7035}, {'activation': 'logistic', 'hidden_layer_sizes': (120, 67, 41), 'learning_rate': 'adaptive', 'max_iter': 187, 'solver': 'lbfgs', 'fitness': 0.703}, {'activation': 'logistic', 'hidden_layer_sizes': (158, 51, 14), 'learning_rate': 'constant', 'max_iter': 192, 'solver': 'adam', 'fitness': 0.703}, {'activation': 'logistic', 'hidden_layer_sizes': (124, 83, 14), 'learning_rate': 'constant', 'max_iter': 136, 'solver': 'adam', 'fitness': 0.703}, {'activation': 'logistic', 'solver': 'adam', 'learning_rate': 'constant', 'hidden_layer_sizes': (188, 99, 19), 'max_iter': 184, 'fitness': 0.7025}, {'activation': 'logistic', 'hidden_layer_sizes': (158, 51, 14), 'learning_rate': 'constant', 'max_iter': 192, 'solver': 'adam', 'fitness': 0.702}, {'activation': 'logistic', 'hidden_layer_sizes': (120, 99, 14), 'learning_rate': 'constant', 'max_iter': 136, 'solver': 'lbfgs', 'fitness': 0.702}, {'activation': 'logistic', 'solver': 'adam', 'learning_rate': 'constant', 'hidden_layer_sizes': (158, 82, 14), 'max_iter': 192, 'fitness': 0.7015}, {'activation': 'logistic', 'solver': 'lbfgs', 'learning_rate': 'adaptive', 'hidden_layer_sizes': (199, 67, 41), 'max_iter': 187, 'fitness': 0.7015}, {'activation': 'relu', 'hidden_layer_sizes': (124, 71, 14), 'learning_rate': 'adaptive', 'max_iter': 250, 'solver': 'sgd', 'fitness': 0.7015}, {'activation': 'logistic', 'hidden_layer_sizes': (158, 51, 14), 'learning_rate': 'constant', 'max_iter': 192, 'solver': 'adam', 'fitness': 0.7015}, {'activation': 'logistic', 'solver': 'lbfgs', 'learning_rate': 'constant', 'hidden_layer_sizes': (124, 83, 42), 'max_iter': 250, 'fitness': 0.701}, {'activation': 'logistic', 'solver': 'lbfgs', 'learning_rate': 'adaptive', 'hidden_layer_sizes': (132, 71, 14), 'max_iter': 136, 'fitness': 0.701}, {'activation': 'logistic', 'hidden_layer_sizes': (124, 65, 14), 'learning_rate': 'constant', 'max_iter': 250, 'solver': 'lbfgs', 'fitness': 0.701}, {'activation': 'logistic', 'hidden_layer_sizes': (120, 51, 19), 'learning_rate': 'constant', 'max_iter': 240, 'solver': 'adam', 'fitness': 0.7005}, {'activation': 'logistic', 'hidden_layer_sizes': (120, 51, 19), 'learning_rate': 'constant', 'max_iter': 240, 'solver': 'adam', 'fitness': 0.7}, {'activation': 'logistic', 'hidden_layer_sizes': (120, 51, 19), 'learning_rate': 'constant', 'max_iter': 240, 'solver': 'adam', 'fitness': 0.7}, {'activation': 'logistic', 'hidden_layer_sizes': (132, 83, 14), 'learning_rate': 'constant', 'max_iter': 136, 'solver': 'lbfgs', 'fitness': 0.7}, {'activation': 'logistic', 'hidden_layer_sizes': (199, 67, 41), 'learning_rate': 'adaptive', 'max_iter': 187, 'solver': 'lbfgs', 'fitness': 0.6995}, {'activation': 'logistic', 'hidden_layer_sizes': (132, 99, 14), 'learning_rate': 'constant', 'max_iter': 136, 'solver': 'lbfgs', 'fitness': 0.6995}, {'activation': 'logistic', 'hidden_layer_sizes': (120, 51, 19), 'learning_rate': 'constant', 'max_iter': 240, 'solver': 'adam', 'fitness': 0.6995}]\n",
            "generation: \n",
            "36\n"
          ],
          "name": "stdout"
        },
        {
          "output_type": "stream",
          "text": [
            "/usr/local/lib/python3.7/dist-packages/sklearn/neural_network/_multilayer_perceptron.py:470: ConvergenceWarning: lbfgs failed to converge (status=1):\n",
            "STOP: TOTAL NO. of ITERATIONS REACHED LIMIT.\n",
            "\n",
            "Increase the number of iterations (max_iter) or scale the data as shown in:\n",
            "    https://scikit-learn.org/stable/modules/preprocessing.html\n",
            "  self.n_iter_ = _check_optimize_result(\"lbfgs\", opt_res, self.max_iter)\n"
          ],
          "name": "stderr"
        },
        {
          "output_type": "stream",
          "text": [
            "[{'activation': 'logistic', 'solver': 'lbfgs', 'learning_rate': 'adaptive', 'hidden_layer_sizes': (118, 90, 31), 'max_iter': 237, 'fitness': 0.7085}, {'activation': 'logistic', 'hidden_layer_sizes': (132, 83, 14), 'learning_rate': 'constant', 'max_iter': 136, 'solver': 'lbfgs', 'fitness': 0.7075}, {'activation': 'relu', 'hidden_layer_sizes': (124, 71, 14), 'learning_rate': 'adaptive', 'max_iter': 250, 'solver': 'sgd', 'fitness': 0.7055}, {'activation': 'logistic', 'hidden_layer_sizes': (120, 99, 14), 'learning_rate': 'constant', 'max_iter': 136, 'solver': 'lbfgs', 'fitness': 0.705}, {'activation': 'relu', 'hidden_layer_sizes': (124, 65, 14), 'learning_rate': 'constant', 'max_iter': 250, 'solver': 'sgd', 'fitness': 0.705}, {'activation': 'logistic', 'hidden_layer_sizes': (120, 99, 41), 'learning_rate': 'constant', 'max_iter': 187, 'solver': 'lbfgs', 'fitness': 0.705}, {'activation': 'logistic', 'hidden_layer_sizes': (132, 83, 42), 'learning_rate': 'adaptive', 'max_iter': 250, 'solver': 'lbfgs', 'fitness': 0.7045}, {'activation': 'logistic', 'hidden_layer_sizes': (158, 51, 31), 'learning_rate': 'adaptive', 'max_iter': 237, 'solver': 'adam', 'fitness': 0.704}, {'activation': 'relu', 'hidden_layer_sizes': (124, 65, 14), 'learning_rate': 'constant', 'max_iter': 250, 'solver': 'sgd', 'fitness': 0.7035}, {'activation': 'logistic', 'hidden_layer_sizes': (124, 65, 14), 'learning_rate': 'constant', 'max_iter': 250, 'solver': 'adam', 'fitness': 0.7035}, {'activation': 'logistic', 'hidden_layer_sizes': (120, 67, 41), 'learning_rate': 'adaptive', 'max_iter': 187, 'solver': 'lbfgs', 'fitness': 0.703}, {'activation': 'logistic', 'hidden_layer_sizes': (158, 51, 14), 'learning_rate': 'constant', 'max_iter': 192, 'solver': 'adam', 'fitness': 0.703}, {'activation': 'logistic', 'hidden_layer_sizes': (124, 83, 14), 'learning_rate': 'constant', 'max_iter': 136, 'solver': 'adam', 'fitness': 0.703}, {'activation': 'logistic', 'solver': 'adam', 'learning_rate': 'constant', 'hidden_layer_sizes': (188, 99, 19), 'max_iter': 184, 'fitness': 0.7025}, {'activation': 'logistic', 'hidden_layer_sizes': (158, 51, 14), 'learning_rate': 'constant', 'max_iter': 192, 'solver': 'adam', 'fitness': 0.702}, {'activation': 'logistic', 'hidden_layer_sizes': (120, 99, 14), 'learning_rate': 'constant', 'max_iter': 136, 'solver': 'lbfgs', 'fitness': 0.702}, {'activation': 'logistic', 'solver': 'adam', 'learning_rate': 'constant', 'hidden_layer_sizes': (158, 82, 14), 'max_iter': 192, 'fitness': 0.7015}, {'activation': 'logistic', 'solver': 'lbfgs', 'learning_rate': 'adaptive', 'hidden_layer_sizes': (199, 67, 41), 'max_iter': 187, 'fitness': 0.7015}, {'activation': 'relu', 'hidden_layer_sizes': (124, 71, 14), 'learning_rate': 'adaptive', 'max_iter': 250, 'solver': 'sgd', 'fitness': 0.7015}, {'activation': 'logistic', 'hidden_layer_sizes': (158, 51, 14), 'learning_rate': 'constant', 'max_iter': 192, 'solver': 'adam', 'fitness': 0.7015}, {'activation': 'logistic', 'solver': 'lbfgs', 'learning_rate': 'constant', 'hidden_layer_sizes': (124, 83, 42), 'max_iter': 250, 'fitness': 0.701}, {'activation': 'logistic', 'solver': 'lbfgs', 'learning_rate': 'adaptive', 'hidden_layer_sizes': (132, 71, 14), 'max_iter': 136, 'fitness': 0.701}, {'activation': 'logistic', 'hidden_layer_sizes': (124, 65, 14), 'learning_rate': 'constant', 'max_iter': 250, 'solver': 'lbfgs', 'fitness': 0.701}, {'activation': 'logistic', 'hidden_layer_sizes': (120, 51, 19), 'learning_rate': 'constant', 'max_iter': 240, 'solver': 'adam', 'fitness': 0.7005}, {'activation': 'logistic', 'hidden_layer_sizes': (120, 51, 19), 'learning_rate': 'constant', 'max_iter': 240, 'solver': 'adam', 'fitness': 0.7}, {'activation': 'logistic', 'hidden_layer_sizes': (120, 51, 19), 'learning_rate': 'constant', 'max_iter': 240, 'solver': 'adam', 'fitness': 0.7}, {'activation': 'logistic', 'hidden_layer_sizes': (132, 83, 14), 'learning_rate': 'constant', 'max_iter': 136, 'solver': 'lbfgs', 'fitness': 0.7}, {'activation': 'logistic', 'hidden_layer_sizes': (199, 67, 41), 'learning_rate': 'adaptive', 'max_iter': 187, 'solver': 'lbfgs', 'fitness': 0.6995}, {'activation': 'logistic', 'hidden_layer_sizes': (132, 99, 14), 'learning_rate': 'constant', 'max_iter': 136, 'solver': 'lbfgs', 'fitness': 0.6995}, {'activation': 'logistic', 'hidden_layer_sizes': (120, 51, 19), 'learning_rate': 'constant', 'max_iter': 240, 'solver': 'adam', 'fitness': 0.6995}]\n",
            "generation: \n",
            "37\n"
          ],
          "name": "stdout"
        },
        {
          "output_type": "stream",
          "text": [
            "/usr/local/lib/python3.7/dist-packages/sklearn/neural_network/_multilayer_perceptron.py:571: ConvergenceWarning: Stochastic Optimizer: Maximum iterations (184) reached and the optimization hasn't converged yet.\n",
            "  % self.max_iter, ConvergenceWarning)\n"
          ],
          "name": "stderr"
        },
        {
          "output_type": "stream",
          "text": [
            "[{'activation': 'logistic', 'solver': 'lbfgs', 'learning_rate': 'adaptive', 'hidden_layer_sizes': (118, 90, 31), 'max_iter': 237, 'fitness': 0.7085}, {'activation': 'logistic', 'hidden_layer_sizes': (132, 83, 14), 'learning_rate': 'constant', 'max_iter': 136, 'solver': 'lbfgs', 'fitness': 0.7075}, {'activation': 'relu', 'hidden_layer_sizes': (124, 71, 14), 'learning_rate': 'adaptive', 'max_iter': 250, 'solver': 'sgd', 'fitness': 0.7055}, {'activation': 'logistic', 'hidden_layer_sizes': (120, 99, 14), 'learning_rate': 'constant', 'max_iter': 136, 'solver': 'lbfgs', 'fitness': 0.705}, {'activation': 'relu', 'hidden_layer_sizes': (124, 65, 14), 'learning_rate': 'constant', 'max_iter': 250, 'solver': 'sgd', 'fitness': 0.705}, {'activation': 'logistic', 'hidden_layer_sizes': (120, 99, 41), 'learning_rate': 'constant', 'max_iter': 187, 'solver': 'lbfgs', 'fitness': 0.705}, {'activation': 'logistic', 'hidden_layer_sizes': (132, 83, 42), 'learning_rate': 'adaptive', 'max_iter': 250, 'solver': 'lbfgs', 'fitness': 0.7045}, {'activation': 'logistic', 'hidden_layer_sizes': (158, 51, 31), 'learning_rate': 'adaptive', 'max_iter': 237, 'solver': 'adam', 'fitness': 0.704}, {'activation': 'relu', 'hidden_layer_sizes': (124, 65, 14), 'learning_rate': 'constant', 'max_iter': 250, 'solver': 'sgd', 'fitness': 0.7035}, {'activation': 'logistic', 'hidden_layer_sizes': (124, 65, 14), 'learning_rate': 'constant', 'max_iter': 250, 'solver': 'adam', 'fitness': 0.7035}, {'activation': 'logistic', 'hidden_layer_sizes': (120, 67, 41), 'learning_rate': 'adaptive', 'max_iter': 187, 'solver': 'lbfgs', 'fitness': 0.703}, {'activation': 'logistic', 'hidden_layer_sizes': (158, 51, 14), 'learning_rate': 'constant', 'max_iter': 192, 'solver': 'adam', 'fitness': 0.703}, {'activation': 'logistic', 'hidden_layer_sizes': (124, 83, 14), 'learning_rate': 'constant', 'max_iter': 136, 'solver': 'adam', 'fitness': 0.703}, {'activation': 'logistic', 'solver': 'adam', 'learning_rate': 'constant', 'hidden_layer_sizes': (188, 99, 19), 'max_iter': 184, 'fitness': 0.7025}, {'activation': 'logistic', 'hidden_layer_sizes': (158, 51, 14), 'learning_rate': 'constant', 'max_iter': 192, 'solver': 'adam', 'fitness': 0.702}, {'activation': 'logistic', 'hidden_layer_sizes': (120, 99, 14), 'learning_rate': 'constant', 'max_iter': 136, 'solver': 'lbfgs', 'fitness': 0.702}, {'activation': 'logistic', 'hidden_layer_sizes': (188, 99, 14), 'learning_rate': 'constant', 'max_iter': 184, 'solver': 'adam', 'fitness': 0.702}, {'activation': 'logistic', 'solver': 'adam', 'learning_rate': 'constant', 'hidden_layer_sizes': (158, 82, 14), 'max_iter': 192, 'fitness': 0.7015}, {'activation': 'logistic', 'solver': 'lbfgs', 'learning_rate': 'adaptive', 'hidden_layer_sizes': (199, 67, 41), 'max_iter': 187, 'fitness': 0.7015}, {'activation': 'relu', 'hidden_layer_sizes': (124, 71, 14), 'learning_rate': 'adaptive', 'max_iter': 250, 'solver': 'sgd', 'fitness': 0.7015}, {'activation': 'logistic', 'hidden_layer_sizes': (158, 51, 14), 'learning_rate': 'constant', 'max_iter': 192, 'solver': 'adam', 'fitness': 0.7015}, {'activation': 'logistic', 'solver': 'lbfgs', 'learning_rate': 'constant', 'hidden_layer_sizes': (124, 83, 42), 'max_iter': 250, 'fitness': 0.701}, {'activation': 'logistic', 'solver': 'lbfgs', 'learning_rate': 'adaptive', 'hidden_layer_sizes': (132, 71, 14), 'max_iter': 136, 'fitness': 0.701}, {'activation': 'logistic', 'hidden_layer_sizes': (124, 65, 14), 'learning_rate': 'constant', 'max_iter': 250, 'solver': 'lbfgs', 'fitness': 0.701}, {'activation': 'logistic', 'hidden_layer_sizes': (120, 51, 19), 'learning_rate': 'constant', 'max_iter': 240, 'solver': 'adam', 'fitness': 0.7005}, {'activation': 'logistic', 'hidden_layer_sizes': (120, 51, 19), 'learning_rate': 'constant', 'max_iter': 240, 'solver': 'adam', 'fitness': 0.7}, {'activation': 'logistic', 'hidden_layer_sizes': (120, 51, 19), 'learning_rate': 'constant', 'max_iter': 240, 'solver': 'adam', 'fitness': 0.7}, {'activation': 'logistic', 'hidden_layer_sizes': (132, 83, 14), 'learning_rate': 'constant', 'max_iter': 136, 'solver': 'lbfgs', 'fitness': 0.7}, {'activation': 'logistic', 'hidden_layer_sizes': (199, 67, 41), 'learning_rate': 'adaptive', 'max_iter': 187, 'solver': 'lbfgs', 'fitness': 0.6995}, {'activation': 'logistic', 'hidden_layer_sizes': (132, 99, 14), 'learning_rate': 'constant', 'max_iter': 136, 'solver': 'lbfgs', 'fitness': 0.6995}]\n",
            "generation: \n",
            "38\n"
          ],
          "name": "stdout"
        },
        {
          "output_type": "stream",
          "text": [
            "/usr/local/lib/python3.7/dist-packages/sklearn/neural_network/_multilayer_perceptron.py:571: ConvergenceWarning: Stochastic Optimizer: Maximum iterations (237) reached and the optimization hasn't converged yet.\n",
            "  % self.max_iter, ConvergenceWarning)\n",
            "/usr/local/lib/python3.7/dist-packages/sklearn/neural_network/_multilayer_perceptron.py:571: ConvergenceWarning: Stochastic Optimizer: Maximum iterations (237) reached and the optimization hasn't converged yet.\n",
            "  % self.max_iter, ConvergenceWarning)\n"
          ],
          "name": "stderr"
        },
        {
          "output_type": "stream",
          "text": [
            "[{'activation': 'logistic', 'solver': 'lbfgs', 'learning_rate': 'adaptive', 'hidden_layer_sizes': (118, 90, 31), 'max_iter': 237, 'fitness': 0.7085}, {'activation': 'logistic', 'hidden_layer_sizes': (132, 83, 14), 'learning_rate': 'constant', 'max_iter': 136, 'solver': 'lbfgs', 'fitness': 0.7075}, {'activation': 'relu', 'hidden_layer_sizes': (124, 71, 14), 'learning_rate': 'adaptive', 'max_iter': 250, 'solver': 'sgd', 'fitness': 0.7055}, {'activation': 'logistic', 'hidden_layer_sizes': (120, 99, 14), 'learning_rate': 'constant', 'max_iter': 136, 'solver': 'lbfgs', 'fitness': 0.705}, {'activation': 'relu', 'hidden_layer_sizes': (124, 65, 14), 'learning_rate': 'constant', 'max_iter': 250, 'solver': 'sgd', 'fitness': 0.705}, {'activation': 'logistic', 'hidden_layer_sizes': (120, 99, 41), 'learning_rate': 'constant', 'max_iter': 187, 'solver': 'lbfgs', 'fitness': 0.705}, {'activation': 'logistic', 'hidden_layer_sizes': (132, 83, 42), 'learning_rate': 'adaptive', 'max_iter': 250, 'solver': 'lbfgs', 'fitness': 0.7045}, {'activation': 'logistic', 'hidden_layer_sizes': (158, 51, 31), 'learning_rate': 'adaptive', 'max_iter': 237, 'solver': 'adam', 'fitness': 0.704}, {'activation': 'relu', 'hidden_layer_sizes': (124, 65, 14), 'learning_rate': 'constant', 'max_iter': 250, 'solver': 'sgd', 'fitness': 0.7035}, {'activation': 'logistic', 'hidden_layer_sizes': (124, 65, 14), 'learning_rate': 'constant', 'max_iter': 250, 'solver': 'adam', 'fitness': 0.7035}, {'activation': 'logistic', 'hidden_layer_sizes': (120, 67, 41), 'learning_rate': 'adaptive', 'max_iter': 187, 'solver': 'lbfgs', 'fitness': 0.703}, {'activation': 'logistic', 'hidden_layer_sizes': (158, 51, 14), 'learning_rate': 'constant', 'max_iter': 192, 'solver': 'adam', 'fitness': 0.703}, {'activation': 'logistic', 'hidden_layer_sizes': (124, 83, 14), 'learning_rate': 'constant', 'max_iter': 136, 'solver': 'adam', 'fitness': 0.703}, {'activation': 'logistic', 'solver': 'adam', 'learning_rate': 'constant', 'hidden_layer_sizes': (188, 99, 19), 'max_iter': 184, 'fitness': 0.7025}, {'activation': 'logistic', 'hidden_layer_sizes': (158, 51, 14), 'learning_rate': 'constant', 'max_iter': 192, 'solver': 'adam', 'fitness': 0.702}, {'activation': 'logistic', 'hidden_layer_sizes': (120, 99, 14), 'learning_rate': 'constant', 'max_iter': 136, 'solver': 'lbfgs', 'fitness': 0.702}, {'activation': 'logistic', 'hidden_layer_sizes': (188, 99, 14), 'learning_rate': 'constant', 'max_iter': 184, 'solver': 'adam', 'fitness': 0.702}, {'activation': 'logistic', 'solver': 'adam', 'learning_rate': 'constant', 'hidden_layer_sizes': (158, 82, 14), 'max_iter': 192, 'fitness': 0.7015}, {'activation': 'logistic', 'solver': 'lbfgs', 'learning_rate': 'adaptive', 'hidden_layer_sizes': (199, 67, 41), 'max_iter': 187, 'fitness': 0.7015}, {'activation': 'relu', 'hidden_layer_sizes': (124, 71, 14), 'learning_rate': 'adaptive', 'max_iter': 250, 'solver': 'sgd', 'fitness': 0.7015}, {'activation': 'logistic', 'hidden_layer_sizes': (158, 51, 14), 'learning_rate': 'constant', 'max_iter': 192, 'solver': 'adam', 'fitness': 0.7015}, {'activation': 'logistic', 'solver': 'lbfgs', 'learning_rate': 'constant', 'hidden_layer_sizes': (124, 83, 42), 'max_iter': 250, 'fitness': 0.701}, {'activation': 'logistic', 'solver': 'lbfgs', 'learning_rate': 'adaptive', 'hidden_layer_sizes': (132, 71, 14), 'max_iter': 136, 'fitness': 0.701}, {'activation': 'logistic', 'hidden_layer_sizes': (124, 65, 14), 'learning_rate': 'constant', 'max_iter': 250, 'solver': 'lbfgs', 'fitness': 0.701}, {'activation': 'logistic', 'hidden_layer_sizes': (120, 51, 19), 'learning_rate': 'constant', 'max_iter': 240, 'solver': 'adam', 'fitness': 0.7005}, {'activation': 'logistic', 'hidden_layer_sizes': (120, 51, 19), 'learning_rate': 'constant', 'max_iter': 240, 'solver': 'adam', 'fitness': 0.7}, {'activation': 'logistic', 'hidden_layer_sizes': (120, 51, 19), 'learning_rate': 'constant', 'max_iter': 240, 'solver': 'adam', 'fitness': 0.7}, {'activation': 'logistic', 'hidden_layer_sizes': (132, 83, 14), 'learning_rate': 'constant', 'max_iter': 136, 'solver': 'lbfgs', 'fitness': 0.7}, {'activation': 'logistic', 'hidden_layer_sizes': (199, 67, 41), 'learning_rate': 'adaptive', 'max_iter': 187, 'solver': 'lbfgs', 'fitness': 0.6995}, {'activation': 'logistic', 'hidden_layer_sizes': (132, 99, 14), 'learning_rate': 'constant', 'max_iter': 136, 'solver': 'lbfgs', 'fitness': 0.6995}]\n",
            "generation: \n",
            "39\n"
          ],
          "name": "stdout"
        },
        {
          "output_type": "stream",
          "text": [
            "/usr/local/lib/python3.7/dist-packages/sklearn/neural_network/_multilayer_perceptron.py:571: ConvergenceWarning: Stochastic Optimizer: Maximum iterations (250) reached and the optimization hasn't converged yet.\n",
            "  % self.max_iter, ConvergenceWarning)\n",
            "/usr/local/lib/python3.7/dist-packages/sklearn/neural_network/_multilayer_perceptron.py:571: ConvergenceWarning: Stochastic Optimizer: Maximum iterations (192) reached and the optimization hasn't converged yet.\n",
            "  % self.max_iter, ConvergenceWarning)\n"
          ],
          "name": "stderr"
        },
        {
          "output_type": "stream",
          "text": [
            "[{'activation': 'logistic', 'solver': 'lbfgs', 'learning_rate': 'adaptive', 'hidden_layer_sizes': (118, 90, 31), 'max_iter': 237, 'fitness': 0.7085}, {'activation': 'logistic', 'hidden_layer_sizes': (132, 83, 14), 'learning_rate': 'constant', 'max_iter': 136, 'solver': 'lbfgs', 'fitness': 0.7075}, {'activation': 'relu', 'hidden_layer_sizes': (124, 71, 14), 'learning_rate': 'adaptive', 'max_iter': 250, 'solver': 'sgd', 'fitness': 0.7055}, {'activation': 'logistic', 'hidden_layer_sizes': (120, 99, 14), 'learning_rate': 'constant', 'max_iter': 136, 'solver': 'lbfgs', 'fitness': 0.705}, {'activation': 'relu', 'hidden_layer_sizes': (124, 65, 14), 'learning_rate': 'constant', 'max_iter': 250, 'solver': 'sgd', 'fitness': 0.705}, {'activation': 'logistic', 'hidden_layer_sizes': (120, 99, 41), 'learning_rate': 'constant', 'max_iter': 187, 'solver': 'lbfgs', 'fitness': 0.705}, {'activation': 'logistic', 'hidden_layer_sizes': (132, 83, 42), 'learning_rate': 'adaptive', 'max_iter': 250, 'solver': 'lbfgs', 'fitness': 0.7045}, {'activation': 'logistic', 'hidden_layer_sizes': (158, 51, 31), 'learning_rate': 'adaptive', 'max_iter': 237, 'solver': 'adam', 'fitness': 0.704}, {'activation': 'relu', 'hidden_layer_sizes': (124, 65, 14), 'learning_rate': 'constant', 'max_iter': 250, 'solver': 'sgd', 'fitness': 0.7035}, {'activation': 'logistic', 'hidden_layer_sizes': (124, 65, 14), 'learning_rate': 'constant', 'max_iter': 250, 'solver': 'adam', 'fitness': 0.7035}, {'activation': 'logistic', 'hidden_layer_sizes': (120, 67, 41), 'learning_rate': 'adaptive', 'max_iter': 187, 'solver': 'lbfgs', 'fitness': 0.703}, {'activation': 'logistic', 'hidden_layer_sizes': (158, 51, 14), 'learning_rate': 'constant', 'max_iter': 192, 'solver': 'adam', 'fitness': 0.703}, {'activation': 'logistic', 'hidden_layer_sizes': (124, 83, 14), 'learning_rate': 'constant', 'max_iter': 136, 'solver': 'adam', 'fitness': 0.703}, {'activation': 'logistic', 'solver': 'adam', 'learning_rate': 'constant', 'hidden_layer_sizes': (188, 99, 19), 'max_iter': 184, 'fitness': 0.7025}, {'activation': 'logistic', 'hidden_layer_sizes': (158, 51, 14), 'learning_rate': 'constant', 'max_iter': 192, 'solver': 'adam', 'fitness': 0.702}, {'activation': 'logistic', 'hidden_layer_sizes': (120, 99, 14), 'learning_rate': 'constant', 'max_iter': 136, 'solver': 'lbfgs', 'fitness': 0.702}, {'activation': 'logistic', 'hidden_layer_sizes': (188, 99, 14), 'learning_rate': 'constant', 'max_iter': 184, 'solver': 'adam', 'fitness': 0.702}, {'activation': 'logistic', 'solver': 'adam', 'learning_rate': 'constant', 'hidden_layer_sizes': (158, 82, 14), 'max_iter': 192, 'fitness': 0.7015}, {'activation': 'logistic', 'solver': 'lbfgs', 'learning_rate': 'adaptive', 'hidden_layer_sizes': (199, 67, 41), 'max_iter': 187, 'fitness': 0.7015}, {'activation': 'relu', 'hidden_layer_sizes': (124, 71, 14), 'learning_rate': 'adaptive', 'max_iter': 250, 'solver': 'sgd', 'fitness': 0.7015}, {'activation': 'logistic', 'hidden_layer_sizes': (158, 51, 14), 'learning_rate': 'constant', 'max_iter': 192, 'solver': 'adam', 'fitness': 0.7015}, {'activation': 'logistic', 'solver': 'lbfgs', 'learning_rate': 'constant', 'hidden_layer_sizes': (124, 83, 42), 'max_iter': 250, 'fitness': 0.701}, {'activation': 'logistic', 'solver': 'lbfgs', 'learning_rate': 'adaptive', 'hidden_layer_sizes': (132, 71, 14), 'max_iter': 136, 'fitness': 0.701}, {'activation': 'logistic', 'hidden_layer_sizes': (124, 65, 14), 'learning_rate': 'constant', 'max_iter': 250, 'solver': 'lbfgs', 'fitness': 0.701}, {'activation': 'logistic', 'hidden_layer_sizes': (120, 51, 19), 'learning_rate': 'constant', 'max_iter': 240, 'solver': 'adam', 'fitness': 0.7005}, {'activation': 'logistic', 'hidden_layer_sizes': (120, 51, 19), 'learning_rate': 'constant', 'max_iter': 240, 'solver': 'adam', 'fitness': 0.7}, {'activation': 'logistic', 'hidden_layer_sizes': (120, 51, 19), 'learning_rate': 'constant', 'max_iter': 240, 'solver': 'adam', 'fitness': 0.7}, {'activation': 'logistic', 'hidden_layer_sizes': (132, 83, 14), 'learning_rate': 'constant', 'max_iter': 136, 'solver': 'lbfgs', 'fitness': 0.7}, {'activation': 'logistic', 'hidden_layer_sizes': (199, 67, 41), 'learning_rate': 'adaptive', 'max_iter': 187, 'solver': 'lbfgs', 'fitness': 0.6995}, {'activation': 'logistic', 'hidden_layer_sizes': (132, 99, 14), 'learning_rate': 'constant', 'max_iter': 136, 'solver': 'lbfgs', 'fitness': 0.6995}]\n",
            "generation: \n",
            "40\n"
          ],
          "name": "stdout"
        },
        {
          "output_type": "stream",
          "text": [
            "/usr/local/lib/python3.7/dist-packages/sklearn/neural_network/_multilayer_perceptron.py:571: ConvergenceWarning: Stochastic Optimizer: Maximum iterations (136) reached and the optimization hasn't converged yet.\n",
            "  % self.max_iter, ConvergenceWarning)\n",
            "/usr/local/lib/python3.7/dist-packages/sklearn/neural_network/_multilayer_perceptron.py:571: ConvergenceWarning: Stochastic Optimizer: Maximum iterations (136) reached and the optimization hasn't converged yet.\n",
            "  % self.max_iter, ConvergenceWarning)\n"
          ],
          "name": "stderr"
        },
        {
          "output_type": "stream",
          "text": [
            "[{'activation': 'logistic', 'solver': 'lbfgs', 'learning_rate': 'adaptive', 'hidden_layer_sizes': (118, 90, 31), 'max_iter': 237, 'fitness': 0.7085}, {'activation': 'logistic', 'hidden_layer_sizes': (132, 83, 14), 'learning_rate': 'constant', 'max_iter': 136, 'solver': 'lbfgs', 'fitness': 0.7075}, {'activation': 'relu', 'hidden_layer_sizes': (124, 71, 14), 'learning_rate': 'adaptive', 'max_iter': 250, 'solver': 'sgd', 'fitness': 0.7055}, {'activation': 'logistic', 'hidden_layer_sizes': (120, 99, 14), 'learning_rate': 'constant', 'max_iter': 136, 'solver': 'lbfgs', 'fitness': 0.705}, {'activation': 'relu', 'hidden_layer_sizes': (124, 65, 14), 'learning_rate': 'constant', 'max_iter': 250, 'solver': 'sgd', 'fitness': 0.705}, {'activation': 'logistic', 'hidden_layer_sizes': (120, 99, 41), 'learning_rate': 'constant', 'max_iter': 187, 'solver': 'lbfgs', 'fitness': 0.705}, {'activation': 'logistic', 'hidden_layer_sizes': (132, 83, 42), 'learning_rate': 'adaptive', 'max_iter': 250, 'solver': 'lbfgs', 'fitness': 0.7045}, {'activation': 'logistic', 'hidden_layer_sizes': (158, 51, 31), 'learning_rate': 'adaptive', 'max_iter': 237, 'solver': 'adam', 'fitness': 0.704}, {'activation': 'relu', 'hidden_layer_sizes': (124, 65, 14), 'learning_rate': 'constant', 'max_iter': 250, 'solver': 'sgd', 'fitness': 0.7035}, {'activation': 'logistic', 'hidden_layer_sizes': (124, 65, 14), 'learning_rate': 'constant', 'max_iter': 250, 'solver': 'adam', 'fitness': 0.7035}, {'activation': 'logistic', 'hidden_layer_sizes': (120, 67, 41), 'learning_rate': 'adaptive', 'max_iter': 187, 'solver': 'lbfgs', 'fitness': 0.703}, {'activation': 'logistic', 'hidden_layer_sizes': (158, 51, 14), 'learning_rate': 'constant', 'max_iter': 192, 'solver': 'adam', 'fitness': 0.703}, {'activation': 'logistic', 'hidden_layer_sizes': (124, 83, 14), 'learning_rate': 'constant', 'max_iter': 136, 'solver': 'adam', 'fitness': 0.703}, {'activation': 'logistic', 'solver': 'adam', 'learning_rate': 'constant', 'hidden_layer_sizes': (188, 99, 19), 'max_iter': 184, 'fitness': 0.7025}, {'activation': 'logistic', 'hidden_layer_sizes': (158, 51, 14), 'learning_rate': 'constant', 'max_iter': 192, 'solver': 'adam', 'fitness': 0.702}, {'activation': 'logistic', 'hidden_layer_sizes': (120, 99, 14), 'learning_rate': 'constant', 'max_iter': 136, 'solver': 'lbfgs', 'fitness': 0.702}, {'activation': 'logistic', 'hidden_layer_sizes': (188, 99, 14), 'learning_rate': 'constant', 'max_iter': 184, 'solver': 'adam', 'fitness': 0.702}, {'activation': 'logistic', 'solver': 'adam', 'learning_rate': 'constant', 'hidden_layer_sizes': (158, 82, 14), 'max_iter': 192, 'fitness': 0.7015}, {'activation': 'logistic', 'solver': 'lbfgs', 'learning_rate': 'adaptive', 'hidden_layer_sizes': (199, 67, 41), 'max_iter': 187, 'fitness': 0.7015}, {'activation': 'relu', 'hidden_layer_sizes': (124, 71, 14), 'learning_rate': 'adaptive', 'max_iter': 250, 'solver': 'sgd', 'fitness': 0.7015}, {'activation': 'logistic', 'hidden_layer_sizes': (158, 51, 14), 'learning_rate': 'constant', 'max_iter': 192, 'solver': 'adam', 'fitness': 0.7015}, {'activation': 'logistic', 'solver': 'lbfgs', 'learning_rate': 'constant', 'hidden_layer_sizes': (124, 83, 42), 'max_iter': 250, 'fitness': 0.701}, {'activation': 'logistic', 'solver': 'lbfgs', 'learning_rate': 'adaptive', 'hidden_layer_sizes': (132, 71, 14), 'max_iter': 136, 'fitness': 0.701}, {'activation': 'logistic', 'hidden_layer_sizes': (124, 65, 14), 'learning_rate': 'constant', 'max_iter': 250, 'solver': 'lbfgs', 'fitness': 0.701}, {'activation': 'logistic', 'hidden_layer_sizes': (120, 51, 19), 'learning_rate': 'constant', 'max_iter': 240, 'solver': 'adam', 'fitness': 0.7005}, {'activation': 'logistic', 'hidden_layer_sizes': (120, 51, 19), 'learning_rate': 'constant', 'max_iter': 240, 'solver': 'adam', 'fitness': 0.7}, {'activation': 'logistic', 'hidden_layer_sizes': (120, 51, 19), 'learning_rate': 'constant', 'max_iter': 240, 'solver': 'adam', 'fitness': 0.7}, {'activation': 'logistic', 'hidden_layer_sizes': (132, 83, 14), 'learning_rate': 'constant', 'max_iter': 136, 'solver': 'lbfgs', 'fitness': 0.7}, {'activation': 'logistic', 'hidden_layer_sizes': (199, 67, 41), 'learning_rate': 'adaptive', 'max_iter': 187, 'solver': 'lbfgs', 'fitness': 0.6995}, {'activation': 'logistic', 'hidden_layer_sizes': (132, 99, 14), 'learning_rate': 'constant', 'max_iter': 136, 'solver': 'lbfgs', 'fitness': 0.6995}]\n",
            "generation: \n",
            "41\n"
          ],
          "name": "stdout"
        },
        {
          "output_type": "stream",
          "text": [
            "/usr/local/lib/python3.7/dist-packages/sklearn/neural_network/_multilayer_perceptron.py:571: ConvergenceWarning: Stochastic Optimizer: Maximum iterations (184) reached and the optimization hasn't converged yet.\n",
            "  % self.max_iter, ConvergenceWarning)\n"
          ],
          "name": "stderr"
        },
        {
          "output_type": "stream",
          "text": [
            "[{'activation': 'logistic', 'solver': 'lbfgs', 'learning_rate': 'adaptive', 'hidden_layer_sizes': (118, 90, 31), 'max_iter': 237, 'fitness': 0.7085}, {'activation': 'logistic', 'hidden_layer_sizes': (132, 83, 14), 'learning_rate': 'constant', 'max_iter': 136, 'solver': 'lbfgs', 'fitness': 0.7075}, {'activation': 'relu', 'hidden_layer_sizes': (124, 71, 14), 'learning_rate': 'adaptive', 'max_iter': 250, 'solver': 'sgd', 'fitness': 0.7055}, {'activation': 'logistic', 'hidden_layer_sizes': (120, 99, 14), 'learning_rate': 'constant', 'max_iter': 136, 'solver': 'lbfgs', 'fitness': 0.705}, {'activation': 'relu', 'hidden_layer_sizes': (124, 65, 14), 'learning_rate': 'constant', 'max_iter': 250, 'solver': 'sgd', 'fitness': 0.705}, {'activation': 'logistic', 'hidden_layer_sizes': (120, 99, 41), 'learning_rate': 'constant', 'max_iter': 187, 'solver': 'lbfgs', 'fitness': 0.705}, {'activation': 'logistic', 'hidden_layer_sizes': (132, 83, 42), 'learning_rate': 'adaptive', 'max_iter': 250, 'solver': 'lbfgs', 'fitness': 0.7045}, {'activation': 'logistic', 'hidden_layer_sizes': (158, 51, 31), 'learning_rate': 'adaptive', 'max_iter': 237, 'solver': 'adam', 'fitness': 0.704}, {'activation': 'relu', 'hidden_layer_sizes': (124, 65, 14), 'learning_rate': 'constant', 'max_iter': 250, 'solver': 'sgd', 'fitness': 0.7035}, {'activation': 'logistic', 'hidden_layer_sizes': (124, 65, 14), 'learning_rate': 'constant', 'max_iter': 250, 'solver': 'adam', 'fitness': 0.7035}, {'activation': 'logistic', 'hidden_layer_sizes': (120, 67, 41), 'learning_rate': 'adaptive', 'max_iter': 187, 'solver': 'lbfgs', 'fitness': 0.703}, {'activation': 'logistic', 'hidden_layer_sizes': (158, 51, 14), 'learning_rate': 'constant', 'max_iter': 192, 'solver': 'adam', 'fitness': 0.703}, {'activation': 'logistic', 'hidden_layer_sizes': (124, 83, 14), 'learning_rate': 'constant', 'max_iter': 136, 'solver': 'adam', 'fitness': 0.703}, {'activation': 'logistic', 'solver': 'adam', 'learning_rate': 'constant', 'hidden_layer_sizes': (188, 99, 19), 'max_iter': 184, 'fitness': 0.7025}, {'activation': 'logistic', 'hidden_layer_sizes': (158, 51, 14), 'learning_rate': 'constant', 'max_iter': 192, 'solver': 'adam', 'fitness': 0.702}, {'activation': 'logistic', 'hidden_layer_sizes': (120, 99, 14), 'learning_rate': 'constant', 'max_iter': 136, 'solver': 'lbfgs', 'fitness': 0.702}, {'activation': 'logistic', 'hidden_layer_sizes': (188, 99, 14), 'learning_rate': 'constant', 'max_iter': 184, 'solver': 'adam', 'fitness': 0.702}, {'activation': 'logistic', 'solver': 'adam', 'learning_rate': 'constant', 'hidden_layer_sizes': (158, 82, 14), 'max_iter': 192, 'fitness': 0.7015}, {'activation': 'logistic', 'solver': 'lbfgs', 'learning_rate': 'adaptive', 'hidden_layer_sizes': (199, 67, 41), 'max_iter': 187, 'fitness': 0.7015}, {'activation': 'relu', 'hidden_layer_sizes': (124, 71, 14), 'learning_rate': 'adaptive', 'max_iter': 250, 'solver': 'sgd', 'fitness': 0.7015}, {'activation': 'logistic', 'hidden_layer_sizes': (158, 51, 14), 'learning_rate': 'constant', 'max_iter': 192, 'solver': 'adam', 'fitness': 0.7015}, {'activation': 'logistic', 'solver': 'lbfgs', 'learning_rate': 'constant', 'hidden_layer_sizes': (124, 83, 42), 'max_iter': 250, 'fitness': 0.701}, {'activation': 'logistic', 'solver': 'lbfgs', 'learning_rate': 'adaptive', 'hidden_layer_sizes': (132, 71, 14), 'max_iter': 136, 'fitness': 0.701}, {'activation': 'logistic', 'hidden_layer_sizes': (124, 65, 14), 'learning_rate': 'constant', 'max_iter': 250, 'solver': 'lbfgs', 'fitness': 0.701}, {'activation': 'logistic', 'hidden_layer_sizes': (120, 51, 19), 'learning_rate': 'constant', 'max_iter': 240, 'solver': 'adam', 'fitness': 0.7005}, {'activation': 'logistic', 'hidden_layer_sizes': (120, 51, 19), 'learning_rate': 'constant', 'max_iter': 240, 'solver': 'adam', 'fitness': 0.7}, {'activation': 'logistic', 'hidden_layer_sizes': (120, 51, 19), 'learning_rate': 'constant', 'max_iter': 240, 'solver': 'adam', 'fitness': 0.7}, {'activation': 'logistic', 'hidden_layer_sizes': (132, 83, 14), 'learning_rate': 'constant', 'max_iter': 136, 'solver': 'lbfgs', 'fitness': 0.7}, {'activation': 'logistic', 'hidden_layer_sizes': (199, 67, 41), 'learning_rate': 'adaptive', 'max_iter': 187, 'solver': 'lbfgs', 'fitness': 0.6995}, {'activation': 'logistic', 'hidden_layer_sizes': (132, 99, 14), 'learning_rate': 'constant', 'max_iter': 136, 'solver': 'lbfgs', 'fitness': 0.6995}]\n",
            "generation: \n",
            "42\n"
          ],
          "name": "stdout"
        },
        {
          "output_type": "stream",
          "text": [
            "/usr/local/lib/python3.7/dist-packages/sklearn/neural_network/_multilayer_perceptron.py:571: ConvergenceWarning: Stochastic Optimizer: Maximum iterations (250) reached and the optimization hasn't converged yet.\n",
            "  % self.max_iter, ConvergenceWarning)\n"
          ],
          "name": "stderr"
        },
        {
          "output_type": "stream",
          "text": [
            "[{'activation': 'logistic', 'solver': 'lbfgs', 'learning_rate': 'adaptive', 'hidden_layer_sizes': (118, 90, 31), 'max_iter': 237, 'fitness': 0.7085}, {'activation': 'logistic', 'hidden_layer_sizes': (132, 83, 14), 'learning_rate': 'constant', 'max_iter': 136, 'solver': 'lbfgs', 'fitness': 0.7075}, {'activation': 'relu', 'hidden_layer_sizes': (124, 71, 14), 'learning_rate': 'adaptive', 'max_iter': 250, 'solver': 'sgd', 'fitness': 0.7055}, {'activation': 'logistic', 'hidden_layer_sizes': (120, 99, 14), 'learning_rate': 'constant', 'max_iter': 136, 'solver': 'lbfgs', 'fitness': 0.705}, {'activation': 'relu', 'hidden_layer_sizes': (124, 65, 14), 'learning_rate': 'constant', 'max_iter': 250, 'solver': 'sgd', 'fitness': 0.705}, {'activation': 'logistic', 'hidden_layer_sizes': (120, 99, 41), 'learning_rate': 'constant', 'max_iter': 187, 'solver': 'lbfgs', 'fitness': 0.705}, {'activation': 'logistic', 'hidden_layer_sizes': (132, 83, 42), 'learning_rate': 'adaptive', 'max_iter': 250, 'solver': 'lbfgs', 'fitness': 0.7045}, {'activation': 'logistic', 'hidden_layer_sizes': (158, 65, 14), 'learning_rate': 'invscaling', 'max_iter': 250, 'solver': 'adam', 'fitness': 0.7045}, {'activation': 'logistic', 'hidden_layer_sizes': (158, 51, 31), 'learning_rate': 'adaptive', 'max_iter': 237, 'solver': 'adam', 'fitness': 0.704}, {'activation': 'relu', 'hidden_layer_sizes': (124, 65, 14), 'learning_rate': 'constant', 'max_iter': 250, 'solver': 'sgd', 'fitness': 0.7035}, {'activation': 'logistic', 'hidden_layer_sizes': (124, 65, 14), 'learning_rate': 'constant', 'max_iter': 250, 'solver': 'adam', 'fitness': 0.7035}, {'activation': 'logistic', 'hidden_layer_sizes': (120, 67, 41), 'learning_rate': 'adaptive', 'max_iter': 187, 'solver': 'lbfgs', 'fitness': 0.703}, {'activation': 'logistic', 'hidden_layer_sizes': (158, 51, 14), 'learning_rate': 'constant', 'max_iter': 192, 'solver': 'adam', 'fitness': 0.703}, {'activation': 'logistic', 'hidden_layer_sizes': (124, 83, 14), 'learning_rate': 'constant', 'max_iter': 136, 'solver': 'adam', 'fitness': 0.703}, {'activation': 'logistic', 'solver': 'adam', 'learning_rate': 'constant', 'hidden_layer_sizes': (188, 99, 19), 'max_iter': 184, 'fitness': 0.7025}, {'activation': 'logistic', 'hidden_layer_sizes': (158, 51, 14), 'learning_rate': 'constant', 'max_iter': 192, 'solver': 'adam', 'fitness': 0.702}, {'activation': 'logistic', 'hidden_layer_sizes': (120, 99, 14), 'learning_rate': 'constant', 'max_iter': 136, 'solver': 'lbfgs', 'fitness': 0.702}, {'activation': 'logistic', 'hidden_layer_sizes': (188, 99, 14), 'learning_rate': 'constant', 'max_iter': 184, 'solver': 'adam', 'fitness': 0.702}, {'activation': 'logistic', 'solver': 'adam', 'learning_rate': 'constant', 'hidden_layer_sizes': (158, 82, 14), 'max_iter': 192, 'fitness': 0.7015}, {'activation': 'logistic', 'solver': 'lbfgs', 'learning_rate': 'adaptive', 'hidden_layer_sizes': (199, 67, 41), 'max_iter': 187, 'fitness': 0.7015}, {'activation': 'relu', 'hidden_layer_sizes': (124, 71, 14), 'learning_rate': 'adaptive', 'max_iter': 250, 'solver': 'sgd', 'fitness': 0.7015}, {'activation': 'logistic', 'hidden_layer_sizes': (158, 51, 14), 'learning_rate': 'constant', 'max_iter': 192, 'solver': 'adam', 'fitness': 0.7015}, {'activation': 'logistic', 'solver': 'lbfgs', 'learning_rate': 'constant', 'hidden_layer_sizes': (124, 83, 42), 'max_iter': 250, 'fitness': 0.701}, {'activation': 'logistic', 'solver': 'lbfgs', 'learning_rate': 'adaptive', 'hidden_layer_sizes': (132, 71, 14), 'max_iter': 136, 'fitness': 0.701}, {'activation': 'logistic', 'hidden_layer_sizes': (124, 65, 14), 'learning_rate': 'constant', 'max_iter': 250, 'solver': 'lbfgs', 'fitness': 0.701}, {'activation': 'logistic', 'hidden_layer_sizes': (120, 51, 19), 'learning_rate': 'constant', 'max_iter': 240, 'solver': 'adam', 'fitness': 0.7005}, {'activation': 'logistic', 'hidden_layer_sizes': (120, 51, 19), 'learning_rate': 'constant', 'max_iter': 240, 'solver': 'adam', 'fitness': 0.7}, {'activation': 'logistic', 'hidden_layer_sizes': (120, 51, 19), 'learning_rate': 'constant', 'max_iter': 240, 'solver': 'adam', 'fitness': 0.7}, {'activation': 'logistic', 'hidden_layer_sizes': (132, 83, 14), 'learning_rate': 'constant', 'max_iter': 136, 'solver': 'lbfgs', 'fitness': 0.7}, {'activation': 'logistic', 'hidden_layer_sizes': (199, 67, 41), 'learning_rate': 'adaptive', 'max_iter': 187, 'solver': 'lbfgs', 'fitness': 0.6995}]\n",
            "generation: \n",
            "43\n"
          ],
          "name": "stdout"
        },
        {
          "output_type": "stream",
          "text": [
            "/usr/local/lib/python3.7/dist-packages/sklearn/neural_network/_multilayer_perceptron.py:571: ConvergenceWarning: Stochastic Optimizer: Maximum iterations (250) reached and the optimization hasn't converged yet.\n",
            "  % self.max_iter, ConvergenceWarning)\n"
          ],
          "name": "stderr"
        },
        {
          "output_type": "stream",
          "text": [
            "[{'activation': 'logistic', 'solver': 'lbfgs', 'learning_rate': 'adaptive', 'hidden_layer_sizes': (118, 90, 31), 'max_iter': 237, 'fitness': 0.7085}, {'activation': 'logistic', 'hidden_layer_sizes': (132, 83, 14), 'learning_rate': 'constant', 'max_iter': 136, 'solver': 'lbfgs', 'fitness': 0.7075}, {'activation': 'relu', 'hidden_layer_sizes': (124, 71, 14), 'learning_rate': 'adaptive', 'max_iter': 250, 'solver': 'sgd', 'fitness': 0.7055}, {'activation': 'logistic', 'hidden_layer_sizes': (120, 99, 14), 'learning_rate': 'constant', 'max_iter': 136, 'solver': 'lbfgs', 'fitness': 0.705}, {'activation': 'relu', 'hidden_layer_sizes': (124, 65, 14), 'learning_rate': 'constant', 'max_iter': 250, 'solver': 'sgd', 'fitness': 0.705}, {'activation': 'logistic', 'hidden_layer_sizes': (120, 99, 41), 'learning_rate': 'constant', 'max_iter': 187, 'solver': 'lbfgs', 'fitness': 0.705}, {'activation': 'logistic', 'hidden_layer_sizes': (132, 83, 42), 'learning_rate': 'adaptive', 'max_iter': 250, 'solver': 'lbfgs', 'fitness': 0.7045}, {'activation': 'logistic', 'hidden_layer_sizes': (158, 65, 14), 'learning_rate': 'invscaling', 'max_iter': 250, 'solver': 'adam', 'fitness': 0.7045}, {'activation': 'logistic', 'hidden_layer_sizes': (158, 51, 31), 'learning_rate': 'adaptive', 'max_iter': 237, 'solver': 'adam', 'fitness': 0.704}, {'activation': 'relu', 'hidden_layer_sizes': (124, 65, 14), 'learning_rate': 'constant', 'max_iter': 250, 'solver': 'sgd', 'fitness': 0.7035}, {'activation': 'logistic', 'hidden_layer_sizes': (124, 65, 14), 'learning_rate': 'constant', 'max_iter': 250, 'solver': 'adam', 'fitness': 0.7035}, {'activation': 'logistic', 'hidden_layer_sizes': (120, 67, 41), 'learning_rate': 'adaptive', 'max_iter': 187, 'solver': 'lbfgs', 'fitness': 0.703}, {'activation': 'logistic', 'hidden_layer_sizes': (158, 51, 14), 'learning_rate': 'constant', 'max_iter': 192, 'solver': 'adam', 'fitness': 0.703}, {'activation': 'logistic', 'hidden_layer_sizes': (124, 83, 14), 'learning_rate': 'constant', 'max_iter': 136, 'solver': 'adam', 'fitness': 0.703}, {'activation': 'logistic', 'solver': 'adam', 'learning_rate': 'constant', 'hidden_layer_sizes': (188, 99, 19), 'max_iter': 184, 'fitness': 0.7025}, {'activation': 'relu', 'hidden_layer_sizes': (132, 71, 14), 'learning_rate': 'constant', 'max_iter': 250, 'solver': 'sgd', 'fitness': 0.7025}, {'activation': 'logistic', 'hidden_layer_sizes': (158, 51, 14), 'learning_rate': 'constant', 'max_iter': 192, 'solver': 'adam', 'fitness': 0.702}, {'activation': 'logistic', 'hidden_layer_sizes': (120, 99, 14), 'learning_rate': 'constant', 'max_iter': 136, 'solver': 'lbfgs', 'fitness': 0.702}, {'activation': 'logistic', 'hidden_layer_sizes': (188, 99, 14), 'learning_rate': 'constant', 'max_iter': 184, 'solver': 'adam', 'fitness': 0.702}, {'activation': 'logistic', 'solver': 'adam', 'learning_rate': 'constant', 'hidden_layer_sizes': (158, 82, 14), 'max_iter': 192, 'fitness': 0.7015}, {'activation': 'logistic', 'solver': 'lbfgs', 'learning_rate': 'adaptive', 'hidden_layer_sizes': (199, 67, 41), 'max_iter': 187, 'fitness': 0.7015}, {'activation': 'relu', 'hidden_layer_sizes': (124, 71, 14), 'learning_rate': 'adaptive', 'max_iter': 250, 'solver': 'sgd', 'fitness': 0.7015}, {'activation': 'logistic', 'hidden_layer_sizes': (158, 51, 14), 'learning_rate': 'constant', 'max_iter': 192, 'solver': 'adam', 'fitness': 0.7015}, {'activation': 'logistic', 'solver': 'lbfgs', 'learning_rate': 'constant', 'hidden_layer_sizes': (124, 83, 42), 'max_iter': 250, 'fitness': 0.701}, {'activation': 'logistic', 'solver': 'lbfgs', 'learning_rate': 'adaptive', 'hidden_layer_sizes': (132, 71, 14), 'max_iter': 136, 'fitness': 0.701}, {'activation': 'logistic', 'hidden_layer_sizes': (124, 65, 14), 'learning_rate': 'constant', 'max_iter': 250, 'solver': 'lbfgs', 'fitness': 0.701}, {'activation': 'logistic', 'hidden_layer_sizes': (120, 51, 19), 'learning_rate': 'constant', 'max_iter': 240, 'solver': 'adam', 'fitness': 0.7005}, {'activation': 'logistic', 'hidden_layer_sizes': (120, 51, 19), 'learning_rate': 'constant', 'max_iter': 240, 'solver': 'adam', 'fitness': 0.7}, {'activation': 'logistic', 'hidden_layer_sizes': (120, 51, 19), 'learning_rate': 'constant', 'max_iter': 240, 'solver': 'adam', 'fitness': 0.7}, {'activation': 'logistic', 'hidden_layer_sizes': (132, 83, 14), 'learning_rate': 'constant', 'max_iter': 136, 'solver': 'lbfgs', 'fitness': 0.7}]\n",
            "generation: \n",
            "44\n"
          ],
          "name": "stdout"
        },
        {
          "output_type": "stream",
          "text": [
            "/usr/local/lib/python3.7/dist-packages/sklearn/neural_network/_multilayer_perceptron.py:470: ConvergenceWarning: lbfgs failed to converge (status=1):\n",
            "STOP: TOTAL NO. of ITERATIONS REACHED LIMIT.\n",
            "\n",
            "Increase the number of iterations (max_iter) or scale the data as shown in:\n",
            "    https://scikit-learn.org/stable/modules/preprocessing.html\n",
            "  self.n_iter_ = _check_optimize_result(\"lbfgs\", opt_res, self.max_iter)\n"
          ],
          "name": "stderr"
        },
        {
          "output_type": "stream",
          "text": [
            "[{'activation': 'logistic', 'solver': 'lbfgs', 'learning_rate': 'adaptive', 'hidden_layer_sizes': (118, 90, 31), 'max_iter': 237, 'fitness': 0.7085}, {'activation': 'logistic', 'hidden_layer_sizes': (132, 83, 14), 'learning_rate': 'constant', 'max_iter': 136, 'solver': 'lbfgs', 'fitness': 0.7075}, {'activation': 'relu', 'hidden_layer_sizes': (124, 71, 14), 'learning_rate': 'adaptive', 'max_iter': 250, 'solver': 'sgd', 'fitness': 0.7055}, {'activation': 'logistic', 'hidden_layer_sizes': (120, 99, 14), 'learning_rate': 'constant', 'max_iter': 136, 'solver': 'lbfgs', 'fitness': 0.705}, {'activation': 'relu', 'hidden_layer_sizes': (124, 65, 14), 'learning_rate': 'constant', 'max_iter': 250, 'solver': 'sgd', 'fitness': 0.705}, {'activation': 'logistic', 'hidden_layer_sizes': (120, 99, 41), 'learning_rate': 'constant', 'max_iter': 187, 'solver': 'lbfgs', 'fitness': 0.705}, {'activation': 'logistic', 'hidden_layer_sizes': (132, 83, 42), 'learning_rate': 'adaptive', 'max_iter': 250, 'solver': 'lbfgs', 'fitness': 0.7045}, {'activation': 'logistic', 'hidden_layer_sizes': (158, 65, 14), 'learning_rate': 'invscaling', 'max_iter': 250, 'solver': 'adam', 'fitness': 0.7045}, {'activation': 'logistic', 'hidden_layer_sizes': (158, 51, 31), 'learning_rate': 'adaptive', 'max_iter': 237, 'solver': 'adam', 'fitness': 0.704}, {'activation': 'relu', 'hidden_layer_sizes': (124, 65, 14), 'learning_rate': 'constant', 'max_iter': 250, 'solver': 'sgd', 'fitness': 0.7035}, {'activation': 'logistic', 'hidden_layer_sizes': (124, 65, 14), 'learning_rate': 'constant', 'max_iter': 250, 'solver': 'adam', 'fitness': 0.7035}, {'activation': 'logistic', 'hidden_layer_sizes': (120, 67, 41), 'learning_rate': 'adaptive', 'max_iter': 187, 'solver': 'lbfgs', 'fitness': 0.703}, {'activation': 'logistic', 'hidden_layer_sizes': (158, 51, 14), 'learning_rate': 'constant', 'max_iter': 192, 'solver': 'adam', 'fitness': 0.703}, {'activation': 'logistic', 'hidden_layer_sizes': (124, 83, 14), 'learning_rate': 'constant', 'max_iter': 136, 'solver': 'adam', 'fitness': 0.703}, {'activation': 'logistic', 'solver': 'adam', 'learning_rate': 'constant', 'hidden_layer_sizes': (188, 99, 19), 'max_iter': 184, 'fitness': 0.7025}, {'activation': 'relu', 'hidden_layer_sizes': (132, 71, 14), 'learning_rate': 'constant', 'max_iter': 250, 'solver': 'sgd', 'fitness': 0.7025}, {'activation': 'logistic', 'hidden_layer_sizes': (158, 51, 14), 'learning_rate': 'constant', 'max_iter': 192, 'solver': 'adam', 'fitness': 0.702}, {'activation': 'logistic', 'hidden_layer_sizes': (120, 99, 14), 'learning_rate': 'constant', 'max_iter': 136, 'solver': 'lbfgs', 'fitness': 0.702}, {'activation': 'logistic', 'hidden_layer_sizes': (188, 99, 14), 'learning_rate': 'constant', 'max_iter': 184, 'solver': 'adam', 'fitness': 0.702}, {'activation': 'logistic', 'solver': 'adam', 'learning_rate': 'constant', 'hidden_layer_sizes': (158, 82, 14), 'max_iter': 192, 'fitness': 0.7015}, {'activation': 'logistic', 'solver': 'lbfgs', 'learning_rate': 'adaptive', 'hidden_layer_sizes': (199, 67, 41), 'max_iter': 187, 'fitness': 0.7015}, {'activation': 'relu', 'hidden_layer_sizes': (124, 71, 14), 'learning_rate': 'adaptive', 'max_iter': 250, 'solver': 'sgd', 'fitness': 0.7015}, {'activation': 'logistic', 'hidden_layer_sizes': (158, 51, 14), 'learning_rate': 'constant', 'max_iter': 192, 'solver': 'adam', 'fitness': 0.7015}, {'activation': 'logistic', 'solver': 'lbfgs', 'learning_rate': 'constant', 'hidden_layer_sizes': (124, 83, 42), 'max_iter': 250, 'fitness': 0.701}, {'activation': 'logistic', 'solver': 'lbfgs', 'learning_rate': 'adaptive', 'hidden_layer_sizes': (132, 71, 14), 'max_iter': 136, 'fitness': 0.701}, {'activation': 'logistic', 'hidden_layer_sizes': (124, 65, 14), 'learning_rate': 'constant', 'max_iter': 250, 'solver': 'lbfgs', 'fitness': 0.701}, {'activation': 'logistic', 'hidden_layer_sizes': (120, 51, 19), 'learning_rate': 'constant', 'max_iter': 240, 'solver': 'adam', 'fitness': 0.7005}, {'activation': 'logistic', 'hidden_layer_sizes': (120, 51, 19), 'learning_rate': 'constant', 'max_iter': 240, 'solver': 'adam', 'fitness': 0.7}, {'activation': 'logistic', 'hidden_layer_sizes': (120, 51, 19), 'learning_rate': 'constant', 'max_iter': 240, 'solver': 'adam', 'fitness': 0.7}, {'activation': 'logistic', 'hidden_layer_sizes': (132, 83, 14), 'learning_rate': 'constant', 'max_iter': 136, 'solver': 'lbfgs', 'fitness': 0.7}]\n",
            "generation: \n",
            "45\n"
          ],
          "name": "stdout"
        },
        {
          "output_type": "stream",
          "text": [
            "/usr/local/lib/python3.7/dist-packages/sklearn/neural_network/_multilayer_perceptron.py:571: ConvergenceWarning: Stochastic Optimizer: Maximum iterations (136) reached and the optimization hasn't converged yet.\n",
            "  % self.max_iter, ConvergenceWarning)\n",
            "/usr/local/lib/python3.7/dist-packages/sklearn/neural_network/_multilayer_perceptron.py:571: ConvergenceWarning: Stochastic Optimizer: Maximum iterations (136) reached and the optimization hasn't converged yet.\n",
            "  % self.max_iter, ConvergenceWarning)\n"
          ],
          "name": "stderr"
        },
        {
          "output_type": "stream",
          "text": [
            "[{'activation': 'logistic', 'solver': 'lbfgs', 'learning_rate': 'adaptive', 'hidden_layer_sizes': (118, 90, 31), 'max_iter': 237, 'fitness': 0.7085}, {'activation': 'logistic', 'hidden_layer_sizes': (132, 83, 14), 'learning_rate': 'constant', 'max_iter': 136, 'solver': 'lbfgs', 'fitness': 0.7075}, {'activation': 'relu', 'hidden_layer_sizes': (124, 71, 14), 'learning_rate': 'adaptive', 'max_iter': 250, 'solver': 'sgd', 'fitness': 0.7055}, {'activation': 'logistic', 'hidden_layer_sizes': (120, 99, 14), 'learning_rate': 'constant', 'max_iter': 136, 'solver': 'lbfgs', 'fitness': 0.705}, {'activation': 'relu', 'hidden_layer_sizes': (124, 65, 14), 'learning_rate': 'constant', 'max_iter': 250, 'solver': 'sgd', 'fitness': 0.705}, {'activation': 'logistic', 'hidden_layer_sizes': (120, 99, 41), 'learning_rate': 'constant', 'max_iter': 187, 'solver': 'lbfgs', 'fitness': 0.705}, {'activation': 'logistic', 'hidden_layer_sizes': (132, 83, 42), 'learning_rate': 'adaptive', 'max_iter': 250, 'solver': 'lbfgs', 'fitness': 0.7045}, {'activation': 'logistic', 'hidden_layer_sizes': (158, 65, 14), 'learning_rate': 'invscaling', 'max_iter': 250, 'solver': 'adam', 'fitness': 0.7045}, {'activation': 'logistic', 'hidden_layer_sizes': (158, 51, 31), 'learning_rate': 'adaptive', 'max_iter': 237, 'solver': 'adam', 'fitness': 0.704}, {'activation': 'relu', 'hidden_layer_sizes': (124, 65, 14), 'learning_rate': 'constant', 'max_iter': 250, 'solver': 'sgd', 'fitness': 0.7035}, {'activation': 'logistic', 'hidden_layer_sizes': (124, 65, 14), 'learning_rate': 'constant', 'max_iter': 250, 'solver': 'adam', 'fitness': 0.7035}, {'activation': 'logistic', 'hidden_layer_sizes': (120, 67, 41), 'learning_rate': 'adaptive', 'max_iter': 187, 'solver': 'lbfgs', 'fitness': 0.703}, {'activation': 'logistic', 'hidden_layer_sizes': (158, 51, 14), 'learning_rate': 'constant', 'max_iter': 192, 'solver': 'adam', 'fitness': 0.703}, {'activation': 'logistic', 'hidden_layer_sizes': (124, 83, 14), 'learning_rate': 'constant', 'max_iter': 136, 'solver': 'adam', 'fitness': 0.703}, {'activation': 'logistic', 'solver': 'adam', 'learning_rate': 'constant', 'hidden_layer_sizes': (188, 99, 19), 'max_iter': 184, 'fitness': 0.7025}, {'activation': 'relu', 'hidden_layer_sizes': (132, 71, 14), 'learning_rate': 'constant', 'max_iter': 250, 'solver': 'sgd', 'fitness': 0.7025}, {'activation': 'logistic', 'hidden_layer_sizes': (158, 51, 14), 'learning_rate': 'constant', 'max_iter': 192, 'solver': 'adam', 'fitness': 0.702}, {'activation': 'logistic', 'hidden_layer_sizes': (120, 99, 14), 'learning_rate': 'constant', 'max_iter': 136, 'solver': 'lbfgs', 'fitness': 0.702}, {'activation': 'logistic', 'hidden_layer_sizes': (188, 99, 14), 'learning_rate': 'constant', 'max_iter': 184, 'solver': 'adam', 'fitness': 0.702}, {'activation': 'logistic', 'solver': 'adam', 'learning_rate': 'constant', 'hidden_layer_sizes': (158, 82, 14), 'max_iter': 192, 'fitness': 0.7015}, {'activation': 'logistic', 'solver': 'lbfgs', 'learning_rate': 'adaptive', 'hidden_layer_sizes': (199, 67, 41), 'max_iter': 187, 'fitness': 0.7015}, {'activation': 'relu', 'hidden_layer_sizes': (124, 71, 14), 'learning_rate': 'adaptive', 'max_iter': 250, 'solver': 'sgd', 'fitness': 0.7015}, {'activation': 'logistic', 'hidden_layer_sizes': (158, 51, 14), 'learning_rate': 'constant', 'max_iter': 192, 'solver': 'adam', 'fitness': 0.7015}, {'activation': 'logistic', 'solver': 'lbfgs', 'learning_rate': 'constant', 'hidden_layer_sizes': (124, 83, 42), 'max_iter': 250, 'fitness': 0.701}, {'activation': 'logistic', 'solver': 'lbfgs', 'learning_rate': 'adaptive', 'hidden_layer_sizes': (132, 71, 14), 'max_iter': 136, 'fitness': 0.701}, {'activation': 'logistic', 'hidden_layer_sizes': (124, 65, 14), 'learning_rate': 'constant', 'max_iter': 250, 'solver': 'lbfgs', 'fitness': 0.701}, {'activation': 'logistic', 'hidden_layer_sizes': (120, 51, 19), 'learning_rate': 'constant', 'max_iter': 240, 'solver': 'adam', 'fitness': 0.7005}, {'activation': 'logistic', 'hidden_layer_sizes': (120, 51, 19), 'learning_rate': 'constant', 'max_iter': 240, 'solver': 'adam', 'fitness': 0.7}, {'activation': 'logistic', 'hidden_layer_sizes': (120, 51, 19), 'learning_rate': 'constant', 'max_iter': 240, 'solver': 'adam', 'fitness': 0.7}, {'activation': 'logistic', 'hidden_layer_sizes': (132, 83, 14), 'learning_rate': 'constant', 'max_iter': 136, 'solver': 'lbfgs', 'fitness': 0.7}]\n",
            "generation: \n",
            "46\n"
          ],
          "name": "stdout"
        },
        {
          "output_type": "stream",
          "text": [
            "/usr/local/lib/python3.7/dist-packages/sklearn/neural_network/_multilayer_perceptron.py:470: ConvergenceWarning: lbfgs failed to converge (status=1):\n",
            "STOP: TOTAL NO. of ITERATIONS REACHED LIMIT.\n",
            "\n",
            "Increase the number of iterations (max_iter) or scale the data as shown in:\n",
            "    https://scikit-learn.org/stable/modules/preprocessing.html\n",
            "  self.n_iter_ = _check_optimize_result(\"lbfgs\", opt_res, self.max_iter)\n",
            "/usr/local/lib/python3.7/dist-packages/sklearn/neural_network/_multilayer_perceptron.py:571: ConvergenceWarning: Stochastic Optimizer: Maximum iterations (136) reached and the optimization hasn't converged yet.\n",
            "  % self.max_iter, ConvergenceWarning)\n"
          ],
          "name": "stderr"
        },
        {
          "output_type": "stream",
          "text": [
            "[{'activation': 'logistic', 'solver': 'lbfgs', 'learning_rate': 'adaptive', 'hidden_layer_sizes': (118, 90, 31), 'max_iter': 237, 'fitness': 0.7085}, {'activation': 'logistic', 'hidden_layer_sizes': (132, 83, 14), 'learning_rate': 'constant', 'max_iter': 136, 'solver': 'lbfgs', 'fitness': 0.7075}, {'activation': 'relu', 'hidden_layer_sizes': (124, 71, 14), 'learning_rate': 'adaptive', 'max_iter': 250, 'solver': 'sgd', 'fitness': 0.7055}, {'activation': 'logistic', 'hidden_layer_sizes': (120, 99, 14), 'learning_rate': 'constant', 'max_iter': 136, 'solver': 'lbfgs', 'fitness': 0.705}, {'activation': 'relu', 'hidden_layer_sizes': (124, 65, 14), 'learning_rate': 'constant', 'max_iter': 250, 'solver': 'sgd', 'fitness': 0.705}, {'activation': 'logistic', 'hidden_layer_sizes': (120, 99, 41), 'learning_rate': 'constant', 'max_iter': 187, 'solver': 'lbfgs', 'fitness': 0.705}, {'activation': 'logistic', 'hidden_layer_sizes': (132, 83, 42), 'learning_rate': 'adaptive', 'max_iter': 250, 'solver': 'lbfgs', 'fitness': 0.7045}, {'activation': 'logistic', 'hidden_layer_sizes': (158, 65, 14), 'learning_rate': 'invscaling', 'max_iter': 250, 'solver': 'adam', 'fitness': 0.7045}, {'activation': 'logistic', 'hidden_layer_sizes': (124, 83, 14), 'learning_rate': 'constant', 'max_iter': 136, 'solver': 'lbfgs', 'fitness': 0.7045}, {'activation': 'logistic', 'hidden_layer_sizes': (158, 51, 31), 'learning_rate': 'adaptive', 'max_iter': 237, 'solver': 'adam', 'fitness': 0.704}, {'activation': 'relu', 'hidden_layer_sizes': (124, 65, 14), 'learning_rate': 'constant', 'max_iter': 250, 'solver': 'sgd', 'fitness': 0.7035}, {'activation': 'logistic', 'hidden_layer_sizes': (124, 65, 14), 'learning_rate': 'constant', 'max_iter': 250, 'solver': 'adam', 'fitness': 0.7035}, {'activation': 'logistic', 'hidden_layer_sizes': (120, 67, 41), 'learning_rate': 'adaptive', 'max_iter': 187, 'solver': 'lbfgs', 'fitness': 0.703}, {'activation': 'logistic', 'hidden_layer_sizes': (158, 51, 14), 'learning_rate': 'constant', 'max_iter': 192, 'solver': 'adam', 'fitness': 0.703}, {'activation': 'logistic', 'hidden_layer_sizes': (124, 83, 14), 'learning_rate': 'constant', 'max_iter': 136, 'solver': 'adam', 'fitness': 0.703}, {'activation': 'logistic', 'solver': 'adam', 'learning_rate': 'constant', 'hidden_layer_sizes': (188, 99, 19), 'max_iter': 184, 'fitness': 0.7025}, {'activation': 'relu', 'hidden_layer_sizes': (132, 71, 14), 'learning_rate': 'constant', 'max_iter': 250, 'solver': 'sgd', 'fitness': 0.7025}, {'activation': 'logistic', 'hidden_layer_sizes': (158, 51, 14), 'learning_rate': 'constant', 'max_iter': 192, 'solver': 'adam', 'fitness': 0.702}, {'activation': 'logistic', 'hidden_layer_sizes': (120, 99, 14), 'learning_rate': 'constant', 'max_iter': 136, 'solver': 'lbfgs', 'fitness': 0.702}, {'activation': 'logistic', 'hidden_layer_sizes': (188, 99, 14), 'learning_rate': 'constant', 'max_iter': 184, 'solver': 'adam', 'fitness': 0.702}, {'activation': 'logistic', 'solver': 'adam', 'learning_rate': 'constant', 'hidden_layer_sizes': (158, 82, 14), 'max_iter': 192, 'fitness': 0.7015}, {'activation': 'logistic', 'solver': 'lbfgs', 'learning_rate': 'adaptive', 'hidden_layer_sizes': (199, 67, 41), 'max_iter': 187, 'fitness': 0.7015}, {'activation': 'relu', 'hidden_layer_sizes': (124, 71, 14), 'learning_rate': 'adaptive', 'max_iter': 250, 'solver': 'sgd', 'fitness': 0.7015}, {'activation': 'logistic', 'hidden_layer_sizes': (158, 51, 14), 'learning_rate': 'constant', 'max_iter': 192, 'solver': 'adam', 'fitness': 0.7015}, {'activation': 'logistic', 'solver': 'lbfgs', 'learning_rate': 'constant', 'hidden_layer_sizes': (124, 83, 42), 'max_iter': 250, 'fitness': 0.701}, {'activation': 'logistic', 'solver': 'lbfgs', 'learning_rate': 'adaptive', 'hidden_layer_sizes': (132, 71, 14), 'max_iter': 136, 'fitness': 0.701}, {'activation': 'logistic', 'hidden_layer_sizes': (124, 65, 14), 'learning_rate': 'constant', 'max_iter': 250, 'solver': 'lbfgs', 'fitness': 0.701}, {'activation': 'logistic', 'hidden_layer_sizes': (120, 51, 19), 'learning_rate': 'constant', 'max_iter': 240, 'solver': 'adam', 'fitness': 0.7005}, {'activation': 'logistic', 'hidden_layer_sizes': (120, 51, 19), 'learning_rate': 'constant', 'max_iter': 240, 'solver': 'adam', 'fitness': 0.7}, {'activation': 'logistic', 'hidden_layer_sizes': (120, 51, 19), 'learning_rate': 'constant', 'max_iter': 240, 'solver': 'adam', 'fitness': 0.7}]\n",
            "generation: \n",
            "47\n"
          ],
          "name": "stdout"
        },
        {
          "output_type": "stream",
          "text": [
            "/usr/local/lib/python3.7/dist-packages/sklearn/neural_network/_multilayer_perceptron.py:571: ConvergenceWarning: Stochastic Optimizer: Maximum iterations (250) reached and the optimization hasn't converged yet.\n",
            "  % self.max_iter, ConvergenceWarning)\n",
            "/usr/local/lib/python3.7/dist-packages/sklearn/neural_network/_multilayer_perceptron.py:571: ConvergenceWarning: Stochastic Optimizer: Maximum iterations (250) reached and the optimization hasn't converged yet.\n",
            "  % self.max_iter, ConvergenceWarning)\n"
          ],
          "name": "stderr"
        },
        {
          "output_type": "stream",
          "text": [
            "[{'activation': 'logistic', 'solver': 'lbfgs', 'learning_rate': 'adaptive', 'hidden_layer_sizes': (118, 90, 31), 'max_iter': 237, 'fitness': 0.7085}, {'activation': 'logistic', 'hidden_layer_sizes': (132, 83, 14), 'learning_rate': 'constant', 'max_iter': 136, 'solver': 'lbfgs', 'fitness': 0.7075}, {'activation': 'relu', 'hidden_layer_sizes': (124, 71, 14), 'learning_rate': 'adaptive', 'max_iter': 250, 'solver': 'sgd', 'fitness': 0.7055}, {'activation': 'logistic', 'hidden_layer_sizes': (120, 99, 14), 'learning_rate': 'constant', 'max_iter': 136, 'solver': 'lbfgs', 'fitness': 0.705}, {'activation': 'relu', 'hidden_layer_sizes': (124, 65, 14), 'learning_rate': 'constant', 'max_iter': 250, 'solver': 'sgd', 'fitness': 0.705}, {'activation': 'logistic', 'hidden_layer_sizes': (120, 99, 41), 'learning_rate': 'constant', 'max_iter': 187, 'solver': 'lbfgs', 'fitness': 0.705}, {'activation': 'logistic', 'hidden_layer_sizes': (132, 83, 42), 'learning_rate': 'adaptive', 'max_iter': 250, 'solver': 'lbfgs', 'fitness': 0.7045}, {'activation': 'logistic', 'hidden_layer_sizes': (158, 65, 14), 'learning_rate': 'invscaling', 'max_iter': 250, 'solver': 'adam', 'fitness': 0.7045}, {'activation': 'logistic', 'hidden_layer_sizes': (124, 83, 14), 'learning_rate': 'constant', 'max_iter': 136, 'solver': 'lbfgs', 'fitness': 0.7045}, {'activation': 'logistic', 'hidden_layer_sizes': (158, 51, 31), 'learning_rate': 'adaptive', 'max_iter': 237, 'solver': 'adam', 'fitness': 0.704}, {'activation': 'relu', 'hidden_layer_sizes': (124, 65, 14), 'learning_rate': 'constant', 'max_iter': 250, 'solver': 'sgd', 'fitness': 0.7035}, {'activation': 'logistic', 'hidden_layer_sizes': (124, 65, 14), 'learning_rate': 'constant', 'max_iter': 250, 'solver': 'adam', 'fitness': 0.7035}, {'activation': 'logistic', 'hidden_layer_sizes': (120, 67, 41), 'learning_rate': 'adaptive', 'max_iter': 187, 'solver': 'lbfgs', 'fitness': 0.703}, {'activation': 'logistic', 'hidden_layer_sizes': (158, 51, 14), 'learning_rate': 'constant', 'max_iter': 192, 'solver': 'adam', 'fitness': 0.703}, {'activation': 'logistic', 'hidden_layer_sizes': (124, 83, 14), 'learning_rate': 'constant', 'max_iter': 136, 'solver': 'adam', 'fitness': 0.703}, {'activation': 'logistic', 'solver': 'adam', 'learning_rate': 'constant', 'hidden_layer_sizes': (188, 99, 19), 'max_iter': 184, 'fitness': 0.7025}, {'activation': 'relu', 'hidden_layer_sizes': (132, 71, 14), 'learning_rate': 'constant', 'max_iter': 250, 'solver': 'sgd', 'fitness': 0.7025}, {'activation': 'logistic', 'hidden_layer_sizes': (158, 51, 14), 'learning_rate': 'constant', 'max_iter': 192, 'solver': 'adam', 'fitness': 0.702}, {'activation': 'logistic', 'hidden_layer_sizes': (120, 99, 14), 'learning_rate': 'constant', 'max_iter': 136, 'solver': 'lbfgs', 'fitness': 0.702}, {'activation': 'logistic', 'hidden_layer_sizes': (188, 99, 14), 'learning_rate': 'constant', 'max_iter': 184, 'solver': 'adam', 'fitness': 0.702}, {'activation': 'logistic', 'solver': 'adam', 'learning_rate': 'constant', 'hidden_layer_sizes': (158, 82, 14), 'max_iter': 192, 'fitness': 0.7015}, {'activation': 'logistic', 'solver': 'lbfgs', 'learning_rate': 'adaptive', 'hidden_layer_sizes': (199, 67, 41), 'max_iter': 187, 'fitness': 0.7015}, {'activation': 'relu', 'hidden_layer_sizes': (124, 71, 14), 'learning_rate': 'adaptive', 'max_iter': 250, 'solver': 'sgd', 'fitness': 0.7015}, {'activation': 'logistic', 'hidden_layer_sizes': (158, 51, 14), 'learning_rate': 'constant', 'max_iter': 192, 'solver': 'adam', 'fitness': 0.7015}, {'activation': 'logistic', 'solver': 'lbfgs', 'learning_rate': 'constant', 'hidden_layer_sizes': (124, 83, 42), 'max_iter': 250, 'fitness': 0.701}, {'activation': 'logistic', 'solver': 'lbfgs', 'learning_rate': 'adaptive', 'hidden_layer_sizes': (132, 71, 14), 'max_iter': 136, 'fitness': 0.701}, {'activation': 'logistic', 'hidden_layer_sizes': (124, 65, 14), 'learning_rate': 'constant', 'max_iter': 250, 'solver': 'lbfgs', 'fitness': 0.701}, {'activation': 'logistic', 'hidden_layer_sizes': (120, 51, 19), 'learning_rate': 'constant', 'max_iter': 240, 'solver': 'adam', 'fitness': 0.7005}, {'activation': 'logistic', 'hidden_layer_sizes': (120, 51, 19), 'learning_rate': 'constant', 'max_iter': 240, 'solver': 'adam', 'fitness': 0.7}, {'activation': 'logistic', 'hidden_layer_sizes': (120, 51, 19), 'learning_rate': 'constant', 'max_iter': 240, 'solver': 'adam', 'fitness': 0.7}]\n",
            "generation: \n",
            "48\n"
          ],
          "name": "stdout"
        },
        {
          "output_type": "stream",
          "text": [
            "/usr/local/lib/python3.7/dist-packages/sklearn/neural_network/_multilayer_perceptron.py:571: ConvergenceWarning: Stochastic Optimizer: Maximum iterations (250) reached and the optimization hasn't converged yet.\n",
            "  % self.max_iter, ConvergenceWarning)\n"
          ],
          "name": "stderr"
        },
        {
          "output_type": "stream",
          "text": [
            "[{'activation': 'logistic', 'solver': 'lbfgs', 'learning_rate': 'adaptive', 'hidden_layer_sizes': (118, 90, 31), 'max_iter': 237, 'fitness': 0.7085}, {'activation': 'logistic', 'hidden_layer_sizes': (132, 83, 14), 'learning_rate': 'constant', 'max_iter': 136, 'solver': 'lbfgs', 'fitness': 0.7075}, {'activation': 'relu', 'hidden_layer_sizes': (124, 71, 14), 'learning_rate': 'adaptive', 'max_iter': 250, 'solver': 'sgd', 'fitness': 0.7055}, {'activation': 'logistic', 'hidden_layer_sizes': (120, 99, 14), 'learning_rate': 'constant', 'max_iter': 136, 'solver': 'lbfgs', 'fitness': 0.705}, {'activation': 'relu', 'hidden_layer_sizes': (124, 65, 14), 'learning_rate': 'constant', 'max_iter': 250, 'solver': 'sgd', 'fitness': 0.705}, {'activation': 'logistic', 'hidden_layer_sizes': (120, 99, 41), 'learning_rate': 'constant', 'max_iter': 187, 'solver': 'lbfgs', 'fitness': 0.705}, {'activation': 'logistic', 'hidden_layer_sizes': (132, 83, 42), 'learning_rate': 'adaptive', 'max_iter': 250, 'solver': 'lbfgs', 'fitness': 0.7045}, {'activation': 'logistic', 'hidden_layer_sizes': (158, 65, 14), 'learning_rate': 'invscaling', 'max_iter': 250, 'solver': 'adam', 'fitness': 0.7045}, {'activation': 'logistic', 'hidden_layer_sizes': (124, 83, 14), 'learning_rate': 'constant', 'max_iter': 136, 'solver': 'lbfgs', 'fitness': 0.7045}, {'activation': 'logistic', 'hidden_layer_sizes': (158, 51, 31), 'learning_rate': 'adaptive', 'max_iter': 237, 'solver': 'adam', 'fitness': 0.704}, {'activation': 'relu', 'hidden_layer_sizes': (124, 65, 14), 'learning_rate': 'constant', 'max_iter': 250, 'solver': 'sgd', 'fitness': 0.7035}, {'activation': 'logistic', 'hidden_layer_sizes': (124, 65, 14), 'learning_rate': 'constant', 'max_iter': 250, 'solver': 'adam', 'fitness': 0.7035}, {'activation': 'logistic', 'hidden_layer_sizes': (120, 67, 41), 'learning_rate': 'adaptive', 'max_iter': 187, 'solver': 'lbfgs', 'fitness': 0.703}, {'activation': 'logistic', 'hidden_layer_sizes': (158, 51, 14), 'learning_rate': 'constant', 'max_iter': 192, 'solver': 'adam', 'fitness': 0.703}, {'activation': 'logistic', 'hidden_layer_sizes': (124, 83, 14), 'learning_rate': 'constant', 'max_iter': 136, 'solver': 'adam', 'fitness': 0.703}, {'activation': 'logistic', 'solver': 'adam', 'learning_rate': 'constant', 'hidden_layer_sizes': (188, 99, 19), 'max_iter': 184, 'fitness': 0.7025}, {'activation': 'relu', 'hidden_layer_sizes': (132, 71, 14), 'learning_rate': 'constant', 'max_iter': 250, 'solver': 'sgd', 'fitness': 0.7025}, {'activation': 'logistic', 'hidden_layer_sizes': (158, 51, 14), 'learning_rate': 'constant', 'max_iter': 192, 'solver': 'adam', 'fitness': 0.702}, {'activation': 'logistic', 'hidden_layer_sizes': (120, 99, 14), 'learning_rate': 'constant', 'max_iter': 136, 'solver': 'lbfgs', 'fitness': 0.702}, {'activation': 'logistic', 'hidden_layer_sizes': (188, 99, 14), 'learning_rate': 'constant', 'max_iter': 184, 'solver': 'adam', 'fitness': 0.702}, {'activation': 'logistic', 'solver': 'adam', 'learning_rate': 'constant', 'hidden_layer_sizes': (158, 82, 14), 'max_iter': 192, 'fitness': 0.7015}, {'activation': 'logistic', 'solver': 'lbfgs', 'learning_rate': 'adaptive', 'hidden_layer_sizes': (199, 67, 41), 'max_iter': 187, 'fitness': 0.7015}, {'activation': 'relu', 'hidden_layer_sizes': (124, 71, 14), 'learning_rate': 'adaptive', 'max_iter': 250, 'solver': 'sgd', 'fitness': 0.7015}, {'activation': 'logistic', 'hidden_layer_sizes': (158, 51, 14), 'learning_rate': 'constant', 'max_iter': 192, 'solver': 'adam', 'fitness': 0.7015}, {'activation': 'logistic', 'solver': 'lbfgs', 'learning_rate': 'constant', 'hidden_layer_sizes': (124, 83, 42), 'max_iter': 250, 'fitness': 0.701}, {'activation': 'logistic', 'solver': 'lbfgs', 'learning_rate': 'adaptive', 'hidden_layer_sizes': (132, 71, 14), 'max_iter': 136, 'fitness': 0.701}, {'activation': 'logistic', 'hidden_layer_sizes': (124, 65, 14), 'learning_rate': 'constant', 'max_iter': 250, 'solver': 'lbfgs', 'fitness': 0.701}, {'activation': 'logistic', 'hidden_layer_sizes': (120, 51, 19), 'learning_rate': 'constant', 'max_iter': 240, 'solver': 'adam', 'fitness': 0.7005}, {'activation': 'logistic', 'hidden_layer_sizes': (120, 51, 19), 'learning_rate': 'constant', 'max_iter': 240, 'solver': 'adam', 'fitness': 0.7}, {'activation': 'logistic', 'hidden_layer_sizes': (120, 51, 19), 'learning_rate': 'constant', 'max_iter': 240, 'solver': 'adam', 'fitness': 0.7}]\n",
            "generation: \n",
            "49\n"
          ],
          "name": "stdout"
        },
        {
          "output_type": "stream",
          "text": [
            "/usr/local/lib/python3.7/dist-packages/sklearn/neural_network/_multilayer_perceptron.py:571: ConvergenceWarning: Stochastic Optimizer: Maximum iterations (250) reached and the optimization hasn't converged yet.\n",
            "  % self.max_iter, ConvergenceWarning)\n"
          ],
          "name": "stderr"
        },
        {
          "output_type": "stream",
          "text": [
            "[{'activation': 'logistic', 'solver': 'lbfgs', 'learning_rate': 'adaptive', 'hidden_layer_sizes': (118, 90, 31), 'max_iter': 237, 'fitness': 0.7085}, {'activation': 'logistic', 'hidden_layer_sizes': (132, 83, 14), 'learning_rate': 'constant', 'max_iter': 136, 'solver': 'lbfgs', 'fitness': 0.7075}, {'activation': 'relu', 'hidden_layer_sizes': (124, 71, 14), 'learning_rate': 'adaptive', 'max_iter': 250, 'solver': 'sgd', 'fitness': 0.7055}, {'activation': 'logistic', 'hidden_layer_sizes': (120, 99, 14), 'learning_rate': 'constant', 'max_iter': 136, 'solver': 'lbfgs', 'fitness': 0.705}, {'activation': 'relu', 'hidden_layer_sizes': (124, 65, 14), 'learning_rate': 'constant', 'max_iter': 250, 'solver': 'sgd', 'fitness': 0.705}, {'activation': 'logistic', 'hidden_layer_sizes': (120, 99, 41), 'learning_rate': 'constant', 'max_iter': 187, 'solver': 'lbfgs', 'fitness': 0.705}, {'activation': 'logistic', 'hidden_layer_sizes': (132, 83, 42), 'learning_rate': 'adaptive', 'max_iter': 250, 'solver': 'lbfgs', 'fitness': 0.7045}, {'activation': 'logistic', 'hidden_layer_sizes': (158, 65, 14), 'learning_rate': 'invscaling', 'max_iter': 250, 'solver': 'adam', 'fitness': 0.7045}, {'activation': 'logistic', 'hidden_layer_sizes': (124, 83, 14), 'learning_rate': 'constant', 'max_iter': 136, 'solver': 'lbfgs', 'fitness': 0.7045}, {'activation': 'logistic', 'hidden_layer_sizes': (158, 51, 31), 'learning_rate': 'adaptive', 'max_iter': 237, 'solver': 'adam', 'fitness': 0.704}, {'activation': 'relu', 'hidden_layer_sizes': (124, 65, 14), 'learning_rate': 'constant', 'max_iter': 250, 'solver': 'sgd', 'fitness': 0.7035}, {'activation': 'logistic', 'hidden_layer_sizes': (124, 65, 14), 'learning_rate': 'constant', 'max_iter': 250, 'solver': 'adam', 'fitness': 0.7035}, {'activation': 'logistic', 'hidden_layer_sizes': (120, 67, 41), 'learning_rate': 'adaptive', 'max_iter': 187, 'solver': 'lbfgs', 'fitness': 0.703}, {'activation': 'logistic', 'hidden_layer_sizes': (158, 51, 14), 'learning_rate': 'constant', 'max_iter': 192, 'solver': 'adam', 'fitness': 0.703}, {'activation': 'logistic', 'hidden_layer_sizes': (124, 83, 14), 'learning_rate': 'constant', 'max_iter': 136, 'solver': 'adam', 'fitness': 0.703}, {'activation': 'logistic', 'solver': 'adam', 'learning_rate': 'constant', 'hidden_layer_sizes': (188, 99, 19), 'max_iter': 184, 'fitness': 0.7025}, {'activation': 'relu', 'hidden_layer_sizes': (132, 71, 14), 'learning_rate': 'constant', 'max_iter': 250, 'solver': 'sgd', 'fitness': 0.7025}, {'activation': 'logistic', 'hidden_layer_sizes': (158, 51, 14), 'learning_rate': 'constant', 'max_iter': 192, 'solver': 'adam', 'fitness': 0.702}, {'activation': 'logistic', 'hidden_layer_sizes': (120, 99, 14), 'learning_rate': 'constant', 'max_iter': 136, 'solver': 'lbfgs', 'fitness': 0.702}, {'activation': 'logistic', 'hidden_layer_sizes': (188, 99, 14), 'learning_rate': 'constant', 'max_iter': 184, 'solver': 'adam', 'fitness': 0.702}, {'activation': 'logistic', 'solver': 'adam', 'learning_rate': 'constant', 'hidden_layer_sizes': (158, 82, 14), 'max_iter': 192, 'fitness': 0.7015}, {'activation': 'logistic', 'solver': 'lbfgs', 'learning_rate': 'adaptive', 'hidden_layer_sizes': (199, 67, 41), 'max_iter': 187, 'fitness': 0.7015}, {'activation': 'relu', 'hidden_layer_sizes': (124, 71, 14), 'learning_rate': 'adaptive', 'max_iter': 250, 'solver': 'sgd', 'fitness': 0.7015}, {'activation': 'logistic', 'hidden_layer_sizes': (158, 51, 14), 'learning_rate': 'constant', 'max_iter': 192, 'solver': 'adam', 'fitness': 0.7015}, {'activation': 'logistic', 'solver': 'lbfgs', 'learning_rate': 'constant', 'hidden_layer_sizes': (124, 83, 42), 'max_iter': 250, 'fitness': 0.701}, {'activation': 'logistic', 'solver': 'lbfgs', 'learning_rate': 'adaptive', 'hidden_layer_sizes': (132, 71, 14), 'max_iter': 136, 'fitness': 0.701}, {'activation': 'logistic', 'hidden_layer_sizes': (124, 65, 14), 'learning_rate': 'constant', 'max_iter': 250, 'solver': 'lbfgs', 'fitness': 0.701}, {'activation': 'logistic', 'hidden_layer_sizes': (120, 51, 19), 'learning_rate': 'constant', 'max_iter': 240, 'solver': 'adam', 'fitness': 0.7005}, {'activation': 'logistic', 'hidden_layer_sizes': (120, 51, 19), 'learning_rate': 'constant', 'max_iter': 240, 'solver': 'adam', 'fitness': 0.7}, {'activation': 'logistic', 'hidden_layer_sizes': (120, 51, 19), 'learning_rate': 'constant', 'max_iter': 240, 'solver': 'adam', 'fitness': 0.7}]\n",
            "generation: \n",
            "50\n"
          ],
          "name": "stdout"
        },
        {
          "output_type": "stream",
          "text": [
            "/usr/local/lib/python3.7/dist-packages/sklearn/neural_network/_multilayer_perceptron.py:470: ConvergenceWarning: lbfgs failed to converge (status=1):\n",
            "STOP: TOTAL NO. of ITERATIONS REACHED LIMIT.\n",
            "\n",
            "Increase the number of iterations (max_iter) or scale the data as shown in:\n",
            "    https://scikit-learn.org/stable/modules/preprocessing.html\n",
            "  self.n_iter_ = _check_optimize_result(\"lbfgs\", opt_res, self.max_iter)\n"
          ],
          "name": "stderr"
        },
        {
          "output_type": "stream",
          "text": [
            "[{'activation': 'logistic', 'solver': 'lbfgs', 'learning_rate': 'adaptive', 'hidden_layer_sizes': (118, 90, 31), 'max_iter': 237, 'fitness': 0.7085}, {'activation': 'logistic', 'hidden_layer_sizes': (132, 83, 14), 'learning_rate': 'constant', 'max_iter': 136, 'solver': 'lbfgs', 'fitness': 0.7075}, {'activation': 'relu', 'hidden_layer_sizes': (124, 71, 14), 'learning_rate': 'adaptive', 'max_iter': 250, 'solver': 'sgd', 'fitness': 0.7055}, {'activation': 'logistic', 'hidden_layer_sizes': (120, 99, 14), 'learning_rate': 'constant', 'max_iter': 136, 'solver': 'lbfgs', 'fitness': 0.705}, {'activation': 'relu', 'hidden_layer_sizes': (124, 65, 14), 'learning_rate': 'constant', 'max_iter': 250, 'solver': 'sgd', 'fitness': 0.705}, {'activation': 'logistic', 'hidden_layer_sizes': (120, 99, 41), 'learning_rate': 'constant', 'max_iter': 187, 'solver': 'lbfgs', 'fitness': 0.705}, {'activation': 'logistic', 'hidden_layer_sizes': (132, 83, 42), 'learning_rate': 'adaptive', 'max_iter': 250, 'solver': 'lbfgs', 'fitness': 0.7045}, {'activation': 'logistic', 'hidden_layer_sizes': (158, 65, 14), 'learning_rate': 'invscaling', 'max_iter': 250, 'solver': 'adam', 'fitness': 0.7045}, {'activation': 'logistic', 'hidden_layer_sizes': (124, 83, 14), 'learning_rate': 'constant', 'max_iter': 136, 'solver': 'lbfgs', 'fitness': 0.7045}, {'activation': 'logistic', 'hidden_layer_sizes': (158, 51, 31), 'learning_rate': 'adaptive', 'max_iter': 237, 'solver': 'adam', 'fitness': 0.704}, {'activation': 'relu', 'hidden_layer_sizes': (124, 65, 14), 'learning_rate': 'constant', 'max_iter': 250, 'solver': 'sgd', 'fitness': 0.7035}, {'activation': 'logistic', 'hidden_layer_sizes': (124, 65, 14), 'learning_rate': 'constant', 'max_iter': 250, 'solver': 'adam', 'fitness': 0.7035}, {'activation': 'logistic', 'hidden_layer_sizes': (120, 67, 41), 'learning_rate': 'adaptive', 'max_iter': 187, 'solver': 'lbfgs', 'fitness': 0.703}, {'activation': 'logistic', 'hidden_layer_sizes': (158, 51, 14), 'learning_rate': 'constant', 'max_iter': 192, 'solver': 'adam', 'fitness': 0.703}, {'activation': 'logistic', 'hidden_layer_sizes': (124, 83, 14), 'learning_rate': 'constant', 'max_iter': 136, 'solver': 'adam', 'fitness': 0.703}, {'activation': 'logistic', 'solver': 'adam', 'learning_rate': 'constant', 'hidden_layer_sizes': (188, 99, 19), 'max_iter': 184, 'fitness': 0.7025}, {'activation': 'relu', 'hidden_layer_sizes': (132, 71, 14), 'learning_rate': 'constant', 'max_iter': 250, 'solver': 'sgd', 'fitness': 0.7025}, {'activation': 'logistic', 'hidden_layer_sizes': (158, 51, 14), 'learning_rate': 'constant', 'max_iter': 192, 'solver': 'adam', 'fitness': 0.702}, {'activation': 'logistic', 'hidden_layer_sizes': (120, 99, 14), 'learning_rate': 'constant', 'max_iter': 136, 'solver': 'lbfgs', 'fitness': 0.702}, {'activation': 'logistic', 'hidden_layer_sizes': (188, 99, 14), 'learning_rate': 'constant', 'max_iter': 184, 'solver': 'adam', 'fitness': 0.702}, {'activation': 'logistic', 'solver': 'adam', 'learning_rate': 'constant', 'hidden_layer_sizes': (158, 82, 14), 'max_iter': 192, 'fitness': 0.7015}, {'activation': 'logistic', 'solver': 'lbfgs', 'learning_rate': 'adaptive', 'hidden_layer_sizes': (199, 67, 41), 'max_iter': 187, 'fitness': 0.7015}, {'activation': 'relu', 'hidden_layer_sizes': (124, 71, 14), 'learning_rate': 'adaptive', 'max_iter': 250, 'solver': 'sgd', 'fitness': 0.7015}, {'activation': 'logistic', 'hidden_layer_sizes': (158, 51, 14), 'learning_rate': 'constant', 'max_iter': 192, 'solver': 'adam', 'fitness': 0.7015}, {'activation': 'logistic', 'solver': 'lbfgs', 'learning_rate': 'constant', 'hidden_layer_sizes': (124, 83, 42), 'max_iter': 250, 'fitness': 0.701}, {'activation': 'logistic', 'solver': 'lbfgs', 'learning_rate': 'adaptive', 'hidden_layer_sizes': (132, 71, 14), 'max_iter': 136, 'fitness': 0.701}, {'activation': 'logistic', 'hidden_layer_sizes': (124, 65, 14), 'learning_rate': 'constant', 'max_iter': 250, 'solver': 'lbfgs', 'fitness': 0.701}, {'activation': 'logistic', 'hidden_layer_sizes': (120, 51, 19), 'learning_rate': 'constant', 'max_iter': 240, 'solver': 'adam', 'fitness': 0.7005}, {'activation': 'logistic', 'hidden_layer_sizes': (120, 51, 19), 'learning_rate': 'constant', 'max_iter': 240, 'solver': 'adam', 'fitness': 0.7}, {'activation': 'logistic', 'hidden_layer_sizes': (120, 51, 19), 'learning_rate': 'constant', 'max_iter': 240, 'solver': 'adam', 'fitness': 0.7}]\n",
            "generation: \n",
            "51\n"
          ],
          "name": "stdout"
        },
        {
          "output_type": "stream",
          "text": [
            "/usr/local/lib/python3.7/dist-packages/sklearn/neural_network/_multilayer_perceptron.py:571: ConvergenceWarning: Stochastic Optimizer: Maximum iterations (250) reached and the optimization hasn't converged yet.\n",
            "  % self.max_iter, ConvergenceWarning)\n",
            "/usr/local/lib/python3.7/dist-packages/sklearn/neural_network/_multilayer_perceptron.py:571: ConvergenceWarning: Stochastic Optimizer: Maximum iterations (192) reached and the optimization hasn't converged yet.\n",
            "  % self.max_iter, ConvergenceWarning)\n"
          ],
          "name": "stderr"
        },
        {
          "output_type": "stream",
          "text": [
            "[{'activation': 'logistic', 'solver': 'lbfgs', 'learning_rate': 'adaptive', 'hidden_layer_sizes': (118, 90, 31), 'max_iter': 237, 'fitness': 0.7085}, {'activation': 'logistic', 'hidden_layer_sizes': (132, 83, 14), 'learning_rate': 'constant', 'max_iter': 136, 'solver': 'lbfgs', 'fitness': 0.7075}, {'activation': 'relu', 'hidden_layer_sizes': (124, 71, 14), 'learning_rate': 'adaptive', 'max_iter': 250, 'solver': 'sgd', 'fitness': 0.7055}, {'activation': 'logistic', 'hidden_layer_sizes': (120, 99, 14), 'learning_rate': 'constant', 'max_iter': 136, 'solver': 'lbfgs', 'fitness': 0.705}, {'activation': 'relu', 'hidden_layer_sizes': (124, 65, 14), 'learning_rate': 'constant', 'max_iter': 250, 'solver': 'sgd', 'fitness': 0.705}, {'activation': 'logistic', 'hidden_layer_sizes': (120, 99, 41), 'learning_rate': 'constant', 'max_iter': 187, 'solver': 'lbfgs', 'fitness': 0.705}, {'activation': 'logistic', 'hidden_layer_sizes': (132, 83, 42), 'learning_rate': 'adaptive', 'max_iter': 250, 'solver': 'lbfgs', 'fitness': 0.7045}, {'activation': 'logistic', 'hidden_layer_sizes': (158, 65, 14), 'learning_rate': 'invscaling', 'max_iter': 250, 'solver': 'adam', 'fitness': 0.7045}, {'activation': 'logistic', 'hidden_layer_sizes': (124, 83, 14), 'learning_rate': 'constant', 'max_iter': 136, 'solver': 'lbfgs', 'fitness': 0.7045}, {'activation': 'logistic', 'hidden_layer_sizes': (158, 51, 31), 'learning_rate': 'adaptive', 'max_iter': 237, 'solver': 'adam', 'fitness': 0.704}, {'activation': 'relu', 'hidden_layer_sizes': (124, 65, 14), 'learning_rate': 'constant', 'max_iter': 250, 'solver': 'sgd', 'fitness': 0.7035}, {'activation': 'logistic', 'hidden_layer_sizes': (124, 65, 14), 'learning_rate': 'constant', 'max_iter': 250, 'solver': 'adam', 'fitness': 0.7035}, {'activation': 'logistic', 'hidden_layer_sizes': (158, 65, 14), 'learning_rate': 'constant', 'max_iter': 192, 'solver': 'adam', 'fitness': 0.7035}, {'activation': 'logistic', 'hidden_layer_sizes': (120, 67, 41), 'learning_rate': 'adaptive', 'max_iter': 187, 'solver': 'lbfgs', 'fitness': 0.703}, {'activation': 'logistic', 'hidden_layer_sizes': (158, 51, 14), 'learning_rate': 'constant', 'max_iter': 192, 'solver': 'adam', 'fitness': 0.703}, {'activation': 'logistic', 'hidden_layer_sizes': (124, 83, 14), 'learning_rate': 'constant', 'max_iter': 136, 'solver': 'adam', 'fitness': 0.703}, {'activation': 'logistic', 'solver': 'adam', 'learning_rate': 'constant', 'hidden_layer_sizes': (188, 99, 19), 'max_iter': 184, 'fitness': 0.7025}, {'activation': 'relu', 'hidden_layer_sizes': (132, 71, 14), 'learning_rate': 'constant', 'max_iter': 250, 'solver': 'sgd', 'fitness': 0.7025}, {'activation': 'logistic', 'hidden_layer_sizes': (158, 51, 14), 'learning_rate': 'constant', 'max_iter': 192, 'solver': 'adam', 'fitness': 0.702}, {'activation': 'logistic', 'hidden_layer_sizes': (120, 99, 14), 'learning_rate': 'constant', 'max_iter': 136, 'solver': 'lbfgs', 'fitness': 0.702}, {'activation': 'logistic', 'hidden_layer_sizes': (188, 99, 14), 'learning_rate': 'constant', 'max_iter': 184, 'solver': 'adam', 'fitness': 0.702}, {'activation': 'logistic', 'solver': 'adam', 'learning_rate': 'constant', 'hidden_layer_sizes': (158, 82, 14), 'max_iter': 192, 'fitness': 0.7015}, {'activation': 'logistic', 'solver': 'lbfgs', 'learning_rate': 'adaptive', 'hidden_layer_sizes': (199, 67, 41), 'max_iter': 187, 'fitness': 0.7015}, {'activation': 'relu', 'hidden_layer_sizes': (124, 71, 14), 'learning_rate': 'adaptive', 'max_iter': 250, 'solver': 'sgd', 'fitness': 0.7015}, {'activation': 'logistic', 'hidden_layer_sizes': (158, 51, 14), 'learning_rate': 'constant', 'max_iter': 192, 'solver': 'adam', 'fitness': 0.7015}, {'activation': 'logistic', 'hidden_layer_sizes': (124, 65, 14), 'learning_rate': 'constant', 'max_iter': 250, 'solver': 'adam', 'fitness': 0.7015}, {'activation': 'logistic', 'solver': 'lbfgs', 'learning_rate': 'constant', 'hidden_layer_sizes': (124, 83, 42), 'max_iter': 250, 'fitness': 0.701}, {'activation': 'logistic', 'solver': 'lbfgs', 'learning_rate': 'adaptive', 'hidden_layer_sizes': (132, 71, 14), 'max_iter': 136, 'fitness': 0.701}, {'activation': 'logistic', 'hidden_layer_sizes': (124, 65, 14), 'learning_rate': 'constant', 'max_iter': 250, 'solver': 'lbfgs', 'fitness': 0.701}, {'activation': 'logistic', 'hidden_layer_sizes': (120, 51, 19), 'learning_rate': 'constant', 'max_iter': 240, 'solver': 'adam', 'fitness': 0.7005}]\n",
            "generation: \n",
            "52\n"
          ],
          "name": "stdout"
        },
        {
          "output_type": "stream",
          "text": [
            "/usr/local/lib/python3.7/dist-packages/sklearn/neural_network/_multilayer_perceptron.py:571: ConvergenceWarning: Stochastic Optimizer: Maximum iterations (250) reached and the optimization hasn't converged yet.\n",
            "  % self.max_iter, ConvergenceWarning)\n",
            "/usr/local/lib/python3.7/dist-packages/sklearn/neural_network/_multilayer_perceptron.py:571: ConvergenceWarning: Stochastic Optimizer: Maximum iterations (192) reached and the optimization hasn't converged yet.\n",
            "  % self.max_iter, ConvergenceWarning)\n"
          ],
          "name": "stderr"
        },
        {
          "output_type": "stream",
          "text": [
            "[{'activation': 'logistic', 'solver': 'lbfgs', 'learning_rate': 'adaptive', 'hidden_layer_sizes': (118, 90, 31), 'max_iter': 237, 'fitness': 0.7085}, {'activation': 'logistic', 'hidden_layer_sizes': (132, 83, 14), 'learning_rate': 'constant', 'max_iter': 136, 'solver': 'lbfgs', 'fitness': 0.7075}, {'activation': 'relu', 'hidden_layer_sizes': (124, 71, 14), 'learning_rate': 'adaptive', 'max_iter': 250, 'solver': 'sgd', 'fitness': 0.7055}, {'activation': 'logistic', 'hidden_layer_sizes': (120, 99, 14), 'learning_rate': 'constant', 'max_iter': 136, 'solver': 'lbfgs', 'fitness': 0.705}, {'activation': 'relu', 'hidden_layer_sizes': (124, 65, 14), 'learning_rate': 'constant', 'max_iter': 250, 'solver': 'sgd', 'fitness': 0.705}, {'activation': 'logistic', 'hidden_layer_sizes': (120, 99, 41), 'learning_rate': 'constant', 'max_iter': 187, 'solver': 'lbfgs', 'fitness': 0.705}, {'activation': 'logistic', 'hidden_layer_sizes': (132, 83, 42), 'learning_rate': 'adaptive', 'max_iter': 250, 'solver': 'lbfgs', 'fitness': 0.7045}, {'activation': 'logistic', 'hidden_layer_sizes': (158, 65, 14), 'learning_rate': 'invscaling', 'max_iter': 250, 'solver': 'adam', 'fitness': 0.7045}, {'activation': 'logistic', 'hidden_layer_sizes': (124, 83, 14), 'learning_rate': 'constant', 'max_iter': 136, 'solver': 'lbfgs', 'fitness': 0.7045}, {'activation': 'logistic', 'hidden_layer_sizes': (158, 51, 31), 'learning_rate': 'adaptive', 'max_iter': 237, 'solver': 'adam', 'fitness': 0.704}, {'activation': 'relu', 'hidden_layer_sizes': (124, 65, 14), 'learning_rate': 'constant', 'max_iter': 250, 'solver': 'sgd', 'fitness': 0.7035}, {'activation': 'logistic', 'hidden_layer_sizes': (124, 65, 14), 'learning_rate': 'constant', 'max_iter': 250, 'solver': 'adam', 'fitness': 0.7035}, {'activation': 'logistic', 'hidden_layer_sizes': (158, 65, 14), 'learning_rate': 'constant', 'max_iter': 192, 'solver': 'adam', 'fitness': 0.7035}, {'activation': 'logistic', 'hidden_layer_sizes': (120, 67, 41), 'learning_rate': 'adaptive', 'max_iter': 187, 'solver': 'lbfgs', 'fitness': 0.703}, {'activation': 'logistic', 'hidden_layer_sizes': (158, 51, 14), 'learning_rate': 'constant', 'max_iter': 192, 'solver': 'adam', 'fitness': 0.703}, {'activation': 'logistic', 'hidden_layer_sizes': (124, 83, 14), 'learning_rate': 'constant', 'max_iter': 136, 'solver': 'adam', 'fitness': 0.703}, {'activation': 'logistic', 'solver': 'adam', 'learning_rate': 'constant', 'hidden_layer_sizes': (188, 99, 19), 'max_iter': 184, 'fitness': 0.7025}, {'activation': 'relu', 'hidden_layer_sizes': (132, 71, 14), 'learning_rate': 'constant', 'max_iter': 250, 'solver': 'sgd', 'fitness': 0.7025}, {'activation': 'logistic', 'hidden_layer_sizes': (158, 65, 14), 'learning_rate': 'invscaling', 'max_iter': 250, 'solver': 'adam', 'fitness': 0.7025}, {'activation': 'logistic', 'hidden_layer_sizes': (158, 51, 14), 'learning_rate': 'constant', 'max_iter': 192, 'solver': 'adam', 'fitness': 0.702}, {'activation': 'logistic', 'hidden_layer_sizes': (120, 99, 14), 'learning_rate': 'constant', 'max_iter': 136, 'solver': 'lbfgs', 'fitness': 0.702}, {'activation': 'logistic', 'hidden_layer_sizes': (188, 99, 14), 'learning_rate': 'constant', 'max_iter': 184, 'solver': 'adam', 'fitness': 0.702}, {'activation': 'logistic', 'hidden_layer_sizes': (158, 65, 14), 'learning_rate': 'constant', 'max_iter': 192, 'solver': 'adam', 'fitness': 0.702}, {'activation': 'logistic', 'solver': 'adam', 'learning_rate': 'constant', 'hidden_layer_sizes': (158, 82, 14), 'max_iter': 192, 'fitness': 0.7015}, {'activation': 'logistic', 'solver': 'lbfgs', 'learning_rate': 'adaptive', 'hidden_layer_sizes': (199, 67, 41), 'max_iter': 187, 'fitness': 0.7015}, {'activation': 'relu', 'hidden_layer_sizes': (124, 71, 14), 'learning_rate': 'adaptive', 'max_iter': 250, 'solver': 'sgd', 'fitness': 0.7015}, {'activation': 'logistic', 'hidden_layer_sizes': (158, 51, 14), 'learning_rate': 'constant', 'max_iter': 192, 'solver': 'adam', 'fitness': 0.7015}, {'activation': 'logistic', 'hidden_layer_sizes': (124, 65, 14), 'learning_rate': 'constant', 'max_iter': 250, 'solver': 'adam', 'fitness': 0.7015}, {'activation': 'logistic', 'solver': 'lbfgs', 'learning_rate': 'constant', 'hidden_layer_sizes': (124, 83, 42), 'max_iter': 250, 'fitness': 0.701}, {'activation': 'logistic', 'solver': 'lbfgs', 'learning_rate': 'adaptive', 'hidden_layer_sizes': (132, 71, 14), 'max_iter': 136, 'fitness': 0.701}]\n",
            "generation: \n",
            "53\n"
          ],
          "name": "stdout"
        },
        {
          "output_type": "stream",
          "text": [
            "/usr/local/lib/python3.7/dist-packages/sklearn/neural_network/_multilayer_perceptron.py:571: ConvergenceWarning: Stochastic Optimizer: Maximum iterations (250) reached and the optimization hasn't converged yet.\n",
            "  % self.max_iter, ConvergenceWarning)\n",
            "/usr/local/lib/python3.7/dist-packages/sklearn/neural_network/_multilayer_perceptron.py:571: ConvergenceWarning: Stochastic Optimizer: Maximum iterations (250) reached and the optimization hasn't converged yet.\n",
            "  % self.max_iter, ConvergenceWarning)\n"
          ],
          "name": "stderr"
        },
        {
          "output_type": "stream",
          "text": [
            "[{'activation': 'logistic', 'solver': 'lbfgs', 'learning_rate': 'adaptive', 'hidden_layer_sizes': (118, 90, 31), 'max_iter': 237, 'fitness': 0.7085}, {'activation': 'logistic', 'hidden_layer_sizes': (132, 83, 14), 'learning_rate': 'constant', 'max_iter': 136, 'solver': 'lbfgs', 'fitness': 0.7075}, {'activation': 'relu', 'hidden_layer_sizes': (124, 71, 14), 'learning_rate': 'adaptive', 'max_iter': 250, 'solver': 'sgd', 'fitness': 0.7055}, {'activation': 'logistic', 'hidden_layer_sizes': (120, 99, 14), 'learning_rate': 'constant', 'max_iter': 136, 'solver': 'lbfgs', 'fitness': 0.705}, {'activation': 'relu', 'hidden_layer_sizes': (124, 65, 14), 'learning_rate': 'constant', 'max_iter': 250, 'solver': 'sgd', 'fitness': 0.705}, {'activation': 'logistic', 'hidden_layer_sizes': (120, 99, 41), 'learning_rate': 'constant', 'max_iter': 187, 'solver': 'lbfgs', 'fitness': 0.705}, {'activation': 'logistic', 'hidden_layer_sizes': (132, 83, 42), 'learning_rate': 'adaptive', 'max_iter': 250, 'solver': 'lbfgs', 'fitness': 0.7045}, {'activation': 'logistic', 'hidden_layer_sizes': (158, 65, 14), 'learning_rate': 'invscaling', 'max_iter': 250, 'solver': 'adam', 'fitness': 0.7045}, {'activation': 'logistic', 'hidden_layer_sizes': (124, 83, 14), 'learning_rate': 'constant', 'max_iter': 136, 'solver': 'lbfgs', 'fitness': 0.7045}, {'activation': 'logistic', 'hidden_layer_sizes': (158, 51, 31), 'learning_rate': 'adaptive', 'max_iter': 237, 'solver': 'adam', 'fitness': 0.704}, {'activation': 'relu', 'hidden_layer_sizes': (124, 65, 14), 'learning_rate': 'constant', 'max_iter': 250, 'solver': 'sgd', 'fitness': 0.7035}, {'activation': 'logistic', 'hidden_layer_sizes': (124, 65, 14), 'learning_rate': 'constant', 'max_iter': 250, 'solver': 'adam', 'fitness': 0.7035}, {'activation': 'logistic', 'hidden_layer_sizes': (158, 65, 14), 'learning_rate': 'constant', 'max_iter': 192, 'solver': 'adam', 'fitness': 0.7035}, {'activation': 'logistic', 'hidden_layer_sizes': (120, 67, 41), 'learning_rate': 'adaptive', 'max_iter': 187, 'solver': 'lbfgs', 'fitness': 0.703}, {'activation': 'logistic', 'hidden_layer_sizes': (158, 51, 14), 'learning_rate': 'constant', 'max_iter': 192, 'solver': 'adam', 'fitness': 0.703}, {'activation': 'logistic', 'hidden_layer_sizes': (124, 83, 14), 'learning_rate': 'constant', 'max_iter': 136, 'solver': 'adam', 'fitness': 0.703}, {'activation': 'logistic', 'solver': 'adam', 'learning_rate': 'constant', 'hidden_layer_sizes': (188, 99, 19), 'max_iter': 184, 'fitness': 0.7025}, {'activation': 'relu', 'hidden_layer_sizes': (132, 71, 14), 'learning_rate': 'constant', 'max_iter': 250, 'solver': 'sgd', 'fitness': 0.7025}, {'activation': 'logistic', 'hidden_layer_sizes': (158, 65, 14), 'learning_rate': 'invscaling', 'max_iter': 250, 'solver': 'adam', 'fitness': 0.7025}, {'activation': 'logistic', 'hidden_layer_sizes': (158, 51, 14), 'learning_rate': 'constant', 'max_iter': 192, 'solver': 'adam', 'fitness': 0.702}, {'activation': 'logistic', 'hidden_layer_sizes': (120, 99, 14), 'learning_rate': 'constant', 'max_iter': 136, 'solver': 'lbfgs', 'fitness': 0.702}, {'activation': 'logistic', 'hidden_layer_sizes': (188, 99, 14), 'learning_rate': 'constant', 'max_iter': 184, 'solver': 'adam', 'fitness': 0.702}, {'activation': 'logistic', 'hidden_layer_sizes': (158, 65, 14), 'learning_rate': 'constant', 'max_iter': 192, 'solver': 'adam', 'fitness': 0.702}, {'activation': 'relu', 'hidden_layer_sizes': (124, 65, 14), 'learning_rate': 'constant', 'max_iter': 250, 'solver': 'sgd', 'fitness': 0.702}, {'activation': 'logistic', 'solver': 'adam', 'learning_rate': 'constant', 'hidden_layer_sizes': (158, 82, 14), 'max_iter': 192, 'fitness': 0.7015}, {'activation': 'logistic', 'solver': 'lbfgs', 'learning_rate': 'adaptive', 'hidden_layer_sizes': (199, 67, 41), 'max_iter': 187, 'fitness': 0.7015}, {'activation': 'relu', 'hidden_layer_sizes': (124, 71, 14), 'learning_rate': 'adaptive', 'max_iter': 250, 'solver': 'sgd', 'fitness': 0.7015}, {'activation': 'logistic', 'hidden_layer_sizes': (158, 51, 14), 'learning_rate': 'constant', 'max_iter': 192, 'solver': 'adam', 'fitness': 0.7015}, {'activation': 'logistic', 'hidden_layer_sizes': (124, 65, 14), 'learning_rate': 'constant', 'max_iter': 250, 'solver': 'adam', 'fitness': 0.7015}, {'activation': 'logistic', 'solver': 'lbfgs', 'learning_rate': 'constant', 'hidden_layer_sizes': (124, 83, 42), 'max_iter': 250, 'fitness': 0.701}]\n",
            "generation: \n",
            "54\n"
          ],
          "name": "stdout"
        },
        {
          "output_type": "stream",
          "text": [
            "/usr/local/lib/python3.7/dist-packages/sklearn/neural_network/_multilayer_perceptron.py:571: ConvergenceWarning: Stochastic Optimizer: Maximum iterations (192) reached and the optimization hasn't converged yet.\n",
            "  % self.max_iter, ConvergenceWarning)\n",
            "/usr/local/lib/python3.7/dist-packages/sklearn/neural_network/_multilayer_perceptron.py:571: ConvergenceWarning: Stochastic Optimizer: Maximum iterations (250) reached and the optimization hasn't converged yet.\n",
            "  % self.max_iter, ConvergenceWarning)\n"
          ],
          "name": "stderr"
        },
        {
          "output_type": "stream",
          "text": [
            "[{'activation': 'logistic', 'solver': 'lbfgs', 'learning_rate': 'adaptive', 'hidden_layer_sizes': (118, 90, 31), 'max_iter': 237, 'fitness': 0.7085}, {'activation': 'logistic', 'hidden_layer_sizes': (158, 51, 14), 'learning_rate': 'constant', 'max_iter': 250, 'solver': 'adam', 'fitness': 0.708}, {'activation': 'logistic', 'hidden_layer_sizes': (132, 83, 14), 'learning_rate': 'constant', 'max_iter': 136, 'solver': 'lbfgs', 'fitness': 0.7075}, {'activation': 'relu', 'hidden_layer_sizes': (124, 71, 14), 'learning_rate': 'adaptive', 'max_iter': 250, 'solver': 'sgd', 'fitness': 0.7055}, {'activation': 'logistic', 'hidden_layer_sizes': (120, 99, 14), 'learning_rate': 'constant', 'max_iter': 136, 'solver': 'lbfgs', 'fitness': 0.705}, {'activation': 'relu', 'hidden_layer_sizes': (124, 65, 14), 'learning_rate': 'constant', 'max_iter': 250, 'solver': 'sgd', 'fitness': 0.705}, {'activation': 'logistic', 'hidden_layer_sizes': (120, 99, 41), 'learning_rate': 'constant', 'max_iter': 187, 'solver': 'lbfgs', 'fitness': 0.705}, {'activation': 'logistic', 'hidden_layer_sizes': (132, 83, 42), 'learning_rate': 'adaptive', 'max_iter': 250, 'solver': 'lbfgs', 'fitness': 0.7045}, {'activation': 'logistic', 'hidden_layer_sizes': (158, 65, 14), 'learning_rate': 'invscaling', 'max_iter': 250, 'solver': 'adam', 'fitness': 0.7045}, {'activation': 'logistic', 'hidden_layer_sizes': (124, 83, 14), 'learning_rate': 'constant', 'max_iter': 136, 'solver': 'lbfgs', 'fitness': 0.7045}, {'activation': 'logistic', 'hidden_layer_sizes': (158, 51, 31), 'learning_rate': 'adaptive', 'max_iter': 237, 'solver': 'adam', 'fitness': 0.704}, {'activation': 'relu', 'hidden_layer_sizes': (124, 65, 14), 'learning_rate': 'constant', 'max_iter': 250, 'solver': 'sgd', 'fitness': 0.7035}, {'activation': 'logistic', 'hidden_layer_sizes': (124, 65, 14), 'learning_rate': 'constant', 'max_iter': 250, 'solver': 'adam', 'fitness': 0.7035}, {'activation': 'logistic', 'hidden_layer_sizes': (158, 65, 14), 'learning_rate': 'constant', 'max_iter': 192, 'solver': 'adam', 'fitness': 0.7035}, {'activation': 'logistic', 'hidden_layer_sizes': (120, 67, 41), 'learning_rate': 'adaptive', 'max_iter': 187, 'solver': 'lbfgs', 'fitness': 0.703}, {'activation': 'logistic', 'hidden_layer_sizes': (158, 51, 14), 'learning_rate': 'constant', 'max_iter': 192, 'solver': 'adam', 'fitness': 0.703}, {'activation': 'logistic', 'hidden_layer_sizes': (124, 83, 14), 'learning_rate': 'constant', 'max_iter': 136, 'solver': 'adam', 'fitness': 0.703}, {'activation': 'logistic', 'solver': 'adam', 'learning_rate': 'constant', 'hidden_layer_sizes': (188, 99, 19), 'max_iter': 184, 'fitness': 0.7025}, {'activation': 'relu', 'hidden_layer_sizes': (132, 71, 14), 'learning_rate': 'constant', 'max_iter': 250, 'solver': 'sgd', 'fitness': 0.7025}, {'activation': 'logistic', 'hidden_layer_sizes': (158, 65, 14), 'learning_rate': 'invscaling', 'max_iter': 250, 'solver': 'adam', 'fitness': 0.7025}, {'activation': 'logistic', 'hidden_layer_sizes': (158, 51, 14), 'learning_rate': 'constant', 'max_iter': 192, 'solver': 'adam', 'fitness': 0.702}, {'activation': 'logistic', 'hidden_layer_sizes': (120, 99, 14), 'learning_rate': 'constant', 'max_iter': 136, 'solver': 'lbfgs', 'fitness': 0.702}, {'activation': 'logistic', 'hidden_layer_sizes': (188, 99, 14), 'learning_rate': 'constant', 'max_iter': 184, 'solver': 'adam', 'fitness': 0.702}, {'activation': 'logistic', 'hidden_layer_sizes': (158, 65, 14), 'learning_rate': 'constant', 'max_iter': 192, 'solver': 'adam', 'fitness': 0.702}, {'activation': 'relu', 'hidden_layer_sizes': (124, 65, 14), 'learning_rate': 'constant', 'max_iter': 250, 'solver': 'sgd', 'fitness': 0.702}, {'activation': 'logistic', 'solver': 'adam', 'learning_rate': 'constant', 'hidden_layer_sizes': (158, 82, 14), 'max_iter': 192, 'fitness': 0.7015}, {'activation': 'logistic', 'solver': 'lbfgs', 'learning_rate': 'adaptive', 'hidden_layer_sizes': (199, 67, 41), 'max_iter': 187, 'fitness': 0.7015}, {'activation': 'relu', 'hidden_layer_sizes': (124, 71, 14), 'learning_rate': 'adaptive', 'max_iter': 250, 'solver': 'sgd', 'fitness': 0.7015}, {'activation': 'logistic', 'hidden_layer_sizes': (158, 51, 14), 'learning_rate': 'constant', 'max_iter': 192, 'solver': 'adam', 'fitness': 0.7015}, {'activation': 'logistic', 'hidden_layer_sizes': (124, 65, 14), 'learning_rate': 'constant', 'max_iter': 250, 'solver': 'adam', 'fitness': 0.7015}]\n",
            "generation: \n",
            "55\n"
          ],
          "name": "stdout"
        },
        {
          "output_type": "stream",
          "text": [
            "/usr/local/lib/python3.7/dist-packages/sklearn/neural_network/_multilayer_perceptron.py:470: ConvergenceWarning: lbfgs failed to converge (status=1):\n",
            "STOP: TOTAL NO. of ITERATIONS REACHED LIMIT.\n",
            "\n",
            "Increase the number of iterations (max_iter) or scale the data as shown in:\n",
            "    https://scikit-learn.org/stable/modules/preprocessing.html\n",
            "  self.n_iter_ = _check_optimize_result(\"lbfgs\", opt_res, self.max_iter)\n"
          ],
          "name": "stderr"
        },
        {
          "output_type": "stream",
          "text": [
            "[{'activation': 'logistic', 'solver': 'lbfgs', 'learning_rate': 'adaptive', 'hidden_layer_sizes': (118, 90, 31), 'max_iter': 237, 'fitness': 0.7085}, {'activation': 'logistic', 'hidden_layer_sizes': (158, 51, 14), 'learning_rate': 'constant', 'max_iter': 250, 'solver': 'adam', 'fitness': 0.708}, {'activation': 'logistic', 'hidden_layer_sizes': (132, 83, 14), 'learning_rate': 'constant', 'max_iter': 136, 'solver': 'lbfgs', 'fitness': 0.7075}, {'activation': 'relu', 'hidden_layer_sizes': (124, 71, 14), 'learning_rate': 'adaptive', 'max_iter': 250, 'solver': 'sgd', 'fitness': 0.7055}, {'activation': 'logistic', 'hidden_layer_sizes': (120, 99, 14), 'learning_rate': 'constant', 'max_iter': 136, 'solver': 'lbfgs', 'fitness': 0.705}, {'activation': 'relu', 'hidden_layer_sizes': (124, 65, 14), 'learning_rate': 'constant', 'max_iter': 250, 'solver': 'sgd', 'fitness': 0.705}, {'activation': 'logistic', 'hidden_layer_sizes': (120, 99, 41), 'learning_rate': 'constant', 'max_iter': 187, 'solver': 'lbfgs', 'fitness': 0.705}, {'activation': 'logistic', 'hidden_layer_sizes': (132, 83, 42), 'learning_rate': 'adaptive', 'max_iter': 250, 'solver': 'lbfgs', 'fitness': 0.7045}, {'activation': 'logistic', 'hidden_layer_sizes': (158, 65, 14), 'learning_rate': 'invscaling', 'max_iter': 250, 'solver': 'adam', 'fitness': 0.7045}, {'activation': 'logistic', 'hidden_layer_sizes': (124, 83, 14), 'learning_rate': 'constant', 'max_iter': 136, 'solver': 'lbfgs', 'fitness': 0.7045}, {'activation': 'logistic', 'hidden_layer_sizes': (158, 51, 31), 'learning_rate': 'adaptive', 'max_iter': 237, 'solver': 'adam', 'fitness': 0.704}, {'activation': 'relu', 'hidden_layer_sizes': (124, 65, 14), 'learning_rate': 'constant', 'max_iter': 250, 'solver': 'sgd', 'fitness': 0.7035}, {'activation': 'logistic', 'hidden_layer_sizes': (124, 65, 14), 'learning_rate': 'constant', 'max_iter': 250, 'solver': 'adam', 'fitness': 0.7035}, {'activation': 'logistic', 'hidden_layer_sizes': (158, 65, 14), 'learning_rate': 'constant', 'max_iter': 192, 'solver': 'adam', 'fitness': 0.7035}, {'activation': 'logistic', 'hidden_layer_sizes': (120, 67, 41), 'learning_rate': 'adaptive', 'max_iter': 187, 'solver': 'lbfgs', 'fitness': 0.703}, {'activation': 'logistic', 'hidden_layer_sizes': (158, 51, 14), 'learning_rate': 'constant', 'max_iter': 192, 'solver': 'adam', 'fitness': 0.703}, {'activation': 'logistic', 'hidden_layer_sizes': (124, 83, 14), 'learning_rate': 'constant', 'max_iter': 136, 'solver': 'adam', 'fitness': 0.703}, {'activation': 'logistic', 'solver': 'adam', 'learning_rate': 'constant', 'hidden_layer_sizes': (188, 99, 19), 'max_iter': 184, 'fitness': 0.7025}, {'activation': 'relu', 'hidden_layer_sizes': (132, 71, 14), 'learning_rate': 'constant', 'max_iter': 250, 'solver': 'sgd', 'fitness': 0.7025}, {'activation': 'logistic', 'hidden_layer_sizes': (158, 65, 14), 'learning_rate': 'invscaling', 'max_iter': 250, 'solver': 'adam', 'fitness': 0.7025}, {'activation': 'logistic', 'hidden_layer_sizes': (158, 51, 14), 'learning_rate': 'constant', 'max_iter': 192, 'solver': 'adam', 'fitness': 0.702}, {'activation': 'logistic', 'hidden_layer_sizes': (120, 99, 14), 'learning_rate': 'constant', 'max_iter': 136, 'solver': 'lbfgs', 'fitness': 0.702}, {'activation': 'logistic', 'hidden_layer_sizes': (188, 99, 14), 'learning_rate': 'constant', 'max_iter': 184, 'solver': 'adam', 'fitness': 0.702}, {'activation': 'logistic', 'hidden_layer_sizes': (158, 65, 14), 'learning_rate': 'constant', 'max_iter': 192, 'solver': 'adam', 'fitness': 0.702}, {'activation': 'relu', 'hidden_layer_sizes': (124, 65, 14), 'learning_rate': 'constant', 'max_iter': 250, 'solver': 'sgd', 'fitness': 0.702}, {'activation': 'logistic', 'solver': 'adam', 'learning_rate': 'constant', 'hidden_layer_sizes': (158, 82, 14), 'max_iter': 192, 'fitness': 0.7015}, {'activation': 'logistic', 'solver': 'lbfgs', 'learning_rate': 'adaptive', 'hidden_layer_sizes': (199, 67, 41), 'max_iter': 187, 'fitness': 0.7015}, {'activation': 'relu', 'hidden_layer_sizes': (124, 71, 14), 'learning_rate': 'adaptive', 'max_iter': 250, 'solver': 'sgd', 'fitness': 0.7015}, {'activation': 'logistic', 'hidden_layer_sizes': (158, 51, 14), 'learning_rate': 'constant', 'max_iter': 192, 'solver': 'adam', 'fitness': 0.7015}, {'activation': 'logistic', 'hidden_layer_sizes': (124, 65, 14), 'learning_rate': 'constant', 'max_iter': 250, 'solver': 'adam', 'fitness': 0.7015}]\n",
            "generation: \n",
            "56\n"
          ],
          "name": "stdout"
        },
        {
          "output_type": "stream",
          "text": [
            "/usr/local/lib/python3.7/dist-packages/sklearn/neural_network/_multilayer_perceptron.py:571: ConvergenceWarning: Stochastic Optimizer: Maximum iterations (250) reached and the optimization hasn't converged yet.\n",
            "  % self.max_iter, ConvergenceWarning)\n",
            "/usr/local/lib/python3.7/dist-packages/sklearn/neural_network/_multilayer_perceptron.py:571: ConvergenceWarning: Stochastic Optimizer: Maximum iterations (250) reached and the optimization hasn't converged yet.\n",
            "  % self.max_iter, ConvergenceWarning)\n"
          ],
          "name": "stderr"
        },
        {
          "output_type": "stream",
          "text": [
            "[{'activation': 'logistic', 'solver': 'lbfgs', 'learning_rate': 'adaptive', 'hidden_layer_sizes': (118, 90, 31), 'max_iter': 237, 'fitness': 0.7085}, {'activation': 'logistic', 'hidden_layer_sizes': (158, 51, 14), 'learning_rate': 'constant', 'max_iter': 250, 'solver': 'adam', 'fitness': 0.708}, {'activation': 'logistic', 'hidden_layer_sizes': (132, 83, 14), 'learning_rate': 'constant', 'max_iter': 136, 'solver': 'lbfgs', 'fitness': 0.7075}, {'activation': 'relu', 'hidden_layer_sizes': (124, 71, 14), 'learning_rate': 'adaptive', 'max_iter': 250, 'solver': 'sgd', 'fitness': 0.7055}, {'activation': 'logistic', 'hidden_layer_sizes': (120, 99, 14), 'learning_rate': 'constant', 'max_iter': 136, 'solver': 'lbfgs', 'fitness': 0.705}, {'activation': 'relu', 'hidden_layer_sizes': (124, 65, 14), 'learning_rate': 'constant', 'max_iter': 250, 'solver': 'sgd', 'fitness': 0.705}, {'activation': 'logistic', 'hidden_layer_sizes': (120, 99, 41), 'learning_rate': 'constant', 'max_iter': 187, 'solver': 'lbfgs', 'fitness': 0.705}, {'activation': 'logistic', 'hidden_layer_sizes': (132, 83, 42), 'learning_rate': 'adaptive', 'max_iter': 250, 'solver': 'lbfgs', 'fitness': 0.7045}, {'activation': 'logistic', 'hidden_layer_sizes': (158, 65, 14), 'learning_rate': 'invscaling', 'max_iter': 250, 'solver': 'adam', 'fitness': 0.7045}, {'activation': 'logistic', 'hidden_layer_sizes': (124, 83, 14), 'learning_rate': 'constant', 'max_iter': 136, 'solver': 'lbfgs', 'fitness': 0.7045}, {'activation': 'logistic', 'hidden_layer_sizes': (158, 51, 31), 'learning_rate': 'adaptive', 'max_iter': 237, 'solver': 'adam', 'fitness': 0.704}, {'activation': 'relu', 'hidden_layer_sizes': (124, 65, 14), 'learning_rate': 'constant', 'max_iter': 250, 'solver': 'sgd', 'fitness': 0.7035}, {'activation': 'logistic', 'hidden_layer_sizes': (124, 65, 14), 'learning_rate': 'constant', 'max_iter': 250, 'solver': 'adam', 'fitness': 0.7035}, {'activation': 'logistic', 'hidden_layer_sizes': (158, 65, 14), 'learning_rate': 'constant', 'max_iter': 192, 'solver': 'adam', 'fitness': 0.7035}, {'activation': 'logistic', 'hidden_layer_sizes': (120, 67, 41), 'learning_rate': 'adaptive', 'max_iter': 187, 'solver': 'lbfgs', 'fitness': 0.703}, {'activation': 'logistic', 'hidden_layer_sizes': (158, 51, 14), 'learning_rate': 'constant', 'max_iter': 192, 'solver': 'adam', 'fitness': 0.703}, {'activation': 'logistic', 'hidden_layer_sizes': (124, 83, 14), 'learning_rate': 'constant', 'max_iter': 136, 'solver': 'adam', 'fitness': 0.703}, {'activation': 'logistic', 'solver': 'adam', 'learning_rate': 'constant', 'hidden_layer_sizes': (188, 99, 19), 'max_iter': 184, 'fitness': 0.7025}, {'activation': 'relu', 'hidden_layer_sizes': (132, 71, 14), 'learning_rate': 'constant', 'max_iter': 250, 'solver': 'sgd', 'fitness': 0.7025}, {'activation': 'logistic', 'hidden_layer_sizes': (158, 65, 14), 'learning_rate': 'invscaling', 'max_iter': 250, 'solver': 'adam', 'fitness': 0.7025}, {'activation': 'logistic', 'hidden_layer_sizes': (158, 51, 14), 'learning_rate': 'constant', 'max_iter': 192, 'solver': 'adam', 'fitness': 0.702}, {'activation': 'logistic', 'hidden_layer_sizes': (120, 99, 14), 'learning_rate': 'constant', 'max_iter': 136, 'solver': 'lbfgs', 'fitness': 0.702}, {'activation': 'logistic', 'hidden_layer_sizes': (188, 99, 14), 'learning_rate': 'constant', 'max_iter': 184, 'solver': 'adam', 'fitness': 0.702}, {'activation': 'logistic', 'hidden_layer_sizes': (158, 65, 14), 'learning_rate': 'constant', 'max_iter': 192, 'solver': 'adam', 'fitness': 0.702}, {'activation': 'relu', 'hidden_layer_sizes': (124, 65, 14), 'learning_rate': 'constant', 'max_iter': 250, 'solver': 'sgd', 'fitness': 0.702}, {'activation': 'logistic', 'solver': 'adam', 'learning_rate': 'constant', 'hidden_layer_sizes': (158, 82, 14), 'max_iter': 192, 'fitness': 0.7015}, {'activation': 'logistic', 'solver': 'lbfgs', 'learning_rate': 'adaptive', 'hidden_layer_sizes': (199, 67, 41), 'max_iter': 187, 'fitness': 0.7015}, {'activation': 'relu', 'hidden_layer_sizes': (124, 71, 14), 'learning_rate': 'adaptive', 'max_iter': 250, 'solver': 'sgd', 'fitness': 0.7015}, {'activation': 'logistic', 'hidden_layer_sizes': (158, 51, 14), 'learning_rate': 'constant', 'max_iter': 192, 'solver': 'adam', 'fitness': 0.7015}, {'activation': 'logistic', 'hidden_layer_sizes': (124, 65, 14), 'learning_rate': 'constant', 'max_iter': 250, 'solver': 'adam', 'fitness': 0.7015}]\n",
            "generation: \n",
            "57\n"
          ],
          "name": "stdout"
        },
        {
          "output_type": "stream",
          "text": [
            "/usr/local/lib/python3.7/dist-packages/sklearn/neural_network/_multilayer_perceptron.py:571: ConvergenceWarning: Stochastic Optimizer: Maximum iterations (250) reached and the optimization hasn't converged yet.\n",
            "  % self.max_iter, ConvergenceWarning)\n",
            "/usr/local/lib/python3.7/dist-packages/sklearn/neural_network/_multilayer_perceptron.py:470: ConvergenceWarning: lbfgs failed to converge (status=1):\n",
            "STOP: TOTAL NO. of ITERATIONS REACHED LIMIT.\n",
            "\n",
            "Increase the number of iterations (max_iter) or scale the data as shown in:\n",
            "    https://scikit-learn.org/stable/modules/preprocessing.html\n",
            "  self.n_iter_ = _check_optimize_result(\"lbfgs\", opt_res, self.max_iter)\n"
          ],
          "name": "stderr"
        },
        {
          "output_type": "stream",
          "text": [
            "[{'activation': 'logistic', 'solver': 'lbfgs', 'learning_rate': 'adaptive', 'hidden_layer_sizes': (118, 90, 31), 'max_iter': 237, 'fitness': 0.7085}, {'activation': 'logistic', 'hidden_layer_sizes': (158, 51, 14), 'learning_rate': 'constant', 'max_iter': 250, 'solver': 'adam', 'fitness': 0.708}, {'activation': 'logistic', 'hidden_layer_sizes': (132, 83, 14), 'learning_rate': 'constant', 'max_iter': 136, 'solver': 'lbfgs', 'fitness': 0.7075}, {'activation': 'relu', 'hidden_layer_sizes': (124, 71, 14), 'learning_rate': 'adaptive', 'max_iter': 250, 'solver': 'sgd', 'fitness': 0.7055}, {'activation': 'logistic', 'hidden_layer_sizes': (120, 99, 14), 'learning_rate': 'constant', 'max_iter': 136, 'solver': 'lbfgs', 'fitness': 0.705}, {'activation': 'relu', 'hidden_layer_sizes': (124, 65, 14), 'learning_rate': 'constant', 'max_iter': 250, 'solver': 'sgd', 'fitness': 0.705}, {'activation': 'logistic', 'hidden_layer_sizes': (120, 99, 41), 'learning_rate': 'constant', 'max_iter': 187, 'solver': 'lbfgs', 'fitness': 0.705}, {'activation': 'logistic', 'hidden_layer_sizes': (132, 83, 42), 'learning_rate': 'adaptive', 'max_iter': 250, 'solver': 'lbfgs', 'fitness': 0.7045}, {'activation': 'logistic', 'hidden_layer_sizes': (158, 65, 14), 'learning_rate': 'invscaling', 'max_iter': 250, 'solver': 'adam', 'fitness': 0.7045}, {'activation': 'logistic', 'hidden_layer_sizes': (124, 83, 14), 'learning_rate': 'constant', 'max_iter': 136, 'solver': 'lbfgs', 'fitness': 0.7045}, {'activation': 'logistic', 'hidden_layer_sizes': (158, 51, 31), 'learning_rate': 'adaptive', 'max_iter': 237, 'solver': 'adam', 'fitness': 0.704}, {'activation': 'relu', 'hidden_layer_sizes': (124, 65, 14), 'learning_rate': 'constant', 'max_iter': 250, 'solver': 'sgd', 'fitness': 0.7035}, {'activation': 'logistic', 'hidden_layer_sizes': (124, 65, 14), 'learning_rate': 'constant', 'max_iter': 250, 'solver': 'adam', 'fitness': 0.7035}, {'activation': 'logistic', 'hidden_layer_sizes': (158, 65, 14), 'learning_rate': 'constant', 'max_iter': 192, 'solver': 'adam', 'fitness': 0.7035}, {'activation': 'logistic', 'hidden_layer_sizes': (120, 67, 41), 'learning_rate': 'adaptive', 'max_iter': 187, 'solver': 'lbfgs', 'fitness': 0.703}, {'activation': 'logistic', 'hidden_layer_sizes': (158, 51, 14), 'learning_rate': 'constant', 'max_iter': 192, 'solver': 'adam', 'fitness': 0.703}, {'activation': 'logistic', 'hidden_layer_sizes': (124, 83, 14), 'learning_rate': 'constant', 'max_iter': 136, 'solver': 'adam', 'fitness': 0.703}, {'activation': 'logistic', 'solver': 'adam', 'learning_rate': 'constant', 'hidden_layer_sizes': (188, 99, 19), 'max_iter': 184, 'fitness': 0.7025}, {'activation': 'relu', 'hidden_layer_sizes': (132, 71, 14), 'learning_rate': 'constant', 'max_iter': 250, 'solver': 'sgd', 'fitness': 0.7025}, {'activation': 'logistic', 'hidden_layer_sizes': (158, 65, 14), 'learning_rate': 'invscaling', 'max_iter': 250, 'solver': 'adam', 'fitness': 0.7025}, {'activation': 'logistic', 'hidden_layer_sizes': (158, 51, 14), 'learning_rate': 'constant', 'max_iter': 192, 'solver': 'adam', 'fitness': 0.702}, {'activation': 'logistic', 'hidden_layer_sizes': (120, 99, 14), 'learning_rate': 'constant', 'max_iter': 136, 'solver': 'lbfgs', 'fitness': 0.702}, {'activation': 'logistic', 'hidden_layer_sizes': (188, 99, 14), 'learning_rate': 'constant', 'max_iter': 184, 'solver': 'adam', 'fitness': 0.702}, {'activation': 'logistic', 'hidden_layer_sizes': (158, 65, 14), 'learning_rate': 'constant', 'max_iter': 192, 'solver': 'adam', 'fitness': 0.702}, {'activation': 'relu', 'hidden_layer_sizes': (124, 65, 14), 'learning_rate': 'constant', 'max_iter': 250, 'solver': 'sgd', 'fitness': 0.702}, {'activation': 'logistic', 'solver': 'adam', 'learning_rate': 'constant', 'hidden_layer_sizes': (158, 82, 14), 'max_iter': 192, 'fitness': 0.7015}, {'activation': 'logistic', 'solver': 'lbfgs', 'learning_rate': 'adaptive', 'hidden_layer_sizes': (199, 67, 41), 'max_iter': 187, 'fitness': 0.7015}, {'activation': 'relu', 'hidden_layer_sizes': (124, 71, 14), 'learning_rate': 'adaptive', 'max_iter': 250, 'solver': 'sgd', 'fitness': 0.7015}, {'activation': 'logistic', 'hidden_layer_sizes': (158, 51, 14), 'learning_rate': 'constant', 'max_iter': 192, 'solver': 'adam', 'fitness': 0.7015}, {'activation': 'logistic', 'hidden_layer_sizes': (124, 65, 14), 'learning_rate': 'constant', 'max_iter': 250, 'solver': 'adam', 'fitness': 0.7015}]\n",
            "generation: \n",
            "58\n"
          ],
          "name": "stdout"
        },
        {
          "output_type": "stream",
          "text": [
            "/usr/local/lib/python3.7/dist-packages/sklearn/neural_network/_multilayer_perceptron.py:571: ConvergenceWarning: Stochastic Optimizer: Maximum iterations (250) reached and the optimization hasn't converged yet.\n",
            "  % self.max_iter, ConvergenceWarning)\n",
            "/usr/local/lib/python3.7/dist-packages/sklearn/neural_network/_multilayer_perceptron.py:571: ConvergenceWarning: Stochastic Optimizer: Maximum iterations (250) reached and the optimization hasn't converged yet.\n",
            "  % self.max_iter, ConvergenceWarning)\n"
          ],
          "name": "stderr"
        },
        {
          "output_type": "stream",
          "text": [
            "[{'activation': 'logistic', 'solver': 'lbfgs', 'learning_rate': 'adaptive', 'hidden_layer_sizes': (118, 90, 31), 'max_iter': 237, 'fitness': 0.7085}, {'activation': 'logistic', 'hidden_layer_sizes': (158, 51, 14), 'learning_rate': 'constant', 'max_iter': 250, 'solver': 'adam', 'fitness': 0.708}, {'activation': 'logistic', 'hidden_layer_sizes': (132, 83, 14), 'learning_rate': 'constant', 'max_iter': 136, 'solver': 'lbfgs', 'fitness': 0.7075}, {'activation': 'relu', 'hidden_layer_sizes': (124, 71, 14), 'learning_rate': 'adaptive', 'max_iter': 250, 'solver': 'sgd', 'fitness': 0.7055}, {'activation': 'logistic', 'hidden_layer_sizes': (120, 99, 14), 'learning_rate': 'constant', 'max_iter': 136, 'solver': 'lbfgs', 'fitness': 0.705}, {'activation': 'relu', 'hidden_layer_sizes': (124, 65, 14), 'learning_rate': 'constant', 'max_iter': 250, 'solver': 'sgd', 'fitness': 0.705}, {'activation': 'logistic', 'hidden_layer_sizes': (120, 99, 41), 'learning_rate': 'constant', 'max_iter': 187, 'solver': 'lbfgs', 'fitness': 0.705}, {'activation': 'logistic', 'hidden_layer_sizes': (132, 83, 42), 'learning_rate': 'adaptive', 'max_iter': 250, 'solver': 'lbfgs', 'fitness': 0.7045}, {'activation': 'logistic', 'hidden_layer_sizes': (158, 65, 14), 'learning_rate': 'invscaling', 'max_iter': 250, 'solver': 'adam', 'fitness': 0.7045}, {'activation': 'logistic', 'hidden_layer_sizes': (124, 83, 14), 'learning_rate': 'constant', 'max_iter': 136, 'solver': 'lbfgs', 'fitness': 0.7045}, {'activation': 'logistic', 'hidden_layer_sizes': (158, 51, 31), 'learning_rate': 'adaptive', 'max_iter': 237, 'solver': 'adam', 'fitness': 0.704}, {'activation': 'relu', 'hidden_layer_sizes': (124, 65, 14), 'learning_rate': 'constant', 'max_iter': 250, 'solver': 'sgd', 'fitness': 0.7035}, {'activation': 'logistic', 'hidden_layer_sizes': (124, 65, 14), 'learning_rate': 'constant', 'max_iter': 250, 'solver': 'adam', 'fitness': 0.7035}, {'activation': 'logistic', 'hidden_layer_sizes': (158, 65, 14), 'learning_rate': 'constant', 'max_iter': 192, 'solver': 'adam', 'fitness': 0.7035}, {'activation': 'logistic', 'hidden_layer_sizes': (120, 67, 41), 'learning_rate': 'adaptive', 'max_iter': 187, 'solver': 'lbfgs', 'fitness': 0.703}, {'activation': 'logistic', 'hidden_layer_sizes': (158, 51, 14), 'learning_rate': 'constant', 'max_iter': 192, 'solver': 'adam', 'fitness': 0.703}, {'activation': 'logistic', 'hidden_layer_sizes': (124, 83, 14), 'learning_rate': 'constant', 'max_iter': 136, 'solver': 'adam', 'fitness': 0.703}, {'activation': 'logistic', 'solver': 'adam', 'learning_rate': 'constant', 'hidden_layer_sizes': (188, 99, 19), 'max_iter': 184, 'fitness': 0.7025}, {'activation': 'relu', 'hidden_layer_sizes': (132, 71, 14), 'learning_rate': 'constant', 'max_iter': 250, 'solver': 'sgd', 'fitness': 0.7025}, {'activation': 'logistic', 'hidden_layer_sizes': (158, 65, 14), 'learning_rate': 'invscaling', 'max_iter': 250, 'solver': 'adam', 'fitness': 0.7025}, {'activation': 'logistic', 'hidden_layer_sizes': (158, 51, 14), 'learning_rate': 'constant', 'max_iter': 192, 'solver': 'adam', 'fitness': 0.702}, {'activation': 'logistic', 'hidden_layer_sizes': (120, 99, 14), 'learning_rate': 'constant', 'max_iter': 136, 'solver': 'lbfgs', 'fitness': 0.702}, {'activation': 'logistic', 'hidden_layer_sizes': (188, 99, 14), 'learning_rate': 'constant', 'max_iter': 184, 'solver': 'adam', 'fitness': 0.702}, {'activation': 'logistic', 'hidden_layer_sizes': (158, 65, 14), 'learning_rate': 'constant', 'max_iter': 192, 'solver': 'adam', 'fitness': 0.702}, {'activation': 'relu', 'hidden_layer_sizes': (124, 65, 14), 'learning_rate': 'constant', 'max_iter': 250, 'solver': 'sgd', 'fitness': 0.702}, {'activation': 'logistic', 'solver': 'adam', 'learning_rate': 'constant', 'hidden_layer_sizes': (158, 82, 14), 'max_iter': 192, 'fitness': 0.7015}, {'activation': 'logistic', 'solver': 'lbfgs', 'learning_rate': 'adaptive', 'hidden_layer_sizes': (199, 67, 41), 'max_iter': 187, 'fitness': 0.7015}, {'activation': 'relu', 'hidden_layer_sizes': (124, 71, 14), 'learning_rate': 'adaptive', 'max_iter': 250, 'solver': 'sgd', 'fitness': 0.7015}, {'activation': 'logistic', 'hidden_layer_sizes': (158, 51, 14), 'learning_rate': 'constant', 'max_iter': 192, 'solver': 'adam', 'fitness': 0.7015}, {'activation': 'logistic', 'hidden_layer_sizes': (124, 65, 14), 'learning_rate': 'constant', 'max_iter': 250, 'solver': 'adam', 'fitness': 0.7015}]\n",
            "generation: \n",
            "59\n"
          ],
          "name": "stdout"
        },
        {
          "output_type": "stream",
          "text": [
            "/usr/local/lib/python3.7/dist-packages/sklearn/neural_network/_multilayer_perceptron.py:571: ConvergenceWarning: Stochastic Optimizer: Maximum iterations (250) reached and the optimization hasn't converged yet.\n",
            "  % self.max_iter, ConvergenceWarning)\n",
            "/usr/local/lib/python3.7/dist-packages/sklearn/neural_network/_multilayer_perceptron.py:470: ConvergenceWarning: lbfgs failed to converge (status=1):\n",
            "STOP: TOTAL NO. of ITERATIONS REACHED LIMIT.\n",
            "\n",
            "Increase the number of iterations (max_iter) or scale the data as shown in:\n",
            "    https://scikit-learn.org/stable/modules/preprocessing.html\n",
            "  self.n_iter_ = _check_optimize_result(\"lbfgs\", opt_res, self.max_iter)\n"
          ],
          "name": "stderr"
        },
        {
          "output_type": "stream",
          "text": [
            "[{'activation': 'logistic', 'solver': 'lbfgs', 'learning_rate': 'adaptive', 'hidden_layer_sizes': (118, 90, 31), 'max_iter': 237, 'fitness': 0.7085}, {'activation': 'logistic', 'hidden_layer_sizes': (158, 51, 14), 'learning_rate': 'constant', 'max_iter': 250, 'solver': 'adam', 'fitness': 0.708}, {'activation': 'logistic', 'hidden_layer_sizes': (132, 83, 14), 'learning_rate': 'constant', 'max_iter': 136, 'solver': 'lbfgs', 'fitness': 0.7075}, {'activation': 'relu', 'hidden_layer_sizes': (124, 65, 14), 'learning_rate': 'constant', 'max_iter': 250, 'solver': 'sgd', 'fitness': 0.707}, {'activation': 'relu', 'hidden_layer_sizes': (124, 71, 14), 'learning_rate': 'adaptive', 'max_iter': 250, 'solver': 'sgd', 'fitness': 0.7055}, {'activation': 'logistic', 'hidden_layer_sizes': (120, 99, 14), 'learning_rate': 'constant', 'max_iter': 136, 'solver': 'lbfgs', 'fitness': 0.705}, {'activation': 'relu', 'hidden_layer_sizes': (124, 65, 14), 'learning_rate': 'constant', 'max_iter': 250, 'solver': 'sgd', 'fitness': 0.705}, {'activation': 'logistic', 'hidden_layer_sizes': (120, 99, 41), 'learning_rate': 'constant', 'max_iter': 187, 'solver': 'lbfgs', 'fitness': 0.705}, {'activation': 'logistic', 'hidden_layer_sizes': (132, 83, 42), 'learning_rate': 'adaptive', 'max_iter': 250, 'solver': 'lbfgs', 'fitness': 0.7045}, {'activation': 'logistic', 'hidden_layer_sizes': (158, 65, 14), 'learning_rate': 'invscaling', 'max_iter': 250, 'solver': 'adam', 'fitness': 0.7045}, {'activation': 'logistic', 'hidden_layer_sizes': (124, 83, 14), 'learning_rate': 'constant', 'max_iter': 136, 'solver': 'lbfgs', 'fitness': 0.7045}, {'activation': 'logistic', 'hidden_layer_sizes': (158, 51, 31), 'learning_rate': 'adaptive', 'max_iter': 237, 'solver': 'adam', 'fitness': 0.704}, {'activation': 'relu', 'hidden_layer_sizes': (124, 65, 14), 'learning_rate': 'constant', 'max_iter': 250, 'solver': 'sgd', 'fitness': 0.7035}, {'activation': 'logistic', 'hidden_layer_sizes': (124, 65, 14), 'learning_rate': 'constant', 'max_iter': 250, 'solver': 'adam', 'fitness': 0.7035}, {'activation': 'logistic', 'hidden_layer_sizes': (158, 65, 14), 'learning_rate': 'constant', 'max_iter': 192, 'solver': 'adam', 'fitness': 0.7035}, {'activation': 'logistic', 'hidden_layer_sizes': (120, 67, 41), 'learning_rate': 'adaptive', 'max_iter': 187, 'solver': 'lbfgs', 'fitness': 0.703}, {'activation': 'logistic', 'hidden_layer_sizes': (158, 51, 14), 'learning_rate': 'constant', 'max_iter': 192, 'solver': 'adam', 'fitness': 0.703}, {'activation': 'logistic', 'hidden_layer_sizes': (124, 83, 14), 'learning_rate': 'constant', 'max_iter': 136, 'solver': 'adam', 'fitness': 0.703}, {'activation': 'logistic', 'solver': 'adam', 'learning_rate': 'constant', 'hidden_layer_sizes': (188, 99, 19), 'max_iter': 184, 'fitness': 0.7025}, {'activation': 'relu', 'hidden_layer_sizes': (132, 71, 14), 'learning_rate': 'constant', 'max_iter': 250, 'solver': 'sgd', 'fitness': 0.7025}, {'activation': 'logistic', 'hidden_layer_sizes': (158, 65, 14), 'learning_rate': 'invscaling', 'max_iter': 250, 'solver': 'adam', 'fitness': 0.7025}, {'activation': 'logistic', 'hidden_layer_sizes': (158, 51, 14), 'learning_rate': 'constant', 'max_iter': 192, 'solver': 'adam', 'fitness': 0.702}, {'activation': 'logistic', 'hidden_layer_sizes': (120, 99, 14), 'learning_rate': 'constant', 'max_iter': 136, 'solver': 'lbfgs', 'fitness': 0.702}, {'activation': 'logistic', 'hidden_layer_sizes': (188, 99, 14), 'learning_rate': 'constant', 'max_iter': 184, 'solver': 'adam', 'fitness': 0.702}, {'activation': 'logistic', 'hidden_layer_sizes': (158, 65, 14), 'learning_rate': 'constant', 'max_iter': 192, 'solver': 'adam', 'fitness': 0.702}, {'activation': 'relu', 'hidden_layer_sizes': (124, 65, 14), 'learning_rate': 'constant', 'max_iter': 250, 'solver': 'sgd', 'fitness': 0.702}, {'activation': 'logistic', 'solver': 'adam', 'learning_rate': 'constant', 'hidden_layer_sizes': (158, 82, 14), 'max_iter': 192, 'fitness': 0.7015}, {'activation': 'logistic', 'solver': 'lbfgs', 'learning_rate': 'adaptive', 'hidden_layer_sizes': (199, 67, 41), 'max_iter': 187, 'fitness': 0.7015}, {'activation': 'relu', 'hidden_layer_sizes': (124, 71, 14), 'learning_rate': 'adaptive', 'max_iter': 250, 'solver': 'sgd', 'fitness': 0.7015}, {'activation': 'logistic', 'hidden_layer_sizes': (158, 51, 14), 'learning_rate': 'constant', 'max_iter': 192, 'solver': 'adam', 'fitness': 0.7015}]\n",
            "generation: \n",
            "60\n"
          ],
          "name": "stdout"
        },
        {
          "output_type": "stream",
          "text": [
            "/usr/local/lib/python3.7/dist-packages/sklearn/neural_network/_multilayer_perceptron.py:571: ConvergenceWarning: Stochastic Optimizer: Maximum iterations (250) reached and the optimization hasn't converged yet.\n",
            "  % self.max_iter, ConvergenceWarning)\n",
            "/usr/local/lib/python3.7/dist-packages/sklearn/neural_network/_multilayer_perceptron.py:470: ConvergenceWarning: lbfgs failed to converge (status=1):\n",
            "STOP: TOTAL NO. of ITERATIONS REACHED LIMIT.\n",
            "\n",
            "Increase the number of iterations (max_iter) or scale the data as shown in:\n",
            "    https://scikit-learn.org/stable/modules/preprocessing.html\n",
            "  self.n_iter_ = _check_optimize_result(\"lbfgs\", opt_res, self.max_iter)\n"
          ],
          "name": "stderr"
        },
        {
          "output_type": "stream",
          "text": [
            "[{'activation': 'logistic', 'solver': 'lbfgs', 'learning_rate': 'adaptive', 'hidden_layer_sizes': (118, 90, 31), 'max_iter': 237, 'fitness': 0.7085}, {'activation': 'logistic', 'hidden_layer_sizes': (158, 51, 14), 'learning_rate': 'constant', 'max_iter': 250, 'solver': 'adam', 'fitness': 0.708}, {'activation': 'logistic', 'hidden_layer_sizes': (132, 83, 14), 'learning_rate': 'constant', 'max_iter': 136, 'solver': 'lbfgs', 'fitness': 0.7075}, {'activation': 'relu', 'hidden_layer_sizes': (124, 65, 14), 'learning_rate': 'constant', 'max_iter': 250, 'solver': 'sgd', 'fitness': 0.707}, {'activation': 'relu', 'hidden_layer_sizes': (124, 71, 14), 'learning_rate': 'adaptive', 'max_iter': 250, 'solver': 'sgd', 'fitness': 0.7055}, {'activation': 'logistic', 'hidden_layer_sizes': (120, 99, 14), 'learning_rate': 'constant', 'max_iter': 136, 'solver': 'lbfgs', 'fitness': 0.705}, {'activation': 'relu', 'hidden_layer_sizes': (124, 65, 14), 'learning_rate': 'constant', 'max_iter': 250, 'solver': 'sgd', 'fitness': 0.705}, {'activation': 'logistic', 'hidden_layer_sizes': (120, 99, 41), 'learning_rate': 'constant', 'max_iter': 187, 'solver': 'lbfgs', 'fitness': 0.705}, {'activation': 'logistic', 'hidden_layer_sizes': (132, 83, 42), 'learning_rate': 'adaptive', 'max_iter': 250, 'solver': 'lbfgs', 'fitness': 0.7045}, {'activation': 'logistic', 'hidden_layer_sizes': (158, 65, 14), 'learning_rate': 'invscaling', 'max_iter': 250, 'solver': 'adam', 'fitness': 0.7045}, {'activation': 'logistic', 'hidden_layer_sizes': (124, 83, 14), 'learning_rate': 'constant', 'max_iter': 136, 'solver': 'lbfgs', 'fitness': 0.7045}, {'activation': 'logistic', 'hidden_layer_sizes': (158, 51, 31), 'learning_rate': 'adaptive', 'max_iter': 237, 'solver': 'adam', 'fitness': 0.704}, {'activation': 'relu', 'hidden_layer_sizes': (124, 65, 14), 'learning_rate': 'constant', 'max_iter': 250, 'solver': 'sgd', 'fitness': 0.7035}, {'activation': 'logistic', 'hidden_layer_sizes': (124, 65, 14), 'learning_rate': 'constant', 'max_iter': 250, 'solver': 'adam', 'fitness': 0.7035}, {'activation': 'logistic', 'hidden_layer_sizes': (158, 65, 14), 'learning_rate': 'constant', 'max_iter': 192, 'solver': 'adam', 'fitness': 0.7035}, {'activation': 'logistic', 'hidden_layer_sizes': (120, 67, 41), 'learning_rate': 'adaptive', 'max_iter': 187, 'solver': 'lbfgs', 'fitness': 0.703}, {'activation': 'logistic', 'hidden_layer_sizes': (158, 51, 14), 'learning_rate': 'constant', 'max_iter': 192, 'solver': 'adam', 'fitness': 0.703}, {'activation': 'logistic', 'hidden_layer_sizes': (124, 83, 14), 'learning_rate': 'constant', 'max_iter': 136, 'solver': 'adam', 'fitness': 0.703}, {'activation': 'logistic', 'solver': 'adam', 'learning_rate': 'constant', 'hidden_layer_sizes': (188, 99, 19), 'max_iter': 184, 'fitness': 0.7025}, {'activation': 'relu', 'hidden_layer_sizes': (132, 71, 14), 'learning_rate': 'constant', 'max_iter': 250, 'solver': 'sgd', 'fitness': 0.7025}, {'activation': 'logistic', 'hidden_layer_sizes': (158, 65, 14), 'learning_rate': 'invscaling', 'max_iter': 250, 'solver': 'adam', 'fitness': 0.7025}, {'activation': 'logistic', 'hidden_layer_sizes': (158, 51, 14), 'learning_rate': 'constant', 'max_iter': 192, 'solver': 'adam', 'fitness': 0.702}, {'activation': 'logistic', 'hidden_layer_sizes': (120, 99, 14), 'learning_rate': 'constant', 'max_iter': 136, 'solver': 'lbfgs', 'fitness': 0.702}, {'activation': 'logistic', 'hidden_layer_sizes': (188, 99, 14), 'learning_rate': 'constant', 'max_iter': 184, 'solver': 'adam', 'fitness': 0.702}, {'activation': 'logistic', 'hidden_layer_sizes': (158, 65, 14), 'learning_rate': 'constant', 'max_iter': 192, 'solver': 'adam', 'fitness': 0.702}, {'activation': 'relu', 'hidden_layer_sizes': (124, 65, 14), 'learning_rate': 'constant', 'max_iter': 250, 'solver': 'sgd', 'fitness': 0.702}, {'activation': 'logistic', 'solver': 'adam', 'learning_rate': 'constant', 'hidden_layer_sizes': (158, 82, 14), 'max_iter': 192, 'fitness': 0.7015}, {'activation': 'logistic', 'solver': 'lbfgs', 'learning_rate': 'adaptive', 'hidden_layer_sizes': (199, 67, 41), 'max_iter': 187, 'fitness': 0.7015}, {'activation': 'relu', 'hidden_layer_sizes': (124, 71, 14), 'learning_rate': 'adaptive', 'max_iter': 250, 'solver': 'sgd', 'fitness': 0.7015}, {'activation': 'logistic', 'hidden_layer_sizes': (158, 51, 14), 'learning_rate': 'constant', 'max_iter': 192, 'solver': 'adam', 'fitness': 0.7015}]\n",
            "generation: \n",
            "61\n"
          ],
          "name": "stdout"
        },
        {
          "output_type": "stream",
          "text": [
            "/usr/local/lib/python3.7/dist-packages/sklearn/neural_network/_multilayer_perceptron.py:470: ConvergenceWarning: lbfgs failed to converge (status=1):\n",
            "STOP: TOTAL NO. of ITERATIONS REACHED LIMIT.\n",
            "\n",
            "Increase the number of iterations (max_iter) or scale the data as shown in:\n",
            "    https://scikit-learn.org/stable/modules/preprocessing.html\n",
            "  self.n_iter_ = _check_optimize_result(\"lbfgs\", opt_res, self.max_iter)\n",
            "/usr/local/lib/python3.7/dist-packages/sklearn/neural_network/_multilayer_perceptron.py:470: ConvergenceWarning: lbfgs failed to converge (status=1):\n",
            "STOP: TOTAL NO. of ITERATIONS REACHED LIMIT.\n",
            "\n",
            "Increase the number of iterations (max_iter) or scale the data as shown in:\n",
            "    https://scikit-learn.org/stable/modules/preprocessing.html\n",
            "  self.n_iter_ = _check_optimize_result(\"lbfgs\", opt_res, self.max_iter)\n"
          ],
          "name": "stderr"
        },
        {
          "output_type": "stream",
          "text": [
            "[{'activation': 'logistic', 'solver': 'lbfgs', 'learning_rate': 'adaptive', 'hidden_layer_sizes': (118, 90, 31), 'max_iter': 237, 'fitness': 0.7085}, {'activation': 'logistic', 'hidden_layer_sizes': (158, 51, 14), 'learning_rate': 'constant', 'max_iter': 250, 'solver': 'adam', 'fitness': 0.708}, {'activation': 'logistic', 'hidden_layer_sizes': (132, 83, 14), 'learning_rate': 'constant', 'max_iter': 136, 'solver': 'lbfgs', 'fitness': 0.7075}, {'activation': 'relu', 'hidden_layer_sizes': (124, 65, 14), 'learning_rate': 'constant', 'max_iter': 250, 'solver': 'sgd', 'fitness': 0.707}, {'activation': 'relu', 'hidden_layer_sizes': (124, 71, 14), 'learning_rate': 'adaptive', 'max_iter': 250, 'solver': 'sgd', 'fitness': 0.7055}, {'activation': 'logistic', 'hidden_layer_sizes': (120, 99, 14), 'learning_rate': 'constant', 'max_iter': 136, 'solver': 'lbfgs', 'fitness': 0.705}, {'activation': 'relu', 'hidden_layer_sizes': (124, 65, 14), 'learning_rate': 'constant', 'max_iter': 250, 'solver': 'sgd', 'fitness': 0.705}, {'activation': 'logistic', 'hidden_layer_sizes': (120, 99, 41), 'learning_rate': 'constant', 'max_iter': 187, 'solver': 'lbfgs', 'fitness': 0.705}, {'activation': 'logistic', 'hidden_layer_sizes': (132, 83, 42), 'learning_rate': 'adaptive', 'max_iter': 250, 'solver': 'lbfgs', 'fitness': 0.7045}, {'activation': 'logistic', 'hidden_layer_sizes': (158, 65, 14), 'learning_rate': 'invscaling', 'max_iter': 250, 'solver': 'adam', 'fitness': 0.7045}, {'activation': 'logistic', 'hidden_layer_sizes': (124, 83, 14), 'learning_rate': 'constant', 'max_iter': 136, 'solver': 'lbfgs', 'fitness': 0.7045}, {'activation': 'logistic', 'hidden_layer_sizes': (158, 51, 31), 'learning_rate': 'adaptive', 'max_iter': 237, 'solver': 'adam', 'fitness': 0.704}, {'activation': 'relu', 'hidden_layer_sizes': (124, 65, 14), 'learning_rate': 'constant', 'max_iter': 250, 'solver': 'sgd', 'fitness': 0.7035}, {'activation': 'logistic', 'hidden_layer_sizes': (124, 65, 14), 'learning_rate': 'constant', 'max_iter': 250, 'solver': 'adam', 'fitness': 0.7035}, {'activation': 'logistic', 'hidden_layer_sizes': (158, 65, 14), 'learning_rate': 'constant', 'max_iter': 192, 'solver': 'adam', 'fitness': 0.7035}, {'activation': 'logistic', 'hidden_layer_sizes': (120, 67, 41), 'learning_rate': 'adaptive', 'max_iter': 187, 'solver': 'lbfgs', 'fitness': 0.703}, {'activation': 'logistic', 'hidden_layer_sizes': (158, 51, 14), 'learning_rate': 'constant', 'max_iter': 192, 'solver': 'adam', 'fitness': 0.703}, {'activation': 'logistic', 'hidden_layer_sizes': (124, 83, 14), 'learning_rate': 'constant', 'max_iter': 136, 'solver': 'adam', 'fitness': 0.703}, {'activation': 'logistic', 'solver': 'adam', 'learning_rate': 'constant', 'hidden_layer_sizes': (188, 99, 19), 'max_iter': 184, 'fitness': 0.7025}, {'activation': 'relu', 'hidden_layer_sizes': (132, 71, 14), 'learning_rate': 'constant', 'max_iter': 250, 'solver': 'sgd', 'fitness': 0.7025}, {'activation': 'logistic', 'hidden_layer_sizes': (158, 65, 14), 'learning_rate': 'invscaling', 'max_iter': 250, 'solver': 'adam', 'fitness': 0.7025}, {'activation': 'logistic', 'hidden_layer_sizes': (158, 51, 14), 'learning_rate': 'constant', 'max_iter': 192, 'solver': 'adam', 'fitness': 0.702}, {'activation': 'logistic', 'hidden_layer_sizes': (120, 99, 14), 'learning_rate': 'constant', 'max_iter': 136, 'solver': 'lbfgs', 'fitness': 0.702}, {'activation': 'logistic', 'hidden_layer_sizes': (188, 99, 14), 'learning_rate': 'constant', 'max_iter': 184, 'solver': 'adam', 'fitness': 0.702}, {'activation': 'logistic', 'hidden_layer_sizes': (158, 65, 14), 'learning_rate': 'constant', 'max_iter': 192, 'solver': 'adam', 'fitness': 0.702}, {'activation': 'relu', 'hidden_layer_sizes': (124, 65, 14), 'learning_rate': 'constant', 'max_iter': 250, 'solver': 'sgd', 'fitness': 0.702}, {'activation': 'logistic', 'solver': 'adam', 'learning_rate': 'constant', 'hidden_layer_sizes': (158, 82, 14), 'max_iter': 192, 'fitness': 0.7015}, {'activation': 'logistic', 'solver': 'lbfgs', 'learning_rate': 'adaptive', 'hidden_layer_sizes': (199, 67, 41), 'max_iter': 187, 'fitness': 0.7015}, {'activation': 'relu', 'hidden_layer_sizes': (124, 71, 14), 'learning_rate': 'adaptive', 'max_iter': 250, 'solver': 'sgd', 'fitness': 0.7015}, {'activation': 'logistic', 'hidden_layer_sizes': (158, 51, 14), 'learning_rate': 'constant', 'max_iter': 192, 'solver': 'adam', 'fitness': 0.7015}]\n",
            "generation: \n",
            "62\n"
          ],
          "name": "stdout"
        },
        {
          "output_type": "stream",
          "text": [
            "/usr/local/lib/python3.7/dist-packages/sklearn/neural_network/_multilayer_perceptron.py:470: ConvergenceWarning: lbfgs failed to converge (status=1):\n",
            "STOP: TOTAL NO. of ITERATIONS REACHED LIMIT.\n",
            "\n",
            "Increase the number of iterations (max_iter) or scale the data as shown in:\n",
            "    https://scikit-learn.org/stable/modules/preprocessing.html\n",
            "  self.n_iter_ = _check_optimize_result(\"lbfgs\", opt_res, self.max_iter)\n",
            "/usr/local/lib/python3.7/dist-packages/sklearn/neural_network/_multilayer_perceptron.py:571: ConvergenceWarning: Stochastic Optimizer: Maximum iterations (250) reached and the optimization hasn't converged yet.\n",
            "  % self.max_iter, ConvergenceWarning)\n"
          ],
          "name": "stderr"
        },
        {
          "output_type": "stream",
          "text": [
            "[{'activation': 'logistic', 'solver': 'lbfgs', 'learning_rate': 'adaptive', 'hidden_layer_sizes': (118, 90, 31), 'max_iter': 237, 'fitness': 0.7085}, {'activation': 'logistic', 'hidden_layer_sizes': (158, 51, 14), 'learning_rate': 'constant', 'max_iter': 250, 'solver': 'adam', 'fitness': 0.708}, {'activation': 'logistic', 'hidden_layer_sizes': (132, 83, 14), 'learning_rate': 'constant', 'max_iter': 136, 'solver': 'lbfgs', 'fitness': 0.7075}, {'activation': 'relu', 'hidden_layer_sizes': (124, 65, 14), 'learning_rate': 'constant', 'max_iter': 250, 'solver': 'sgd', 'fitness': 0.707}, {'activation': 'relu', 'hidden_layer_sizes': (124, 71, 14), 'learning_rate': 'adaptive', 'max_iter': 250, 'solver': 'sgd', 'fitness': 0.7055}, {'activation': 'logistic', 'hidden_layer_sizes': (120, 99, 14), 'learning_rate': 'constant', 'max_iter': 136, 'solver': 'lbfgs', 'fitness': 0.705}, {'activation': 'relu', 'hidden_layer_sizes': (124, 65, 14), 'learning_rate': 'constant', 'max_iter': 250, 'solver': 'sgd', 'fitness': 0.705}, {'activation': 'logistic', 'hidden_layer_sizes': (120, 99, 41), 'learning_rate': 'constant', 'max_iter': 187, 'solver': 'lbfgs', 'fitness': 0.705}, {'activation': 'logistic', 'hidden_layer_sizes': (132, 83, 42), 'learning_rate': 'adaptive', 'max_iter': 250, 'solver': 'lbfgs', 'fitness': 0.7045}, {'activation': 'logistic', 'hidden_layer_sizes': (158, 65, 14), 'learning_rate': 'invscaling', 'max_iter': 250, 'solver': 'adam', 'fitness': 0.7045}, {'activation': 'logistic', 'hidden_layer_sizes': (124, 83, 14), 'learning_rate': 'constant', 'max_iter': 136, 'solver': 'lbfgs', 'fitness': 0.7045}, {'activation': 'logistic', 'hidden_layer_sizes': (158, 51, 31), 'learning_rate': 'adaptive', 'max_iter': 237, 'solver': 'adam', 'fitness': 0.704}, {'activation': 'relu', 'hidden_layer_sizes': (124, 65, 14), 'learning_rate': 'constant', 'max_iter': 250, 'solver': 'sgd', 'fitness': 0.7035}, {'activation': 'logistic', 'hidden_layer_sizes': (124, 65, 14), 'learning_rate': 'constant', 'max_iter': 250, 'solver': 'adam', 'fitness': 0.7035}, {'activation': 'logistic', 'hidden_layer_sizes': (158, 65, 14), 'learning_rate': 'constant', 'max_iter': 192, 'solver': 'adam', 'fitness': 0.7035}, {'activation': 'logistic', 'hidden_layer_sizes': (120, 67, 41), 'learning_rate': 'adaptive', 'max_iter': 187, 'solver': 'lbfgs', 'fitness': 0.703}, {'activation': 'logistic', 'hidden_layer_sizes': (158, 51, 14), 'learning_rate': 'constant', 'max_iter': 192, 'solver': 'adam', 'fitness': 0.703}, {'activation': 'logistic', 'hidden_layer_sizes': (124, 83, 14), 'learning_rate': 'constant', 'max_iter': 136, 'solver': 'adam', 'fitness': 0.703}, {'activation': 'logistic', 'solver': 'adam', 'learning_rate': 'constant', 'hidden_layer_sizes': (188, 99, 19), 'max_iter': 184, 'fitness': 0.7025}, {'activation': 'relu', 'hidden_layer_sizes': (132, 71, 14), 'learning_rate': 'constant', 'max_iter': 250, 'solver': 'sgd', 'fitness': 0.7025}, {'activation': 'logistic', 'hidden_layer_sizes': (158, 65, 14), 'learning_rate': 'invscaling', 'max_iter': 250, 'solver': 'adam', 'fitness': 0.7025}, {'activation': 'logistic', 'hidden_layer_sizes': (158, 51, 14), 'learning_rate': 'constant', 'max_iter': 192, 'solver': 'adam', 'fitness': 0.702}, {'activation': 'logistic', 'hidden_layer_sizes': (120, 99, 14), 'learning_rate': 'constant', 'max_iter': 136, 'solver': 'lbfgs', 'fitness': 0.702}, {'activation': 'logistic', 'hidden_layer_sizes': (188, 99, 14), 'learning_rate': 'constant', 'max_iter': 184, 'solver': 'adam', 'fitness': 0.702}, {'activation': 'logistic', 'hidden_layer_sizes': (158, 65, 14), 'learning_rate': 'constant', 'max_iter': 192, 'solver': 'adam', 'fitness': 0.702}, {'activation': 'relu', 'hidden_layer_sizes': (124, 65, 14), 'learning_rate': 'constant', 'max_iter': 250, 'solver': 'sgd', 'fitness': 0.702}, {'activation': 'logistic', 'solver': 'adam', 'learning_rate': 'constant', 'hidden_layer_sizes': (158, 82, 14), 'max_iter': 192, 'fitness': 0.7015}, {'activation': 'logistic', 'solver': 'lbfgs', 'learning_rate': 'adaptive', 'hidden_layer_sizes': (199, 67, 41), 'max_iter': 187, 'fitness': 0.7015}, {'activation': 'relu', 'hidden_layer_sizes': (124, 71, 14), 'learning_rate': 'adaptive', 'max_iter': 250, 'solver': 'sgd', 'fitness': 0.7015}, {'activation': 'logistic', 'hidden_layer_sizes': (158, 51, 14), 'learning_rate': 'constant', 'max_iter': 192, 'solver': 'adam', 'fitness': 0.7015}]\n",
            "generation: \n",
            "63\n"
          ],
          "name": "stdout"
        },
        {
          "output_type": "stream",
          "text": [
            "/usr/local/lib/python3.7/dist-packages/sklearn/neural_network/_multilayer_perceptron.py:571: ConvergenceWarning: Stochastic Optimizer: Maximum iterations (237) reached and the optimization hasn't converged yet.\n",
            "  % self.max_iter, ConvergenceWarning)\n",
            "/usr/local/lib/python3.7/dist-packages/sklearn/neural_network/_multilayer_perceptron.py:571: ConvergenceWarning: Stochastic Optimizer: Maximum iterations (237) reached and the optimization hasn't converged yet.\n",
            "  % self.max_iter, ConvergenceWarning)\n"
          ],
          "name": "stderr"
        },
        {
          "output_type": "stream",
          "text": [
            "[{'activation': 'logistic', 'solver': 'lbfgs', 'learning_rate': 'adaptive', 'hidden_layer_sizes': (118, 90, 31), 'max_iter': 237, 'fitness': 0.7085}, {'activation': 'logistic', 'hidden_layer_sizes': (158, 51, 14), 'learning_rate': 'constant', 'max_iter': 250, 'solver': 'adam', 'fitness': 0.708}, {'activation': 'logistic', 'hidden_layer_sizes': (132, 83, 14), 'learning_rate': 'constant', 'max_iter': 136, 'solver': 'lbfgs', 'fitness': 0.7075}, {'activation': 'relu', 'hidden_layer_sizes': (124, 65, 14), 'learning_rate': 'constant', 'max_iter': 250, 'solver': 'sgd', 'fitness': 0.707}, {'activation': 'relu', 'hidden_layer_sizes': (124, 71, 14), 'learning_rate': 'adaptive', 'max_iter': 250, 'solver': 'sgd', 'fitness': 0.7055}, {'activation': 'logistic', 'hidden_layer_sizes': (120, 99, 14), 'learning_rate': 'constant', 'max_iter': 136, 'solver': 'lbfgs', 'fitness': 0.705}, {'activation': 'relu', 'hidden_layer_sizes': (124, 65, 14), 'learning_rate': 'constant', 'max_iter': 250, 'solver': 'sgd', 'fitness': 0.705}, {'activation': 'logistic', 'hidden_layer_sizes': (120, 99, 41), 'learning_rate': 'constant', 'max_iter': 187, 'solver': 'lbfgs', 'fitness': 0.705}, {'activation': 'logistic', 'hidden_layer_sizes': (132, 83, 14), 'learning_rate': 'constant', 'max_iter': 237, 'solver': 'adam', 'fitness': 0.705}, {'activation': 'logistic', 'hidden_layer_sizes': (132, 83, 42), 'learning_rate': 'adaptive', 'max_iter': 250, 'solver': 'lbfgs', 'fitness': 0.7045}, {'activation': 'logistic', 'hidden_layer_sizes': (158, 65, 14), 'learning_rate': 'invscaling', 'max_iter': 250, 'solver': 'adam', 'fitness': 0.7045}, {'activation': 'logistic', 'hidden_layer_sizes': (124, 83, 14), 'learning_rate': 'constant', 'max_iter': 136, 'solver': 'lbfgs', 'fitness': 0.7045}, {'activation': 'logistic', 'hidden_layer_sizes': (158, 51, 31), 'learning_rate': 'adaptive', 'max_iter': 237, 'solver': 'adam', 'fitness': 0.704}, {'activation': 'relu', 'hidden_layer_sizes': (124, 65, 14), 'learning_rate': 'constant', 'max_iter': 250, 'solver': 'sgd', 'fitness': 0.7035}, {'activation': 'logistic', 'hidden_layer_sizes': (124, 65, 14), 'learning_rate': 'constant', 'max_iter': 250, 'solver': 'adam', 'fitness': 0.7035}, {'activation': 'logistic', 'hidden_layer_sizes': (158, 65, 14), 'learning_rate': 'constant', 'max_iter': 192, 'solver': 'adam', 'fitness': 0.7035}, {'activation': 'logistic', 'hidden_layer_sizes': (120, 67, 41), 'learning_rate': 'adaptive', 'max_iter': 187, 'solver': 'lbfgs', 'fitness': 0.703}, {'activation': 'logistic', 'hidden_layer_sizes': (158, 51, 14), 'learning_rate': 'constant', 'max_iter': 192, 'solver': 'adam', 'fitness': 0.703}, {'activation': 'logistic', 'hidden_layer_sizes': (124, 83, 14), 'learning_rate': 'constant', 'max_iter': 136, 'solver': 'adam', 'fitness': 0.703}, {'activation': 'logistic', 'solver': 'adam', 'learning_rate': 'constant', 'hidden_layer_sizes': (188, 99, 19), 'max_iter': 184, 'fitness': 0.7025}, {'activation': 'relu', 'hidden_layer_sizes': (132, 71, 14), 'learning_rate': 'constant', 'max_iter': 250, 'solver': 'sgd', 'fitness': 0.7025}, {'activation': 'logistic', 'hidden_layer_sizes': (158, 65, 14), 'learning_rate': 'invscaling', 'max_iter': 250, 'solver': 'adam', 'fitness': 0.7025}, {'activation': 'logistic', 'hidden_layer_sizes': (132, 51, 14), 'learning_rate': 'adaptive', 'max_iter': 237, 'solver': 'adam', 'fitness': 0.7025}, {'activation': 'logistic', 'hidden_layer_sizes': (158, 51, 14), 'learning_rate': 'constant', 'max_iter': 192, 'solver': 'adam', 'fitness': 0.702}, {'activation': 'logistic', 'hidden_layer_sizes': (120, 99, 14), 'learning_rate': 'constant', 'max_iter': 136, 'solver': 'lbfgs', 'fitness': 0.702}, {'activation': 'logistic', 'hidden_layer_sizes': (188, 99, 14), 'learning_rate': 'constant', 'max_iter': 184, 'solver': 'adam', 'fitness': 0.702}, {'activation': 'logistic', 'hidden_layer_sizes': (158, 65, 14), 'learning_rate': 'constant', 'max_iter': 192, 'solver': 'adam', 'fitness': 0.702}, {'activation': 'relu', 'hidden_layer_sizes': (124, 65, 14), 'learning_rate': 'constant', 'max_iter': 250, 'solver': 'sgd', 'fitness': 0.702}, {'activation': 'logistic', 'solver': 'adam', 'learning_rate': 'constant', 'hidden_layer_sizes': (158, 82, 14), 'max_iter': 192, 'fitness': 0.7015}, {'activation': 'logistic', 'solver': 'lbfgs', 'learning_rate': 'adaptive', 'hidden_layer_sizes': (199, 67, 41), 'max_iter': 187, 'fitness': 0.7015}]\n",
            "generation: \n",
            "64\n"
          ],
          "name": "stdout"
        },
        {
          "output_type": "stream",
          "text": [
            "/usr/local/lib/python3.7/dist-packages/sklearn/neural_network/_multilayer_perceptron.py:571: ConvergenceWarning: Stochastic Optimizer: Maximum iterations (250) reached and the optimization hasn't converged yet.\n",
            "  % self.max_iter, ConvergenceWarning)\n"
          ],
          "name": "stderr"
        },
        {
          "output_type": "stream",
          "text": [
            "[{'activation': 'logistic', 'solver': 'lbfgs', 'learning_rate': 'adaptive', 'hidden_layer_sizes': (118, 90, 31), 'max_iter': 237, 'fitness': 0.7085}, {'activation': 'logistic', 'hidden_layer_sizes': (158, 51, 14), 'learning_rate': 'constant', 'max_iter': 250, 'solver': 'adam', 'fitness': 0.708}, {'activation': 'logistic', 'hidden_layer_sizes': (132, 83, 14), 'learning_rate': 'constant', 'max_iter': 136, 'solver': 'lbfgs', 'fitness': 0.7075}, {'activation': 'relu', 'hidden_layer_sizes': (124, 65, 14), 'learning_rate': 'constant', 'max_iter': 250, 'solver': 'sgd', 'fitness': 0.707}, {'activation': 'relu', 'hidden_layer_sizes': (124, 71, 14), 'learning_rate': 'adaptive', 'max_iter': 250, 'solver': 'sgd', 'fitness': 0.7055}, {'activation': 'logistic', 'hidden_layer_sizes': (120, 99, 14), 'learning_rate': 'constant', 'max_iter': 136, 'solver': 'lbfgs', 'fitness': 0.705}, {'activation': 'relu', 'hidden_layer_sizes': (124, 65, 14), 'learning_rate': 'constant', 'max_iter': 250, 'solver': 'sgd', 'fitness': 0.705}, {'activation': 'logistic', 'hidden_layer_sizes': (120, 99, 41), 'learning_rate': 'constant', 'max_iter': 187, 'solver': 'lbfgs', 'fitness': 0.705}, {'activation': 'logistic', 'hidden_layer_sizes': (132, 83, 14), 'learning_rate': 'constant', 'max_iter': 237, 'solver': 'adam', 'fitness': 0.705}, {'activation': 'logistic', 'hidden_layer_sizes': (132, 83, 42), 'learning_rate': 'adaptive', 'max_iter': 250, 'solver': 'lbfgs', 'fitness': 0.7045}, {'activation': 'logistic', 'hidden_layer_sizes': (158, 65, 14), 'learning_rate': 'invscaling', 'max_iter': 250, 'solver': 'adam', 'fitness': 0.7045}, {'activation': 'logistic', 'hidden_layer_sizes': (124, 83, 14), 'learning_rate': 'constant', 'max_iter': 136, 'solver': 'lbfgs', 'fitness': 0.7045}, {'activation': 'logistic', 'hidden_layer_sizes': (158, 51, 31), 'learning_rate': 'adaptive', 'max_iter': 237, 'solver': 'adam', 'fitness': 0.704}, {'activation': 'relu', 'hidden_layer_sizes': (124, 65, 14), 'learning_rate': 'constant', 'max_iter': 250, 'solver': 'sgd', 'fitness': 0.7035}, {'activation': 'logistic', 'hidden_layer_sizes': (124, 65, 14), 'learning_rate': 'constant', 'max_iter': 250, 'solver': 'adam', 'fitness': 0.7035}, {'activation': 'logistic', 'hidden_layer_sizes': (158, 65, 14), 'learning_rate': 'constant', 'max_iter': 192, 'solver': 'adam', 'fitness': 0.7035}, {'activation': 'logistic', 'hidden_layer_sizes': (120, 67, 41), 'learning_rate': 'adaptive', 'max_iter': 187, 'solver': 'lbfgs', 'fitness': 0.703}, {'activation': 'logistic', 'hidden_layer_sizes': (158, 51, 14), 'learning_rate': 'constant', 'max_iter': 192, 'solver': 'adam', 'fitness': 0.703}, {'activation': 'logistic', 'hidden_layer_sizes': (124, 83, 14), 'learning_rate': 'constant', 'max_iter': 136, 'solver': 'adam', 'fitness': 0.703}, {'activation': 'logistic', 'solver': 'adam', 'learning_rate': 'constant', 'hidden_layer_sizes': (188, 99, 19), 'max_iter': 184, 'fitness': 0.7025}, {'activation': 'relu', 'hidden_layer_sizes': (132, 71, 14), 'learning_rate': 'constant', 'max_iter': 250, 'solver': 'sgd', 'fitness': 0.7025}, {'activation': 'logistic', 'hidden_layer_sizes': (158, 65, 14), 'learning_rate': 'invscaling', 'max_iter': 250, 'solver': 'adam', 'fitness': 0.7025}, {'activation': 'logistic', 'hidden_layer_sizes': (132, 51, 14), 'learning_rate': 'adaptive', 'max_iter': 237, 'solver': 'adam', 'fitness': 0.7025}, {'activation': 'logistic', 'hidden_layer_sizes': (158, 51, 14), 'learning_rate': 'constant', 'max_iter': 192, 'solver': 'adam', 'fitness': 0.702}, {'activation': 'logistic', 'hidden_layer_sizes': (120, 99, 14), 'learning_rate': 'constant', 'max_iter': 136, 'solver': 'lbfgs', 'fitness': 0.702}, {'activation': 'logistic', 'hidden_layer_sizes': (188, 99, 14), 'learning_rate': 'constant', 'max_iter': 184, 'solver': 'adam', 'fitness': 0.702}, {'activation': 'logistic', 'hidden_layer_sizes': (158, 65, 14), 'learning_rate': 'constant', 'max_iter': 192, 'solver': 'adam', 'fitness': 0.702}, {'activation': 'relu', 'hidden_layer_sizes': (124, 65, 14), 'learning_rate': 'constant', 'max_iter': 250, 'solver': 'sgd', 'fitness': 0.702}, {'activation': 'logistic', 'solver': 'adam', 'learning_rate': 'constant', 'hidden_layer_sizes': (158, 82, 14), 'max_iter': 192, 'fitness': 0.7015}, {'activation': 'logistic', 'solver': 'lbfgs', 'learning_rate': 'adaptive', 'hidden_layer_sizes': (199, 67, 41), 'max_iter': 187, 'fitness': 0.7015}]\n",
            "generation: \n",
            "65\n"
          ],
          "name": "stdout"
        },
        {
          "output_type": "stream",
          "text": [
            "/usr/local/lib/python3.7/dist-packages/sklearn/neural_network/_multilayer_perceptron.py:470: ConvergenceWarning: lbfgs failed to converge (status=1):\n",
            "STOP: TOTAL NO. of ITERATIONS REACHED LIMIT.\n",
            "\n",
            "Increase the number of iterations (max_iter) or scale the data as shown in:\n",
            "    https://scikit-learn.org/stable/modules/preprocessing.html\n",
            "  self.n_iter_ = _check_optimize_result(\"lbfgs\", opt_res, self.max_iter)\n",
            "/usr/local/lib/python3.7/dist-packages/sklearn/neural_network/_multilayer_perceptron.py:470: ConvergenceWarning: lbfgs failed to converge (status=1):\n",
            "STOP: TOTAL NO. of ITERATIONS REACHED LIMIT.\n",
            "\n",
            "Increase the number of iterations (max_iter) or scale the data as shown in:\n",
            "    https://scikit-learn.org/stable/modules/preprocessing.html\n",
            "  self.n_iter_ = _check_optimize_result(\"lbfgs\", opt_res, self.max_iter)\n"
          ],
          "name": "stderr"
        },
        {
          "output_type": "stream",
          "text": [
            "[{'activation': 'logistic', 'solver': 'lbfgs', 'learning_rate': 'adaptive', 'hidden_layer_sizes': (118, 90, 31), 'max_iter': 237, 'fitness': 0.7085}, {'activation': 'logistic', 'hidden_layer_sizes': (158, 51, 14), 'learning_rate': 'constant', 'max_iter': 250, 'solver': 'adam', 'fitness': 0.708}, {'activation': 'logistic', 'hidden_layer_sizes': (132, 83, 14), 'learning_rate': 'constant', 'max_iter': 136, 'solver': 'lbfgs', 'fitness': 0.7075}, {'activation': 'relu', 'hidden_layer_sizes': (124, 65, 14), 'learning_rate': 'constant', 'max_iter': 250, 'solver': 'sgd', 'fitness': 0.707}, {'activation': 'relu', 'hidden_layer_sizes': (124, 71, 14), 'learning_rate': 'adaptive', 'max_iter': 250, 'solver': 'sgd', 'fitness': 0.7055}, {'activation': 'logistic', 'hidden_layer_sizes': (120, 99, 14), 'learning_rate': 'constant', 'max_iter': 136, 'solver': 'lbfgs', 'fitness': 0.705}, {'activation': 'relu', 'hidden_layer_sizes': (124, 65, 14), 'learning_rate': 'constant', 'max_iter': 250, 'solver': 'sgd', 'fitness': 0.705}, {'activation': 'logistic', 'hidden_layer_sizes': (120, 99, 41), 'learning_rate': 'constant', 'max_iter': 187, 'solver': 'lbfgs', 'fitness': 0.705}, {'activation': 'logistic', 'hidden_layer_sizes': (132, 83, 14), 'learning_rate': 'constant', 'max_iter': 237, 'solver': 'adam', 'fitness': 0.705}, {'activation': 'logistic', 'hidden_layer_sizes': (132, 83, 42), 'learning_rate': 'adaptive', 'max_iter': 250, 'solver': 'lbfgs', 'fitness': 0.7045}, {'activation': 'logistic', 'hidden_layer_sizes': (158, 65, 14), 'learning_rate': 'invscaling', 'max_iter': 250, 'solver': 'adam', 'fitness': 0.7045}, {'activation': 'logistic', 'hidden_layer_sizes': (124, 83, 14), 'learning_rate': 'constant', 'max_iter': 136, 'solver': 'lbfgs', 'fitness': 0.7045}, {'activation': 'logistic', 'hidden_layer_sizes': (158, 51, 31), 'learning_rate': 'adaptive', 'max_iter': 237, 'solver': 'adam', 'fitness': 0.704}, {'activation': 'relu', 'hidden_layer_sizes': (124, 65, 14), 'learning_rate': 'constant', 'max_iter': 250, 'solver': 'sgd', 'fitness': 0.7035}, {'activation': 'logistic', 'hidden_layer_sizes': (124, 65, 14), 'learning_rate': 'constant', 'max_iter': 250, 'solver': 'adam', 'fitness': 0.7035}, {'activation': 'logistic', 'hidden_layer_sizes': (158, 65, 14), 'learning_rate': 'constant', 'max_iter': 192, 'solver': 'adam', 'fitness': 0.7035}, {'activation': 'logistic', 'hidden_layer_sizes': (120, 67, 41), 'learning_rate': 'adaptive', 'max_iter': 187, 'solver': 'lbfgs', 'fitness': 0.703}, {'activation': 'logistic', 'hidden_layer_sizes': (158, 51, 14), 'learning_rate': 'constant', 'max_iter': 192, 'solver': 'adam', 'fitness': 0.703}, {'activation': 'logistic', 'hidden_layer_sizes': (124, 83, 14), 'learning_rate': 'constant', 'max_iter': 136, 'solver': 'adam', 'fitness': 0.703}, {'activation': 'logistic', 'solver': 'adam', 'learning_rate': 'constant', 'hidden_layer_sizes': (188, 99, 19), 'max_iter': 184, 'fitness': 0.7025}, {'activation': 'relu', 'hidden_layer_sizes': (132, 71, 14), 'learning_rate': 'constant', 'max_iter': 250, 'solver': 'sgd', 'fitness': 0.7025}, {'activation': 'logistic', 'hidden_layer_sizes': (158, 65, 14), 'learning_rate': 'invscaling', 'max_iter': 250, 'solver': 'adam', 'fitness': 0.7025}, {'activation': 'logistic', 'hidden_layer_sizes': (132, 51, 14), 'learning_rate': 'adaptive', 'max_iter': 237, 'solver': 'adam', 'fitness': 0.7025}, {'activation': 'logistic', 'hidden_layer_sizes': (158, 51, 14), 'learning_rate': 'constant', 'max_iter': 192, 'solver': 'adam', 'fitness': 0.702}, {'activation': 'logistic', 'hidden_layer_sizes': (120, 99, 14), 'learning_rate': 'constant', 'max_iter': 136, 'solver': 'lbfgs', 'fitness': 0.702}, {'activation': 'logistic', 'hidden_layer_sizes': (188, 99, 14), 'learning_rate': 'constant', 'max_iter': 184, 'solver': 'adam', 'fitness': 0.702}, {'activation': 'logistic', 'hidden_layer_sizes': (158, 65, 14), 'learning_rate': 'constant', 'max_iter': 192, 'solver': 'adam', 'fitness': 0.702}, {'activation': 'relu', 'hidden_layer_sizes': (124, 65, 14), 'learning_rate': 'constant', 'max_iter': 250, 'solver': 'sgd', 'fitness': 0.702}, {'activation': 'logistic', 'solver': 'adam', 'learning_rate': 'constant', 'hidden_layer_sizes': (158, 82, 14), 'max_iter': 192, 'fitness': 0.7015}, {'activation': 'logistic', 'solver': 'lbfgs', 'learning_rate': 'adaptive', 'hidden_layer_sizes': (199, 67, 41), 'max_iter': 187, 'fitness': 0.7015}]\n",
            "generation: \n",
            "66\n"
          ],
          "name": "stdout"
        },
        {
          "output_type": "stream",
          "text": [
            "/usr/local/lib/python3.7/dist-packages/sklearn/neural_network/_multilayer_perceptron.py:571: ConvergenceWarning: Stochastic Optimizer: Maximum iterations (250) reached and the optimization hasn't converged yet.\n",
            "  % self.max_iter, ConvergenceWarning)\n"
          ],
          "name": "stderr"
        },
        {
          "output_type": "stream",
          "text": [
            "[{'activation': 'logistic', 'solver': 'lbfgs', 'learning_rate': 'adaptive', 'hidden_layer_sizes': (118, 90, 31), 'max_iter': 237, 'fitness': 0.7085}, {'activation': 'logistic', 'hidden_layer_sizes': (158, 51, 14), 'learning_rate': 'constant', 'max_iter': 250, 'solver': 'adam', 'fitness': 0.708}, {'activation': 'logistic', 'hidden_layer_sizes': (132, 83, 14), 'learning_rate': 'constant', 'max_iter': 136, 'solver': 'lbfgs', 'fitness': 0.7075}, {'activation': 'relu', 'hidden_layer_sizes': (124, 65, 14), 'learning_rate': 'constant', 'max_iter': 250, 'solver': 'sgd', 'fitness': 0.707}, {'activation': 'relu', 'hidden_layer_sizes': (124, 71, 14), 'learning_rate': 'adaptive', 'max_iter': 250, 'solver': 'sgd', 'fitness': 0.7055}, {'activation': 'logistic', 'hidden_layer_sizes': (120, 99, 14), 'learning_rate': 'constant', 'max_iter': 136, 'solver': 'lbfgs', 'fitness': 0.705}, {'activation': 'relu', 'hidden_layer_sizes': (124, 65, 14), 'learning_rate': 'constant', 'max_iter': 250, 'solver': 'sgd', 'fitness': 0.705}, {'activation': 'logistic', 'hidden_layer_sizes': (120, 99, 41), 'learning_rate': 'constant', 'max_iter': 187, 'solver': 'lbfgs', 'fitness': 0.705}, {'activation': 'logistic', 'hidden_layer_sizes': (132, 83, 14), 'learning_rate': 'constant', 'max_iter': 237, 'solver': 'adam', 'fitness': 0.705}, {'activation': 'logistic', 'hidden_layer_sizes': (132, 83, 42), 'learning_rate': 'adaptive', 'max_iter': 250, 'solver': 'lbfgs', 'fitness': 0.7045}, {'activation': 'logistic', 'hidden_layer_sizes': (158, 65, 14), 'learning_rate': 'invscaling', 'max_iter': 250, 'solver': 'adam', 'fitness': 0.7045}, {'activation': 'logistic', 'hidden_layer_sizes': (124, 83, 14), 'learning_rate': 'constant', 'max_iter': 136, 'solver': 'lbfgs', 'fitness': 0.7045}, {'activation': 'logistic', 'hidden_layer_sizes': (158, 51, 31), 'learning_rate': 'adaptive', 'max_iter': 237, 'solver': 'adam', 'fitness': 0.704}, {'activation': 'relu', 'hidden_layer_sizes': (124, 65, 14), 'learning_rate': 'constant', 'max_iter': 250, 'solver': 'sgd', 'fitness': 0.7035}, {'activation': 'logistic', 'hidden_layer_sizes': (124, 65, 14), 'learning_rate': 'constant', 'max_iter': 250, 'solver': 'adam', 'fitness': 0.7035}, {'activation': 'logistic', 'hidden_layer_sizes': (158, 65, 14), 'learning_rate': 'constant', 'max_iter': 192, 'solver': 'adam', 'fitness': 0.7035}, {'activation': 'logistic', 'hidden_layer_sizes': (120, 67, 41), 'learning_rate': 'adaptive', 'max_iter': 187, 'solver': 'lbfgs', 'fitness': 0.703}, {'activation': 'logistic', 'hidden_layer_sizes': (158, 51, 14), 'learning_rate': 'constant', 'max_iter': 192, 'solver': 'adam', 'fitness': 0.703}, {'activation': 'logistic', 'hidden_layer_sizes': (124, 83, 14), 'learning_rate': 'constant', 'max_iter': 136, 'solver': 'adam', 'fitness': 0.703}, {'activation': 'logistic', 'solver': 'adam', 'learning_rate': 'constant', 'hidden_layer_sizes': (188, 99, 19), 'max_iter': 184, 'fitness': 0.7025}, {'activation': 'relu', 'hidden_layer_sizes': (132, 71, 14), 'learning_rate': 'constant', 'max_iter': 250, 'solver': 'sgd', 'fitness': 0.7025}, {'activation': 'logistic', 'hidden_layer_sizes': (158, 65, 14), 'learning_rate': 'invscaling', 'max_iter': 250, 'solver': 'adam', 'fitness': 0.7025}, {'activation': 'logistic', 'hidden_layer_sizes': (132, 51, 14), 'learning_rate': 'adaptive', 'max_iter': 237, 'solver': 'adam', 'fitness': 0.7025}, {'activation': 'logistic', 'hidden_layer_sizes': (158, 51, 14), 'learning_rate': 'constant', 'max_iter': 192, 'solver': 'adam', 'fitness': 0.702}, {'activation': 'logistic', 'hidden_layer_sizes': (120, 99, 14), 'learning_rate': 'constant', 'max_iter': 136, 'solver': 'lbfgs', 'fitness': 0.702}, {'activation': 'logistic', 'hidden_layer_sizes': (188, 99, 14), 'learning_rate': 'constant', 'max_iter': 184, 'solver': 'adam', 'fitness': 0.702}, {'activation': 'logistic', 'hidden_layer_sizes': (158, 65, 14), 'learning_rate': 'constant', 'max_iter': 192, 'solver': 'adam', 'fitness': 0.702}, {'activation': 'relu', 'hidden_layer_sizes': (124, 65, 14), 'learning_rate': 'constant', 'max_iter': 250, 'solver': 'sgd', 'fitness': 0.702}, {'activation': 'logistic', 'solver': 'adam', 'learning_rate': 'constant', 'hidden_layer_sizes': (158, 82, 14), 'max_iter': 192, 'fitness': 0.7015}, {'activation': 'logistic', 'solver': 'lbfgs', 'learning_rate': 'adaptive', 'hidden_layer_sizes': (199, 67, 41), 'max_iter': 187, 'fitness': 0.7015}]\n",
            "generation: \n",
            "67\n"
          ],
          "name": "stdout"
        },
        {
          "output_type": "stream",
          "text": [
            "/usr/local/lib/python3.7/dist-packages/sklearn/neural_network/_multilayer_perceptron.py:470: ConvergenceWarning: lbfgs failed to converge (status=1):\n",
            "STOP: TOTAL NO. of ITERATIONS REACHED LIMIT.\n",
            "\n",
            "Increase the number of iterations (max_iter) or scale the data as shown in:\n",
            "    https://scikit-learn.org/stable/modules/preprocessing.html\n",
            "  self.n_iter_ = _check_optimize_result(\"lbfgs\", opt_res, self.max_iter)\n",
            "/usr/local/lib/python3.7/dist-packages/sklearn/neural_network/_multilayer_perceptron.py:470: ConvergenceWarning: lbfgs failed to converge (status=1):\n",
            "STOP: TOTAL NO. of ITERATIONS REACHED LIMIT.\n",
            "\n",
            "Increase the number of iterations (max_iter) or scale the data as shown in:\n",
            "    https://scikit-learn.org/stable/modules/preprocessing.html\n",
            "  self.n_iter_ = _check_optimize_result(\"lbfgs\", opt_res, self.max_iter)\n"
          ],
          "name": "stderr"
        },
        {
          "output_type": "stream",
          "text": [
            "[{'activation': 'logistic', 'solver': 'lbfgs', 'learning_rate': 'adaptive', 'hidden_layer_sizes': (118, 90, 31), 'max_iter': 237, 'fitness': 0.7085}, {'activation': 'logistic', 'hidden_layer_sizes': (158, 51, 14), 'learning_rate': 'constant', 'max_iter': 250, 'solver': 'adam', 'fitness': 0.708}, {'activation': 'logistic', 'hidden_layer_sizes': (132, 83, 14), 'learning_rate': 'constant', 'max_iter': 136, 'solver': 'lbfgs', 'fitness': 0.7075}, {'activation': 'relu', 'hidden_layer_sizes': (124, 65, 14), 'learning_rate': 'constant', 'max_iter': 250, 'solver': 'sgd', 'fitness': 0.707}, {'activation': 'relu', 'hidden_layer_sizes': (124, 71, 14), 'learning_rate': 'adaptive', 'max_iter': 250, 'solver': 'sgd', 'fitness': 0.7055}, {'activation': 'logistic', 'hidden_layer_sizes': (120, 99, 14), 'learning_rate': 'constant', 'max_iter': 136, 'solver': 'lbfgs', 'fitness': 0.705}, {'activation': 'relu', 'hidden_layer_sizes': (124, 65, 14), 'learning_rate': 'constant', 'max_iter': 250, 'solver': 'sgd', 'fitness': 0.705}, {'activation': 'logistic', 'hidden_layer_sizes': (120, 99, 41), 'learning_rate': 'constant', 'max_iter': 187, 'solver': 'lbfgs', 'fitness': 0.705}, {'activation': 'logistic', 'hidden_layer_sizes': (132, 83, 14), 'learning_rate': 'constant', 'max_iter': 237, 'solver': 'adam', 'fitness': 0.705}, {'activation': 'logistic', 'hidden_layer_sizes': (124, 83, 14), 'learning_rate': 'invscaling', 'max_iter': 136, 'solver': 'lbfgs', 'fitness': 0.705}, {'activation': 'logistic', 'hidden_layer_sizes': (132, 83, 42), 'learning_rate': 'adaptive', 'max_iter': 250, 'solver': 'lbfgs', 'fitness': 0.7045}, {'activation': 'logistic', 'hidden_layer_sizes': (158, 65, 14), 'learning_rate': 'invscaling', 'max_iter': 250, 'solver': 'adam', 'fitness': 0.7045}, {'activation': 'logistic', 'hidden_layer_sizes': (124, 83, 14), 'learning_rate': 'constant', 'max_iter': 136, 'solver': 'lbfgs', 'fitness': 0.7045}, {'activation': 'logistic', 'hidden_layer_sizes': (158, 51, 31), 'learning_rate': 'adaptive', 'max_iter': 237, 'solver': 'adam', 'fitness': 0.704}, {'activation': 'relu', 'hidden_layer_sizes': (124, 65, 14), 'learning_rate': 'constant', 'max_iter': 250, 'solver': 'sgd', 'fitness': 0.7035}, {'activation': 'logistic', 'hidden_layer_sizes': (124, 65, 14), 'learning_rate': 'constant', 'max_iter': 250, 'solver': 'adam', 'fitness': 0.7035}, {'activation': 'logistic', 'hidden_layer_sizes': (158, 65, 14), 'learning_rate': 'constant', 'max_iter': 192, 'solver': 'adam', 'fitness': 0.7035}, {'activation': 'logistic', 'hidden_layer_sizes': (120, 67, 41), 'learning_rate': 'adaptive', 'max_iter': 187, 'solver': 'lbfgs', 'fitness': 0.703}, {'activation': 'logistic', 'hidden_layer_sizes': (158, 51, 14), 'learning_rate': 'constant', 'max_iter': 192, 'solver': 'adam', 'fitness': 0.703}, {'activation': 'logistic', 'hidden_layer_sizes': (124, 83, 14), 'learning_rate': 'constant', 'max_iter': 136, 'solver': 'adam', 'fitness': 0.703}, {'activation': 'logistic', 'solver': 'adam', 'learning_rate': 'constant', 'hidden_layer_sizes': (188, 99, 19), 'max_iter': 184, 'fitness': 0.7025}, {'activation': 'relu', 'hidden_layer_sizes': (132, 71, 14), 'learning_rate': 'constant', 'max_iter': 250, 'solver': 'sgd', 'fitness': 0.7025}, {'activation': 'logistic', 'hidden_layer_sizes': (158, 65, 14), 'learning_rate': 'invscaling', 'max_iter': 250, 'solver': 'adam', 'fitness': 0.7025}, {'activation': 'logistic', 'hidden_layer_sizes': (132, 51, 14), 'learning_rate': 'adaptive', 'max_iter': 237, 'solver': 'adam', 'fitness': 0.7025}, {'activation': 'logistic', 'hidden_layer_sizes': (158, 51, 14), 'learning_rate': 'constant', 'max_iter': 192, 'solver': 'adam', 'fitness': 0.702}, {'activation': 'logistic', 'hidden_layer_sizes': (120, 99, 14), 'learning_rate': 'constant', 'max_iter': 136, 'solver': 'lbfgs', 'fitness': 0.702}, {'activation': 'logistic', 'hidden_layer_sizes': (188, 99, 14), 'learning_rate': 'constant', 'max_iter': 184, 'solver': 'adam', 'fitness': 0.702}, {'activation': 'logistic', 'hidden_layer_sizes': (158, 65, 14), 'learning_rate': 'constant', 'max_iter': 192, 'solver': 'adam', 'fitness': 0.702}, {'activation': 'relu', 'hidden_layer_sizes': (124, 65, 14), 'learning_rate': 'constant', 'max_iter': 250, 'solver': 'sgd', 'fitness': 0.702}, {'activation': 'logistic', 'solver': 'adam', 'learning_rate': 'constant', 'hidden_layer_sizes': (158, 82, 14), 'max_iter': 192, 'fitness': 0.7015}]\n",
            "generation: \n",
            "68\n"
          ],
          "name": "stdout"
        },
        {
          "output_type": "stream",
          "text": [
            "/usr/local/lib/python3.7/dist-packages/sklearn/neural_network/_multilayer_perceptron.py:571: ConvergenceWarning: Stochastic Optimizer: Maximum iterations (250) reached and the optimization hasn't converged yet.\n",
            "  % self.max_iter, ConvergenceWarning)\n",
            "/usr/local/lib/python3.7/dist-packages/sklearn/neural_network/_multilayer_perceptron.py:571: ConvergenceWarning: Stochastic Optimizer: Maximum iterations (250) reached and the optimization hasn't converged yet.\n",
            "  % self.max_iter, ConvergenceWarning)\n"
          ],
          "name": "stderr"
        },
        {
          "output_type": "stream",
          "text": [
            "[{'activation': 'logistic', 'solver': 'lbfgs', 'learning_rate': 'adaptive', 'hidden_layer_sizes': (118, 90, 31), 'max_iter': 237, 'fitness': 0.7085}, {'activation': 'logistic', 'hidden_layer_sizes': (158, 51, 14), 'learning_rate': 'constant', 'max_iter': 250, 'solver': 'adam', 'fitness': 0.708}, {'activation': 'logistic', 'hidden_layer_sizes': (132, 83, 14), 'learning_rate': 'constant', 'max_iter': 136, 'solver': 'lbfgs', 'fitness': 0.7075}, {'activation': 'relu', 'hidden_layer_sizes': (124, 65, 14), 'learning_rate': 'constant', 'max_iter': 250, 'solver': 'sgd', 'fitness': 0.707}, {'activation': 'relu', 'hidden_layer_sizes': (124, 71, 14), 'learning_rate': 'adaptive', 'max_iter': 250, 'solver': 'sgd', 'fitness': 0.7055}, {'activation': 'logistic', 'hidden_layer_sizes': (120, 99, 14), 'learning_rate': 'constant', 'max_iter': 136, 'solver': 'lbfgs', 'fitness': 0.705}, {'activation': 'relu', 'hidden_layer_sizes': (124, 65, 14), 'learning_rate': 'constant', 'max_iter': 250, 'solver': 'sgd', 'fitness': 0.705}, {'activation': 'logistic', 'hidden_layer_sizes': (120, 99, 41), 'learning_rate': 'constant', 'max_iter': 187, 'solver': 'lbfgs', 'fitness': 0.705}, {'activation': 'logistic', 'hidden_layer_sizes': (132, 83, 14), 'learning_rate': 'constant', 'max_iter': 237, 'solver': 'adam', 'fitness': 0.705}, {'activation': 'logistic', 'hidden_layer_sizes': (124, 83, 14), 'learning_rate': 'invscaling', 'max_iter': 136, 'solver': 'lbfgs', 'fitness': 0.705}, {'activation': 'logistic', 'hidden_layer_sizes': (132, 83, 42), 'learning_rate': 'adaptive', 'max_iter': 250, 'solver': 'lbfgs', 'fitness': 0.7045}, {'activation': 'logistic', 'hidden_layer_sizes': (158, 65, 14), 'learning_rate': 'invscaling', 'max_iter': 250, 'solver': 'adam', 'fitness': 0.7045}, {'activation': 'logistic', 'hidden_layer_sizes': (124, 83, 14), 'learning_rate': 'constant', 'max_iter': 136, 'solver': 'lbfgs', 'fitness': 0.7045}, {'activation': 'logistic', 'hidden_layer_sizes': (158, 51, 31), 'learning_rate': 'adaptive', 'max_iter': 237, 'solver': 'adam', 'fitness': 0.704}, {'activation': 'relu', 'hidden_layer_sizes': (124, 65, 14), 'learning_rate': 'constant', 'max_iter': 250, 'solver': 'sgd', 'fitness': 0.7035}, {'activation': 'logistic', 'hidden_layer_sizes': (124, 65, 14), 'learning_rate': 'constant', 'max_iter': 250, 'solver': 'adam', 'fitness': 0.7035}, {'activation': 'logistic', 'hidden_layer_sizes': (158, 65, 14), 'learning_rate': 'constant', 'max_iter': 192, 'solver': 'adam', 'fitness': 0.7035}, {'activation': 'logistic', 'hidden_layer_sizes': (120, 67, 41), 'learning_rate': 'adaptive', 'max_iter': 187, 'solver': 'lbfgs', 'fitness': 0.703}, {'activation': 'logistic', 'hidden_layer_sizes': (158, 51, 14), 'learning_rate': 'constant', 'max_iter': 192, 'solver': 'adam', 'fitness': 0.703}, {'activation': 'logistic', 'hidden_layer_sizes': (124, 83, 14), 'learning_rate': 'constant', 'max_iter': 136, 'solver': 'adam', 'fitness': 0.703}, {'activation': 'logistic', 'solver': 'adam', 'learning_rate': 'constant', 'hidden_layer_sizes': (188, 99, 19), 'max_iter': 184, 'fitness': 0.7025}, {'activation': 'relu', 'hidden_layer_sizes': (132, 71, 14), 'learning_rate': 'constant', 'max_iter': 250, 'solver': 'sgd', 'fitness': 0.7025}, {'activation': 'logistic', 'hidden_layer_sizes': (158, 65, 14), 'learning_rate': 'invscaling', 'max_iter': 250, 'solver': 'adam', 'fitness': 0.7025}, {'activation': 'logistic', 'hidden_layer_sizes': (132, 51, 14), 'learning_rate': 'adaptive', 'max_iter': 237, 'solver': 'adam', 'fitness': 0.7025}, {'activation': 'logistic', 'hidden_layer_sizes': (158, 51, 14), 'learning_rate': 'constant', 'max_iter': 192, 'solver': 'adam', 'fitness': 0.702}, {'activation': 'logistic', 'hidden_layer_sizes': (120, 99, 14), 'learning_rate': 'constant', 'max_iter': 136, 'solver': 'lbfgs', 'fitness': 0.702}, {'activation': 'logistic', 'hidden_layer_sizes': (188, 99, 14), 'learning_rate': 'constant', 'max_iter': 184, 'solver': 'adam', 'fitness': 0.702}, {'activation': 'logistic', 'hidden_layer_sizes': (158, 65, 14), 'learning_rate': 'constant', 'max_iter': 192, 'solver': 'adam', 'fitness': 0.702}, {'activation': 'relu', 'hidden_layer_sizes': (124, 65, 14), 'learning_rate': 'constant', 'max_iter': 250, 'solver': 'sgd', 'fitness': 0.702}, {'activation': 'logistic', 'solver': 'adam', 'learning_rate': 'constant', 'hidden_layer_sizes': (158, 82, 14), 'max_iter': 192, 'fitness': 0.7015}]\n",
            "generation: \n",
            "69\n",
            "[{'activation': 'logistic', 'solver': 'lbfgs', 'learning_rate': 'adaptive', 'hidden_layer_sizes': (118, 90, 31), 'max_iter': 237, 'fitness': 0.7085}, {'activation': 'logistic', 'hidden_layer_sizes': (158, 51, 14), 'learning_rate': 'constant', 'max_iter': 250, 'solver': 'adam', 'fitness': 0.708}, {'activation': 'logistic', 'hidden_layer_sizes': (132, 83, 14), 'learning_rate': 'constant', 'max_iter': 136, 'solver': 'lbfgs', 'fitness': 0.7075}, {'activation': 'relu', 'hidden_layer_sizes': (124, 65, 14), 'learning_rate': 'constant', 'max_iter': 250, 'solver': 'sgd', 'fitness': 0.707}, {'activation': 'relu', 'hidden_layer_sizes': (124, 71, 14), 'learning_rate': 'adaptive', 'max_iter': 250, 'solver': 'sgd', 'fitness': 0.7055}, {'activation': 'logistic', 'hidden_layer_sizes': (120, 99, 14), 'learning_rate': 'constant', 'max_iter': 136, 'solver': 'lbfgs', 'fitness': 0.705}, {'activation': 'relu', 'hidden_layer_sizes': (124, 65, 14), 'learning_rate': 'constant', 'max_iter': 250, 'solver': 'sgd', 'fitness': 0.705}, {'activation': 'logistic', 'hidden_layer_sizes': (120, 99, 41), 'learning_rate': 'constant', 'max_iter': 187, 'solver': 'lbfgs', 'fitness': 0.705}, {'activation': 'logistic', 'hidden_layer_sizes': (132, 83, 14), 'learning_rate': 'constant', 'max_iter': 237, 'solver': 'adam', 'fitness': 0.705}, {'activation': 'logistic', 'hidden_layer_sizes': (124, 83, 14), 'learning_rate': 'invscaling', 'max_iter': 136, 'solver': 'lbfgs', 'fitness': 0.705}, {'activation': 'logistic', 'hidden_layer_sizes': (132, 83, 42), 'learning_rate': 'adaptive', 'max_iter': 250, 'solver': 'lbfgs', 'fitness': 0.7045}, {'activation': 'logistic', 'hidden_layer_sizes': (158, 65, 14), 'learning_rate': 'invscaling', 'max_iter': 250, 'solver': 'adam', 'fitness': 0.7045}, {'activation': 'logistic', 'hidden_layer_sizes': (124, 83, 14), 'learning_rate': 'constant', 'max_iter': 136, 'solver': 'lbfgs', 'fitness': 0.7045}, {'activation': 'logistic', 'hidden_layer_sizes': (158, 51, 31), 'learning_rate': 'adaptive', 'max_iter': 237, 'solver': 'adam', 'fitness': 0.704}, {'activation': 'relu', 'hidden_layer_sizes': (124, 65, 14), 'learning_rate': 'constant', 'max_iter': 250, 'solver': 'sgd', 'fitness': 0.7035}, {'activation': 'logistic', 'hidden_layer_sizes': (124, 65, 14), 'learning_rate': 'constant', 'max_iter': 250, 'solver': 'adam', 'fitness': 0.7035}, {'activation': 'logistic', 'hidden_layer_sizes': (158, 65, 14), 'learning_rate': 'constant', 'max_iter': 192, 'solver': 'adam', 'fitness': 0.7035}, {'activation': 'logistic', 'hidden_layer_sizes': (120, 67, 41), 'learning_rate': 'adaptive', 'max_iter': 187, 'solver': 'lbfgs', 'fitness': 0.703}, {'activation': 'logistic', 'hidden_layer_sizes': (158, 51, 14), 'learning_rate': 'constant', 'max_iter': 192, 'solver': 'adam', 'fitness': 0.703}, {'activation': 'logistic', 'hidden_layer_sizes': (124, 83, 14), 'learning_rate': 'constant', 'max_iter': 136, 'solver': 'adam', 'fitness': 0.703}, {'activation': 'logistic', 'solver': 'adam', 'learning_rate': 'constant', 'hidden_layer_sizes': (188, 99, 19), 'max_iter': 184, 'fitness': 0.7025}, {'activation': 'relu', 'hidden_layer_sizes': (132, 71, 14), 'learning_rate': 'constant', 'max_iter': 250, 'solver': 'sgd', 'fitness': 0.7025}, {'activation': 'logistic', 'hidden_layer_sizes': (158, 65, 14), 'learning_rate': 'invscaling', 'max_iter': 250, 'solver': 'adam', 'fitness': 0.7025}, {'activation': 'logistic', 'hidden_layer_sizes': (132, 51, 14), 'learning_rate': 'adaptive', 'max_iter': 237, 'solver': 'adam', 'fitness': 0.7025}, {'activation': 'logistic', 'hidden_layer_sizes': (158, 51, 14), 'learning_rate': 'constant', 'max_iter': 192, 'solver': 'adam', 'fitness': 0.702}, {'activation': 'logistic', 'hidden_layer_sizes': (120, 99, 14), 'learning_rate': 'constant', 'max_iter': 136, 'solver': 'lbfgs', 'fitness': 0.702}, {'activation': 'logistic', 'hidden_layer_sizes': (188, 99, 14), 'learning_rate': 'constant', 'max_iter': 184, 'solver': 'adam', 'fitness': 0.702}, {'activation': 'logistic', 'hidden_layer_sizes': (158, 65, 14), 'learning_rate': 'constant', 'max_iter': 192, 'solver': 'adam', 'fitness': 0.702}, {'activation': 'relu', 'hidden_layer_sizes': (124, 65, 14), 'learning_rate': 'constant', 'max_iter': 250, 'solver': 'sgd', 'fitness': 0.702}, {'activation': 'logistic', 'solver': 'adam', 'learning_rate': 'constant', 'hidden_layer_sizes': (158, 82, 14), 'max_iter': 192, 'fitness': 0.7015}]\n",
            "generation: \n",
            "70\n"
          ],
          "name": "stdout"
        },
        {
          "output_type": "stream",
          "text": [
            "/usr/local/lib/python3.7/dist-packages/sklearn/neural_network/_multilayer_perceptron.py:470: ConvergenceWarning: lbfgs failed to converge (status=1):\n",
            "STOP: TOTAL NO. of ITERATIONS REACHED LIMIT.\n",
            "\n",
            "Increase the number of iterations (max_iter) or scale the data as shown in:\n",
            "    https://scikit-learn.org/stable/modules/preprocessing.html\n",
            "  self.n_iter_ = _check_optimize_result(\"lbfgs\", opt_res, self.max_iter)\n",
            "/usr/local/lib/python3.7/dist-packages/sklearn/neural_network/_multilayer_perceptron.py:571: ConvergenceWarning: Stochastic Optimizer: Maximum iterations (136) reached and the optimization hasn't converged yet.\n",
            "  % self.max_iter, ConvergenceWarning)\n"
          ],
          "name": "stderr"
        },
        {
          "output_type": "stream",
          "text": [
            "[{'activation': 'logistic', 'solver': 'lbfgs', 'learning_rate': 'adaptive', 'hidden_layer_sizes': (118, 90, 31), 'max_iter': 237, 'fitness': 0.7085}, {'activation': 'logistic', 'hidden_layer_sizes': (158, 51, 14), 'learning_rate': 'constant', 'max_iter': 250, 'solver': 'adam', 'fitness': 0.708}, {'activation': 'logistic', 'hidden_layer_sizes': (132, 83, 14), 'learning_rate': 'constant', 'max_iter': 136, 'solver': 'lbfgs', 'fitness': 0.7075}, {'activation': 'relu', 'hidden_layer_sizes': (124, 65, 14), 'learning_rate': 'constant', 'max_iter': 250, 'solver': 'sgd', 'fitness': 0.707}, {'activation': 'relu', 'hidden_layer_sizes': (124, 71, 14), 'learning_rate': 'adaptive', 'max_iter': 250, 'solver': 'sgd', 'fitness': 0.7055}, {'activation': 'logistic', 'hidden_layer_sizes': (120, 99, 14), 'learning_rate': 'constant', 'max_iter': 136, 'solver': 'lbfgs', 'fitness': 0.705}, {'activation': 'relu', 'hidden_layer_sizes': (124, 65, 14), 'learning_rate': 'constant', 'max_iter': 250, 'solver': 'sgd', 'fitness': 0.705}, {'activation': 'logistic', 'hidden_layer_sizes': (120, 99, 41), 'learning_rate': 'constant', 'max_iter': 187, 'solver': 'lbfgs', 'fitness': 0.705}, {'activation': 'logistic', 'hidden_layer_sizes': (132, 83, 14), 'learning_rate': 'constant', 'max_iter': 237, 'solver': 'adam', 'fitness': 0.705}, {'activation': 'logistic', 'hidden_layer_sizes': (124, 83, 14), 'learning_rate': 'invscaling', 'max_iter': 136, 'solver': 'lbfgs', 'fitness': 0.705}, {'activation': 'logistic', 'hidden_layer_sizes': (132, 83, 42), 'learning_rate': 'adaptive', 'max_iter': 250, 'solver': 'lbfgs', 'fitness': 0.7045}, {'activation': 'logistic', 'hidden_layer_sizes': (158, 65, 14), 'learning_rate': 'invscaling', 'max_iter': 250, 'solver': 'adam', 'fitness': 0.7045}, {'activation': 'logistic', 'hidden_layer_sizes': (124, 83, 14), 'learning_rate': 'constant', 'max_iter': 136, 'solver': 'lbfgs', 'fitness': 0.7045}, {'activation': 'logistic', 'hidden_layer_sizes': (158, 51, 31), 'learning_rate': 'adaptive', 'max_iter': 237, 'solver': 'adam', 'fitness': 0.704}, {'activation': 'relu', 'hidden_layer_sizes': (124, 65, 14), 'learning_rate': 'constant', 'max_iter': 250, 'solver': 'sgd', 'fitness': 0.7035}, {'activation': 'logistic', 'hidden_layer_sizes': (124, 65, 14), 'learning_rate': 'constant', 'max_iter': 250, 'solver': 'adam', 'fitness': 0.7035}, {'activation': 'logistic', 'hidden_layer_sizes': (158, 65, 14), 'learning_rate': 'constant', 'max_iter': 192, 'solver': 'adam', 'fitness': 0.7035}, {'activation': 'logistic', 'hidden_layer_sizes': (120, 67, 41), 'learning_rate': 'adaptive', 'max_iter': 187, 'solver': 'lbfgs', 'fitness': 0.703}, {'activation': 'logistic', 'hidden_layer_sizes': (158, 51, 14), 'learning_rate': 'constant', 'max_iter': 192, 'solver': 'adam', 'fitness': 0.703}, {'activation': 'logistic', 'hidden_layer_sizes': (124, 83, 14), 'learning_rate': 'constant', 'max_iter': 136, 'solver': 'adam', 'fitness': 0.703}, {'activation': 'logistic', 'solver': 'adam', 'learning_rate': 'constant', 'hidden_layer_sizes': (188, 99, 19), 'max_iter': 184, 'fitness': 0.7025}, {'activation': 'relu', 'hidden_layer_sizes': (132, 71, 14), 'learning_rate': 'constant', 'max_iter': 250, 'solver': 'sgd', 'fitness': 0.7025}, {'activation': 'logistic', 'hidden_layer_sizes': (158, 65, 14), 'learning_rate': 'invscaling', 'max_iter': 250, 'solver': 'adam', 'fitness': 0.7025}, {'activation': 'logistic', 'hidden_layer_sizes': (132, 51, 14), 'learning_rate': 'adaptive', 'max_iter': 237, 'solver': 'adam', 'fitness': 0.7025}, {'activation': 'logistic', 'hidden_layer_sizes': (158, 51, 14), 'learning_rate': 'constant', 'max_iter': 192, 'solver': 'adam', 'fitness': 0.702}, {'activation': 'logistic', 'hidden_layer_sizes': (120, 99, 14), 'learning_rate': 'constant', 'max_iter': 136, 'solver': 'lbfgs', 'fitness': 0.702}, {'activation': 'logistic', 'hidden_layer_sizes': (188, 99, 14), 'learning_rate': 'constant', 'max_iter': 184, 'solver': 'adam', 'fitness': 0.702}, {'activation': 'logistic', 'hidden_layer_sizes': (158, 65, 14), 'learning_rate': 'constant', 'max_iter': 192, 'solver': 'adam', 'fitness': 0.702}, {'activation': 'relu', 'hidden_layer_sizes': (124, 65, 14), 'learning_rate': 'constant', 'max_iter': 250, 'solver': 'sgd', 'fitness': 0.702}, {'activation': 'logistic', 'solver': 'adam', 'learning_rate': 'constant', 'hidden_layer_sizes': (158, 82, 14), 'max_iter': 192, 'fitness': 0.7015}]\n",
            "generation: \n",
            "71\n"
          ],
          "name": "stdout"
        },
        {
          "output_type": "stream",
          "text": [
            "/usr/local/lib/python3.7/dist-packages/sklearn/neural_network/_multilayer_perceptron.py:470: ConvergenceWarning: lbfgs failed to converge (status=1):\n",
            "STOP: TOTAL NO. of ITERATIONS REACHED LIMIT.\n",
            "\n",
            "Increase the number of iterations (max_iter) or scale the data as shown in:\n",
            "    https://scikit-learn.org/stable/modules/preprocessing.html\n",
            "  self.n_iter_ = _check_optimize_result(\"lbfgs\", opt_res, self.max_iter)\n",
            "/usr/local/lib/python3.7/dist-packages/sklearn/neural_network/_multilayer_perceptron.py:470: ConvergenceWarning: lbfgs failed to converge (status=1):\n",
            "STOP: TOTAL NO. of ITERATIONS REACHED LIMIT.\n",
            "\n",
            "Increase the number of iterations (max_iter) or scale the data as shown in:\n",
            "    https://scikit-learn.org/stable/modules/preprocessing.html\n",
            "  self.n_iter_ = _check_optimize_result(\"lbfgs\", opt_res, self.max_iter)\n"
          ],
          "name": "stderr"
        },
        {
          "output_type": "stream",
          "text": [
            "[{'activation': 'logistic', 'solver': 'lbfgs', 'learning_rate': 'adaptive', 'hidden_layer_sizes': (118, 90, 31), 'max_iter': 237, 'fitness': 0.7085}, {'activation': 'logistic', 'hidden_layer_sizes': (124, 99, 14), 'learning_rate': 'invscaling', 'max_iter': 187, 'solver': 'lbfgs', 'fitness': 0.7085}, {'activation': 'logistic', 'hidden_layer_sizes': (158, 51, 14), 'learning_rate': 'constant', 'max_iter': 250, 'solver': 'adam', 'fitness': 0.708}, {'activation': 'logistic', 'hidden_layer_sizes': (132, 83, 14), 'learning_rate': 'constant', 'max_iter': 136, 'solver': 'lbfgs', 'fitness': 0.7075}, {'activation': 'relu', 'hidden_layer_sizes': (124, 65, 14), 'learning_rate': 'constant', 'max_iter': 250, 'solver': 'sgd', 'fitness': 0.707}, {'activation': 'relu', 'hidden_layer_sizes': (124, 71, 14), 'learning_rate': 'adaptive', 'max_iter': 250, 'solver': 'sgd', 'fitness': 0.7055}, {'activation': 'logistic', 'hidden_layer_sizes': (120, 99, 14), 'learning_rate': 'constant', 'max_iter': 136, 'solver': 'lbfgs', 'fitness': 0.705}, {'activation': 'relu', 'hidden_layer_sizes': (124, 65, 14), 'learning_rate': 'constant', 'max_iter': 250, 'solver': 'sgd', 'fitness': 0.705}, {'activation': 'logistic', 'hidden_layer_sizes': (120, 99, 41), 'learning_rate': 'constant', 'max_iter': 187, 'solver': 'lbfgs', 'fitness': 0.705}, {'activation': 'logistic', 'hidden_layer_sizes': (132, 83, 14), 'learning_rate': 'constant', 'max_iter': 237, 'solver': 'adam', 'fitness': 0.705}, {'activation': 'logistic', 'hidden_layer_sizes': (124, 83, 14), 'learning_rate': 'invscaling', 'max_iter': 136, 'solver': 'lbfgs', 'fitness': 0.705}, {'activation': 'logistic', 'hidden_layer_sizes': (132, 83, 42), 'learning_rate': 'adaptive', 'max_iter': 250, 'solver': 'lbfgs', 'fitness': 0.7045}, {'activation': 'logistic', 'hidden_layer_sizes': (158, 65, 14), 'learning_rate': 'invscaling', 'max_iter': 250, 'solver': 'adam', 'fitness': 0.7045}, {'activation': 'logistic', 'hidden_layer_sizes': (124, 83, 14), 'learning_rate': 'constant', 'max_iter': 136, 'solver': 'lbfgs', 'fitness': 0.7045}, {'activation': 'logistic', 'hidden_layer_sizes': (158, 51, 31), 'learning_rate': 'adaptive', 'max_iter': 237, 'solver': 'adam', 'fitness': 0.704}, {'activation': 'relu', 'hidden_layer_sizes': (124, 65, 14), 'learning_rate': 'constant', 'max_iter': 250, 'solver': 'sgd', 'fitness': 0.7035}, {'activation': 'logistic', 'hidden_layer_sizes': (124, 65, 14), 'learning_rate': 'constant', 'max_iter': 250, 'solver': 'adam', 'fitness': 0.7035}, {'activation': 'logistic', 'hidden_layer_sizes': (158, 65, 14), 'learning_rate': 'constant', 'max_iter': 192, 'solver': 'adam', 'fitness': 0.7035}, {'activation': 'logistic', 'hidden_layer_sizes': (120, 67, 41), 'learning_rate': 'adaptive', 'max_iter': 187, 'solver': 'lbfgs', 'fitness': 0.703}, {'activation': 'logistic', 'hidden_layer_sizes': (158, 51, 14), 'learning_rate': 'constant', 'max_iter': 192, 'solver': 'adam', 'fitness': 0.703}, {'activation': 'logistic', 'hidden_layer_sizes': (124, 83, 14), 'learning_rate': 'constant', 'max_iter': 136, 'solver': 'adam', 'fitness': 0.703}, {'activation': 'logistic', 'solver': 'adam', 'learning_rate': 'constant', 'hidden_layer_sizes': (188, 99, 19), 'max_iter': 184, 'fitness': 0.7025}, {'activation': 'relu', 'hidden_layer_sizes': (132, 71, 14), 'learning_rate': 'constant', 'max_iter': 250, 'solver': 'sgd', 'fitness': 0.7025}, {'activation': 'logistic', 'hidden_layer_sizes': (158, 65, 14), 'learning_rate': 'invscaling', 'max_iter': 250, 'solver': 'adam', 'fitness': 0.7025}, {'activation': 'logistic', 'hidden_layer_sizes': (132, 51, 14), 'learning_rate': 'adaptive', 'max_iter': 237, 'solver': 'adam', 'fitness': 0.7025}, {'activation': 'logistic', 'hidden_layer_sizes': (158, 51, 14), 'learning_rate': 'constant', 'max_iter': 192, 'solver': 'adam', 'fitness': 0.702}, {'activation': 'logistic', 'hidden_layer_sizes': (120, 99, 14), 'learning_rate': 'constant', 'max_iter': 136, 'solver': 'lbfgs', 'fitness': 0.702}, {'activation': 'logistic', 'hidden_layer_sizes': (188, 99, 14), 'learning_rate': 'constant', 'max_iter': 184, 'solver': 'adam', 'fitness': 0.702}, {'activation': 'logistic', 'hidden_layer_sizes': (158, 65, 14), 'learning_rate': 'constant', 'max_iter': 192, 'solver': 'adam', 'fitness': 0.702}, {'activation': 'relu', 'hidden_layer_sizes': (124, 65, 14), 'learning_rate': 'constant', 'max_iter': 250, 'solver': 'sgd', 'fitness': 0.702}]\n",
            "generation: \n",
            "72\n"
          ],
          "name": "stdout"
        },
        {
          "output_type": "stream",
          "text": [
            "/usr/local/lib/python3.7/dist-packages/sklearn/neural_network/_multilayer_perceptron.py:470: ConvergenceWarning: lbfgs failed to converge (status=1):\n",
            "STOP: TOTAL NO. of ITERATIONS REACHED LIMIT.\n",
            "\n",
            "Increase the number of iterations (max_iter) or scale the data as shown in:\n",
            "    https://scikit-learn.org/stable/modules/preprocessing.html\n",
            "  self.n_iter_ = _check_optimize_result(\"lbfgs\", opt_res, self.max_iter)\n",
            "/usr/local/lib/python3.7/dist-packages/sklearn/neural_network/_multilayer_perceptron.py:571: ConvergenceWarning: Stochastic Optimizer: Maximum iterations (250) reached and the optimization hasn't converged yet.\n",
            "  % self.max_iter, ConvergenceWarning)\n"
          ],
          "name": "stderr"
        },
        {
          "output_type": "stream",
          "text": [
            "[{'activation': 'logistic', 'solver': 'lbfgs', 'learning_rate': 'adaptive', 'hidden_layer_sizes': (118, 90, 31), 'max_iter': 237, 'fitness': 0.7085}, {'activation': 'logistic', 'hidden_layer_sizes': (124, 99, 14), 'learning_rate': 'invscaling', 'max_iter': 187, 'solver': 'lbfgs', 'fitness': 0.7085}, {'activation': 'logistic', 'hidden_layer_sizes': (158, 51, 14), 'learning_rate': 'constant', 'max_iter': 250, 'solver': 'adam', 'fitness': 0.708}, {'activation': 'logistic', 'hidden_layer_sizes': (132, 83, 14), 'learning_rate': 'constant', 'max_iter': 136, 'solver': 'lbfgs', 'fitness': 0.7075}, {'activation': 'relu', 'hidden_layer_sizes': (124, 65, 14), 'learning_rate': 'constant', 'max_iter': 250, 'solver': 'sgd', 'fitness': 0.707}, {'activation': 'relu', 'hidden_layer_sizes': (124, 71, 14), 'learning_rate': 'adaptive', 'max_iter': 250, 'solver': 'sgd', 'fitness': 0.7055}, {'activation': 'logistic', 'hidden_layer_sizes': (120, 99, 14), 'learning_rate': 'constant', 'max_iter': 136, 'solver': 'lbfgs', 'fitness': 0.705}, {'activation': 'relu', 'hidden_layer_sizes': (124, 65, 14), 'learning_rate': 'constant', 'max_iter': 250, 'solver': 'sgd', 'fitness': 0.705}, {'activation': 'logistic', 'hidden_layer_sizes': (120, 99, 41), 'learning_rate': 'constant', 'max_iter': 187, 'solver': 'lbfgs', 'fitness': 0.705}, {'activation': 'logistic', 'hidden_layer_sizes': (132, 83, 14), 'learning_rate': 'constant', 'max_iter': 237, 'solver': 'adam', 'fitness': 0.705}, {'activation': 'logistic', 'hidden_layer_sizes': (124, 83, 14), 'learning_rate': 'invscaling', 'max_iter': 136, 'solver': 'lbfgs', 'fitness': 0.705}, {'activation': 'logistic', 'hidden_layer_sizes': (132, 83, 42), 'learning_rate': 'adaptive', 'max_iter': 250, 'solver': 'lbfgs', 'fitness': 0.7045}, {'activation': 'logistic', 'hidden_layer_sizes': (158, 65, 14), 'learning_rate': 'invscaling', 'max_iter': 250, 'solver': 'adam', 'fitness': 0.7045}, {'activation': 'logistic', 'hidden_layer_sizes': (124, 83, 14), 'learning_rate': 'constant', 'max_iter': 136, 'solver': 'lbfgs', 'fitness': 0.7045}, {'activation': 'logistic', 'hidden_layer_sizes': (158, 51, 31), 'learning_rate': 'adaptive', 'max_iter': 237, 'solver': 'adam', 'fitness': 0.704}, {'activation': 'relu', 'hidden_layer_sizes': (124, 65, 14), 'learning_rate': 'constant', 'max_iter': 250, 'solver': 'sgd', 'fitness': 0.7035}, {'activation': 'logistic', 'hidden_layer_sizes': (124, 65, 14), 'learning_rate': 'constant', 'max_iter': 250, 'solver': 'adam', 'fitness': 0.7035}, {'activation': 'logistic', 'hidden_layer_sizes': (158, 65, 14), 'learning_rate': 'constant', 'max_iter': 192, 'solver': 'adam', 'fitness': 0.7035}, {'activation': 'logistic', 'hidden_layer_sizes': (120, 67, 41), 'learning_rate': 'adaptive', 'max_iter': 187, 'solver': 'lbfgs', 'fitness': 0.703}, {'activation': 'logistic', 'hidden_layer_sizes': (158, 51, 14), 'learning_rate': 'constant', 'max_iter': 192, 'solver': 'adam', 'fitness': 0.703}, {'activation': 'logistic', 'hidden_layer_sizes': (124, 83, 14), 'learning_rate': 'constant', 'max_iter': 136, 'solver': 'adam', 'fitness': 0.703}, {'activation': 'logistic', 'solver': 'adam', 'learning_rate': 'constant', 'hidden_layer_sizes': (188, 99, 19), 'max_iter': 184, 'fitness': 0.7025}, {'activation': 'relu', 'hidden_layer_sizes': (132, 71, 14), 'learning_rate': 'constant', 'max_iter': 250, 'solver': 'sgd', 'fitness': 0.7025}, {'activation': 'logistic', 'hidden_layer_sizes': (158, 65, 14), 'learning_rate': 'invscaling', 'max_iter': 250, 'solver': 'adam', 'fitness': 0.7025}, {'activation': 'logistic', 'hidden_layer_sizes': (132, 51, 14), 'learning_rate': 'adaptive', 'max_iter': 237, 'solver': 'adam', 'fitness': 0.7025}, {'activation': 'logistic', 'hidden_layer_sizes': (158, 51, 14), 'learning_rate': 'constant', 'max_iter': 250, 'solver': 'lbfgs', 'fitness': 0.7025}, {'activation': 'logistic', 'hidden_layer_sizes': (158, 51, 14), 'learning_rate': 'constant', 'max_iter': 192, 'solver': 'adam', 'fitness': 0.702}, {'activation': 'logistic', 'hidden_layer_sizes': (120, 99, 14), 'learning_rate': 'constant', 'max_iter': 136, 'solver': 'lbfgs', 'fitness': 0.702}, {'activation': 'logistic', 'hidden_layer_sizes': (188, 99, 14), 'learning_rate': 'constant', 'max_iter': 184, 'solver': 'adam', 'fitness': 0.702}, {'activation': 'logistic', 'hidden_layer_sizes': (158, 65, 14), 'learning_rate': 'constant', 'max_iter': 192, 'solver': 'adam', 'fitness': 0.702}]\n",
            "generation: \n",
            "73\n"
          ],
          "name": "stdout"
        },
        {
          "output_type": "stream",
          "text": [
            "/usr/local/lib/python3.7/dist-packages/sklearn/neural_network/_multilayer_perceptron.py:470: ConvergenceWarning: lbfgs failed to converge (status=1):\n",
            "STOP: TOTAL NO. of ITERATIONS REACHED LIMIT.\n",
            "\n",
            "Increase the number of iterations (max_iter) or scale the data as shown in:\n",
            "    https://scikit-learn.org/stable/modules/preprocessing.html\n",
            "  self.n_iter_ = _check_optimize_result(\"lbfgs\", opt_res, self.max_iter)\n",
            "/usr/local/lib/python3.7/dist-packages/sklearn/neural_network/_multilayer_perceptron.py:470: ConvergenceWarning: lbfgs failed to converge (status=1):\n",
            "STOP: TOTAL NO. of ITERATIONS REACHED LIMIT.\n",
            "\n",
            "Increase the number of iterations (max_iter) or scale the data as shown in:\n",
            "    https://scikit-learn.org/stable/modules/preprocessing.html\n",
            "  self.n_iter_ = _check_optimize_result(\"lbfgs\", opt_res, self.max_iter)\n"
          ],
          "name": "stderr"
        },
        {
          "output_type": "stream",
          "text": [
            "[{'activation': 'logistic', 'solver': 'lbfgs', 'learning_rate': 'adaptive', 'hidden_layer_sizes': (118, 90, 31), 'max_iter': 237, 'fitness': 0.7085}, {'activation': 'logistic', 'hidden_layer_sizes': (124, 99, 14), 'learning_rate': 'invscaling', 'max_iter': 187, 'solver': 'lbfgs', 'fitness': 0.7085}, {'activation': 'logistic', 'hidden_layer_sizes': (158, 51, 14), 'learning_rate': 'constant', 'max_iter': 250, 'solver': 'adam', 'fitness': 0.708}, {'activation': 'logistic', 'hidden_layer_sizes': (132, 83, 14), 'learning_rate': 'constant', 'max_iter': 136, 'solver': 'lbfgs', 'fitness': 0.7075}, {'activation': 'relu', 'hidden_layer_sizes': (124, 65, 14), 'learning_rate': 'constant', 'max_iter': 250, 'solver': 'sgd', 'fitness': 0.707}, {'activation': 'relu', 'hidden_layer_sizes': (124, 71, 14), 'learning_rate': 'adaptive', 'max_iter': 250, 'solver': 'sgd', 'fitness': 0.7055}, {'activation': 'logistic', 'hidden_layer_sizes': (120, 99, 14), 'learning_rate': 'constant', 'max_iter': 136, 'solver': 'lbfgs', 'fitness': 0.705}, {'activation': 'relu', 'hidden_layer_sizes': (124, 65, 14), 'learning_rate': 'constant', 'max_iter': 250, 'solver': 'sgd', 'fitness': 0.705}, {'activation': 'logistic', 'hidden_layer_sizes': (120, 99, 41), 'learning_rate': 'constant', 'max_iter': 187, 'solver': 'lbfgs', 'fitness': 0.705}, {'activation': 'logistic', 'hidden_layer_sizes': (132, 83, 14), 'learning_rate': 'constant', 'max_iter': 237, 'solver': 'adam', 'fitness': 0.705}, {'activation': 'logistic', 'hidden_layer_sizes': (124, 83, 14), 'learning_rate': 'invscaling', 'max_iter': 136, 'solver': 'lbfgs', 'fitness': 0.705}, {'activation': 'logistic', 'hidden_layer_sizes': (132, 83, 42), 'learning_rate': 'adaptive', 'max_iter': 250, 'solver': 'lbfgs', 'fitness': 0.7045}, {'activation': 'logistic', 'hidden_layer_sizes': (158, 65, 14), 'learning_rate': 'invscaling', 'max_iter': 250, 'solver': 'adam', 'fitness': 0.7045}, {'activation': 'logistic', 'hidden_layer_sizes': (124, 83, 14), 'learning_rate': 'constant', 'max_iter': 136, 'solver': 'lbfgs', 'fitness': 0.7045}, {'activation': 'logistic', 'hidden_layer_sizes': (158, 51, 31), 'learning_rate': 'adaptive', 'max_iter': 237, 'solver': 'adam', 'fitness': 0.704}, {'activation': 'relu', 'hidden_layer_sizes': (124, 65, 14), 'learning_rate': 'constant', 'max_iter': 250, 'solver': 'sgd', 'fitness': 0.7035}, {'activation': 'logistic', 'hidden_layer_sizes': (124, 65, 14), 'learning_rate': 'constant', 'max_iter': 250, 'solver': 'adam', 'fitness': 0.7035}, {'activation': 'logistic', 'hidden_layer_sizes': (158, 65, 14), 'learning_rate': 'constant', 'max_iter': 192, 'solver': 'adam', 'fitness': 0.7035}, {'activation': 'logistic', 'hidden_layer_sizes': (120, 67, 41), 'learning_rate': 'adaptive', 'max_iter': 187, 'solver': 'lbfgs', 'fitness': 0.703}, {'activation': 'logistic', 'hidden_layer_sizes': (158, 51, 14), 'learning_rate': 'constant', 'max_iter': 192, 'solver': 'adam', 'fitness': 0.703}, {'activation': 'logistic', 'hidden_layer_sizes': (124, 83, 14), 'learning_rate': 'constant', 'max_iter': 136, 'solver': 'adam', 'fitness': 0.703}, {'activation': 'logistic', 'solver': 'adam', 'learning_rate': 'constant', 'hidden_layer_sizes': (188, 99, 19), 'max_iter': 184, 'fitness': 0.7025}, {'activation': 'relu', 'hidden_layer_sizes': (132, 71, 14), 'learning_rate': 'constant', 'max_iter': 250, 'solver': 'sgd', 'fitness': 0.7025}, {'activation': 'logistic', 'hidden_layer_sizes': (158, 65, 14), 'learning_rate': 'invscaling', 'max_iter': 250, 'solver': 'adam', 'fitness': 0.7025}, {'activation': 'logistic', 'hidden_layer_sizes': (132, 51, 14), 'learning_rate': 'adaptive', 'max_iter': 237, 'solver': 'adam', 'fitness': 0.7025}, {'activation': 'logistic', 'hidden_layer_sizes': (158, 51, 14), 'learning_rate': 'constant', 'max_iter': 250, 'solver': 'lbfgs', 'fitness': 0.7025}, {'activation': 'logistic', 'hidden_layer_sizes': (158, 51, 14), 'learning_rate': 'constant', 'max_iter': 192, 'solver': 'adam', 'fitness': 0.702}, {'activation': 'logistic', 'hidden_layer_sizes': (120, 99, 14), 'learning_rate': 'constant', 'max_iter': 136, 'solver': 'lbfgs', 'fitness': 0.702}, {'activation': 'logistic', 'hidden_layer_sizes': (188, 99, 14), 'learning_rate': 'constant', 'max_iter': 184, 'solver': 'adam', 'fitness': 0.702}, {'activation': 'logistic', 'hidden_layer_sizes': (158, 65, 14), 'learning_rate': 'constant', 'max_iter': 192, 'solver': 'adam', 'fitness': 0.702}]\n",
            "generation: \n",
            "74\n"
          ],
          "name": "stdout"
        },
        {
          "output_type": "stream",
          "text": [
            "/usr/local/lib/python3.7/dist-packages/sklearn/neural_network/_multilayer_perceptron.py:470: ConvergenceWarning: lbfgs failed to converge (status=1):\n",
            "STOP: TOTAL NO. of ITERATIONS REACHED LIMIT.\n",
            "\n",
            "Increase the number of iterations (max_iter) or scale the data as shown in:\n",
            "    https://scikit-learn.org/stable/modules/preprocessing.html\n",
            "  self.n_iter_ = _check_optimize_result(\"lbfgs\", opt_res, self.max_iter)\n",
            "/usr/local/lib/python3.7/dist-packages/sklearn/neural_network/_multilayer_perceptron.py:571: ConvergenceWarning: Stochastic Optimizer: Maximum iterations (250) reached and the optimization hasn't converged yet.\n",
            "  % self.max_iter, ConvergenceWarning)\n"
          ],
          "name": "stderr"
        },
        {
          "output_type": "stream",
          "text": [
            "[{'activation': 'logistic', 'solver': 'lbfgs', 'learning_rate': 'adaptive', 'hidden_layer_sizes': (118, 90, 31), 'max_iter': 237, 'fitness': 0.7085}, {'activation': 'logistic', 'hidden_layer_sizes': (124, 99, 14), 'learning_rate': 'invscaling', 'max_iter': 187, 'solver': 'lbfgs', 'fitness': 0.7085}, {'activation': 'logistic', 'hidden_layer_sizes': (158, 51, 14), 'learning_rate': 'constant', 'max_iter': 250, 'solver': 'adam', 'fitness': 0.708}, {'activation': 'logistic', 'hidden_layer_sizes': (132, 83, 14), 'learning_rate': 'constant', 'max_iter': 136, 'solver': 'lbfgs', 'fitness': 0.7075}, {'activation': 'relu', 'hidden_layer_sizes': (124, 65, 14), 'learning_rate': 'constant', 'max_iter': 250, 'solver': 'sgd', 'fitness': 0.707}, {'activation': 'relu', 'hidden_layer_sizes': (124, 99, 14), 'learning_rate': 'constant', 'max_iter': 250, 'solver': 'sgd', 'fitness': 0.706}, {'activation': 'relu', 'hidden_layer_sizes': (124, 71, 14), 'learning_rate': 'adaptive', 'max_iter': 250, 'solver': 'sgd', 'fitness': 0.7055}, {'activation': 'logistic', 'hidden_layer_sizes': (120, 99, 14), 'learning_rate': 'constant', 'max_iter': 136, 'solver': 'lbfgs', 'fitness': 0.705}, {'activation': 'relu', 'hidden_layer_sizes': (124, 65, 14), 'learning_rate': 'constant', 'max_iter': 250, 'solver': 'sgd', 'fitness': 0.705}, {'activation': 'logistic', 'hidden_layer_sizes': (120, 99, 41), 'learning_rate': 'constant', 'max_iter': 187, 'solver': 'lbfgs', 'fitness': 0.705}, {'activation': 'logistic', 'hidden_layer_sizes': (132, 83, 14), 'learning_rate': 'constant', 'max_iter': 237, 'solver': 'adam', 'fitness': 0.705}, {'activation': 'logistic', 'hidden_layer_sizes': (124, 83, 14), 'learning_rate': 'invscaling', 'max_iter': 136, 'solver': 'lbfgs', 'fitness': 0.705}, {'activation': 'logistic', 'hidden_layer_sizes': (132, 83, 42), 'learning_rate': 'adaptive', 'max_iter': 250, 'solver': 'lbfgs', 'fitness': 0.7045}, {'activation': 'logistic', 'hidden_layer_sizes': (158, 65, 14), 'learning_rate': 'invscaling', 'max_iter': 250, 'solver': 'adam', 'fitness': 0.7045}, {'activation': 'logistic', 'hidden_layer_sizes': (124, 83, 14), 'learning_rate': 'constant', 'max_iter': 136, 'solver': 'lbfgs', 'fitness': 0.7045}, {'activation': 'logistic', 'hidden_layer_sizes': (158, 51, 31), 'learning_rate': 'adaptive', 'max_iter': 237, 'solver': 'adam', 'fitness': 0.704}, {'activation': 'relu', 'hidden_layer_sizes': (124, 65, 14), 'learning_rate': 'constant', 'max_iter': 250, 'solver': 'sgd', 'fitness': 0.7035}, {'activation': 'logistic', 'hidden_layer_sizes': (124, 65, 14), 'learning_rate': 'constant', 'max_iter': 250, 'solver': 'adam', 'fitness': 0.7035}, {'activation': 'logistic', 'hidden_layer_sizes': (158, 65, 14), 'learning_rate': 'constant', 'max_iter': 192, 'solver': 'adam', 'fitness': 0.7035}, {'activation': 'logistic', 'hidden_layer_sizes': (120, 67, 41), 'learning_rate': 'adaptive', 'max_iter': 187, 'solver': 'lbfgs', 'fitness': 0.703}, {'activation': 'logistic', 'hidden_layer_sizes': (158, 51, 14), 'learning_rate': 'constant', 'max_iter': 192, 'solver': 'adam', 'fitness': 0.703}, {'activation': 'logistic', 'hidden_layer_sizes': (124, 83, 14), 'learning_rate': 'constant', 'max_iter': 136, 'solver': 'adam', 'fitness': 0.703}, {'activation': 'logistic', 'solver': 'adam', 'learning_rate': 'constant', 'hidden_layer_sizes': (188, 99, 19), 'max_iter': 184, 'fitness': 0.7025}, {'activation': 'relu', 'hidden_layer_sizes': (132, 71, 14), 'learning_rate': 'constant', 'max_iter': 250, 'solver': 'sgd', 'fitness': 0.7025}, {'activation': 'logistic', 'hidden_layer_sizes': (158, 65, 14), 'learning_rate': 'invscaling', 'max_iter': 250, 'solver': 'adam', 'fitness': 0.7025}, {'activation': 'logistic', 'hidden_layer_sizes': (132, 51, 14), 'learning_rate': 'adaptive', 'max_iter': 237, 'solver': 'adam', 'fitness': 0.7025}, {'activation': 'logistic', 'hidden_layer_sizes': (158, 51, 14), 'learning_rate': 'constant', 'max_iter': 250, 'solver': 'lbfgs', 'fitness': 0.7025}, {'activation': 'logistic', 'hidden_layer_sizes': (158, 51, 14), 'learning_rate': 'constant', 'max_iter': 192, 'solver': 'adam', 'fitness': 0.702}, {'activation': 'logistic', 'hidden_layer_sizes': (120, 99, 14), 'learning_rate': 'constant', 'max_iter': 136, 'solver': 'lbfgs', 'fitness': 0.702}, {'activation': 'logistic', 'hidden_layer_sizes': (188, 99, 14), 'learning_rate': 'constant', 'max_iter': 184, 'solver': 'adam', 'fitness': 0.702}]\n",
            "generation: \n",
            "75\n"
          ],
          "name": "stdout"
        },
        {
          "output_type": "stream",
          "text": [
            "/usr/local/lib/python3.7/dist-packages/sklearn/neural_network/_multilayer_perceptron.py:470: ConvergenceWarning: lbfgs failed to converge (status=1):\n",
            "STOP: TOTAL NO. of ITERATIONS REACHED LIMIT.\n",
            "\n",
            "Increase the number of iterations (max_iter) or scale the data as shown in:\n",
            "    https://scikit-learn.org/stable/modules/preprocessing.html\n",
            "  self.n_iter_ = _check_optimize_result(\"lbfgs\", opt_res, self.max_iter)\n",
            "/usr/local/lib/python3.7/dist-packages/sklearn/neural_network/_multilayer_perceptron.py:470: ConvergenceWarning: lbfgs failed to converge (status=1):\n",
            "STOP: TOTAL NO. of ITERATIONS REACHED LIMIT.\n",
            "\n",
            "Increase the number of iterations (max_iter) or scale the data as shown in:\n",
            "    https://scikit-learn.org/stable/modules/preprocessing.html\n",
            "  self.n_iter_ = _check_optimize_result(\"lbfgs\", opt_res, self.max_iter)\n"
          ],
          "name": "stderr"
        },
        {
          "output_type": "stream",
          "text": [
            "[{'activation': 'logistic', 'solver': 'lbfgs', 'learning_rate': 'adaptive', 'hidden_layer_sizes': (118, 90, 31), 'max_iter': 237, 'fitness': 0.7085}, {'activation': 'logistic', 'hidden_layer_sizes': (124, 99, 14), 'learning_rate': 'invscaling', 'max_iter': 187, 'solver': 'lbfgs', 'fitness': 0.7085}, {'activation': 'logistic', 'hidden_layer_sizes': (158, 51, 14), 'learning_rate': 'constant', 'max_iter': 250, 'solver': 'adam', 'fitness': 0.708}, {'activation': 'logistic', 'hidden_layer_sizes': (132, 83, 14), 'learning_rate': 'constant', 'max_iter': 136, 'solver': 'lbfgs', 'fitness': 0.7075}, {'activation': 'relu', 'hidden_layer_sizes': (124, 65, 14), 'learning_rate': 'constant', 'max_iter': 250, 'solver': 'sgd', 'fitness': 0.707}, {'activation': 'relu', 'hidden_layer_sizes': (124, 99, 14), 'learning_rate': 'constant', 'max_iter': 250, 'solver': 'sgd', 'fitness': 0.706}, {'activation': 'relu', 'hidden_layer_sizes': (124, 71, 14), 'learning_rate': 'adaptive', 'max_iter': 250, 'solver': 'sgd', 'fitness': 0.7055}, {'activation': 'logistic', 'hidden_layer_sizes': (120, 99, 14), 'learning_rate': 'constant', 'max_iter': 136, 'solver': 'lbfgs', 'fitness': 0.705}, {'activation': 'relu', 'hidden_layer_sizes': (124, 65, 14), 'learning_rate': 'constant', 'max_iter': 250, 'solver': 'sgd', 'fitness': 0.705}, {'activation': 'logistic', 'hidden_layer_sizes': (120, 99, 41), 'learning_rate': 'constant', 'max_iter': 187, 'solver': 'lbfgs', 'fitness': 0.705}, {'activation': 'logistic', 'hidden_layer_sizes': (132, 83, 14), 'learning_rate': 'constant', 'max_iter': 237, 'solver': 'adam', 'fitness': 0.705}, {'activation': 'logistic', 'hidden_layer_sizes': (124, 83, 14), 'learning_rate': 'invscaling', 'max_iter': 136, 'solver': 'lbfgs', 'fitness': 0.705}, {'activation': 'logistic', 'hidden_layer_sizes': (132, 83, 42), 'learning_rate': 'adaptive', 'max_iter': 250, 'solver': 'lbfgs', 'fitness': 0.7045}, {'activation': 'logistic', 'hidden_layer_sizes': (158, 65, 14), 'learning_rate': 'invscaling', 'max_iter': 250, 'solver': 'adam', 'fitness': 0.7045}, {'activation': 'logistic', 'hidden_layer_sizes': (124, 83, 14), 'learning_rate': 'constant', 'max_iter': 136, 'solver': 'lbfgs', 'fitness': 0.7045}, {'activation': 'logistic', 'hidden_layer_sizes': (158, 51, 31), 'learning_rate': 'adaptive', 'max_iter': 237, 'solver': 'adam', 'fitness': 0.704}, {'activation': 'relu', 'hidden_layer_sizes': (124, 65, 14), 'learning_rate': 'constant', 'max_iter': 250, 'solver': 'sgd', 'fitness': 0.7035}, {'activation': 'logistic', 'hidden_layer_sizes': (124, 65, 14), 'learning_rate': 'constant', 'max_iter': 250, 'solver': 'adam', 'fitness': 0.7035}, {'activation': 'logistic', 'hidden_layer_sizes': (158, 65, 14), 'learning_rate': 'constant', 'max_iter': 192, 'solver': 'adam', 'fitness': 0.7035}, {'activation': 'logistic', 'hidden_layer_sizes': (120, 67, 41), 'learning_rate': 'adaptive', 'max_iter': 187, 'solver': 'lbfgs', 'fitness': 0.703}, {'activation': 'logistic', 'hidden_layer_sizes': (158, 51, 14), 'learning_rate': 'constant', 'max_iter': 192, 'solver': 'adam', 'fitness': 0.703}, {'activation': 'logistic', 'hidden_layer_sizes': (124, 83, 14), 'learning_rate': 'constant', 'max_iter': 136, 'solver': 'adam', 'fitness': 0.703}, {'activation': 'logistic', 'solver': 'adam', 'learning_rate': 'constant', 'hidden_layer_sizes': (188, 99, 19), 'max_iter': 184, 'fitness': 0.7025}, {'activation': 'relu', 'hidden_layer_sizes': (132, 71, 14), 'learning_rate': 'constant', 'max_iter': 250, 'solver': 'sgd', 'fitness': 0.7025}, {'activation': 'logistic', 'hidden_layer_sizes': (158, 65, 14), 'learning_rate': 'invscaling', 'max_iter': 250, 'solver': 'adam', 'fitness': 0.7025}, {'activation': 'logistic', 'hidden_layer_sizes': (132, 51, 14), 'learning_rate': 'adaptive', 'max_iter': 237, 'solver': 'adam', 'fitness': 0.7025}, {'activation': 'logistic', 'hidden_layer_sizes': (158, 51, 14), 'learning_rate': 'constant', 'max_iter': 250, 'solver': 'lbfgs', 'fitness': 0.7025}, {'activation': 'logistic', 'hidden_layer_sizes': (158, 51, 14), 'learning_rate': 'constant', 'max_iter': 192, 'solver': 'adam', 'fitness': 0.702}, {'activation': 'logistic', 'hidden_layer_sizes': (120, 99, 14), 'learning_rate': 'constant', 'max_iter': 136, 'solver': 'lbfgs', 'fitness': 0.702}, {'activation': 'logistic', 'hidden_layer_sizes': (188, 99, 14), 'learning_rate': 'constant', 'max_iter': 184, 'solver': 'adam', 'fitness': 0.702}]\n",
            "generation: \n",
            "76\n"
          ],
          "name": "stdout"
        },
        {
          "output_type": "stream",
          "text": [
            "/usr/local/lib/python3.7/dist-packages/sklearn/neural_network/_multilayer_perceptron.py:470: ConvergenceWarning: lbfgs failed to converge (status=1):\n",
            "STOP: TOTAL NO. of ITERATIONS REACHED LIMIT.\n",
            "\n",
            "Increase the number of iterations (max_iter) or scale the data as shown in:\n",
            "    https://scikit-learn.org/stable/modules/preprocessing.html\n",
            "  self.n_iter_ = _check_optimize_result(\"lbfgs\", opt_res, self.max_iter)\n",
            "/usr/local/lib/python3.7/dist-packages/sklearn/neural_network/_multilayer_perceptron.py:470: ConvergenceWarning: lbfgs failed to converge (status=1):\n",
            "STOP: TOTAL NO. of ITERATIONS REACHED LIMIT.\n",
            "\n",
            "Increase the number of iterations (max_iter) or scale the data as shown in:\n",
            "    https://scikit-learn.org/stable/modules/preprocessing.html\n",
            "  self.n_iter_ = _check_optimize_result(\"lbfgs\", opt_res, self.max_iter)\n"
          ],
          "name": "stderr"
        },
        {
          "output_type": "stream",
          "text": [
            "[{'activation': 'logistic', 'solver': 'lbfgs', 'learning_rate': 'adaptive', 'hidden_layer_sizes': (118, 90, 31), 'max_iter': 237, 'fitness': 0.7085}, {'activation': 'logistic', 'hidden_layer_sizes': (124, 99, 14), 'learning_rate': 'invscaling', 'max_iter': 187, 'solver': 'lbfgs', 'fitness': 0.7085}, {'activation': 'logistic', 'hidden_layer_sizes': (158, 51, 14), 'learning_rate': 'constant', 'max_iter': 250, 'solver': 'adam', 'fitness': 0.708}, {'activation': 'logistic', 'hidden_layer_sizes': (132, 83, 14), 'learning_rate': 'constant', 'max_iter': 136, 'solver': 'lbfgs', 'fitness': 0.7075}, {'activation': 'relu', 'hidden_layer_sizes': (124, 65, 14), 'learning_rate': 'constant', 'max_iter': 250, 'solver': 'sgd', 'fitness': 0.707}, {'activation': 'relu', 'hidden_layer_sizes': (124, 99, 14), 'learning_rate': 'constant', 'max_iter': 250, 'solver': 'sgd', 'fitness': 0.706}, {'activation': 'relu', 'hidden_layer_sizes': (124, 71, 14), 'learning_rate': 'adaptive', 'max_iter': 250, 'solver': 'sgd', 'fitness': 0.7055}, {'activation': 'logistic', 'hidden_layer_sizes': (120, 99, 14), 'learning_rate': 'constant', 'max_iter': 136, 'solver': 'lbfgs', 'fitness': 0.705}, {'activation': 'relu', 'hidden_layer_sizes': (124, 65, 14), 'learning_rate': 'constant', 'max_iter': 250, 'solver': 'sgd', 'fitness': 0.705}, {'activation': 'logistic', 'hidden_layer_sizes': (120, 99, 41), 'learning_rate': 'constant', 'max_iter': 187, 'solver': 'lbfgs', 'fitness': 0.705}, {'activation': 'logistic', 'hidden_layer_sizes': (132, 83, 14), 'learning_rate': 'constant', 'max_iter': 237, 'solver': 'adam', 'fitness': 0.705}, {'activation': 'logistic', 'hidden_layer_sizes': (124, 83, 14), 'learning_rate': 'invscaling', 'max_iter': 136, 'solver': 'lbfgs', 'fitness': 0.705}, {'activation': 'logistic', 'hidden_layer_sizes': (132, 83, 42), 'learning_rate': 'adaptive', 'max_iter': 250, 'solver': 'lbfgs', 'fitness': 0.7045}, {'activation': 'logistic', 'hidden_layer_sizes': (158, 65, 14), 'learning_rate': 'invscaling', 'max_iter': 250, 'solver': 'adam', 'fitness': 0.7045}, {'activation': 'logistic', 'hidden_layer_sizes': (124, 83, 14), 'learning_rate': 'constant', 'max_iter': 136, 'solver': 'lbfgs', 'fitness': 0.7045}, {'activation': 'logistic', 'hidden_layer_sizes': (158, 51, 31), 'learning_rate': 'adaptive', 'max_iter': 237, 'solver': 'adam', 'fitness': 0.704}, {'activation': 'logistic', 'hidden_layer_sizes': (120, 99, 14), 'learning_rate': 'constant', 'max_iter': 136, 'solver': 'lbfgs', 'fitness': 0.704}, {'activation': 'relu', 'hidden_layer_sizes': (124, 65, 14), 'learning_rate': 'constant', 'max_iter': 250, 'solver': 'sgd', 'fitness': 0.7035}, {'activation': 'logistic', 'hidden_layer_sizes': (124, 65, 14), 'learning_rate': 'constant', 'max_iter': 250, 'solver': 'adam', 'fitness': 0.7035}, {'activation': 'logistic', 'hidden_layer_sizes': (158, 65, 14), 'learning_rate': 'constant', 'max_iter': 192, 'solver': 'adam', 'fitness': 0.7035}, {'activation': 'logistic', 'hidden_layer_sizes': (120, 67, 41), 'learning_rate': 'adaptive', 'max_iter': 187, 'solver': 'lbfgs', 'fitness': 0.703}, {'activation': 'logistic', 'hidden_layer_sizes': (158, 51, 14), 'learning_rate': 'constant', 'max_iter': 192, 'solver': 'adam', 'fitness': 0.703}, {'activation': 'logistic', 'hidden_layer_sizes': (124, 83, 14), 'learning_rate': 'constant', 'max_iter': 136, 'solver': 'adam', 'fitness': 0.703}, {'activation': 'logistic', 'solver': 'adam', 'learning_rate': 'constant', 'hidden_layer_sizes': (188, 99, 19), 'max_iter': 184, 'fitness': 0.7025}, {'activation': 'relu', 'hidden_layer_sizes': (132, 71, 14), 'learning_rate': 'constant', 'max_iter': 250, 'solver': 'sgd', 'fitness': 0.7025}, {'activation': 'logistic', 'hidden_layer_sizes': (158, 65, 14), 'learning_rate': 'invscaling', 'max_iter': 250, 'solver': 'adam', 'fitness': 0.7025}, {'activation': 'logistic', 'hidden_layer_sizes': (132, 51, 14), 'learning_rate': 'adaptive', 'max_iter': 237, 'solver': 'adam', 'fitness': 0.7025}, {'activation': 'logistic', 'hidden_layer_sizes': (158, 51, 14), 'learning_rate': 'constant', 'max_iter': 250, 'solver': 'lbfgs', 'fitness': 0.7025}, {'activation': 'logistic', 'hidden_layer_sizes': (158, 51, 14), 'learning_rate': 'constant', 'max_iter': 192, 'solver': 'adam', 'fitness': 0.702}, {'activation': 'logistic', 'hidden_layer_sizes': (120, 99, 14), 'learning_rate': 'constant', 'max_iter': 136, 'solver': 'lbfgs', 'fitness': 0.702}]\n",
            "generation: \n",
            "77\n"
          ],
          "name": "stdout"
        },
        {
          "output_type": "stream",
          "text": [
            "/usr/local/lib/python3.7/dist-packages/sklearn/neural_network/_multilayer_perceptron.py:571: ConvergenceWarning: Stochastic Optimizer: Maximum iterations (136) reached and the optimization hasn't converged yet.\n",
            "  % self.max_iter, ConvergenceWarning)\n",
            "/usr/local/lib/python3.7/dist-packages/sklearn/neural_network/_multilayer_perceptron.py:571: ConvergenceWarning: Stochastic Optimizer: Maximum iterations (250) reached and the optimization hasn't converged yet.\n",
            "  % self.max_iter, ConvergenceWarning)\n"
          ],
          "name": "stderr"
        },
        {
          "output_type": "stream",
          "text": [
            "[{'activation': 'logistic', 'solver': 'lbfgs', 'learning_rate': 'adaptive', 'hidden_layer_sizes': (118, 90, 31), 'max_iter': 237, 'fitness': 0.7085}, {'activation': 'logistic', 'hidden_layer_sizes': (124, 99, 14), 'learning_rate': 'invscaling', 'max_iter': 187, 'solver': 'lbfgs', 'fitness': 0.7085}, {'activation': 'logistic', 'hidden_layer_sizes': (158, 51, 14), 'learning_rate': 'constant', 'max_iter': 250, 'solver': 'adam', 'fitness': 0.708}, {'activation': 'logistic', 'hidden_layer_sizes': (132, 83, 14), 'learning_rate': 'constant', 'max_iter': 136, 'solver': 'lbfgs', 'fitness': 0.7075}, {'activation': 'relu', 'hidden_layer_sizes': (124, 65, 14), 'learning_rate': 'constant', 'max_iter': 250, 'solver': 'sgd', 'fitness': 0.707}, {'activation': 'relu', 'hidden_layer_sizes': (124, 99, 14), 'learning_rate': 'constant', 'max_iter': 250, 'solver': 'sgd', 'fitness': 0.706}, {'activation': 'relu', 'hidden_layer_sizes': (124, 71, 14), 'learning_rate': 'adaptive', 'max_iter': 250, 'solver': 'sgd', 'fitness': 0.7055}, {'activation': 'logistic', 'hidden_layer_sizes': (120, 99, 14), 'learning_rate': 'constant', 'max_iter': 136, 'solver': 'lbfgs', 'fitness': 0.705}, {'activation': 'relu', 'hidden_layer_sizes': (124, 65, 14), 'learning_rate': 'constant', 'max_iter': 250, 'solver': 'sgd', 'fitness': 0.705}, {'activation': 'logistic', 'hidden_layer_sizes': (120, 99, 41), 'learning_rate': 'constant', 'max_iter': 187, 'solver': 'lbfgs', 'fitness': 0.705}, {'activation': 'logistic', 'hidden_layer_sizes': (132, 83, 14), 'learning_rate': 'constant', 'max_iter': 237, 'solver': 'adam', 'fitness': 0.705}, {'activation': 'logistic', 'hidden_layer_sizes': (124, 83, 14), 'learning_rate': 'invscaling', 'max_iter': 136, 'solver': 'lbfgs', 'fitness': 0.705}, {'activation': 'logistic', 'hidden_layer_sizes': (132, 83, 42), 'learning_rate': 'adaptive', 'max_iter': 250, 'solver': 'lbfgs', 'fitness': 0.7045}, {'activation': 'logistic', 'hidden_layer_sizes': (158, 65, 14), 'learning_rate': 'invscaling', 'max_iter': 250, 'solver': 'adam', 'fitness': 0.7045}, {'activation': 'logistic', 'hidden_layer_sizes': (124, 83, 14), 'learning_rate': 'constant', 'max_iter': 136, 'solver': 'lbfgs', 'fitness': 0.7045}, {'activation': 'logistic', 'hidden_layer_sizes': (158, 51, 31), 'learning_rate': 'adaptive', 'max_iter': 237, 'solver': 'adam', 'fitness': 0.704}, {'activation': 'logistic', 'hidden_layer_sizes': (120, 99, 14), 'learning_rate': 'constant', 'max_iter': 136, 'solver': 'lbfgs', 'fitness': 0.704}, {'activation': 'relu', 'hidden_layer_sizes': (124, 65, 14), 'learning_rate': 'constant', 'max_iter': 250, 'solver': 'sgd', 'fitness': 0.7035}, {'activation': 'logistic', 'hidden_layer_sizes': (124, 65, 14), 'learning_rate': 'constant', 'max_iter': 250, 'solver': 'adam', 'fitness': 0.7035}, {'activation': 'logistic', 'hidden_layer_sizes': (158, 65, 14), 'learning_rate': 'constant', 'max_iter': 192, 'solver': 'adam', 'fitness': 0.7035}, {'activation': 'logistic', 'hidden_layer_sizes': (120, 67, 41), 'learning_rate': 'adaptive', 'max_iter': 187, 'solver': 'lbfgs', 'fitness': 0.703}, {'activation': 'logistic', 'hidden_layer_sizes': (158, 51, 14), 'learning_rate': 'constant', 'max_iter': 192, 'solver': 'adam', 'fitness': 0.703}, {'activation': 'logistic', 'hidden_layer_sizes': (124, 83, 14), 'learning_rate': 'constant', 'max_iter': 136, 'solver': 'adam', 'fitness': 0.703}, {'activation': 'logistic', 'solver': 'adam', 'learning_rate': 'constant', 'hidden_layer_sizes': (188, 99, 19), 'max_iter': 184, 'fitness': 0.7025}, {'activation': 'relu', 'hidden_layer_sizes': (132, 71, 14), 'learning_rate': 'constant', 'max_iter': 250, 'solver': 'sgd', 'fitness': 0.7025}, {'activation': 'logistic', 'hidden_layer_sizes': (158, 65, 14), 'learning_rate': 'invscaling', 'max_iter': 250, 'solver': 'adam', 'fitness': 0.7025}, {'activation': 'logistic', 'hidden_layer_sizes': (132, 51, 14), 'learning_rate': 'adaptive', 'max_iter': 237, 'solver': 'adam', 'fitness': 0.7025}, {'activation': 'logistic', 'hidden_layer_sizes': (158, 51, 14), 'learning_rate': 'constant', 'max_iter': 250, 'solver': 'lbfgs', 'fitness': 0.7025}, {'activation': 'logistic', 'hidden_layer_sizes': (158, 51, 14), 'learning_rate': 'constant', 'max_iter': 192, 'solver': 'adam', 'fitness': 0.702}, {'activation': 'logistic', 'hidden_layer_sizes': (120, 99, 14), 'learning_rate': 'constant', 'max_iter': 136, 'solver': 'lbfgs', 'fitness': 0.702}]\n",
            "generation: \n",
            "78\n"
          ],
          "name": "stdout"
        },
        {
          "output_type": "stream",
          "text": [
            "/usr/local/lib/python3.7/dist-packages/sklearn/neural_network/_multilayer_perceptron.py:571: ConvergenceWarning: Stochastic Optimizer: Maximum iterations (250) reached and the optimization hasn't converged yet.\n",
            "  % self.max_iter, ConvergenceWarning)\n",
            "/usr/local/lib/python3.7/dist-packages/sklearn/neural_network/_multilayer_perceptron.py:571: ConvergenceWarning: Stochastic Optimizer: Maximum iterations (250) reached and the optimization hasn't converged yet.\n",
            "  % self.max_iter, ConvergenceWarning)\n"
          ],
          "name": "stderr"
        },
        {
          "output_type": "stream",
          "text": [
            "[{'activation': 'logistic', 'solver': 'lbfgs', 'learning_rate': 'adaptive', 'hidden_layer_sizes': (118, 90, 31), 'max_iter': 237, 'fitness': 0.7085}, {'activation': 'logistic', 'hidden_layer_sizes': (124, 99, 14), 'learning_rate': 'invscaling', 'max_iter': 187, 'solver': 'lbfgs', 'fitness': 0.7085}, {'activation': 'logistic', 'hidden_layer_sizes': (158, 51, 14), 'learning_rate': 'constant', 'max_iter': 250, 'solver': 'adam', 'fitness': 0.708}, {'activation': 'logistic', 'hidden_layer_sizes': (132, 83, 14), 'learning_rate': 'constant', 'max_iter': 136, 'solver': 'lbfgs', 'fitness': 0.7075}, {'activation': 'relu', 'hidden_layer_sizes': (124, 65, 14), 'learning_rate': 'constant', 'max_iter': 250, 'solver': 'sgd', 'fitness': 0.707}, {'activation': 'relu', 'hidden_layer_sizes': (124, 99, 14), 'learning_rate': 'constant', 'max_iter': 250, 'solver': 'sgd', 'fitness': 0.706}, {'activation': 'relu', 'hidden_layer_sizes': (124, 71, 14), 'learning_rate': 'adaptive', 'max_iter': 250, 'solver': 'sgd', 'fitness': 0.7055}, {'activation': 'logistic', 'hidden_layer_sizes': (120, 99, 14), 'learning_rate': 'constant', 'max_iter': 136, 'solver': 'lbfgs', 'fitness': 0.705}, {'activation': 'relu', 'hidden_layer_sizes': (124, 65, 14), 'learning_rate': 'constant', 'max_iter': 250, 'solver': 'sgd', 'fitness': 0.705}, {'activation': 'logistic', 'hidden_layer_sizes': (120, 99, 41), 'learning_rate': 'constant', 'max_iter': 187, 'solver': 'lbfgs', 'fitness': 0.705}, {'activation': 'logistic', 'hidden_layer_sizes': (132, 83, 14), 'learning_rate': 'constant', 'max_iter': 237, 'solver': 'adam', 'fitness': 0.705}, {'activation': 'logistic', 'hidden_layer_sizes': (124, 83, 14), 'learning_rate': 'invscaling', 'max_iter': 136, 'solver': 'lbfgs', 'fitness': 0.705}, {'activation': 'logistic', 'hidden_layer_sizes': (132, 83, 42), 'learning_rate': 'adaptive', 'max_iter': 250, 'solver': 'lbfgs', 'fitness': 0.7045}, {'activation': 'logistic', 'hidden_layer_sizes': (158, 65, 14), 'learning_rate': 'invscaling', 'max_iter': 250, 'solver': 'adam', 'fitness': 0.7045}, {'activation': 'logistic', 'hidden_layer_sizes': (124, 83, 14), 'learning_rate': 'constant', 'max_iter': 136, 'solver': 'lbfgs', 'fitness': 0.7045}, {'activation': 'logistic', 'hidden_layer_sizes': (158, 51, 31), 'learning_rate': 'adaptive', 'max_iter': 237, 'solver': 'adam', 'fitness': 0.704}, {'activation': 'logistic', 'hidden_layer_sizes': (120, 99, 14), 'learning_rate': 'constant', 'max_iter': 136, 'solver': 'lbfgs', 'fitness': 0.704}, {'activation': 'relu', 'hidden_layer_sizes': (124, 65, 14), 'learning_rate': 'constant', 'max_iter': 250, 'solver': 'sgd', 'fitness': 0.7035}, {'activation': 'logistic', 'hidden_layer_sizes': (124, 65, 14), 'learning_rate': 'constant', 'max_iter': 250, 'solver': 'adam', 'fitness': 0.7035}, {'activation': 'logistic', 'hidden_layer_sizes': (158, 65, 14), 'learning_rate': 'constant', 'max_iter': 192, 'solver': 'adam', 'fitness': 0.7035}, {'activation': 'logistic', 'hidden_layer_sizes': (120, 67, 41), 'learning_rate': 'adaptive', 'max_iter': 187, 'solver': 'lbfgs', 'fitness': 0.703}, {'activation': 'logistic', 'hidden_layer_sizes': (158, 51, 14), 'learning_rate': 'constant', 'max_iter': 192, 'solver': 'adam', 'fitness': 0.703}, {'activation': 'logistic', 'hidden_layer_sizes': (124, 83, 14), 'learning_rate': 'constant', 'max_iter': 136, 'solver': 'adam', 'fitness': 0.703}, {'activation': 'logistic', 'solver': 'adam', 'learning_rate': 'constant', 'hidden_layer_sizes': (188, 99, 19), 'max_iter': 184, 'fitness': 0.7025}, {'activation': 'relu', 'hidden_layer_sizes': (132, 71, 14), 'learning_rate': 'constant', 'max_iter': 250, 'solver': 'sgd', 'fitness': 0.7025}, {'activation': 'logistic', 'hidden_layer_sizes': (158, 65, 14), 'learning_rate': 'invscaling', 'max_iter': 250, 'solver': 'adam', 'fitness': 0.7025}, {'activation': 'logistic', 'hidden_layer_sizes': (132, 51, 14), 'learning_rate': 'adaptive', 'max_iter': 237, 'solver': 'adam', 'fitness': 0.7025}, {'activation': 'logistic', 'hidden_layer_sizes': (158, 51, 14), 'learning_rate': 'constant', 'max_iter': 250, 'solver': 'lbfgs', 'fitness': 0.7025}, {'activation': 'logistic', 'hidden_layer_sizes': (158, 51, 14), 'learning_rate': 'constant', 'max_iter': 192, 'solver': 'adam', 'fitness': 0.702}, {'activation': 'logistic', 'hidden_layer_sizes': (120, 99, 14), 'learning_rate': 'constant', 'max_iter': 136, 'solver': 'lbfgs', 'fitness': 0.702}]\n",
            "generation: \n",
            "79\n"
          ],
          "name": "stdout"
        },
        {
          "output_type": "stream",
          "text": [
            "/usr/local/lib/python3.7/dist-packages/sklearn/neural_network/_multilayer_perceptron.py:470: ConvergenceWarning: lbfgs failed to converge (status=1):\n",
            "STOP: TOTAL NO. of ITERATIONS REACHED LIMIT.\n",
            "\n",
            "Increase the number of iterations (max_iter) or scale the data as shown in:\n",
            "    https://scikit-learn.org/stable/modules/preprocessing.html\n",
            "  self.n_iter_ = _check_optimize_result(\"lbfgs\", opt_res, self.max_iter)\n",
            "/usr/local/lib/python3.7/dist-packages/sklearn/neural_network/_multilayer_perceptron.py:470: ConvergenceWarning: lbfgs failed to converge (status=1):\n",
            "STOP: TOTAL NO. of ITERATIONS REACHED LIMIT.\n",
            "\n",
            "Increase the number of iterations (max_iter) or scale the data as shown in:\n",
            "    https://scikit-learn.org/stable/modules/preprocessing.html\n",
            "  self.n_iter_ = _check_optimize_result(\"lbfgs\", opt_res, self.max_iter)\n"
          ],
          "name": "stderr"
        },
        {
          "output_type": "stream",
          "text": [
            "[{'activation': 'logistic', 'solver': 'lbfgs', 'learning_rate': 'adaptive', 'hidden_layer_sizes': (118, 90, 31), 'max_iter': 237, 'fitness': 0.7085}, {'activation': 'logistic', 'hidden_layer_sizes': (124, 99, 14), 'learning_rate': 'invscaling', 'max_iter': 187, 'solver': 'lbfgs', 'fitness': 0.7085}, {'activation': 'logistic', 'hidden_layer_sizes': (158, 51, 14), 'learning_rate': 'constant', 'max_iter': 250, 'solver': 'adam', 'fitness': 0.708}, {'activation': 'logistic', 'hidden_layer_sizes': (132, 83, 14), 'learning_rate': 'constant', 'max_iter': 136, 'solver': 'lbfgs', 'fitness': 0.7075}, {'activation': 'relu', 'hidden_layer_sizes': (124, 65, 14), 'learning_rate': 'constant', 'max_iter': 250, 'solver': 'sgd', 'fitness': 0.707}, {'activation': 'relu', 'hidden_layer_sizes': (124, 99, 14), 'learning_rate': 'constant', 'max_iter': 250, 'solver': 'sgd', 'fitness': 0.706}, {'activation': 'relu', 'hidden_layer_sizes': (124, 71, 14), 'learning_rate': 'adaptive', 'max_iter': 250, 'solver': 'sgd', 'fitness': 0.7055}, {'activation': 'logistic', 'hidden_layer_sizes': (120, 99, 14), 'learning_rate': 'constant', 'max_iter': 136, 'solver': 'lbfgs', 'fitness': 0.705}, {'activation': 'relu', 'hidden_layer_sizes': (124, 65, 14), 'learning_rate': 'constant', 'max_iter': 250, 'solver': 'sgd', 'fitness': 0.705}, {'activation': 'logistic', 'hidden_layer_sizes': (120, 99, 41), 'learning_rate': 'constant', 'max_iter': 187, 'solver': 'lbfgs', 'fitness': 0.705}, {'activation': 'logistic', 'hidden_layer_sizes': (132, 83, 14), 'learning_rate': 'constant', 'max_iter': 237, 'solver': 'adam', 'fitness': 0.705}, {'activation': 'logistic', 'hidden_layer_sizes': (124, 83, 14), 'learning_rate': 'invscaling', 'max_iter': 136, 'solver': 'lbfgs', 'fitness': 0.705}, {'activation': 'logistic', 'hidden_layer_sizes': (132, 83, 42), 'learning_rate': 'adaptive', 'max_iter': 250, 'solver': 'lbfgs', 'fitness': 0.7045}, {'activation': 'logistic', 'hidden_layer_sizes': (158, 65, 14), 'learning_rate': 'invscaling', 'max_iter': 250, 'solver': 'adam', 'fitness': 0.7045}, {'activation': 'logistic', 'hidden_layer_sizes': (124, 83, 14), 'learning_rate': 'constant', 'max_iter': 136, 'solver': 'lbfgs', 'fitness': 0.7045}, {'activation': 'logistic', 'hidden_layer_sizes': (158, 51, 31), 'learning_rate': 'adaptive', 'max_iter': 237, 'solver': 'adam', 'fitness': 0.704}, {'activation': 'logistic', 'hidden_layer_sizes': (120, 99, 14), 'learning_rate': 'constant', 'max_iter': 136, 'solver': 'lbfgs', 'fitness': 0.704}, {'activation': 'relu', 'hidden_layer_sizes': (124, 65, 14), 'learning_rate': 'constant', 'max_iter': 250, 'solver': 'sgd', 'fitness': 0.7035}, {'activation': 'logistic', 'hidden_layer_sizes': (124, 65, 14), 'learning_rate': 'constant', 'max_iter': 250, 'solver': 'adam', 'fitness': 0.7035}, {'activation': 'logistic', 'hidden_layer_sizes': (158, 65, 14), 'learning_rate': 'constant', 'max_iter': 192, 'solver': 'adam', 'fitness': 0.7035}, {'activation': 'logistic', 'hidden_layer_sizes': (158, 99, 14), 'learning_rate': 'constant', 'max_iter': 250, 'solver': 'lbfgs', 'fitness': 0.7035}, {'activation': 'logistic', 'hidden_layer_sizes': (120, 67, 41), 'learning_rate': 'adaptive', 'max_iter': 187, 'solver': 'lbfgs', 'fitness': 0.703}, {'activation': 'logistic', 'hidden_layer_sizes': (158, 51, 14), 'learning_rate': 'constant', 'max_iter': 192, 'solver': 'adam', 'fitness': 0.703}, {'activation': 'logistic', 'hidden_layer_sizes': (124, 83, 14), 'learning_rate': 'constant', 'max_iter': 136, 'solver': 'adam', 'fitness': 0.703}, {'activation': 'logistic', 'solver': 'adam', 'learning_rate': 'constant', 'hidden_layer_sizes': (188, 99, 19), 'max_iter': 184, 'fitness': 0.7025}, {'activation': 'relu', 'hidden_layer_sizes': (132, 71, 14), 'learning_rate': 'constant', 'max_iter': 250, 'solver': 'sgd', 'fitness': 0.7025}, {'activation': 'logistic', 'hidden_layer_sizes': (158, 65, 14), 'learning_rate': 'invscaling', 'max_iter': 250, 'solver': 'adam', 'fitness': 0.7025}, {'activation': 'logistic', 'hidden_layer_sizes': (132, 51, 14), 'learning_rate': 'adaptive', 'max_iter': 237, 'solver': 'adam', 'fitness': 0.7025}, {'activation': 'logistic', 'hidden_layer_sizes': (158, 51, 14), 'learning_rate': 'constant', 'max_iter': 250, 'solver': 'lbfgs', 'fitness': 0.7025}, {'activation': 'logistic', 'hidden_layer_sizes': (158, 51, 14), 'learning_rate': 'constant', 'max_iter': 192, 'solver': 'adam', 'fitness': 0.702}]\n",
            "generation: \n",
            "80\n"
          ],
          "name": "stdout"
        },
        {
          "output_type": "stream",
          "text": [
            "/usr/local/lib/python3.7/dist-packages/sklearn/neural_network/_multilayer_perceptron.py:571: ConvergenceWarning: Stochastic Optimizer: Maximum iterations (250) reached and the optimization hasn't converged yet.\n",
            "  % self.max_iter, ConvergenceWarning)\n",
            "/usr/local/lib/python3.7/dist-packages/sklearn/neural_network/_multilayer_perceptron.py:470: ConvergenceWarning: lbfgs failed to converge (status=1):\n",
            "STOP: TOTAL NO. of ITERATIONS REACHED LIMIT.\n",
            "\n",
            "Increase the number of iterations (max_iter) or scale the data as shown in:\n",
            "    https://scikit-learn.org/stable/modules/preprocessing.html\n",
            "  self.n_iter_ = _check_optimize_result(\"lbfgs\", opt_res, self.max_iter)\n"
          ],
          "name": "stderr"
        },
        {
          "output_type": "stream",
          "text": [
            "[{'activation': 'logistic', 'solver': 'lbfgs', 'learning_rate': 'adaptive', 'hidden_layer_sizes': (118, 90, 31), 'max_iter': 237, 'fitness': 0.7085}, {'activation': 'logistic', 'hidden_layer_sizes': (124, 99, 14), 'learning_rate': 'invscaling', 'max_iter': 187, 'solver': 'lbfgs', 'fitness': 0.7085}, {'activation': 'logistic', 'hidden_layer_sizes': (158, 51, 14), 'learning_rate': 'constant', 'max_iter': 250, 'solver': 'adam', 'fitness': 0.708}, {'activation': 'logistic', 'hidden_layer_sizes': (132, 83, 14), 'learning_rate': 'constant', 'max_iter': 136, 'solver': 'lbfgs', 'fitness': 0.7075}, {'activation': 'relu', 'hidden_layer_sizes': (124, 65, 14), 'learning_rate': 'constant', 'max_iter': 250, 'solver': 'sgd', 'fitness': 0.707}, {'activation': 'relu', 'hidden_layer_sizes': (124, 99, 14), 'learning_rate': 'constant', 'max_iter': 250, 'solver': 'sgd', 'fitness': 0.706}, {'activation': 'relu', 'hidden_layer_sizes': (124, 71, 14), 'learning_rate': 'adaptive', 'max_iter': 250, 'solver': 'sgd', 'fitness': 0.7055}, {'activation': 'logistic', 'hidden_layer_sizes': (120, 99, 14), 'learning_rate': 'constant', 'max_iter': 136, 'solver': 'lbfgs', 'fitness': 0.705}, {'activation': 'relu', 'hidden_layer_sizes': (124, 65, 14), 'learning_rate': 'constant', 'max_iter': 250, 'solver': 'sgd', 'fitness': 0.705}, {'activation': 'logistic', 'hidden_layer_sizes': (120, 99, 41), 'learning_rate': 'constant', 'max_iter': 187, 'solver': 'lbfgs', 'fitness': 0.705}, {'activation': 'logistic', 'hidden_layer_sizes': (132, 83, 14), 'learning_rate': 'constant', 'max_iter': 237, 'solver': 'adam', 'fitness': 0.705}, {'activation': 'logistic', 'hidden_layer_sizes': (124, 83, 14), 'learning_rate': 'invscaling', 'max_iter': 136, 'solver': 'lbfgs', 'fitness': 0.705}, {'activation': 'logistic', 'hidden_layer_sizes': (132, 83, 42), 'learning_rate': 'adaptive', 'max_iter': 250, 'solver': 'lbfgs', 'fitness': 0.7045}, {'activation': 'logistic', 'hidden_layer_sizes': (158, 65, 14), 'learning_rate': 'invscaling', 'max_iter': 250, 'solver': 'adam', 'fitness': 0.7045}, {'activation': 'logistic', 'hidden_layer_sizes': (124, 83, 14), 'learning_rate': 'constant', 'max_iter': 136, 'solver': 'lbfgs', 'fitness': 0.7045}, {'activation': 'logistic', 'hidden_layer_sizes': (158, 51, 31), 'learning_rate': 'adaptive', 'max_iter': 237, 'solver': 'adam', 'fitness': 0.704}, {'activation': 'logistic', 'hidden_layer_sizes': (120, 99, 14), 'learning_rate': 'constant', 'max_iter': 136, 'solver': 'lbfgs', 'fitness': 0.704}, {'activation': 'relu', 'hidden_layer_sizes': (124, 65, 14), 'learning_rate': 'constant', 'max_iter': 250, 'solver': 'sgd', 'fitness': 0.7035}, {'activation': 'logistic', 'hidden_layer_sizes': (124, 65, 14), 'learning_rate': 'constant', 'max_iter': 250, 'solver': 'adam', 'fitness': 0.7035}, {'activation': 'logistic', 'hidden_layer_sizes': (158, 65, 14), 'learning_rate': 'constant', 'max_iter': 192, 'solver': 'adam', 'fitness': 0.7035}, {'activation': 'logistic', 'hidden_layer_sizes': (158, 99, 14), 'learning_rate': 'constant', 'max_iter': 250, 'solver': 'lbfgs', 'fitness': 0.7035}, {'activation': 'logistic', 'hidden_layer_sizes': (120, 67, 41), 'learning_rate': 'adaptive', 'max_iter': 187, 'solver': 'lbfgs', 'fitness': 0.703}, {'activation': 'logistic', 'hidden_layer_sizes': (158, 51, 14), 'learning_rate': 'constant', 'max_iter': 192, 'solver': 'adam', 'fitness': 0.703}, {'activation': 'logistic', 'hidden_layer_sizes': (124, 83, 14), 'learning_rate': 'constant', 'max_iter': 136, 'solver': 'adam', 'fitness': 0.703}, {'activation': 'logistic', 'solver': 'adam', 'learning_rate': 'constant', 'hidden_layer_sizes': (188, 99, 19), 'max_iter': 184, 'fitness': 0.7025}, {'activation': 'relu', 'hidden_layer_sizes': (132, 71, 14), 'learning_rate': 'constant', 'max_iter': 250, 'solver': 'sgd', 'fitness': 0.7025}, {'activation': 'logistic', 'hidden_layer_sizes': (158, 65, 14), 'learning_rate': 'invscaling', 'max_iter': 250, 'solver': 'adam', 'fitness': 0.7025}, {'activation': 'logistic', 'hidden_layer_sizes': (132, 51, 14), 'learning_rate': 'adaptive', 'max_iter': 237, 'solver': 'adam', 'fitness': 0.7025}, {'activation': 'logistic', 'hidden_layer_sizes': (158, 51, 14), 'learning_rate': 'constant', 'max_iter': 250, 'solver': 'lbfgs', 'fitness': 0.7025}, {'activation': 'logistic', 'hidden_layer_sizes': (158, 51, 14), 'learning_rate': 'constant', 'max_iter': 192, 'solver': 'adam', 'fitness': 0.702}]\n",
            "generation: \n",
            "81\n"
          ],
          "name": "stdout"
        },
        {
          "output_type": "stream",
          "text": [
            "/usr/local/lib/python3.7/dist-packages/sklearn/neural_network/_multilayer_perceptron.py:571: ConvergenceWarning: Stochastic Optimizer: Maximum iterations (250) reached and the optimization hasn't converged yet.\n",
            "  % self.max_iter, ConvergenceWarning)\n",
            "/usr/local/lib/python3.7/dist-packages/sklearn/neural_network/_multilayer_perceptron.py:571: ConvergenceWarning: Stochastic Optimizer: Maximum iterations (250) reached and the optimization hasn't converged yet.\n",
            "  % self.max_iter, ConvergenceWarning)\n"
          ],
          "name": "stderr"
        },
        {
          "output_type": "stream",
          "text": [
            "[{'activation': 'logistic', 'solver': 'lbfgs', 'learning_rate': 'adaptive', 'hidden_layer_sizes': (118, 90, 31), 'max_iter': 237, 'fitness': 0.7085}, {'activation': 'logistic', 'hidden_layer_sizes': (124, 99, 14), 'learning_rate': 'invscaling', 'max_iter': 187, 'solver': 'lbfgs', 'fitness': 0.7085}, {'activation': 'logistic', 'hidden_layer_sizes': (158, 51, 14), 'learning_rate': 'constant', 'max_iter': 250, 'solver': 'adam', 'fitness': 0.708}, {'activation': 'logistic', 'hidden_layer_sizes': (132, 83, 14), 'learning_rate': 'constant', 'max_iter': 136, 'solver': 'lbfgs', 'fitness': 0.7075}, {'activation': 'relu', 'hidden_layer_sizes': (124, 65, 14), 'learning_rate': 'constant', 'max_iter': 250, 'solver': 'sgd', 'fitness': 0.707}, {'activation': 'relu', 'hidden_layer_sizes': (124, 99, 14), 'learning_rate': 'constant', 'max_iter': 250, 'solver': 'sgd', 'fitness': 0.706}, {'activation': 'relu', 'hidden_layer_sizes': (124, 71, 14), 'learning_rate': 'adaptive', 'max_iter': 250, 'solver': 'sgd', 'fitness': 0.7055}, {'activation': 'logistic', 'hidden_layer_sizes': (120, 99, 14), 'learning_rate': 'constant', 'max_iter': 136, 'solver': 'lbfgs', 'fitness': 0.705}, {'activation': 'relu', 'hidden_layer_sizes': (124, 65, 14), 'learning_rate': 'constant', 'max_iter': 250, 'solver': 'sgd', 'fitness': 0.705}, {'activation': 'logistic', 'hidden_layer_sizes': (120, 99, 41), 'learning_rate': 'constant', 'max_iter': 187, 'solver': 'lbfgs', 'fitness': 0.705}, {'activation': 'logistic', 'hidden_layer_sizes': (132, 83, 14), 'learning_rate': 'constant', 'max_iter': 237, 'solver': 'adam', 'fitness': 0.705}, {'activation': 'logistic', 'hidden_layer_sizes': (124, 83, 14), 'learning_rate': 'invscaling', 'max_iter': 136, 'solver': 'lbfgs', 'fitness': 0.705}, {'activation': 'logistic', 'hidden_layer_sizes': (132, 83, 42), 'learning_rate': 'adaptive', 'max_iter': 250, 'solver': 'lbfgs', 'fitness': 0.7045}, {'activation': 'logistic', 'hidden_layer_sizes': (158, 65, 14), 'learning_rate': 'invscaling', 'max_iter': 250, 'solver': 'adam', 'fitness': 0.7045}, {'activation': 'logistic', 'hidden_layer_sizes': (124, 83, 14), 'learning_rate': 'constant', 'max_iter': 136, 'solver': 'lbfgs', 'fitness': 0.7045}, {'activation': 'logistic', 'hidden_layer_sizes': (158, 51, 31), 'learning_rate': 'adaptive', 'max_iter': 237, 'solver': 'adam', 'fitness': 0.704}, {'activation': 'logistic', 'hidden_layer_sizes': (120, 99, 14), 'learning_rate': 'constant', 'max_iter': 136, 'solver': 'lbfgs', 'fitness': 0.704}, {'activation': 'relu', 'hidden_layer_sizes': (124, 65, 14), 'learning_rate': 'constant', 'max_iter': 250, 'solver': 'sgd', 'fitness': 0.7035}, {'activation': 'logistic', 'hidden_layer_sizes': (124, 65, 14), 'learning_rate': 'constant', 'max_iter': 250, 'solver': 'adam', 'fitness': 0.7035}, {'activation': 'logistic', 'hidden_layer_sizes': (158, 65, 14), 'learning_rate': 'constant', 'max_iter': 192, 'solver': 'adam', 'fitness': 0.7035}, {'activation': 'logistic', 'hidden_layer_sizes': (158, 99, 14), 'learning_rate': 'constant', 'max_iter': 250, 'solver': 'lbfgs', 'fitness': 0.7035}, {'activation': 'logistic', 'hidden_layer_sizes': (120, 67, 41), 'learning_rate': 'adaptive', 'max_iter': 187, 'solver': 'lbfgs', 'fitness': 0.703}, {'activation': 'logistic', 'hidden_layer_sizes': (158, 51, 14), 'learning_rate': 'constant', 'max_iter': 192, 'solver': 'adam', 'fitness': 0.703}, {'activation': 'logistic', 'hidden_layer_sizes': (124, 83, 14), 'learning_rate': 'constant', 'max_iter': 136, 'solver': 'adam', 'fitness': 0.703}, {'activation': 'logistic', 'solver': 'adam', 'learning_rate': 'constant', 'hidden_layer_sizes': (188, 99, 19), 'max_iter': 184, 'fitness': 0.7025}, {'activation': 'relu', 'hidden_layer_sizes': (132, 71, 14), 'learning_rate': 'constant', 'max_iter': 250, 'solver': 'sgd', 'fitness': 0.7025}, {'activation': 'logistic', 'hidden_layer_sizes': (158, 65, 14), 'learning_rate': 'invscaling', 'max_iter': 250, 'solver': 'adam', 'fitness': 0.7025}, {'activation': 'logistic', 'hidden_layer_sizes': (132, 51, 14), 'learning_rate': 'adaptive', 'max_iter': 237, 'solver': 'adam', 'fitness': 0.7025}, {'activation': 'logistic', 'hidden_layer_sizes': (158, 51, 14), 'learning_rate': 'constant', 'max_iter': 250, 'solver': 'lbfgs', 'fitness': 0.7025}, {'activation': 'logistic', 'hidden_layer_sizes': (158, 51, 14), 'learning_rate': 'constant', 'max_iter': 192, 'solver': 'adam', 'fitness': 0.702}]\n",
            "generation: \n",
            "82\n"
          ],
          "name": "stdout"
        },
        {
          "output_type": "stream",
          "text": [
            "/usr/local/lib/python3.7/dist-packages/sklearn/neural_network/_multilayer_perceptron.py:470: ConvergenceWarning: lbfgs failed to converge (status=1):\n",
            "STOP: TOTAL NO. of ITERATIONS REACHED LIMIT.\n",
            "\n",
            "Increase the number of iterations (max_iter) or scale the data as shown in:\n",
            "    https://scikit-learn.org/stable/modules/preprocessing.html\n",
            "  self.n_iter_ = _check_optimize_result(\"lbfgs\", opt_res, self.max_iter)\n",
            "/usr/local/lib/python3.7/dist-packages/sklearn/neural_network/_multilayer_perceptron.py:470: ConvergenceWarning: lbfgs failed to converge (status=1):\n",
            "STOP: TOTAL NO. of ITERATIONS REACHED LIMIT.\n",
            "\n",
            "Increase the number of iterations (max_iter) or scale the data as shown in:\n",
            "    https://scikit-learn.org/stable/modules/preprocessing.html\n",
            "  self.n_iter_ = _check_optimize_result(\"lbfgs\", opt_res, self.max_iter)\n"
          ],
          "name": "stderr"
        },
        {
          "output_type": "stream",
          "text": [
            "[{'activation': 'logistic', 'solver': 'lbfgs', 'learning_rate': 'adaptive', 'hidden_layer_sizes': (118, 90, 31), 'max_iter': 237, 'fitness': 0.7085}, {'activation': 'logistic', 'hidden_layer_sizes': (124, 99, 14), 'learning_rate': 'invscaling', 'max_iter': 187, 'solver': 'lbfgs', 'fitness': 0.7085}, {'activation': 'logistic', 'hidden_layer_sizes': (158, 51, 14), 'learning_rate': 'constant', 'max_iter': 250, 'solver': 'adam', 'fitness': 0.708}, {'activation': 'logistic', 'hidden_layer_sizes': (132, 83, 14), 'learning_rate': 'constant', 'max_iter': 136, 'solver': 'lbfgs', 'fitness': 0.7075}, {'activation': 'relu', 'hidden_layer_sizes': (124, 65, 14), 'learning_rate': 'constant', 'max_iter': 250, 'solver': 'sgd', 'fitness': 0.707}, {'activation': 'relu', 'hidden_layer_sizes': (124, 99, 14), 'learning_rate': 'constant', 'max_iter': 250, 'solver': 'sgd', 'fitness': 0.706}, {'activation': 'relu', 'hidden_layer_sizes': (124, 71, 14), 'learning_rate': 'adaptive', 'max_iter': 250, 'solver': 'sgd', 'fitness': 0.7055}, {'activation': 'logistic', 'hidden_layer_sizes': (120, 99, 14), 'learning_rate': 'constant', 'max_iter': 136, 'solver': 'lbfgs', 'fitness': 0.705}, {'activation': 'relu', 'hidden_layer_sizes': (124, 65, 14), 'learning_rate': 'constant', 'max_iter': 250, 'solver': 'sgd', 'fitness': 0.705}, {'activation': 'logistic', 'hidden_layer_sizes': (120, 99, 41), 'learning_rate': 'constant', 'max_iter': 187, 'solver': 'lbfgs', 'fitness': 0.705}, {'activation': 'logistic', 'hidden_layer_sizes': (132, 83, 14), 'learning_rate': 'constant', 'max_iter': 237, 'solver': 'adam', 'fitness': 0.705}, {'activation': 'logistic', 'hidden_layer_sizes': (124, 83, 14), 'learning_rate': 'invscaling', 'max_iter': 136, 'solver': 'lbfgs', 'fitness': 0.705}, {'activation': 'logistic', 'hidden_layer_sizes': (132, 83, 42), 'learning_rate': 'adaptive', 'max_iter': 250, 'solver': 'lbfgs', 'fitness': 0.7045}, {'activation': 'logistic', 'hidden_layer_sizes': (158, 65, 14), 'learning_rate': 'invscaling', 'max_iter': 250, 'solver': 'adam', 'fitness': 0.7045}, {'activation': 'logistic', 'hidden_layer_sizes': (124, 83, 14), 'learning_rate': 'constant', 'max_iter': 136, 'solver': 'lbfgs', 'fitness': 0.7045}, {'activation': 'logistic', 'hidden_layer_sizes': (158, 51, 31), 'learning_rate': 'adaptive', 'max_iter': 237, 'solver': 'adam', 'fitness': 0.704}, {'activation': 'logistic', 'hidden_layer_sizes': (120, 99, 14), 'learning_rate': 'constant', 'max_iter': 136, 'solver': 'lbfgs', 'fitness': 0.704}, {'activation': 'relu', 'hidden_layer_sizes': (124, 65, 14), 'learning_rate': 'constant', 'max_iter': 250, 'solver': 'sgd', 'fitness': 0.7035}, {'activation': 'logistic', 'hidden_layer_sizes': (124, 65, 14), 'learning_rate': 'constant', 'max_iter': 250, 'solver': 'adam', 'fitness': 0.7035}, {'activation': 'logistic', 'hidden_layer_sizes': (158, 65, 14), 'learning_rate': 'constant', 'max_iter': 192, 'solver': 'adam', 'fitness': 0.7035}, {'activation': 'logistic', 'hidden_layer_sizes': (158, 99, 14), 'learning_rate': 'constant', 'max_iter': 250, 'solver': 'lbfgs', 'fitness': 0.7035}, {'activation': 'logistic', 'hidden_layer_sizes': (120, 67, 41), 'learning_rate': 'adaptive', 'max_iter': 187, 'solver': 'lbfgs', 'fitness': 0.703}, {'activation': 'logistic', 'hidden_layer_sizes': (158, 51, 14), 'learning_rate': 'constant', 'max_iter': 192, 'solver': 'adam', 'fitness': 0.703}, {'activation': 'logistic', 'hidden_layer_sizes': (124, 83, 14), 'learning_rate': 'constant', 'max_iter': 136, 'solver': 'adam', 'fitness': 0.703}, {'activation': 'logistic', 'solver': 'adam', 'learning_rate': 'constant', 'hidden_layer_sizes': (188, 99, 19), 'max_iter': 184, 'fitness': 0.7025}, {'activation': 'relu', 'hidden_layer_sizes': (132, 71, 14), 'learning_rate': 'constant', 'max_iter': 250, 'solver': 'sgd', 'fitness': 0.7025}, {'activation': 'logistic', 'hidden_layer_sizes': (158, 65, 14), 'learning_rate': 'invscaling', 'max_iter': 250, 'solver': 'adam', 'fitness': 0.7025}, {'activation': 'logistic', 'hidden_layer_sizes': (132, 51, 14), 'learning_rate': 'adaptive', 'max_iter': 237, 'solver': 'adam', 'fitness': 0.7025}, {'activation': 'logistic', 'hidden_layer_sizes': (158, 51, 14), 'learning_rate': 'constant', 'max_iter': 250, 'solver': 'lbfgs', 'fitness': 0.7025}, {'activation': 'logistic', 'hidden_layer_sizes': (158, 51, 14), 'learning_rate': 'constant', 'max_iter': 192, 'solver': 'adam', 'fitness': 0.702}]\n",
            "generation: \n",
            "83\n"
          ],
          "name": "stdout"
        },
        {
          "output_type": "stream",
          "text": [
            "/usr/local/lib/python3.7/dist-packages/sklearn/neural_network/_multilayer_perceptron.py:571: ConvergenceWarning: Stochastic Optimizer: Maximum iterations (250) reached and the optimization hasn't converged yet.\n",
            "  % self.max_iter, ConvergenceWarning)\n"
          ],
          "name": "stderr"
        },
        {
          "output_type": "stream",
          "text": [
            "[{'activation': 'logistic', 'solver': 'lbfgs', 'learning_rate': 'adaptive', 'hidden_layer_sizes': (118, 90, 31), 'max_iter': 237, 'fitness': 0.7085}, {'activation': 'logistic', 'hidden_layer_sizes': (124, 99, 14), 'learning_rate': 'invscaling', 'max_iter': 187, 'solver': 'lbfgs', 'fitness': 0.7085}, {'activation': 'logistic', 'hidden_layer_sizes': (158, 51, 14), 'learning_rate': 'constant', 'max_iter': 250, 'solver': 'adam', 'fitness': 0.708}, {'activation': 'logistic', 'hidden_layer_sizes': (132, 83, 14), 'learning_rate': 'constant', 'max_iter': 136, 'solver': 'lbfgs', 'fitness': 0.7075}, {'activation': 'relu', 'hidden_layer_sizes': (124, 65, 14), 'learning_rate': 'constant', 'max_iter': 250, 'solver': 'sgd', 'fitness': 0.707}, {'activation': 'relu', 'hidden_layer_sizes': (124, 99, 14), 'learning_rate': 'constant', 'max_iter': 250, 'solver': 'sgd', 'fitness': 0.706}, {'activation': 'relu', 'hidden_layer_sizes': (124, 71, 14), 'learning_rate': 'adaptive', 'max_iter': 250, 'solver': 'sgd', 'fitness': 0.7055}, {'activation': 'logistic', 'hidden_layer_sizes': (120, 99, 14), 'learning_rate': 'constant', 'max_iter': 136, 'solver': 'lbfgs', 'fitness': 0.705}, {'activation': 'relu', 'hidden_layer_sizes': (124, 65, 14), 'learning_rate': 'constant', 'max_iter': 250, 'solver': 'sgd', 'fitness': 0.705}, {'activation': 'logistic', 'hidden_layer_sizes': (120, 99, 41), 'learning_rate': 'constant', 'max_iter': 187, 'solver': 'lbfgs', 'fitness': 0.705}, {'activation': 'logistic', 'hidden_layer_sizes': (132, 83, 14), 'learning_rate': 'constant', 'max_iter': 237, 'solver': 'adam', 'fitness': 0.705}, {'activation': 'logistic', 'hidden_layer_sizes': (124, 83, 14), 'learning_rate': 'invscaling', 'max_iter': 136, 'solver': 'lbfgs', 'fitness': 0.705}, {'activation': 'logistic', 'hidden_layer_sizes': (132, 83, 42), 'learning_rate': 'adaptive', 'max_iter': 250, 'solver': 'lbfgs', 'fitness': 0.7045}, {'activation': 'logistic', 'hidden_layer_sizes': (158, 65, 14), 'learning_rate': 'invscaling', 'max_iter': 250, 'solver': 'adam', 'fitness': 0.7045}, {'activation': 'logistic', 'hidden_layer_sizes': (124, 83, 14), 'learning_rate': 'constant', 'max_iter': 136, 'solver': 'lbfgs', 'fitness': 0.7045}, {'activation': 'logistic', 'hidden_layer_sizes': (158, 51, 31), 'learning_rate': 'adaptive', 'max_iter': 237, 'solver': 'adam', 'fitness': 0.704}, {'activation': 'logistic', 'hidden_layer_sizes': (120, 99, 14), 'learning_rate': 'constant', 'max_iter': 136, 'solver': 'lbfgs', 'fitness': 0.704}, {'activation': 'relu', 'hidden_layer_sizes': (124, 65, 14), 'learning_rate': 'constant', 'max_iter': 250, 'solver': 'sgd', 'fitness': 0.7035}, {'activation': 'logistic', 'hidden_layer_sizes': (124, 65, 14), 'learning_rate': 'constant', 'max_iter': 250, 'solver': 'adam', 'fitness': 0.7035}, {'activation': 'logistic', 'hidden_layer_sizes': (158, 65, 14), 'learning_rate': 'constant', 'max_iter': 192, 'solver': 'adam', 'fitness': 0.7035}, {'activation': 'logistic', 'hidden_layer_sizes': (158, 99, 14), 'learning_rate': 'constant', 'max_iter': 250, 'solver': 'lbfgs', 'fitness': 0.7035}, {'activation': 'logistic', 'hidden_layer_sizes': (120, 67, 41), 'learning_rate': 'adaptive', 'max_iter': 187, 'solver': 'lbfgs', 'fitness': 0.703}, {'activation': 'logistic', 'hidden_layer_sizes': (158, 51, 14), 'learning_rate': 'constant', 'max_iter': 192, 'solver': 'adam', 'fitness': 0.703}, {'activation': 'logistic', 'hidden_layer_sizes': (124, 83, 14), 'learning_rate': 'constant', 'max_iter': 136, 'solver': 'adam', 'fitness': 0.703}, {'activation': 'logistic', 'solver': 'adam', 'learning_rate': 'constant', 'hidden_layer_sizes': (188, 99, 19), 'max_iter': 184, 'fitness': 0.7025}, {'activation': 'relu', 'hidden_layer_sizes': (132, 71, 14), 'learning_rate': 'constant', 'max_iter': 250, 'solver': 'sgd', 'fitness': 0.7025}, {'activation': 'logistic', 'hidden_layer_sizes': (158, 65, 14), 'learning_rate': 'invscaling', 'max_iter': 250, 'solver': 'adam', 'fitness': 0.7025}, {'activation': 'logistic', 'hidden_layer_sizes': (132, 51, 14), 'learning_rate': 'adaptive', 'max_iter': 237, 'solver': 'adam', 'fitness': 0.7025}, {'activation': 'logistic', 'hidden_layer_sizes': (158, 51, 14), 'learning_rate': 'constant', 'max_iter': 250, 'solver': 'lbfgs', 'fitness': 0.7025}, {'activation': 'logistic', 'hidden_layer_sizes': (158, 51, 14), 'learning_rate': 'constant', 'max_iter': 192, 'solver': 'adam', 'fitness': 0.702}]\n",
            "generation: \n",
            "84\n"
          ],
          "name": "stdout"
        },
        {
          "output_type": "stream",
          "text": [
            "/usr/local/lib/python3.7/dist-packages/sklearn/neural_network/_multilayer_perceptron.py:470: ConvergenceWarning: lbfgs failed to converge (status=1):\n",
            "STOP: TOTAL NO. of ITERATIONS REACHED LIMIT.\n",
            "\n",
            "Increase the number of iterations (max_iter) or scale the data as shown in:\n",
            "    https://scikit-learn.org/stable/modules/preprocessing.html\n",
            "  self.n_iter_ = _check_optimize_result(\"lbfgs\", opt_res, self.max_iter)\n",
            "/usr/local/lib/python3.7/dist-packages/sklearn/neural_network/_multilayer_perceptron.py:470: ConvergenceWarning: lbfgs failed to converge (status=1):\n",
            "STOP: TOTAL NO. of ITERATIONS REACHED LIMIT.\n",
            "\n",
            "Increase the number of iterations (max_iter) or scale the data as shown in:\n",
            "    https://scikit-learn.org/stable/modules/preprocessing.html\n",
            "  self.n_iter_ = _check_optimize_result(\"lbfgs\", opt_res, self.max_iter)\n"
          ],
          "name": "stderr"
        },
        {
          "output_type": "stream",
          "text": [
            "[{'activation': 'logistic', 'solver': 'lbfgs', 'learning_rate': 'adaptive', 'hidden_layer_sizes': (118, 90, 31), 'max_iter': 237, 'fitness': 0.7085}, {'activation': 'logistic', 'hidden_layer_sizes': (124, 99, 14), 'learning_rate': 'invscaling', 'max_iter': 187, 'solver': 'lbfgs', 'fitness': 0.7085}, {'activation': 'logistic', 'hidden_layer_sizes': (158, 51, 14), 'learning_rate': 'constant', 'max_iter': 250, 'solver': 'adam', 'fitness': 0.708}, {'activation': 'logistic', 'hidden_layer_sizes': (132, 83, 14), 'learning_rate': 'constant', 'max_iter': 136, 'solver': 'lbfgs', 'fitness': 0.7075}, {'activation': 'relu', 'hidden_layer_sizes': (124, 65, 14), 'learning_rate': 'constant', 'max_iter': 250, 'solver': 'sgd', 'fitness': 0.707}, {'activation': 'logistic', 'hidden_layer_sizes': (124, 99, 31), 'learning_rate': 'invscaling', 'max_iter': 187, 'solver': 'lbfgs', 'fitness': 0.7065}, {'activation': 'relu', 'hidden_layer_sizes': (124, 99, 14), 'learning_rate': 'constant', 'max_iter': 250, 'solver': 'sgd', 'fitness': 0.706}, {'activation': 'relu', 'hidden_layer_sizes': (124, 71, 14), 'learning_rate': 'adaptive', 'max_iter': 250, 'solver': 'sgd', 'fitness': 0.7055}, {'activation': 'logistic', 'hidden_layer_sizes': (120, 99, 14), 'learning_rate': 'constant', 'max_iter': 136, 'solver': 'lbfgs', 'fitness': 0.705}, {'activation': 'relu', 'hidden_layer_sizes': (124, 65, 14), 'learning_rate': 'constant', 'max_iter': 250, 'solver': 'sgd', 'fitness': 0.705}, {'activation': 'logistic', 'hidden_layer_sizes': (120, 99, 41), 'learning_rate': 'constant', 'max_iter': 187, 'solver': 'lbfgs', 'fitness': 0.705}, {'activation': 'logistic', 'hidden_layer_sizes': (132, 83, 14), 'learning_rate': 'constant', 'max_iter': 237, 'solver': 'adam', 'fitness': 0.705}, {'activation': 'logistic', 'hidden_layer_sizes': (124, 83, 14), 'learning_rate': 'invscaling', 'max_iter': 136, 'solver': 'lbfgs', 'fitness': 0.705}, {'activation': 'logistic', 'hidden_layer_sizes': (124, 99, 31), 'learning_rate': 'invscaling', 'max_iter': 187, 'solver': 'lbfgs', 'fitness': 0.705}, {'activation': 'logistic', 'hidden_layer_sizes': (132, 83, 42), 'learning_rate': 'adaptive', 'max_iter': 250, 'solver': 'lbfgs', 'fitness': 0.7045}, {'activation': 'logistic', 'hidden_layer_sizes': (158, 65, 14), 'learning_rate': 'invscaling', 'max_iter': 250, 'solver': 'adam', 'fitness': 0.7045}, {'activation': 'logistic', 'hidden_layer_sizes': (124, 83, 14), 'learning_rate': 'constant', 'max_iter': 136, 'solver': 'lbfgs', 'fitness': 0.7045}, {'activation': 'logistic', 'hidden_layer_sizes': (158, 51, 31), 'learning_rate': 'adaptive', 'max_iter': 237, 'solver': 'adam', 'fitness': 0.704}, {'activation': 'logistic', 'hidden_layer_sizes': (120, 99, 14), 'learning_rate': 'constant', 'max_iter': 136, 'solver': 'lbfgs', 'fitness': 0.704}, {'activation': 'relu', 'hidden_layer_sizes': (124, 65, 14), 'learning_rate': 'constant', 'max_iter': 250, 'solver': 'sgd', 'fitness': 0.7035}, {'activation': 'logistic', 'hidden_layer_sizes': (124, 65, 14), 'learning_rate': 'constant', 'max_iter': 250, 'solver': 'adam', 'fitness': 0.7035}, {'activation': 'logistic', 'hidden_layer_sizes': (158, 65, 14), 'learning_rate': 'constant', 'max_iter': 192, 'solver': 'adam', 'fitness': 0.7035}, {'activation': 'logistic', 'hidden_layer_sizes': (158, 99, 14), 'learning_rate': 'constant', 'max_iter': 250, 'solver': 'lbfgs', 'fitness': 0.7035}, {'activation': 'logistic', 'hidden_layer_sizes': (120, 67, 41), 'learning_rate': 'adaptive', 'max_iter': 187, 'solver': 'lbfgs', 'fitness': 0.703}, {'activation': 'logistic', 'hidden_layer_sizes': (158, 51, 14), 'learning_rate': 'constant', 'max_iter': 192, 'solver': 'adam', 'fitness': 0.703}, {'activation': 'logistic', 'hidden_layer_sizes': (124, 83, 14), 'learning_rate': 'constant', 'max_iter': 136, 'solver': 'adam', 'fitness': 0.703}, {'activation': 'logistic', 'solver': 'adam', 'learning_rate': 'constant', 'hidden_layer_sizes': (188, 99, 19), 'max_iter': 184, 'fitness': 0.7025}, {'activation': 'relu', 'hidden_layer_sizes': (132, 71, 14), 'learning_rate': 'constant', 'max_iter': 250, 'solver': 'sgd', 'fitness': 0.7025}, {'activation': 'logistic', 'hidden_layer_sizes': (158, 65, 14), 'learning_rate': 'invscaling', 'max_iter': 250, 'solver': 'adam', 'fitness': 0.7025}, {'activation': 'logistic', 'hidden_layer_sizes': (132, 51, 14), 'learning_rate': 'adaptive', 'max_iter': 237, 'solver': 'adam', 'fitness': 0.7025}]\n",
            "generation: \n",
            "85\n"
          ],
          "name": "stdout"
        },
        {
          "output_type": "stream",
          "text": [
            "/usr/local/lib/python3.7/dist-packages/sklearn/neural_network/_multilayer_perceptron.py:470: ConvergenceWarning: lbfgs failed to converge (status=1):\n",
            "STOP: TOTAL NO. of ITERATIONS REACHED LIMIT.\n",
            "\n",
            "Increase the number of iterations (max_iter) or scale the data as shown in:\n",
            "    https://scikit-learn.org/stable/modules/preprocessing.html\n",
            "  self.n_iter_ = _check_optimize_result(\"lbfgs\", opt_res, self.max_iter)\n"
          ],
          "name": "stderr"
        },
        {
          "output_type": "stream",
          "text": [
            "[{'activation': 'logistic', 'solver': 'lbfgs', 'learning_rate': 'adaptive', 'hidden_layer_sizes': (118, 90, 31), 'max_iter': 237, 'fitness': 0.7085}, {'activation': 'logistic', 'hidden_layer_sizes': (124, 99, 14), 'learning_rate': 'invscaling', 'max_iter': 187, 'solver': 'lbfgs', 'fitness': 0.7085}, {'activation': 'logistic', 'hidden_layer_sizes': (158, 51, 14), 'learning_rate': 'constant', 'max_iter': 250, 'solver': 'adam', 'fitness': 0.708}, {'activation': 'logistic', 'hidden_layer_sizes': (132, 83, 14), 'learning_rate': 'constant', 'max_iter': 136, 'solver': 'lbfgs', 'fitness': 0.7075}, {'activation': 'relu', 'hidden_layer_sizes': (124, 65, 14), 'learning_rate': 'constant', 'max_iter': 250, 'solver': 'sgd', 'fitness': 0.707}, {'activation': 'logistic', 'hidden_layer_sizes': (124, 99, 31), 'learning_rate': 'invscaling', 'max_iter': 187, 'solver': 'lbfgs', 'fitness': 0.7065}, {'activation': 'relu', 'hidden_layer_sizes': (124, 99, 14), 'learning_rate': 'constant', 'max_iter': 250, 'solver': 'sgd', 'fitness': 0.706}, {'activation': 'relu', 'hidden_layer_sizes': (124, 71, 14), 'learning_rate': 'adaptive', 'max_iter': 250, 'solver': 'sgd', 'fitness': 0.7055}, {'activation': 'logistic', 'hidden_layer_sizes': (120, 99, 14), 'learning_rate': 'constant', 'max_iter': 136, 'solver': 'lbfgs', 'fitness': 0.705}, {'activation': 'relu', 'hidden_layer_sizes': (124, 65, 14), 'learning_rate': 'constant', 'max_iter': 250, 'solver': 'sgd', 'fitness': 0.705}, {'activation': 'logistic', 'hidden_layer_sizes': (120, 99, 41), 'learning_rate': 'constant', 'max_iter': 187, 'solver': 'lbfgs', 'fitness': 0.705}, {'activation': 'logistic', 'hidden_layer_sizes': (132, 83, 14), 'learning_rate': 'constant', 'max_iter': 237, 'solver': 'adam', 'fitness': 0.705}, {'activation': 'logistic', 'hidden_layer_sizes': (124, 83, 14), 'learning_rate': 'invscaling', 'max_iter': 136, 'solver': 'lbfgs', 'fitness': 0.705}, {'activation': 'logistic', 'hidden_layer_sizes': (124, 99, 31), 'learning_rate': 'invscaling', 'max_iter': 187, 'solver': 'lbfgs', 'fitness': 0.705}, {'activation': 'logistic', 'hidden_layer_sizes': (132, 83, 42), 'learning_rate': 'adaptive', 'max_iter': 250, 'solver': 'lbfgs', 'fitness': 0.7045}, {'activation': 'logistic', 'hidden_layer_sizes': (158, 65, 14), 'learning_rate': 'invscaling', 'max_iter': 250, 'solver': 'adam', 'fitness': 0.7045}, {'activation': 'logistic', 'hidden_layer_sizes': (124, 83, 14), 'learning_rate': 'constant', 'max_iter': 136, 'solver': 'lbfgs', 'fitness': 0.7045}, {'activation': 'logistic', 'hidden_layer_sizes': (158, 51, 31), 'learning_rate': 'adaptive', 'max_iter': 237, 'solver': 'adam', 'fitness': 0.704}, {'activation': 'logistic', 'hidden_layer_sizes': (120, 99, 14), 'learning_rate': 'constant', 'max_iter': 136, 'solver': 'lbfgs', 'fitness': 0.704}, {'activation': 'relu', 'hidden_layer_sizes': (124, 65, 14), 'learning_rate': 'constant', 'max_iter': 250, 'solver': 'sgd', 'fitness': 0.7035}, {'activation': 'logistic', 'hidden_layer_sizes': (124, 65, 14), 'learning_rate': 'constant', 'max_iter': 250, 'solver': 'adam', 'fitness': 0.7035}, {'activation': 'logistic', 'hidden_layer_sizes': (158, 65, 14), 'learning_rate': 'constant', 'max_iter': 192, 'solver': 'adam', 'fitness': 0.7035}, {'activation': 'logistic', 'hidden_layer_sizes': (158, 99, 14), 'learning_rate': 'constant', 'max_iter': 250, 'solver': 'lbfgs', 'fitness': 0.7035}, {'activation': 'logistic', 'hidden_layer_sizes': (120, 67, 41), 'learning_rate': 'adaptive', 'max_iter': 187, 'solver': 'lbfgs', 'fitness': 0.703}, {'activation': 'logistic', 'hidden_layer_sizes': (158, 51, 14), 'learning_rate': 'constant', 'max_iter': 192, 'solver': 'adam', 'fitness': 0.703}, {'activation': 'logistic', 'hidden_layer_sizes': (124, 83, 14), 'learning_rate': 'constant', 'max_iter': 136, 'solver': 'adam', 'fitness': 0.703}, {'activation': 'logistic', 'solver': 'adam', 'learning_rate': 'constant', 'hidden_layer_sizes': (188, 99, 19), 'max_iter': 184, 'fitness': 0.7025}, {'activation': 'relu', 'hidden_layer_sizes': (132, 71, 14), 'learning_rate': 'constant', 'max_iter': 250, 'solver': 'sgd', 'fitness': 0.7025}, {'activation': 'logistic', 'hidden_layer_sizes': (158, 65, 14), 'learning_rate': 'invscaling', 'max_iter': 250, 'solver': 'adam', 'fitness': 0.7025}, {'activation': 'logistic', 'hidden_layer_sizes': (132, 51, 14), 'learning_rate': 'adaptive', 'max_iter': 237, 'solver': 'adam', 'fitness': 0.7025}]\n",
            "generation: \n",
            "86\n"
          ],
          "name": "stdout"
        },
        {
          "output_type": "stream",
          "text": [
            "/usr/local/lib/python3.7/dist-packages/sklearn/neural_network/_multilayer_perceptron.py:470: ConvergenceWarning: lbfgs failed to converge (status=1):\n",
            "STOP: TOTAL NO. of ITERATIONS REACHED LIMIT.\n",
            "\n",
            "Increase the number of iterations (max_iter) or scale the data as shown in:\n",
            "    https://scikit-learn.org/stable/modules/preprocessing.html\n",
            "  self.n_iter_ = _check_optimize_result(\"lbfgs\", opt_res, self.max_iter)\n",
            "/usr/local/lib/python3.7/dist-packages/sklearn/neural_network/_multilayer_perceptron.py:470: ConvergenceWarning: lbfgs failed to converge (status=1):\n",
            "STOP: TOTAL NO. of ITERATIONS REACHED LIMIT.\n",
            "\n",
            "Increase the number of iterations (max_iter) or scale the data as shown in:\n",
            "    https://scikit-learn.org/stable/modules/preprocessing.html\n",
            "  self.n_iter_ = _check_optimize_result(\"lbfgs\", opt_res, self.max_iter)\n"
          ],
          "name": "stderr"
        },
        {
          "output_type": "stream",
          "text": [
            "[{'activation': 'logistic', 'solver': 'lbfgs', 'learning_rate': 'adaptive', 'hidden_layer_sizes': (118, 90, 31), 'max_iter': 237, 'fitness': 0.7085}, {'activation': 'logistic', 'hidden_layer_sizes': (124, 99, 14), 'learning_rate': 'invscaling', 'max_iter': 187, 'solver': 'lbfgs', 'fitness': 0.7085}, {'activation': 'logistic', 'hidden_layer_sizes': (158, 51, 14), 'learning_rate': 'constant', 'max_iter': 250, 'solver': 'adam', 'fitness': 0.708}, {'activation': 'logistic', 'hidden_layer_sizes': (132, 83, 14), 'learning_rate': 'constant', 'max_iter': 136, 'solver': 'lbfgs', 'fitness': 0.7075}, {'activation': 'relu', 'hidden_layer_sizes': (124, 65, 14), 'learning_rate': 'constant', 'max_iter': 250, 'solver': 'sgd', 'fitness': 0.707}, {'activation': 'logistic', 'hidden_layer_sizes': (124, 99, 31), 'learning_rate': 'invscaling', 'max_iter': 187, 'solver': 'lbfgs', 'fitness': 0.7065}, {'activation': 'relu', 'hidden_layer_sizes': (124, 99, 14), 'learning_rate': 'constant', 'max_iter': 250, 'solver': 'sgd', 'fitness': 0.706}, {'activation': 'relu', 'hidden_layer_sizes': (124, 71, 14), 'learning_rate': 'adaptive', 'max_iter': 250, 'solver': 'sgd', 'fitness': 0.7055}, {'activation': 'logistic', 'hidden_layer_sizes': (120, 99, 14), 'learning_rate': 'constant', 'max_iter': 136, 'solver': 'lbfgs', 'fitness': 0.705}, {'activation': 'relu', 'hidden_layer_sizes': (124, 65, 14), 'learning_rate': 'constant', 'max_iter': 250, 'solver': 'sgd', 'fitness': 0.705}, {'activation': 'logistic', 'hidden_layer_sizes': (120, 99, 41), 'learning_rate': 'constant', 'max_iter': 187, 'solver': 'lbfgs', 'fitness': 0.705}, {'activation': 'logistic', 'hidden_layer_sizes': (132, 83, 14), 'learning_rate': 'constant', 'max_iter': 237, 'solver': 'adam', 'fitness': 0.705}, {'activation': 'logistic', 'hidden_layer_sizes': (124, 83, 14), 'learning_rate': 'invscaling', 'max_iter': 136, 'solver': 'lbfgs', 'fitness': 0.705}, {'activation': 'logistic', 'hidden_layer_sizes': (124, 99, 31), 'learning_rate': 'invscaling', 'max_iter': 187, 'solver': 'lbfgs', 'fitness': 0.705}, {'activation': 'logistic', 'hidden_layer_sizes': (132, 83, 42), 'learning_rate': 'adaptive', 'max_iter': 250, 'solver': 'lbfgs', 'fitness': 0.7045}, {'activation': 'logistic', 'hidden_layer_sizes': (158, 65, 14), 'learning_rate': 'invscaling', 'max_iter': 250, 'solver': 'adam', 'fitness': 0.7045}, {'activation': 'logistic', 'hidden_layer_sizes': (124, 83, 14), 'learning_rate': 'constant', 'max_iter': 136, 'solver': 'lbfgs', 'fitness': 0.7045}, {'activation': 'logistic', 'hidden_layer_sizes': (158, 51, 31), 'learning_rate': 'adaptive', 'max_iter': 237, 'solver': 'adam', 'fitness': 0.704}, {'activation': 'logistic', 'hidden_layer_sizes': (120, 99, 14), 'learning_rate': 'constant', 'max_iter': 136, 'solver': 'lbfgs', 'fitness': 0.704}, {'activation': 'relu', 'hidden_layer_sizes': (124, 65, 14), 'learning_rate': 'constant', 'max_iter': 250, 'solver': 'sgd', 'fitness': 0.7035}, {'activation': 'logistic', 'hidden_layer_sizes': (124, 65, 14), 'learning_rate': 'constant', 'max_iter': 250, 'solver': 'adam', 'fitness': 0.7035}, {'activation': 'logistic', 'hidden_layer_sizes': (158, 65, 14), 'learning_rate': 'constant', 'max_iter': 192, 'solver': 'adam', 'fitness': 0.7035}, {'activation': 'logistic', 'hidden_layer_sizes': (158, 99, 14), 'learning_rate': 'constant', 'max_iter': 250, 'solver': 'lbfgs', 'fitness': 0.7035}, {'activation': 'logistic', 'hidden_layer_sizes': (120, 67, 41), 'learning_rate': 'adaptive', 'max_iter': 187, 'solver': 'lbfgs', 'fitness': 0.703}, {'activation': 'logistic', 'hidden_layer_sizes': (158, 51, 14), 'learning_rate': 'constant', 'max_iter': 192, 'solver': 'adam', 'fitness': 0.703}, {'activation': 'logistic', 'hidden_layer_sizes': (124, 83, 14), 'learning_rate': 'constant', 'max_iter': 136, 'solver': 'adam', 'fitness': 0.703}, {'activation': 'logistic', 'hidden_layer_sizes': (124, 51, 14), 'learning_rate': 'invscaling', 'max_iter': 187, 'solver': 'lbfgs', 'fitness': 0.703}, {'activation': 'logistic', 'solver': 'adam', 'learning_rate': 'constant', 'hidden_layer_sizes': (188, 99, 19), 'max_iter': 184, 'fitness': 0.7025}, {'activation': 'relu', 'hidden_layer_sizes': (132, 71, 14), 'learning_rate': 'constant', 'max_iter': 250, 'solver': 'sgd', 'fitness': 0.7025}, {'activation': 'logistic', 'hidden_layer_sizes': (158, 65, 14), 'learning_rate': 'invscaling', 'max_iter': 250, 'solver': 'adam', 'fitness': 0.7025}]\n",
            "generation: \n",
            "87\n",
            "[{'activation': 'logistic', 'solver': 'lbfgs', 'learning_rate': 'adaptive', 'hidden_layer_sizes': (118, 90, 31), 'max_iter': 237, 'fitness': 0.7085}, {'activation': 'logistic', 'hidden_layer_sizes': (124, 99, 14), 'learning_rate': 'invscaling', 'max_iter': 187, 'solver': 'lbfgs', 'fitness': 0.7085}, {'activation': 'logistic', 'hidden_layer_sizes': (158, 51, 14), 'learning_rate': 'constant', 'max_iter': 250, 'solver': 'adam', 'fitness': 0.708}, {'activation': 'logistic', 'hidden_layer_sizes': (132, 83, 14), 'learning_rate': 'constant', 'max_iter': 136, 'solver': 'lbfgs', 'fitness': 0.7075}, {'activation': 'relu', 'hidden_layer_sizes': (124, 65, 14), 'learning_rate': 'constant', 'max_iter': 250, 'solver': 'sgd', 'fitness': 0.707}, {'activation': 'logistic', 'hidden_layer_sizes': (124, 99, 31), 'learning_rate': 'invscaling', 'max_iter': 187, 'solver': 'lbfgs', 'fitness': 0.7065}, {'activation': 'relu', 'hidden_layer_sizes': (124, 99, 14), 'learning_rate': 'constant', 'max_iter': 250, 'solver': 'sgd', 'fitness': 0.706}, {'activation': 'relu', 'hidden_layer_sizes': (124, 71, 14), 'learning_rate': 'adaptive', 'max_iter': 250, 'solver': 'sgd', 'fitness': 0.7055}, {'activation': 'logistic', 'hidden_layer_sizes': (120, 99, 14), 'learning_rate': 'constant', 'max_iter': 136, 'solver': 'lbfgs', 'fitness': 0.705}, {'activation': 'relu', 'hidden_layer_sizes': (124, 65, 14), 'learning_rate': 'constant', 'max_iter': 250, 'solver': 'sgd', 'fitness': 0.705}, {'activation': 'logistic', 'hidden_layer_sizes': (120, 99, 41), 'learning_rate': 'constant', 'max_iter': 187, 'solver': 'lbfgs', 'fitness': 0.705}, {'activation': 'logistic', 'hidden_layer_sizes': (132, 83, 14), 'learning_rate': 'constant', 'max_iter': 237, 'solver': 'adam', 'fitness': 0.705}, {'activation': 'logistic', 'hidden_layer_sizes': (124, 83, 14), 'learning_rate': 'invscaling', 'max_iter': 136, 'solver': 'lbfgs', 'fitness': 0.705}, {'activation': 'logistic', 'hidden_layer_sizes': (124, 99, 31), 'learning_rate': 'invscaling', 'max_iter': 187, 'solver': 'lbfgs', 'fitness': 0.705}, {'activation': 'logistic', 'hidden_layer_sizes': (132, 83, 42), 'learning_rate': 'adaptive', 'max_iter': 250, 'solver': 'lbfgs', 'fitness': 0.7045}, {'activation': 'logistic', 'hidden_layer_sizes': (158, 65, 14), 'learning_rate': 'invscaling', 'max_iter': 250, 'solver': 'adam', 'fitness': 0.7045}, {'activation': 'logistic', 'hidden_layer_sizes': (124, 83, 14), 'learning_rate': 'constant', 'max_iter': 136, 'solver': 'lbfgs', 'fitness': 0.7045}, {'activation': 'logistic', 'hidden_layer_sizes': (158, 51, 31), 'learning_rate': 'adaptive', 'max_iter': 237, 'solver': 'adam', 'fitness': 0.704}, {'activation': 'logistic', 'hidden_layer_sizes': (120, 99, 14), 'learning_rate': 'constant', 'max_iter': 136, 'solver': 'lbfgs', 'fitness': 0.704}, {'activation': 'relu', 'hidden_layer_sizes': (124, 65, 14), 'learning_rate': 'constant', 'max_iter': 250, 'solver': 'sgd', 'fitness': 0.7035}, {'activation': 'logistic', 'hidden_layer_sizes': (124, 65, 14), 'learning_rate': 'constant', 'max_iter': 250, 'solver': 'adam', 'fitness': 0.7035}, {'activation': 'logistic', 'hidden_layer_sizes': (158, 65, 14), 'learning_rate': 'constant', 'max_iter': 192, 'solver': 'adam', 'fitness': 0.7035}, {'activation': 'logistic', 'hidden_layer_sizes': (158, 99, 14), 'learning_rate': 'constant', 'max_iter': 250, 'solver': 'lbfgs', 'fitness': 0.7035}, {'activation': 'logistic', 'hidden_layer_sizes': (120, 67, 41), 'learning_rate': 'adaptive', 'max_iter': 187, 'solver': 'lbfgs', 'fitness': 0.703}, {'activation': 'logistic', 'hidden_layer_sizes': (158, 51, 14), 'learning_rate': 'constant', 'max_iter': 192, 'solver': 'adam', 'fitness': 0.703}, {'activation': 'logistic', 'hidden_layer_sizes': (124, 83, 14), 'learning_rate': 'constant', 'max_iter': 136, 'solver': 'adam', 'fitness': 0.703}, {'activation': 'logistic', 'hidden_layer_sizes': (124, 51, 14), 'learning_rate': 'invscaling', 'max_iter': 187, 'solver': 'lbfgs', 'fitness': 0.703}, {'activation': 'logistic', 'solver': 'adam', 'learning_rate': 'constant', 'hidden_layer_sizes': (188, 99, 19), 'max_iter': 184, 'fitness': 0.7025}, {'activation': 'relu', 'hidden_layer_sizes': (132, 71, 14), 'learning_rate': 'constant', 'max_iter': 250, 'solver': 'sgd', 'fitness': 0.7025}, {'activation': 'logistic', 'hidden_layer_sizes': (158, 65, 14), 'learning_rate': 'invscaling', 'max_iter': 250, 'solver': 'adam', 'fitness': 0.7025}]\n",
            "generation: \n",
            "88\n"
          ],
          "name": "stdout"
        },
        {
          "output_type": "stream",
          "text": [
            "/usr/local/lib/python3.7/dist-packages/sklearn/neural_network/_multilayer_perceptron.py:470: ConvergenceWarning: lbfgs failed to converge (status=1):\n",
            "STOP: TOTAL NO. of ITERATIONS REACHED LIMIT.\n",
            "\n",
            "Increase the number of iterations (max_iter) or scale the data as shown in:\n",
            "    https://scikit-learn.org/stable/modules/preprocessing.html\n",
            "  self.n_iter_ = _check_optimize_result(\"lbfgs\", opt_res, self.max_iter)\n",
            "/usr/local/lib/python3.7/dist-packages/sklearn/neural_network/_multilayer_perceptron.py:470: ConvergenceWarning: lbfgs failed to converge (status=1):\n",
            "STOP: TOTAL NO. of ITERATIONS REACHED LIMIT.\n",
            "\n",
            "Increase the number of iterations (max_iter) or scale the data as shown in:\n",
            "    https://scikit-learn.org/stable/modules/preprocessing.html\n",
            "  self.n_iter_ = _check_optimize_result(\"lbfgs\", opt_res, self.max_iter)\n"
          ],
          "name": "stderr"
        },
        {
          "output_type": "stream",
          "text": [
            "[{'activation': 'logistic', 'solver': 'lbfgs', 'learning_rate': 'adaptive', 'hidden_layer_sizes': (118, 90, 31), 'max_iter': 237, 'fitness': 0.7085}, {'activation': 'logistic', 'hidden_layer_sizes': (124, 99, 14), 'learning_rate': 'invscaling', 'max_iter': 187, 'solver': 'lbfgs', 'fitness': 0.7085}, {'activation': 'logistic', 'hidden_layer_sizes': (158, 51, 14), 'learning_rate': 'constant', 'max_iter': 250, 'solver': 'adam', 'fitness': 0.708}, {'activation': 'logistic', 'hidden_layer_sizes': (132, 83, 14), 'learning_rate': 'constant', 'max_iter': 136, 'solver': 'lbfgs', 'fitness': 0.7075}, {'activation': 'relu', 'hidden_layer_sizes': (124, 65, 14), 'learning_rate': 'constant', 'max_iter': 250, 'solver': 'sgd', 'fitness': 0.707}, {'activation': 'logistic', 'hidden_layer_sizes': (124, 99, 31), 'learning_rate': 'invscaling', 'max_iter': 187, 'solver': 'lbfgs', 'fitness': 0.7065}, {'activation': 'relu', 'hidden_layer_sizes': (124, 99, 14), 'learning_rate': 'constant', 'max_iter': 250, 'solver': 'sgd', 'fitness': 0.706}, {'activation': 'relu', 'hidden_layer_sizes': (124, 71, 14), 'learning_rate': 'adaptive', 'max_iter': 250, 'solver': 'sgd', 'fitness': 0.7055}, {'activation': 'logistic', 'hidden_layer_sizes': (120, 99, 14), 'learning_rate': 'constant', 'max_iter': 136, 'solver': 'lbfgs', 'fitness': 0.705}, {'activation': 'relu', 'hidden_layer_sizes': (124, 65, 14), 'learning_rate': 'constant', 'max_iter': 250, 'solver': 'sgd', 'fitness': 0.705}, {'activation': 'logistic', 'hidden_layer_sizes': (120, 99, 41), 'learning_rate': 'constant', 'max_iter': 187, 'solver': 'lbfgs', 'fitness': 0.705}, {'activation': 'logistic', 'hidden_layer_sizes': (132, 83, 14), 'learning_rate': 'constant', 'max_iter': 237, 'solver': 'adam', 'fitness': 0.705}, {'activation': 'logistic', 'hidden_layer_sizes': (124, 83, 14), 'learning_rate': 'invscaling', 'max_iter': 136, 'solver': 'lbfgs', 'fitness': 0.705}, {'activation': 'logistic', 'hidden_layer_sizes': (124, 99, 31), 'learning_rate': 'invscaling', 'max_iter': 187, 'solver': 'lbfgs', 'fitness': 0.705}, {'activation': 'logistic', 'hidden_layer_sizes': (132, 83, 42), 'learning_rate': 'adaptive', 'max_iter': 250, 'solver': 'lbfgs', 'fitness': 0.7045}, {'activation': 'logistic', 'hidden_layer_sizes': (158, 65, 14), 'learning_rate': 'invscaling', 'max_iter': 250, 'solver': 'adam', 'fitness': 0.7045}, {'activation': 'logistic', 'hidden_layer_sizes': (124, 83, 14), 'learning_rate': 'constant', 'max_iter': 136, 'solver': 'lbfgs', 'fitness': 0.7045}, {'activation': 'logistic', 'hidden_layer_sizes': (158, 51, 31), 'learning_rate': 'adaptive', 'max_iter': 237, 'solver': 'adam', 'fitness': 0.704}, {'activation': 'logistic', 'hidden_layer_sizes': (120, 99, 14), 'learning_rate': 'constant', 'max_iter': 136, 'solver': 'lbfgs', 'fitness': 0.704}, {'activation': 'relu', 'hidden_layer_sizes': (124, 65, 14), 'learning_rate': 'constant', 'max_iter': 250, 'solver': 'sgd', 'fitness': 0.7035}, {'activation': 'logistic', 'hidden_layer_sizes': (124, 65, 14), 'learning_rate': 'constant', 'max_iter': 250, 'solver': 'adam', 'fitness': 0.7035}, {'activation': 'logistic', 'hidden_layer_sizes': (158, 65, 14), 'learning_rate': 'constant', 'max_iter': 192, 'solver': 'adam', 'fitness': 0.7035}, {'activation': 'logistic', 'hidden_layer_sizes': (158, 99, 14), 'learning_rate': 'constant', 'max_iter': 250, 'solver': 'lbfgs', 'fitness': 0.7035}, {'activation': 'logistic', 'hidden_layer_sizes': (120, 67, 41), 'learning_rate': 'adaptive', 'max_iter': 187, 'solver': 'lbfgs', 'fitness': 0.703}, {'activation': 'logistic', 'hidden_layer_sizes': (158, 51, 14), 'learning_rate': 'constant', 'max_iter': 192, 'solver': 'adam', 'fitness': 0.703}, {'activation': 'logistic', 'hidden_layer_sizes': (124, 83, 14), 'learning_rate': 'constant', 'max_iter': 136, 'solver': 'adam', 'fitness': 0.703}, {'activation': 'logistic', 'hidden_layer_sizes': (124, 51, 14), 'learning_rate': 'invscaling', 'max_iter': 187, 'solver': 'lbfgs', 'fitness': 0.703}, {'activation': 'logistic', 'solver': 'adam', 'learning_rate': 'constant', 'hidden_layer_sizes': (188, 99, 19), 'max_iter': 184, 'fitness': 0.7025}, {'activation': 'relu', 'hidden_layer_sizes': (132, 71, 14), 'learning_rate': 'constant', 'max_iter': 250, 'solver': 'sgd', 'fitness': 0.7025}, {'activation': 'logistic', 'hidden_layer_sizes': (158, 65, 14), 'learning_rate': 'invscaling', 'max_iter': 250, 'solver': 'adam', 'fitness': 0.7025}]\n",
            "generation: \n",
            "89\n"
          ],
          "name": "stdout"
        },
        {
          "output_type": "stream",
          "text": [
            "/usr/local/lib/python3.7/dist-packages/sklearn/neural_network/_multilayer_perceptron.py:470: ConvergenceWarning: lbfgs failed to converge (status=1):\n",
            "STOP: TOTAL NO. of ITERATIONS REACHED LIMIT.\n",
            "\n",
            "Increase the number of iterations (max_iter) or scale the data as shown in:\n",
            "    https://scikit-learn.org/stable/modules/preprocessing.html\n",
            "  self.n_iter_ = _check_optimize_result(\"lbfgs\", opt_res, self.max_iter)\n"
          ],
          "name": "stderr"
        },
        {
          "output_type": "stream",
          "text": [
            "[{'activation': 'logistic', 'solver': 'lbfgs', 'learning_rate': 'adaptive', 'hidden_layer_sizes': (118, 90, 31), 'max_iter': 237, 'fitness': 0.7085}, {'activation': 'logistic', 'hidden_layer_sizes': (124, 99, 14), 'learning_rate': 'invscaling', 'max_iter': 187, 'solver': 'lbfgs', 'fitness': 0.7085}, {'activation': 'logistic', 'hidden_layer_sizes': (158, 51, 14), 'learning_rate': 'constant', 'max_iter': 250, 'solver': 'adam', 'fitness': 0.708}, {'activation': 'logistic', 'hidden_layer_sizes': (132, 83, 14), 'learning_rate': 'constant', 'max_iter': 136, 'solver': 'lbfgs', 'fitness': 0.7075}, {'activation': 'relu', 'hidden_layer_sizes': (124, 65, 14), 'learning_rate': 'constant', 'max_iter': 250, 'solver': 'sgd', 'fitness': 0.707}, {'activation': 'logistic', 'hidden_layer_sizes': (124, 99, 31), 'learning_rate': 'invscaling', 'max_iter': 187, 'solver': 'lbfgs', 'fitness': 0.7065}, {'activation': 'relu', 'hidden_layer_sizes': (124, 99, 14), 'learning_rate': 'constant', 'max_iter': 250, 'solver': 'sgd', 'fitness': 0.706}, {'activation': 'relu', 'hidden_layer_sizes': (124, 71, 14), 'learning_rate': 'adaptive', 'max_iter': 250, 'solver': 'sgd', 'fitness': 0.7055}, {'activation': 'logistic', 'hidden_layer_sizes': (120, 99, 14), 'learning_rate': 'constant', 'max_iter': 136, 'solver': 'lbfgs', 'fitness': 0.705}, {'activation': 'relu', 'hidden_layer_sizes': (124, 65, 14), 'learning_rate': 'constant', 'max_iter': 250, 'solver': 'sgd', 'fitness': 0.705}, {'activation': 'logistic', 'hidden_layer_sizes': (120, 99, 41), 'learning_rate': 'constant', 'max_iter': 187, 'solver': 'lbfgs', 'fitness': 0.705}, {'activation': 'logistic', 'hidden_layer_sizes': (132, 83, 14), 'learning_rate': 'constant', 'max_iter': 237, 'solver': 'adam', 'fitness': 0.705}, {'activation': 'logistic', 'hidden_layer_sizes': (124, 83, 14), 'learning_rate': 'invscaling', 'max_iter': 136, 'solver': 'lbfgs', 'fitness': 0.705}, {'activation': 'logistic', 'hidden_layer_sizes': (124, 99, 31), 'learning_rate': 'invscaling', 'max_iter': 187, 'solver': 'lbfgs', 'fitness': 0.705}, {'activation': 'logistic', 'hidden_layer_sizes': (132, 83, 42), 'learning_rate': 'adaptive', 'max_iter': 250, 'solver': 'lbfgs', 'fitness': 0.7045}, {'activation': 'logistic', 'hidden_layer_sizes': (158, 65, 14), 'learning_rate': 'invscaling', 'max_iter': 250, 'solver': 'adam', 'fitness': 0.7045}, {'activation': 'logistic', 'hidden_layer_sizes': (124, 83, 14), 'learning_rate': 'constant', 'max_iter': 136, 'solver': 'lbfgs', 'fitness': 0.7045}, {'activation': 'logistic', 'hidden_layer_sizes': (158, 51, 31), 'learning_rate': 'adaptive', 'max_iter': 237, 'solver': 'adam', 'fitness': 0.704}, {'activation': 'logistic', 'hidden_layer_sizes': (120, 99, 14), 'learning_rate': 'constant', 'max_iter': 136, 'solver': 'lbfgs', 'fitness': 0.704}, {'activation': 'relu', 'hidden_layer_sizes': (124, 65, 14), 'learning_rate': 'constant', 'max_iter': 250, 'solver': 'sgd', 'fitness': 0.7035}, {'activation': 'logistic', 'hidden_layer_sizes': (124, 65, 14), 'learning_rate': 'constant', 'max_iter': 250, 'solver': 'adam', 'fitness': 0.7035}, {'activation': 'logistic', 'hidden_layer_sizes': (158, 65, 14), 'learning_rate': 'constant', 'max_iter': 192, 'solver': 'adam', 'fitness': 0.7035}, {'activation': 'logistic', 'hidden_layer_sizes': (158, 99, 14), 'learning_rate': 'constant', 'max_iter': 250, 'solver': 'lbfgs', 'fitness': 0.7035}, {'activation': 'logistic', 'hidden_layer_sizes': (120, 67, 41), 'learning_rate': 'adaptive', 'max_iter': 187, 'solver': 'lbfgs', 'fitness': 0.703}, {'activation': 'logistic', 'hidden_layer_sizes': (158, 51, 14), 'learning_rate': 'constant', 'max_iter': 192, 'solver': 'adam', 'fitness': 0.703}, {'activation': 'logistic', 'hidden_layer_sizes': (124, 83, 14), 'learning_rate': 'constant', 'max_iter': 136, 'solver': 'adam', 'fitness': 0.703}, {'activation': 'logistic', 'hidden_layer_sizes': (124, 51, 14), 'learning_rate': 'invscaling', 'max_iter': 187, 'solver': 'lbfgs', 'fitness': 0.703}, {'activation': 'logistic', 'solver': 'adam', 'learning_rate': 'constant', 'hidden_layer_sizes': (188, 99, 19), 'max_iter': 184, 'fitness': 0.7025}, {'activation': 'relu', 'hidden_layer_sizes': (132, 71, 14), 'learning_rate': 'constant', 'max_iter': 250, 'solver': 'sgd', 'fitness': 0.7025}, {'activation': 'logistic', 'hidden_layer_sizes': (158, 65, 14), 'learning_rate': 'invscaling', 'max_iter': 250, 'solver': 'adam', 'fitness': 0.7025}]\n",
            "generation: \n",
            "90\n"
          ],
          "name": "stdout"
        },
        {
          "output_type": "stream",
          "text": [
            "/usr/local/lib/python3.7/dist-packages/sklearn/neural_network/_multilayer_perceptron.py:470: ConvergenceWarning: lbfgs failed to converge (status=1):\n",
            "STOP: TOTAL NO. of ITERATIONS REACHED LIMIT.\n",
            "\n",
            "Increase the number of iterations (max_iter) or scale the data as shown in:\n",
            "    https://scikit-learn.org/stable/modules/preprocessing.html\n",
            "  self.n_iter_ = _check_optimize_result(\"lbfgs\", opt_res, self.max_iter)\n"
          ],
          "name": "stderr"
        },
        {
          "output_type": "stream",
          "text": [
            "[{'activation': 'logistic', 'solver': 'lbfgs', 'learning_rate': 'adaptive', 'hidden_layer_sizes': (118, 90, 31), 'max_iter': 237, 'fitness': 0.7085}, {'activation': 'logistic', 'hidden_layer_sizes': (124, 99, 14), 'learning_rate': 'invscaling', 'max_iter': 187, 'solver': 'lbfgs', 'fitness': 0.7085}, {'activation': 'logistic', 'hidden_layer_sizes': (158, 51, 14), 'learning_rate': 'constant', 'max_iter': 250, 'solver': 'adam', 'fitness': 0.708}, {'activation': 'logistic', 'hidden_layer_sizes': (132, 83, 14), 'learning_rate': 'constant', 'max_iter': 136, 'solver': 'lbfgs', 'fitness': 0.7075}, {'activation': 'relu', 'hidden_layer_sizes': (124, 65, 14), 'learning_rate': 'constant', 'max_iter': 250, 'solver': 'sgd', 'fitness': 0.707}, {'activation': 'logistic', 'hidden_layer_sizes': (124, 99, 31), 'learning_rate': 'invscaling', 'max_iter': 187, 'solver': 'lbfgs', 'fitness': 0.7065}, {'activation': 'relu', 'hidden_layer_sizes': (124, 99, 14), 'learning_rate': 'constant', 'max_iter': 250, 'solver': 'sgd', 'fitness': 0.706}, {'activation': 'relu', 'hidden_layer_sizes': (124, 71, 14), 'learning_rate': 'adaptive', 'max_iter': 250, 'solver': 'sgd', 'fitness': 0.7055}, {'activation': 'logistic', 'hidden_layer_sizes': (120, 99, 14), 'learning_rate': 'constant', 'max_iter': 136, 'solver': 'lbfgs', 'fitness': 0.705}, {'activation': 'relu', 'hidden_layer_sizes': (124, 65, 14), 'learning_rate': 'constant', 'max_iter': 250, 'solver': 'sgd', 'fitness': 0.705}, {'activation': 'logistic', 'hidden_layer_sizes': (120, 99, 41), 'learning_rate': 'constant', 'max_iter': 187, 'solver': 'lbfgs', 'fitness': 0.705}, {'activation': 'logistic', 'hidden_layer_sizes': (132, 83, 14), 'learning_rate': 'constant', 'max_iter': 237, 'solver': 'adam', 'fitness': 0.705}, {'activation': 'logistic', 'hidden_layer_sizes': (124, 83, 14), 'learning_rate': 'invscaling', 'max_iter': 136, 'solver': 'lbfgs', 'fitness': 0.705}, {'activation': 'logistic', 'hidden_layer_sizes': (124, 99, 31), 'learning_rate': 'invscaling', 'max_iter': 187, 'solver': 'lbfgs', 'fitness': 0.705}, {'activation': 'logistic', 'hidden_layer_sizes': (132, 83, 42), 'learning_rate': 'adaptive', 'max_iter': 250, 'solver': 'lbfgs', 'fitness': 0.7045}, {'activation': 'logistic', 'hidden_layer_sizes': (158, 65, 14), 'learning_rate': 'invscaling', 'max_iter': 250, 'solver': 'adam', 'fitness': 0.7045}, {'activation': 'logistic', 'hidden_layer_sizes': (124, 83, 14), 'learning_rate': 'constant', 'max_iter': 136, 'solver': 'lbfgs', 'fitness': 0.7045}, {'activation': 'logistic', 'hidden_layer_sizes': (158, 51, 31), 'learning_rate': 'adaptive', 'max_iter': 237, 'solver': 'adam', 'fitness': 0.704}, {'activation': 'logistic', 'hidden_layer_sizes': (120, 99, 14), 'learning_rate': 'constant', 'max_iter': 136, 'solver': 'lbfgs', 'fitness': 0.704}, {'activation': 'relu', 'hidden_layer_sizes': (124, 65, 14), 'learning_rate': 'constant', 'max_iter': 250, 'solver': 'sgd', 'fitness': 0.7035}, {'activation': 'logistic', 'hidden_layer_sizes': (124, 65, 14), 'learning_rate': 'constant', 'max_iter': 250, 'solver': 'adam', 'fitness': 0.7035}, {'activation': 'logistic', 'hidden_layer_sizes': (158, 65, 14), 'learning_rate': 'constant', 'max_iter': 192, 'solver': 'adam', 'fitness': 0.7035}, {'activation': 'logistic', 'hidden_layer_sizes': (158, 99, 14), 'learning_rate': 'constant', 'max_iter': 250, 'solver': 'lbfgs', 'fitness': 0.7035}, {'activation': 'logistic', 'hidden_layer_sizes': (120, 67, 41), 'learning_rate': 'adaptive', 'max_iter': 187, 'solver': 'lbfgs', 'fitness': 0.703}, {'activation': 'logistic', 'hidden_layer_sizes': (158, 51, 14), 'learning_rate': 'constant', 'max_iter': 192, 'solver': 'adam', 'fitness': 0.703}, {'activation': 'logistic', 'hidden_layer_sizes': (124, 83, 14), 'learning_rate': 'constant', 'max_iter': 136, 'solver': 'adam', 'fitness': 0.703}, {'activation': 'logistic', 'hidden_layer_sizes': (124, 51, 14), 'learning_rate': 'invscaling', 'max_iter': 187, 'solver': 'lbfgs', 'fitness': 0.703}, {'activation': 'logistic', 'solver': 'adam', 'learning_rate': 'constant', 'hidden_layer_sizes': (188, 99, 19), 'max_iter': 184, 'fitness': 0.7025}, {'activation': 'relu', 'hidden_layer_sizes': (132, 71, 14), 'learning_rate': 'constant', 'max_iter': 250, 'solver': 'sgd', 'fitness': 0.7025}, {'activation': 'logistic', 'hidden_layer_sizes': (158, 65, 14), 'learning_rate': 'invscaling', 'max_iter': 250, 'solver': 'adam', 'fitness': 0.7025}]\n",
            "generation: \n",
            "91\n"
          ],
          "name": "stdout"
        },
        {
          "output_type": "stream",
          "text": [
            "/usr/local/lib/python3.7/dist-packages/sklearn/neural_network/_multilayer_perceptron.py:571: ConvergenceWarning: Stochastic Optimizer: Maximum iterations (250) reached and the optimization hasn't converged yet.\n",
            "  % self.max_iter, ConvergenceWarning)\n",
            "/usr/local/lib/python3.7/dist-packages/sklearn/neural_network/_multilayer_perceptron.py:571: ConvergenceWarning: Stochastic Optimizer: Maximum iterations (237) reached and the optimization hasn't converged yet.\n",
            "  % self.max_iter, ConvergenceWarning)\n"
          ],
          "name": "stderr"
        },
        {
          "output_type": "stream",
          "text": [
            "[{'activation': 'logistic', 'solver': 'lbfgs', 'learning_rate': 'adaptive', 'hidden_layer_sizes': (118, 90, 31), 'max_iter': 237, 'fitness': 0.7085}, {'activation': 'logistic', 'hidden_layer_sizes': (124, 99, 14), 'learning_rate': 'invscaling', 'max_iter': 187, 'solver': 'lbfgs', 'fitness': 0.7085}, {'activation': 'logistic', 'hidden_layer_sizes': (158, 51, 14), 'learning_rate': 'constant', 'max_iter': 250, 'solver': 'adam', 'fitness': 0.708}, {'activation': 'logistic', 'hidden_layer_sizes': (132, 83, 14), 'learning_rate': 'constant', 'max_iter': 136, 'solver': 'lbfgs', 'fitness': 0.7075}, {'activation': 'relu', 'hidden_layer_sizes': (124, 65, 14), 'learning_rate': 'constant', 'max_iter': 250, 'solver': 'sgd', 'fitness': 0.707}, {'activation': 'logistic', 'hidden_layer_sizes': (124, 99, 31), 'learning_rate': 'invscaling', 'max_iter': 187, 'solver': 'lbfgs', 'fitness': 0.7065}, {'activation': 'relu', 'hidden_layer_sizes': (124, 99, 14), 'learning_rate': 'constant', 'max_iter': 250, 'solver': 'sgd', 'fitness': 0.706}, {'activation': 'relu', 'hidden_layer_sizes': (124, 71, 14), 'learning_rate': 'adaptive', 'max_iter': 250, 'solver': 'sgd', 'fitness': 0.7055}, {'activation': 'logistic', 'hidden_layer_sizes': (120, 99, 14), 'learning_rate': 'constant', 'max_iter': 136, 'solver': 'lbfgs', 'fitness': 0.705}, {'activation': 'relu', 'hidden_layer_sizes': (124, 65, 14), 'learning_rate': 'constant', 'max_iter': 250, 'solver': 'sgd', 'fitness': 0.705}, {'activation': 'logistic', 'hidden_layer_sizes': (120, 99, 41), 'learning_rate': 'constant', 'max_iter': 187, 'solver': 'lbfgs', 'fitness': 0.705}, {'activation': 'logistic', 'hidden_layer_sizes': (132, 83, 14), 'learning_rate': 'constant', 'max_iter': 237, 'solver': 'adam', 'fitness': 0.705}, {'activation': 'logistic', 'hidden_layer_sizes': (124, 83, 14), 'learning_rate': 'invscaling', 'max_iter': 136, 'solver': 'lbfgs', 'fitness': 0.705}, {'activation': 'logistic', 'hidden_layer_sizes': (124, 99, 31), 'learning_rate': 'invscaling', 'max_iter': 187, 'solver': 'lbfgs', 'fitness': 0.705}, {'activation': 'logistic', 'hidden_layer_sizes': (132, 83, 42), 'learning_rate': 'adaptive', 'max_iter': 250, 'solver': 'lbfgs', 'fitness': 0.7045}, {'activation': 'logistic', 'hidden_layer_sizes': (158, 65, 14), 'learning_rate': 'invscaling', 'max_iter': 250, 'solver': 'adam', 'fitness': 0.7045}, {'activation': 'logistic', 'hidden_layer_sizes': (124, 83, 14), 'learning_rate': 'constant', 'max_iter': 136, 'solver': 'lbfgs', 'fitness': 0.7045}, {'activation': 'logistic', 'hidden_layer_sizes': (158, 51, 31), 'learning_rate': 'adaptive', 'max_iter': 237, 'solver': 'adam', 'fitness': 0.704}, {'activation': 'logistic', 'hidden_layer_sizes': (120, 99, 14), 'learning_rate': 'constant', 'max_iter': 136, 'solver': 'lbfgs', 'fitness': 0.704}, {'activation': 'relu', 'hidden_layer_sizes': (124, 65, 14), 'learning_rate': 'constant', 'max_iter': 250, 'solver': 'sgd', 'fitness': 0.7035}, {'activation': 'logistic', 'hidden_layer_sizes': (124, 65, 14), 'learning_rate': 'constant', 'max_iter': 250, 'solver': 'adam', 'fitness': 0.7035}, {'activation': 'logistic', 'hidden_layer_sizes': (158, 65, 14), 'learning_rate': 'constant', 'max_iter': 192, 'solver': 'adam', 'fitness': 0.7035}, {'activation': 'logistic', 'hidden_layer_sizes': (158, 99, 14), 'learning_rate': 'constant', 'max_iter': 250, 'solver': 'lbfgs', 'fitness': 0.7035}, {'activation': 'logistic', 'hidden_layer_sizes': (120, 67, 41), 'learning_rate': 'adaptive', 'max_iter': 187, 'solver': 'lbfgs', 'fitness': 0.703}, {'activation': 'logistic', 'hidden_layer_sizes': (158, 51, 14), 'learning_rate': 'constant', 'max_iter': 192, 'solver': 'adam', 'fitness': 0.703}, {'activation': 'logistic', 'hidden_layer_sizes': (124, 83, 14), 'learning_rate': 'constant', 'max_iter': 136, 'solver': 'adam', 'fitness': 0.703}, {'activation': 'logistic', 'hidden_layer_sizes': (124, 51, 14), 'learning_rate': 'invscaling', 'max_iter': 187, 'solver': 'lbfgs', 'fitness': 0.703}, {'activation': 'logistic', 'hidden_layer_sizes': (158, 83, 14), 'learning_rate': 'constant', 'max_iter': 237, 'solver': 'adam', 'fitness': 0.703}, {'activation': 'logistic', 'solver': 'adam', 'learning_rate': 'constant', 'hidden_layer_sizes': (188, 99, 19), 'max_iter': 184, 'fitness': 0.7025}, {'activation': 'relu', 'hidden_layer_sizes': (132, 71, 14), 'learning_rate': 'constant', 'max_iter': 250, 'solver': 'sgd', 'fitness': 0.7025}]\n",
            "generation: \n",
            "92\n"
          ],
          "name": "stdout"
        },
        {
          "output_type": "stream",
          "text": [
            "/usr/local/lib/python3.7/dist-packages/sklearn/neural_network/_multilayer_perceptron.py:571: ConvergenceWarning: Stochastic Optimizer: Maximum iterations (237) reached and the optimization hasn't converged yet.\n",
            "  % self.max_iter, ConvergenceWarning)\n",
            "/usr/local/lib/python3.7/dist-packages/sklearn/neural_network/_multilayer_perceptron.py:571: ConvergenceWarning: Stochastic Optimizer: Maximum iterations (237) reached and the optimization hasn't converged yet.\n",
            "  % self.max_iter, ConvergenceWarning)\n"
          ],
          "name": "stderr"
        },
        {
          "output_type": "stream",
          "text": [
            "[{'activation': 'logistic', 'solver': 'lbfgs', 'learning_rate': 'adaptive', 'hidden_layer_sizes': (118, 90, 31), 'max_iter': 237, 'fitness': 0.7085}, {'activation': 'logistic', 'hidden_layer_sizes': (124, 99, 14), 'learning_rate': 'invscaling', 'max_iter': 187, 'solver': 'lbfgs', 'fitness': 0.7085}, {'activation': 'logistic', 'hidden_layer_sizes': (158, 51, 14), 'learning_rate': 'constant', 'max_iter': 250, 'solver': 'adam', 'fitness': 0.708}, {'activation': 'logistic', 'hidden_layer_sizes': (132, 83, 14), 'learning_rate': 'constant', 'max_iter': 136, 'solver': 'lbfgs', 'fitness': 0.7075}, {'activation': 'relu', 'hidden_layer_sizes': (124, 65, 14), 'learning_rate': 'constant', 'max_iter': 250, 'solver': 'sgd', 'fitness': 0.707}, {'activation': 'logistic', 'hidden_layer_sizes': (124, 99, 31), 'learning_rate': 'invscaling', 'max_iter': 187, 'solver': 'lbfgs', 'fitness': 0.7065}, {'activation': 'relu', 'hidden_layer_sizes': (124, 99, 14), 'learning_rate': 'constant', 'max_iter': 250, 'solver': 'sgd', 'fitness': 0.706}, {'activation': 'relu', 'hidden_layer_sizes': (124, 71, 14), 'learning_rate': 'adaptive', 'max_iter': 250, 'solver': 'sgd', 'fitness': 0.7055}, {'activation': 'logistic', 'hidden_layer_sizes': (120, 99, 14), 'learning_rate': 'constant', 'max_iter': 136, 'solver': 'lbfgs', 'fitness': 0.705}, {'activation': 'relu', 'hidden_layer_sizes': (124, 65, 14), 'learning_rate': 'constant', 'max_iter': 250, 'solver': 'sgd', 'fitness': 0.705}, {'activation': 'logistic', 'hidden_layer_sizes': (120, 99, 41), 'learning_rate': 'constant', 'max_iter': 187, 'solver': 'lbfgs', 'fitness': 0.705}, {'activation': 'logistic', 'hidden_layer_sizes': (132, 83, 14), 'learning_rate': 'constant', 'max_iter': 237, 'solver': 'adam', 'fitness': 0.705}, {'activation': 'logistic', 'hidden_layer_sizes': (124, 83, 14), 'learning_rate': 'invscaling', 'max_iter': 136, 'solver': 'lbfgs', 'fitness': 0.705}, {'activation': 'logistic', 'hidden_layer_sizes': (124, 99, 31), 'learning_rate': 'invscaling', 'max_iter': 187, 'solver': 'lbfgs', 'fitness': 0.705}, {'activation': 'logistic', 'hidden_layer_sizes': (132, 83, 42), 'learning_rate': 'adaptive', 'max_iter': 250, 'solver': 'lbfgs', 'fitness': 0.7045}, {'activation': 'logistic', 'hidden_layer_sizes': (158, 65, 14), 'learning_rate': 'invscaling', 'max_iter': 250, 'solver': 'adam', 'fitness': 0.7045}, {'activation': 'logistic', 'hidden_layer_sizes': (124, 83, 14), 'learning_rate': 'constant', 'max_iter': 136, 'solver': 'lbfgs', 'fitness': 0.7045}, {'activation': 'logistic', 'hidden_layer_sizes': (158, 51, 31), 'learning_rate': 'adaptive', 'max_iter': 237, 'solver': 'adam', 'fitness': 0.704}, {'activation': 'logistic', 'hidden_layer_sizes': (120, 99, 14), 'learning_rate': 'constant', 'max_iter': 136, 'solver': 'lbfgs', 'fitness': 0.704}, {'activation': 'relu', 'hidden_layer_sizes': (124, 65, 14), 'learning_rate': 'constant', 'max_iter': 250, 'solver': 'sgd', 'fitness': 0.7035}, {'activation': 'logistic', 'hidden_layer_sizes': (124, 65, 14), 'learning_rate': 'constant', 'max_iter': 250, 'solver': 'adam', 'fitness': 0.7035}, {'activation': 'logistic', 'hidden_layer_sizes': (158, 65, 14), 'learning_rate': 'constant', 'max_iter': 192, 'solver': 'adam', 'fitness': 0.7035}, {'activation': 'logistic', 'hidden_layer_sizes': (158, 99, 14), 'learning_rate': 'constant', 'max_iter': 250, 'solver': 'lbfgs', 'fitness': 0.7035}, {'activation': 'logistic', 'hidden_layer_sizes': (120, 67, 41), 'learning_rate': 'adaptive', 'max_iter': 187, 'solver': 'lbfgs', 'fitness': 0.703}, {'activation': 'logistic', 'hidden_layer_sizes': (158, 51, 14), 'learning_rate': 'constant', 'max_iter': 192, 'solver': 'adam', 'fitness': 0.703}, {'activation': 'logistic', 'hidden_layer_sizes': (124, 83, 14), 'learning_rate': 'constant', 'max_iter': 136, 'solver': 'adam', 'fitness': 0.703}, {'activation': 'logistic', 'hidden_layer_sizes': (124, 51, 14), 'learning_rate': 'invscaling', 'max_iter': 187, 'solver': 'lbfgs', 'fitness': 0.703}, {'activation': 'logistic', 'hidden_layer_sizes': (158, 83, 14), 'learning_rate': 'constant', 'max_iter': 237, 'solver': 'adam', 'fitness': 0.703}, {'activation': 'logistic', 'solver': 'adam', 'learning_rate': 'constant', 'hidden_layer_sizes': (188, 99, 19), 'max_iter': 184, 'fitness': 0.7025}, {'activation': 'relu', 'hidden_layer_sizes': (132, 71, 14), 'learning_rate': 'constant', 'max_iter': 250, 'solver': 'sgd', 'fitness': 0.7025}]\n",
            "generation: \n",
            "93\n"
          ],
          "name": "stdout"
        },
        {
          "output_type": "stream",
          "text": [
            "/usr/local/lib/python3.7/dist-packages/sklearn/neural_network/_multilayer_perceptron.py:571: ConvergenceWarning: Stochastic Optimizer: Maximum iterations (237) reached and the optimization hasn't converged yet.\n",
            "  % self.max_iter, ConvergenceWarning)\n",
            "/usr/local/lib/python3.7/dist-packages/sklearn/neural_network/_multilayer_perceptron.py:470: ConvergenceWarning: lbfgs failed to converge (status=1):\n",
            "STOP: TOTAL NO. of ITERATIONS REACHED LIMIT.\n",
            "\n",
            "Increase the number of iterations (max_iter) or scale the data as shown in:\n",
            "    https://scikit-learn.org/stable/modules/preprocessing.html\n",
            "  self.n_iter_ = _check_optimize_result(\"lbfgs\", opt_res, self.max_iter)\n"
          ],
          "name": "stderr"
        },
        {
          "output_type": "stream",
          "text": [
            "[{'activation': 'logistic', 'solver': 'lbfgs', 'learning_rate': 'adaptive', 'hidden_layer_sizes': (118, 90, 31), 'max_iter': 237, 'fitness': 0.7085}, {'activation': 'logistic', 'hidden_layer_sizes': (124, 99, 14), 'learning_rate': 'invscaling', 'max_iter': 187, 'solver': 'lbfgs', 'fitness': 0.7085}, {'activation': 'logistic', 'hidden_layer_sizes': (158, 51, 14), 'learning_rate': 'constant', 'max_iter': 250, 'solver': 'adam', 'fitness': 0.708}, {'activation': 'logistic', 'hidden_layer_sizes': (132, 83, 14), 'learning_rate': 'constant', 'max_iter': 136, 'solver': 'lbfgs', 'fitness': 0.7075}, {'activation': 'relu', 'hidden_layer_sizes': (124, 65, 14), 'learning_rate': 'constant', 'max_iter': 250, 'solver': 'sgd', 'fitness': 0.707}, {'activation': 'logistic', 'hidden_layer_sizes': (124, 99, 31), 'learning_rate': 'invscaling', 'max_iter': 187, 'solver': 'lbfgs', 'fitness': 0.7065}, {'activation': 'relu', 'hidden_layer_sizes': (124, 99, 14), 'learning_rate': 'constant', 'max_iter': 250, 'solver': 'sgd', 'fitness': 0.706}, {'activation': 'relu', 'hidden_layer_sizes': (124, 71, 14), 'learning_rate': 'adaptive', 'max_iter': 250, 'solver': 'sgd', 'fitness': 0.7055}, {'activation': 'logistic', 'hidden_layer_sizes': (120, 99, 14), 'learning_rate': 'constant', 'max_iter': 136, 'solver': 'lbfgs', 'fitness': 0.705}, {'activation': 'relu', 'hidden_layer_sizes': (124, 65, 14), 'learning_rate': 'constant', 'max_iter': 250, 'solver': 'sgd', 'fitness': 0.705}, {'activation': 'logistic', 'hidden_layer_sizes': (120, 99, 41), 'learning_rate': 'constant', 'max_iter': 187, 'solver': 'lbfgs', 'fitness': 0.705}, {'activation': 'logistic', 'hidden_layer_sizes': (132, 83, 14), 'learning_rate': 'constant', 'max_iter': 237, 'solver': 'adam', 'fitness': 0.705}, {'activation': 'logistic', 'hidden_layer_sizes': (124, 83, 14), 'learning_rate': 'invscaling', 'max_iter': 136, 'solver': 'lbfgs', 'fitness': 0.705}, {'activation': 'logistic', 'hidden_layer_sizes': (124, 99, 31), 'learning_rate': 'invscaling', 'max_iter': 187, 'solver': 'lbfgs', 'fitness': 0.705}, {'activation': 'logistic', 'hidden_layer_sizes': (132, 83, 42), 'learning_rate': 'adaptive', 'max_iter': 250, 'solver': 'lbfgs', 'fitness': 0.7045}, {'activation': 'logistic', 'hidden_layer_sizes': (158, 65, 14), 'learning_rate': 'invscaling', 'max_iter': 250, 'solver': 'adam', 'fitness': 0.7045}, {'activation': 'logistic', 'hidden_layer_sizes': (124, 83, 14), 'learning_rate': 'constant', 'max_iter': 136, 'solver': 'lbfgs', 'fitness': 0.7045}, {'activation': 'logistic', 'hidden_layer_sizes': (158, 51, 31), 'learning_rate': 'adaptive', 'max_iter': 237, 'solver': 'adam', 'fitness': 0.704}, {'activation': 'logistic', 'hidden_layer_sizes': (120, 99, 14), 'learning_rate': 'constant', 'max_iter': 136, 'solver': 'lbfgs', 'fitness': 0.704}, {'activation': 'relu', 'hidden_layer_sizes': (124, 65, 14), 'learning_rate': 'constant', 'max_iter': 250, 'solver': 'sgd', 'fitness': 0.7035}, {'activation': 'logistic', 'hidden_layer_sizes': (124, 65, 14), 'learning_rate': 'constant', 'max_iter': 250, 'solver': 'adam', 'fitness': 0.7035}, {'activation': 'logistic', 'hidden_layer_sizes': (158, 65, 14), 'learning_rate': 'constant', 'max_iter': 192, 'solver': 'adam', 'fitness': 0.7035}, {'activation': 'logistic', 'hidden_layer_sizes': (158, 99, 14), 'learning_rate': 'constant', 'max_iter': 250, 'solver': 'lbfgs', 'fitness': 0.7035}, {'activation': 'logistic', 'hidden_layer_sizes': (120, 67, 41), 'learning_rate': 'adaptive', 'max_iter': 187, 'solver': 'lbfgs', 'fitness': 0.703}, {'activation': 'logistic', 'hidden_layer_sizes': (158, 51, 14), 'learning_rate': 'constant', 'max_iter': 192, 'solver': 'adam', 'fitness': 0.703}, {'activation': 'logistic', 'hidden_layer_sizes': (124, 83, 14), 'learning_rate': 'constant', 'max_iter': 136, 'solver': 'adam', 'fitness': 0.703}, {'activation': 'logistic', 'hidden_layer_sizes': (124, 51, 14), 'learning_rate': 'invscaling', 'max_iter': 187, 'solver': 'lbfgs', 'fitness': 0.703}, {'activation': 'logistic', 'hidden_layer_sizes': (158, 83, 14), 'learning_rate': 'constant', 'max_iter': 237, 'solver': 'adam', 'fitness': 0.703}, {'activation': 'logistic', 'solver': 'adam', 'learning_rate': 'constant', 'hidden_layer_sizes': (188, 99, 19), 'max_iter': 184, 'fitness': 0.7025}, {'activation': 'relu', 'hidden_layer_sizes': (132, 71, 14), 'learning_rate': 'constant', 'max_iter': 250, 'solver': 'sgd', 'fitness': 0.7025}]\n",
            "generation: \n",
            "94\n"
          ],
          "name": "stdout"
        },
        {
          "output_type": "stream",
          "text": [
            "/usr/local/lib/python3.7/dist-packages/sklearn/neural_network/_multilayer_perceptron.py:571: ConvergenceWarning: Stochastic Optimizer: Maximum iterations (250) reached and the optimization hasn't converged yet.\n",
            "  % self.max_iter, ConvergenceWarning)\n",
            "/usr/local/lib/python3.7/dist-packages/sklearn/neural_network/_multilayer_perceptron.py:470: ConvergenceWarning: lbfgs failed to converge (status=1):\n",
            "STOP: TOTAL NO. of ITERATIONS REACHED LIMIT.\n",
            "\n",
            "Increase the number of iterations (max_iter) or scale the data as shown in:\n",
            "    https://scikit-learn.org/stable/modules/preprocessing.html\n",
            "  self.n_iter_ = _check_optimize_result(\"lbfgs\", opt_res, self.max_iter)\n"
          ],
          "name": "stderr"
        },
        {
          "output_type": "stream",
          "text": [
            "[{'activation': 'logistic', 'solver': 'lbfgs', 'learning_rate': 'adaptive', 'hidden_layer_sizes': (118, 90, 31), 'max_iter': 237, 'fitness': 0.7085}, {'activation': 'logistic', 'hidden_layer_sizes': (124, 99, 14), 'learning_rate': 'invscaling', 'max_iter': 187, 'solver': 'lbfgs', 'fitness': 0.7085}, {'activation': 'logistic', 'hidden_layer_sizes': (158, 51, 14), 'learning_rate': 'constant', 'max_iter': 250, 'solver': 'adam', 'fitness': 0.708}, {'activation': 'logistic', 'hidden_layer_sizes': (132, 83, 14), 'learning_rate': 'constant', 'max_iter': 136, 'solver': 'lbfgs', 'fitness': 0.7075}, {'activation': 'relu', 'hidden_layer_sizes': (124, 65, 14), 'learning_rate': 'constant', 'max_iter': 250, 'solver': 'sgd', 'fitness': 0.707}, {'activation': 'logistic', 'hidden_layer_sizes': (124, 99, 31), 'learning_rate': 'invscaling', 'max_iter': 187, 'solver': 'lbfgs', 'fitness': 0.7065}, {'activation': 'relu', 'hidden_layer_sizes': (124, 99, 14), 'learning_rate': 'constant', 'max_iter': 250, 'solver': 'sgd', 'fitness': 0.706}, {'activation': 'relu', 'hidden_layer_sizes': (124, 71, 14), 'learning_rate': 'adaptive', 'max_iter': 250, 'solver': 'sgd', 'fitness': 0.7055}, {'activation': 'logistic', 'hidden_layer_sizes': (120, 99, 14), 'learning_rate': 'constant', 'max_iter': 136, 'solver': 'lbfgs', 'fitness': 0.705}, {'activation': 'relu', 'hidden_layer_sizes': (124, 65, 14), 'learning_rate': 'constant', 'max_iter': 250, 'solver': 'sgd', 'fitness': 0.705}, {'activation': 'logistic', 'hidden_layer_sizes': (120, 99, 41), 'learning_rate': 'constant', 'max_iter': 187, 'solver': 'lbfgs', 'fitness': 0.705}, {'activation': 'logistic', 'hidden_layer_sizes': (132, 83, 14), 'learning_rate': 'constant', 'max_iter': 237, 'solver': 'adam', 'fitness': 0.705}, {'activation': 'logistic', 'hidden_layer_sizes': (124, 83, 14), 'learning_rate': 'invscaling', 'max_iter': 136, 'solver': 'lbfgs', 'fitness': 0.705}, {'activation': 'logistic', 'hidden_layer_sizes': (124, 99, 31), 'learning_rate': 'invscaling', 'max_iter': 187, 'solver': 'lbfgs', 'fitness': 0.705}, {'activation': 'logistic', 'hidden_layer_sizes': (132, 83, 42), 'learning_rate': 'adaptive', 'max_iter': 250, 'solver': 'lbfgs', 'fitness': 0.7045}, {'activation': 'logistic', 'hidden_layer_sizes': (158, 65, 14), 'learning_rate': 'invscaling', 'max_iter': 250, 'solver': 'adam', 'fitness': 0.7045}, {'activation': 'logistic', 'hidden_layer_sizes': (124, 83, 14), 'learning_rate': 'constant', 'max_iter': 136, 'solver': 'lbfgs', 'fitness': 0.7045}, {'activation': 'logistic', 'hidden_layer_sizes': (158, 51, 31), 'learning_rate': 'adaptive', 'max_iter': 237, 'solver': 'adam', 'fitness': 0.704}, {'activation': 'logistic', 'hidden_layer_sizes': (120, 99, 14), 'learning_rate': 'constant', 'max_iter': 136, 'solver': 'lbfgs', 'fitness': 0.704}, {'activation': 'relu', 'hidden_layer_sizes': (124, 65, 14), 'learning_rate': 'constant', 'max_iter': 250, 'solver': 'sgd', 'fitness': 0.7035}, {'activation': 'logistic', 'hidden_layer_sizes': (124, 65, 14), 'learning_rate': 'constant', 'max_iter': 250, 'solver': 'adam', 'fitness': 0.7035}, {'activation': 'logistic', 'hidden_layer_sizes': (158, 65, 14), 'learning_rate': 'constant', 'max_iter': 192, 'solver': 'adam', 'fitness': 0.7035}, {'activation': 'logistic', 'hidden_layer_sizes': (158, 99, 14), 'learning_rate': 'constant', 'max_iter': 250, 'solver': 'lbfgs', 'fitness': 0.7035}, {'activation': 'logistic', 'hidden_layer_sizes': (120, 67, 41), 'learning_rate': 'adaptive', 'max_iter': 187, 'solver': 'lbfgs', 'fitness': 0.703}, {'activation': 'logistic', 'hidden_layer_sizes': (158, 51, 14), 'learning_rate': 'constant', 'max_iter': 192, 'solver': 'adam', 'fitness': 0.703}, {'activation': 'logistic', 'hidden_layer_sizes': (124, 83, 14), 'learning_rate': 'constant', 'max_iter': 136, 'solver': 'adam', 'fitness': 0.703}, {'activation': 'logistic', 'hidden_layer_sizes': (124, 51, 14), 'learning_rate': 'invscaling', 'max_iter': 187, 'solver': 'lbfgs', 'fitness': 0.703}, {'activation': 'logistic', 'hidden_layer_sizes': (158, 83, 14), 'learning_rate': 'constant', 'max_iter': 237, 'solver': 'adam', 'fitness': 0.703}, {'activation': 'relu', 'hidden_layer_sizes': (124, 99, 14), 'learning_rate': 'constant', 'max_iter': 250, 'solver': 'sgd', 'fitness': 0.703}, {'activation': 'logistic', 'solver': 'adam', 'learning_rate': 'constant', 'hidden_layer_sizes': (188, 99, 19), 'max_iter': 184, 'fitness': 0.7025}]\n",
            "generation: \n",
            "95\n"
          ],
          "name": "stdout"
        },
        {
          "output_type": "stream",
          "text": [
            "/usr/local/lib/python3.7/dist-packages/sklearn/neural_network/_multilayer_perceptron.py:470: ConvergenceWarning: lbfgs failed to converge (status=1):\n",
            "STOP: TOTAL NO. of ITERATIONS REACHED LIMIT.\n",
            "\n",
            "Increase the number of iterations (max_iter) or scale the data as shown in:\n",
            "    https://scikit-learn.org/stable/modules/preprocessing.html\n",
            "  self.n_iter_ = _check_optimize_result(\"lbfgs\", opt_res, self.max_iter)\n",
            "/usr/local/lib/python3.7/dist-packages/sklearn/neural_network/_multilayer_perceptron.py:571: ConvergenceWarning: Stochastic Optimizer: Maximum iterations (250) reached and the optimization hasn't converged yet.\n",
            "  % self.max_iter, ConvergenceWarning)\n"
          ],
          "name": "stderr"
        },
        {
          "output_type": "stream",
          "text": [
            "[{'activation': 'logistic', 'solver': 'lbfgs', 'learning_rate': 'adaptive', 'hidden_layer_sizes': (118, 90, 31), 'max_iter': 237, 'fitness': 0.7085}, {'activation': 'logistic', 'hidden_layer_sizes': (124, 99, 14), 'learning_rate': 'invscaling', 'max_iter': 187, 'solver': 'lbfgs', 'fitness': 0.7085}, {'activation': 'logistic', 'hidden_layer_sizes': (158, 51, 14), 'learning_rate': 'constant', 'max_iter': 250, 'solver': 'adam', 'fitness': 0.708}, {'activation': 'logistic', 'hidden_layer_sizes': (132, 83, 14), 'learning_rate': 'constant', 'max_iter': 136, 'solver': 'lbfgs', 'fitness': 0.7075}, {'activation': 'relu', 'hidden_layer_sizes': (124, 65, 14), 'learning_rate': 'constant', 'max_iter': 250, 'solver': 'sgd', 'fitness': 0.707}, {'activation': 'logistic', 'hidden_layer_sizes': (124, 99, 31), 'learning_rate': 'invscaling', 'max_iter': 187, 'solver': 'lbfgs', 'fitness': 0.7065}, {'activation': 'relu', 'hidden_layer_sizes': (124, 99, 14), 'learning_rate': 'constant', 'max_iter': 250, 'solver': 'sgd', 'fitness': 0.706}, {'activation': 'relu', 'hidden_layer_sizes': (124, 71, 14), 'learning_rate': 'adaptive', 'max_iter': 250, 'solver': 'sgd', 'fitness': 0.7055}, {'activation': 'logistic', 'hidden_layer_sizes': (120, 99, 14), 'learning_rate': 'constant', 'max_iter': 136, 'solver': 'lbfgs', 'fitness': 0.705}, {'activation': 'relu', 'hidden_layer_sizes': (124, 65, 14), 'learning_rate': 'constant', 'max_iter': 250, 'solver': 'sgd', 'fitness': 0.705}, {'activation': 'logistic', 'hidden_layer_sizes': (120, 99, 41), 'learning_rate': 'constant', 'max_iter': 187, 'solver': 'lbfgs', 'fitness': 0.705}, {'activation': 'logistic', 'hidden_layer_sizes': (132, 83, 14), 'learning_rate': 'constant', 'max_iter': 237, 'solver': 'adam', 'fitness': 0.705}, {'activation': 'logistic', 'hidden_layer_sizes': (124, 83, 14), 'learning_rate': 'invscaling', 'max_iter': 136, 'solver': 'lbfgs', 'fitness': 0.705}, {'activation': 'logistic', 'hidden_layer_sizes': (124, 99, 31), 'learning_rate': 'invscaling', 'max_iter': 187, 'solver': 'lbfgs', 'fitness': 0.705}, {'activation': 'logistic', 'hidden_layer_sizes': (132, 83, 42), 'learning_rate': 'adaptive', 'max_iter': 250, 'solver': 'lbfgs', 'fitness': 0.7045}, {'activation': 'logistic', 'hidden_layer_sizes': (158, 65, 14), 'learning_rate': 'invscaling', 'max_iter': 250, 'solver': 'adam', 'fitness': 0.7045}, {'activation': 'logistic', 'hidden_layer_sizes': (124, 83, 14), 'learning_rate': 'constant', 'max_iter': 136, 'solver': 'lbfgs', 'fitness': 0.7045}, {'activation': 'logistic', 'hidden_layer_sizes': (158, 51, 31), 'learning_rate': 'adaptive', 'max_iter': 237, 'solver': 'adam', 'fitness': 0.704}, {'activation': 'logistic', 'hidden_layer_sizes': (120, 99, 14), 'learning_rate': 'constant', 'max_iter': 136, 'solver': 'lbfgs', 'fitness': 0.704}, {'activation': 'logistic', 'hidden_layer_sizes': (158, 83, 14), 'learning_rate': 'constant', 'max_iter': 250, 'solver': 'adam', 'fitness': 0.704}, {'activation': 'relu', 'hidden_layer_sizes': (124, 65, 14), 'learning_rate': 'constant', 'max_iter': 250, 'solver': 'sgd', 'fitness': 0.7035}, {'activation': 'logistic', 'hidden_layer_sizes': (124, 65, 14), 'learning_rate': 'constant', 'max_iter': 250, 'solver': 'adam', 'fitness': 0.7035}, {'activation': 'logistic', 'hidden_layer_sizes': (158, 65, 14), 'learning_rate': 'constant', 'max_iter': 192, 'solver': 'adam', 'fitness': 0.7035}, {'activation': 'logistic', 'hidden_layer_sizes': (158, 99, 14), 'learning_rate': 'constant', 'max_iter': 250, 'solver': 'lbfgs', 'fitness': 0.7035}, {'activation': 'logistic', 'hidden_layer_sizes': (120, 67, 41), 'learning_rate': 'adaptive', 'max_iter': 187, 'solver': 'lbfgs', 'fitness': 0.703}, {'activation': 'logistic', 'hidden_layer_sizes': (158, 51, 14), 'learning_rate': 'constant', 'max_iter': 192, 'solver': 'adam', 'fitness': 0.703}, {'activation': 'logistic', 'hidden_layer_sizes': (124, 83, 14), 'learning_rate': 'constant', 'max_iter': 136, 'solver': 'adam', 'fitness': 0.703}, {'activation': 'logistic', 'hidden_layer_sizes': (124, 51, 14), 'learning_rate': 'invscaling', 'max_iter': 187, 'solver': 'lbfgs', 'fitness': 0.703}, {'activation': 'logistic', 'hidden_layer_sizes': (158, 83, 14), 'learning_rate': 'constant', 'max_iter': 237, 'solver': 'adam', 'fitness': 0.703}, {'activation': 'relu', 'hidden_layer_sizes': (124, 99, 14), 'learning_rate': 'constant', 'max_iter': 250, 'solver': 'sgd', 'fitness': 0.703}]\n",
            "generation: \n",
            "96\n"
          ],
          "name": "stdout"
        },
        {
          "output_type": "stream",
          "text": [
            "/usr/local/lib/python3.7/dist-packages/sklearn/neural_network/_multilayer_perceptron.py:470: ConvergenceWarning: lbfgs failed to converge (status=1):\n",
            "STOP: TOTAL NO. of ITERATIONS REACHED LIMIT.\n",
            "\n",
            "Increase the number of iterations (max_iter) or scale the data as shown in:\n",
            "    https://scikit-learn.org/stable/modules/preprocessing.html\n",
            "  self.n_iter_ = _check_optimize_result(\"lbfgs\", opt_res, self.max_iter)\n"
          ],
          "name": "stderr"
        },
        {
          "output_type": "stream",
          "text": [
            "[{'activation': 'logistic', 'hidden_layer_sizes': (120, 99, 31), 'learning_rate': 'invscaling', 'max_iter': 187, 'solver': 'lbfgs', 'fitness': 0.7125}, {'activation': 'logistic', 'solver': 'lbfgs', 'learning_rate': 'adaptive', 'hidden_layer_sizes': (118, 90, 31), 'max_iter': 237, 'fitness': 0.7085}, {'activation': 'logistic', 'hidden_layer_sizes': (124, 99, 14), 'learning_rate': 'invscaling', 'max_iter': 187, 'solver': 'lbfgs', 'fitness': 0.7085}, {'activation': 'logistic', 'hidden_layer_sizes': (158, 51, 14), 'learning_rate': 'constant', 'max_iter': 250, 'solver': 'adam', 'fitness': 0.708}, {'activation': 'logistic', 'hidden_layer_sizes': (132, 83, 14), 'learning_rate': 'constant', 'max_iter': 136, 'solver': 'lbfgs', 'fitness': 0.7075}, {'activation': 'relu', 'hidden_layer_sizes': (124, 65, 14), 'learning_rate': 'constant', 'max_iter': 250, 'solver': 'sgd', 'fitness': 0.707}, {'activation': 'logistic', 'hidden_layer_sizes': (124, 99, 31), 'learning_rate': 'invscaling', 'max_iter': 187, 'solver': 'lbfgs', 'fitness': 0.7065}, {'activation': 'relu', 'hidden_layer_sizes': (124, 99, 14), 'learning_rate': 'constant', 'max_iter': 250, 'solver': 'sgd', 'fitness': 0.706}, {'activation': 'relu', 'hidden_layer_sizes': (124, 71, 14), 'learning_rate': 'adaptive', 'max_iter': 250, 'solver': 'sgd', 'fitness': 0.7055}, {'activation': 'logistic', 'hidden_layer_sizes': (120, 99, 14), 'learning_rate': 'constant', 'max_iter': 136, 'solver': 'lbfgs', 'fitness': 0.705}, {'activation': 'relu', 'hidden_layer_sizes': (124, 65, 14), 'learning_rate': 'constant', 'max_iter': 250, 'solver': 'sgd', 'fitness': 0.705}, {'activation': 'logistic', 'hidden_layer_sizes': (120, 99, 41), 'learning_rate': 'constant', 'max_iter': 187, 'solver': 'lbfgs', 'fitness': 0.705}, {'activation': 'logistic', 'hidden_layer_sizes': (132, 83, 14), 'learning_rate': 'constant', 'max_iter': 237, 'solver': 'adam', 'fitness': 0.705}, {'activation': 'logistic', 'hidden_layer_sizes': (124, 83, 14), 'learning_rate': 'invscaling', 'max_iter': 136, 'solver': 'lbfgs', 'fitness': 0.705}, {'activation': 'logistic', 'hidden_layer_sizes': (124, 99, 31), 'learning_rate': 'invscaling', 'max_iter': 187, 'solver': 'lbfgs', 'fitness': 0.705}, {'activation': 'logistic', 'hidden_layer_sizes': (132, 83, 42), 'learning_rate': 'adaptive', 'max_iter': 250, 'solver': 'lbfgs', 'fitness': 0.7045}, {'activation': 'logistic', 'hidden_layer_sizes': (158, 65, 14), 'learning_rate': 'invscaling', 'max_iter': 250, 'solver': 'adam', 'fitness': 0.7045}, {'activation': 'logistic', 'hidden_layer_sizes': (124, 83, 14), 'learning_rate': 'constant', 'max_iter': 136, 'solver': 'lbfgs', 'fitness': 0.7045}, {'activation': 'logistic', 'hidden_layer_sizes': (158, 51, 31), 'learning_rate': 'adaptive', 'max_iter': 237, 'solver': 'adam', 'fitness': 0.704}, {'activation': 'logistic', 'hidden_layer_sizes': (120, 99, 14), 'learning_rate': 'constant', 'max_iter': 136, 'solver': 'lbfgs', 'fitness': 0.704}, {'activation': 'logistic', 'hidden_layer_sizes': (158, 83, 14), 'learning_rate': 'constant', 'max_iter': 250, 'solver': 'adam', 'fitness': 0.704}, {'activation': 'relu', 'hidden_layer_sizes': (124, 65, 14), 'learning_rate': 'constant', 'max_iter': 250, 'solver': 'sgd', 'fitness': 0.7035}, {'activation': 'logistic', 'hidden_layer_sizes': (124, 65, 14), 'learning_rate': 'constant', 'max_iter': 250, 'solver': 'adam', 'fitness': 0.7035}, {'activation': 'logistic', 'hidden_layer_sizes': (158, 65, 14), 'learning_rate': 'constant', 'max_iter': 192, 'solver': 'adam', 'fitness': 0.7035}, {'activation': 'logistic', 'hidden_layer_sizes': (158, 99, 14), 'learning_rate': 'constant', 'max_iter': 250, 'solver': 'lbfgs', 'fitness': 0.7035}, {'activation': 'logistic', 'hidden_layer_sizes': (120, 67, 41), 'learning_rate': 'adaptive', 'max_iter': 187, 'solver': 'lbfgs', 'fitness': 0.703}, {'activation': 'logistic', 'hidden_layer_sizes': (158, 51, 14), 'learning_rate': 'constant', 'max_iter': 192, 'solver': 'adam', 'fitness': 0.703}, {'activation': 'logistic', 'hidden_layer_sizes': (124, 83, 14), 'learning_rate': 'constant', 'max_iter': 136, 'solver': 'adam', 'fitness': 0.703}, {'activation': 'logistic', 'hidden_layer_sizes': (124, 51, 14), 'learning_rate': 'invscaling', 'max_iter': 187, 'solver': 'lbfgs', 'fitness': 0.703}, {'activation': 'logistic', 'hidden_layer_sizes': (158, 83, 14), 'learning_rate': 'constant', 'max_iter': 237, 'solver': 'adam', 'fitness': 0.703}]\n",
            "generation: \n",
            "97\n"
          ],
          "name": "stdout"
        },
        {
          "output_type": "stream",
          "text": [
            "/usr/local/lib/python3.7/dist-packages/sklearn/neural_network/_multilayer_perceptron.py:470: ConvergenceWarning: lbfgs failed to converge (status=1):\n",
            "STOP: TOTAL NO. of ITERATIONS REACHED LIMIT.\n",
            "\n",
            "Increase the number of iterations (max_iter) or scale the data as shown in:\n",
            "    https://scikit-learn.org/stable/modules/preprocessing.html\n",
            "  self.n_iter_ = _check_optimize_result(\"lbfgs\", opt_res, self.max_iter)\n"
          ],
          "name": "stderr"
        },
        {
          "output_type": "stream",
          "text": [
            "[{'activation': 'logistic', 'hidden_layer_sizes': (120, 99, 31), 'learning_rate': 'invscaling', 'max_iter': 187, 'solver': 'lbfgs', 'fitness': 0.7125}, {'activation': 'logistic', 'solver': 'lbfgs', 'learning_rate': 'adaptive', 'hidden_layer_sizes': (118, 90, 31), 'max_iter': 237, 'fitness': 0.7085}, {'activation': 'logistic', 'hidden_layer_sizes': (124, 99, 14), 'learning_rate': 'invscaling', 'max_iter': 187, 'solver': 'lbfgs', 'fitness': 0.7085}, {'activation': 'logistic', 'hidden_layer_sizes': (158, 51, 14), 'learning_rate': 'constant', 'max_iter': 250, 'solver': 'adam', 'fitness': 0.708}, {'activation': 'logistic', 'hidden_layer_sizes': (132, 83, 14), 'learning_rate': 'constant', 'max_iter': 136, 'solver': 'lbfgs', 'fitness': 0.7075}, {'activation': 'relu', 'hidden_layer_sizes': (124, 65, 14), 'learning_rate': 'constant', 'max_iter': 250, 'solver': 'sgd', 'fitness': 0.707}, {'activation': 'logistic', 'hidden_layer_sizes': (124, 99, 31), 'learning_rate': 'invscaling', 'max_iter': 187, 'solver': 'lbfgs', 'fitness': 0.7065}, {'activation': 'relu', 'hidden_layer_sizes': (124, 99, 14), 'learning_rate': 'constant', 'max_iter': 250, 'solver': 'sgd', 'fitness': 0.706}, {'activation': 'relu', 'hidden_layer_sizes': (124, 71, 14), 'learning_rate': 'adaptive', 'max_iter': 250, 'solver': 'sgd', 'fitness': 0.7055}, {'activation': 'logistic', 'hidden_layer_sizes': (120, 99, 14), 'learning_rate': 'constant', 'max_iter': 136, 'solver': 'lbfgs', 'fitness': 0.705}, {'activation': 'relu', 'hidden_layer_sizes': (124, 65, 14), 'learning_rate': 'constant', 'max_iter': 250, 'solver': 'sgd', 'fitness': 0.705}, {'activation': 'logistic', 'hidden_layer_sizes': (120, 99, 41), 'learning_rate': 'constant', 'max_iter': 187, 'solver': 'lbfgs', 'fitness': 0.705}, {'activation': 'logistic', 'hidden_layer_sizes': (132, 83, 14), 'learning_rate': 'constant', 'max_iter': 237, 'solver': 'adam', 'fitness': 0.705}, {'activation': 'logistic', 'hidden_layer_sizes': (124, 83, 14), 'learning_rate': 'invscaling', 'max_iter': 136, 'solver': 'lbfgs', 'fitness': 0.705}, {'activation': 'logistic', 'hidden_layer_sizes': (124, 99, 31), 'learning_rate': 'invscaling', 'max_iter': 187, 'solver': 'lbfgs', 'fitness': 0.705}, {'activation': 'logistic', 'hidden_layer_sizes': (132, 83, 42), 'learning_rate': 'adaptive', 'max_iter': 250, 'solver': 'lbfgs', 'fitness': 0.7045}, {'activation': 'logistic', 'hidden_layer_sizes': (158, 65, 14), 'learning_rate': 'invscaling', 'max_iter': 250, 'solver': 'adam', 'fitness': 0.7045}, {'activation': 'logistic', 'hidden_layer_sizes': (124, 83, 14), 'learning_rate': 'constant', 'max_iter': 136, 'solver': 'lbfgs', 'fitness': 0.7045}, {'activation': 'logistic', 'hidden_layer_sizes': (158, 51, 31), 'learning_rate': 'adaptive', 'max_iter': 237, 'solver': 'adam', 'fitness': 0.704}, {'activation': 'logistic', 'hidden_layer_sizes': (120, 99, 14), 'learning_rate': 'constant', 'max_iter': 136, 'solver': 'lbfgs', 'fitness': 0.704}, {'activation': 'logistic', 'hidden_layer_sizes': (158, 83, 14), 'learning_rate': 'constant', 'max_iter': 250, 'solver': 'adam', 'fitness': 0.704}, {'activation': 'relu', 'hidden_layer_sizes': (124, 65, 14), 'learning_rate': 'constant', 'max_iter': 250, 'solver': 'sgd', 'fitness': 0.7035}, {'activation': 'logistic', 'hidden_layer_sizes': (124, 65, 14), 'learning_rate': 'constant', 'max_iter': 250, 'solver': 'adam', 'fitness': 0.7035}, {'activation': 'logistic', 'hidden_layer_sizes': (158, 65, 14), 'learning_rate': 'constant', 'max_iter': 192, 'solver': 'adam', 'fitness': 0.7035}, {'activation': 'logistic', 'hidden_layer_sizes': (158, 99, 14), 'learning_rate': 'constant', 'max_iter': 250, 'solver': 'lbfgs', 'fitness': 0.7035}, {'activation': 'logistic', 'hidden_layer_sizes': (120, 67, 41), 'learning_rate': 'adaptive', 'max_iter': 187, 'solver': 'lbfgs', 'fitness': 0.703}, {'activation': 'logistic', 'hidden_layer_sizes': (158, 51, 14), 'learning_rate': 'constant', 'max_iter': 192, 'solver': 'adam', 'fitness': 0.703}, {'activation': 'logistic', 'hidden_layer_sizes': (124, 83, 14), 'learning_rate': 'constant', 'max_iter': 136, 'solver': 'adam', 'fitness': 0.703}, {'activation': 'logistic', 'hidden_layer_sizes': (124, 51, 14), 'learning_rate': 'invscaling', 'max_iter': 187, 'solver': 'lbfgs', 'fitness': 0.703}, {'activation': 'logistic', 'hidden_layer_sizes': (158, 83, 14), 'learning_rate': 'constant', 'max_iter': 237, 'solver': 'adam', 'fitness': 0.703}]\n",
            "generation: \n",
            "98\n"
          ],
          "name": "stdout"
        },
        {
          "output_type": "stream",
          "text": [
            "/usr/local/lib/python3.7/dist-packages/sklearn/neural_network/_multilayer_perceptron.py:571: ConvergenceWarning: Stochastic Optimizer: Maximum iterations (187) reached and the optimization hasn't converged yet.\n",
            "  % self.max_iter, ConvergenceWarning)\n",
            "/usr/local/lib/python3.7/dist-packages/sklearn/neural_network/_multilayer_perceptron.py:470: ConvergenceWarning: lbfgs failed to converge (status=1):\n",
            "STOP: TOTAL NO. of ITERATIONS REACHED LIMIT.\n",
            "\n",
            "Increase the number of iterations (max_iter) or scale the data as shown in:\n",
            "    https://scikit-learn.org/stable/modules/preprocessing.html\n",
            "  self.n_iter_ = _check_optimize_result(\"lbfgs\", opt_res, self.max_iter)\n"
          ],
          "name": "stderr"
        },
        {
          "output_type": "stream",
          "text": [
            "[{'activation': 'logistic', 'hidden_layer_sizes': (120, 99, 31), 'learning_rate': 'invscaling', 'max_iter': 187, 'solver': 'lbfgs', 'fitness': 0.7125}, {'activation': 'logistic', 'solver': 'lbfgs', 'learning_rate': 'adaptive', 'hidden_layer_sizes': (118, 90, 31), 'max_iter': 237, 'fitness': 0.7085}, {'activation': 'logistic', 'hidden_layer_sizes': (124, 99, 14), 'learning_rate': 'invscaling', 'max_iter': 187, 'solver': 'lbfgs', 'fitness': 0.7085}, {'activation': 'logistic', 'hidden_layer_sizes': (158, 51, 14), 'learning_rate': 'constant', 'max_iter': 250, 'solver': 'adam', 'fitness': 0.708}, {'activation': 'logistic', 'hidden_layer_sizes': (132, 83, 14), 'learning_rate': 'constant', 'max_iter': 136, 'solver': 'lbfgs', 'fitness': 0.7075}, {'activation': 'relu', 'hidden_layer_sizes': (124, 65, 14), 'learning_rate': 'constant', 'max_iter': 250, 'solver': 'sgd', 'fitness': 0.707}, {'activation': 'logistic', 'hidden_layer_sizes': (124, 99, 31), 'learning_rate': 'invscaling', 'max_iter': 187, 'solver': 'lbfgs', 'fitness': 0.7065}, {'activation': 'relu', 'hidden_layer_sizes': (124, 99, 14), 'learning_rate': 'constant', 'max_iter': 250, 'solver': 'sgd', 'fitness': 0.706}, {'activation': 'relu', 'hidden_layer_sizes': (124, 71, 14), 'learning_rate': 'adaptive', 'max_iter': 250, 'solver': 'sgd', 'fitness': 0.7055}, {'activation': 'logistic', 'hidden_layer_sizes': (120, 99, 14), 'learning_rate': 'constant', 'max_iter': 136, 'solver': 'lbfgs', 'fitness': 0.705}, {'activation': 'relu', 'hidden_layer_sizes': (124, 65, 14), 'learning_rate': 'constant', 'max_iter': 250, 'solver': 'sgd', 'fitness': 0.705}, {'activation': 'logistic', 'hidden_layer_sizes': (120, 99, 41), 'learning_rate': 'constant', 'max_iter': 187, 'solver': 'lbfgs', 'fitness': 0.705}, {'activation': 'logistic', 'hidden_layer_sizes': (132, 83, 14), 'learning_rate': 'constant', 'max_iter': 237, 'solver': 'adam', 'fitness': 0.705}, {'activation': 'logistic', 'hidden_layer_sizes': (124, 83, 14), 'learning_rate': 'invscaling', 'max_iter': 136, 'solver': 'lbfgs', 'fitness': 0.705}, {'activation': 'logistic', 'hidden_layer_sizes': (124, 99, 31), 'learning_rate': 'invscaling', 'max_iter': 187, 'solver': 'lbfgs', 'fitness': 0.705}, {'activation': 'logistic', 'hidden_layer_sizes': (132, 83, 42), 'learning_rate': 'adaptive', 'max_iter': 250, 'solver': 'lbfgs', 'fitness': 0.7045}, {'activation': 'logistic', 'hidden_layer_sizes': (158, 65, 14), 'learning_rate': 'invscaling', 'max_iter': 250, 'solver': 'adam', 'fitness': 0.7045}, {'activation': 'logistic', 'hidden_layer_sizes': (124, 83, 14), 'learning_rate': 'constant', 'max_iter': 136, 'solver': 'lbfgs', 'fitness': 0.7045}, {'activation': 'logistic', 'hidden_layer_sizes': (158, 51, 31), 'learning_rate': 'adaptive', 'max_iter': 237, 'solver': 'adam', 'fitness': 0.704}, {'activation': 'logistic', 'hidden_layer_sizes': (120, 99, 14), 'learning_rate': 'constant', 'max_iter': 136, 'solver': 'lbfgs', 'fitness': 0.704}, {'activation': 'logistic', 'hidden_layer_sizes': (158, 83, 14), 'learning_rate': 'constant', 'max_iter': 250, 'solver': 'adam', 'fitness': 0.704}, {'activation': 'relu', 'hidden_layer_sizes': (124, 65, 14), 'learning_rate': 'constant', 'max_iter': 250, 'solver': 'sgd', 'fitness': 0.7035}, {'activation': 'logistic', 'hidden_layer_sizes': (124, 65, 14), 'learning_rate': 'constant', 'max_iter': 250, 'solver': 'adam', 'fitness': 0.7035}, {'activation': 'logistic', 'hidden_layer_sizes': (158, 65, 14), 'learning_rate': 'constant', 'max_iter': 192, 'solver': 'adam', 'fitness': 0.7035}, {'activation': 'logistic', 'hidden_layer_sizes': (158, 99, 14), 'learning_rate': 'constant', 'max_iter': 250, 'solver': 'lbfgs', 'fitness': 0.7035}, {'activation': 'logistic', 'hidden_layer_sizes': (120, 67, 41), 'learning_rate': 'adaptive', 'max_iter': 187, 'solver': 'lbfgs', 'fitness': 0.703}, {'activation': 'logistic', 'hidden_layer_sizes': (158, 51, 14), 'learning_rate': 'constant', 'max_iter': 192, 'solver': 'adam', 'fitness': 0.703}, {'activation': 'logistic', 'hidden_layer_sizes': (124, 83, 14), 'learning_rate': 'constant', 'max_iter': 136, 'solver': 'adam', 'fitness': 0.703}, {'activation': 'logistic', 'hidden_layer_sizes': (124, 51, 14), 'learning_rate': 'invscaling', 'max_iter': 187, 'solver': 'lbfgs', 'fitness': 0.703}, {'activation': 'logistic', 'hidden_layer_sizes': (158, 83, 14), 'learning_rate': 'constant', 'max_iter': 237, 'solver': 'adam', 'fitness': 0.703}]\n",
            "generation: \n",
            "99\n"
          ],
          "name": "stdout"
        },
        {
          "output_type": "stream",
          "text": [
            "/usr/local/lib/python3.7/dist-packages/sklearn/neural_network/_multilayer_perceptron.py:571: ConvergenceWarning: Stochastic Optimizer: Maximum iterations (250) reached and the optimization hasn't converged yet.\n",
            "  % self.max_iter, ConvergenceWarning)\n"
          ],
          "name": "stderr"
        },
        {
          "output_type": "stream",
          "text": [
            "[{'activation': 'logistic', 'hidden_layer_sizes': (120, 99, 31), 'learning_rate': 'invscaling', 'max_iter': 187, 'solver': 'lbfgs', 'fitness': 0.7125}, {'activation': 'logistic', 'solver': 'lbfgs', 'learning_rate': 'adaptive', 'hidden_layer_sizes': (118, 90, 31), 'max_iter': 237, 'fitness': 0.7085}, {'activation': 'logistic', 'hidden_layer_sizes': (124, 99, 14), 'learning_rate': 'invscaling', 'max_iter': 187, 'solver': 'lbfgs', 'fitness': 0.7085}, {'activation': 'logistic', 'hidden_layer_sizes': (158, 51, 14), 'learning_rate': 'constant', 'max_iter': 250, 'solver': 'adam', 'fitness': 0.708}, {'activation': 'logistic', 'hidden_layer_sizes': (132, 83, 14), 'learning_rate': 'constant', 'max_iter': 136, 'solver': 'lbfgs', 'fitness': 0.7075}, {'activation': 'relu', 'hidden_layer_sizes': (124, 65, 14), 'learning_rate': 'constant', 'max_iter': 250, 'solver': 'sgd', 'fitness': 0.707}, {'activation': 'relu', 'hidden_layer_sizes': (124, 65, 14), 'learning_rate': 'constant', 'max_iter': 250, 'solver': 'sgd', 'fitness': 0.707}, {'activation': 'logistic', 'hidden_layer_sizes': (124, 99, 31), 'learning_rate': 'invscaling', 'max_iter': 187, 'solver': 'lbfgs', 'fitness': 0.7065}, {'activation': 'relu', 'hidden_layer_sizes': (124, 99, 14), 'learning_rate': 'constant', 'max_iter': 250, 'solver': 'sgd', 'fitness': 0.706}, {'activation': 'relu', 'hidden_layer_sizes': (124, 71, 14), 'learning_rate': 'adaptive', 'max_iter': 250, 'solver': 'sgd', 'fitness': 0.7055}, {'activation': 'logistic', 'hidden_layer_sizes': (120, 99, 14), 'learning_rate': 'constant', 'max_iter': 136, 'solver': 'lbfgs', 'fitness': 0.705}, {'activation': 'relu', 'hidden_layer_sizes': (124, 65, 14), 'learning_rate': 'constant', 'max_iter': 250, 'solver': 'sgd', 'fitness': 0.705}, {'activation': 'logistic', 'hidden_layer_sizes': (120, 99, 41), 'learning_rate': 'constant', 'max_iter': 187, 'solver': 'lbfgs', 'fitness': 0.705}, {'activation': 'logistic', 'hidden_layer_sizes': (132, 83, 14), 'learning_rate': 'constant', 'max_iter': 237, 'solver': 'adam', 'fitness': 0.705}, {'activation': 'logistic', 'hidden_layer_sizes': (124, 83, 14), 'learning_rate': 'invscaling', 'max_iter': 136, 'solver': 'lbfgs', 'fitness': 0.705}, {'activation': 'logistic', 'hidden_layer_sizes': (124, 99, 31), 'learning_rate': 'invscaling', 'max_iter': 187, 'solver': 'lbfgs', 'fitness': 0.705}, {'activation': 'logistic', 'hidden_layer_sizes': (132, 83, 42), 'learning_rate': 'adaptive', 'max_iter': 250, 'solver': 'lbfgs', 'fitness': 0.7045}, {'activation': 'logistic', 'hidden_layer_sizes': (158, 65, 14), 'learning_rate': 'invscaling', 'max_iter': 250, 'solver': 'adam', 'fitness': 0.7045}, {'activation': 'logistic', 'hidden_layer_sizes': (124, 83, 14), 'learning_rate': 'constant', 'max_iter': 136, 'solver': 'lbfgs', 'fitness': 0.7045}, {'activation': 'logistic', 'hidden_layer_sizes': (158, 51, 31), 'learning_rate': 'adaptive', 'max_iter': 237, 'solver': 'adam', 'fitness': 0.704}, {'activation': 'logistic', 'hidden_layer_sizes': (120, 99, 14), 'learning_rate': 'constant', 'max_iter': 136, 'solver': 'lbfgs', 'fitness': 0.704}, {'activation': 'logistic', 'hidden_layer_sizes': (158, 83, 14), 'learning_rate': 'constant', 'max_iter': 250, 'solver': 'adam', 'fitness': 0.704}, {'activation': 'relu', 'hidden_layer_sizes': (124, 65, 14), 'learning_rate': 'constant', 'max_iter': 250, 'solver': 'sgd', 'fitness': 0.7035}, {'activation': 'logistic', 'hidden_layer_sizes': (124, 65, 14), 'learning_rate': 'constant', 'max_iter': 250, 'solver': 'adam', 'fitness': 0.7035}, {'activation': 'logistic', 'hidden_layer_sizes': (158, 65, 14), 'learning_rate': 'constant', 'max_iter': 192, 'solver': 'adam', 'fitness': 0.7035}, {'activation': 'logistic', 'hidden_layer_sizes': (158, 99, 14), 'learning_rate': 'constant', 'max_iter': 250, 'solver': 'lbfgs', 'fitness': 0.7035}, {'activation': 'logistic', 'hidden_layer_sizes': (120, 67, 41), 'learning_rate': 'adaptive', 'max_iter': 187, 'solver': 'lbfgs', 'fitness': 0.703}, {'activation': 'logistic', 'hidden_layer_sizes': (158, 51, 14), 'learning_rate': 'constant', 'max_iter': 192, 'solver': 'adam', 'fitness': 0.703}, {'activation': 'logistic', 'hidden_layer_sizes': (124, 83, 14), 'learning_rate': 'constant', 'max_iter': 136, 'solver': 'adam', 'fitness': 0.703}, {'activation': 'logistic', 'hidden_layer_sizes': (124, 51, 14), 'learning_rate': 'invscaling', 'max_iter': 187, 'solver': 'lbfgs', 'fitness': 0.703}]\n",
            "Better was: \n",
            "{'activation': 'logistic', 'hidden_layer_sizes': (120, 99, 31), 'learning_rate': 'invscaling', 'max_iter': 187, 'solver': 'lbfgs', 'fitness': 0.7125}\n",
            "With a accuracy of: \n",
            "0.7125\n"
          ],
          "name": "stdout"
        },
        {
          "output_type": "stream",
          "text": [
            "/usr/local/lib/python3.7/dist-packages/sklearn/neural_network/_multilayer_perceptron.py:571: ConvergenceWarning: Stochastic Optimizer: Maximum iterations (250) reached and the optimization hasn't converged yet.\n",
            "  % self.max_iter, ConvergenceWarning)\n"
          ],
          "name": "stderr"
        }
      ]
    }
  ]
}