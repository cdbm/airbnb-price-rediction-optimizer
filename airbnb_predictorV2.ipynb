{
  "nbformat": 4,
  "nbformat_minor": 0,
  "metadata": {
    "colab": {
      "name": "Cópia de airbnb-predictor",
      "provenance": [],
      "collapsed_sections": [],
      "toc_visible": true,
      "include_colab_link": true
    },
    "kernelspec": {
      "name": "python3",
      "display_name": "Python 3"
    },
    "language_info": {
      "name": "python"
    }
  },
  "cells": [
    {
      "cell_type": "markdown",
      "metadata": {
        "id": "view-in-github",
        "colab_type": "text"
      },
      "source": [
        "<a href=\"https://colab.research.google.com/github/cdbm/airbnb-price-rediction-optimizer/blob/main/airbnb_predictorV2.ipynb\" target=\"_parent\"><img src=\"https://colab.research.google.com/assets/colab-badge.svg\" alt=\"Open In Colab\"/></a>"
      ]
    },
    {
      "cell_type": "code",
      "metadata": {
        "id": "Iple0wNCUL5B"
      },
      "source": [
        "import numpy as np \n",
        "import pandas as pd"
      ],
      "execution_count": null,
      "outputs": []
    },
    {
      "cell_type": "markdown",
      "metadata": {
        "id": "wRMpaeduZYo7"
      },
      "source": [
        "# Database pre processing"
      ]
    },
    {
      "cell_type": "code",
      "metadata": {
        "id": "CSyF0uxzVHdk",
        "colab": {
          "base_uri": "https://localhost:8080/"
        },
        "outputId": "e768a95b-d545-4d96-838f-99d9d12e06fc"
      },
      "source": [
        "df = pd.read_csv(\"https://raw.githubusercontent.com/cdbm/airbnb-price-rediction-optimizer/main/AB_NYC_2019.csv\")\n",
        "df.head()"
      ],
      "execution_count": null,
      "outputs": [
        {
          "output_type": "execute_result",
          "data": {
            "text/html": [
              "<div>\n",
              "<style scoped>\n",
              "    .dataframe tbody tr th:only-of-type {\n",
              "        vertical-align: middle;\n",
              "    }\n",
              "\n",
              "    .dataframe tbody tr th {\n",
              "        vertical-align: top;\n",
              "    }\n",
              "\n",
              "    .dataframe thead th {\n",
              "        text-align: right;\n",
              "    }\n",
              "</style>\n",
              "<table border=\"1\" class=\"dataframe\">\n",
              "  <thead>\n",
              "    <tr style=\"text-align: right;\">\n",
              "      <th></th>\n",
              "      <th>id</th>\n",
              "      <th>name</th>\n",
              "      <th>host_id</th>\n",
              "      <th>host_name</th>\n",
              "      <th>neighbourhood_group</th>\n",
              "      <th>neighbourhood</th>\n",
              "      <th>latitude</th>\n",
              "      <th>longitude</th>\n",
              "      <th>room_type</th>\n",
              "      <th>price</th>\n",
              "      <th>minimum_nights</th>\n",
              "      <th>number_of_reviews</th>\n",
              "      <th>last_review</th>\n",
              "      <th>reviews_per_month</th>\n",
              "      <th>calculated_host_listings_count</th>\n",
              "      <th>availability_365</th>\n",
              "    </tr>\n",
              "  </thead>\n",
              "  <tbody>\n",
              "    <tr>\n",
              "      <th>0</th>\n",
              "      <td>2539</td>\n",
              "      <td>Clean &amp; quiet apt home by the park</td>\n",
              "      <td>2787</td>\n",
              "      <td>John</td>\n",
              "      <td>Brooklyn</td>\n",
              "      <td>Kensington</td>\n",
              "      <td>40.64749</td>\n",
              "      <td>-73.97237</td>\n",
              "      <td>Private room</td>\n",
              "      <td>149</td>\n",
              "      <td>1</td>\n",
              "      <td>9</td>\n",
              "      <td>2018-10-19</td>\n",
              "      <td>0.21</td>\n",
              "      <td>6</td>\n",
              "      <td>365</td>\n",
              "    </tr>\n",
              "    <tr>\n",
              "      <th>1</th>\n",
              "      <td>2595</td>\n",
              "      <td>Skylit Midtown Castle</td>\n",
              "      <td>2845</td>\n",
              "      <td>Jennifer</td>\n",
              "      <td>Manhattan</td>\n",
              "      <td>Midtown</td>\n",
              "      <td>40.75362</td>\n",
              "      <td>-73.98377</td>\n",
              "      <td>Entire home/apt</td>\n",
              "      <td>225</td>\n",
              "      <td>1</td>\n",
              "      <td>45</td>\n",
              "      <td>2019-05-21</td>\n",
              "      <td>0.38</td>\n",
              "      <td>2</td>\n",
              "      <td>355</td>\n",
              "    </tr>\n",
              "    <tr>\n",
              "      <th>2</th>\n",
              "      <td>3647</td>\n",
              "      <td>THE VILLAGE OF HARLEM....NEW YORK !</td>\n",
              "      <td>4632</td>\n",
              "      <td>Elisabeth</td>\n",
              "      <td>Manhattan</td>\n",
              "      <td>Harlem</td>\n",
              "      <td>40.80902</td>\n",
              "      <td>-73.94190</td>\n",
              "      <td>Private room</td>\n",
              "      <td>150</td>\n",
              "      <td>3</td>\n",
              "      <td>0</td>\n",
              "      <td>NaN</td>\n",
              "      <td>NaN</td>\n",
              "      <td>1</td>\n",
              "      <td>365</td>\n",
              "    </tr>\n",
              "    <tr>\n",
              "      <th>3</th>\n",
              "      <td>3831</td>\n",
              "      <td>Cozy Entire Floor of Brownstone</td>\n",
              "      <td>4869</td>\n",
              "      <td>LisaRoxanne</td>\n",
              "      <td>Brooklyn</td>\n",
              "      <td>Clinton Hill</td>\n",
              "      <td>40.68514</td>\n",
              "      <td>-73.95976</td>\n",
              "      <td>Entire home/apt</td>\n",
              "      <td>89</td>\n",
              "      <td>1</td>\n",
              "      <td>270</td>\n",
              "      <td>2019-07-05</td>\n",
              "      <td>4.64</td>\n",
              "      <td>1</td>\n",
              "      <td>194</td>\n",
              "    </tr>\n",
              "    <tr>\n",
              "      <th>4</th>\n",
              "      <td>5022</td>\n",
              "      <td>Entire Apt: Spacious Studio/Loft by central park</td>\n",
              "      <td>7192</td>\n",
              "      <td>Laura</td>\n",
              "      <td>Manhattan</td>\n",
              "      <td>East Harlem</td>\n",
              "      <td>40.79851</td>\n",
              "      <td>-73.94399</td>\n",
              "      <td>Entire home/apt</td>\n",
              "      <td>80</td>\n",
              "      <td>10</td>\n",
              "      <td>9</td>\n",
              "      <td>2018-11-19</td>\n",
              "      <td>0.10</td>\n",
              "      <td>1</td>\n",
              "      <td>0</td>\n",
              "    </tr>\n",
              "  </tbody>\n",
              "</table>\n",
              "</div>"
            ],
            "text/plain": [
              "     id  ... availability_365\n",
              "0  2539  ...              365\n",
              "1  2595  ...              355\n",
              "2  3647  ...              365\n",
              "3  3831  ...              194\n",
              "4  5022  ...                0\n",
              "\n",
              "[5 rows x 16 columns]"
            ]
          },
          "metadata": {
            "tags": []
          },
          "execution_count": 214
        }
      ]
    },
    {
      "cell_type": "code",
      "metadata": {
        "id": "gTT91va_nFyi",
        "colab": {
          "base_uri": "https://localhost:8080/"
        },
        "outputId": "8d3ef925-acae-422a-b819-d8f133d8c075"
      },
      "source": [
        "df.describe()"
      ],
      "execution_count": null,
      "outputs": [
        {
          "output_type": "execute_result",
          "data": {
            "text/html": [
              "<div>\n",
              "<style scoped>\n",
              "    .dataframe tbody tr th:only-of-type {\n",
              "        vertical-align: middle;\n",
              "    }\n",
              "\n",
              "    .dataframe tbody tr th {\n",
              "        vertical-align: top;\n",
              "    }\n",
              "\n",
              "    .dataframe thead th {\n",
              "        text-align: right;\n",
              "    }\n",
              "</style>\n",
              "<table border=\"1\" class=\"dataframe\">\n",
              "  <thead>\n",
              "    <tr style=\"text-align: right;\">\n",
              "      <th></th>\n",
              "      <th>id</th>\n",
              "      <th>host_id</th>\n",
              "      <th>latitude</th>\n",
              "      <th>longitude</th>\n",
              "      <th>price</th>\n",
              "      <th>minimum_nights</th>\n",
              "      <th>number_of_reviews</th>\n",
              "      <th>reviews_per_month</th>\n",
              "      <th>calculated_host_listings_count</th>\n",
              "      <th>availability_365</th>\n",
              "    </tr>\n",
              "  </thead>\n",
              "  <tbody>\n",
              "    <tr>\n",
              "      <th>count</th>\n",
              "      <td>4.889500e+04</td>\n",
              "      <td>4.889500e+04</td>\n",
              "      <td>48895.000000</td>\n",
              "      <td>48895.000000</td>\n",
              "      <td>48895.000000</td>\n",
              "      <td>48895.000000</td>\n",
              "      <td>48895.000000</td>\n",
              "      <td>38843.000000</td>\n",
              "      <td>48895.000000</td>\n",
              "      <td>48895.000000</td>\n",
              "    </tr>\n",
              "    <tr>\n",
              "      <th>mean</th>\n",
              "      <td>1.901714e+07</td>\n",
              "      <td>6.762001e+07</td>\n",
              "      <td>40.728949</td>\n",
              "      <td>-73.952170</td>\n",
              "      <td>152.720687</td>\n",
              "      <td>7.029962</td>\n",
              "      <td>23.274466</td>\n",
              "      <td>1.373221</td>\n",
              "      <td>7.143982</td>\n",
              "      <td>112.781327</td>\n",
              "    </tr>\n",
              "    <tr>\n",
              "      <th>std</th>\n",
              "      <td>1.098311e+07</td>\n",
              "      <td>7.861097e+07</td>\n",
              "      <td>0.054530</td>\n",
              "      <td>0.046157</td>\n",
              "      <td>240.154170</td>\n",
              "      <td>20.510550</td>\n",
              "      <td>44.550582</td>\n",
              "      <td>1.680442</td>\n",
              "      <td>32.952519</td>\n",
              "      <td>131.622289</td>\n",
              "    </tr>\n",
              "    <tr>\n",
              "      <th>min</th>\n",
              "      <td>2.539000e+03</td>\n",
              "      <td>2.438000e+03</td>\n",
              "      <td>40.499790</td>\n",
              "      <td>-74.244420</td>\n",
              "      <td>0.000000</td>\n",
              "      <td>1.000000</td>\n",
              "      <td>0.000000</td>\n",
              "      <td>0.010000</td>\n",
              "      <td>1.000000</td>\n",
              "      <td>0.000000</td>\n",
              "    </tr>\n",
              "    <tr>\n",
              "      <th>25%</th>\n",
              "      <td>9.471945e+06</td>\n",
              "      <td>7.822033e+06</td>\n",
              "      <td>40.690100</td>\n",
              "      <td>-73.983070</td>\n",
              "      <td>69.000000</td>\n",
              "      <td>1.000000</td>\n",
              "      <td>1.000000</td>\n",
              "      <td>0.190000</td>\n",
              "      <td>1.000000</td>\n",
              "      <td>0.000000</td>\n",
              "    </tr>\n",
              "    <tr>\n",
              "      <th>50%</th>\n",
              "      <td>1.967728e+07</td>\n",
              "      <td>3.079382e+07</td>\n",
              "      <td>40.723070</td>\n",
              "      <td>-73.955680</td>\n",
              "      <td>106.000000</td>\n",
              "      <td>3.000000</td>\n",
              "      <td>5.000000</td>\n",
              "      <td>0.720000</td>\n",
              "      <td>1.000000</td>\n",
              "      <td>45.000000</td>\n",
              "    </tr>\n",
              "    <tr>\n",
              "      <th>75%</th>\n",
              "      <td>2.915218e+07</td>\n",
              "      <td>1.074344e+08</td>\n",
              "      <td>40.763115</td>\n",
              "      <td>-73.936275</td>\n",
              "      <td>175.000000</td>\n",
              "      <td>5.000000</td>\n",
              "      <td>24.000000</td>\n",
              "      <td>2.020000</td>\n",
              "      <td>2.000000</td>\n",
              "      <td>227.000000</td>\n",
              "    </tr>\n",
              "    <tr>\n",
              "      <th>max</th>\n",
              "      <td>3.648724e+07</td>\n",
              "      <td>2.743213e+08</td>\n",
              "      <td>40.913060</td>\n",
              "      <td>-73.712990</td>\n",
              "      <td>10000.000000</td>\n",
              "      <td>1250.000000</td>\n",
              "      <td>629.000000</td>\n",
              "      <td>58.500000</td>\n",
              "      <td>327.000000</td>\n",
              "      <td>365.000000</td>\n",
              "    </tr>\n",
              "  </tbody>\n",
              "</table>\n",
              "</div>"
            ],
            "text/plain": [
              "                 id  ...  availability_365\n",
              "count  4.889500e+04  ...      48895.000000\n",
              "mean   1.901714e+07  ...        112.781327\n",
              "std    1.098311e+07  ...        131.622289\n",
              "min    2.539000e+03  ...          0.000000\n",
              "25%    9.471945e+06  ...          0.000000\n",
              "50%    1.967728e+07  ...         45.000000\n",
              "75%    2.915218e+07  ...        227.000000\n",
              "max    3.648724e+07  ...        365.000000\n",
              "\n",
              "[8 rows x 10 columns]"
            ]
          },
          "metadata": {
            "tags": []
          },
          "execution_count": 215
        }
      ]
    },
    {
      "cell_type": "code",
      "metadata": {
        "id": "x8CXOHi9VkUR",
        "colab": {
          "base_uri": "https://localhost:8080/"
        },
        "outputId": "8d7492cc-6afe-4b2b-e13b-e49ca5a52961"
      },
      "source": [
        "df.dtypes"
      ],
      "execution_count": null,
      "outputs": [
        {
          "output_type": "execute_result",
          "data": {
            "text/plain": [
              "id                                  int64\n",
              "name                               object\n",
              "host_id                             int64\n",
              "host_name                          object\n",
              "neighbourhood_group                object\n",
              "neighbourhood                      object\n",
              "latitude                          float64\n",
              "longitude                         float64\n",
              "room_type                          object\n",
              "price                               int64\n",
              "minimum_nights                      int64\n",
              "number_of_reviews                   int64\n",
              "last_review                        object\n",
              "reviews_per_month                 float64\n",
              "calculated_host_listings_count      int64\n",
              "availability_365                    int64\n",
              "dtype: object"
            ]
          },
          "metadata": {
            "tags": []
          },
          "execution_count": 216
        }
      ]
    },
    {
      "cell_type": "code",
      "metadata": {
        "id": "2s79q31lV4Mb"
      },
      "source": [
        "df = df.drop('name', axis=1)\n",
        "df = df.drop('host_name', axis=1)\n",
        "df = df.drop('last_review', axis=1)"
      ],
      "execution_count": null,
      "outputs": []
    },
    {
      "cell_type": "code",
      "metadata": {
        "id": "uX7EaATgYqvy"
      },
      "source": [
        "df = df[df.price <= 500]"
      ],
      "execution_count": null,
      "outputs": []
    },
    {
      "cell_type": "code",
      "metadata": {
        "id": "IDE-vNYFoJ4h"
      },
      "source": [
        "# df.loc[df['price'] <= 50, 'ranges'] = '0_TO_50'\n",
        "df.loc[df['price'] <= 100, 'ranges'] = '0_TO_100'\n",
        "df.loc[(df['price'] > 100) & (df['price'] <= 200), 'ranges'] = '101_TO_200'\n",
        "# df.loc[(df['price'] > 150) & (df['price'] <= 200), 'ranges'] = '151_TO_200'\n",
        "df.loc[(df['price'] > 200) & (df['price'] <= 300), 'ranges'] = '201_TO_300'\n",
        "#df.loc[(df['price'] > 250) & (df['price'] <= 300), 'ranges'] = '251_TO_300'\n",
        "df.loc[(df['price'] > 300) & (df['price'] <= 400), 'ranges'] = '301_TO_400'\n",
        "#df.loc[(df['price'] > 350) & (df['price'] <= 400), 'ranges'] = '351_TO_400'\n",
        "df.loc[(df['price'] > 400) & (df['price'] <= 500), 'ranges'] = '401_TO_500'\n",
        "#df.loc[(df['price'] > 450) & (df['price'] <= 500), 'ranges'] = '551_TO_500'"
      ],
      "execution_count": null,
      "outputs": []
    },
    {
      "cell_type": "code",
      "metadata": {
        "id": "OW9pTVEcXsKL"
      },
      "source": [
        "df['neighbourhood_group'] = df['neighbourhood_group'].astype('category')\n",
        "df['neighbourhood'] = df['neighbourhood'].astype('category')\n",
        "df['room_type'] = df['room_type'].astype('category')"
      ],
      "execution_count": null,
      "outputs": []
    },
    {
      "cell_type": "code",
      "metadata": {
        "id": "_awC1XFkYYzF"
      },
      "source": [
        "cat_columns = df.select_dtypes(['category']).columns\n",
        "df[cat_columns] = df[cat_columns].apply(lambda x: x.cat.codes)"
      ],
      "execution_count": null,
      "outputs": []
    },
    {
      "cell_type": "code",
      "metadata": {
        "id": "MSMgzwM3EFF_"
      },
      "source": [
        "df['ranges'] = df['ranges'].astype('category')"
      ],
      "execution_count": null,
      "outputs": []
    },
    {
      "cell_type": "code",
      "metadata": {
        "id": "7taQ5omXYmEf"
      },
      "source": [
        "df['reviews_per_month'].fillna(0, inplace=True) "
      ],
      "execution_count": null,
      "outputs": []
    },
    {
      "cell_type": "code",
      "metadata": {
        "id": "o_2p-RvtpxDa"
      },
      "source": [
        "df = df.drop('price', axis=1)\n"
      ],
      "execution_count": null,
      "outputs": []
    },
    {
      "cell_type": "code",
      "metadata": {
        "id": "5itJQHMZD3Mh",
        "colab": {
          "base_uri": "https://localhost:8080/"
        },
        "outputId": "aaff613b-2ab0-4261-d0b9-59e979d6faca"
      },
      "source": [
        "df.head()"
      ],
      "execution_count": null,
      "outputs": [
        {
          "output_type": "execute_result",
          "data": {
            "text/html": [
              "<div>\n",
              "<style scoped>\n",
              "    .dataframe tbody tr th:only-of-type {\n",
              "        vertical-align: middle;\n",
              "    }\n",
              "\n",
              "    .dataframe tbody tr th {\n",
              "        vertical-align: top;\n",
              "    }\n",
              "\n",
              "    .dataframe thead th {\n",
              "        text-align: right;\n",
              "    }\n",
              "</style>\n",
              "<table border=\"1\" class=\"dataframe\">\n",
              "  <thead>\n",
              "    <tr style=\"text-align: right;\">\n",
              "      <th></th>\n",
              "      <th>id</th>\n",
              "      <th>host_id</th>\n",
              "      <th>neighbourhood_group</th>\n",
              "      <th>neighbourhood</th>\n",
              "      <th>latitude</th>\n",
              "      <th>longitude</th>\n",
              "      <th>room_type</th>\n",
              "      <th>minimum_nights</th>\n",
              "      <th>number_of_reviews</th>\n",
              "      <th>reviews_per_month</th>\n",
              "      <th>calculated_host_listings_count</th>\n",
              "      <th>availability_365</th>\n",
              "      <th>ranges</th>\n",
              "    </tr>\n",
              "  </thead>\n",
              "  <tbody>\n",
              "    <tr>\n",
              "      <th>0</th>\n",
              "      <td>2539</td>\n",
              "      <td>2787</td>\n",
              "      <td>1</td>\n",
              "      <td>107</td>\n",
              "      <td>40.64749</td>\n",
              "      <td>-73.97237</td>\n",
              "      <td>1</td>\n",
              "      <td>1</td>\n",
              "      <td>9</td>\n",
              "      <td>0.21</td>\n",
              "      <td>6</td>\n",
              "      <td>365</td>\n",
              "      <td>101_TO_200</td>\n",
              "    </tr>\n",
              "    <tr>\n",
              "      <th>1</th>\n",
              "      <td>2595</td>\n",
              "      <td>2845</td>\n",
              "      <td>2</td>\n",
              "      <td>126</td>\n",
              "      <td>40.75362</td>\n",
              "      <td>-73.98377</td>\n",
              "      <td>0</td>\n",
              "      <td>1</td>\n",
              "      <td>45</td>\n",
              "      <td>0.38</td>\n",
              "      <td>2</td>\n",
              "      <td>355</td>\n",
              "      <td>201_TO_300</td>\n",
              "    </tr>\n",
              "    <tr>\n",
              "      <th>2</th>\n",
              "      <td>3647</td>\n",
              "      <td>4632</td>\n",
              "      <td>2</td>\n",
              "      <td>93</td>\n",
              "      <td>40.80902</td>\n",
              "      <td>-73.94190</td>\n",
              "      <td>1</td>\n",
              "      <td>3</td>\n",
              "      <td>0</td>\n",
              "      <td>0.00</td>\n",
              "      <td>1</td>\n",
              "      <td>365</td>\n",
              "      <td>101_TO_200</td>\n",
              "    </tr>\n",
              "    <tr>\n",
              "      <th>3</th>\n",
              "      <td>3831</td>\n",
              "      <td>4869</td>\n",
              "      <td>1</td>\n",
              "      <td>41</td>\n",
              "      <td>40.68514</td>\n",
              "      <td>-73.95976</td>\n",
              "      <td>0</td>\n",
              "      <td>1</td>\n",
              "      <td>270</td>\n",
              "      <td>4.64</td>\n",
              "      <td>1</td>\n",
              "      <td>194</td>\n",
              "      <td>0_TO_100</td>\n",
              "    </tr>\n",
              "    <tr>\n",
              "      <th>4</th>\n",
              "      <td>5022</td>\n",
              "      <td>7192</td>\n",
              "      <td>2</td>\n",
              "      <td>61</td>\n",
              "      <td>40.79851</td>\n",
              "      <td>-73.94399</td>\n",
              "      <td>0</td>\n",
              "      <td>10</td>\n",
              "      <td>9</td>\n",
              "      <td>0.10</td>\n",
              "      <td>1</td>\n",
              "      <td>0</td>\n",
              "      <td>0_TO_100</td>\n",
              "    </tr>\n",
              "  </tbody>\n",
              "</table>\n",
              "</div>"
            ],
            "text/plain": [
              "     id  host_id  ...  availability_365      ranges\n",
              "0  2539     2787  ...               365  101_TO_200\n",
              "1  2595     2845  ...               355  201_TO_300\n",
              "2  3647     4632  ...               365  101_TO_200\n",
              "3  3831     4869  ...               194    0_TO_100\n",
              "4  5022     7192  ...                 0    0_TO_100\n",
              "\n",
              "[5 rows x 13 columns]"
            ]
          },
          "metadata": {
            "tags": []
          },
          "execution_count": 225
        }
      ]
    },
    {
      "cell_type": "code",
      "metadata": {
        "id": "hpypeEHgrock",
        "colab": {
          "base_uri": "https://localhost:8080/"
        },
        "outputId": "3ec7d310-41e8-45a2-d330-62c0f48809ab"
      },
      "source": [
        "df = df.sample(frac=1).reset_index(drop=True)\n",
        "df = df[:10000]\n",
        "df.describe()"
      ],
      "execution_count": null,
      "outputs": [
        {
          "output_type": "execute_result",
          "data": {
            "text/html": [
              "<div>\n",
              "<style scoped>\n",
              "    .dataframe tbody tr th:only-of-type {\n",
              "        vertical-align: middle;\n",
              "    }\n",
              "\n",
              "    .dataframe tbody tr th {\n",
              "        vertical-align: top;\n",
              "    }\n",
              "\n",
              "    .dataframe thead th {\n",
              "        text-align: right;\n",
              "    }\n",
              "</style>\n",
              "<table border=\"1\" class=\"dataframe\">\n",
              "  <thead>\n",
              "    <tr style=\"text-align: right;\">\n",
              "      <th></th>\n",
              "      <th>id</th>\n",
              "      <th>host_id</th>\n",
              "      <th>neighbourhood_group</th>\n",
              "      <th>neighbourhood</th>\n",
              "      <th>latitude</th>\n",
              "      <th>longitude</th>\n",
              "      <th>room_type</th>\n",
              "      <th>minimum_nights</th>\n",
              "      <th>number_of_reviews</th>\n",
              "      <th>reviews_per_month</th>\n",
              "      <th>calculated_host_listings_count</th>\n",
              "      <th>availability_365</th>\n",
              "    </tr>\n",
              "  </thead>\n",
              "  <tbody>\n",
              "    <tr>\n",
              "      <th>count</th>\n",
              "      <td>1.000000e+04</td>\n",
              "      <td>1.000000e+04</td>\n",
              "      <td>10000.000000</td>\n",
              "      <td>10000.000000</td>\n",
              "      <td>10000.000000</td>\n",
              "      <td>10000.000000</td>\n",
              "      <td>10000.000000</td>\n",
              "      <td>10000.000000</td>\n",
              "      <td>10000.000000</td>\n",
              "      <td>10000.000000</td>\n",
              "      <td>10000.000000</td>\n",
              "      <td>10000.000000</td>\n",
              "    </tr>\n",
              "    <tr>\n",
              "      <th>mean</th>\n",
              "      <td>1.896925e+07</td>\n",
              "      <td>6.787538e+07</td>\n",
              "      <td>1.652900</td>\n",
              "      <td>106.624000</td>\n",
              "      <td>40.728702</td>\n",
              "      <td>-73.951510</td>\n",
              "      <td>0.509700</td>\n",
              "      <td>6.922500</td>\n",
              "      <td>23.575700</td>\n",
              "      <td>1.076120</td>\n",
              "      <td>7.254900</td>\n",
              "      <td>110.960200</td>\n",
              "    </tr>\n",
              "    <tr>\n",
              "      <th>std</th>\n",
              "      <td>1.088128e+07</td>\n",
              "      <td>7.857125e+07</td>\n",
              "      <td>0.735986</td>\n",
              "      <td>68.723943</td>\n",
              "      <td>0.054700</td>\n",
              "      <td>0.045742</td>\n",
              "      <td>0.537713</td>\n",
              "      <td>21.829809</td>\n",
              "      <td>45.366958</td>\n",
              "      <td>1.529367</td>\n",
              "      <td>34.102296</td>\n",
              "      <td>130.630512</td>\n",
              "    </tr>\n",
              "    <tr>\n",
              "      <th>min</th>\n",
              "      <td>8.110000e+03</td>\n",
              "      <td>2.845000e+03</td>\n",
              "      <td>0.000000</td>\n",
              "      <td>0.000000</td>\n",
              "      <td>40.539820</td>\n",
              "      <td>-74.176280</td>\n",
              "      <td>0.000000</td>\n",
              "      <td>1.000000</td>\n",
              "      <td>0.000000</td>\n",
              "      <td>0.000000</td>\n",
              "      <td>1.000000</td>\n",
              "      <td>0.000000</td>\n",
              "    </tr>\n",
              "    <tr>\n",
              "      <th>25%</th>\n",
              "      <td>9.492466e+06</td>\n",
              "      <td>7.930734e+06</td>\n",
              "      <td>1.000000</td>\n",
              "      <td>51.000000</td>\n",
              "      <td>40.689690</td>\n",
              "      <td>-73.982382</td>\n",
              "      <td>0.000000</td>\n",
              "      <td>1.000000</td>\n",
              "      <td>1.000000</td>\n",
              "      <td>0.050000</td>\n",
              "      <td>1.000000</td>\n",
              "      <td>0.000000</td>\n",
              "    </tr>\n",
              "    <tr>\n",
              "      <th>50%</th>\n",
              "      <td>1.959412e+07</td>\n",
              "      <td>3.167435e+07</td>\n",
              "      <td>2.000000</td>\n",
              "      <td>93.000000</td>\n",
              "      <td>40.722350</td>\n",
              "      <td>-73.955130</td>\n",
              "      <td>0.000000</td>\n",
              "      <td>2.000000</td>\n",
              "      <td>5.000000</td>\n",
              "      <td>0.380000</td>\n",
              "      <td>1.000000</td>\n",
              "      <td>42.000000</td>\n",
              "    </tr>\n",
              "    <tr>\n",
              "      <th>75%</th>\n",
              "      <td>2.894009e+07</td>\n",
              "      <td>1.074344e+08</td>\n",
              "      <td>2.000000</td>\n",
              "      <td>180.000000</td>\n",
              "      <td>40.763040</td>\n",
              "      <td>-73.936752</td>\n",
              "      <td>1.000000</td>\n",
              "      <td>5.000000</td>\n",
              "      <td>24.000000</td>\n",
              "      <td>1.580000</td>\n",
              "      <td>2.000000</td>\n",
              "      <td>219.000000</td>\n",
              "    </tr>\n",
              "    <tr>\n",
              "      <th>max</th>\n",
              "      <td>3.648543e+07</td>\n",
              "      <td>2.743076e+08</td>\n",
              "      <td>4.000000</td>\n",
              "      <td>218.000000</td>\n",
              "      <td>40.911690</td>\n",
              "      <td>-73.725820</td>\n",
              "      <td>2.000000</td>\n",
              "      <td>1000.000000</td>\n",
              "      <td>607.000000</td>\n",
              "      <td>19.750000</td>\n",
              "      <td>327.000000</td>\n",
              "      <td>365.000000</td>\n",
              "    </tr>\n",
              "  </tbody>\n",
              "</table>\n",
              "</div>"
            ],
            "text/plain": [
              "                 id  ...  availability_365\n",
              "count  1.000000e+04  ...      10000.000000\n",
              "mean   1.896925e+07  ...        110.960200\n",
              "std    1.088128e+07  ...        130.630512\n",
              "min    8.110000e+03  ...          0.000000\n",
              "25%    9.492466e+06  ...          0.000000\n",
              "50%    1.959412e+07  ...         42.000000\n",
              "75%    2.894009e+07  ...        219.000000\n",
              "max    3.648543e+07  ...        365.000000\n",
              "\n",
              "[8 rows x 12 columns]"
            ]
          },
          "metadata": {
            "tags": []
          },
          "execution_count": 226
        }
      ]
    },
    {
      "cell_type": "code",
      "metadata": {
        "id": "SjxbA1CxEfUi",
        "colab": {
          "base_uri": "https://localhost:8080/"
        },
        "outputId": "824379c1-2ce5-4af8-d66b-935fdca0380a"
      },
      "source": [
        "df"
      ],
      "execution_count": null,
      "outputs": [
        {
          "output_type": "execute_result",
          "data": {
            "text/html": [
              "<div>\n",
              "<style scoped>\n",
              "    .dataframe tbody tr th:only-of-type {\n",
              "        vertical-align: middle;\n",
              "    }\n",
              "\n",
              "    .dataframe tbody tr th {\n",
              "        vertical-align: top;\n",
              "    }\n",
              "\n",
              "    .dataframe thead th {\n",
              "        text-align: right;\n",
              "    }\n",
              "</style>\n",
              "<table border=\"1\" class=\"dataframe\">\n",
              "  <thead>\n",
              "    <tr style=\"text-align: right;\">\n",
              "      <th></th>\n",
              "      <th>id</th>\n",
              "      <th>host_id</th>\n",
              "      <th>neighbourhood_group</th>\n",
              "      <th>neighbourhood</th>\n",
              "      <th>latitude</th>\n",
              "      <th>longitude</th>\n",
              "      <th>room_type</th>\n",
              "      <th>minimum_nights</th>\n",
              "      <th>number_of_reviews</th>\n",
              "      <th>reviews_per_month</th>\n",
              "      <th>calculated_host_listings_count</th>\n",
              "      <th>availability_365</th>\n",
              "      <th>ranges</th>\n",
              "    </tr>\n",
              "  </thead>\n",
              "  <tbody>\n",
              "    <tr>\n",
              "      <th>0</th>\n",
              "      <td>18946416</td>\n",
              "      <td>19867664</td>\n",
              "      <td>1</td>\n",
              "      <td>51</td>\n",
              "      <td>40.67100</td>\n",
              "      <td>-73.94703</td>\n",
              "      <td>0</td>\n",
              "      <td>1</td>\n",
              "      <td>105</td>\n",
              "      <td>4.57</td>\n",
              "      <td>2</td>\n",
              "      <td>274</td>\n",
              "      <td>101_TO_200</td>\n",
              "    </tr>\n",
              "    <tr>\n",
              "      <th>1</th>\n",
              "      <td>30507545</td>\n",
              "      <td>201447930</td>\n",
              "      <td>2</td>\n",
              "      <td>64</td>\n",
              "      <td>40.72646</td>\n",
              "      <td>-73.98686</td>\n",
              "      <td>0</td>\n",
              "      <td>2</td>\n",
              "      <td>2</td>\n",
              "      <td>0.32</td>\n",
              "      <td>2</td>\n",
              "      <td>28</td>\n",
              "      <td>201_TO_300</td>\n",
              "    </tr>\n",
              "    <tr>\n",
              "      <th>2</th>\n",
              "      <td>34142272</td>\n",
              "      <td>257773717</td>\n",
              "      <td>1</td>\n",
              "      <td>213</td>\n",
              "      <td>40.71041</td>\n",
              "      <td>-73.96327</td>\n",
              "      <td>1</td>\n",
              "      <td>30</td>\n",
              "      <td>0</td>\n",
              "      <td>0.00</td>\n",
              "      <td>5</td>\n",
              "      <td>341</td>\n",
              "      <td>0_TO_100</td>\n",
              "    </tr>\n",
              "    <tr>\n",
              "      <th>3</th>\n",
              "      <td>27054483</td>\n",
              "      <td>12275644</td>\n",
              "      <td>1</td>\n",
              "      <td>84</td>\n",
              "      <td>40.66774</td>\n",
              "      <td>-73.99292</td>\n",
              "      <td>1</td>\n",
              "      <td>2</td>\n",
              "      <td>0</td>\n",
              "      <td>0.00</td>\n",
              "      <td>1</td>\n",
              "      <td>0</td>\n",
              "      <td>0_TO_100</td>\n",
              "    </tr>\n",
              "    <tr>\n",
              "      <th>4</th>\n",
              "      <td>21067451</td>\n",
              "      <td>49108760</td>\n",
              "      <td>2</td>\n",
              "      <td>94</td>\n",
              "      <td>40.76195</td>\n",
              "      <td>-73.99077</td>\n",
              "      <td>1</td>\n",
              "      <td>1</td>\n",
              "      <td>4</td>\n",
              "      <td>0.22</td>\n",
              "      <td>1</td>\n",
              "      <td>0</td>\n",
              "      <td>201_TO_300</td>\n",
              "    </tr>\n",
              "    <tr>\n",
              "      <th>...</th>\n",
              "      <td>...</td>\n",
              "      <td>...</td>\n",
              "      <td>...</td>\n",
              "      <td>...</td>\n",
              "      <td>...</td>\n",
              "      <td>...</td>\n",
              "      <td>...</td>\n",
              "      <td>...</td>\n",
              "      <td>...</td>\n",
              "      <td>...</td>\n",
              "      <td>...</td>\n",
              "      <td>...</td>\n",
              "      <td>...</td>\n",
              "    </tr>\n",
              "    <tr>\n",
              "      <th>9995</th>\n",
              "      <td>30389608</td>\n",
              "      <td>107434423</td>\n",
              "      <td>2</td>\n",
              "      <td>64</td>\n",
              "      <td>40.73169</td>\n",
              "      <td>-73.98932</td>\n",
              "      <td>0</td>\n",
              "      <td>30</td>\n",
              "      <td>0</td>\n",
              "      <td>0.00</td>\n",
              "      <td>232</td>\n",
              "      <td>157</td>\n",
              "      <td>401_TO_500</td>\n",
              "    </tr>\n",
              "    <tr>\n",
              "      <th>9996</th>\n",
              "      <td>15377806</td>\n",
              "      <td>8903368</td>\n",
              "      <td>2</td>\n",
              "      <td>93</td>\n",
              "      <td>40.81668</td>\n",
              "      <td>-73.94407</td>\n",
              "      <td>1</td>\n",
              "      <td>1</td>\n",
              "      <td>3</td>\n",
              "      <td>0.09</td>\n",
              "      <td>1</td>\n",
              "      <td>0</td>\n",
              "      <td>0_TO_100</td>\n",
              "    </tr>\n",
              "    <tr>\n",
              "      <th>9997</th>\n",
              "      <td>66741</td>\n",
              "      <td>327673</td>\n",
              "      <td>1</td>\n",
              "      <td>150</td>\n",
              "      <td>40.67732</td>\n",
              "      <td>-73.98225</td>\n",
              "      <td>0</td>\n",
              "      <td>2</td>\n",
              "      <td>214</td>\n",
              "      <td>2.08</td>\n",
              "      <td>2</td>\n",
              "      <td>263</td>\n",
              "      <td>101_TO_200</td>\n",
              "    </tr>\n",
              "    <tr>\n",
              "      <th>9998</th>\n",
              "      <td>29149612</td>\n",
              "      <td>21030441</td>\n",
              "      <td>3</td>\n",
              "      <td>4</td>\n",
              "      <td>40.76836</td>\n",
              "      <td>-73.91506</td>\n",
              "      <td>1</td>\n",
              "      <td>2</td>\n",
              "      <td>20</td>\n",
              "      <td>3.24</td>\n",
              "      <td>1</td>\n",
              "      <td>282</td>\n",
              "      <td>0_TO_100</td>\n",
              "    </tr>\n",
              "    <tr>\n",
              "      <th>9999</th>\n",
              "      <td>33933477</td>\n",
              "      <td>38377515</td>\n",
              "      <td>0</td>\n",
              "      <td>39</td>\n",
              "      <td>40.81338</td>\n",
              "      <td>-73.85821</td>\n",
              "      <td>0</td>\n",
              "      <td>2</td>\n",
              "      <td>5</td>\n",
              "      <td>5.00</td>\n",
              "      <td>1</td>\n",
              "      <td>86</td>\n",
              "      <td>0_TO_100</td>\n",
              "    </tr>\n",
              "  </tbody>\n",
              "</table>\n",
              "<p>10000 rows × 13 columns</p>\n",
              "</div>"
            ],
            "text/plain": [
              "            id    host_id  ...  availability_365      ranges\n",
              "0     18946416   19867664  ...               274  101_TO_200\n",
              "1     30507545  201447930  ...                28  201_TO_300\n",
              "2     34142272  257773717  ...               341    0_TO_100\n",
              "3     27054483   12275644  ...                 0    0_TO_100\n",
              "4     21067451   49108760  ...                 0  201_TO_300\n",
              "...        ...        ...  ...               ...         ...\n",
              "9995  30389608  107434423  ...               157  401_TO_500\n",
              "9996  15377806    8903368  ...                 0    0_TO_100\n",
              "9997     66741     327673  ...               263  101_TO_200\n",
              "9998  29149612   21030441  ...               282    0_TO_100\n",
              "9999  33933477   38377515  ...                86    0_TO_100\n",
              "\n",
              "[10000 rows x 13 columns]"
            ]
          },
          "metadata": {
            "tags": []
          },
          "execution_count": 227
        }
      ]
    },
    {
      "cell_type": "code",
      "metadata": {
        "id": "j-kvY7khZXgP"
      },
      "source": [
        "from sklearn.neural_network import MLPRegressor\n",
        "from sklearn.neural_network import MLPClassifier\n",
        "from sklearn.model_selection import train_test_split\n",
        "from sklearn.metrics import r2_score\n",
        "from sklearn.preprocessing import StandardScaler\n",
        "from sklearn.metrics import mean_squared_error\n",
        "from sklearn.metrics import accuracy_score"
      ],
      "execution_count": null,
      "outputs": []
    },
    {
      "cell_type": "code",
      "metadata": {
        "id": "uuDiRp4aZsNt"
      },
      "source": [
        "  features = df.drop('ranges',axis=1)\n",
        "  labels = df['ranges']"
      ],
      "execution_count": null,
      "outputs": []
    },
    {
      "cell_type": "code",
      "metadata": {
        "id": "zz-KayXgbeqC"
      },
      "source": [
        "feature_train, feature_test, label_train, label_test = train_test_split(features, labels, test_size=0.2, random_state=1)"
      ],
      "execution_count": null,
      "outputs": []
    },
    {
      "cell_type": "code",
      "metadata": {
        "id": "BM2V5GBv_djQ"
      },
      "source": [
        "sc_X = StandardScaler()\n",
        "feature_train=sc_X.fit_transform(feature_train)\n",
        "feature_test=sc_X.fit_transform(feature_test)"
      ],
      "execution_count": null,
      "outputs": []
    },
    {
      "cell_type": "markdown",
      "metadata": {
        "id": "fidIV0JWrj7G"
      },
      "source": [
        "# Genetic Algorithm"
      ]
    },
    {
      "cell_type": "code",
      "metadata": {
        "id": "t5sMudLwth_5"
      },
      "source": [
        "import random"
      ],
      "execution_count": null,
      "outputs": []
    },
    {
      "cell_type": "markdown",
      "metadata": {
        "id": "w9qdH5hNkCnU"
      },
      "source": [
        "## Parâmetros & Função Fitness\n"
      ]
    },
    {
      "cell_type": "code",
      "metadata": {
        "id": "P5x1-IJgwwgx"
      },
      "source": [
        "POPULATION_SIZE = 30\n",
        "GENERATIONS = 100\n",
        "CHILDREN_RATE = 3"
      ],
      "execution_count": null,
      "outputs": []
    },
    {
      "cell_type": "code",
      "metadata": {
        "id": "aDJYWZoDsk2P"
      },
      "source": [
        "activation = ['identity', 'logistic', 'tanh', 'relu']\n",
        "solver = ['lbfgs','sgd', 'adam']\n",
        "learning_rate = ['constant', 'invscaling', 'adaptive']"
      ],
      "execution_count": null,
      "outputs": []
    },
    {
      "cell_type": "code",
      "metadata": {
        "id": "dJ76jg7jqHbK"
      },
      "source": [
        "def calculate_fitness(individue):\n",
        "  model_mlp = MLPClassifier(activation=individue['activation'],\n",
        "                            hidden_layer_sizes=individue['hidden_layer_sizes'],\n",
        "                            learning_rate=individue['learning_rate'],\n",
        "                            max_iter=individue['max_iter'],\n",
        "                            solver=individue['solver'],\n",
        "                            shuffle=individue['shuffle'],\n",
        "                            warm_start=individue['warm_start'],\n",
        "                            momentum=individue['momentum'],\n",
        "                            nesterovs_momentum=individue['nesterovs_momentum'],\n",
        "                            batch_size=individue['batch_size'])\n",
        "  \n",
        "\n",
        "  model_mlp.fit(feature_train, label_train) \n",
        "\n",
        "  prediction = model_mlp.predict(feature_test) \n",
        "  return accuracy_score(label_test, prediction)\n",
        "  "
      ],
      "execution_count": null,
      "outputs": []
    },
    {
      "cell_type": "markdown",
      "metadata": {
        "id": "aXVx1QL6pUzI"
      },
      "source": [
        "## Geração Ppulação \n"
      ]
    },
    {
      "cell_type": "code",
      "metadata": {
        "id": "fd5T7wWitGvJ"
      },
      "source": [
        "def generate_individue():\n",
        "  individue = {\n",
        "      'activation':  activation[random.randint(0, 3)],\n",
        "      'hidden_layer_sizes' : (random.randint(100, 200), random.randint(50, 100) ,random.randint(10, 50)),\n",
        "      'learning_rate': learning_rate[random.randint(0,2)],\n",
        "      'max_iter' : random.randint(100, 250),\n",
        "      'solver': solver[random.randint(0,2)],\n",
        "      'shuffle' : (random.randint(0,1) == 1),\n",
        "      'warm_start' : (random.randint(0,1) == 1),\n",
        "      'momentum' : random.randrange(0,1),\n",
        "      'nesterovs_momentum' : (random.randint(0,1) == 1),\n",
        "      'batch_size' : random.randint(100,300),\n",
        "      'fitness': 0  \n",
        "  }\n",
        "\n",
        "  individue['fitness'] = calculate_fitness(individue)\n",
        "  return individue"
      ],
      "execution_count": null,
      "outputs": []
    },
    {
      "cell_type": "code",
      "metadata": {
        "id": "rrIhSBDmI-hh"
      },
      "source": [
        "def sortByFitness(e):\n",
        "  return e['fitness']"
      ],
      "execution_count": null,
      "outputs": []
    },
    {
      "cell_type": "code",
      "metadata": {
        "id": "M0fEvf28riTX"
      },
      "source": [
        "def initiate_population(population_size):\n",
        "  population = [[]] * population_size\n",
        "  population = [generate_individue() for i in range(0, population_size)]\n",
        "  population.sort(key=sortByFitness, reverse=True)\n",
        "  return population"
      ],
      "execution_count": null,
      "outputs": []
    },
    {
      "cell_type": "markdown",
      "metadata": {
        "id": "GbRlUqeHpa4v"
      },
      "source": [
        "## Mutações\n"
      ]
    },
    {
      "cell_type": "code",
      "metadata": {
        "id": "fuzA6Z4Bw5wn"
      },
      "source": [
        "def choose_parents(population):\n",
        "  father = random.randint(0, POPULATION_SIZE - 1)\n",
        "  mother = random.randint(0, POPULATION_SIZE - 1)\n",
        "  return [population[father], population[mother]]"
      ],
      "execution_count": null,
      "outputs": []
    },
    {
      "cell_type": "code",
      "metadata": {
        "id": "Eyl4DUXfo6Qq"
      },
      "source": [
        "def choose_candidates(population):\n",
        "  candidatesIndex = []\n",
        "  for x in range(0, round(POPULATION_SIZE * 0.3) ):\n",
        "    index = random.randint(0, POPULATION_SIZE - 1)\n",
        "    while index in candidatesIndex:\n",
        "      index = random.randint(0, POPULATION_SIZE - 1)\n",
        "    candidatesIndex.append(index)\n",
        "\n",
        "  candidates = []\n",
        "  for x in candidatesIndex:\n",
        "    candidates.append(population[x])\n",
        "  return candidates   \n",
        "\n",
        "def choose_parents_by_roullete(population):\n",
        "  population.sort(key=sortByFitness, reverse=True)\n",
        "  candidates = population[:round(POPULATION_SIZE / 2)]\n",
        "  probabilities = [];\n",
        "  sumOfFitness = 0;\n",
        "  previousProbabilities = 0;\n",
        "  parents = [];\n",
        "\n",
        "  for i in candidates:\n",
        "    sumOfFitness = sumOfFitness + i['fitness']\n",
        "\n",
        "  candidates.sort(key=sortByFitness)\n",
        "\n",
        " \n",
        "  for cand in candidates:\n",
        "    prob = previousProbabilities + (cand['fitness'] / sumOfFitness);\n",
        "    previousProbabilities = prob;\n",
        "    probabilities.append(prob);\n",
        "  \n",
        "  while len(parents)  < 2:\n",
        "    number = random.randint(1, 10) /10\n",
        "    found = False\n",
        "    for y in range(0, len(probabilities)):\n",
        "      if (number <= probabilities[y]) & (not found):\n",
        "        parents.append(candidates[y])\n",
        "        found = True\n",
        "  \n",
        "  return parents"
      ],
      "execution_count": null,
      "outputs": []
    },
    {
      "cell_type": "code",
      "metadata": {
        "id": "5ryiU82qSc5p"
      },
      "source": [
        "def mutate_activation(individue):\n",
        "  new_attribute = activation[random.randint(0,3)] \n",
        "  while new_attribute == individue['activation']:\n",
        "    new_attribute = activation[random.randint(0,3)] \n",
        "  individue['activation'] = new_attribute\n",
        "  return individue\n",
        "\n",
        "def mutate_learning_rate(individue):\n",
        "  new_attribute = learning_rate[random.randint(0,2)] \n",
        "  while new_attribute == individue['learning_rate']:\n",
        "    new_attribute = learning_rate[random.randint(0,2)] \n",
        "  individue['learning_rate'] = new_attribute\n",
        "  return individue\n",
        "\n",
        "def mutate_solver(individue):\n",
        "  new_attribute = solver[random.randint(0,2)] \n",
        "  while new_attribute == individue['solver']:\n",
        "    new_attribute = solver[random.randint(0,2)] \n",
        "  individue['solver'] = new_attribute\n",
        "  return individue\n",
        "\n",
        "def mutate_momentum(individue):\n",
        "  new_attribute = random.randrange(0,1)\n",
        "  while new_attribute == individue['momentum']:\n",
        "    new_attribute = random.randrange(0,1)\n",
        "  individue['momentum'] = new_attribute\n",
        "  return individue\n",
        "\n",
        "def mutate_batch_size(individue):\n",
        "  new_attribute = random.randint(100,300)\n",
        "  while new_attribute == individue['batch_size']:\n",
        "    new_attribute = random.randint(100,300)\n",
        "  individue['batch_size'] = new_attribute\n",
        "  return individue\n",
        "\n",
        "def mutate_shuffle(individue):\n",
        "  individue['shuffle'] = not individue['shuffle']\n",
        "  return individue\n",
        "\n",
        "def mutate_warm_start(individue):\n",
        "  individue['warm_start'] = not individue['warm_start']\n",
        "  return individue\n",
        "\n",
        "def mutate_nesterovs_momentum(individue):\n",
        "  individue['nesterovs_momentum'] = not individue['nesterovs_momentum']\n",
        "  return individue\n",
        "\n",
        "# 'shuffle' : (random.randint(0,1) == 1),\n",
        "#       'warm_start' : (random.randint(0,1) == 1),\n",
        "#       'momentum' : random.randrange(0,1),\n",
        "#       'nesterovs_momentum' : (random.randint(0,1) == 1),\n",
        "\n",
        "def mutate(individue):\n",
        "  mutations = [mutate_activation, mutate_learning_rate, mutate_solver,mutate_momentum,mutate_shuffle,mutate_warm_start,mutate_nesterovs_momentum,mutate_batch_size]\n",
        "  prob = random.randint(0, 10)\n",
        "  if prob >= 6:\n",
        "    mutation1 = random.randint(0,len(mutations)-1)\n",
        "    mutation2 = random.randint(0,len(mutations)-1)\n",
        "\n",
        "    individue = mutations[mutation1](individue)\n",
        "    individue = mutations[mutation2](individue)\n",
        "\n",
        "  return individue"
      ],
      "execution_count": null,
      "outputs": []
    },
    {
      "cell_type": "code",
      "metadata": {
        "id": "OQRgAu6X1zHi"
      },
      "source": [
        "def make_children(population):\n",
        "  parents = choose_parents_by_roullete(population)\n",
        "  \n",
        "  for x in range(0, 2):\n",
        "    child = {'activation': parents[random.randint(0,1)]['activation'],\n",
        "            'hidden_layer_sizes': (parents[random.randint(0,1)]['hidden_layer_sizes'][0],parents[random.randint(0,1)]['hidden_layer_sizes'][1], parents[random.randint(0,1)]['hidden_layer_sizes'][2]),\n",
        "            'learning_rate': parents[random.randint(0,1)]['learning_rate'],\n",
        "            'max_iter': parents[random.randint(0,1)]['max_iter'],\n",
        "            'solver': parents[random.randint(0,1)]['solver'],\n",
        "            'shuffle': parents[random.randint(0,1)]['shuffle'],\n",
        "            'warm_start': parents[random.randint(0,1)]['warm_start'],\n",
        "            'momentum' : parents[random.randint(0,1)]['momentum'],\n",
        "            'nesterovs_momentum' : parents[random.randint(0,1)]['nesterovs_momentum'],\n",
        "            'batch_size' : parents[random.randint(0,1)]['batch_size'],\n",
        "            'fitness': 0}\n",
        "    \n",
        "\n",
        "    child = mutate(child)\n",
        "    child['fitness'] = calculate_fitness(child)\n",
        "    population.append(child)\n",
        "  \n",
        "  population.sort(key=sortByFitness, reverse=True)\n",
        "  return population[:POPULATION_SIZE]"
      ],
      "execution_count": null,
      "outputs": []
    },
    {
      "cell_type": "markdown",
      "metadata": {
        "id": "74xqqF8SvPVq"
      },
      "source": [
        "#Main"
      ]
    },
    {
      "cell_type": "code",
      "metadata": {
        "colab": {
          "base_uri": "https://localhost:8080/"
        },
        "id": "IPBbhhb7yBLe",
        "outputId": "c9976b23-d045-4372-a488-7252a0e36373"
      },
      "source": [
        "population = initiate_population(POPULATION_SIZE)\n",
        "population.sort(key=sortByFitness, reverse=True)\n",
        "print(population)\n",
        "for x in range(0, GENERATIONS):\n",
        "  print(\"generation: \")\n",
        "  print(x)\n",
        "  population = make_children(population)\n",
        "  print(population)\n",
        "\n",
        "print(\"Better was: \") \n",
        "print(population[0])\n",
        "print(\"With a accuracy of: \")\n",
        "print(population[0]['fitness'])"
      ],
      "execution_count": null,
      "outputs": [
        {
          "output_type": "stream",
          "text": [
            "/usr/local/lib/python3.7/dist-packages/sklearn/neural_network/_multilayer_perceptron.py:571: ConvergenceWarning: Stochastic Optimizer: Maximum iterations (237) reached and the optimization hasn't converged yet.\n",
            "  % self.max_iter, ConvergenceWarning)\n",
            "/usr/local/lib/python3.7/dist-packages/sklearn/neural_network/_multilayer_perceptron.py:470: ConvergenceWarning: lbfgs failed to converge (status=1):\n",
            "STOP: TOTAL NO. of ITERATIONS REACHED LIMIT.\n",
            "\n",
            "Increase the number of iterations (max_iter) or scale the data as shown in:\n",
            "    https://scikit-learn.org/stable/modules/preprocessing.html\n",
            "  self.n_iter_ = _check_optimize_result(\"lbfgs\", opt_res, self.max_iter)\n",
            "/usr/local/lib/python3.7/dist-packages/sklearn/neural_network/_multilayer_perceptron.py:571: ConvergenceWarning: Stochastic Optimizer: Maximum iterations (170) reached and the optimization hasn't converged yet.\n",
            "  % self.max_iter, ConvergenceWarning)\n",
            "/usr/local/lib/python3.7/dist-packages/sklearn/neural_network/_multilayer_perceptron.py:571: ConvergenceWarning: Stochastic Optimizer: Maximum iterations (151) reached and the optimization hasn't converged yet.\n",
            "  % self.max_iter, ConvergenceWarning)\n",
            "/usr/local/lib/python3.7/dist-packages/sklearn/neural_network/_multilayer_perceptron.py:470: ConvergenceWarning: lbfgs failed to converge (status=1):\n",
            "STOP: TOTAL NO. of ITERATIONS REACHED LIMIT.\n",
            "\n",
            "Increase the number of iterations (max_iter) or scale the data as shown in:\n",
            "    https://scikit-learn.org/stable/modules/preprocessing.html\n",
            "  self.n_iter_ = _check_optimize_result(\"lbfgs\", opt_res, self.max_iter)\n",
            "/usr/local/lib/python3.7/dist-packages/sklearn/neural_network/_multilayer_perceptron.py:571: ConvergenceWarning: Stochastic Optimizer: Maximum iterations (230) reached and the optimization hasn't converged yet.\n",
            "  % self.max_iter, ConvergenceWarning)\n",
            "/usr/local/lib/python3.7/dist-packages/sklearn/neural_network/_multilayer_perceptron.py:470: ConvergenceWarning: lbfgs failed to converge (status=1):\n",
            "STOP: TOTAL NO. of ITERATIONS REACHED LIMIT.\n",
            "\n",
            "Increase the number of iterations (max_iter) or scale the data as shown in:\n",
            "    https://scikit-learn.org/stable/modules/preprocessing.html\n",
            "  self.n_iter_ = _check_optimize_result(\"lbfgs\", opt_res, self.max_iter)\n",
            "/usr/local/lib/python3.7/dist-packages/sklearn/neural_network/_multilayer_perceptron.py:470: ConvergenceWarning: lbfgs failed to converge (status=1):\n",
            "STOP: TOTAL NO. of ITERATIONS REACHED LIMIT.\n",
            "\n",
            "Increase the number of iterations (max_iter) or scale the data as shown in:\n",
            "    https://scikit-learn.org/stable/modules/preprocessing.html\n",
            "  self.n_iter_ = _check_optimize_result(\"lbfgs\", opt_res, self.max_iter)\n",
            "/usr/local/lib/python3.7/dist-packages/sklearn/neural_network/_multilayer_perceptron.py:571: ConvergenceWarning: Stochastic Optimizer: Maximum iterations (205) reached and the optimization hasn't converged yet.\n",
            "  % self.max_iter, ConvergenceWarning)\n",
            "/usr/local/lib/python3.7/dist-packages/sklearn/neural_network/_multilayer_perceptron.py:571: ConvergenceWarning: Stochastic Optimizer: Maximum iterations (156) reached and the optimization hasn't converged yet.\n",
            "  % self.max_iter, ConvergenceWarning)\n",
            "/usr/local/lib/python3.7/dist-packages/sklearn/neural_network/_multilayer_perceptron.py:571: ConvergenceWarning: Stochastic Optimizer: Maximum iterations (113) reached and the optimization hasn't converged yet.\n",
            "  % self.max_iter, ConvergenceWarning)\n",
            "/usr/local/lib/python3.7/dist-packages/sklearn/neural_network/_multilayer_perceptron.py:470: ConvergenceWarning: lbfgs failed to converge (status=1):\n",
            "STOP: TOTAL NO. of ITERATIONS REACHED LIMIT.\n",
            "\n",
            "Increase the number of iterations (max_iter) or scale the data as shown in:\n",
            "    https://scikit-learn.org/stable/modules/preprocessing.html\n",
            "  self.n_iter_ = _check_optimize_result(\"lbfgs\", opt_res, self.max_iter)\n",
            "/usr/local/lib/python3.7/dist-packages/sklearn/neural_network/_multilayer_perceptron.py:571: ConvergenceWarning: Stochastic Optimizer: Maximum iterations (221) reached and the optimization hasn't converged yet.\n",
            "  % self.max_iter, ConvergenceWarning)\n",
            "/usr/local/lib/python3.7/dist-packages/sklearn/neural_network/_multilayer_perceptron.py:470: ConvergenceWarning: lbfgs failed to converge (status=1):\n",
            "STOP: TOTAL NO. of ITERATIONS REACHED LIMIT.\n",
            "\n",
            "Increase the number of iterations (max_iter) or scale the data as shown in:\n",
            "    https://scikit-learn.org/stable/modules/preprocessing.html\n",
            "  self.n_iter_ = _check_optimize_result(\"lbfgs\", opt_res, self.max_iter)\n",
            "/usr/local/lib/python3.7/dist-packages/sklearn/neural_network/_multilayer_perceptron.py:470: ConvergenceWarning: lbfgs failed to converge (status=1):\n",
            "STOP: TOTAL NO. of ITERATIONS REACHED LIMIT.\n",
            "\n",
            "Increase the number of iterations (max_iter) or scale the data as shown in:\n",
            "    https://scikit-learn.org/stable/modules/preprocessing.html\n",
            "  self.n_iter_ = _check_optimize_result(\"lbfgs\", opt_res, self.max_iter)\n",
            "/usr/local/lib/python3.7/dist-packages/sklearn/neural_network/_multilayer_perceptron.py:571: ConvergenceWarning: Stochastic Optimizer: Maximum iterations (175) reached and the optimization hasn't converged yet.\n",
            "  % self.max_iter, ConvergenceWarning)\n",
            "/usr/local/lib/python3.7/dist-packages/sklearn/neural_network/_multilayer_perceptron.py:470: ConvergenceWarning: lbfgs failed to converge (status=1):\n",
            "STOP: TOTAL NO. of ITERATIONS REACHED LIMIT.\n",
            "\n",
            "Increase the number of iterations (max_iter) or scale the data as shown in:\n",
            "    https://scikit-learn.org/stable/modules/preprocessing.html\n",
            "  self.n_iter_ = _check_optimize_result(\"lbfgs\", opt_res, self.max_iter)\n",
            "/usr/local/lib/python3.7/dist-packages/sklearn/neural_network/_multilayer_perceptron.py:571: ConvergenceWarning: Stochastic Optimizer: Maximum iterations (232) reached and the optimization hasn't converged yet.\n",
            "  % self.max_iter, ConvergenceWarning)\n",
            "/usr/local/lib/python3.7/dist-packages/sklearn/neural_network/_multilayer_perceptron.py:571: ConvergenceWarning: Stochastic Optimizer: Maximum iterations (107) reached and the optimization hasn't converged yet.\n",
            "  % self.max_iter, ConvergenceWarning)\n"
          ],
          "name": "stderr"
        },
        {
          "output_type": "stream",
          "text": [
            "[{'activation': 'logistic', 'hidden_layer_sizes': (143, 68, 31), 'learning_rate': 'constant', 'max_iter': 144, 'solver': 'lbfgs', 'shuffle': True, 'warm_start': True, 'momentum': 0, 'nesterovs_momentum': False, 'batch_size': 105, 'fitness': 0.71}, {'activation': 'relu', 'hidden_layer_sizes': (162, 66, 15), 'learning_rate': 'constant', 'max_iter': 156, 'solver': 'sgd', 'shuffle': True, 'warm_start': False, 'momentum': 0, 'nesterovs_momentum': False, 'batch_size': 103, 'fitness': 0.7035}, {'activation': 'logistic', 'hidden_layer_sizes': (107, 86, 50), 'learning_rate': 'adaptive', 'max_iter': 189, 'solver': 'lbfgs', 'shuffle': True, 'warm_start': True, 'momentum': 0, 'nesterovs_momentum': False, 'batch_size': 125, 'fitness': 0.702}, {'activation': 'tanh', 'hidden_layer_sizes': (145, 63, 36), 'learning_rate': 'constant', 'max_iter': 206, 'solver': 'sgd', 'shuffle': True, 'warm_start': False, 'momentum': 0, 'nesterovs_momentum': True, 'batch_size': 228, 'fitness': 0.699}, {'activation': 'identity', 'hidden_layer_sizes': (105, 62, 34), 'learning_rate': 'adaptive', 'max_iter': 234, 'solver': 'adam', 'shuffle': True, 'warm_start': False, 'momentum': 0, 'nesterovs_momentum': False, 'batch_size': 255, 'fitness': 0.6985}, {'activation': 'tanh', 'hidden_layer_sizes': (159, 55, 33), 'learning_rate': 'constant', 'max_iter': 170, 'solver': 'sgd', 'shuffle': False, 'warm_start': False, 'momentum': 0, 'nesterovs_momentum': False, 'batch_size': 239, 'fitness': 0.698}, {'activation': 'identity', 'hidden_layer_sizes': (157, 56, 38), 'learning_rate': 'constant', 'max_iter': 237, 'solver': 'sgd', 'shuffle': False, 'warm_start': False, 'momentum': 0, 'nesterovs_momentum': False, 'batch_size': 194, 'fitness': 0.698}, {'activation': 'identity', 'hidden_layer_sizes': (104, 70, 49), 'learning_rate': 'invscaling', 'max_iter': 156, 'solver': 'adam', 'shuffle': True, 'warm_start': False, 'momentum': 0, 'nesterovs_momentum': False, 'batch_size': 198, 'fitness': 0.6975}, {'activation': 'identity', 'hidden_layer_sizes': (188, 63, 22), 'learning_rate': 'constant', 'max_iter': 129, 'solver': 'sgd', 'shuffle': False, 'warm_start': False, 'momentum': 0, 'nesterovs_momentum': False, 'batch_size': 156, 'fitness': 0.6975}, {'activation': 'identity', 'hidden_layer_sizes': (118, 77, 29), 'learning_rate': 'constant', 'max_iter': 157, 'solver': 'lbfgs', 'shuffle': True, 'warm_start': True, 'momentum': 0, 'nesterovs_momentum': True, 'batch_size': 253, 'fitness': 0.697}, {'activation': 'identity', 'hidden_layer_sizes': (159, 79, 13), 'learning_rate': 'constant', 'max_iter': 163, 'solver': 'lbfgs', 'shuffle': False, 'warm_start': True, 'momentum': 0, 'nesterovs_momentum': True, 'batch_size': 187, 'fitness': 0.697}, {'activation': 'logistic', 'hidden_layer_sizes': (101, 100, 25), 'learning_rate': 'invscaling', 'max_iter': 205, 'solver': 'adam', 'shuffle': True, 'warm_start': True, 'momentum': 0, 'nesterovs_momentum': True, 'batch_size': 146, 'fitness': 0.6965}, {'activation': 'logistic', 'hidden_layer_sizes': (188, 67, 27), 'learning_rate': 'adaptive', 'max_iter': 141, 'solver': 'lbfgs', 'shuffle': True, 'warm_start': True, 'momentum': 0, 'nesterovs_momentum': True, 'batch_size': 265, 'fitness': 0.6955}, {'activation': 'identity', 'hidden_layer_sizes': (182, 83, 14), 'learning_rate': 'invscaling', 'max_iter': 134, 'solver': 'adam', 'shuffle': True, 'warm_start': True, 'momentum': 0, 'nesterovs_momentum': True, 'batch_size': 280, 'fitness': 0.695}, {'activation': 'logistic', 'hidden_layer_sizes': (129, 54, 48), 'learning_rate': 'constant', 'max_iter': 215, 'solver': 'lbfgs', 'shuffle': True, 'warm_start': True, 'momentum': 0, 'nesterovs_momentum': True, 'batch_size': 110, 'fitness': 0.695}, {'activation': 'identity', 'hidden_layer_sizes': (198, 58, 37), 'learning_rate': 'invscaling', 'max_iter': 194, 'solver': 'adam', 'shuffle': False, 'warm_start': False, 'momentum': 0, 'nesterovs_momentum': True, 'batch_size': 162, 'fitness': 0.6945}, {'activation': 'relu', 'hidden_layer_sizes': (185, 99, 24), 'learning_rate': 'constant', 'max_iter': 175, 'solver': 'sgd', 'shuffle': True, 'warm_start': True, 'momentum': 0, 'nesterovs_momentum': True, 'batch_size': 224, 'fitness': 0.694}, {'activation': 'logistic', 'hidden_layer_sizes': (103, 70, 31), 'learning_rate': 'adaptive', 'max_iter': 107, 'solver': 'adam', 'shuffle': False, 'warm_start': True, 'momentum': 0, 'nesterovs_momentum': True, 'batch_size': 162, 'fitness': 0.693}, {'activation': 'relu', 'hidden_layer_sizes': (110, 66, 13), 'learning_rate': 'invscaling', 'max_iter': 151, 'solver': 'adam', 'shuffle': False, 'warm_start': True, 'momentum': 0, 'nesterovs_momentum': False, 'batch_size': 222, 'fitness': 0.68}, {'activation': 'relu', 'hidden_layer_sizes': (184, 65, 12), 'learning_rate': 'constant', 'max_iter': 113, 'solver': 'adam', 'shuffle': False, 'warm_start': True, 'momentum': 0, 'nesterovs_momentum': True, 'batch_size': 106, 'fitness': 0.666}, {'activation': 'relu', 'hidden_layer_sizes': (104, 69, 17), 'learning_rate': 'constant', 'max_iter': 221, 'solver': 'adam', 'shuffle': True, 'warm_start': True, 'momentum': 0, 'nesterovs_momentum': True, 'batch_size': 147, 'fitness': 0.6465}, {'activation': 'tanh', 'hidden_layer_sizes': (101, 62, 22), 'learning_rate': 'adaptive', 'max_iter': 169, 'solver': 'lbfgs', 'shuffle': False, 'warm_start': True, 'momentum': 0, 'nesterovs_momentum': False, 'batch_size': 289, 'fitness': 0.644}, {'activation': 'tanh', 'hidden_layer_sizes': (161, 67, 23), 'learning_rate': 'adaptive', 'max_iter': 237, 'solver': 'adam', 'shuffle': True, 'warm_start': False, 'momentum': 0, 'nesterovs_momentum': False, 'batch_size': 118, 'fitness': 0.64}, {'activation': 'relu', 'hidden_layer_sizes': (166, 93, 22), 'learning_rate': 'adaptive', 'max_iter': 232, 'solver': 'adam', 'shuffle': True, 'warm_start': True, 'momentum': 0, 'nesterovs_momentum': False, 'batch_size': 127, 'fitness': 0.64}, {'activation': 'tanh', 'hidden_layer_sizes': (142, 97, 49), 'learning_rate': 'constant', 'max_iter': 230, 'solver': 'adam', 'shuffle': True, 'warm_start': False, 'momentum': 0, 'nesterovs_momentum': True, 'batch_size': 273, 'fitness': 0.6395}, {'activation': 'tanh', 'hidden_layer_sizes': (112, 52, 33), 'learning_rate': 'invscaling', 'max_iter': 155, 'solver': 'lbfgs', 'shuffle': True, 'warm_start': True, 'momentum': 0, 'nesterovs_momentum': False, 'batch_size': 116, 'fitness': 0.638}, {'activation': 'tanh', 'hidden_layer_sizes': (165, 63, 38), 'learning_rate': 'constant', 'max_iter': 209, 'solver': 'lbfgs', 'shuffle': True, 'warm_start': True, 'momentum': 0, 'nesterovs_momentum': False, 'batch_size': 187, 'fitness': 0.6315}, {'activation': 'tanh', 'hidden_layer_sizes': (147, 79, 26), 'learning_rate': 'invscaling', 'max_iter': 248, 'solver': 'lbfgs', 'shuffle': False, 'warm_start': False, 'momentum': 0, 'nesterovs_momentum': False, 'batch_size': 221, 'fitness': 0.63}, {'activation': 'logistic', 'hidden_layer_sizes': (119, 78, 42), 'learning_rate': 'constant', 'max_iter': 232, 'solver': 'sgd', 'shuffle': True, 'warm_start': True, 'momentum': 0, 'nesterovs_momentum': False, 'batch_size': 231, 'fitness': 0.5005}, {'activation': 'logistic', 'hidden_layer_sizes': (187, 89, 48), 'learning_rate': 'constant', 'max_iter': 133, 'solver': 'sgd', 'shuffle': True, 'warm_start': False, 'momentum': 0, 'nesterovs_momentum': False, 'batch_size': 199, 'fitness': 0.5005}]\n",
            "generation: \n",
            "0\n"
          ],
          "name": "stdout"
        },
        {
          "output_type": "stream",
          "text": [
            "/usr/local/lib/python3.7/dist-packages/sklearn/neural_network/_multilayer_perceptron.py:470: ConvergenceWarning: lbfgs failed to converge (status=1):\n",
            "STOP: TOTAL NO. of ITERATIONS REACHED LIMIT.\n",
            "\n",
            "Increase the number of iterations (max_iter) or scale the data as shown in:\n",
            "    https://scikit-learn.org/stable/modules/preprocessing.html\n",
            "  self.n_iter_ = _check_optimize_result(\"lbfgs\", opt_res, self.max_iter)\n"
          ],
          "name": "stderr"
        },
        {
          "output_type": "stream",
          "text": [
            "[{'activation': 'logistic', 'hidden_layer_sizes': (143, 68, 31), 'learning_rate': 'constant', 'max_iter': 144, 'solver': 'lbfgs', 'shuffle': True, 'warm_start': True, 'momentum': 0, 'nesterovs_momentum': False, 'batch_size': 105, 'fitness': 0.71}, {'activation': 'relu', 'hidden_layer_sizes': (162, 66, 15), 'learning_rate': 'constant', 'max_iter': 156, 'solver': 'sgd', 'shuffle': True, 'warm_start': False, 'momentum': 0, 'nesterovs_momentum': False, 'batch_size': 103, 'fitness': 0.7035}, {'activation': 'logistic', 'hidden_layer_sizes': (107, 86, 50), 'learning_rate': 'adaptive', 'max_iter': 189, 'solver': 'lbfgs', 'shuffle': True, 'warm_start': True, 'momentum': 0, 'nesterovs_momentum': False, 'batch_size': 125, 'fitness': 0.702}, {'activation': 'tanh', 'hidden_layer_sizes': (145, 63, 36), 'learning_rate': 'constant', 'max_iter': 206, 'solver': 'sgd', 'shuffle': True, 'warm_start': False, 'momentum': 0, 'nesterovs_momentum': True, 'batch_size': 228, 'fitness': 0.699}, {'activation': 'identity', 'hidden_layer_sizes': (105, 62, 34), 'learning_rate': 'adaptive', 'max_iter': 234, 'solver': 'adam', 'shuffle': True, 'warm_start': False, 'momentum': 0, 'nesterovs_momentum': False, 'batch_size': 255, 'fitness': 0.6985}, {'activation': 'tanh', 'hidden_layer_sizes': (159, 55, 33), 'learning_rate': 'constant', 'max_iter': 170, 'solver': 'sgd', 'shuffle': False, 'warm_start': False, 'momentum': 0, 'nesterovs_momentum': False, 'batch_size': 239, 'fitness': 0.698}, {'activation': 'identity', 'hidden_layer_sizes': (157, 56, 38), 'learning_rate': 'constant', 'max_iter': 237, 'solver': 'sgd', 'shuffle': False, 'warm_start': False, 'momentum': 0, 'nesterovs_momentum': False, 'batch_size': 194, 'fitness': 0.698}, {'activation': 'identity', 'hidden_layer_sizes': (104, 70, 49), 'learning_rate': 'invscaling', 'max_iter': 156, 'solver': 'adam', 'shuffle': True, 'warm_start': False, 'momentum': 0, 'nesterovs_momentum': False, 'batch_size': 198, 'fitness': 0.6975}, {'activation': 'identity', 'hidden_layer_sizes': (188, 63, 22), 'learning_rate': 'constant', 'max_iter': 129, 'solver': 'sgd', 'shuffle': False, 'warm_start': False, 'momentum': 0, 'nesterovs_momentum': False, 'batch_size': 156, 'fitness': 0.6975}, {'activation': 'identity', 'hidden_layer_sizes': (118, 77, 29), 'learning_rate': 'constant', 'max_iter': 157, 'solver': 'lbfgs', 'shuffle': True, 'warm_start': True, 'momentum': 0, 'nesterovs_momentum': True, 'batch_size': 253, 'fitness': 0.697}, {'activation': 'identity', 'hidden_layer_sizes': (159, 79, 13), 'learning_rate': 'constant', 'max_iter': 163, 'solver': 'lbfgs', 'shuffle': False, 'warm_start': True, 'momentum': 0, 'nesterovs_momentum': True, 'batch_size': 187, 'fitness': 0.697}, {'activation': 'identity', 'hidden_layer_sizes': (107, 86, 50), 'learning_rate': 'adaptive', 'max_iter': 189, 'solver': 'adam', 'shuffle': True, 'warm_start': False, 'momentum': 0, 'nesterovs_momentum': False, 'batch_size': 125, 'fitness': 0.697}, {'activation': 'logistic', 'hidden_layer_sizes': (101, 100, 25), 'learning_rate': 'invscaling', 'max_iter': 205, 'solver': 'adam', 'shuffle': True, 'warm_start': True, 'momentum': 0, 'nesterovs_momentum': True, 'batch_size': 146, 'fitness': 0.6965}, {'activation': 'logistic', 'hidden_layer_sizes': (188, 67, 27), 'learning_rate': 'adaptive', 'max_iter': 141, 'solver': 'lbfgs', 'shuffle': True, 'warm_start': True, 'momentum': 0, 'nesterovs_momentum': True, 'batch_size': 265, 'fitness': 0.6955}, {'activation': 'identity', 'hidden_layer_sizes': (182, 83, 14), 'learning_rate': 'invscaling', 'max_iter': 134, 'solver': 'adam', 'shuffle': True, 'warm_start': True, 'momentum': 0, 'nesterovs_momentum': True, 'batch_size': 280, 'fitness': 0.695}, {'activation': 'logistic', 'hidden_layer_sizes': (129, 54, 48), 'learning_rate': 'constant', 'max_iter': 215, 'solver': 'lbfgs', 'shuffle': True, 'warm_start': True, 'momentum': 0, 'nesterovs_momentum': True, 'batch_size': 110, 'fitness': 0.695}, {'activation': 'identity', 'hidden_layer_sizes': (198, 58, 37), 'learning_rate': 'invscaling', 'max_iter': 194, 'solver': 'adam', 'shuffle': False, 'warm_start': False, 'momentum': 0, 'nesterovs_momentum': True, 'batch_size': 162, 'fitness': 0.6945}, {'activation': 'relu', 'hidden_layer_sizes': (185, 99, 24), 'learning_rate': 'constant', 'max_iter': 175, 'solver': 'sgd', 'shuffle': True, 'warm_start': True, 'momentum': 0, 'nesterovs_momentum': True, 'batch_size': 224, 'fitness': 0.694}, {'activation': 'logistic', 'hidden_layer_sizes': (103, 70, 31), 'learning_rate': 'adaptive', 'max_iter': 107, 'solver': 'adam', 'shuffle': False, 'warm_start': True, 'momentum': 0, 'nesterovs_momentum': True, 'batch_size': 162, 'fitness': 0.693}, {'activation': 'logistic', 'hidden_layer_sizes': (107, 86, 50), 'learning_rate': 'constant', 'max_iter': 234, 'solver': 'lbfgs', 'shuffle': True, 'warm_start': False, 'momentum': 0, 'nesterovs_momentum': False, 'batch_size': 125, 'fitness': 0.692}, {'activation': 'relu', 'hidden_layer_sizes': (110, 66, 13), 'learning_rate': 'invscaling', 'max_iter': 151, 'solver': 'adam', 'shuffle': False, 'warm_start': True, 'momentum': 0, 'nesterovs_momentum': False, 'batch_size': 222, 'fitness': 0.68}, {'activation': 'relu', 'hidden_layer_sizes': (184, 65, 12), 'learning_rate': 'constant', 'max_iter': 113, 'solver': 'adam', 'shuffle': False, 'warm_start': True, 'momentum': 0, 'nesterovs_momentum': True, 'batch_size': 106, 'fitness': 0.666}, {'activation': 'relu', 'hidden_layer_sizes': (104, 69, 17), 'learning_rate': 'constant', 'max_iter': 221, 'solver': 'adam', 'shuffle': True, 'warm_start': True, 'momentum': 0, 'nesterovs_momentum': True, 'batch_size': 147, 'fitness': 0.6465}, {'activation': 'tanh', 'hidden_layer_sizes': (101, 62, 22), 'learning_rate': 'adaptive', 'max_iter': 169, 'solver': 'lbfgs', 'shuffle': False, 'warm_start': True, 'momentum': 0, 'nesterovs_momentum': False, 'batch_size': 289, 'fitness': 0.644}, {'activation': 'tanh', 'hidden_layer_sizes': (161, 67, 23), 'learning_rate': 'adaptive', 'max_iter': 237, 'solver': 'adam', 'shuffle': True, 'warm_start': False, 'momentum': 0, 'nesterovs_momentum': False, 'batch_size': 118, 'fitness': 0.64}, {'activation': 'relu', 'hidden_layer_sizes': (166, 93, 22), 'learning_rate': 'adaptive', 'max_iter': 232, 'solver': 'adam', 'shuffle': True, 'warm_start': True, 'momentum': 0, 'nesterovs_momentum': False, 'batch_size': 127, 'fitness': 0.64}, {'activation': 'tanh', 'hidden_layer_sizes': (142, 97, 49), 'learning_rate': 'constant', 'max_iter': 230, 'solver': 'adam', 'shuffle': True, 'warm_start': False, 'momentum': 0, 'nesterovs_momentum': True, 'batch_size': 273, 'fitness': 0.6395}, {'activation': 'tanh', 'hidden_layer_sizes': (112, 52, 33), 'learning_rate': 'invscaling', 'max_iter': 155, 'solver': 'lbfgs', 'shuffle': True, 'warm_start': True, 'momentum': 0, 'nesterovs_momentum': False, 'batch_size': 116, 'fitness': 0.638}, {'activation': 'tanh', 'hidden_layer_sizes': (165, 63, 38), 'learning_rate': 'constant', 'max_iter': 209, 'solver': 'lbfgs', 'shuffle': True, 'warm_start': True, 'momentum': 0, 'nesterovs_momentum': False, 'batch_size': 187, 'fitness': 0.6315}, {'activation': 'tanh', 'hidden_layer_sizes': (147, 79, 26), 'learning_rate': 'invscaling', 'max_iter': 248, 'solver': 'lbfgs', 'shuffle': False, 'warm_start': False, 'momentum': 0, 'nesterovs_momentum': False, 'batch_size': 221, 'fitness': 0.63}]\n",
            "generation: \n",
            "1\n"
          ],
          "name": "stdout"
        },
        {
          "output_type": "stream",
          "text": [
            "/usr/local/lib/python3.7/dist-packages/sklearn/neural_network/_multilayer_perceptron.py:571: ConvergenceWarning: Stochastic Optimizer: Maximum iterations (129) reached and the optimization hasn't converged yet.\n",
            "  % self.max_iter, ConvergenceWarning)\n"
          ],
          "name": "stderr"
        },
        {
          "output_type": "stream",
          "text": [
            "[{'activation': 'logistic', 'hidden_layer_sizes': (143, 68, 31), 'learning_rate': 'constant', 'max_iter': 144, 'solver': 'lbfgs', 'shuffle': True, 'warm_start': True, 'momentum': 0, 'nesterovs_momentum': False, 'batch_size': 105, 'fitness': 0.71}, {'activation': 'relu', 'hidden_layer_sizes': (162, 66, 15), 'learning_rate': 'constant', 'max_iter': 156, 'solver': 'sgd', 'shuffle': True, 'warm_start': False, 'momentum': 0, 'nesterovs_momentum': False, 'batch_size': 103, 'fitness': 0.7035}, {'activation': 'logistic', 'hidden_layer_sizes': (107, 86, 50), 'learning_rate': 'adaptive', 'max_iter': 189, 'solver': 'lbfgs', 'shuffle': True, 'warm_start': True, 'momentum': 0, 'nesterovs_momentum': False, 'batch_size': 125, 'fitness': 0.702}, {'activation': 'tanh', 'hidden_layer_sizes': (145, 63, 36), 'learning_rate': 'constant', 'max_iter': 206, 'solver': 'sgd', 'shuffle': True, 'warm_start': False, 'momentum': 0, 'nesterovs_momentum': True, 'batch_size': 228, 'fitness': 0.699}, {'activation': 'identity', 'hidden_layer_sizes': (105, 62, 34), 'learning_rate': 'adaptive', 'max_iter': 234, 'solver': 'adam', 'shuffle': True, 'warm_start': False, 'momentum': 0, 'nesterovs_momentum': False, 'batch_size': 255, 'fitness': 0.6985}, {'activation': 'tanh', 'hidden_layer_sizes': (159, 55, 33), 'learning_rate': 'constant', 'max_iter': 170, 'solver': 'sgd', 'shuffle': False, 'warm_start': False, 'momentum': 0, 'nesterovs_momentum': False, 'batch_size': 239, 'fitness': 0.698}, {'activation': 'identity', 'hidden_layer_sizes': (157, 56, 38), 'learning_rate': 'constant', 'max_iter': 237, 'solver': 'sgd', 'shuffle': False, 'warm_start': False, 'momentum': 0, 'nesterovs_momentum': False, 'batch_size': 194, 'fitness': 0.698}, {'activation': 'identity', 'hidden_layer_sizes': (104, 70, 49), 'learning_rate': 'invscaling', 'max_iter': 156, 'solver': 'adam', 'shuffle': True, 'warm_start': False, 'momentum': 0, 'nesterovs_momentum': False, 'batch_size': 198, 'fitness': 0.6975}, {'activation': 'identity', 'hidden_layer_sizes': (188, 63, 22), 'learning_rate': 'constant', 'max_iter': 129, 'solver': 'sgd', 'shuffle': False, 'warm_start': False, 'momentum': 0, 'nesterovs_momentum': False, 'batch_size': 156, 'fitness': 0.6975}, {'activation': 'identity', 'hidden_layer_sizes': (188, 63, 22), 'learning_rate': 'adaptive', 'max_iter': 129, 'solver': 'sgd', 'shuffle': False, 'warm_start': True, 'momentum': 0, 'nesterovs_momentum': False, 'batch_size': 156, 'fitness': 0.6975}, {'activation': 'identity', 'hidden_layer_sizes': (118, 77, 29), 'learning_rate': 'constant', 'max_iter': 157, 'solver': 'lbfgs', 'shuffle': True, 'warm_start': True, 'momentum': 0, 'nesterovs_momentum': True, 'batch_size': 253, 'fitness': 0.697}, {'activation': 'identity', 'hidden_layer_sizes': (159, 79, 13), 'learning_rate': 'constant', 'max_iter': 163, 'solver': 'lbfgs', 'shuffle': False, 'warm_start': True, 'momentum': 0, 'nesterovs_momentum': True, 'batch_size': 187, 'fitness': 0.697}, {'activation': 'identity', 'hidden_layer_sizes': (107, 86, 50), 'learning_rate': 'adaptive', 'max_iter': 189, 'solver': 'adam', 'shuffle': True, 'warm_start': False, 'momentum': 0, 'nesterovs_momentum': False, 'batch_size': 125, 'fitness': 0.697}, {'activation': 'identity', 'hidden_layer_sizes': (188, 63, 22), 'learning_rate': 'constant', 'max_iter': 129, 'solver': 'sgd', 'shuffle': False, 'warm_start': False, 'momentum': 0, 'nesterovs_momentum': False, 'batch_size': 156, 'fitness': 0.697}, {'activation': 'logistic', 'hidden_layer_sizes': (101, 100, 25), 'learning_rate': 'invscaling', 'max_iter': 205, 'solver': 'adam', 'shuffle': True, 'warm_start': True, 'momentum': 0, 'nesterovs_momentum': True, 'batch_size': 146, 'fitness': 0.6965}, {'activation': 'logistic', 'hidden_layer_sizes': (188, 67, 27), 'learning_rate': 'adaptive', 'max_iter': 141, 'solver': 'lbfgs', 'shuffle': True, 'warm_start': True, 'momentum': 0, 'nesterovs_momentum': True, 'batch_size': 265, 'fitness': 0.6955}, {'activation': 'identity', 'hidden_layer_sizes': (182, 83, 14), 'learning_rate': 'invscaling', 'max_iter': 134, 'solver': 'adam', 'shuffle': True, 'warm_start': True, 'momentum': 0, 'nesterovs_momentum': True, 'batch_size': 280, 'fitness': 0.695}, {'activation': 'logistic', 'hidden_layer_sizes': (129, 54, 48), 'learning_rate': 'constant', 'max_iter': 215, 'solver': 'lbfgs', 'shuffle': True, 'warm_start': True, 'momentum': 0, 'nesterovs_momentum': True, 'batch_size': 110, 'fitness': 0.695}, {'activation': 'identity', 'hidden_layer_sizes': (198, 58, 37), 'learning_rate': 'invscaling', 'max_iter': 194, 'solver': 'adam', 'shuffle': False, 'warm_start': False, 'momentum': 0, 'nesterovs_momentum': True, 'batch_size': 162, 'fitness': 0.6945}, {'activation': 'relu', 'hidden_layer_sizes': (185, 99, 24), 'learning_rate': 'constant', 'max_iter': 175, 'solver': 'sgd', 'shuffle': True, 'warm_start': True, 'momentum': 0, 'nesterovs_momentum': True, 'batch_size': 224, 'fitness': 0.694}, {'activation': 'logistic', 'hidden_layer_sizes': (103, 70, 31), 'learning_rate': 'adaptive', 'max_iter': 107, 'solver': 'adam', 'shuffle': False, 'warm_start': True, 'momentum': 0, 'nesterovs_momentum': True, 'batch_size': 162, 'fitness': 0.693}, {'activation': 'logistic', 'hidden_layer_sizes': (107, 86, 50), 'learning_rate': 'constant', 'max_iter': 234, 'solver': 'lbfgs', 'shuffle': True, 'warm_start': False, 'momentum': 0, 'nesterovs_momentum': False, 'batch_size': 125, 'fitness': 0.692}, {'activation': 'relu', 'hidden_layer_sizes': (110, 66, 13), 'learning_rate': 'invscaling', 'max_iter': 151, 'solver': 'adam', 'shuffle': False, 'warm_start': True, 'momentum': 0, 'nesterovs_momentum': False, 'batch_size': 222, 'fitness': 0.68}, {'activation': 'relu', 'hidden_layer_sizes': (184, 65, 12), 'learning_rate': 'constant', 'max_iter': 113, 'solver': 'adam', 'shuffle': False, 'warm_start': True, 'momentum': 0, 'nesterovs_momentum': True, 'batch_size': 106, 'fitness': 0.666}, {'activation': 'relu', 'hidden_layer_sizes': (104, 69, 17), 'learning_rate': 'constant', 'max_iter': 221, 'solver': 'adam', 'shuffle': True, 'warm_start': True, 'momentum': 0, 'nesterovs_momentum': True, 'batch_size': 147, 'fitness': 0.6465}, {'activation': 'tanh', 'hidden_layer_sizes': (101, 62, 22), 'learning_rate': 'adaptive', 'max_iter': 169, 'solver': 'lbfgs', 'shuffle': False, 'warm_start': True, 'momentum': 0, 'nesterovs_momentum': False, 'batch_size': 289, 'fitness': 0.644}, {'activation': 'tanh', 'hidden_layer_sizes': (161, 67, 23), 'learning_rate': 'adaptive', 'max_iter': 237, 'solver': 'adam', 'shuffle': True, 'warm_start': False, 'momentum': 0, 'nesterovs_momentum': False, 'batch_size': 118, 'fitness': 0.64}, {'activation': 'relu', 'hidden_layer_sizes': (166, 93, 22), 'learning_rate': 'adaptive', 'max_iter': 232, 'solver': 'adam', 'shuffle': True, 'warm_start': True, 'momentum': 0, 'nesterovs_momentum': False, 'batch_size': 127, 'fitness': 0.64}, {'activation': 'tanh', 'hidden_layer_sizes': (142, 97, 49), 'learning_rate': 'constant', 'max_iter': 230, 'solver': 'adam', 'shuffle': True, 'warm_start': False, 'momentum': 0, 'nesterovs_momentum': True, 'batch_size': 273, 'fitness': 0.6395}, {'activation': 'tanh', 'hidden_layer_sizes': (112, 52, 33), 'learning_rate': 'invscaling', 'max_iter': 155, 'solver': 'lbfgs', 'shuffle': True, 'warm_start': True, 'momentum': 0, 'nesterovs_momentum': False, 'batch_size': 116, 'fitness': 0.638}]\n",
            "generation: \n",
            "2\n"
          ],
          "name": "stdout"
        },
        {
          "output_type": "stream",
          "text": [
            "/usr/local/lib/python3.7/dist-packages/sklearn/neural_network/_multilayer_perceptron.py:470: ConvergenceWarning: lbfgs failed to converge (status=1):\n",
            "STOP: TOTAL NO. of ITERATIONS REACHED LIMIT.\n",
            "\n",
            "Increase the number of iterations (max_iter) or scale the data as shown in:\n",
            "    https://scikit-learn.org/stable/modules/preprocessing.html\n",
            "  self.n_iter_ = _check_optimize_result(\"lbfgs\", opt_res, self.max_iter)\n"
          ],
          "name": "stderr"
        },
        {
          "output_type": "stream",
          "text": [
            "[{'activation': 'logistic', 'hidden_layer_sizes': (143, 68, 31), 'learning_rate': 'constant', 'max_iter': 144, 'solver': 'lbfgs', 'shuffle': True, 'warm_start': True, 'momentum': 0, 'nesterovs_momentum': False, 'batch_size': 105, 'fitness': 0.71}, {'activation': 'relu', 'hidden_layer_sizes': (162, 66, 15), 'learning_rate': 'constant', 'max_iter': 156, 'solver': 'sgd', 'shuffle': True, 'warm_start': False, 'momentum': 0, 'nesterovs_momentum': False, 'batch_size': 103, 'fitness': 0.7035}, {'activation': 'logistic', 'hidden_layer_sizes': (107, 86, 50), 'learning_rate': 'adaptive', 'max_iter': 189, 'solver': 'lbfgs', 'shuffle': True, 'warm_start': True, 'momentum': 0, 'nesterovs_momentum': False, 'batch_size': 125, 'fitness': 0.702}, {'activation': 'tanh', 'hidden_layer_sizes': (145, 63, 36), 'learning_rate': 'constant', 'max_iter': 206, 'solver': 'sgd', 'shuffle': True, 'warm_start': False, 'momentum': 0, 'nesterovs_momentum': True, 'batch_size': 228, 'fitness': 0.699}, {'activation': 'identity', 'hidden_layer_sizes': (105, 62, 34), 'learning_rate': 'adaptive', 'max_iter': 234, 'solver': 'adam', 'shuffle': True, 'warm_start': False, 'momentum': 0, 'nesterovs_momentum': False, 'batch_size': 255, 'fitness': 0.6985}, {'activation': 'tanh', 'hidden_layer_sizes': (159, 55, 33), 'learning_rate': 'constant', 'max_iter': 170, 'solver': 'sgd', 'shuffle': False, 'warm_start': False, 'momentum': 0, 'nesterovs_momentum': False, 'batch_size': 239, 'fitness': 0.698}, {'activation': 'identity', 'hidden_layer_sizes': (157, 56, 38), 'learning_rate': 'constant', 'max_iter': 237, 'solver': 'sgd', 'shuffle': False, 'warm_start': False, 'momentum': 0, 'nesterovs_momentum': False, 'batch_size': 194, 'fitness': 0.698}, {'activation': 'identity', 'hidden_layer_sizes': (104, 70, 49), 'learning_rate': 'invscaling', 'max_iter': 156, 'solver': 'adam', 'shuffle': True, 'warm_start': False, 'momentum': 0, 'nesterovs_momentum': False, 'batch_size': 198, 'fitness': 0.6975}, {'activation': 'identity', 'hidden_layer_sizes': (188, 63, 22), 'learning_rate': 'constant', 'max_iter': 129, 'solver': 'sgd', 'shuffle': False, 'warm_start': False, 'momentum': 0, 'nesterovs_momentum': False, 'batch_size': 156, 'fitness': 0.6975}, {'activation': 'identity', 'hidden_layer_sizes': (188, 63, 22), 'learning_rate': 'adaptive', 'max_iter': 129, 'solver': 'sgd', 'shuffle': False, 'warm_start': True, 'momentum': 0, 'nesterovs_momentum': False, 'batch_size': 156, 'fitness': 0.6975}, {'activation': 'logistic', 'hidden_layer_sizes': (107, 86, 50), 'learning_rate': 'adaptive', 'max_iter': 189, 'solver': 'lbfgs', 'shuffle': True, 'warm_start': True, 'momentum': 0, 'nesterovs_momentum': False, 'batch_size': 125, 'fitness': 0.6975}, {'activation': 'identity', 'hidden_layer_sizes': (118, 77, 29), 'learning_rate': 'constant', 'max_iter': 157, 'solver': 'lbfgs', 'shuffle': True, 'warm_start': True, 'momentum': 0, 'nesterovs_momentum': True, 'batch_size': 253, 'fitness': 0.697}, {'activation': 'identity', 'hidden_layer_sizes': (159, 79, 13), 'learning_rate': 'constant', 'max_iter': 163, 'solver': 'lbfgs', 'shuffle': False, 'warm_start': True, 'momentum': 0, 'nesterovs_momentum': True, 'batch_size': 187, 'fitness': 0.697}, {'activation': 'identity', 'hidden_layer_sizes': (107, 86, 50), 'learning_rate': 'adaptive', 'max_iter': 189, 'solver': 'adam', 'shuffle': True, 'warm_start': False, 'momentum': 0, 'nesterovs_momentum': False, 'batch_size': 125, 'fitness': 0.697}, {'activation': 'identity', 'hidden_layer_sizes': (188, 63, 22), 'learning_rate': 'constant', 'max_iter': 129, 'solver': 'sgd', 'shuffle': False, 'warm_start': False, 'momentum': 0, 'nesterovs_momentum': False, 'batch_size': 156, 'fitness': 0.697}, {'activation': 'logistic', 'hidden_layer_sizes': (101, 100, 25), 'learning_rate': 'invscaling', 'max_iter': 205, 'solver': 'adam', 'shuffle': True, 'warm_start': True, 'momentum': 0, 'nesterovs_momentum': True, 'batch_size': 146, 'fitness': 0.6965}, {'activation': 'logistic', 'hidden_layer_sizes': (188, 67, 27), 'learning_rate': 'adaptive', 'max_iter': 141, 'solver': 'lbfgs', 'shuffle': True, 'warm_start': True, 'momentum': 0, 'nesterovs_momentum': True, 'batch_size': 265, 'fitness': 0.6955}, {'activation': 'identity', 'hidden_layer_sizes': (182, 83, 14), 'learning_rate': 'invscaling', 'max_iter': 134, 'solver': 'adam', 'shuffle': True, 'warm_start': True, 'momentum': 0, 'nesterovs_momentum': True, 'batch_size': 280, 'fitness': 0.695}, {'activation': 'logistic', 'hidden_layer_sizes': (129, 54, 48), 'learning_rate': 'constant', 'max_iter': 215, 'solver': 'lbfgs', 'shuffle': True, 'warm_start': True, 'momentum': 0, 'nesterovs_momentum': True, 'batch_size': 110, 'fitness': 0.695}, {'activation': 'identity', 'hidden_layer_sizes': (198, 58, 37), 'learning_rate': 'invscaling', 'max_iter': 194, 'solver': 'adam', 'shuffle': False, 'warm_start': False, 'momentum': 0, 'nesterovs_momentum': True, 'batch_size': 162, 'fitness': 0.6945}, {'activation': 'relu', 'hidden_layer_sizes': (185, 99, 24), 'learning_rate': 'constant', 'max_iter': 175, 'solver': 'sgd', 'shuffle': True, 'warm_start': True, 'momentum': 0, 'nesterovs_momentum': True, 'batch_size': 224, 'fitness': 0.694}, {'activation': 'logistic', 'hidden_layer_sizes': (103, 70, 31), 'learning_rate': 'adaptive', 'max_iter': 107, 'solver': 'adam', 'shuffle': False, 'warm_start': True, 'momentum': 0, 'nesterovs_momentum': True, 'batch_size': 162, 'fitness': 0.693}, {'activation': 'logistic', 'hidden_layer_sizes': (107, 86, 50), 'learning_rate': 'constant', 'max_iter': 234, 'solver': 'lbfgs', 'shuffle': True, 'warm_start': False, 'momentum': 0, 'nesterovs_momentum': False, 'batch_size': 125, 'fitness': 0.692}, {'activation': 'relu', 'hidden_layer_sizes': (110, 66, 13), 'learning_rate': 'invscaling', 'max_iter': 151, 'solver': 'adam', 'shuffle': False, 'warm_start': True, 'momentum': 0, 'nesterovs_momentum': False, 'batch_size': 222, 'fitness': 0.68}, {'activation': 'relu', 'hidden_layer_sizes': (184, 65, 12), 'learning_rate': 'constant', 'max_iter': 113, 'solver': 'adam', 'shuffle': False, 'warm_start': True, 'momentum': 0, 'nesterovs_momentum': True, 'batch_size': 106, 'fitness': 0.666}, {'activation': 'relu', 'hidden_layer_sizes': (104, 69, 17), 'learning_rate': 'constant', 'max_iter': 221, 'solver': 'adam', 'shuffle': True, 'warm_start': True, 'momentum': 0, 'nesterovs_momentum': True, 'batch_size': 147, 'fitness': 0.6465}, {'activation': 'tanh', 'hidden_layer_sizes': (101, 62, 22), 'learning_rate': 'adaptive', 'max_iter': 169, 'solver': 'lbfgs', 'shuffle': False, 'warm_start': True, 'momentum': 0, 'nesterovs_momentum': False, 'batch_size': 289, 'fitness': 0.644}, {'activation': 'tanh', 'hidden_layer_sizes': (161, 67, 23), 'learning_rate': 'adaptive', 'max_iter': 237, 'solver': 'adam', 'shuffle': True, 'warm_start': False, 'momentum': 0, 'nesterovs_momentum': False, 'batch_size': 118, 'fitness': 0.64}, {'activation': 'relu', 'hidden_layer_sizes': (166, 93, 22), 'learning_rate': 'adaptive', 'max_iter': 232, 'solver': 'adam', 'shuffle': True, 'warm_start': True, 'momentum': 0, 'nesterovs_momentum': False, 'batch_size': 127, 'fitness': 0.64}, {'activation': 'tanh', 'hidden_layer_sizes': (142, 97, 49), 'learning_rate': 'constant', 'max_iter': 230, 'solver': 'adam', 'shuffle': True, 'warm_start': False, 'momentum': 0, 'nesterovs_momentum': True, 'batch_size': 273, 'fitness': 0.6395}]\n",
            "generation: \n",
            "3\n"
          ],
          "name": "stdout"
        },
        {
          "output_type": "stream",
          "text": [
            "/usr/local/lib/python3.7/dist-packages/sklearn/neural_network/_multilayer_perceptron.py:571: ConvergenceWarning: Stochastic Optimizer: Maximum iterations (189) reached and the optimization hasn't converged yet.\n",
            "  % self.max_iter, ConvergenceWarning)\n",
            "/usr/local/lib/python3.7/dist-packages/sklearn/neural_network/_multilayer_perceptron.py:571: ConvergenceWarning: Stochastic Optimizer: Maximum iterations (156) reached and the optimization hasn't converged yet.\n",
            "  % self.max_iter, ConvergenceWarning)\n"
          ],
          "name": "stderr"
        },
        {
          "output_type": "stream",
          "text": [
            "[{'activation': 'logistic', 'hidden_layer_sizes': (143, 68, 31), 'learning_rate': 'constant', 'max_iter': 144, 'solver': 'lbfgs', 'shuffle': True, 'warm_start': True, 'momentum': 0, 'nesterovs_momentum': False, 'batch_size': 105, 'fitness': 0.71}, {'activation': 'relu', 'hidden_layer_sizes': (162, 66, 15), 'learning_rate': 'constant', 'max_iter': 156, 'solver': 'sgd', 'shuffle': True, 'warm_start': False, 'momentum': 0, 'nesterovs_momentum': False, 'batch_size': 103, 'fitness': 0.7035}, {'activation': 'logistic', 'hidden_layer_sizes': (107, 86, 50), 'learning_rate': 'adaptive', 'max_iter': 189, 'solver': 'lbfgs', 'shuffle': True, 'warm_start': True, 'momentum': 0, 'nesterovs_momentum': False, 'batch_size': 125, 'fitness': 0.702}, {'activation': 'logistic', 'hidden_layer_sizes': (104, 86, 49), 'learning_rate': 'constant', 'max_iter': 189, 'solver': 'adam', 'shuffle': True, 'warm_start': True, 'momentum': 0, 'nesterovs_momentum': False, 'batch_size': 198, 'fitness': 0.6995}, {'activation': 'tanh', 'hidden_layer_sizes': (145, 63, 36), 'learning_rate': 'constant', 'max_iter': 206, 'solver': 'sgd', 'shuffle': True, 'warm_start': False, 'momentum': 0, 'nesterovs_momentum': True, 'batch_size': 228, 'fitness': 0.699}, {'activation': 'logistic', 'hidden_layer_sizes': (107, 86, 49), 'learning_rate': 'adaptive', 'max_iter': 156, 'solver': 'adam', 'shuffle': True, 'warm_start': False, 'momentum': 0, 'nesterovs_momentum': False, 'batch_size': 198, 'fitness': 0.699}, {'activation': 'identity', 'hidden_layer_sizes': (105, 62, 34), 'learning_rate': 'adaptive', 'max_iter': 234, 'solver': 'adam', 'shuffle': True, 'warm_start': False, 'momentum': 0, 'nesterovs_momentum': False, 'batch_size': 255, 'fitness': 0.6985}, {'activation': 'tanh', 'hidden_layer_sizes': (159, 55, 33), 'learning_rate': 'constant', 'max_iter': 170, 'solver': 'sgd', 'shuffle': False, 'warm_start': False, 'momentum': 0, 'nesterovs_momentum': False, 'batch_size': 239, 'fitness': 0.698}, {'activation': 'identity', 'hidden_layer_sizes': (157, 56, 38), 'learning_rate': 'constant', 'max_iter': 237, 'solver': 'sgd', 'shuffle': False, 'warm_start': False, 'momentum': 0, 'nesterovs_momentum': False, 'batch_size': 194, 'fitness': 0.698}, {'activation': 'identity', 'hidden_layer_sizes': (104, 70, 49), 'learning_rate': 'invscaling', 'max_iter': 156, 'solver': 'adam', 'shuffle': True, 'warm_start': False, 'momentum': 0, 'nesterovs_momentum': False, 'batch_size': 198, 'fitness': 0.6975}, {'activation': 'identity', 'hidden_layer_sizes': (188, 63, 22), 'learning_rate': 'constant', 'max_iter': 129, 'solver': 'sgd', 'shuffle': False, 'warm_start': False, 'momentum': 0, 'nesterovs_momentum': False, 'batch_size': 156, 'fitness': 0.6975}, {'activation': 'identity', 'hidden_layer_sizes': (188, 63, 22), 'learning_rate': 'adaptive', 'max_iter': 129, 'solver': 'sgd', 'shuffle': False, 'warm_start': True, 'momentum': 0, 'nesterovs_momentum': False, 'batch_size': 156, 'fitness': 0.6975}, {'activation': 'logistic', 'hidden_layer_sizes': (107, 86, 50), 'learning_rate': 'adaptive', 'max_iter': 189, 'solver': 'lbfgs', 'shuffle': True, 'warm_start': True, 'momentum': 0, 'nesterovs_momentum': False, 'batch_size': 125, 'fitness': 0.6975}, {'activation': 'identity', 'hidden_layer_sizes': (118, 77, 29), 'learning_rate': 'constant', 'max_iter': 157, 'solver': 'lbfgs', 'shuffle': True, 'warm_start': True, 'momentum': 0, 'nesterovs_momentum': True, 'batch_size': 253, 'fitness': 0.697}, {'activation': 'identity', 'hidden_layer_sizes': (159, 79, 13), 'learning_rate': 'constant', 'max_iter': 163, 'solver': 'lbfgs', 'shuffle': False, 'warm_start': True, 'momentum': 0, 'nesterovs_momentum': True, 'batch_size': 187, 'fitness': 0.697}, {'activation': 'identity', 'hidden_layer_sizes': (107, 86, 50), 'learning_rate': 'adaptive', 'max_iter': 189, 'solver': 'adam', 'shuffle': True, 'warm_start': False, 'momentum': 0, 'nesterovs_momentum': False, 'batch_size': 125, 'fitness': 0.697}, {'activation': 'identity', 'hidden_layer_sizes': (188, 63, 22), 'learning_rate': 'constant', 'max_iter': 129, 'solver': 'sgd', 'shuffle': False, 'warm_start': False, 'momentum': 0, 'nesterovs_momentum': False, 'batch_size': 156, 'fitness': 0.697}, {'activation': 'logistic', 'hidden_layer_sizes': (101, 100, 25), 'learning_rate': 'invscaling', 'max_iter': 205, 'solver': 'adam', 'shuffle': True, 'warm_start': True, 'momentum': 0, 'nesterovs_momentum': True, 'batch_size': 146, 'fitness': 0.6965}, {'activation': 'logistic', 'hidden_layer_sizes': (188, 67, 27), 'learning_rate': 'adaptive', 'max_iter': 141, 'solver': 'lbfgs', 'shuffle': True, 'warm_start': True, 'momentum': 0, 'nesterovs_momentum': True, 'batch_size': 265, 'fitness': 0.6955}, {'activation': 'identity', 'hidden_layer_sizes': (182, 83, 14), 'learning_rate': 'invscaling', 'max_iter': 134, 'solver': 'adam', 'shuffle': True, 'warm_start': True, 'momentum': 0, 'nesterovs_momentum': True, 'batch_size': 280, 'fitness': 0.695}, {'activation': 'logistic', 'hidden_layer_sizes': (129, 54, 48), 'learning_rate': 'constant', 'max_iter': 215, 'solver': 'lbfgs', 'shuffle': True, 'warm_start': True, 'momentum': 0, 'nesterovs_momentum': True, 'batch_size': 110, 'fitness': 0.695}, {'activation': 'identity', 'hidden_layer_sizes': (198, 58, 37), 'learning_rate': 'invscaling', 'max_iter': 194, 'solver': 'adam', 'shuffle': False, 'warm_start': False, 'momentum': 0, 'nesterovs_momentum': True, 'batch_size': 162, 'fitness': 0.6945}, {'activation': 'relu', 'hidden_layer_sizes': (185, 99, 24), 'learning_rate': 'constant', 'max_iter': 175, 'solver': 'sgd', 'shuffle': True, 'warm_start': True, 'momentum': 0, 'nesterovs_momentum': True, 'batch_size': 224, 'fitness': 0.694}, {'activation': 'logistic', 'hidden_layer_sizes': (103, 70, 31), 'learning_rate': 'adaptive', 'max_iter': 107, 'solver': 'adam', 'shuffle': False, 'warm_start': True, 'momentum': 0, 'nesterovs_momentum': True, 'batch_size': 162, 'fitness': 0.693}, {'activation': 'logistic', 'hidden_layer_sizes': (107, 86, 50), 'learning_rate': 'constant', 'max_iter': 234, 'solver': 'lbfgs', 'shuffle': True, 'warm_start': False, 'momentum': 0, 'nesterovs_momentum': False, 'batch_size': 125, 'fitness': 0.692}, {'activation': 'relu', 'hidden_layer_sizes': (110, 66, 13), 'learning_rate': 'invscaling', 'max_iter': 151, 'solver': 'adam', 'shuffle': False, 'warm_start': True, 'momentum': 0, 'nesterovs_momentum': False, 'batch_size': 222, 'fitness': 0.68}, {'activation': 'relu', 'hidden_layer_sizes': (184, 65, 12), 'learning_rate': 'constant', 'max_iter': 113, 'solver': 'adam', 'shuffle': False, 'warm_start': True, 'momentum': 0, 'nesterovs_momentum': True, 'batch_size': 106, 'fitness': 0.666}, {'activation': 'relu', 'hidden_layer_sizes': (104, 69, 17), 'learning_rate': 'constant', 'max_iter': 221, 'solver': 'adam', 'shuffle': True, 'warm_start': True, 'momentum': 0, 'nesterovs_momentum': True, 'batch_size': 147, 'fitness': 0.6465}, {'activation': 'tanh', 'hidden_layer_sizes': (101, 62, 22), 'learning_rate': 'adaptive', 'max_iter': 169, 'solver': 'lbfgs', 'shuffle': False, 'warm_start': True, 'momentum': 0, 'nesterovs_momentum': False, 'batch_size': 289, 'fitness': 0.644}, {'activation': 'tanh', 'hidden_layer_sizes': (161, 67, 23), 'learning_rate': 'adaptive', 'max_iter': 237, 'solver': 'adam', 'shuffle': True, 'warm_start': False, 'momentum': 0, 'nesterovs_momentum': False, 'batch_size': 118, 'fitness': 0.64}]\n",
            "generation: \n",
            "4\n"
          ],
          "name": "stdout"
        },
        {
          "output_type": "stream",
          "text": [
            "/usr/local/lib/python3.7/dist-packages/sklearn/neural_network/_multilayer_perceptron.py:571: ConvergenceWarning: Stochastic Optimizer: Maximum iterations (156) reached and the optimization hasn't converged yet.\n",
            "  % self.max_iter, ConvergenceWarning)\n",
            "/usr/local/lib/python3.7/dist-packages/sklearn/neural_network/_multilayer_perceptron.py:470: ConvergenceWarning: lbfgs failed to converge (status=1):\n",
            "STOP: TOTAL NO. of ITERATIONS REACHED LIMIT.\n",
            "\n",
            "Increase the number of iterations (max_iter) or scale the data as shown in:\n",
            "    https://scikit-learn.org/stable/modules/preprocessing.html\n",
            "  self.n_iter_ = _check_optimize_result(\"lbfgs\", opt_res, self.max_iter)\n"
          ],
          "name": "stderr"
        },
        {
          "output_type": "stream",
          "text": [
            "[{'activation': 'logistic', 'hidden_layer_sizes': (143, 68, 31), 'learning_rate': 'constant', 'max_iter': 144, 'solver': 'lbfgs', 'shuffle': True, 'warm_start': True, 'momentum': 0, 'nesterovs_momentum': False, 'batch_size': 105, 'fitness': 0.71}, {'activation': 'logistic', 'hidden_layer_sizes': (162, 86, 50), 'learning_rate': 'constant', 'max_iter': 189, 'solver': 'lbfgs', 'shuffle': True, 'warm_start': False, 'momentum': 0, 'nesterovs_momentum': False, 'batch_size': 103, 'fitness': 0.706}, {'activation': 'relu', 'hidden_layer_sizes': (162, 66, 15), 'learning_rate': 'constant', 'max_iter': 156, 'solver': 'sgd', 'shuffle': True, 'warm_start': False, 'momentum': 0, 'nesterovs_momentum': False, 'batch_size': 103, 'fitness': 0.7035}, {'activation': 'logistic', 'hidden_layer_sizes': (107, 86, 50), 'learning_rate': 'adaptive', 'max_iter': 189, 'solver': 'lbfgs', 'shuffle': True, 'warm_start': True, 'momentum': 0, 'nesterovs_momentum': False, 'batch_size': 125, 'fitness': 0.702}, {'activation': 'logistic', 'hidden_layer_sizes': (104, 86, 49), 'learning_rate': 'constant', 'max_iter': 189, 'solver': 'adam', 'shuffle': True, 'warm_start': True, 'momentum': 0, 'nesterovs_momentum': False, 'batch_size': 198, 'fitness': 0.6995}, {'activation': 'tanh', 'hidden_layer_sizes': (145, 63, 36), 'learning_rate': 'constant', 'max_iter': 206, 'solver': 'sgd', 'shuffle': True, 'warm_start': False, 'momentum': 0, 'nesterovs_momentum': True, 'batch_size': 228, 'fitness': 0.699}, {'activation': 'logistic', 'hidden_layer_sizes': (107, 86, 49), 'learning_rate': 'adaptive', 'max_iter': 156, 'solver': 'adam', 'shuffle': True, 'warm_start': False, 'momentum': 0, 'nesterovs_momentum': False, 'batch_size': 198, 'fitness': 0.699}, {'activation': 'identity', 'hidden_layer_sizes': (105, 62, 34), 'learning_rate': 'adaptive', 'max_iter': 234, 'solver': 'adam', 'shuffle': True, 'warm_start': False, 'momentum': 0, 'nesterovs_momentum': False, 'batch_size': 255, 'fitness': 0.6985}, {'activation': 'tanh', 'hidden_layer_sizes': (159, 55, 33), 'learning_rate': 'constant', 'max_iter': 170, 'solver': 'sgd', 'shuffle': False, 'warm_start': False, 'momentum': 0, 'nesterovs_momentum': False, 'batch_size': 239, 'fitness': 0.698}, {'activation': 'identity', 'hidden_layer_sizes': (157, 56, 38), 'learning_rate': 'constant', 'max_iter': 237, 'solver': 'sgd', 'shuffle': False, 'warm_start': False, 'momentum': 0, 'nesterovs_momentum': False, 'batch_size': 194, 'fitness': 0.698}, {'activation': 'identity', 'hidden_layer_sizes': (104, 70, 49), 'learning_rate': 'invscaling', 'max_iter': 156, 'solver': 'adam', 'shuffle': True, 'warm_start': False, 'momentum': 0, 'nesterovs_momentum': False, 'batch_size': 198, 'fitness': 0.6975}, {'activation': 'identity', 'hidden_layer_sizes': (188, 63, 22), 'learning_rate': 'constant', 'max_iter': 129, 'solver': 'sgd', 'shuffle': False, 'warm_start': False, 'momentum': 0, 'nesterovs_momentum': False, 'batch_size': 156, 'fitness': 0.6975}, {'activation': 'identity', 'hidden_layer_sizes': (188, 63, 22), 'learning_rate': 'adaptive', 'max_iter': 129, 'solver': 'sgd', 'shuffle': False, 'warm_start': True, 'momentum': 0, 'nesterovs_momentum': False, 'batch_size': 156, 'fitness': 0.6975}, {'activation': 'logistic', 'hidden_layer_sizes': (107, 86, 50), 'learning_rate': 'adaptive', 'max_iter': 189, 'solver': 'lbfgs', 'shuffle': True, 'warm_start': True, 'momentum': 0, 'nesterovs_momentum': False, 'batch_size': 125, 'fitness': 0.6975}, {'activation': 'identity', 'hidden_layer_sizes': (118, 77, 29), 'learning_rate': 'constant', 'max_iter': 157, 'solver': 'lbfgs', 'shuffle': True, 'warm_start': True, 'momentum': 0, 'nesterovs_momentum': True, 'batch_size': 253, 'fitness': 0.697}, {'activation': 'identity', 'hidden_layer_sizes': (159, 79, 13), 'learning_rate': 'constant', 'max_iter': 163, 'solver': 'lbfgs', 'shuffle': False, 'warm_start': True, 'momentum': 0, 'nesterovs_momentum': True, 'batch_size': 187, 'fitness': 0.697}, {'activation': 'identity', 'hidden_layer_sizes': (107, 86, 50), 'learning_rate': 'adaptive', 'max_iter': 189, 'solver': 'adam', 'shuffle': True, 'warm_start': False, 'momentum': 0, 'nesterovs_momentum': False, 'batch_size': 125, 'fitness': 0.697}, {'activation': 'identity', 'hidden_layer_sizes': (188, 63, 22), 'learning_rate': 'constant', 'max_iter': 129, 'solver': 'sgd', 'shuffle': False, 'warm_start': False, 'momentum': 0, 'nesterovs_momentum': False, 'batch_size': 156, 'fitness': 0.697}, {'activation': 'logistic', 'hidden_layer_sizes': (101, 100, 25), 'learning_rate': 'invscaling', 'max_iter': 205, 'solver': 'adam', 'shuffle': True, 'warm_start': True, 'momentum': 0, 'nesterovs_momentum': True, 'batch_size': 146, 'fitness': 0.6965}, {'activation': 'logistic', 'hidden_layer_sizes': (188, 67, 27), 'learning_rate': 'adaptive', 'max_iter': 141, 'solver': 'lbfgs', 'shuffle': True, 'warm_start': True, 'momentum': 0, 'nesterovs_momentum': True, 'batch_size': 265, 'fitness': 0.6955}, {'activation': 'identity', 'hidden_layer_sizes': (182, 83, 14), 'learning_rate': 'invscaling', 'max_iter': 134, 'solver': 'adam', 'shuffle': True, 'warm_start': True, 'momentum': 0, 'nesterovs_momentum': True, 'batch_size': 280, 'fitness': 0.695}, {'activation': 'logistic', 'hidden_layer_sizes': (129, 54, 48), 'learning_rate': 'constant', 'max_iter': 215, 'solver': 'lbfgs', 'shuffle': True, 'warm_start': True, 'momentum': 0, 'nesterovs_momentum': True, 'batch_size': 110, 'fitness': 0.695}, {'activation': 'logistic', 'hidden_layer_sizes': (107, 66, 15), 'learning_rate': 'adaptive', 'max_iter': 156, 'solver': 'adam', 'shuffle': False, 'warm_start': False, 'momentum': 0, 'nesterovs_momentum': False, 'batch_size': 103, 'fitness': 0.695}, {'activation': 'identity', 'hidden_layer_sizes': (198, 58, 37), 'learning_rate': 'invscaling', 'max_iter': 194, 'solver': 'adam', 'shuffle': False, 'warm_start': False, 'momentum': 0, 'nesterovs_momentum': True, 'batch_size': 162, 'fitness': 0.6945}, {'activation': 'relu', 'hidden_layer_sizes': (185, 99, 24), 'learning_rate': 'constant', 'max_iter': 175, 'solver': 'sgd', 'shuffle': True, 'warm_start': True, 'momentum': 0, 'nesterovs_momentum': True, 'batch_size': 224, 'fitness': 0.694}, {'activation': 'logistic', 'hidden_layer_sizes': (103, 70, 31), 'learning_rate': 'adaptive', 'max_iter': 107, 'solver': 'adam', 'shuffle': False, 'warm_start': True, 'momentum': 0, 'nesterovs_momentum': True, 'batch_size': 162, 'fitness': 0.693}, {'activation': 'logistic', 'hidden_layer_sizes': (107, 86, 50), 'learning_rate': 'constant', 'max_iter': 234, 'solver': 'lbfgs', 'shuffle': True, 'warm_start': False, 'momentum': 0, 'nesterovs_momentum': False, 'batch_size': 125, 'fitness': 0.692}, {'activation': 'relu', 'hidden_layer_sizes': (110, 66, 13), 'learning_rate': 'invscaling', 'max_iter': 151, 'solver': 'adam', 'shuffle': False, 'warm_start': True, 'momentum': 0, 'nesterovs_momentum': False, 'batch_size': 222, 'fitness': 0.68}, {'activation': 'relu', 'hidden_layer_sizes': (184, 65, 12), 'learning_rate': 'constant', 'max_iter': 113, 'solver': 'adam', 'shuffle': False, 'warm_start': True, 'momentum': 0, 'nesterovs_momentum': True, 'batch_size': 106, 'fitness': 0.666}, {'activation': 'relu', 'hidden_layer_sizes': (104, 69, 17), 'learning_rate': 'constant', 'max_iter': 221, 'solver': 'adam', 'shuffle': True, 'warm_start': True, 'momentum': 0, 'nesterovs_momentum': True, 'batch_size': 147, 'fitness': 0.6465}]\n",
            "generation: \n",
            "5\n"
          ],
          "name": "stdout"
        }
      ]
    }
  ]
}